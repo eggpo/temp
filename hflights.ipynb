{
 "cells": [
  {
   "cell_type": "code",
   "execution_count": 1,
   "metadata": {},
   "outputs": [
    {
     "name": "stderr",
     "output_type": "stream",
     "text": [
      "\n",
      "Attaching package: 'dplyr'\n",
      "\n",
      "The following objects are masked from 'package:stats':\n",
      "\n",
      "    filter, lag\n",
      "\n",
      "The following objects are masked from 'package:base':\n",
      "\n",
      "    intersect, setdiff, setequal, union\n",
      "\n",
      "Warning message:\n",
      "\"package 'ggplot2' was built under R version 3.4.4\"Warning message:\n",
      "\"package 'reshape2' was built under R version 3.4.4\""
     ]
    }
   ],
   "source": [
    "library(dplyr)\n",
    "library(ggplot2)\n",
    "library(reshape2)\n",
    "data(hflights, package='hflights')"
   ]
  },
  {
   "cell_type": "code",
   "execution_count": 2,
   "metadata": {},
   "outputs": [
    {
     "name": "stdout",
     "output_type": "stream",
     "text": [
      "'data.frame':\t227496 obs. of  21 variables:\n",
      " $ Year             : int  2011 2011 2011 2011 2011 2011 2011 2011 2011 2011 ...\n",
      " $ Month            : int  1 1 1 1 1 1 1 1 1 1 ...\n",
      " $ DayofMonth       : int  1 2 3 4 5 6 7 8 9 10 ...\n",
      " $ DayOfWeek        : int  6 7 1 2 3 4 5 6 7 1 ...\n",
      " $ DepTime          : int  1400 1401 1352 1403 1405 1359 1359 1355 1443 1443 ...\n",
      " $ ArrTime          : int  1500 1501 1502 1513 1507 1503 1509 1454 1554 1553 ...\n",
      " $ UniqueCarrier    : chr  \"AA\" \"AA\" \"AA\" \"AA\" ...\n",
      " $ FlightNum        : int  428 428 428 428 428 428 428 428 428 428 ...\n",
      " $ TailNum          : chr  \"N576AA\" \"N557AA\" \"N541AA\" \"N403AA\" ...\n",
      " $ ActualElapsedTime: int  60 60 70 70 62 64 70 59 71 70 ...\n",
      " $ AirTime          : int  40 45 48 39 44 45 43 40 41 45 ...\n",
      " $ ArrDelay         : int  -10 -9 -8 3 -3 -7 -1 -16 44 43 ...\n",
      " $ DepDelay         : int  0 1 -8 3 5 -1 -1 -5 43 43 ...\n",
      " $ Origin           : chr  \"IAH\" \"IAH\" \"IAH\" \"IAH\" ...\n",
      " $ Dest             : chr  \"DFW\" \"DFW\" \"DFW\" \"DFW\" ...\n",
      " $ Distance         : int  224 224 224 224 224 224 224 224 224 224 ...\n",
      " $ TaxiIn           : int  7 6 5 9 9 6 12 7 8 6 ...\n",
      " $ TaxiOut          : int  13 9 17 22 9 13 15 12 22 19 ...\n",
      " $ Cancelled        : int  0 0 0 0 0 0 0 0 0 0 ...\n",
      " $ CancellationCode : chr  \"\" \"\" \"\" \"\" ...\n",
      " $ Diverted         : int  0 0 0 0 0 0 0 0 0 0 ...\n"
     ]
    }
   ],
   "source": [
    "str(hflights)"
   ]
  },
  {
   "cell_type": "code",
   "execution_count": 3,
   "metadata": {},
   "outputs": [
    {
     "name": "stderr",
     "output_type": "stream",
     "text": [
      "Warning message:\n",
      "\"package 'bindrcpp' was built under R version 3.4.4\""
     ]
    }
   ],
   "source": [
    "flights.1 <- hflights %>% \n",
    "group_by(Origin, Dest) %>%\n",
    "summarise(avg_delay = round(mean(DepDelay , na.rm = T), digit=3), \n",
    "          avg_ArrDelay = round(mean(ArrDelay, na.rm = T), digits=3))"
   ]
  },
  {
   "cell_type": "code",
   "execution_count": 4,
   "metadata": {},
   "outputs": [
    {
     "data": {
      "text/html": [
       "<table>\n",
       "<thead><tr><th scope=col>Origin</th><th scope=col>Dest</th><th scope=col>avg_delay</th><th scope=col>avg_ArrDelay</th></tr></thead>\n",
       "<tbody>\n",
       "\t<tr><td>HOU    </td><td>ABQ    </td><td>11.582 </td><td>  6.001</td></tr>\n",
       "\t<tr><td>HOU    </td><td>ATL    </td><td> 9.129 </td><td>  6.810</td></tr>\n",
       "\t<tr><td>HOU    </td><td>AUS    </td><td>12.189 </td><td>  9.274</td></tr>\n",
       "\t<tr><td>HOU    </td><td>BHM    </td><td>15.015 </td><td>  6.673</td></tr>\n",
       "\t<tr><td>HOU    </td><td>BKG    </td><td>-3.202 </td><td>-16.234</td></tr>\n",
       "\t<tr><td>HOU    </td><td>BNA    </td><td>11.395 </td><td>  5.394</td></tr>\n",
       "</tbody>\n",
       "</table>\n"
      ],
      "text/latex": [
       "\\begin{tabular}{r|llll}\n",
       " Origin & Dest & avg\\_delay & avg\\_ArrDelay\\\\\n",
       "\\hline\n",
       "\t HOU     & ABQ     & 11.582  &   6.001\\\\\n",
       "\t HOU     & ATL     &  9.129  &   6.810\\\\\n",
       "\t HOU     & AUS     & 12.189  &   9.274\\\\\n",
       "\t HOU     & BHM     & 15.015  &   6.673\\\\\n",
       "\t HOU     & BKG     & -3.202  & -16.234\\\\\n",
       "\t HOU     & BNA     & 11.395  &   5.394\\\\\n",
       "\\end{tabular}\n"
      ],
      "text/markdown": [
       "\n",
       "Origin | Dest | avg_delay | avg_ArrDelay | \n",
       "|---|---|---|---|---|---|\n",
       "| HOU     | ABQ     | 11.582  |   6.001 | \n",
       "| HOU     | ATL     |  9.129  |   6.810 | \n",
       "| HOU     | AUS     | 12.189  |   9.274 | \n",
       "| HOU     | BHM     | 15.015  |   6.673 | \n",
       "| HOU     | BKG     | -3.202  | -16.234 | \n",
       "| HOU     | BNA     | 11.395  |   5.394 | \n",
       "\n",
       "\n"
      ],
      "text/plain": [
       "  Origin Dest avg_delay avg_ArrDelay\n",
       "1 HOU    ABQ  11.582      6.001     \n",
       "2 HOU    ATL   9.129      6.810     \n",
       "3 HOU    AUS  12.189      9.274     \n",
       "4 HOU    BHM  15.015      6.673     \n",
       "5 HOU    BKG  -3.202    -16.234     \n",
       "6 HOU    BNA  11.395      5.394     "
      ]
     },
     "metadata": {},
     "output_type": "display_data"
    }
   ],
   "source": [
    "head(flights.1)"
   ]
  },
  {
   "cell_type": "code",
   "execution_count": 5,
   "metadata": {},
   "outputs": [],
   "source": [
    "flights.melt <- melt(flights.1, id=c(\"Origin\"), \n",
    "                     measure=c(\"avg_delay\",\"avg_ArrDelay\"),\n",
    "                     variable.name = \"Delay_type\",\n",
    "                     value.name = \"Delay_time\",\n",
    "                     na.rm = T)"
   ]
  },
  {
   "cell_type": "code",
   "execution_count": 6,
   "metadata": {},
   "outputs": [
    {
     "data": {
      "text/html": [
       "<table>\n",
       "<thead><tr><th scope=col>Origin</th><th scope=col>Dest</th><th scope=col>avg_delay</th><th scope=col>avg_ArrDelay</th></tr></thead>\n",
       "<tbody>\n",
       "\t<tr><td>IAH   </td><td>TPA   </td><td> 6.611</td><td> 3.752</td></tr>\n",
       "\t<tr><td>IAH   </td><td>TUL   </td><td> 5.738</td><td> 5.482</td></tr>\n",
       "\t<tr><td>IAH   </td><td>TUS   </td><td> 7.784</td><td> 7.802</td></tr>\n",
       "\t<tr><td>IAH   </td><td>TYS   </td><td>10.171</td><td>11.366</td></tr>\n",
       "\t<tr><td>IAH   </td><td>VPS   </td><td>12.339</td><td>12.457</td></tr>\n",
       "\t<tr><td>IAH   </td><td>XNA   </td><td> 6.691</td><td> 6.896</td></tr>\n",
       "</tbody>\n",
       "</table>\n"
      ],
      "text/latex": [
       "\\begin{tabular}{r|llll}\n",
       " Origin & Dest & avg\\_delay & avg\\_ArrDelay\\\\\n",
       "\\hline\n",
       "\t IAH    & TPA    &  6.611 &  3.752\\\\\n",
       "\t IAH    & TUL    &  5.738 &  5.482\\\\\n",
       "\t IAH    & TUS    &  7.784 &  7.802\\\\\n",
       "\t IAH    & TYS    & 10.171 & 11.366\\\\\n",
       "\t IAH    & VPS    & 12.339 & 12.457\\\\\n",
       "\t IAH    & XNA    &  6.691 &  6.896\\\\\n",
       "\\end{tabular}\n"
      ],
      "text/markdown": [
       "\n",
       "Origin | Dest | avg_delay | avg_ArrDelay | \n",
       "|---|---|---|---|---|---|\n",
       "| IAH    | TPA    |  6.611 |  3.752 | \n",
       "| IAH    | TUL    |  5.738 |  5.482 | \n",
       "| IAH    | TUS    |  7.784 |  7.802 | \n",
       "| IAH    | TYS    | 10.171 | 11.366 | \n",
       "| IAH    | VPS    | 12.339 | 12.457 | \n",
       "| IAH    | XNA    |  6.691 |  6.896 | \n",
       "\n",
       "\n"
      ],
      "text/plain": [
       "  Origin Dest avg_delay avg_ArrDelay\n",
       "1 IAH    TPA   6.611     3.752      \n",
       "2 IAH    TUL   5.738     5.482      \n",
       "3 IAH    TUS   7.784     7.802      \n",
       "4 IAH    TYS  10.171    11.366      \n",
       "5 IAH    VPS  12.339    12.457      \n",
       "6 IAH    XNA   6.691     6.896      "
      ]
     },
     "metadata": {},
     "output_type": "display_data"
    }
   ],
   "source": [
    "tail(flights.1, 6)"
   ]
  },
  {
   "cell_type": "code",
   "execution_count": 7,
   "metadata": {},
   "outputs": [
    {
     "data": {
      "text/html": [
       "<table>\n",
       "<thead><tr><th></th><th scope=col>Origin</th><th scope=col>Delay_type</th><th scope=col>Delay_time</th></tr></thead>\n",
       "<tbody>\n",
       "\t<tr><th scope=row>293</th><td>IAH         </td><td>avg_ArrDelay</td><td> 3.752      </td></tr>\n",
       "\t<tr><th scope=row>294</th><td>IAH         </td><td>avg_ArrDelay</td><td> 5.482      </td></tr>\n",
       "\t<tr><th scope=row>295</th><td>IAH         </td><td>avg_ArrDelay</td><td> 7.802      </td></tr>\n",
       "\t<tr><th scope=row>296</th><td>IAH         </td><td>avg_ArrDelay</td><td>11.366      </td></tr>\n",
       "\t<tr><th scope=row>297</th><td>IAH         </td><td>avg_ArrDelay</td><td>12.457      </td></tr>\n",
       "\t<tr><th scope=row>298</th><td>IAH         </td><td>avg_ArrDelay</td><td> 6.896      </td></tr>\n",
       "</tbody>\n",
       "</table>\n"
      ],
      "text/latex": [
       "\\begin{tabular}{r|lll}\n",
       "  & Origin & Delay\\_type & Delay\\_time\\\\\n",
       "\\hline\n",
       "\t293 & IAH            & avg\\_ArrDelay &  3.752        \\\\\n",
       "\t294 & IAH            & avg\\_ArrDelay &  5.482        \\\\\n",
       "\t295 & IAH            & avg\\_ArrDelay &  7.802        \\\\\n",
       "\t296 & IAH            & avg\\_ArrDelay & 11.366        \\\\\n",
       "\t297 & IAH            & avg\\_ArrDelay & 12.457        \\\\\n",
       "\t298 & IAH            & avg\\_ArrDelay &  6.896        \\\\\n",
       "\\end{tabular}\n"
      ],
      "text/markdown": [
       "\n",
       "| <!--/--> | Origin | Delay_type | Delay_time | \n",
       "|---|---|---|---|---|---|\n",
       "| 293 | IAH          | avg_ArrDelay |  3.752       | \n",
       "| 294 | IAH          | avg_ArrDelay |  5.482       | \n",
       "| 295 | IAH          | avg_ArrDelay |  7.802       | \n",
       "| 296 | IAH          | avg_ArrDelay | 11.366       | \n",
       "| 297 | IAH          | avg_ArrDelay | 12.457       | \n",
       "| 298 | IAH          | avg_ArrDelay |  6.896       | \n",
       "\n",
       "\n"
      ],
      "text/plain": [
       "    Origin Delay_type   Delay_time\n",
       "293 IAH    avg_ArrDelay  3.752    \n",
       "294 IAH    avg_ArrDelay  5.482    \n",
       "295 IAH    avg_ArrDelay  7.802    \n",
       "296 IAH    avg_ArrDelay 11.366    \n",
       "297 IAH    avg_ArrDelay 12.457    \n",
       "298 IAH    avg_ArrDelay  6.896    "
      ]
     },
     "metadata": {},
     "output_type": "display_data"
    }
   ],
   "source": [
    "tail(flights.melt)"
   ]
  },
  {
   "cell_type": "code",
   "execution_count": 8,
   "metadata": {},
   "outputs": [
    {
     "data": {},
     "metadata": {},
     "output_type": "display_data"
    },
    {
     "data": {
      "image/png": "[encoded data removed]",
      "text/plain": [
       "plot without title"
      ]
     },
     "metadata": {},
     "output_type": "display_data"
    }
   ],
   "source": [
    "ggplot(flights.melt, aes(x=Delay_time, fill=Delay_type)) + geom_density()"
   ]
  },
  {
   "cell_type": "code",
   "execution_count": 9,
   "metadata": {},
   "outputs": [
    {
     "data": {},
     "metadata": {},
     "output_type": "display_data"
    },
    {
     "data": {
      "image/png": "[encoded data removed]",
      "text/plain": [
       "plot without title"
      ]
     },
     "metadata": {},
     "output_type": "display_data"
    }
   ],
   "source": [
    "ggplot(flights.melt, aes(x=Delay_time, fill=Delay_type, alpha = 0.00000001)) + \n",
    "geom_density()"
   ]
  },
  {
   "cell_type": "code",
   "execution_count": 10,
   "metadata": {},
   "outputs": [
    {
     "data": {},
     "metadata": {},
     "output_type": "display_data"
    },
    {
     "data": {
      "image/png": "[encoded data removed]",
      "text/plain": [
       "plot without title"
      ]
     },
     "metadata": {},
     "output_type": "display_data"
    }
   ],
   "source": [
    "ggplot(flights.melt, aes(x=Delay_time, fill=Delay_type, alpha = 0.00000001)) + \n",
    "geom_density(colour = \"lightgray\", size = 0.00000001) +\n",
    "facet_wrap(~Origin, nrow = 2)"
   ]
  },
  {
   "cell_type": "markdown",
   "metadata": {},
   "source": [
    "Step 1 : 목적지 공항(Dest)에 대해 연착 건수를 구하고, 연착 건수가 2000회 이상인 공항에 대한 데이터만 따로 추출하시오. (연착 건수는 도착 지연시간(DepDelay) 5분 이상인 것으로 할 것)"
   ]
  },
  {
   "cell_type": "code",
   "execution_count": 11,
   "metadata": {},
   "outputs": [
    {
     "data": {
      "text/html": [
       "<ol class=list-inline>\n",
       "\t<li>0</li>\n",
       "\t<li>1</li>\n",
       "\t<li>-8</li>\n",
       "\t<li>3</li>\n",
       "\t<li>5</li>\n",
       "\t<li>-1</li>\n",
       "\t<li>-1</li>\n",
       "\t<li>-5</li>\n",
       "\t<li>43</li>\n",
       "\t<li>43</li>\n",
       "\t<li>29</li>\n",
       "\t<li>19</li>\n",
       "\t<li>-2</li>\n",
       "\t<li>-3</li>\n",
       "\t<li>-1</li>\n",
       "\t<li>-1</li>\n",
       "\t<li>90</li>\n",
       "\t<li>8</li>\n",
       "\t<li>-4</li>\n",
       "\t<li>67</li>\n",
       "</ol>\n"
      ],
      "text/latex": [
       "\\begin{enumerate*}\n",
       "\\item 0\n",
       "\\item 1\n",
       "\\item -8\n",
       "\\item 3\n",
       "\\item 5\n",
       "\\item -1\n",
       "\\item -1\n",
       "\\item -5\n",
       "\\item 43\n",
       "\\item 43\n",
       "\\item 29\n",
       "\\item 19\n",
       "\\item -2\n",
       "\\item -3\n",
       "\\item -1\n",
       "\\item -1\n",
       "\\item 90\n",
       "\\item 8\n",
       "\\item -4\n",
       "\\item 67\n",
       "\\end{enumerate*}\n"
      ],
      "text/markdown": [
       "1. 0\n",
       "2. 1\n",
       "3. -8\n",
       "4. 3\n",
       "5. 5\n",
       "6. -1\n",
       "7. -1\n",
       "8. -5\n",
       "9. 43\n",
       "10. 43\n",
       "11. 29\n",
       "12. 19\n",
       "13. -2\n",
       "14. -3\n",
       "15. -1\n",
       "16. -1\n",
       "17. 90\n",
       "18. 8\n",
       "19. -4\n",
       "20. 67\n",
       "\n",
       "\n"
      ],
      "text/plain": [
       " [1]  0  1 -8  3  5 -1 -1 -5 43 43 29 19 -2 -3 -1 -1 90  8 -4 67"
      ]
     },
     "metadata": {},
     "output_type": "display_data"
    },
    {
     "data": {
      "text/html": [
       "<ol class=list-inline>\n",
       "\t<li>FALSE</li>\n",
       "\t<li>FALSE</li>\n",
       "\t<li>FALSE</li>\n",
       "\t<li>FALSE</li>\n",
       "\t<li>FALSE</li>\n",
       "\t<li>FALSE</li>\n",
       "\t<li>FALSE</li>\n",
       "\t<li>FALSE</li>\n",
       "\t<li>TRUE</li>\n",
       "\t<li>TRUE</li>\n",
       "\t<li>TRUE</li>\n",
       "\t<li>TRUE</li>\n",
       "\t<li>FALSE</li>\n",
       "\t<li>FALSE</li>\n",
       "\t<li>FALSE</li>\n",
       "\t<li>FALSE</li>\n",
       "\t<li>TRUE</li>\n",
       "\t<li>TRUE</li>\n",
       "\t<li>FALSE</li>\n",
       "\t<li>TRUE</li>\n",
       "</ol>\n"
      ],
      "text/latex": [
       "\\begin{enumerate*}\n",
       "\\item FALSE\n",
       "\\item FALSE\n",
       "\\item FALSE\n",
       "\\item FALSE\n",
       "\\item FALSE\n",
       "\\item FALSE\n",
       "\\item FALSE\n",
       "\\item FALSE\n",
       "\\item TRUE\n",
       "\\item TRUE\n",
       "\\item TRUE\n",
       "\\item TRUE\n",
       "\\item FALSE\n",
       "\\item FALSE\n",
       "\\item FALSE\n",
       "\\item FALSE\n",
       "\\item TRUE\n",
       "\\item TRUE\n",
       "\\item FALSE\n",
       "\\item TRUE\n",
       "\\end{enumerate*}\n"
      ],
      "text/markdown": [
       "1. FALSE\n",
       "2. FALSE\n",
       "3. FALSE\n",
       "4. FALSE\n",
       "5. FALSE\n",
       "6. FALSE\n",
       "7. FALSE\n",
       "8. FALSE\n",
       "9. TRUE\n",
       "10. TRUE\n",
       "11. TRUE\n",
       "12. TRUE\n",
       "13. FALSE\n",
       "14. FALSE\n",
       "15. FALSE\n",
       "16. FALSE\n",
       "17. TRUE\n",
       "18. TRUE\n",
       "19. FALSE\n",
       "20. TRUE\n",
       "\n",
       "\n"
      ],
      "text/plain": [
       " [1] FALSE FALSE FALSE FALSE FALSE FALSE FALSE FALSE  TRUE  TRUE  TRUE  TRUE\n",
       "[13] FALSE FALSE FALSE FALSE  TRUE  TRUE FALSE  TRUE"
      ]
     },
     "metadata": {},
     "output_type": "display_data"
    },
    {
     "data": {
      "text/html": [
       "71417"
      ],
      "text/latex": [
       "71417"
      ],
      "text/markdown": [
       "71417"
      ],
      "text/plain": [
       "[1] 71417"
      ]
     },
     "metadata": {},
     "output_type": "display_data"
    }
   ],
   "source": [
    "head(hflights$DepDelay, 20)\n",
    "head(hflights$DepDelay > 5, 20)\n",
    "sum(hflights$DepDelay > 5, na.rm = T)"
   ]
  },
  {
   "cell_type": "code",
   "execution_count": 12,
   "metadata": {},
   "outputs": [
    {
     "data": {
      "text/html": [
       "227496"
      ],
      "text/latex": [
       "227496"
      ],
      "text/markdown": [
       "227496"
      ],
      "text/plain": [
       "[1] 227496"
      ]
     },
     "metadata": {},
     "output_type": "display_data"
    },
    {
     "data": {
      "text/html": [
       "227496"
      ],
      "text/latex": [
       "227496"
      ],
      "text/markdown": [
       "227496"
      ],
      "text/plain": [
       "[1] 227496"
      ]
     },
     "metadata": {},
     "output_type": "display_data"
    }
   ],
   "source": [
    "length(hflights$DepDelay)\n",
    "length(hflights$DepDelay > 5)"
   ]
  },
  {
   "cell_type": "code",
   "execution_count": 13,
   "metadata": {},
   "outputs": [],
   "source": [
    "flights.2 <- hflights %>% \n",
    "group_by(Dest) %>%\n",
    "summarise( num_DepDelay = sum(DepDelay > 5, na.rm = T))"
   ]
  },
  {
   "cell_type": "code",
   "execution_count": 14,
   "metadata": {},
   "outputs": [],
   "source": [
    "flights.2 <- flights.2[flights.2$num_DepDelay >= 2000,]"
   ]
  },
  {
   "cell_type": "markdown",
   "metadata": {},
   "source": [
    "위의 결과를 바탕으로 목적지 공항, 월별 결항 횟수, 회항 횟수, 운항 횟수를 구하시요\n",
    "* 운항 횟수는 결항과 회황을 제외할 것"
   ]
  },
  {
   "cell_type": "code",
   "execution_count": 15,
   "metadata": {},
   "outputs": [
    {
     "data": {
      "text/html": [
       "<table>\n",
       "<thead><tr><th scope=col>Dest</th><th scope=col>num_DepDelay</th></tr></thead>\n",
       "<tbody>\n",
       "\t<tr><td>ATL </td><td>2088</td></tr>\n",
       "\t<tr><td>DAL </td><td>3458</td></tr>\n",
       "\t<tr><td>DEN </td><td>2183</td></tr>\n",
       "\t<tr><td>LAX </td><td>2727</td></tr>\n",
       "\t<tr><td>MSY </td><td>2145</td></tr>\n",
       "\t<tr><td>ORD </td><td>2158</td></tr>\n",
       "</tbody>\n",
       "</table>\n"
      ],
      "text/latex": [
       "\\begin{tabular}{r|ll}\n",
       " Dest & num\\_DepDelay\\\\\n",
       "\\hline\n",
       "\t ATL  & 2088\\\\\n",
       "\t DAL  & 3458\\\\\n",
       "\t DEN  & 2183\\\\\n",
       "\t LAX  & 2727\\\\\n",
       "\t MSY  & 2145\\\\\n",
       "\t ORD  & 2158\\\\\n",
       "\\end{tabular}\n"
      ],
      "text/markdown": [
       "\n",
       "Dest | num_DepDelay | \n",
       "|---|---|---|---|---|---|\n",
       "| ATL  | 2088 | \n",
       "| DAL  | 3458 | \n",
       "| DEN  | 2183 | \n",
       "| LAX  | 2727 | \n",
       "| MSY  | 2145 | \n",
       "| ORD  | 2158 | \n",
       "\n",
       "\n"
      ],
      "text/plain": [
       "  Dest num_DepDelay\n",
       "1 ATL  2088        \n",
       "2 DAL  3458        \n",
       "3 DEN  2183        \n",
       "4 LAX  2727        \n",
       "5 MSY  2145        \n",
       "6 ORD  2158        "
      ]
     },
     "metadata": {},
     "output_type": "display_data"
    }
   ],
   "source": [
    "head(flights.2)"
   ]
  },
  {
   "cell_type": "code",
   "execution_count": 16,
   "metadata": {},
   "outputs": [
    {
     "data": {
      "text/html": [
       "<ol class=list-inline>\n",
       "\t<li>FALSE</li>\n",
       "\t<li>FALSE</li>\n",
       "\t<li>FALSE</li>\n",
       "\t<li>FALSE</li>\n",
       "\t<li>FALSE</li>\n",
       "\t<li>FALSE</li>\n",
       "</ol>\n"
      ],
      "text/latex": [
       "\\begin{enumerate*}\n",
       "\\item FALSE\n",
       "\\item FALSE\n",
       "\\item FALSE\n",
       "\\item FALSE\n",
       "\\item FALSE\n",
       "\\item FALSE\n",
       "\\end{enumerate*}\n"
      ],
      "text/markdown": [
       "1. FALSE\n",
       "2. FALSE\n",
       "3. FALSE\n",
       "4. FALSE\n",
       "5. FALSE\n",
       "6. FALSE\n",
       "\n",
       "\n"
      ],
      "text/plain": [
       "[1] FALSE FALSE FALSE FALSE FALSE FALSE"
      ]
     },
     "metadata": {},
     "output_type": "display_data"
    }
   ],
   "source": [
    "head(hflights$Dest == flights.2$Dest)"
   ]
  },
  {
   "cell_type": "code",
   "execution_count": 17,
   "metadata": {},
   "outputs": [
    {
     "data": {
      "text/html": [
       "<table>\n",
       "<thead><tr><th></th><th scope=col>Year</th><th scope=col>Month</th><th scope=col>DayofMonth</th><th scope=col>DayOfWeek</th><th scope=col>DepTime</th><th scope=col>ArrTime</th><th scope=col>UniqueCarrier</th><th scope=col>FlightNum</th><th scope=col>TailNum</th><th scope=col>ActualElapsedTime</th><th scope=col>...</th><th scope=col>ArrDelay</th><th scope=col>DepDelay</th><th scope=col>Origin</th><th scope=col>Dest</th><th scope=col>Distance</th><th scope=col>TaxiIn</th><th scope=col>TaxiOut</th><th scope=col>Cancelled</th><th scope=col>CancellationCode</th><th scope=col>Diverted</th></tr></thead>\n",
       "<tbody>\n",
       "\t<tr><th scope=row>74665</th><td>2011  </td><td>1     </td><td>31    </td><td>1     </td><td>1522  </td><td>1632  </td><td>CO    </td><td> 33   </td><td>N16647</td><td> 70   </td><td>...   </td><td>-2    </td><td>-3    </td><td>IAH   </td><td>MSY   </td><td> 305  </td><td> 7    </td><td>21    </td><td>0     </td><td>      </td><td>0     </td></tr>\n",
       "\t<tr><th scope=row>74683</th><td>2011  </td><td>1     </td><td>31    </td><td>1     </td><td>1803  </td><td>1927  </td><td>CO    </td><td> 59   </td><td>N57870</td><td>144   </td><td>...   </td><td>15    </td><td>28    </td><td>IAH   </td><td>DEN   </td><td> 862  </td><td>12    </td><td>16    </td><td>0     </td><td>      </td><td>0     </td></tr>\n",
       "\t<tr><th scope=row>74866</th><td>2011  </td><td>1     </td><td>31    </td><td>1     </td><td>1924  </td><td>2026  </td><td>CO    </td><td>423   </td><td>N33266</td><td> 62   </td><td>...   </td><td>-8    </td><td>-1    </td><td>IAH   </td><td>MSY   </td><td> 305  </td><td> 2    </td><td>19    </td><td>0     </td><td>      </td><td>0     </td></tr>\n",
       "\t<tr><th scope=row>74966</th><td>2011  </td><td>1     </td><td>31    </td><td>1     </td><td>1313  </td><td>1516  </td><td>CO    </td><td>601   </td><td>N26208</td><td>183   </td><td>...   </td><td>36    </td><td> 9    </td><td>IAH   </td><td>DEN   </td><td> 862  </td><td>18    </td><td>34    </td><td>0     </td><td>      </td><td>0     </td></tr>\n",
       "\t<tr><th scope=row>75033</th><td>2011  </td><td>1     </td><td>31    </td><td>1     </td><td>1423  </td><td>1652  </td><td>CO    </td><td>746   </td><td>N78524</td><td>149   </td><td>...   </td><td>-8    </td><td> 3    </td><td>IAH   </td><td>ORD   </td><td> 925  </td><td>11    </td><td>24    </td><td>0     </td><td>      </td><td>0     </td></tr>\n",
       "\t<tr><th scope=row>75054</th><td>2011  </td><td>1     </td><td>31    </td><td>1     </td><td>1550  </td><td>1736  </td><td>CO    </td><td>795   </td><td>N76502</td><td>226   </td><td>...   </td><td> 8    </td><td>10    </td><td>IAH   </td><td>LAX   </td><td>1379  </td><td>13    </td><td>15    </td><td>0     </td><td>      </td><td>0     </td></tr>\n",
       "</tbody>\n",
       "</table>\n"
      ],
      "text/latex": [
       "\\begin{tabular}{r|lllllllllllllllllllll}\n",
       "  & Year & Month & DayofMonth & DayOfWeek & DepTime & ArrTime & UniqueCarrier & FlightNum & TailNum & ActualElapsedTime & ... & ArrDelay & DepDelay & Origin & Dest & Distance & TaxiIn & TaxiOut & Cancelled & CancellationCode & Diverted\\\\\n",
       "\\hline\n",
       "\t74665 & 2011   & 1      & 31     & 1      & 1522   & 1632   & CO     &  33    & N16647 &  70    & ...    & -2     & -3     & IAH    & MSY    &  305   &  7     & 21     & 0      &        & 0     \\\\\n",
       "\t74683 & 2011   & 1      & 31     & 1      & 1803   & 1927   & CO     &  59    & N57870 & 144    & ...    & 15     & 28     & IAH    & DEN    &  862   & 12     & 16     & 0      &        & 0     \\\\\n",
       "\t74866 & 2011   & 1      & 31     & 1      & 1924   & 2026   & CO     & 423    & N33266 &  62    & ...    & -8     & -1     & IAH    & MSY    &  305   &  2     & 19     & 0      &        & 0     \\\\\n",
       "\t74966 & 2011   & 1      & 31     & 1      & 1313   & 1516   & CO     & 601    & N26208 & 183    & ...    & 36     &  9     & IAH    & DEN    &  862   & 18     & 34     & 0      &        & 0     \\\\\n",
       "\t75033 & 2011   & 1      & 31     & 1      & 1423   & 1652   & CO     & 746    & N78524 & 149    & ...    & -8     &  3     & IAH    & ORD    &  925   & 11     & 24     & 0      &        & 0     \\\\\n",
       "\t75054 & 2011   & 1      & 31     & 1      & 1550   & 1736   & CO     & 795    & N76502 & 226    & ...    &  8     & 10     & IAH    & LAX    & 1379   & 13     & 15     & 0      &        & 0     \\\\\n",
       "\\end{tabular}\n"
      ],
      "text/markdown": [
       "\n",
       "| <!--/--> | Year | Month | DayofMonth | DayOfWeek | DepTime | ArrTime | UniqueCarrier | FlightNum | TailNum | ActualElapsedTime | ... | ArrDelay | DepDelay | Origin | Dest | Distance | TaxiIn | TaxiOut | Cancelled | CancellationCode | Diverted | \n",
       "|---|---|---|---|---|---|\n",
       "| 74665 | 2011   | 1      | 31     | 1      | 1522   | 1632   | CO     |  33    | N16647 |  70    | ...    | -2     | -3     | IAH    | MSY    |  305   |  7     | 21     | 0      |        | 0      | \n",
       "| 74683 | 2011   | 1      | 31     | 1      | 1803   | 1927   | CO     |  59    | N57870 | 144    | ...    | 15     | 28     | IAH    | DEN    |  862   | 12     | 16     | 0      |        | 0      | \n",
       "| 74866 | 2011   | 1      | 31     | 1      | 1924   | 2026   | CO     | 423    | N33266 |  62    | ...    | -8     | -1     | IAH    | MSY    |  305   |  2     | 19     | 0      |        | 0      | \n",
       "| 74966 | 2011   | 1      | 31     | 1      | 1313   | 1516   | CO     | 601    | N26208 | 183    | ...    | 36     |  9     | IAH    | DEN    |  862   | 18     | 34     | 0      |        | 0      | \n",
       "| 75033 | 2011   | 1      | 31     | 1      | 1423   | 1652   | CO     | 746    | N78524 | 149    | ...    | -8     |  3     | IAH    | ORD    |  925   | 11     | 24     | 0      |        | 0      | \n",
       "| 75054 | 2011   | 1      | 31     | 1      | 1550   | 1736   | CO     | 795    | N76502 | 226    | ...    |  8     | 10     | IAH    | LAX    | 1379   | 13     | 15     | 0      |        | 0      | \n",
       "\n",
       "\n"
      ],
      "text/plain": [
       "      Year Month DayofMonth DayOfWeek DepTime ArrTime UniqueCarrier FlightNum\n",
       "74665 2011 1     31         1         1522    1632    CO             33      \n",
       "74683 2011 1     31         1         1803    1927    CO             59      \n",
       "74866 2011 1     31         1         1924    2026    CO            423      \n",
       "74966 2011 1     31         1         1313    1516    CO            601      \n",
       "75033 2011 1     31         1         1423    1652    CO            746      \n",
       "75054 2011 1     31         1         1550    1736    CO            795      \n",
       "      TailNum ActualElapsedTime ... ArrDelay DepDelay Origin Dest Distance\n",
       "74665 N16647   70               ... -2       -3       IAH    MSY   305    \n",
       "74683 N57870  144               ... 15       28       IAH    DEN   862    \n",
       "74866 N33266   62               ... -8       -1       IAH    MSY   305    \n",
       "74966 N26208  183               ... 36        9       IAH    DEN   862    \n",
       "75033 N78524  149               ... -8        3       IAH    ORD   925    \n",
       "75054 N76502  226               ...  8       10       IAH    LAX  1379    \n",
       "      TaxiIn TaxiOut Cancelled CancellationCode Diverted\n",
       "74665  7     21      0                          0       \n",
       "74683 12     16      0                          0       \n",
       "74866  2     19      0                          0       \n",
       "74966 18     34      0                          0       \n",
       "75033 11     24      0                          0       \n",
       "75054 13     15      0                          0       "
      ]
     },
     "metadata": {},
     "output_type": "display_data"
    }
   ],
   "source": [
    "head(hflights[hflights$Dest == flights.2$Dest,])"
   ]
  },
  {
   "cell_type": "code",
   "execution_count": 18,
   "metadata": {},
   "outputs": [],
   "source": [
    "flights.4 <- hflights[hflights$Dest == flights.2$Dest,]"
   ]
  },
  {
   "cell_type": "code",
   "execution_count": 19,
   "metadata": {},
   "outputs": [
    {
     "data": {
      "text/html": [
       "<ol class=list-inline>\n",
       "\t<li>7038</li>\n",
       "\t<li>21</li>\n",
       "</ol>\n"
      ],
      "text/latex": [
       "\\begin{enumerate*}\n",
       "\\item 7038\n",
       "\\item 21\n",
       "\\end{enumerate*}\n"
      ],
      "text/markdown": [
       "1. 7038\n",
       "2. 21\n",
       "\n",
       "\n"
      ],
      "text/plain": [
       "[1] 7038   21"
      ]
     },
     "metadata": {},
     "output_type": "display_data"
    }
   ],
   "source": [
    "dim(flights.4)"
   ]
  },
  {
   "cell_type": "markdown",
   "metadata": {},
   "source": [
    "목적지 공항(Dest), 월별(Month) 결항 횟수(Cancelled), 회항 횟수(Diverted), 운항 횟수"
   ]
  },
  {
   "cell_type": "code",
   "execution_count": 20,
   "metadata": {},
   "outputs": [
    {
     "data": {
      "text/html": [
       "<ol class=list-inline>\n",
       "\t<li>'MSY'</li>\n",
       "\t<li>'DEN'</li>\n",
       "\t<li>'MSY'</li>\n",
       "\t<li>'DEN'</li>\n",
       "\t<li>'ORD'</li>\n",
       "\t<li>'LAX'</li>\n",
       "</ol>\n"
      ],
      "text/latex": [
       "\\begin{enumerate*}\n",
       "\\item 'MSY'\n",
       "\\item 'DEN'\n",
       "\\item 'MSY'\n",
       "\\item 'DEN'\n",
       "\\item 'ORD'\n",
       "\\item 'LAX'\n",
       "\\end{enumerate*}\n"
      ],
      "text/markdown": [
       "1. 'MSY'\n",
       "2. 'DEN'\n",
       "3. 'MSY'\n",
       "4. 'DEN'\n",
       "5. 'ORD'\n",
       "6. 'LAX'\n",
       "\n",
       "\n"
      ],
      "text/plain": [
       "[1] \"MSY\" \"DEN\" \"MSY\" \"DEN\" \"ORD\" \"LAX\""
      ]
     },
     "metadata": {},
     "output_type": "display_data"
    },
    {
     "data": {
      "text/html": [
       "<ol class=list-inline>\n",
       "\t<li>0</li>\n",
       "\t<li>0</li>\n",
       "\t<li>0</li>\n",
       "\t<li>0</li>\n",
       "\t<li>0</li>\n",
       "\t<li>0</li>\n",
       "</ol>\n"
      ],
      "text/latex": [
       "\\begin{enumerate*}\n",
       "\\item 0\n",
       "\\item 0\n",
       "\\item 0\n",
       "\\item 0\n",
       "\\item 0\n",
       "\\item 0\n",
       "\\end{enumerate*}\n"
      ],
      "text/markdown": [
       "1. 0\n",
       "2. 0\n",
       "3. 0\n",
       "4. 0\n",
       "5. 0\n",
       "6. 0\n",
       "\n",
       "\n"
      ],
      "text/plain": [
       "[1] 0 0 0 0 0 0"
      ]
     },
     "metadata": {},
     "output_type": "display_data"
    },
    {
     "data": {
      "text/html": [
       "<ol class=list-inline>\n",
       "\t<li>0</li>\n",
       "\t<li>0</li>\n",
       "\t<li>0</li>\n",
       "\t<li>0</li>\n",
       "\t<li>0</li>\n",
       "\t<li>0</li>\n",
       "</ol>\n"
      ],
      "text/latex": [
       "\\begin{enumerate*}\n",
       "\\item 0\n",
       "\\item 0\n",
       "\\item 0\n",
       "\\item 0\n",
       "\\item 0\n",
       "\\item 0\n",
       "\\end{enumerate*}\n"
      ],
      "text/markdown": [
       "1. 0\n",
       "2. 0\n",
       "3. 0\n",
       "4. 0\n",
       "5. 0\n",
       "6. 0\n",
       "\n",
       "\n"
      ],
      "text/plain": [
       "[1] 0 0 0 0 0 0"
      ]
     },
     "metadata": {},
     "output_type": "display_data"
    }
   ],
   "source": [
    "head(flights.4$Dest)\n",
    "head(flights.4$Cancelled)\n",
    "head(flights.4$Diverted)"
   ]
  },
  {
   "cell_type": "code",
   "execution_count": 21,
   "metadata": {},
   "outputs": [
    {
     "name": "stdout",
     "output_type": "stream",
     "text": [
      "'data.frame':\t7038 obs. of  21 variables:\n",
      " $ Year             : int  2011 2011 2011 2011 2011 2011 2011 2011 2011 2011 ...\n",
      " $ Month            : int  1 1 1 1 1 1 1 1 1 1 ...\n",
      " $ DayofMonth       : int  31 31 31 31 31 31 31 31 31 30 ...\n",
      " $ DayOfWeek        : int  1 1 1 1 1 1 1 1 1 7 ...\n",
      " $ DepTime          : int  1522 1803 1924 1313 1423 1550 2101 753 1027 1441 ...\n",
      " $ ArrTime          : int  1632 1927 2026 1516 1652 1736 2215 1032 1136 1610 ...\n",
      " $ UniqueCarrier    : chr  \"CO\" \"CO\" \"CO\" \"CO\" ...\n",
      " $ FlightNum        : int  33 59 423 601 746 795 1423 1746 1823 137 ...\n",
      " $ TailNum          : chr  \"N16647\" \"N57870\" \"N33266\" \"N26208\" ...\n",
      " $ ActualElapsedTime: int  70 144 62 183 149 226 74 159 69 209 ...\n",
      " $ AirTime          : int  42 116 41 131 114 198 42 117 42 185 ...\n",
      " $ ArrDelay         : int  -2 15 -8 36 -8 8 4 32 -3 -5 ...\n",
      " $ DepDelay         : int  -3 28 -1 9 3 10 -4 28 -3 13 ...\n",
      " $ Origin           : chr  \"IAH\" \"IAH\" \"IAH\" \"IAH\" ...\n",
      " $ Dest             : chr  \"MSY\" \"DEN\" \"MSY\" \"DEN\" ...\n",
      " $ Distance         : int  305 862 305 862 925 1379 305 925 305 1379 ...\n",
      " $ TaxiIn           : int  7 12 2 18 11 13 6 12 5 10 ...\n",
      " $ TaxiOut          : int  21 16 19 34 24 15 26 30 22 14 ...\n",
      " $ Cancelled        : int  0 0 0 0 0 0 0 0 0 0 ...\n",
      " $ CancellationCode : chr  \"\" \"\" \"\" \"\" ...\n",
      " $ Diverted         : int  0 0 0 0 0 0 0 0 0 0 ...\n"
     ]
    }
   ],
   "source": [
    "str(flights.4)"
   ]
  },
  {
   "cell_type": "code",
   "execution_count": null,
   "metadata": {},
   "outputs": [],
   "source": []
  },
  {
   "cell_type": "code",
   "execution_count": 22,
   "metadata": {},
   "outputs": [
    {
     "data": {
      "text/html": [
       "<ol class=list-inline>\n",
       "\t<li>7038</li>\n",
       "\t<li>21</li>\n",
       "</ol>\n"
      ],
      "text/latex": [
       "\\begin{enumerate*}\n",
       "\\item 7038\n",
       "\\item 21\n",
       "\\end{enumerate*}\n"
      ],
      "text/markdown": [
       "1. 7038\n",
       "2. 21\n",
       "\n",
       "\n"
      ],
      "text/plain": [
       "[1] 7038   21"
      ]
     },
     "metadata": {},
     "output_type": "display_data"
    }
   ],
   "source": [
    "dim(flights.4)"
   ]
  },
  {
   "cell_type": "code",
   "execution_count": 23,
   "metadata": {},
   "outputs": [
    {
     "data": {
      "text/html": [
       "7038"
      ],
      "text/latex": [
       "7038"
      ],
      "text/markdown": [
       "7038"
      ],
      "text/plain": [
       "[1] 7038"
      ]
     },
     "metadata": {},
     "output_type": "display_data"
    }
   ],
   "source": [
    "length(flights.4$Cancelled > 1)"
   ]
  },
  {
   "cell_type": "code",
   "execution_count": 24,
   "metadata": {},
   "outputs": [
    {
     "data": {
      "text/html": [
       "7038"
      ],
      "text/latex": [
       "7038"
      ],
      "text/markdown": [
       "7038"
      ],
      "text/plain": [
       "[1] 7038"
      ]
     },
     "metadata": {},
     "output_type": "display_data"
    }
   ],
   "source": [
    "length(flights.4$Cancelled)"
   ]
  },
  {
   "cell_type": "code",
   "execution_count": 25,
   "metadata": {},
   "outputs": [
    {
     "data": {
      "text/html": [
       "<ol class=list-inline>\n",
       "\t<li>0</li>\n",
       "\t<li>1</li>\n",
       "</ol>\n"
      ],
      "text/latex": [
       "\\begin{enumerate*}\n",
       "\\item 0\n",
       "\\item 1\n",
       "\\end{enumerate*}\n"
      ],
      "text/markdown": [
       "1. 0\n",
       "2. 1\n",
       "\n",
       "\n"
      ],
      "text/plain": [
       "[1] 0 1"
      ]
     },
     "metadata": {},
     "output_type": "display_data"
    }
   ],
   "source": [
    "unique(hflights$Diverted)"
   ]
  },
  {
   "cell_type": "code",
   "execution_count": 26,
   "metadata": {},
   "outputs": [
    {
     "data": {
      "text/html": [
       "227496"
      ],
      "text/latex": [
       "227496"
      ],
      "text/markdown": [
       "227496"
      ],
      "text/plain": [
       "[1] 227496"
      ]
     },
     "metadata": {},
     "output_type": "display_data"
    }
   ],
   "source": [
    "dim(hflights)[1]"
   ]
  },
  {
   "cell_type": "code",
   "execution_count": 27,
   "metadata": {},
   "outputs": [
    {
     "data": {
      "text/html": [
       "227496"
      ],
      "text/latex": [
       "227496"
      ],
      "text/markdown": [
       "227496"
      ],
      "text/plain": [
       "[1] 227496"
      ]
     },
     "metadata": {},
     "output_type": "display_data"
    }
   ],
   "source": [
    "length(hflights$Year)"
   ]
  },
  {
   "cell_type": "code",
   "execution_count": 28,
   "metadata": {},
   "outputs": [
    {
     "data": {
      "text/html": [
       "649"
      ],
      "text/latex": [
       "649"
      ],
      "text/markdown": [
       "649"
      ],
      "text/plain": [
       "[1] 649"
      ]
     },
     "metadata": {},
     "output_type": "display_data"
    }
   ],
   "source": [
    "sum(hflights$Diverted)"
   ]
  },
  {
   "cell_type": "code",
   "execution_count": 29,
   "metadata": {},
   "outputs": [
    {
     "data": {
      "text/html": [
       "649"
      ],
      "text/latex": [
       "649"
      ],
      "text/markdown": [
       "649"
      ],
      "text/plain": [
       "[1] 649"
      ]
     },
     "metadata": {},
     "output_type": "display_data"
    }
   ],
   "source": [
    "sum(hflights$Diverted == 1)"
   ]
  },
  {
   "cell_type": "code",
   "execution_count": 30,
   "metadata": {},
   "outputs": [
    {
     "data": {
      "text/html": [
       "649"
      ],
      "text/latex": [
       "649"
      ],
      "text/markdown": [
       "649"
      ],
      "text/plain": [
       "[1] 649"
      ]
     },
     "metadata": {},
     "output_type": "display_data"
    }
   ],
   "source": [
    "sum(hflights$Diverted)"
   ]
  },
  {
   "cell_type": "code",
   "execution_count": 31,
   "metadata": {},
   "outputs": [
    {
     "data": {
      "text/html": [
       "'numeric'"
      ],
      "text/latex": [
       "'numeric'"
      ],
      "text/markdown": [
       "'numeric'"
      ],
      "text/plain": [
       "[1] \"numeric\""
      ]
     },
     "metadata": {},
     "output_type": "display_data"
    }
   ],
   "source": [
    "mode(hflights$Diverted)"
   ]
  },
  {
   "cell_type": "code",
   "execution_count": 32,
   "metadata": {},
   "outputs": [],
   "source": [
    "flights.5 <- flights.4 %>% \n",
    "group_by(Dest, Month) %>%\n",
    "summarise(\n",
    "    num_Cancelled = sum(Cancelled),\n",
    "    num_Diverted = sum(Diverted),\n",
    "    num_Air = length(Dest) - sum(Cancelled) - sum(Diverted)\n",
    ")"
   ]
  },
  {
   "cell_type": "code",
   "execution_count": 33,
   "metadata": {},
   "outputs": [
    {
     "name": "stdout",
     "output_type": "stream",
     "text": [
      "Classes 'grouped_df', 'tbl_df', 'tbl' and 'data.frame':\t72 obs. of  5 variables:\n",
      " $ Dest         : chr  \"ATL\" \"ATL\" \"ATL\" \"ATL\" ...\n",
      " $ Month        : int  1 2 3 4 5 6 7 8 9 10 ...\n",
      " $ num_Cancelled: int  5 2 5 6 3 1 2 1 1 1 ...\n",
      " $ num_Diverted : int  0 0 0 2 0 2 0 1 0 0 ...\n",
      " $ num_Air      : int  96 90 121 121 129 112 102 106 101 102 ...\n",
      " - attr(*, \"vars\")= chr \"Dest\"\n",
      " - attr(*, \"drop\")= logi TRUE\n"
     ]
    }
   ],
   "source": [
    "str(flights.5)"
   ]
  },
  {
   "cell_type": "code",
   "execution_count": 34,
   "metadata": {},
   "outputs": [
    {
     "data": {
      "text/html": [
       "<table>\n",
       "<thead><tr><th scope=col>Dest</th><th scope=col>Month</th><th scope=col>num_Cancelled</th><th scope=col>num_Diverted</th><th scope=col>num_Air</th></tr></thead>\n",
       "<tbody>\n",
       "\t<tr><td>ATL</td><td>1  </td><td>5  </td><td>0  </td><td>96 </td></tr>\n",
       "\t<tr><td>ATL</td><td>2  </td><td>2  </td><td>0  </td><td>90 </td></tr>\n",
       "</tbody>\n",
       "</table>\n"
      ],
      "text/latex": [
       "\\begin{tabular}{r|lllll}\n",
       " Dest & Month & num\\_Cancelled & num\\_Diverted & num\\_Air\\\\\n",
       "\\hline\n",
       "\t ATL & 1   & 5   & 0   & 96 \\\\\n",
       "\t ATL & 2   & 2   & 0   & 90 \\\\\n",
       "\\end{tabular}\n"
      ],
      "text/markdown": [
       "\n",
       "Dest | Month | num_Cancelled | num_Diverted | num_Air | \n",
       "|---|---|\n",
       "| ATL | 1   | 5   | 0   | 96  | \n",
       "| ATL | 2   | 2   | 0   | 90  | \n",
       "\n",
       "\n"
      ],
      "text/plain": [
       "  Dest Month num_Cancelled num_Diverted num_Air\n",
       "1 ATL  1     5             0            96     \n",
       "2 ATL  2     2             0            90     "
      ]
     },
     "metadata": {},
     "output_type": "display_data"
    }
   ],
   "source": [
    "head(flights.5,2)"
   ]
  },
  {
   "cell_type": "code",
   "execution_count": 35,
   "metadata": {},
   "outputs": [],
   "source": [
    "melt.hflights.5 <- melt(flights.5, c(\"Dest\",\"Month\"), \n",
    "                        c(\"num_Cancelled\",\"num_Diverted\",\"num_Air\"), na.rm=T)"
   ]
  },
  {
   "cell_type": "code",
   "execution_count": 36,
   "metadata": {},
   "outputs": [
    {
     "data": {
      "text/html": [
       "<table>\n",
       "<thead><tr><th scope=col>Dest</th><th scope=col>Month</th><th scope=col>variable</th><th scope=col>value</th></tr></thead>\n",
       "<tbody>\n",
       "\t<tr><td>ATL          </td><td>1            </td><td>num_Cancelled</td><td>5            </td></tr>\n",
       "</tbody>\n",
       "</table>\n"
      ],
      "text/latex": [
       "\\begin{tabular}{r|llll}\n",
       " Dest & Month & variable & value\\\\\n",
       "\\hline\n",
       "\t ATL             & 1               & num\\_Cancelled & 5              \\\\\n",
       "\\end{tabular}\n"
      ],
      "text/markdown": [
       "\n",
       "Dest | Month | variable | value | \n",
       "|---|\n",
       "| ATL           | 1             | num_Cancelled | 5             | \n",
       "\n",
       "\n"
      ],
      "text/plain": [
       "  Dest Month variable      value\n",
       "1 ATL  1     num_Cancelled 5    "
      ]
     },
     "metadata": {},
     "output_type": "display_data"
    }
   ],
   "source": [
    "head(melt.hflights.5,1)"
   ]
  },
  {
   "cell_type": "code",
   "execution_count": 37,
   "metadata": {},
   "outputs": [
    {
     "data": {
      "text/html": [
       "<table>\n",
       "<thead><tr><th scope=col>Dest</th><th scope=col>Month</th><th scope=col>variable</th><th scope=col>value</th><th scope=col>cnt</th></tr></thead>\n",
       "<tbody>\n",
       "\t<tr><td>ATL          </td><td>1            </td><td>num_Cancelled</td><td>5            </td><td>0.55555556   </td></tr>\n",
       "\t<tr><td>ATL          </td><td>2            </td><td>num_Cancelled</td><td>2            </td><td>0.05263158   </td></tr>\n",
       "\t<tr><td>ATL          </td><td>3            </td><td>num_Cancelled</td><td>5            </td><td>0.55555556   </td></tr>\n",
       "\t<tr><td>ATL          </td><td>4            </td><td>num_Cancelled</td><td>6            </td><td>0.31578947   </td></tr>\n",
       "\t<tr><td>ATL          </td><td>5            </td><td>num_Cancelled</td><td>3            </td><td>0.18750000   </td></tr>\n",
       "\t<tr><td>ATL          </td><td>6            </td><td>num_Cancelled</td><td>1            </td><td>0.14285714   </td></tr>\n",
       "</tbody>\n",
       "</table>\n"
      ],
      "text/latex": [
       "\\begin{tabular}{r|lllll}\n",
       " Dest & Month & variable & value & cnt\\\\\n",
       "\\hline\n",
       "\t ATL             & 1               & num\\_Cancelled & 5               & 0.55555556     \\\\\n",
       "\t ATL             & 2               & num\\_Cancelled & 2               & 0.05263158     \\\\\n",
       "\t ATL             & 3               & num\\_Cancelled & 5               & 0.55555556     \\\\\n",
       "\t ATL             & 4               & num\\_Cancelled & 6               & 0.31578947     \\\\\n",
       "\t ATL             & 5               & num\\_Cancelled & 3               & 0.18750000     \\\\\n",
       "\t ATL             & 6               & num\\_Cancelled & 1               & 0.14285714     \\\\\n",
       "\\end{tabular}\n"
      ],
      "text/markdown": [
       "\n",
       "Dest | Month | variable | value | cnt | \n",
       "|---|---|---|---|---|---|\n",
       "| ATL           | 1             | num_Cancelled | 5             | 0.55555556    | \n",
       "| ATL           | 2             | num_Cancelled | 2             | 0.05263158    | \n",
       "| ATL           | 3             | num_Cancelled | 5             | 0.55555556    | \n",
       "| ATL           | 4             | num_Cancelled | 6             | 0.31578947    | \n",
       "| ATL           | 5             | num_Cancelled | 3             | 0.18750000    | \n",
       "| ATL           | 6             | num_Cancelled | 1             | 0.14285714    | \n",
       "\n",
       "\n"
      ],
      "text/plain": [
       "  Dest Month variable      value cnt       \n",
       "1 ATL  1     num_Cancelled 5     0.55555556\n",
       "2 ATL  2     num_Cancelled 2     0.05263158\n",
       "3 ATL  3     num_Cancelled 5     0.55555556\n",
       "4 ATL  4     num_Cancelled 6     0.31578947\n",
       "5 ATL  5     num_Cancelled 3     0.18750000\n",
       "6 ATL  6     num_Cancelled 1     0.14285714"
      ]
     },
     "metadata": {},
     "output_type": "display_data"
    }
   ],
   "source": [
    "melt2.hflights.5 <- melt.hflights.5 %>%\n",
    "group_by(Month, variable) %>%\n",
    "mutate(cnt = value/sum(value))\n",
    "\n",
    "head(melt2.hflights.5)"
   ]
  },
  {
   "cell_type": "code",
   "execution_count": 38,
   "metadata": {},
   "outputs": [],
   "source": [
    "mm <- ggplot(melt2.hflights.5, aes(x=Month, y=cnt, fill=Dest)) + \n",
    "geom_bar(stat='identity')"
   ]
  },
  {
   "cell_type": "code",
   "execution_count": 39,
   "metadata": {},
   "outputs": [
    {
     "name": "stderr",
     "output_type": "stream",
     "text": [
      "Warning message:\n",
      "\"Removed 18 rows containing missing values (position_stack).\""
     ]
    },
    {
     "data": {},
     "metadata": {},
     "output_type": "display_data"
    },
    {
     "data": {
      "image/png": "[encoded data removed]",
      "text/plain": [
       "plot without title"
      ]
     },
     "metadata": {},
     "output_type": "display_data"
    }
   ],
   "source": [
    "mm"
   ]
  },
  {
   "cell_type": "code",
   "execution_count": 40,
   "metadata": {},
   "outputs": [
    {
     "name": "stderr",
     "output_type": "stream",
     "text": [
      "Warning message:\n",
      "\"Removed 18 rows containing missing values (position_stack).\""
     ]
    },
    {
     "data": {},
     "metadata": {},
     "output_type": "display_data"
    },
    {
     "data": {
      "image/png": "[encoded data removed]",
      "text/plain": [
       "plot without title"
      ]
     },
     "metadata": {},
     "output_type": "display_data"
    }
   ],
   "source": [
    "mm + facet_wrap(~ variable, nrow=3)"
   ]
  },
  {
   "cell_type": "markdown",
   "metadata": {},
   "source": [
    "# 3번째"
   ]
  },
  {
   "cell_type": "code",
   "execution_count": 103,
   "metadata": {},
   "outputs": [
    {
     "name": "stdout",
     "output_type": "stream",
     "text": [
      "'data.frame':\t227496 obs. of  21 variables:\n",
      " $ Year             : int  2011 2011 2011 2011 2011 2011 2011 2011 2011 2011 ...\n",
      " $ Month            : int  1 1 1 1 1 1 1 1 1 1 ...\n",
      " $ DayofMonth       : int  1 2 3 4 5 6 7 8 9 10 ...\n",
      " $ DayOfWeek        : int  6 7 1 2 3 4 5 6 7 1 ...\n",
      " $ DepTime          : int  1400 1401 1352 1403 1405 1359 1359 1355 1443 1443 ...\n",
      " $ ArrTime          : int  1500 1501 1502 1513 1507 1503 1509 1454 1554 1553 ...\n",
      " $ UniqueCarrier    : chr  \"AA\" \"AA\" \"AA\" \"AA\" ...\n",
      " $ FlightNum        : int  428 428 428 428 428 428 428 428 428 428 ...\n",
      " $ TailNum          : chr  \"N576AA\" \"N557AA\" \"N541AA\" \"N403AA\" ...\n",
      " $ ActualElapsedTime: int  60 60 70 70 62 64 70 59 71 70 ...\n",
      " $ AirTime          : int  40 45 48 39 44 45 43 40 41 45 ...\n",
      " $ ArrDelay         : int  -10 -9 -8 3 -3 -7 -1 -16 44 43 ...\n",
      " $ DepDelay         : int  0 1 -8 3 5 -1 -1 -5 43 43 ...\n",
      " $ Origin           : chr  \"IAH\" \"IAH\" \"IAH\" \"IAH\" ...\n",
      " $ Dest             : chr  \"DFW\" \"DFW\" \"DFW\" \"DFW\" ...\n",
      " $ Distance         : int  224 224 224 224 224 224 224 224 224 224 ...\n",
      " $ TaxiIn           : int  7 6 5 9 9 6 12 7 8 6 ...\n",
      " $ TaxiOut          : int  13 9 17 22 9 13 15 12 22 19 ...\n",
      " $ Cancelled        : int  0 0 0 0 0 0 0 0 0 0 ...\n",
      " $ CancellationCode : chr  \"\" \"\" \"\" \"\" ...\n",
      " $ Diverted         : int  0 0 0 0 0 0 0 0 0 0 ...\n"
     ]
    }
   ],
   "source": [
    "str(hflights)"
   ]
  },
  {
   "cell_type": "markdown",
   "metadata": {},
   "source": [
    "1. 항공사별(UniqueCarrier)로 운항횟수를 구한 후에, 운항횟수에 대해서 내림차순으로 \n",
    "2. 상위 3개 데이터만 뽑아보기 "
   ]
  },
  {
   "cell_type": "code",
   "execution_count": 46,
   "metadata": {},
   "outputs": [],
   "source": [
    "flights.7 <- hflights %>% \n",
    "group_by(UniqueCarrier) %>%\n",
    "summarise( \n",
    "    num_Air = length(Dest) - -sum(Cancelled)-sum(Diverted)\n",
    ") %>%\n",
    "arrange(desc(num_Air)) %>%\n",
    "head(3)"
   ]
  },
  {
   "cell_type": "code",
   "execution_count": 47,
   "metadata": {},
   "outputs": [
    {
     "data": {
      "text/html": [
       "<table>\n",
       "<thead><tr><th scope=col>UniqueCarrier</th><th scope=col>num_Air</th></tr></thead>\n",
       "<tbody>\n",
       "\t<tr><td>XE   </td><td>73933</td></tr>\n",
       "\t<tr><td>CO   </td><td>70323</td></tr>\n",
       "\t<tr><td>WN   </td><td>45942</td></tr>\n",
       "</tbody>\n",
       "</table>\n"
      ],
      "text/latex": [
       "\\begin{tabular}{r|ll}\n",
       " UniqueCarrier & num\\_Air\\\\\n",
       "\\hline\n",
       "\t XE    & 73933\\\\\n",
       "\t CO    & 70323\\\\\n",
       "\t WN    & 45942\\\\\n",
       "\\end{tabular}\n"
      ],
      "text/markdown": [
       "\n",
       "UniqueCarrier | num_Air | \n",
       "|---|---|---|\n",
       "| XE    | 73933 | \n",
       "| CO    | 70323 | \n",
       "| WN    | 45942 | \n",
       "\n",
       "\n"
      ],
      "text/plain": [
       "  UniqueCarrier num_Air\n",
       "1 XE            73933  \n",
       "2 CO            70323  \n",
       "3 WN            45942  "
      ]
     },
     "metadata": {},
     "output_type": "display_data"
    }
   ],
   "source": [
    "flights.7"
   ]
  },
  {
   "cell_type": "markdown",
   "metadata": {},
   "source": [
    "2. 1번째 결과를 사용해서 상위 3개 항공사에 대한 평균 도착 지연시간, 평균 출발 지연시간을 구하기"
   ]
  },
  {
   "cell_type": "code",
   "execution_count": null,
   "metadata": {},
   "outputs": [],
   "source": []
  }
 ],
 "metadata": {
  "kernelspec": {
   "display_name": "R",
   "language": "R",
   "name": "ir"
  },
  "language_info": {
   "codemirror_mode": "r",
   "file_extension": ".r",
   "mimetype": "text/x-r-source",
   "name": "R",
   "pygments_lexer": "r",
   "version": "3.4.3"
  }
 },
 "nbformat": 4,
 "nbformat_minor": 2
}
