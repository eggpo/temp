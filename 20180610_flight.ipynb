{
 "cells": [
  {
   "cell_type": "code",
   "execution_count": 1,
   "metadata": {},
   "outputs": [
    {
     "name": "stderr",
     "output_type": "stream",
     "text": [
      "\n",
      "Attaching package: 'dplyr'\n",
      "\n",
      "The following objects are masked from 'package:stats':\n",
      "\n",
      "    filter, lag\n",
      "\n",
      "The following objects are masked from 'package:base':\n",
      "\n",
      "    intersect, setdiff, setequal, union\n",
      "\n"
     ]
    }
   ],
   "source": [
    "library(dplyr)"
   ]
  },
  {
   "cell_type": "code",
   "execution_count": 2,
   "metadata": {},
   "outputs": [
    {
     "name": "stderr",
     "output_type": "stream",
     "text": [
      "Warning message:\n",
      "\"package 'ggplot2' was built under R version 3.4.4\""
     ]
    }
   ],
   "source": [
    "library(ggplot2)"
   ]
  },
  {
   "cell_type": "code",
   "execution_count": 3,
   "metadata": {},
   "outputs": [],
   "source": [
    "library(hflights)"
   ]
  },
  {
   "cell_type": "code",
   "execution_count": 4,
   "metadata": {},
   "outputs": [
    {
     "name": "stderr",
     "output_type": "stream",
     "text": [
      "Warning message:\n",
      "\"package 'reshape2' was built under R version 3.4.4\""
     ]
    }
   ],
   "source": [
    "library(reshape2)"
   ]
  },
  {
   "cell_type": "code",
   "execution_count": 5,
   "metadata": {},
   "outputs": [
    {
     "name": "stdout",
     "output_type": "stream",
     "text": [
      "'data.frame':\t227496 obs. of  21 variables:\n",
      " $ Year             : int  2011 2011 2011 2011 2011 2011 2011 2011 2011 2011 ...\n",
      " $ Month            : int  1 1 1 1 1 1 1 1 1 1 ...\n",
      " $ DayofMonth       : int  1 2 3 4 5 6 7 8 9 10 ...\n",
      " $ DayOfWeek        : int  6 7 1 2 3 4 5 6 7 1 ...\n",
      " $ DepTime          : int  1400 1401 1352 1403 1405 1359 1359 1355 1443 1443 ...\n",
      " $ ArrTime          : int  1500 1501 1502 1513 1507 1503 1509 1454 1554 1553 ...\n",
      " $ UniqueCarrier    : chr  \"AA\" \"AA\" \"AA\" \"AA\" ...\n",
      " $ FlightNum        : int  428 428 428 428 428 428 428 428 428 428 ...\n",
      " $ TailNum          : chr  \"N576AA\" \"N557AA\" \"N541AA\" \"N403AA\" ...\n",
      " $ ActualElapsedTime: int  60 60 70 70 62 64 70 59 71 70 ...\n",
      " $ AirTime          : int  40 45 48 39 44 45 43 40 41 45 ...\n",
      " $ ArrDelay         : int  -10 -9 -8 3 -3 -7 -1 -16 44 43 ...\n",
      " $ DepDelay         : int  0 1 -8 3 5 -1 -1 -5 43 43 ...\n",
      " $ Origin           : chr  \"IAH\" \"IAH\" \"IAH\" \"IAH\" ...\n",
      " $ Dest             : chr  \"DFW\" \"DFW\" \"DFW\" \"DFW\" ...\n",
      " $ Distance         : int  224 224 224 224 224 224 224 224 224 224 ...\n",
      " $ TaxiIn           : int  7 6 5 9 9 6 12 7 8 6 ...\n",
      " $ TaxiOut          : int  13 9 17 22 9 13 15 12 22 19 ...\n",
      " $ Cancelled        : int  0 0 0 0 0 0 0 0 0 0 ...\n",
      " $ CancellationCode : chr  \"\" \"\" \"\" \"\" ...\n",
      " $ Diverted         : int  0 0 0 0 0 0 0 0 0 0 ...\n"
     ]
    }
   ],
   "source": [
    "\n",
    "data(hflights, package='hflights')\n",
    "\n",
    "str(hflights)"
   ]
  },
  {
   "cell_type": "markdown",
   "metadata": {},
   "source": [
    "Step 1 : 출발 공항에 대해서 도착 공항별로 평균 출발 지연시간, 평균 도착 지연시간을 구하시오. (평균 출발 지연시간과 평균 도착 지연시간은 소수점 셋째자리 까지 표시) "
   ]
  },
  {
   "cell_type": "code",
   "execution_count": 6,
   "metadata": {},
   "outputs": [
    {
     "name": "stderr",
     "output_type": "stream",
     "text": [
      "Warning message:\n",
      "\"package 'bindrcpp' was built under R version 3.4.4\""
     ]
    }
   ],
   "source": [
    "flights.1 <- hflights %>% \n",
    "group_by(Origin, Dest) %>%\n",
    "summarise(avg_delay = round(mean(DepDelay , na.rm = T), digit=3), avg_ArrDelay = round(mean(ArrDelay, na.rm = T), digits=3))"
   ]
  },
  {
   "cell_type": "code",
   "execution_count": 7,
   "metadata": {},
   "outputs": [
    {
     "data": {
      "text/html": [
       "<table>\n",
       "<thead><tr><th scope=col>Origin</th><th scope=col>Dest</th><th scope=col>avg_delay</th><th scope=col>avg_ArrDelay</th></tr></thead>\n",
       "<tbody>\n",
       "\t<tr><td>HOU    </td><td>ABQ    </td><td>11.582 </td><td>  6.001</td></tr>\n",
       "\t<tr><td>HOU    </td><td>ATL    </td><td> 9.129 </td><td>  6.810</td></tr>\n",
       "\t<tr><td>HOU    </td><td>AUS    </td><td>12.189 </td><td>  9.274</td></tr>\n",
       "\t<tr><td>HOU    </td><td>BHM    </td><td>15.015 </td><td>  6.673</td></tr>\n",
       "\t<tr><td>HOU    </td><td>BKG    </td><td>-3.202 </td><td>-16.234</td></tr>\n",
       "\t<tr><td>HOU    </td><td>BNA    </td><td>11.395 </td><td>  5.394</td></tr>\n",
       "</tbody>\n",
       "</table>\n"
      ],
      "text/latex": [
       "\\begin{tabular}{r|llll}\n",
       " Origin & Dest & avg\\_delay & avg\\_ArrDelay\\\\\n",
       "\\hline\n",
       "\t HOU     & ABQ     & 11.582  &   6.001\\\\\n",
       "\t HOU     & ATL     &  9.129  &   6.810\\\\\n",
       "\t HOU     & AUS     & 12.189  &   9.274\\\\\n",
       "\t HOU     & BHM     & 15.015  &   6.673\\\\\n",
       "\t HOU     & BKG     & -3.202  & -16.234\\\\\n",
       "\t HOU     & BNA     & 11.395  &   5.394\\\\\n",
       "\\end{tabular}\n"
      ],
      "text/markdown": [
       "\n",
       "Origin | Dest | avg_delay | avg_ArrDelay | \n",
       "|---|---|---|---|---|---|\n",
       "| HOU     | ABQ     | 11.582  |   6.001 | \n",
       "| HOU     | ATL     |  9.129  |   6.810 | \n",
       "| HOU     | AUS     | 12.189  |   9.274 | \n",
       "| HOU     | BHM     | 15.015  |   6.673 | \n",
       "| HOU     | BKG     | -3.202  | -16.234 | \n",
       "| HOU     | BNA     | 11.395  |   5.394 | \n",
       "\n",
       "\n"
      ],
      "text/plain": [
       "  Origin Dest avg_delay avg_ArrDelay\n",
       "1 HOU    ABQ  11.582      6.001     \n",
       "2 HOU    ATL   9.129      6.810     \n",
       "3 HOU    AUS  12.189      9.274     \n",
       "4 HOU    BHM  15.015      6.673     \n",
       "5 HOU    BKG  -3.202    -16.234     \n",
       "6 HOU    BNA  11.395      5.394     "
      ]
     },
     "metadata": {},
     "output_type": "display_data"
    }
   ],
   "source": [
    "head(flights.1)"
   ]
  },
  {
   "cell_type": "markdown",
   "metadata": {},
   "source": [
    "Step 2 : Step 1의 결과를 이용하여 아래의 그림을 그리기 위한 melting을 하시오."
   ]
  },
  {
   "cell_type": "code",
   "execution_count": 8,
   "metadata": {},
   "outputs": [],
   "source": [
    "flights.melt <- melt(flights.1, id=c(\"Origin\"), measure=c(\"avg_delay\",\"avg_ArrDelay\"), variable.name=\"Delay_type\",\n",
    "    value.name = 'Deley_time', na.rm = T)"
   ]
  },
  {
   "cell_type": "code",
   "execution_count": 9,
   "metadata": {},
   "outputs": [
    {
     "data": {
      "text/html": [
       "<table>\n",
       "<thead><tr><th scope=col>Origin</th><th scope=col>Delay_type</th><th scope=col>Deley_time</th></tr></thead>\n",
       "<tbody>\n",
       "\t<tr><td>HOU      </td><td>avg_delay</td><td>11.582   </td></tr>\n",
       "\t<tr><td>HOU      </td><td>avg_delay</td><td> 9.129   </td></tr>\n",
       "\t<tr><td>HOU      </td><td>avg_delay</td><td>12.189   </td></tr>\n",
       "\t<tr><td>HOU      </td><td>avg_delay</td><td>15.015   </td></tr>\n",
       "\t<tr><td>HOU      </td><td>avg_delay</td><td>-3.202   </td></tr>\n",
       "\t<tr><td>HOU      </td><td>avg_delay</td><td>11.395   </td></tr>\n",
       "</tbody>\n",
       "</table>\n"
      ],
      "text/latex": [
       "\\begin{tabular}{r|lll}\n",
       " Origin & Delay\\_type & Deley\\_time\\\\\n",
       "\\hline\n",
       "\t HOU         & avg\\_delay & 11.582     \\\\\n",
       "\t HOU         & avg\\_delay &  9.129     \\\\\n",
       "\t HOU         & avg\\_delay & 12.189     \\\\\n",
       "\t HOU         & avg\\_delay & 15.015     \\\\\n",
       "\t HOU         & avg\\_delay & -3.202     \\\\\n",
       "\t HOU         & avg\\_delay & 11.395     \\\\\n",
       "\\end{tabular}\n"
      ],
      "text/markdown": [
       "\n",
       "Origin | Delay_type | Deley_time | \n",
       "|---|---|---|---|---|---|\n",
       "| HOU       | avg_delay | 11.582    | \n",
       "| HOU       | avg_delay |  9.129    | \n",
       "| HOU       | avg_delay | 12.189    | \n",
       "| HOU       | avg_delay | 15.015    | \n",
       "| HOU       | avg_delay | -3.202    | \n",
       "| HOU       | avg_delay | 11.395    | \n",
       "\n",
       "\n"
      ],
      "text/plain": [
       "  Origin Delay_type Deley_time\n",
       "1 HOU    avg_delay  11.582    \n",
       "2 HOU    avg_delay   9.129    \n",
       "3 HOU    avg_delay  12.189    \n",
       "4 HOU    avg_delay  15.015    \n",
       "5 HOU    avg_delay  -3.202    \n",
       "6 HOU    avg_delay  11.395    "
      ]
     },
     "metadata": {},
     "output_type": "display_data"
    }
   ],
   "source": [
    "head(flights.melt)"
   ]
  },
  {
   "cell_type": "code",
   "execution_count": 10,
   "metadata": {},
   "outputs": [
    {
     "data": {},
     "metadata": {},
     "output_type": "display_data"
    },
    {
     "ename": "ERROR",
     "evalue": "Error in png(tf, width, height, \"in\", pointsize, bg, res, antialias = antialias): png() 장치를 시작할 수 없습니다\n",
     "output_type": "error",
     "traceback": [
      "Error in png(tf, width, height, \"in\", pointsize, bg, res, antialias = antialias): png() 장치를 시작할 수 없습니다\nTraceback:\n"
     ]
    },
    {
     "data": {
      "text/plain": [
       "plot without title"
      ]
     },
     "metadata": {},
     "output_type": "display_data"
    }
   ],
   "source": [
    "ggplot(flights.melt, aes(x=Deley_time, fill=Delay_type, alpha=0.00001)) + \n",
    "geom_density(colour = \"lightgray\", size = 0.00001) +\n",
    "facet_wrap(~Origin, nrow=2)"
   ]
  },
  {
   "cell_type": "markdown",
   "metadata": {},
   "source": [
    "# 2번째"
   ]
  },
  {
   "cell_type": "markdown",
   "metadata": {},
   "source": [
    "Step 1 : 목적지 공항에 대해 연착 건수를 구하고, 연착 건수가 2000회 이상인 공항에 대한 데이터만 따로 추출하시오. (연착 건수는 도착 지연시간 5분 이상인 것으로 할 것) "
   ]
  },
  {
   "cell_type": "code",
   "execution_count": 11,
   "metadata": {},
   "outputs": [],
   "source": [
    "flights.2 <- hflights %>%\n",
    "group_by(Dest) %>%\n",
    "summarise(num_DepDelay = sum(DepDelay  > 5, na.rm = T))"
   ]
  },
  {
   "cell_type": "code",
   "execution_count": null,
   "metadata": {},
   "outputs": [],
   "source": [
    "head(flights.2)"
   ]
  },
  {
   "cell_type": "code",
   "execution_count": 12,
   "metadata": {},
   "outputs": [],
   "source": [
    "flights.3 <- flights.2[flights.2$num_DepDelay >= 2000, ]"
   ]
  },
  {
   "cell_type": "code",
   "execution_count": null,
   "metadata": {},
   "outputs": [],
   "source": [
    "head(flights.3)"
   ]
  },
  {
   "cell_type": "markdown",
   "metadata": {},
   "source": [
    "Step 2 : Step 1의 결과를 이용하여 (목적지 공항, 월) 별 결항 횟수, 회항 횟수, 운항 횟수를 구하시오. (운항 횟수는 결항과 회항을 제외할 것) "
   ]
  },
  {
   "cell_type": "code",
   "execution_count": 13,
   "metadata": {},
   "outputs": [],
   "source": [
    "flights.4 <- hflights[hflights$Dest == flights.3$Dest,]"
   ]
  },
  {
   "cell_type": "code",
   "execution_count": null,
   "metadata": {},
   "outputs": [],
   "source": [
    "head(flights.4,2)"
   ]
  },
  {
   "cell_type": "code",
   "execution_count": 14,
   "metadata": {},
   "outputs": [],
   "source": [
    "flights.5 <- flights.4 %>%\n",
    "group_by(Dest, Month) %>%\n",
    "summarise(\n",
    "  num_Cancelled=sum(Cancelled),\n",
    "  num_Diverted=sum(Diverted),\n",
    "  num_Air=length(Dest)-sum(Cancelled)-sum(Diverted)) "
   ]
  },
  {
   "cell_type": "code",
   "execution_count": 15,
   "metadata": {},
   "outputs": [
    {
     "data": {
      "text/html": [
       "<table>\n",
       "<thead><tr><th scope=col>Dest</th><th scope=col>Month</th><th scope=col>num_Cancelled</th><th scope=col>num_Diverted</th><th scope=col>num_Air</th></tr></thead>\n",
       "<tbody>\n",
       "\t<tr><td>ATL</td><td> 1 </td><td> 5 </td><td>0  </td><td> 96</td></tr>\n",
       "\t<tr><td>ATL</td><td> 2 </td><td> 2 </td><td>0  </td><td> 90</td></tr>\n",
       "\t<tr><td>ATL</td><td> 3 </td><td> 5 </td><td>0  </td><td>121</td></tr>\n",
       "\t<tr><td>ATL</td><td> 4 </td><td> 6 </td><td>2  </td><td>121</td></tr>\n",
       "\t<tr><td>ATL</td><td> 5 </td><td> 3 </td><td>0  </td><td>129</td></tr>\n",
       "\t<tr><td>ATL</td><td> 6 </td><td> 1 </td><td>2  </td><td>112</td></tr>\n",
       "\t<tr><td>ATL</td><td> 7 </td><td> 2 </td><td>0  </td><td>102</td></tr>\n",
       "\t<tr><td>ATL</td><td> 8 </td><td> 1 </td><td>1  </td><td>106</td></tr>\n",
       "\t<tr><td>ATL</td><td> 9 </td><td> 1 </td><td>0  </td><td>101</td></tr>\n",
       "\t<tr><td>ATL</td><td>10 </td><td> 1 </td><td>0  </td><td>102</td></tr>\n",
       "\t<tr><td>ATL</td><td>11 </td><td> 1 </td><td>0  </td><td> 93</td></tr>\n",
       "\t<tr><td>ATL</td><td>12 </td><td> 2 </td><td>0  </td><td>102</td></tr>\n",
       "\t<tr><td>DAL</td><td> 1 </td><td> 3 </td><td>0  </td><td>146</td></tr>\n",
       "\t<tr><td>DAL</td><td> 2 </td><td>20 </td><td>1  </td><td>111</td></tr>\n",
       "\t<tr><td>DAL</td><td> 3 </td><td> 2 </td><td>0  </td><td>137</td></tr>\n",
       "\t<tr><td>DAL</td><td> 4 </td><td>11 </td><td>1  </td><td>127</td></tr>\n",
       "\t<tr><td>DAL</td><td> 5 </td><td> 7 </td><td>0  </td><td>130</td></tr>\n",
       "\t<tr><td>DAL</td><td> 6 </td><td> 4 </td><td>0  </td><td>128</td></tr>\n",
       "\t<tr><td>DAL</td><td> 7 </td><td> 5 </td><td>0  </td><td>133</td></tr>\n",
       "\t<tr><td>DAL</td><td> 8 </td><td> 2 </td><td>0  </td><td>137</td></tr>\n",
       "\t<tr><td>DAL</td><td> 9 </td><td> 4 </td><td>1  </td><td>127</td></tr>\n",
       "\t<tr><td>DAL</td><td>10 </td><td> 3 </td><td>1  </td><td>132</td></tr>\n",
       "\t<tr><td>DAL</td><td>11 </td><td> 2 </td><td>1  </td><td>126</td></tr>\n",
       "\t<tr><td>DAL</td><td>12 </td><td> 2 </td><td>0  </td><td>136</td></tr>\n",
       "\t<tr><td>DEN</td><td> 1 </td><td> 0 </td><td>0  </td><td> 71</td></tr>\n",
       "\t<tr><td>DEN</td><td> 2 </td><td> 3 </td><td>0  </td><td> 66</td></tr>\n",
       "\t<tr><td>DEN</td><td> 3 </td><td> 1 </td><td>0  </td><td> 74</td></tr>\n",
       "\t<tr><td>DEN</td><td> 4 </td><td> 0 </td><td>0  </td><td> 79</td></tr>\n",
       "\t<tr><td>DEN</td><td> 5 </td><td> 0 </td><td>0  </td><td> 79</td></tr>\n",
       "\t<tr><td>DEN</td><td> 6 </td><td> 1 </td><td>0  </td><td> 77</td></tr>\n",
       "\t<tr><td>...</td><td>...</td><td>...</td><td>...</td><td>...</td></tr>\n",
       "\t<tr><td>LAX</td><td> 7 </td><td>0  </td><td>0  </td><td>103</td></tr>\n",
       "\t<tr><td>LAX</td><td> 8 </td><td>1  </td><td>1  </td><td>103</td></tr>\n",
       "\t<tr><td>LAX</td><td> 9 </td><td>0  </td><td>0  </td><td> 91</td></tr>\n",
       "\t<tr><td>LAX</td><td>10 </td><td>0  </td><td>0  </td><td> 96</td></tr>\n",
       "\t<tr><td>LAX</td><td>11 </td><td>0  </td><td>1  </td><td> 88</td></tr>\n",
       "\t<tr><td>LAX</td><td>12 </td><td>0  </td><td>0  </td><td> 83</td></tr>\n",
       "\t<tr><td>MSY</td><td> 1 </td><td>1  </td><td>1  </td><td> 92</td></tr>\n",
       "\t<tr><td>MSY</td><td> 2 </td><td>5  </td><td>0  </td><td> 88</td></tr>\n",
       "\t<tr><td>MSY</td><td> 3 </td><td>0  </td><td>0  </td><td>100</td></tr>\n",
       "\t<tr><td>MSY</td><td> 4 </td><td>1  </td><td>0  </td><td>104</td></tr>\n",
       "\t<tr><td>MSY</td><td> 5 </td><td>1  </td><td>0  </td><td> 84</td></tr>\n",
       "\t<tr><td>MSY</td><td> 6 </td><td>0  </td><td>0  </td><td> 95</td></tr>\n",
       "\t<tr><td>MSY</td><td> 7 </td><td>0  </td><td>0  </td><td>100</td></tr>\n",
       "\t<tr><td>MSY</td><td> 8 </td><td>0  </td><td>0  </td><td> 92</td></tr>\n",
       "\t<tr><td>MSY</td><td> 9 </td><td>1  </td><td>0  </td><td> 83</td></tr>\n",
       "\t<tr><td>MSY</td><td>10 </td><td>0  </td><td>0  </td><td>104</td></tr>\n",
       "\t<tr><td>MSY</td><td>11 </td><td>0  </td><td>0  </td><td> 93</td></tr>\n",
       "\t<tr><td>MSY</td><td>12 </td><td>0  </td><td>0  </td><td> 88</td></tr>\n",
       "\t<tr><td>ORD</td><td> 1 </td><td>0  </td><td>0  </td><td> 85</td></tr>\n",
       "\t<tr><td>ORD</td><td> 2 </td><td>8  </td><td>0  </td><td> 72</td></tr>\n",
       "\t<tr><td>ORD</td><td> 3 </td><td>1  </td><td>0  </td><td> 77</td></tr>\n",
       "\t<tr><td>ORD</td><td> 4 </td><td>0  </td><td>0  </td><td> 89</td></tr>\n",
       "\t<tr><td>ORD</td><td> 5 </td><td>5  </td><td>0  </td><td> 77</td></tr>\n",
       "\t<tr><td>ORD</td><td> 6 </td><td>1  </td><td>0  </td><td> 81</td></tr>\n",
       "\t<tr><td>ORD</td><td> 7 </td><td>1  </td><td>0  </td><td> 81</td></tr>\n",
       "\t<tr><td>ORD</td><td> 8 </td><td>0  </td><td>3  </td><td> 83</td></tr>\n",
       "\t<tr><td>ORD</td><td> 9 </td><td>0  </td><td>0  </td><td> 74</td></tr>\n",
       "\t<tr><td>ORD</td><td>10 </td><td>1  </td><td>0  </td><td> 81</td></tr>\n",
       "\t<tr><td>ORD</td><td>11 </td><td>0  </td><td>0  </td><td> 80</td></tr>\n",
       "\t<tr><td>ORD</td><td>12 </td><td>0  </td><td>0  </td><td> 75</td></tr>\n",
       "</tbody>\n",
       "</table>\n"
      ],
      "text/latex": [
       "\\begin{tabular}{r|lllll}\n",
       " Dest & Month & num\\_Cancelled & num\\_Diverted & num\\_Air\\\\\n",
       "\\hline\n",
       "\t ATL &  1  &  5  & 0   &  96\\\\\n",
       "\t ATL &  2  &  2  & 0   &  90\\\\\n",
       "\t ATL &  3  &  5  & 0   & 121\\\\\n",
       "\t ATL &  4  &  6  & 2   & 121\\\\\n",
       "\t ATL &  5  &  3  & 0   & 129\\\\\n",
       "\t ATL &  6  &  1  & 2   & 112\\\\\n",
       "\t ATL &  7  &  2  & 0   & 102\\\\\n",
       "\t ATL &  8  &  1  & 1   & 106\\\\\n",
       "\t ATL &  9  &  1  & 0   & 101\\\\\n",
       "\t ATL & 10  &  1  & 0   & 102\\\\\n",
       "\t ATL & 11  &  1  & 0   &  93\\\\\n",
       "\t ATL & 12  &  2  & 0   & 102\\\\\n",
       "\t DAL &  1  &  3  & 0   & 146\\\\\n",
       "\t DAL &  2  & 20  & 1   & 111\\\\\n",
       "\t DAL &  3  &  2  & 0   & 137\\\\\n",
       "\t DAL &  4  & 11  & 1   & 127\\\\\n",
       "\t DAL &  5  &  7  & 0   & 130\\\\\n",
       "\t DAL &  6  &  4  & 0   & 128\\\\\n",
       "\t DAL &  7  &  5  & 0   & 133\\\\\n",
       "\t DAL &  8  &  2  & 0   & 137\\\\\n",
       "\t DAL &  9  &  4  & 1   & 127\\\\\n",
       "\t DAL & 10  &  3  & 1   & 132\\\\\n",
       "\t DAL & 11  &  2  & 1   & 126\\\\\n",
       "\t DAL & 12  &  2  & 0   & 136\\\\\n",
       "\t DEN &  1  &  0  & 0   &  71\\\\\n",
       "\t DEN &  2  &  3  & 0   &  66\\\\\n",
       "\t DEN &  3  &  1  & 0   &  74\\\\\n",
       "\t DEN &  4  &  0  & 0   &  79\\\\\n",
       "\t DEN &  5  &  0  & 0   &  79\\\\\n",
       "\t DEN &  6  &  1  & 0   &  77\\\\\n",
       "\t ... & ... & ... & ... & ...\\\\\n",
       "\t LAX &  7  & 0   & 0   & 103\\\\\n",
       "\t LAX &  8  & 1   & 1   & 103\\\\\n",
       "\t LAX &  9  & 0   & 0   &  91\\\\\n",
       "\t LAX & 10  & 0   & 0   &  96\\\\\n",
       "\t LAX & 11  & 0   & 1   &  88\\\\\n",
       "\t LAX & 12  & 0   & 0   &  83\\\\\n",
       "\t MSY &  1  & 1   & 1   &  92\\\\\n",
       "\t MSY &  2  & 5   & 0   &  88\\\\\n",
       "\t MSY &  3  & 0   & 0   & 100\\\\\n",
       "\t MSY &  4  & 1   & 0   & 104\\\\\n",
       "\t MSY &  5  & 1   & 0   &  84\\\\\n",
       "\t MSY &  6  & 0   & 0   &  95\\\\\n",
       "\t MSY &  7  & 0   & 0   & 100\\\\\n",
       "\t MSY &  8  & 0   & 0   &  92\\\\\n",
       "\t MSY &  9  & 1   & 0   &  83\\\\\n",
       "\t MSY & 10  & 0   & 0   & 104\\\\\n",
       "\t MSY & 11  & 0   & 0   &  93\\\\\n",
       "\t MSY & 12  & 0   & 0   &  88\\\\\n",
       "\t ORD &  1  & 0   & 0   &  85\\\\\n",
       "\t ORD &  2  & 8   & 0   &  72\\\\\n",
       "\t ORD &  3  & 1   & 0   &  77\\\\\n",
       "\t ORD &  4  & 0   & 0   &  89\\\\\n",
       "\t ORD &  5  & 5   & 0   &  77\\\\\n",
       "\t ORD &  6  & 1   & 0   &  81\\\\\n",
       "\t ORD &  7  & 1   & 0   &  81\\\\\n",
       "\t ORD &  8  & 0   & 3   &  83\\\\\n",
       "\t ORD &  9  & 0   & 0   &  74\\\\\n",
       "\t ORD & 10  & 1   & 0   &  81\\\\\n",
       "\t ORD & 11  & 0   & 0   &  80\\\\\n",
       "\t ORD & 12  & 0   & 0   &  75\\\\\n",
       "\\end{tabular}\n"
      ],
      "text/markdown": [
       "\n",
       "Dest | Month | num_Cancelled | num_Diverted | num_Air | \n",
       "|---|---|---|---|---|---|---|---|---|---|---|---|---|---|---|---|---|---|---|---|---|---|---|---|---|---|---|---|---|---|---|---|---|---|---|---|---|---|---|---|---|---|---|---|---|---|---|---|---|---|---|---|---|---|---|---|---|---|---|---|---|\n",
       "| ATL |  1  |  5  | 0   |  96 | \n",
       "| ATL |  2  |  2  | 0   |  90 | \n",
       "| ATL |  3  |  5  | 0   | 121 | \n",
       "| ATL |  4  |  6  | 2   | 121 | \n",
       "| ATL |  5  |  3  | 0   | 129 | \n",
       "| ATL |  6  |  1  | 2   | 112 | \n",
       "| ATL |  7  |  2  | 0   | 102 | \n",
       "| ATL |  8  |  1  | 1   | 106 | \n",
       "| ATL |  9  |  1  | 0   | 101 | \n",
       "| ATL | 10  |  1  | 0   | 102 | \n",
       "| ATL | 11  |  1  | 0   |  93 | \n",
       "| ATL | 12  |  2  | 0   | 102 | \n",
       "| DAL |  1  |  3  | 0   | 146 | \n",
       "| DAL |  2  | 20  | 1   | 111 | \n",
       "| DAL |  3  |  2  | 0   | 137 | \n",
       "| DAL |  4  | 11  | 1   | 127 | \n",
       "| DAL |  5  |  7  | 0   | 130 | \n",
       "| DAL |  6  |  4  | 0   | 128 | \n",
       "| DAL |  7  |  5  | 0   | 133 | \n",
       "| DAL |  8  |  2  | 0   | 137 | \n",
       "| DAL |  9  |  4  | 1   | 127 | \n",
       "| DAL | 10  |  3  | 1   | 132 | \n",
       "| DAL | 11  |  2  | 1   | 126 | \n",
       "| DAL | 12  |  2  | 0   | 136 | \n",
       "| DEN |  1  |  0  | 0   |  71 | \n",
       "| DEN |  2  |  3  | 0   |  66 | \n",
       "| DEN |  3  |  1  | 0   |  74 | \n",
       "| DEN |  4  |  0  | 0   |  79 | \n",
       "| DEN |  5  |  0  | 0   |  79 | \n",
       "| DEN |  6  |  1  | 0   |  77 | \n",
       "| ... | ... | ... | ... | ... | \n",
       "| LAX |  7  | 0   | 0   | 103 | \n",
       "| LAX |  8  | 1   | 1   | 103 | \n",
       "| LAX |  9  | 0   | 0   |  91 | \n",
       "| LAX | 10  | 0   | 0   |  96 | \n",
       "| LAX | 11  | 0   | 1   |  88 | \n",
       "| LAX | 12  | 0   | 0   |  83 | \n",
       "| MSY |  1  | 1   | 1   |  92 | \n",
       "| MSY |  2  | 5   | 0   |  88 | \n",
       "| MSY |  3  | 0   | 0   | 100 | \n",
       "| MSY |  4  | 1   | 0   | 104 | \n",
       "| MSY |  5  | 1   | 0   |  84 | \n",
       "| MSY |  6  | 0   | 0   |  95 | \n",
       "| MSY |  7  | 0   | 0   | 100 | \n",
       "| MSY |  8  | 0   | 0   |  92 | \n",
       "| MSY |  9  | 1   | 0   |  83 | \n",
       "| MSY | 10  | 0   | 0   | 104 | \n",
       "| MSY | 11  | 0   | 0   |  93 | \n",
       "| MSY | 12  | 0   | 0   |  88 | \n",
       "| ORD |  1  | 0   | 0   |  85 | \n",
       "| ORD |  2  | 8   | 0   |  72 | \n",
       "| ORD |  3  | 1   | 0   |  77 | \n",
       "| ORD |  4  | 0   | 0   |  89 | \n",
       "| ORD |  5  | 5   | 0   |  77 | \n",
       "| ORD |  6  | 1   | 0   |  81 | \n",
       "| ORD |  7  | 1   | 0   |  81 | \n",
       "| ORD |  8  | 0   | 3   |  83 | \n",
       "| ORD |  9  | 0   | 0   |  74 | \n",
       "| ORD | 10  | 1   | 0   |  81 | \n",
       "| ORD | 11  | 0   | 0   |  80 | \n",
       "| ORD | 12  | 0   | 0   |  75 | \n",
       "\n",
       "\n"
      ],
      "text/plain": [
       "    Dest Month num_Cancelled num_Diverted num_Air\n",
       "1   ATL   1     5            0             96    \n",
       "2   ATL   2     2            0             90    \n",
       "3   ATL   3     5            0            121    \n",
       "4   ATL   4     6            2            121    \n",
       "5   ATL   5     3            0            129    \n",
       "6   ATL   6     1            2            112    \n",
       "7   ATL   7     2            0            102    \n",
       "8   ATL   8     1            1            106    \n",
       "9   ATL   9     1            0            101    \n",
       "10  ATL  10     1            0            102    \n",
       "11  ATL  11     1            0             93    \n",
       "12  ATL  12     2            0            102    \n",
       "13  DAL   1     3            0            146    \n",
       "14  DAL   2    20            1            111    \n",
       "15  DAL   3     2            0            137    \n",
       "16  DAL   4    11            1            127    \n",
       "17  DAL   5     7            0            130    \n",
       "18  DAL   6     4            0            128    \n",
       "19  DAL   7     5            0            133    \n",
       "20  DAL   8     2            0            137    \n",
       "21  DAL   9     4            1            127    \n",
       "22  DAL  10     3            1            132    \n",
       "23  DAL  11     2            1            126    \n",
       "24  DAL  12     2            0            136    \n",
       "25  DEN   1     0            0             71    \n",
       "26  DEN   2     3            0             66    \n",
       "27  DEN   3     1            0             74    \n",
       "28  DEN   4     0            0             79    \n",
       "29  DEN   5     0            0             79    \n",
       "30  DEN   6     1            0             77    \n",
       "... ...  ...   ...           ...          ...    \n",
       "43  LAX   7    0             0            103    \n",
       "44  LAX   8    1             1            103    \n",
       "45  LAX   9    0             0             91    \n",
       "46  LAX  10    0             0             96    \n",
       "47  LAX  11    0             1             88    \n",
       "48  LAX  12    0             0             83    \n",
       "49  MSY   1    1             1             92    \n",
       "50  MSY   2    5             0             88    \n",
       "51  MSY   3    0             0            100    \n",
       "52  MSY   4    1             0            104    \n",
       "53  MSY   5    1             0             84    \n",
       "54  MSY   6    0             0             95    \n",
       "55  MSY   7    0             0            100    \n",
       "56  MSY   8    0             0             92    \n",
       "57  MSY   9    1             0             83    \n",
       "58  MSY  10    0             0            104    \n",
       "59  MSY  11    0             0             93    \n",
       "60  MSY  12    0             0             88    \n",
       "61  ORD   1    0             0             85    \n",
       "62  ORD   2    8             0             72    \n",
       "63  ORD   3    1             0             77    \n",
       "64  ORD   4    0             0             89    \n",
       "65  ORD   5    5             0             77    \n",
       "66  ORD   6    1             0             81    \n",
       "67  ORD   7    1             0             81    \n",
       "68  ORD   8    0             3             83    \n",
       "69  ORD   9    0             0             74    \n",
       "70  ORD  10    1             0             81    \n",
       "71  ORD  11    0             0             80    \n",
       "72  ORD  12    0             0             75    "
      ]
     },
     "metadata": {},
     "output_type": "display_data"
    }
   ],
   "source": [
    "flights.5"
   ]
  },
  {
   "cell_type": "markdown",
   "metadata": {},
   "source": [
    "Step 3 : Step 2의 결과를 이용하여 아래의 그림을 그리기 위해 데이터를 melting 하시오."
   ]
  },
  {
   "cell_type": "code",
   "execution_count": 19,
   "metadata": {},
   "outputs": [],
   "source": [
    "melt.hflights.5 <- melt(flights.5, id=c(\"Dest\",\"Month\"), measure=c(\"num_Cancelled\",\"num_Diverted\",\"num_Air\"), na.rm=T)"
   ]
  },
  {
   "cell_type": "code",
   "execution_count": 20,
   "metadata": {},
   "outputs": [
    {
     "data": {
      "text/html": [
       "<table>\n",
       "<thead><tr><th scope=col>Dest</th><th scope=col>Month</th><th scope=col>variable</th><th scope=col>value</th></tr></thead>\n",
       "<tbody>\n",
       "\t<tr><td>ATL          </td><td>1            </td><td>num_Cancelled</td><td>5            </td></tr>\n",
       "\t<tr><td>ATL          </td><td>2            </td><td>num_Cancelled</td><td>2            </td></tr>\n",
       "\t<tr><td>ATL          </td><td>3            </td><td>num_Cancelled</td><td>5            </td></tr>\n",
       "\t<tr><td>ATL          </td><td>4            </td><td>num_Cancelled</td><td>6            </td></tr>\n",
       "\t<tr><td>ATL          </td><td>5            </td><td>num_Cancelled</td><td>3            </td></tr>\n",
       "\t<tr><td>ATL          </td><td>6            </td><td>num_Cancelled</td><td>1            </td></tr>\n",
       "</tbody>\n",
       "</table>\n"
      ],
      "text/latex": [
       "\\begin{tabular}{r|llll}\n",
       " Dest & Month & variable & value\\\\\n",
       "\\hline\n",
       "\t ATL             & 1               & num\\_Cancelled & 5              \\\\\n",
       "\t ATL             & 2               & num\\_Cancelled & 2              \\\\\n",
       "\t ATL             & 3               & num\\_Cancelled & 5              \\\\\n",
       "\t ATL             & 4               & num\\_Cancelled & 6              \\\\\n",
       "\t ATL             & 5               & num\\_Cancelled & 3              \\\\\n",
       "\t ATL             & 6               & num\\_Cancelled & 1              \\\\\n",
       "\\end{tabular}\n"
      ],
      "text/markdown": [
       "\n",
       "Dest | Month | variable | value | \n",
       "|---|---|---|---|---|---|\n",
       "| ATL           | 1             | num_Cancelled | 5             | \n",
       "| ATL           | 2             | num_Cancelled | 2             | \n",
       "| ATL           | 3             | num_Cancelled | 5             | \n",
       "| ATL           | 4             | num_Cancelled | 6             | \n",
       "| ATL           | 5             | num_Cancelled | 3             | \n",
       "| ATL           | 6             | num_Cancelled | 1             | \n",
       "\n",
       "\n"
      ],
      "text/plain": [
       "  Dest Month variable      value\n",
       "1 ATL  1     num_Cancelled 5    \n",
       "2 ATL  2     num_Cancelled 2    \n",
       "3 ATL  3     num_Cancelled 5    \n",
       "4 ATL  4     num_Cancelled 6    \n",
       "5 ATL  5     num_Cancelled 3    \n",
       "6 ATL  6     num_Cancelled 1    "
      ]
     },
     "metadata": {},
     "output_type": "display_data"
    }
   ],
   "source": [
    "head(melt.hflights.5)"
   ]
  },
  {
   "cell_type": "code",
   "execution_count": 29,
   "metadata": {},
   "outputs": [],
   "source": [
    "melt2.hflights.5  <- melt.hflights.5 %>%\n",
    "group_by(Month, variable) %>%\n",
    "mutate(cnt = value/sum(value))"
   ]
  },
  {
   "cell_type": "code",
   "execution_count": 39,
   "metadata": {},
   "outputs": [
    {
     "data": {
      "text/html": [
       "<table>\n",
       "<thead><tr><th scope=col>Dest</th><th scope=col>Month</th><th scope=col>variable</th><th scope=col>value</th><th scope=col>cnt</th></tr></thead>\n",
       "<tbody>\n",
       "\t<tr><td>ATL          </td><td> 1           </td><td>num_Cancelled</td><td> 5           </td><td>0.55555556   </td></tr>\n",
       "\t<tr><td>ATL          </td><td> 2           </td><td>num_Cancelled</td><td> 2           </td><td>0.05263158   </td></tr>\n",
       "\t<tr><td>ATL          </td><td> 3           </td><td>num_Cancelled</td><td> 5           </td><td>0.55555556   </td></tr>\n",
       "\t<tr><td>ATL          </td><td> 4           </td><td>num_Cancelled</td><td> 6           </td><td>0.31578947   </td></tr>\n",
       "\t<tr><td>ATL          </td><td> 5           </td><td>num_Cancelled</td><td> 3           </td><td>0.18750000   </td></tr>\n",
       "\t<tr><td>ATL          </td><td> 6           </td><td>num_Cancelled</td><td> 1           </td><td>0.14285714   </td></tr>\n",
       "\t<tr><td>ATL          </td><td> 7           </td><td>num_Cancelled</td><td> 2           </td><td>0.22222222   </td></tr>\n",
       "\t<tr><td>ATL          </td><td> 8           </td><td>num_Cancelled</td><td> 1           </td><td>0.25000000   </td></tr>\n",
       "\t<tr><td>ATL          </td><td> 9           </td><td>num_Cancelled</td><td> 1           </td><td>0.16666667   </td></tr>\n",
       "\t<tr><td>ATL          </td><td>10           </td><td>num_Cancelled</td><td> 1           </td><td>0.20000000   </td></tr>\n",
       "\t<tr><td>ATL          </td><td>11           </td><td>num_Cancelled</td><td> 1           </td><td>0.33333333   </td></tr>\n",
       "\t<tr><td>ATL          </td><td>12           </td><td>num_Cancelled</td><td> 2           </td><td>0.40000000   </td></tr>\n",
       "\t<tr><td>DAL          </td><td> 1           </td><td>num_Cancelled</td><td> 3           </td><td>0.33333333   </td></tr>\n",
       "\t<tr><td>DAL          </td><td> 2           </td><td>num_Cancelled</td><td>20           </td><td>0.52631579   </td></tr>\n",
       "\t<tr><td>DAL          </td><td> 3           </td><td>num_Cancelled</td><td> 2           </td><td>0.22222222   </td></tr>\n",
       "\t<tr><td>DAL          </td><td> 4           </td><td>num_Cancelled</td><td>11           </td><td>0.57894737   </td></tr>\n",
       "\t<tr><td>DAL          </td><td> 5           </td><td>num_Cancelled</td><td> 7           </td><td>0.43750000   </td></tr>\n",
       "\t<tr><td>DAL          </td><td> 6           </td><td>num_Cancelled</td><td> 4           </td><td>0.57142857   </td></tr>\n",
       "\t<tr><td>DAL          </td><td> 7           </td><td>num_Cancelled</td><td> 5           </td><td>0.55555556   </td></tr>\n",
       "\t<tr><td>DAL          </td><td> 8           </td><td>num_Cancelled</td><td> 2           </td><td>0.50000000   </td></tr>\n",
       "\t<tr><td>DAL          </td><td> 9           </td><td>num_Cancelled</td><td> 4           </td><td>0.66666667   </td></tr>\n",
       "\t<tr><td>DAL          </td><td>10           </td><td>num_Cancelled</td><td> 3           </td><td>0.60000000   </td></tr>\n",
       "\t<tr><td>DAL          </td><td>11           </td><td>num_Cancelled</td><td> 2           </td><td>0.66666667   </td></tr>\n",
       "\t<tr><td>DAL          </td><td>12           </td><td>num_Cancelled</td><td> 2           </td><td>0.40000000   </td></tr>\n",
       "\t<tr><td>DEN          </td><td> 1           </td><td>num_Cancelled</td><td> 0           </td><td>0.00000000   </td></tr>\n",
       "\t<tr><td>DEN          </td><td> 2           </td><td>num_Cancelled</td><td> 3           </td><td>0.07894737   </td></tr>\n",
       "\t<tr><td>DEN          </td><td> 3           </td><td>num_Cancelled</td><td> 1           </td><td>0.11111111   </td></tr>\n",
       "\t<tr><td>DEN          </td><td> 4           </td><td>num_Cancelled</td><td> 0           </td><td>0.00000000   </td></tr>\n",
       "\t<tr><td>DEN          </td><td> 5           </td><td>num_Cancelled</td><td> 0           </td><td>0.00000000   </td></tr>\n",
       "\t<tr><td>DEN          </td><td> 6           </td><td>num_Cancelled</td><td> 1           </td><td>0.14285714   </td></tr>\n",
       "\t<tr><td>...</td><td>...</td><td>...</td><td>...</td><td>...</td></tr>\n",
       "\t<tr><td>LAX      </td><td> 7       </td><td>num_Air  </td><td>103      </td><td>0.1705298</td></tr>\n",
       "\t<tr><td>LAX      </td><td> 8       </td><td>num_Air  </td><td>103      </td><td>0.1708126</td></tr>\n",
       "\t<tr><td>LAX      </td><td> 9       </td><td>num_Air  </td><td> 91      </td><td>0.1627907</td></tr>\n",
       "\t<tr><td>LAX      </td><td>10       </td><td>num_Air  </td><td> 96      </td><td>0.1584158</td></tr>\n",
       "\t<tr><td>LAX      </td><td>11       </td><td>num_Air  </td><td> 88      </td><td>0.1533101</td></tr>\n",
       "\t<tr><td>LAX      </td><td>12       </td><td>num_Air  </td><td> 83      </td><td>0.1492806</td></tr>\n",
       "\t<tr><td>MSY      </td><td> 1       </td><td>num_Air  </td><td> 92      </td><td>0.1642857</td></tr>\n",
       "\t<tr><td>MSY      </td><td> 2       </td><td>num_Air  </td><td> 88      </td><td>0.1799591</td></tr>\n",
       "\t<tr><td>MSY      </td><td> 3       </td><td>num_Air  </td><td>100      </td><td>0.1733102</td></tr>\n",
       "\t<tr><td>MSY      </td><td> 4       </td><td>num_Air  </td><td>104      </td><td>0.1733333</td></tr>\n",
       "\t<tr><td>MSY      </td><td> 5       </td><td>num_Air  </td><td> 84      </td><td>0.1443299</td></tr>\n",
       "\t<tr><td>MSY      </td><td> 6       </td><td>num_Air  </td><td> 95      </td><td>0.1640760</td></tr>\n",
       "\t<tr><td>MSY      </td><td> 7       </td><td>num_Air  </td><td>100      </td><td>0.1655629</td></tr>\n",
       "\t<tr><td>MSY      </td><td> 8       </td><td>num_Air  </td><td> 92      </td><td>0.1525705</td></tr>\n",
       "\t<tr><td>MSY      </td><td> 9       </td><td>num_Air  </td><td> 83      </td><td>0.1484794</td></tr>\n",
       "\t<tr><td>MSY      </td><td>10       </td><td>num_Air  </td><td>104      </td><td>0.1716172</td></tr>\n",
       "\t<tr><td>MSY      </td><td>11       </td><td>num_Air  </td><td> 93      </td><td>0.1620209</td></tr>\n",
       "\t<tr><td>MSY      </td><td>12       </td><td>num_Air  </td><td> 88      </td><td>0.1582734</td></tr>\n",
       "\t<tr><td>ORD      </td><td> 1       </td><td>num_Air  </td><td> 85      </td><td>0.1517857</td></tr>\n",
       "\t<tr><td>ORD      </td><td> 2       </td><td>num_Air  </td><td> 72      </td><td>0.1472393</td></tr>\n",
       "\t<tr><td>ORD      </td><td> 3       </td><td>num_Air  </td><td> 77      </td><td>0.1334489</td></tr>\n",
       "\t<tr><td>ORD      </td><td> 4       </td><td>num_Air  </td><td> 89      </td><td>0.1483333</td></tr>\n",
       "\t<tr><td>ORD      </td><td> 5       </td><td>num_Air  </td><td> 77      </td><td>0.1323024</td></tr>\n",
       "\t<tr><td>ORD      </td><td> 6       </td><td>num_Air  </td><td> 81      </td><td>0.1398964</td></tr>\n",
       "\t<tr><td>ORD      </td><td> 7       </td><td>num_Air  </td><td> 81      </td><td>0.1341060</td></tr>\n",
       "\t<tr><td>ORD      </td><td> 8       </td><td>num_Air  </td><td> 83      </td><td>0.1376451</td></tr>\n",
       "\t<tr><td>ORD      </td><td> 9       </td><td>num_Air  </td><td> 74      </td><td>0.1323792</td></tr>\n",
       "\t<tr><td>ORD      </td><td>10       </td><td>num_Air  </td><td> 81      </td><td>0.1336634</td></tr>\n",
       "\t<tr><td>ORD      </td><td>11       </td><td>num_Air  </td><td> 80      </td><td>0.1393728</td></tr>\n",
       "\t<tr><td>ORD      </td><td>12       </td><td>num_Air  </td><td> 75      </td><td>0.1348921</td></tr>\n",
       "</tbody>\n",
       "</table>\n"
      ],
      "text/latex": [
       "\\begin{tabular}{r|lllll}\n",
       " Dest & Month & variable & value & cnt\\\\\n",
       "\\hline\n",
       "\t ATL             &  1              & num\\_Cancelled &  5              & 0.55555556     \\\\\n",
       "\t ATL             &  2              & num\\_Cancelled &  2              & 0.05263158     \\\\\n",
       "\t ATL             &  3              & num\\_Cancelled &  5              & 0.55555556     \\\\\n",
       "\t ATL             &  4              & num\\_Cancelled &  6              & 0.31578947     \\\\\n",
       "\t ATL             &  5              & num\\_Cancelled &  3              & 0.18750000     \\\\\n",
       "\t ATL             &  6              & num\\_Cancelled &  1              & 0.14285714     \\\\\n",
       "\t ATL             &  7              & num\\_Cancelled &  2              & 0.22222222     \\\\\n",
       "\t ATL             &  8              & num\\_Cancelled &  1              & 0.25000000     \\\\\n",
       "\t ATL             &  9              & num\\_Cancelled &  1              & 0.16666667     \\\\\n",
       "\t ATL             & 10              & num\\_Cancelled &  1              & 0.20000000     \\\\\n",
       "\t ATL             & 11              & num\\_Cancelled &  1              & 0.33333333     \\\\\n",
       "\t ATL             & 12              & num\\_Cancelled &  2              & 0.40000000     \\\\\n",
       "\t DAL             &  1              & num\\_Cancelled &  3              & 0.33333333     \\\\\n",
       "\t DAL             &  2              & num\\_Cancelled & 20              & 0.52631579     \\\\\n",
       "\t DAL             &  3              & num\\_Cancelled &  2              & 0.22222222     \\\\\n",
       "\t DAL             &  4              & num\\_Cancelled & 11              & 0.57894737     \\\\\n",
       "\t DAL             &  5              & num\\_Cancelled &  7              & 0.43750000     \\\\\n",
       "\t DAL             &  6              & num\\_Cancelled &  4              & 0.57142857     \\\\\n",
       "\t DAL             &  7              & num\\_Cancelled &  5              & 0.55555556     \\\\\n",
       "\t DAL             &  8              & num\\_Cancelled &  2              & 0.50000000     \\\\\n",
       "\t DAL             &  9              & num\\_Cancelled &  4              & 0.66666667     \\\\\n",
       "\t DAL             & 10              & num\\_Cancelled &  3              & 0.60000000     \\\\\n",
       "\t DAL             & 11              & num\\_Cancelled &  2              & 0.66666667     \\\\\n",
       "\t DAL             & 12              & num\\_Cancelled &  2              & 0.40000000     \\\\\n",
       "\t DEN             &  1              & num\\_Cancelled &  0              & 0.00000000     \\\\\n",
       "\t DEN             &  2              & num\\_Cancelled &  3              & 0.07894737     \\\\\n",
       "\t DEN             &  3              & num\\_Cancelled &  1              & 0.11111111     \\\\\n",
       "\t DEN             &  4              & num\\_Cancelled &  0              & 0.00000000     \\\\\n",
       "\t DEN             &  5              & num\\_Cancelled &  0              & 0.00000000     \\\\\n",
       "\t DEN             &  6              & num\\_Cancelled &  1              & 0.14285714     \\\\\n",
       "\t ... & ... & ... & ... & ...\\\\\n",
       "\t LAX       &  7        & num\\_Air & 103       & 0.1705298\\\\\n",
       "\t LAX       &  8        & num\\_Air & 103       & 0.1708126\\\\\n",
       "\t LAX       &  9        & num\\_Air &  91       & 0.1627907\\\\\n",
       "\t LAX       & 10        & num\\_Air &  96       & 0.1584158\\\\\n",
       "\t LAX       & 11        & num\\_Air &  88       & 0.1533101\\\\\n",
       "\t LAX       & 12        & num\\_Air &  83       & 0.1492806\\\\\n",
       "\t MSY       &  1        & num\\_Air &  92       & 0.1642857\\\\\n",
       "\t MSY       &  2        & num\\_Air &  88       & 0.1799591\\\\\n",
       "\t MSY       &  3        & num\\_Air & 100       & 0.1733102\\\\\n",
       "\t MSY       &  4        & num\\_Air & 104       & 0.1733333\\\\\n",
       "\t MSY       &  5        & num\\_Air &  84       & 0.1443299\\\\\n",
       "\t MSY       &  6        & num\\_Air &  95       & 0.1640760\\\\\n",
       "\t MSY       &  7        & num\\_Air & 100       & 0.1655629\\\\\n",
       "\t MSY       &  8        & num\\_Air &  92       & 0.1525705\\\\\n",
       "\t MSY       &  9        & num\\_Air &  83       & 0.1484794\\\\\n",
       "\t MSY       & 10        & num\\_Air & 104       & 0.1716172\\\\\n",
       "\t MSY       & 11        & num\\_Air &  93       & 0.1620209\\\\\n",
       "\t MSY       & 12        & num\\_Air &  88       & 0.1582734\\\\\n",
       "\t ORD       &  1        & num\\_Air &  85       & 0.1517857\\\\\n",
       "\t ORD       &  2        & num\\_Air &  72       & 0.1472393\\\\\n",
       "\t ORD       &  3        & num\\_Air &  77       & 0.1334489\\\\\n",
       "\t ORD       &  4        & num\\_Air &  89       & 0.1483333\\\\\n",
       "\t ORD       &  5        & num\\_Air &  77       & 0.1323024\\\\\n",
       "\t ORD       &  6        & num\\_Air &  81       & 0.1398964\\\\\n",
       "\t ORD       &  7        & num\\_Air &  81       & 0.1341060\\\\\n",
       "\t ORD       &  8        & num\\_Air &  83       & 0.1376451\\\\\n",
       "\t ORD       &  9        & num\\_Air &  74       & 0.1323792\\\\\n",
       "\t ORD       & 10        & num\\_Air &  81       & 0.1336634\\\\\n",
       "\t ORD       & 11        & num\\_Air &  80       & 0.1393728\\\\\n",
       "\t ORD       & 12        & num\\_Air &  75       & 0.1348921\\\\\n",
       "\\end{tabular}\n"
      ],
      "text/markdown": [
       "\n",
       "Dest | Month | variable | value | cnt | \n",
       "|---|---|---|---|---|---|---|---|---|---|---|---|---|---|---|---|---|---|---|---|---|---|---|---|---|---|---|---|---|---|---|---|---|---|---|---|---|---|---|---|---|---|---|---|---|---|---|---|---|---|---|---|---|---|---|---|---|---|---|---|---|\n",
       "| ATL           |  1            | num_Cancelled |  5            | 0.55555556    | \n",
       "| ATL           |  2            | num_Cancelled |  2            | 0.05263158    | \n",
       "| ATL           |  3            | num_Cancelled |  5            | 0.55555556    | \n",
       "| ATL           |  4            | num_Cancelled |  6            | 0.31578947    | \n",
       "| ATL           |  5            | num_Cancelled |  3            | 0.18750000    | \n",
       "| ATL           |  6            | num_Cancelled |  1            | 0.14285714    | \n",
       "| ATL           |  7            | num_Cancelled |  2            | 0.22222222    | \n",
       "| ATL           |  8            | num_Cancelled |  1            | 0.25000000    | \n",
       "| ATL           |  9            | num_Cancelled |  1            | 0.16666667    | \n",
       "| ATL           | 10            | num_Cancelled |  1            | 0.20000000    | \n",
       "| ATL           | 11            | num_Cancelled |  1            | 0.33333333    | \n",
       "| ATL           | 12            | num_Cancelled |  2            | 0.40000000    | \n",
       "| DAL           |  1            | num_Cancelled |  3            | 0.33333333    | \n",
       "| DAL           |  2            | num_Cancelled | 20            | 0.52631579    | \n",
       "| DAL           |  3            | num_Cancelled |  2            | 0.22222222    | \n",
       "| DAL           |  4            | num_Cancelled | 11            | 0.57894737    | \n",
       "| DAL           |  5            | num_Cancelled |  7            | 0.43750000    | \n",
       "| DAL           |  6            | num_Cancelled |  4            | 0.57142857    | \n",
       "| DAL           |  7            | num_Cancelled |  5            | 0.55555556    | \n",
       "| DAL           |  8            | num_Cancelled |  2            | 0.50000000    | \n",
       "| DAL           |  9            | num_Cancelled |  4            | 0.66666667    | \n",
       "| DAL           | 10            | num_Cancelled |  3            | 0.60000000    | \n",
       "| DAL           | 11            | num_Cancelled |  2            | 0.66666667    | \n",
       "| DAL           | 12            | num_Cancelled |  2            | 0.40000000    | \n",
       "| DEN           |  1            | num_Cancelled |  0            | 0.00000000    | \n",
       "| DEN           |  2            | num_Cancelled |  3            | 0.07894737    | \n",
       "| DEN           |  3            | num_Cancelled |  1            | 0.11111111    | \n",
       "| DEN           |  4            | num_Cancelled |  0            | 0.00000000    | \n",
       "| DEN           |  5            | num_Cancelled |  0            | 0.00000000    | \n",
       "| DEN           |  6            | num_Cancelled |  1            | 0.14285714    | \n",
       "| ... | ... | ... | ... | ... | \n",
       "| LAX       |  7        | num_Air   | 103       | 0.1705298 | \n",
       "| LAX       |  8        | num_Air   | 103       | 0.1708126 | \n",
       "| LAX       |  9        | num_Air   |  91       | 0.1627907 | \n",
       "| LAX       | 10        | num_Air   |  96       | 0.1584158 | \n",
       "| LAX       | 11        | num_Air   |  88       | 0.1533101 | \n",
       "| LAX       | 12        | num_Air   |  83       | 0.1492806 | \n",
       "| MSY       |  1        | num_Air   |  92       | 0.1642857 | \n",
       "| MSY       |  2        | num_Air   |  88       | 0.1799591 | \n",
       "| MSY       |  3        | num_Air   | 100       | 0.1733102 | \n",
       "| MSY       |  4        | num_Air   | 104       | 0.1733333 | \n",
       "| MSY       |  5        | num_Air   |  84       | 0.1443299 | \n",
       "| MSY       |  6        | num_Air   |  95       | 0.1640760 | \n",
       "| MSY       |  7        | num_Air   | 100       | 0.1655629 | \n",
       "| MSY       |  8        | num_Air   |  92       | 0.1525705 | \n",
       "| MSY       |  9        | num_Air   |  83       | 0.1484794 | \n",
       "| MSY       | 10        | num_Air   | 104       | 0.1716172 | \n",
       "| MSY       | 11        | num_Air   |  93       | 0.1620209 | \n",
       "| MSY       | 12        | num_Air   |  88       | 0.1582734 | \n",
       "| ORD       |  1        | num_Air   |  85       | 0.1517857 | \n",
       "| ORD       |  2        | num_Air   |  72       | 0.1472393 | \n",
       "| ORD       |  3        | num_Air   |  77       | 0.1334489 | \n",
       "| ORD       |  4        | num_Air   |  89       | 0.1483333 | \n",
       "| ORD       |  5        | num_Air   |  77       | 0.1323024 | \n",
       "| ORD       |  6        | num_Air   |  81       | 0.1398964 | \n",
       "| ORD       |  7        | num_Air   |  81       | 0.1341060 | \n",
       "| ORD       |  8        | num_Air   |  83       | 0.1376451 | \n",
       "| ORD       |  9        | num_Air   |  74       | 0.1323792 | \n",
       "| ORD       | 10        | num_Air   |  81       | 0.1336634 | \n",
       "| ORD       | 11        | num_Air   |  80       | 0.1393728 | \n",
       "| ORD       | 12        | num_Air   |  75       | 0.1348921 | \n",
       "\n",
       "\n"
      ],
      "text/plain": [
       "    Dest Month variable      value cnt       \n",
       "1   ATL   1    num_Cancelled  5    0.55555556\n",
       "2   ATL   2    num_Cancelled  2    0.05263158\n",
       "3   ATL   3    num_Cancelled  5    0.55555556\n",
       "4   ATL   4    num_Cancelled  6    0.31578947\n",
       "5   ATL   5    num_Cancelled  3    0.18750000\n",
       "6   ATL   6    num_Cancelled  1    0.14285714\n",
       "7   ATL   7    num_Cancelled  2    0.22222222\n",
       "8   ATL   8    num_Cancelled  1    0.25000000\n",
       "9   ATL   9    num_Cancelled  1    0.16666667\n",
       "10  ATL  10    num_Cancelled  1    0.20000000\n",
       "11  ATL  11    num_Cancelled  1    0.33333333\n",
       "12  ATL  12    num_Cancelled  2    0.40000000\n",
       "13  DAL   1    num_Cancelled  3    0.33333333\n",
       "14  DAL   2    num_Cancelled 20    0.52631579\n",
       "15  DAL   3    num_Cancelled  2    0.22222222\n",
       "16  DAL   4    num_Cancelled 11    0.57894737\n",
       "17  DAL   5    num_Cancelled  7    0.43750000\n",
       "18  DAL   6    num_Cancelled  4    0.57142857\n",
       "19  DAL   7    num_Cancelled  5    0.55555556\n",
       "20  DAL   8    num_Cancelled  2    0.50000000\n",
       "21  DAL   9    num_Cancelled  4    0.66666667\n",
       "22  DAL  10    num_Cancelled  3    0.60000000\n",
       "23  DAL  11    num_Cancelled  2    0.66666667\n",
       "24  DAL  12    num_Cancelled  2    0.40000000\n",
       "25  DEN   1    num_Cancelled  0    0.00000000\n",
       "26  DEN   2    num_Cancelled  3    0.07894737\n",
       "27  DEN   3    num_Cancelled  1    0.11111111\n",
       "28  DEN   4    num_Cancelled  0    0.00000000\n",
       "29  DEN   5    num_Cancelled  0    0.00000000\n",
       "30  DEN   6    num_Cancelled  1    0.14285714\n",
       "... ...  ...   ...           ...   ...       \n",
       "187 LAX   7    num_Air       103   0.1705298 \n",
       "188 LAX   8    num_Air       103   0.1708126 \n",
       "189 LAX   9    num_Air        91   0.1627907 \n",
       "190 LAX  10    num_Air        96   0.1584158 \n",
       "191 LAX  11    num_Air        88   0.1533101 \n",
       "192 LAX  12    num_Air        83   0.1492806 \n",
       "193 MSY   1    num_Air        92   0.1642857 \n",
       "194 MSY   2    num_Air        88   0.1799591 \n",
       "195 MSY   3    num_Air       100   0.1733102 \n",
       "196 MSY   4    num_Air       104   0.1733333 \n",
       "197 MSY   5    num_Air        84   0.1443299 \n",
       "198 MSY   6    num_Air        95   0.1640760 \n",
       "199 MSY   7    num_Air       100   0.1655629 \n",
       "200 MSY   8    num_Air        92   0.1525705 \n",
       "201 MSY   9    num_Air        83   0.1484794 \n",
       "202 MSY  10    num_Air       104   0.1716172 \n",
       "203 MSY  11    num_Air        93   0.1620209 \n",
       "204 MSY  12    num_Air        88   0.1582734 \n",
       "205 ORD   1    num_Air        85   0.1517857 \n",
       "206 ORD   2    num_Air        72   0.1472393 \n",
       "207 ORD   3    num_Air        77   0.1334489 \n",
       "208 ORD   4    num_Air        89   0.1483333 \n",
       "209 ORD   5    num_Air        77   0.1323024 \n",
       "210 ORD   6    num_Air        81   0.1398964 \n",
       "211 ORD   7    num_Air        81   0.1341060 \n",
       "212 ORD   8    num_Air        83   0.1376451 \n",
       "213 ORD   9    num_Air        74   0.1323792 \n",
       "214 ORD  10    num_Air        81   0.1336634 \n",
       "215 ORD  11    num_Air        80   0.1393728 \n",
       "216 ORD  12    num_Air        75   0.1348921 "
      ]
     },
     "metadata": {},
     "output_type": "display_data"
    }
   ],
   "source": [
    "melt2.hflights.5"
   ]
  },
  {
   "cell_type": "markdown",
   "metadata": {},
   "source": [
    "Step 4 : Step 3의 결과를 이용하여 아래의 그림을 그리시오."
   ]
  },
  {
   "cell_type": "code",
   "execution_count": 32,
   "metadata": {},
   "outputs": [
    {
     "name": "stderr",
     "output_type": "stream",
     "text": [
      "Warning message:\n",
      "\"Removed 18 rows containing missing values (position_stack).\""
     ]
    },
    {
     "data": {},
     "metadata": {},
     "output_type": "display_data"
    },
    {
     "data": {
      "image/png": "[encoded data removed]",
      "text/plain": [
       "plot without title"
      ]
     },
     "metadata": {},
     "output_type": "display_data"
    }
   ],
   "source": [
    "mm <- ggplot(melt2.hflights.5, aes(x=Month, y=cnt, fill=Dest)) + geom_bar(stat = \"identity\")\n",
    "mm + facet_wrap(~variable,nrow=3)"
   ]
  },
  {
   "cell_type": "markdown",
   "metadata": {},
   "source": [
    "# 3번째"
   ]
  },
  {
   "cell_type": "code",
   "execution_count": 33,
   "metadata": {},
   "outputs": [
    {
     "name": "stdout",
     "output_type": "stream",
     "text": [
      "'data.frame':\t227496 obs. of  21 variables:\n",
      " $ Year             : int  2011 2011 2011 2011 2011 2011 2011 2011 2011 2011 ...\n",
      " $ Month            : int  1 1 1 1 1 1 1 1 1 1 ...\n",
      " $ DayofMonth       : int  1 2 3 4 5 6 7 8 9 10 ...\n",
      " $ DayOfWeek        : int  6 7 1 2 3 4 5 6 7 1 ...\n",
      " $ DepTime          : int  1400 1401 1352 1403 1405 1359 1359 1355 1443 1443 ...\n",
      " $ ArrTime          : int  1500 1501 1502 1513 1507 1503 1509 1454 1554 1553 ...\n",
      " $ UniqueCarrier    : chr  \"AA\" \"AA\" \"AA\" \"AA\" ...\n",
      " $ FlightNum        : int  428 428 428 428 428 428 428 428 428 428 ...\n",
      " $ TailNum          : chr  \"N576AA\" \"N557AA\" \"N541AA\" \"N403AA\" ...\n",
      " $ ActualElapsedTime: int  60 60 70 70 62 64 70 59 71 70 ...\n",
      " $ AirTime          : int  40 45 48 39 44 45 43 40 41 45 ...\n",
      " $ ArrDelay         : int  -10 -9 -8 3 -3 -7 -1 -16 44 43 ...\n",
      " $ DepDelay         : int  0 1 -8 3 5 -1 -1 -5 43 43 ...\n",
      " $ Origin           : chr  \"IAH\" \"IAH\" \"IAH\" \"IAH\" ...\n",
      " $ Dest             : chr  \"DFW\" \"DFW\" \"DFW\" \"DFW\" ...\n",
      " $ Distance         : int  224 224 224 224 224 224 224 224 224 224 ...\n",
      " $ TaxiIn           : int  7 6 5 9 9 6 12 7 8 6 ...\n",
      " $ TaxiOut          : int  13 9 17 22 9 13 15 12 22 19 ...\n",
      " $ Cancelled        : int  0 0 0 0 0 0 0 0 0 0 ...\n",
      " $ CancellationCode : chr  \"\" \"\" \"\" \"\" ...\n",
      " $ Diverted         : int  0 0 0 0 0 0 0 0 0 0 ...\n"
     ]
    }
   ],
   "source": [
    "str(hflights)"
   ]
  },
  {
   "cell_type": "code",
   "execution_count": 16,
   "metadata": {},
   "outputs": [],
   "source": [
    "flights.6 <- hflights %>% \n",
    "group_by(UniqueCarrier) %>%\n",
    "summarise(\n",
    "  num_Cancelled=sum(Cancelled),\n",
    "  num_Diverted=sum(Diverted),\n",
    "  num_Air=length(Dest)-sum(Cancelled)-sum(Diverted)) "
   ]
  },
  {
   "cell_type": "code",
   "execution_count": 18,
   "metadata": {},
   "outputs": [
    {
     "data": {
      "text/html": [
       "<table>\n",
       "<thead><tr><th scope=col>UniqueCarrier</th><th scope=col>num_Cancelled</th><th scope=col>num_Diverted</th><th scope=col>num_Air</th></tr></thead>\n",
       "<tbody>\n",
       "\t<tr><td>XE   </td><td>1132 </td><td>252  </td><td>71669</td></tr>\n",
       "\t<tr><td>CO   </td><td> 475 </td><td>184  </td><td>69373</td></tr>\n",
       "\t<tr><td>WN   </td><td> 703 </td><td>104  </td><td>44536</td></tr>\n",
       "\t<tr><td>OO   </td><td> 224 </td><td> 56  </td><td>15781</td></tr>\n",
       "\t<tr><td>MQ   </td><td> 135 </td><td>  9  </td><td> 4504</td></tr>\n",
       "\t<tr><td>US   </td><td>  46 </td><td>  6  </td><td> 4030</td></tr>\n",
       "\t<tr><td>AA   </td><td>  60 </td><td>  6  </td><td> 3178</td></tr>\n",
       "\t<tr><td>DL   </td><td>  42 </td><td>  8  </td><td> 2591</td></tr>\n",
       "\t<tr><td>EV   </td><td>  76 </td><td>  7  </td><td> 2121</td></tr>\n",
       "\t<tr><td>FL   </td><td>  21 </td><td>  7  </td><td> 2111</td></tr>\n",
       "\t<tr><td>UA   </td><td>  34 </td><td>  5  </td><td> 2033</td></tr>\n",
       "\t<tr><td>F9   </td><td>   6 </td><td>  0  </td><td>  832</td></tr>\n",
       "\t<tr><td>B6   </td><td>  18 </td><td>  4  </td><td>  673</td></tr>\n",
       "\t<tr><td>AS   </td><td>   0 </td><td>  1  </td><td>  364</td></tr>\n",
       "\t<tr><td>YV   </td><td>   1 </td><td>  0  </td><td>   78</td></tr>\n",
       "</tbody>\n",
       "</table>\n"
      ],
      "text/latex": [
       "\\begin{tabular}{r|llll}\n",
       " UniqueCarrier & num\\_Cancelled & num\\_Diverted & num\\_Air\\\\\n",
       "\\hline\n",
       "\t XE    & 1132  & 252   & 71669\\\\\n",
       "\t CO    &  475  & 184   & 69373\\\\\n",
       "\t WN    &  703  & 104   & 44536\\\\\n",
       "\t OO    &  224  &  56   & 15781\\\\\n",
       "\t MQ    &  135  &   9   &  4504\\\\\n",
       "\t US    &   46  &   6   &  4030\\\\\n",
       "\t AA    &   60  &   6   &  3178\\\\\n",
       "\t DL    &   42  &   8   &  2591\\\\\n",
       "\t EV    &   76  &   7   &  2121\\\\\n",
       "\t FL    &   21  &   7   &  2111\\\\\n",
       "\t UA    &   34  &   5   &  2033\\\\\n",
       "\t F9    &    6  &   0   &   832\\\\\n",
       "\t B6    &   18  &   4   &   673\\\\\n",
       "\t AS    &    0  &   1   &   364\\\\\n",
       "\t YV    &    1  &   0   &    78\\\\\n",
       "\\end{tabular}\n"
      ],
      "text/markdown": [
       "\n",
       "UniqueCarrier | num_Cancelled | num_Diverted | num_Air | \n",
       "|---|---|---|---|---|---|---|---|---|---|---|---|---|---|---|\n",
       "| XE    | 1132  | 252   | 71669 | \n",
       "| CO    |  475  | 184   | 69373 | \n",
       "| WN    |  703  | 104   | 44536 | \n",
       "| OO    |  224  |  56   | 15781 | \n",
       "| MQ    |  135  |   9   |  4504 | \n",
       "| US    |   46  |   6   |  4030 | \n",
       "| AA    |   60  |   6   |  3178 | \n",
       "| DL    |   42  |   8   |  2591 | \n",
       "| EV    |   76  |   7   |  2121 | \n",
       "| FL    |   21  |   7   |  2111 | \n",
       "| UA    |   34  |   5   |  2033 | \n",
       "| F9    |    6  |   0   |   832 | \n",
       "| B6    |   18  |   4   |   673 | \n",
       "| AS    |    0  |   1   |   364 | \n",
       "| YV    |    1  |   0   |    78 | \n",
       "\n",
       "\n"
      ],
      "text/plain": [
       "   UniqueCarrier num_Cancelled num_Diverted num_Air\n",
       "1  XE            1132          252          71669  \n",
       "2  CO             475          184          69373  \n",
       "3  WN             703          104          44536  \n",
       "4  OO             224           56          15781  \n",
       "5  MQ             135            9           4504  \n",
       "6  US              46            6           4030  \n",
       "7  AA              60            6           3178  \n",
       "8  DL              42            8           2591  \n",
       "9  EV              76            7           2121  \n",
       "10 FL              21            7           2111  \n",
       "11 UA              34            5           2033  \n",
       "12 F9               6            0            832  \n",
       "13 B6              18            4            673  \n",
       "14 AS               0            1            364  \n",
       "15 YV               1            0             78  "
      ]
     },
     "metadata": {},
     "output_type": "display_data"
    }
   ],
   "source": [
    "flights.6 %>%\n",
    "arrange(desc(num_Air))"
   ]
  },
  {
   "cell_type": "code",
   "execution_count": 20,
   "metadata": {},
   "outputs": [],
   "source": [
    "flights.7 <- flights.6[order(-flights.6$num_Air),][1:3,]"
   ]
  },
  {
   "cell_type": "code",
   "execution_count": null,
   "metadata": {},
   "outputs": [],
   "source": []
  },
  {
   "cell_type": "code",
   "execution_count": 38,
   "metadata": {},
   "outputs": [
    {
     "data": {
      "text/html": [
       "<table>\n",
       "<thead><tr><th scope=col>UniqueCarrier</th><th scope=col>num_Cancelled</th><th scope=col>num_Diverted</th><th scope=col>num_Air</th></tr></thead>\n",
       "<tbody>\n",
       "\t<tr><td>XE   </td><td>1132 </td><td>252  </td><td>71669</td></tr>\n",
       "\t<tr><td>CO   </td><td> 475 </td><td>184  </td><td>69373</td></tr>\n",
       "\t<tr><td>WN   </td><td> 703 </td><td>104  </td><td>44536</td></tr>\n",
       "</tbody>\n",
       "</table>\n"
      ],
      "text/latex": [
       "\\begin{tabular}{r|llll}\n",
       " UniqueCarrier & num\\_Cancelled & num\\_Diverted & num\\_Air\\\\\n",
       "\\hline\n",
       "\t XE    & 1132  & 252   & 71669\\\\\n",
       "\t CO    &  475  & 184   & 69373\\\\\n",
       "\t WN    &  703  & 104   & 44536\\\\\n",
       "\\end{tabular}\n"
      ],
      "text/markdown": [
       "\n",
       "UniqueCarrier | num_Cancelled | num_Diverted | num_Air | \n",
       "|---|---|---|\n",
       "| XE    | 1132  | 252   | 71669 | \n",
       "| CO    |  475  | 184   | 69373 | \n",
       "| WN    |  703  | 104   | 44536 | \n",
       "\n",
       "\n"
      ],
      "text/plain": [
       "  UniqueCarrier num_Cancelled num_Diverted num_Air\n",
       "1 XE            1132          252          71669  \n",
       "2 CO             475          184          69373  \n",
       "3 WN             703          104          44536  "
      ]
     },
     "metadata": {},
     "output_type": "display_data"
    }
   ],
   "source": [
    "flights.7"
   ]
  },
  {
   "cell_type": "markdown",
   "metadata": {},
   "source": [
    "Step 2 : Step1의 결과를 이용하여 상위 3개 항공사에 대한 평균 도착 지연시간,평균 출발 지연시간을 구하시오. (평균 출발 지연시간과 평균 도착 지연시간은 소수점 셋째자리까지 표시) "
   ]
  },
  {
   "cell_type": "code",
   "execution_count": 21,
   "metadata": {},
   "outputs": [],
   "source": [
    "flights.8 <- hflights[hflights$UniqueCarrier==flights.7$UniqueCarrier,] %>%\n",
    "group_by(UniqueCarrier) %>%\n",
    "summarise(\n",
    "avg_DepDelay = round(mean(DepDelay, na.rm=TRUE), digits=3), avg_ArrDelay = round(mean(ArrDelay, na.rm=TRUE), digits=3)\n",
    ")"
   ]
  },
  {
   "cell_type": "code",
   "execution_count": 22,
   "metadata": {},
   "outputs": [
    {
     "data": {
      "text/html": [
       "<table>\n",
       "<thead><tr><th scope=col>UniqueCarrier</th><th scope=col>avg_DepDelay</th><th scope=col>avg_ArrDelay</th></tr></thead>\n",
       "<tbody>\n",
       "\t<tr><td>CO    </td><td> 9.123</td><td>5.986 </td></tr>\n",
       "\t<tr><td>WN    </td><td>13.812</td><td>7.882 </td></tr>\n",
       "\t<tr><td>XE    </td><td> 7.801</td><td>8.239 </td></tr>\n",
       "</tbody>\n",
       "</table>\n"
      ],
      "text/latex": [
       "\\begin{tabular}{r|lll}\n",
       " UniqueCarrier & avg\\_DepDelay & avg\\_ArrDelay\\\\\n",
       "\\hline\n",
       "\t CO     &  9.123 & 5.986 \\\\\n",
       "\t WN     & 13.812 & 7.882 \\\\\n",
       "\t XE     &  7.801 & 8.239 \\\\\n",
       "\\end{tabular}\n"
      ],
      "text/markdown": [
       "\n",
       "UniqueCarrier | avg_DepDelay | avg_ArrDelay | \n",
       "|---|---|---|\n",
       "| CO     |  9.123 | 5.986  | \n",
       "| WN     | 13.812 | 7.882  | \n",
       "| XE     |  7.801 | 8.239  | \n",
       "\n",
       "\n"
      ],
      "text/plain": [
       "  UniqueCarrier avg_DepDelay avg_ArrDelay\n",
       "1 CO             9.123       5.986       \n",
       "2 WN            13.812       7.882       \n",
       "3 XE             7.801       8.239       "
      ]
     },
     "metadata": {},
     "output_type": "display_data"
    }
   ],
   "source": [
    "flights.8"
   ]
  },
  {
   "cell_type": "markdown",
   "metadata": {},
   "source": [
    "Step 3 : Step 2의 결과를 이용하여 평균 도착 지연시간이 가장 긴 항공사에 대한 데이터를 추출하고 (월, 요일) 별 평균 도착 지연시간과 평균 출발 지연시간을 다시 구하시오."
   ]
  },
  {
   "cell_type": "code",
   "execution_count": 23,
   "metadata": {},
   "outputs": [],
   "source": [
    "flights.9 <- hflights[hflights$UniqueCarrier==flights.8[order(-flights.8$avg_ArrDelay),][1,]$UniqueCarrier,] %>%\n",
    "group_by(Month, DayOfWeek) %>%\n",
    "summarise(\n",
    "avg_DepDelay = round(mean(DepDelay, na.rm=TRUE), digits=3), avg_ArrDelay = round(mean(ArrDelay, na.rm=TRUE), digits=3))"
   ]
  },
  {
   "cell_type": "code",
   "execution_count": 24,
   "metadata": {},
   "outputs": [
    {
     "data": {
      "text/html": [
       "<table>\n",
       "<thead><tr><th scope=col>Month</th><th scope=col>DayOfWeek</th><th scope=col>avg_DepDelay</th><th scope=col>avg_ArrDelay</th></tr></thead>\n",
       "<tbody>\n",
       "\t<tr><td>1     </td><td>1     </td><td> 7.822</td><td> 7.299</td></tr>\n",
       "\t<tr><td>1     </td><td>2     </td><td> 2.417</td><td> 3.067</td></tr>\n",
       "\t<tr><td>1     </td><td>3     </td><td>-0.426</td><td>-2.655</td></tr>\n",
       "\t<tr><td>1     </td><td>4     </td><td> 4.086</td><td> 5.711</td></tr>\n",
       "\t<tr><td>1     </td><td>5     </td><td> 1.050</td><td> 0.005</td></tr>\n",
       "\t<tr><td>1     </td><td>6     </td><td> 1.280</td><td> 2.191</td></tr>\n",
       "\t<tr><td>1     </td><td>7     </td><td> 7.622</td><td> 6.739</td></tr>\n",
       "\t<tr><td>2     </td><td>1     </td><td> 2.906</td><td> 4.968</td></tr>\n",
       "\t<tr><td>2     </td><td>2     </td><td> 5.769</td><td> 4.352</td></tr>\n",
       "\t<tr><td>2     </td><td>3     </td><td> 6.223</td><td> 6.612</td></tr>\n",
       "\t<tr><td>2     </td><td>4     </td><td> 4.832</td><td> 2.538</td></tr>\n",
       "\t<tr><td>2     </td><td>5     </td><td> 7.502</td><td> 7.708</td></tr>\n",
       "\t<tr><td>2     </td><td>6     </td><td> 6.334</td><td> 7.805</td></tr>\n",
       "\t<tr><td>2     </td><td>7     </td><td> 4.432</td><td> 3.500</td></tr>\n",
       "\t<tr><td>3     </td><td>1     </td><td>16.721</td><td>18.661</td></tr>\n",
       "\t<tr><td>3     </td><td>2     </td><td> 2.802</td><td> 0.988</td></tr>\n",
       "\t<tr><td>3     </td><td>3     </td><td> 2.652</td><td> 2.456</td></tr>\n",
       "\t<tr><td>3     </td><td>4     </td><td>13.093</td><td>14.192</td></tr>\n",
       "\t<tr><td>3     </td><td>5     </td><td> 4.698</td><td> 3.765</td></tr>\n",
       "\t<tr><td>3     </td><td>6     </td><td> 3.851</td><td> 8.429</td></tr>\n",
       "\t<tr><td>3     </td><td>7     </td><td> 7.291</td><td> 6.940</td></tr>\n",
       "\t<tr><td>4     </td><td>1     </td><td>16.182</td><td>26.040</td></tr>\n",
       "\t<tr><td>4     </td><td>2     </td><td> 2.389</td><td> 5.427</td></tr>\n",
       "\t<tr><td>4     </td><td>3     </td><td> 4.123</td><td> 6.863</td></tr>\n",
       "\t<tr><td>4     </td><td>4     </td><td>11.245</td><td>11.673</td></tr>\n",
       "\t<tr><td>4     </td><td>5     </td><td> 9.990</td><td>12.638</td></tr>\n",
       "\t<tr><td>4     </td><td>6     </td><td> 1.959</td><td> 6.364</td></tr>\n",
       "\t<tr><td>4     </td><td>7     </td><td> 7.910</td><td> 9.801</td></tr>\n",
       "\t<tr><td>5     </td><td>1     </td><td> 5.633</td><td> 8.964</td></tr>\n",
       "\t<tr><td>5     </td><td>2     </td><td> 1.638</td><td> 3.973</td></tr>\n",
       "\t<tr><td>...</td><td>...</td><td>...</td><td>...</td></tr>\n",
       "\t<tr><td> 8    </td><td>6     </td><td> 5.132</td><td> 7.052</td></tr>\n",
       "\t<tr><td> 8    </td><td>7     </td><td> 8.257</td><td> 9.009</td></tr>\n",
       "\t<tr><td> 9    </td><td>1     </td><td> 4.169</td><td> 3.890</td></tr>\n",
       "\t<tr><td> 9    </td><td>2     </td><td> 2.014</td><td> 1.249</td></tr>\n",
       "\t<tr><td> 9    </td><td>3     </td><td> 1.544</td><td> 0.913</td></tr>\n",
       "\t<tr><td> 9    </td><td>4     </td><td>10.190</td><td>10.434</td></tr>\n",
       "\t<tr><td> 9    </td><td>5     </td><td> 7.958</td><td> 6.344</td></tr>\n",
       "\t<tr><td> 9    </td><td>6     </td><td> 2.016</td><td> 7.171</td></tr>\n",
       "\t<tr><td> 9    </td><td>7     </td><td> 6.476</td><td> 8.049</td></tr>\n",
       "\t<tr><td>10    </td><td>1     </td><td>10.277</td><td> 8.370</td></tr>\n",
       "\t<tr><td>10    </td><td>2     </td><td>-1.489</td><td>-2.992</td></tr>\n",
       "\t<tr><td>10    </td><td>3     </td><td>-0.207</td><td>-0.881</td></tr>\n",
       "\t<tr><td>10    </td><td>4     </td><td> 2.110</td><td> 0.804</td></tr>\n",
       "\t<tr><td>10    </td><td>5     </td><td> 5.586</td><td> 4.462</td></tr>\n",
       "\t<tr><td>10    </td><td>6     </td><td> 0.968</td><td>-1.512</td></tr>\n",
       "\t<tr><td>10    </td><td>7     </td><td>21.633</td><td>21.059</td></tr>\n",
       "\t<tr><td>11    </td><td>1     </td><td> 4.733</td><td> 2.581</td></tr>\n",
       "\t<tr><td>11    </td><td>2     </td><td>20.156</td><td>25.440</td></tr>\n",
       "\t<tr><td>11    </td><td>3     </td><td> 1.342</td><td>-0.835</td></tr>\n",
       "\t<tr><td>11    </td><td>4     </td><td> 2.908</td><td> 0.895</td></tr>\n",
       "\t<tr><td>11    </td><td>5     </td><td>-0.408</td><td>-3.173</td></tr>\n",
       "\t<tr><td>11    </td><td>6     </td><td> 4.609</td><td> 3.867</td></tr>\n",
       "\t<tr><td>11    </td><td>7     </td><td> 5.396</td><td> 2.760</td></tr>\n",
       "\t<tr><td>12    </td><td>1     </td><td> 9.219</td><td> 6.804</td></tr>\n",
       "\t<tr><td>12    </td><td>2     </td><td> 5.951</td><td> 4.891</td></tr>\n",
       "\t<tr><td>12    </td><td>3     </td><td> 5.111</td><td> 2.099</td></tr>\n",
       "\t<tr><td>12    </td><td>4     </td><td>23.306</td><td>19.901</td></tr>\n",
       "\t<tr><td>12    </td><td>5     </td><td>10.451</td><td> 9.524</td></tr>\n",
       "\t<tr><td>12    </td><td>6     </td><td>31.474</td><td>26.699</td></tr>\n",
       "\t<tr><td>12    </td><td>7     </td><td>10.602</td><td> 7.654</td></tr>\n",
       "</tbody>\n",
       "</table>\n"
      ],
      "text/latex": [
       "\\begin{tabular}{r|llll}\n",
       " Month & DayOfWeek & avg\\_DepDelay & avg\\_ArrDelay\\\\\n",
       "\\hline\n",
       "\t 1      & 1      &  7.822 &  7.299\\\\\n",
       "\t 1      & 2      &  2.417 &  3.067\\\\\n",
       "\t 1      & 3      & -0.426 & -2.655\\\\\n",
       "\t 1      & 4      &  4.086 &  5.711\\\\\n",
       "\t 1      & 5      &  1.050 &  0.005\\\\\n",
       "\t 1      & 6      &  1.280 &  2.191\\\\\n",
       "\t 1      & 7      &  7.622 &  6.739\\\\\n",
       "\t 2      & 1      &  2.906 &  4.968\\\\\n",
       "\t 2      & 2      &  5.769 &  4.352\\\\\n",
       "\t 2      & 3      &  6.223 &  6.612\\\\\n",
       "\t 2      & 4      &  4.832 &  2.538\\\\\n",
       "\t 2      & 5      &  7.502 &  7.708\\\\\n",
       "\t 2      & 6      &  6.334 &  7.805\\\\\n",
       "\t 2      & 7      &  4.432 &  3.500\\\\\n",
       "\t 3      & 1      & 16.721 & 18.661\\\\\n",
       "\t 3      & 2      &  2.802 &  0.988\\\\\n",
       "\t 3      & 3      &  2.652 &  2.456\\\\\n",
       "\t 3      & 4      & 13.093 & 14.192\\\\\n",
       "\t 3      & 5      &  4.698 &  3.765\\\\\n",
       "\t 3      & 6      &  3.851 &  8.429\\\\\n",
       "\t 3      & 7      &  7.291 &  6.940\\\\\n",
       "\t 4      & 1      & 16.182 & 26.040\\\\\n",
       "\t 4      & 2      &  2.389 &  5.427\\\\\n",
       "\t 4      & 3      &  4.123 &  6.863\\\\\n",
       "\t 4      & 4      & 11.245 & 11.673\\\\\n",
       "\t 4      & 5      &  9.990 & 12.638\\\\\n",
       "\t 4      & 6      &  1.959 &  6.364\\\\\n",
       "\t 4      & 7      &  7.910 &  9.801\\\\\n",
       "\t 5      & 1      &  5.633 &  8.964\\\\\n",
       "\t 5      & 2      &  1.638 &  3.973\\\\\n",
       "\t ... & ... & ... & ...\\\\\n",
       "\t  8     & 6      &  5.132 &  7.052\\\\\n",
       "\t  8     & 7      &  8.257 &  9.009\\\\\n",
       "\t  9     & 1      &  4.169 &  3.890\\\\\n",
       "\t  9     & 2      &  2.014 &  1.249\\\\\n",
       "\t  9     & 3      &  1.544 &  0.913\\\\\n",
       "\t  9     & 4      & 10.190 & 10.434\\\\\n",
       "\t  9     & 5      &  7.958 &  6.344\\\\\n",
       "\t  9     & 6      &  2.016 &  7.171\\\\\n",
       "\t  9     & 7      &  6.476 &  8.049\\\\\n",
       "\t 10     & 1      & 10.277 &  8.370\\\\\n",
       "\t 10     & 2      & -1.489 & -2.992\\\\\n",
       "\t 10     & 3      & -0.207 & -0.881\\\\\n",
       "\t 10     & 4      &  2.110 &  0.804\\\\\n",
       "\t 10     & 5      &  5.586 &  4.462\\\\\n",
       "\t 10     & 6      &  0.968 & -1.512\\\\\n",
       "\t 10     & 7      & 21.633 & 21.059\\\\\n",
       "\t 11     & 1      &  4.733 &  2.581\\\\\n",
       "\t 11     & 2      & 20.156 & 25.440\\\\\n",
       "\t 11     & 3      &  1.342 & -0.835\\\\\n",
       "\t 11     & 4      &  2.908 &  0.895\\\\\n",
       "\t 11     & 5      & -0.408 & -3.173\\\\\n",
       "\t 11     & 6      &  4.609 &  3.867\\\\\n",
       "\t 11     & 7      &  5.396 &  2.760\\\\\n",
       "\t 12     & 1      &  9.219 &  6.804\\\\\n",
       "\t 12     & 2      &  5.951 &  4.891\\\\\n",
       "\t 12     & 3      &  5.111 &  2.099\\\\\n",
       "\t 12     & 4      & 23.306 & 19.901\\\\\n",
       "\t 12     & 5      & 10.451 &  9.524\\\\\n",
       "\t 12     & 6      & 31.474 & 26.699\\\\\n",
       "\t 12     & 7      & 10.602 &  7.654\\\\\n",
       "\\end{tabular}\n"
      ],
      "text/markdown": [
       "\n",
       "Month | DayOfWeek | avg_DepDelay | avg_ArrDelay | \n",
       "|---|---|---|---|---|---|---|---|---|---|---|---|---|---|---|---|---|---|---|---|---|---|---|---|---|---|---|---|---|---|---|---|---|---|---|---|---|---|---|---|---|---|---|---|---|---|---|---|---|---|---|---|---|---|---|---|---|---|---|---|---|\n",
       "| 1      | 1      |  7.822 |  7.299 | \n",
       "| 1      | 2      |  2.417 |  3.067 | \n",
       "| 1      | 3      | -0.426 | -2.655 | \n",
       "| 1      | 4      |  4.086 |  5.711 | \n",
       "| 1      | 5      |  1.050 |  0.005 | \n",
       "| 1      | 6      |  1.280 |  2.191 | \n",
       "| 1      | 7      |  7.622 |  6.739 | \n",
       "| 2      | 1      |  2.906 |  4.968 | \n",
       "| 2      | 2      |  5.769 |  4.352 | \n",
       "| 2      | 3      |  6.223 |  6.612 | \n",
       "| 2      | 4      |  4.832 |  2.538 | \n",
       "| 2      | 5      |  7.502 |  7.708 | \n",
       "| 2      | 6      |  6.334 |  7.805 | \n",
       "| 2      | 7      |  4.432 |  3.500 | \n",
       "| 3      | 1      | 16.721 | 18.661 | \n",
       "| 3      | 2      |  2.802 |  0.988 | \n",
       "| 3      | 3      |  2.652 |  2.456 | \n",
       "| 3      | 4      | 13.093 | 14.192 | \n",
       "| 3      | 5      |  4.698 |  3.765 | \n",
       "| 3      | 6      |  3.851 |  8.429 | \n",
       "| 3      | 7      |  7.291 |  6.940 | \n",
       "| 4      | 1      | 16.182 | 26.040 | \n",
       "| 4      | 2      |  2.389 |  5.427 | \n",
       "| 4      | 3      |  4.123 |  6.863 | \n",
       "| 4      | 4      | 11.245 | 11.673 | \n",
       "| 4      | 5      |  9.990 | 12.638 | \n",
       "| 4      | 6      |  1.959 |  6.364 | \n",
       "| 4      | 7      |  7.910 |  9.801 | \n",
       "| 5      | 1      |  5.633 |  8.964 | \n",
       "| 5      | 2      |  1.638 |  3.973 | \n",
       "| ... | ... | ... | ... | \n",
       "|  8     | 6      |  5.132 |  7.052 | \n",
       "|  8     | 7      |  8.257 |  9.009 | \n",
       "|  9     | 1      |  4.169 |  3.890 | \n",
       "|  9     | 2      |  2.014 |  1.249 | \n",
       "|  9     | 3      |  1.544 |  0.913 | \n",
       "|  9     | 4      | 10.190 | 10.434 | \n",
       "|  9     | 5      |  7.958 |  6.344 | \n",
       "|  9     | 6      |  2.016 |  7.171 | \n",
       "|  9     | 7      |  6.476 |  8.049 | \n",
       "| 10     | 1      | 10.277 |  8.370 | \n",
       "| 10     | 2      | -1.489 | -2.992 | \n",
       "| 10     | 3      | -0.207 | -0.881 | \n",
       "| 10     | 4      |  2.110 |  0.804 | \n",
       "| 10     | 5      |  5.586 |  4.462 | \n",
       "| 10     | 6      |  0.968 | -1.512 | \n",
       "| 10     | 7      | 21.633 | 21.059 | \n",
       "| 11     | 1      |  4.733 |  2.581 | \n",
       "| 11     | 2      | 20.156 | 25.440 | \n",
       "| 11     | 3      |  1.342 | -0.835 | \n",
       "| 11     | 4      |  2.908 |  0.895 | \n",
       "| 11     | 5      | -0.408 | -3.173 | \n",
       "| 11     | 6      |  4.609 |  3.867 | \n",
       "| 11     | 7      |  5.396 |  2.760 | \n",
       "| 12     | 1      |  9.219 |  6.804 | \n",
       "| 12     | 2      |  5.951 |  4.891 | \n",
       "| 12     | 3      |  5.111 |  2.099 | \n",
       "| 12     | 4      | 23.306 | 19.901 | \n",
       "| 12     | 5      | 10.451 |  9.524 | \n",
       "| 12     | 6      | 31.474 | 26.699 | \n",
       "| 12     | 7      | 10.602 |  7.654 | \n",
       "\n",
       "\n"
      ],
      "text/plain": [
       "    Month DayOfWeek avg_DepDelay avg_ArrDelay\n",
       "1   1     1          7.822        7.299      \n",
       "2   1     2          2.417        3.067      \n",
       "3   1     3         -0.426       -2.655      \n",
       "4   1     4          4.086        5.711      \n",
       "5   1     5          1.050        0.005      \n",
       "6   1     6          1.280        2.191      \n",
       "7   1     7          7.622        6.739      \n",
       "8   2     1          2.906        4.968      \n",
       "9   2     2          5.769        4.352      \n",
       "10  2     3          6.223        6.612      \n",
       "11  2     4          4.832        2.538      \n",
       "12  2     5          7.502        7.708      \n",
       "13  2     6          6.334        7.805      \n",
       "14  2     7          4.432        3.500      \n",
       "15  3     1         16.721       18.661      \n",
       "16  3     2          2.802        0.988      \n",
       "17  3     3          2.652        2.456      \n",
       "18  3     4         13.093       14.192      \n",
       "19  3     5          4.698        3.765      \n",
       "20  3     6          3.851        8.429      \n",
       "21  3     7          7.291        6.940      \n",
       "22  4     1         16.182       26.040      \n",
       "23  4     2          2.389        5.427      \n",
       "24  4     3          4.123        6.863      \n",
       "25  4     4         11.245       11.673      \n",
       "26  4     5          9.990       12.638      \n",
       "27  4     6          1.959        6.364      \n",
       "28  4     7          7.910        9.801      \n",
       "29  5     1          5.633        8.964      \n",
       "30  5     2          1.638        3.973      \n",
       "... ...   ...       ...          ...         \n",
       "55   8    6          5.132        7.052      \n",
       "56   8    7          8.257        9.009      \n",
       "57   9    1          4.169        3.890      \n",
       "58   9    2          2.014        1.249      \n",
       "59   9    3          1.544        0.913      \n",
       "60   9    4         10.190       10.434      \n",
       "61   9    5          7.958        6.344      \n",
       "62   9    6          2.016        7.171      \n",
       "63   9    7          6.476        8.049      \n",
       "64  10    1         10.277        8.370      \n",
       "65  10    2         -1.489       -2.992      \n",
       "66  10    3         -0.207       -0.881      \n",
       "67  10    4          2.110        0.804      \n",
       "68  10    5          5.586        4.462      \n",
       "69  10    6          0.968       -1.512      \n",
       "70  10    7         21.633       21.059      \n",
       "71  11    1          4.733        2.581      \n",
       "72  11    2         20.156       25.440      \n",
       "73  11    3          1.342       -0.835      \n",
       "74  11    4          2.908        0.895      \n",
       "75  11    5         -0.408       -3.173      \n",
       "76  11    6          4.609        3.867      \n",
       "77  11    7          5.396        2.760      \n",
       "78  12    1          9.219        6.804      \n",
       "79  12    2          5.951        4.891      \n",
       "80  12    3          5.111        2.099      \n",
       "81  12    4         23.306       19.901      \n",
       "82  12    5         10.451        9.524      \n",
       "83  12    6         31.474       26.699      \n",
       "84  12    7         10.602        7.654      "
      ]
     },
     "metadata": {},
     "output_type": "display_data"
    }
   ],
   "source": [
    "flights.9"
   ]
  },
  {
   "cell_type": "markdown",
   "metadata": {},
   "source": [
    "Step 4 : Step 3의 결과를 이용하여 아래와 같은 그림을 그리기 위해 데이터를 melting 하시오."
   ]
  },
  {
   "cell_type": "code",
   "execution_count": 42,
   "metadata": {},
   "outputs": [],
   "source": [
    "flights.9.melt <-\n",
    "melt(flights.9, id=c(\"Month\",\"DayOfWeek\"), measure=c(\"avg_ArrDelay\",\"avg_DepDelay\"), \n",
    "     variable.name=\"Delay_type\", value.name=\"Delay_time\", na.rm=T)"
   ]
  },
  {
   "cell_type": "code",
   "execution_count": 44,
   "metadata": {},
   "outputs": [],
   "source": [
    "flights.9.melt <-melt(flights.9, id=c(\"Month\",\"DayOfWeek\"), measure=c(\"avg_ArrDelay\",\"avg_DepDelay\"), na.rm=T)"
   ]
  },
  {
   "cell_type": "code",
   "execution_count": 45,
   "metadata": {},
   "outputs": [
    {
     "data": {
      "text/html": [
       "<table>\n",
       "<thead><tr><th scope=col>Month</th><th scope=col>DayOfWeek</th><th scope=col>variable</th><th scope=col>value</th></tr></thead>\n",
       "<tbody>\n",
       "\t<tr><td>1           </td><td>1           </td><td>avg_ArrDelay</td><td> 7.299      </td></tr>\n",
       "\t<tr><td>1           </td><td>2           </td><td>avg_ArrDelay</td><td> 3.067      </td></tr>\n",
       "\t<tr><td>1           </td><td>3           </td><td>avg_ArrDelay</td><td>-2.655      </td></tr>\n",
       "\t<tr><td>1           </td><td>4           </td><td>avg_ArrDelay</td><td> 5.711      </td></tr>\n",
       "\t<tr><td>1           </td><td>5           </td><td>avg_ArrDelay</td><td> 0.005      </td></tr>\n",
       "\t<tr><td>1           </td><td>6           </td><td>avg_ArrDelay</td><td> 2.191      </td></tr>\n",
       "</tbody>\n",
       "</table>\n"
      ],
      "text/latex": [
       "\\begin{tabular}{r|llll}\n",
       " Month & DayOfWeek & variable & value\\\\\n",
       "\\hline\n",
       "\t 1              & 1              & avg\\_ArrDelay &  7.299        \\\\\n",
       "\t 1              & 2              & avg\\_ArrDelay &  3.067        \\\\\n",
       "\t 1              & 3              & avg\\_ArrDelay & -2.655        \\\\\n",
       "\t 1              & 4              & avg\\_ArrDelay &  5.711        \\\\\n",
       "\t 1              & 5              & avg\\_ArrDelay &  0.005        \\\\\n",
       "\t 1              & 6              & avg\\_ArrDelay &  2.191        \\\\\n",
       "\\end{tabular}\n"
      ],
      "text/markdown": [
       "\n",
       "Month | DayOfWeek | variable | value | \n",
       "|---|---|---|---|---|---|\n",
       "| 1            | 1            | avg_ArrDelay |  7.299       | \n",
       "| 1            | 2            | avg_ArrDelay |  3.067       | \n",
       "| 1            | 3            | avg_ArrDelay | -2.655       | \n",
       "| 1            | 4            | avg_ArrDelay |  5.711       | \n",
       "| 1            | 5            | avg_ArrDelay |  0.005       | \n",
       "| 1            | 6            | avg_ArrDelay |  2.191       | \n",
       "\n",
       "\n"
      ],
      "text/plain": [
       "  Month DayOfWeek variable     value \n",
       "1 1     1         avg_ArrDelay  7.299\n",
       "2 1     2         avg_ArrDelay  3.067\n",
       "3 1     3         avg_ArrDelay -2.655\n",
       "4 1     4         avg_ArrDelay  5.711\n",
       "5 1     5         avg_ArrDelay  0.005\n",
       "6 1     6         avg_ArrDelay  2.191"
      ]
     },
     "metadata": {},
     "output_type": "display_data"
    }
   ],
   "source": [
    "head(flights.9.melt)"
   ]
  },
  {
   "cell_type": "code",
   "execution_count": 41,
   "metadata": {},
   "outputs": [
    {
     "data": {
      "text/html": [
       "<table>\n",
       "<thead><tr><th scope=col>Month</th><th scope=col>DayOfWeek</th><th scope=col>avg_ArrDelay</th><th scope=col>avg_DepDelay</th></tr></thead>\n",
       "<tbody>\n",
       "\t<tr><td>1     </td><td>1     </td><td> 7.299</td><td> 7.822</td></tr>\n",
       "\t<tr><td>1     </td><td>2     </td><td> 3.067</td><td> 2.417</td></tr>\n",
       "\t<tr><td>1     </td><td>3     </td><td>-2.655</td><td>-0.426</td></tr>\n",
       "\t<tr><td>1     </td><td>4     </td><td> 5.711</td><td> 4.086</td></tr>\n",
       "\t<tr><td>1     </td><td>5     </td><td> 0.005</td><td> 1.050</td></tr>\n",
       "\t<tr><td>1     </td><td>6     </td><td> 2.191</td><td> 1.280</td></tr>\n",
       "\t<tr><td>1     </td><td>7     </td><td> 6.739</td><td> 7.622</td></tr>\n",
       "\t<tr><td>2     </td><td>1     </td><td> 4.968</td><td> 2.906</td></tr>\n",
       "\t<tr><td>2     </td><td>2     </td><td> 4.352</td><td> 5.769</td></tr>\n",
       "\t<tr><td>2     </td><td>3     </td><td> 6.612</td><td> 6.223</td></tr>\n",
       "\t<tr><td>2     </td><td>4     </td><td> 2.538</td><td> 4.832</td></tr>\n",
       "\t<tr><td>2     </td><td>5     </td><td> 7.708</td><td> 7.502</td></tr>\n",
       "\t<tr><td>2     </td><td>6     </td><td> 7.805</td><td> 6.334</td></tr>\n",
       "\t<tr><td>2     </td><td>7     </td><td> 3.500</td><td> 4.432</td></tr>\n",
       "\t<tr><td>3     </td><td>1     </td><td>18.661</td><td>16.721</td></tr>\n",
       "\t<tr><td>3     </td><td>2     </td><td> 0.988</td><td> 2.802</td></tr>\n",
       "\t<tr><td>3     </td><td>3     </td><td> 2.456</td><td> 2.652</td></tr>\n",
       "\t<tr><td>3     </td><td>4     </td><td>14.192</td><td>13.093</td></tr>\n",
       "\t<tr><td>3     </td><td>5     </td><td> 3.765</td><td> 4.698</td></tr>\n",
       "\t<tr><td>3     </td><td>6     </td><td> 8.429</td><td> 3.851</td></tr>\n",
       "\t<tr><td>3     </td><td>7     </td><td> 6.940</td><td> 7.291</td></tr>\n",
       "\t<tr><td>4     </td><td>1     </td><td>26.040</td><td>16.182</td></tr>\n",
       "\t<tr><td>4     </td><td>2     </td><td> 5.427</td><td> 2.389</td></tr>\n",
       "\t<tr><td>4     </td><td>3     </td><td> 6.863</td><td> 4.123</td></tr>\n",
       "\t<tr><td>4     </td><td>4     </td><td>11.673</td><td>11.245</td></tr>\n",
       "\t<tr><td>4     </td><td>5     </td><td>12.638</td><td> 9.990</td></tr>\n",
       "\t<tr><td>4     </td><td>6     </td><td> 6.364</td><td> 1.959</td></tr>\n",
       "\t<tr><td>4     </td><td>7     </td><td> 9.801</td><td> 7.910</td></tr>\n",
       "\t<tr><td>5     </td><td>1     </td><td> 8.964</td><td> 5.633</td></tr>\n",
       "\t<tr><td>5     </td><td>2     </td><td> 3.973</td><td> 1.638</td></tr>\n",
       "\t<tr><td>...</td><td>...</td><td>...</td><td>...</td></tr>\n",
       "\t<tr><td> 8    </td><td>6     </td><td> 7.052</td><td> 5.132</td></tr>\n",
       "\t<tr><td> 8    </td><td>7     </td><td> 9.009</td><td> 8.257</td></tr>\n",
       "\t<tr><td> 9    </td><td>1     </td><td> 3.890</td><td> 4.169</td></tr>\n",
       "\t<tr><td> 9    </td><td>2     </td><td> 1.249</td><td> 2.014</td></tr>\n",
       "\t<tr><td> 9    </td><td>3     </td><td> 0.913</td><td> 1.544</td></tr>\n",
       "\t<tr><td> 9    </td><td>4     </td><td>10.434</td><td>10.190</td></tr>\n",
       "\t<tr><td> 9    </td><td>5     </td><td> 6.344</td><td> 7.958</td></tr>\n",
       "\t<tr><td> 9    </td><td>6     </td><td> 7.171</td><td> 2.016</td></tr>\n",
       "\t<tr><td> 9    </td><td>7     </td><td> 8.049</td><td> 6.476</td></tr>\n",
       "\t<tr><td>10    </td><td>1     </td><td> 8.370</td><td>10.277</td></tr>\n",
       "\t<tr><td>10    </td><td>2     </td><td>-2.992</td><td>-1.489</td></tr>\n",
       "\t<tr><td>10    </td><td>3     </td><td>-0.881</td><td>-0.207</td></tr>\n",
       "\t<tr><td>10    </td><td>4     </td><td> 0.804</td><td> 2.110</td></tr>\n",
       "\t<tr><td>10    </td><td>5     </td><td> 4.462</td><td> 5.586</td></tr>\n",
       "\t<tr><td>10    </td><td>6     </td><td>-1.512</td><td> 0.968</td></tr>\n",
       "\t<tr><td>10    </td><td>7     </td><td>21.059</td><td>21.633</td></tr>\n",
       "\t<tr><td>11    </td><td>1     </td><td> 2.581</td><td> 4.733</td></tr>\n",
       "\t<tr><td>11    </td><td>2     </td><td>25.440</td><td>20.156</td></tr>\n",
       "\t<tr><td>11    </td><td>3     </td><td>-0.835</td><td> 1.342</td></tr>\n",
       "\t<tr><td>11    </td><td>4     </td><td> 0.895</td><td> 2.908</td></tr>\n",
       "\t<tr><td>11    </td><td>5     </td><td>-3.173</td><td>-0.408</td></tr>\n",
       "\t<tr><td>11    </td><td>6     </td><td> 3.867</td><td> 4.609</td></tr>\n",
       "\t<tr><td>11    </td><td>7     </td><td> 2.760</td><td> 5.396</td></tr>\n",
       "\t<tr><td>12    </td><td>1     </td><td> 6.804</td><td> 9.219</td></tr>\n",
       "\t<tr><td>12    </td><td>2     </td><td> 4.891</td><td> 5.951</td></tr>\n",
       "\t<tr><td>12    </td><td>3     </td><td> 2.099</td><td> 5.111</td></tr>\n",
       "\t<tr><td>12    </td><td>4     </td><td>19.901</td><td>23.306</td></tr>\n",
       "\t<tr><td>12    </td><td>5     </td><td> 9.524</td><td>10.451</td></tr>\n",
       "\t<tr><td>12    </td><td>6     </td><td>26.699</td><td>31.474</td></tr>\n",
       "\t<tr><td>12    </td><td>7     </td><td> 7.654</td><td>10.602</td></tr>\n",
       "</tbody>\n",
       "</table>\n"
      ],
      "text/latex": [
       "\\begin{tabular}{r|llll}\n",
       " Month & DayOfWeek & avg\\_ArrDelay & avg\\_DepDelay\\\\\n",
       "\\hline\n",
       "\t 1      & 1      &  7.299 &  7.822\\\\\n",
       "\t 1      & 2      &  3.067 &  2.417\\\\\n",
       "\t 1      & 3      & -2.655 & -0.426\\\\\n",
       "\t 1      & 4      &  5.711 &  4.086\\\\\n",
       "\t 1      & 5      &  0.005 &  1.050\\\\\n",
       "\t 1      & 6      &  2.191 &  1.280\\\\\n",
       "\t 1      & 7      &  6.739 &  7.622\\\\\n",
       "\t 2      & 1      &  4.968 &  2.906\\\\\n",
       "\t 2      & 2      &  4.352 &  5.769\\\\\n",
       "\t 2      & 3      &  6.612 &  6.223\\\\\n",
       "\t 2      & 4      &  2.538 &  4.832\\\\\n",
       "\t 2      & 5      &  7.708 &  7.502\\\\\n",
       "\t 2      & 6      &  7.805 &  6.334\\\\\n",
       "\t 2      & 7      &  3.500 &  4.432\\\\\n",
       "\t 3      & 1      & 18.661 & 16.721\\\\\n",
       "\t 3      & 2      &  0.988 &  2.802\\\\\n",
       "\t 3      & 3      &  2.456 &  2.652\\\\\n",
       "\t 3      & 4      & 14.192 & 13.093\\\\\n",
       "\t 3      & 5      &  3.765 &  4.698\\\\\n",
       "\t 3      & 6      &  8.429 &  3.851\\\\\n",
       "\t 3      & 7      &  6.940 &  7.291\\\\\n",
       "\t 4      & 1      & 26.040 & 16.182\\\\\n",
       "\t 4      & 2      &  5.427 &  2.389\\\\\n",
       "\t 4      & 3      &  6.863 &  4.123\\\\\n",
       "\t 4      & 4      & 11.673 & 11.245\\\\\n",
       "\t 4      & 5      & 12.638 &  9.990\\\\\n",
       "\t 4      & 6      &  6.364 &  1.959\\\\\n",
       "\t 4      & 7      &  9.801 &  7.910\\\\\n",
       "\t 5      & 1      &  8.964 &  5.633\\\\\n",
       "\t 5      & 2      &  3.973 &  1.638\\\\\n",
       "\t ... & ... & ... & ...\\\\\n",
       "\t  8     & 6      &  7.052 &  5.132\\\\\n",
       "\t  8     & 7      &  9.009 &  8.257\\\\\n",
       "\t  9     & 1      &  3.890 &  4.169\\\\\n",
       "\t  9     & 2      &  1.249 &  2.014\\\\\n",
       "\t  9     & 3      &  0.913 &  1.544\\\\\n",
       "\t  9     & 4      & 10.434 & 10.190\\\\\n",
       "\t  9     & 5      &  6.344 &  7.958\\\\\n",
       "\t  9     & 6      &  7.171 &  2.016\\\\\n",
       "\t  9     & 7      &  8.049 &  6.476\\\\\n",
       "\t 10     & 1      &  8.370 & 10.277\\\\\n",
       "\t 10     & 2      & -2.992 & -1.489\\\\\n",
       "\t 10     & 3      & -0.881 & -0.207\\\\\n",
       "\t 10     & 4      &  0.804 &  2.110\\\\\n",
       "\t 10     & 5      &  4.462 &  5.586\\\\\n",
       "\t 10     & 6      & -1.512 &  0.968\\\\\n",
       "\t 10     & 7      & 21.059 & 21.633\\\\\n",
       "\t 11     & 1      &  2.581 &  4.733\\\\\n",
       "\t 11     & 2      & 25.440 & 20.156\\\\\n",
       "\t 11     & 3      & -0.835 &  1.342\\\\\n",
       "\t 11     & 4      &  0.895 &  2.908\\\\\n",
       "\t 11     & 5      & -3.173 & -0.408\\\\\n",
       "\t 11     & 6      &  3.867 &  4.609\\\\\n",
       "\t 11     & 7      &  2.760 &  5.396\\\\\n",
       "\t 12     & 1      &  6.804 &  9.219\\\\\n",
       "\t 12     & 2      &  4.891 &  5.951\\\\\n",
       "\t 12     & 3      &  2.099 &  5.111\\\\\n",
       "\t 12     & 4      & 19.901 & 23.306\\\\\n",
       "\t 12     & 5      &  9.524 & 10.451\\\\\n",
       "\t 12     & 6      & 26.699 & 31.474\\\\\n",
       "\t 12     & 7      &  7.654 & 10.602\\\\\n",
       "\\end{tabular}\n"
      ],
      "text/markdown": [
       "\n",
       "Month | DayOfWeek | avg_ArrDelay | avg_DepDelay | \n",
       "|---|---|---|---|---|---|---|---|---|---|---|---|---|---|---|---|---|---|---|---|---|---|---|---|---|---|---|---|---|---|---|---|---|---|---|---|---|---|---|---|---|---|---|---|---|---|---|---|---|---|---|---|---|---|---|---|---|---|---|---|---|\n",
       "| 1      | 1      |  7.299 |  7.822 | \n",
       "| 1      | 2      |  3.067 |  2.417 | \n",
       "| 1      | 3      | -2.655 | -0.426 | \n",
       "| 1      | 4      |  5.711 |  4.086 | \n",
       "| 1      | 5      |  0.005 |  1.050 | \n",
       "| 1      | 6      |  2.191 |  1.280 | \n",
       "| 1      | 7      |  6.739 |  7.622 | \n",
       "| 2      | 1      |  4.968 |  2.906 | \n",
       "| 2      | 2      |  4.352 |  5.769 | \n",
       "| 2      | 3      |  6.612 |  6.223 | \n",
       "| 2      | 4      |  2.538 |  4.832 | \n",
       "| 2      | 5      |  7.708 |  7.502 | \n",
       "| 2      | 6      |  7.805 |  6.334 | \n",
       "| 2      | 7      |  3.500 |  4.432 | \n",
       "| 3      | 1      | 18.661 | 16.721 | \n",
       "| 3      | 2      |  0.988 |  2.802 | \n",
       "| 3      | 3      |  2.456 |  2.652 | \n",
       "| 3      | 4      | 14.192 | 13.093 | \n",
       "| 3      | 5      |  3.765 |  4.698 | \n",
       "| 3      | 6      |  8.429 |  3.851 | \n",
       "| 3      | 7      |  6.940 |  7.291 | \n",
       "| 4      | 1      | 26.040 | 16.182 | \n",
       "| 4      | 2      |  5.427 |  2.389 | \n",
       "| 4      | 3      |  6.863 |  4.123 | \n",
       "| 4      | 4      | 11.673 | 11.245 | \n",
       "| 4      | 5      | 12.638 |  9.990 | \n",
       "| 4      | 6      |  6.364 |  1.959 | \n",
       "| 4      | 7      |  9.801 |  7.910 | \n",
       "| 5      | 1      |  8.964 |  5.633 | \n",
       "| 5      | 2      |  3.973 |  1.638 | \n",
       "| ... | ... | ... | ... | \n",
       "|  8     | 6      |  7.052 |  5.132 | \n",
       "|  8     | 7      |  9.009 |  8.257 | \n",
       "|  9     | 1      |  3.890 |  4.169 | \n",
       "|  9     | 2      |  1.249 |  2.014 | \n",
       "|  9     | 3      |  0.913 |  1.544 | \n",
       "|  9     | 4      | 10.434 | 10.190 | \n",
       "|  9     | 5      |  6.344 |  7.958 | \n",
       "|  9     | 6      |  7.171 |  2.016 | \n",
       "|  9     | 7      |  8.049 |  6.476 | \n",
       "| 10     | 1      |  8.370 | 10.277 | \n",
       "| 10     | 2      | -2.992 | -1.489 | \n",
       "| 10     | 3      | -0.881 | -0.207 | \n",
       "| 10     | 4      |  0.804 |  2.110 | \n",
       "| 10     | 5      |  4.462 |  5.586 | \n",
       "| 10     | 6      | -1.512 |  0.968 | \n",
       "| 10     | 7      | 21.059 | 21.633 | \n",
       "| 11     | 1      |  2.581 |  4.733 | \n",
       "| 11     | 2      | 25.440 | 20.156 | \n",
       "| 11     | 3      | -0.835 |  1.342 | \n",
       "| 11     | 4      |  0.895 |  2.908 | \n",
       "| 11     | 5      | -3.173 | -0.408 | \n",
       "| 11     | 6      |  3.867 |  4.609 | \n",
       "| 11     | 7      |  2.760 |  5.396 | \n",
       "| 12     | 1      |  6.804 |  9.219 | \n",
       "| 12     | 2      |  4.891 |  5.951 | \n",
       "| 12     | 3      |  2.099 |  5.111 | \n",
       "| 12     | 4      | 19.901 | 23.306 | \n",
       "| 12     | 5      |  9.524 | 10.451 | \n",
       "| 12     | 6      | 26.699 | 31.474 | \n",
       "| 12     | 7      |  7.654 | 10.602 | \n",
       "\n",
       "\n"
      ],
      "text/plain": [
       "    Month DayOfWeek avg_ArrDelay avg_DepDelay\n",
       "1   1     1          7.299        7.822      \n",
       "2   1     2          3.067        2.417      \n",
       "3   1     3         -2.655       -0.426      \n",
       "4   1     4          5.711        4.086      \n",
       "5   1     5          0.005        1.050      \n",
       "6   1     6          2.191        1.280      \n",
       "7   1     7          6.739        7.622      \n",
       "8   2     1          4.968        2.906      \n",
       "9   2     2          4.352        5.769      \n",
       "10  2     3          6.612        6.223      \n",
       "11  2     4          2.538        4.832      \n",
       "12  2     5          7.708        7.502      \n",
       "13  2     6          7.805        6.334      \n",
       "14  2     7          3.500        4.432      \n",
       "15  3     1         18.661       16.721      \n",
       "16  3     2          0.988        2.802      \n",
       "17  3     3          2.456        2.652      \n",
       "18  3     4         14.192       13.093      \n",
       "19  3     5          3.765        4.698      \n",
       "20  3     6          8.429        3.851      \n",
       "21  3     7          6.940        7.291      \n",
       "22  4     1         26.040       16.182      \n",
       "23  4     2          5.427        2.389      \n",
       "24  4     3          6.863        4.123      \n",
       "25  4     4         11.673       11.245      \n",
       "26  4     5         12.638        9.990      \n",
       "27  4     6          6.364        1.959      \n",
       "28  4     7          9.801        7.910      \n",
       "29  5     1          8.964        5.633      \n",
       "30  5     2          3.973        1.638      \n",
       "... ...   ...       ...          ...         \n",
       "55   8    6          7.052        5.132      \n",
       "56   8    7          9.009        8.257      \n",
       "57   9    1          3.890        4.169      \n",
       "58   9    2          1.249        2.014      \n",
       "59   9    3          0.913        1.544      \n",
       "60   9    4         10.434       10.190      \n",
       "61   9    5          6.344        7.958      \n",
       "62   9    6          7.171        2.016      \n",
       "63   9    7          8.049        6.476      \n",
       "64  10    1          8.370       10.277      \n",
       "65  10    2         -2.992       -1.489      \n",
       "66  10    3         -0.881       -0.207      \n",
       "67  10    4          0.804        2.110      \n",
       "68  10    5          4.462        5.586      \n",
       "69  10    6         -1.512        0.968      \n",
       "70  10    7         21.059       21.633      \n",
       "71  11    1          2.581        4.733      \n",
       "72  11    2         25.440       20.156      \n",
       "73  11    3         -0.835        1.342      \n",
       "74  11    4          0.895        2.908      \n",
       "75  11    5         -3.173       -0.408      \n",
       "76  11    6          3.867        4.609      \n",
       "77  11    7          2.760        5.396      \n",
       "78  12    1          6.804        9.219      \n",
       "79  12    2          4.891        5.951      \n",
       "80  12    3          2.099        5.111      \n",
       "81  12    4         19.901       23.306      \n",
       "82  12    5          9.524       10.451      \n",
       "83  12    6         26.699       31.474      \n",
       "84  12    7          7.654       10.602      "
      ]
     },
     "metadata": {},
     "output_type": "display_data"
    }
   ],
   "source": [
    "dcast(flights.9.melt, Month + DayOfWeek ~ variable )"
   ]
  },
  {
   "cell_type": "code",
   "execution_count": null,
   "metadata": {},
   "outputs": [],
   "source": []
  },
  {
   "cell_type": "markdown",
   "metadata": {},
   "source": [
    "Step 5 : Step 4의 결과를 이용하여 아래와 같은 그림을 그리시오."
   ]
  },
  {
   "cell_type": "code",
   "execution_count": 49,
   "metadata": {},
   "outputs": [
    {
     "data": {},
     "metadata": {},
     "output_type": "display_data"
    },
    {
     "data": {
      "image/png": "[encoded data removed]",
      "text/plain": [
       "plot without title"
      ]
     },
     "metadata": {},
     "output_type": "display_data"
    }
   ],
   "source": [
    "mmm <- ggplot(flights.9.melt, aes(x=DayOfWeek, y=Delay_time, group=Delay_type, \n",
    "                                  shape=Delay_type, color=Delay_type)) + geom_line() + geom_point()\n",
    "\n",
    "mmm + facet_wrap(~Month,nrow=2)"
   ]
  },
  {
   "cell_type": "code",
   "execution_count": null,
   "metadata": {},
   "outputs": [],
   "source": []
  }
 ],
 "metadata": {
  "kernelspec": {
   "display_name": "R",
   "language": "R",
   "name": "ir"
  },
  "language_info": {
   "codemirror_mode": "r",
   "file_extension": ".r",
   "mimetype": "text/x-r-source",
   "name": "R",
   "pygments_lexer": "r",
   "version": "3.4.3"
  }
 },
 "nbformat": 4,
 "nbformat_minor": 2
}
