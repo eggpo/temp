{
 "cells": [
  {
   "cell_type": "markdown",
   "metadata": {},
   "source": [
    "# Vector"
   ]
  },
  {
   "cell_type": "markdown",
   "metadata": {},
   "source": [
    "* 데이터를 효과적으로 저장하고 관리하기 위해서는 기본적인 데이터 타입만으로 부족하고 데이터를 저장하는 구조로서 Object가 설정되어야 함 \n",
    "    > R에서 함수를 적용하여 분석하고자 할 때 Object별로 사용가능한 함수가 다르다"
   ]
  },
  {
   "cell_type": "markdown",
   "metadata": {},
   "source": [
    "* Vector 시작\n",
    "    > a <- 1"
   ]
  },
  {
   "cell_type": "code",
   "execution_count": 18,
   "metadata": {},
   "outputs": [],
   "source": [
    "a <- 1"
   ]
  },
  {
   "cell_type": "code",
   "execution_count": 21,
   "metadata": {},
   "outputs": [],
   "source": [
    "b <- 1"
   ]
  },
  {
   "cell_type": "code",
   "execution_count": 22,
   "metadata": {},
   "outputs": [],
   "source": [
    "vX <- c(1,2)"
   ]
  },
  {
   "cell_type": "code",
   "execution_count": 23,
   "metadata": {},
   "outputs": [
    {
     "data": {
      "text/html": [
       "<ol class=list-inline>\n",
       "\t<li>1</li>\n",
       "\t<li>2</li>\n",
       "</ol>\n"
      ],
      "text/latex": [
       "\\begin{enumerate*}\n",
       "\\item 1\n",
       "\\item 2\n",
       "\\end{enumerate*}\n"
      ],
      "text/markdown": [
       "1. 1\n",
       "2. 2\n",
       "\n",
       "\n"
      ],
      "text/plain": [
       "[1] 1 2"
      ]
     },
     "metadata": {},
     "output_type": "display_data"
    }
   ],
   "source": [
    "vX"
   ]
  },
  {
   "cell_type": "code",
   "execution_count": 24,
   "metadata": {},
   "outputs": [],
   "source": [
    "vX.1 <- c(1,2,3,4,5,6,7,8,9,10)"
   ]
  },
  {
   "cell_type": "code",
   "execution_count": 25,
   "metadata": {},
   "outputs": [],
   "source": [
    "vX.2 <- c(1:10)"
   ]
  },
  {
   "cell_type": "code",
   "execution_count": 26,
   "metadata": {},
   "outputs": [
    {
     "data": {
      "text/html": [
       "<ol class=list-inline>\n",
       "\t<li>1</li>\n",
       "\t<li>2</li>\n",
       "\t<li>3</li>\n",
       "\t<li>4</li>\n",
       "\t<li>5</li>\n",
       "\t<li>6</li>\n",
       "\t<li>7</li>\n",
       "\t<li>8</li>\n",
       "\t<li>9</li>\n",
       "\t<li>10</li>\n",
       "</ol>\n"
      ],
      "text/latex": [
       "\\begin{enumerate*}\n",
       "\\item 1\n",
       "\\item 2\n",
       "\\item 3\n",
       "\\item 4\n",
       "\\item 5\n",
       "\\item 6\n",
       "\\item 7\n",
       "\\item 8\n",
       "\\item 9\n",
       "\\item 10\n",
       "\\end{enumerate*}\n"
      ],
      "text/markdown": [
       "1. 1\n",
       "2. 2\n",
       "3. 3\n",
       "4. 4\n",
       "5. 5\n",
       "6. 6\n",
       "7. 7\n",
       "8. 8\n",
       "9. 9\n",
       "10. 10\n",
       "\n",
       "\n"
      ],
      "text/plain": [
       " [1]  1  2  3  4  5  6  7  8  9 10"
      ]
     },
     "metadata": {},
     "output_type": "display_data"
    }
   ],
   "source": [
    "vX.2"
   ]
  },
  {
   "cell_type": "code",
   "execution_count": 27,
   "metadata": {},
   "outputs": [],
   "source": [
    "vX.2 <- c(1:10, 11,12)"
   ]
  },
  {
   "cell_type": "code",
   "execution_count": 28,
   "metadata": {},
   "outputs": [
    {
     "data": {
      "text/html": [
       "<ol class=list-inline>\n",
       "\t<li>1</li>\n",
       "\t<li>2</li>\n",
       "\t<li>3</li>\n",
       "\t<li>4</li>\n",
       "\t<li>5</li>\n",
       "\t<li>6</li>\n",
       "\t<li>7</li>\n",
       "\t<li>8</li>\n",
       "\t<li>9</li>\n",
       "\t<li>10</li>\n",
       "\t<li>11</li>\n",
       "\t<li>12</li>\n",
       "</ol>\n"
      ],
      "text/latex": [
       "\\begin{enumerate*}\n",
       "\\item 1\n",
       "\\item 2\n",
       "\\item 3\n",
       "\\item 4\n",
       "\\item 5\n",
       "\\item 6\n",
       "\\item 7\n",
       "\\item 8\n",
       "\\item 9\n",
       "\\item 10\n",
       "\\item 11\n",
       "\\item 12\n",
       "\\end{enumerate*}\n"
      ],
      "text/markdown": [
       "1. 1\n",
       "2. 2\n",
       "3. 3\n",
       "4. 4\n",
       "5. 5\n",
       "6. 6\n",
       "7. 7\n",
       "8. 8\n",
       "9. 9\n",
       "10. 10\n",
       "11. 11\n",
       "12. 12\n",
       "\n",
       "\n"
      ],
      "text/plain": [
       " [1]  1  2  3  4  5  6  7  8  9 10 11 12"
      ]
     },
     "metadata": {},
     "output_type": "display_data"
    }
   ],
   "source": [
    "vX.2"
   ]
  },
  {
   "cell_type": "code",
   "execution_count": 29,
   "metadata": {},
   "outputs": [],
   "source": [
    "vX.3 <- c(\"a\", \"b\")"
   ]
  },
  {
   "cell_type": "code",
   "execution_count": 30,
   "metadata": {},
   "outputs": [
    {
     "data": {
      "text/html": [
       "<ol class=list-inline>\n",
       "\t<li>'a'</li>\n",
       "\t<li>'b'</li>\n",
       "</ol>\n"
      ],
      "text/latex": [
       "\\begin{enumerate*}\n",
       "\\item 'a'\n",
       "\\item 'b'\n",
       "\\end{enumerate*}\n"
      ],
      "text/markdown": [
       "1. 'a'\n",
       "2. 'b'\n",
       "\n",
       "\n"
      ],
      "text/plain": [
       "[1] \"a\" \"b\""
      ]
     },
     "metadata": {},
     "output_type": "display_data"
    }
   ],
   "source": [
    "vX.3"
   ]
  },
  {
   "cell_type": "code",
   "execution_count": 31,
   "metadata": {},
   "outputs": [
    {
     "data": {
      "text/html": [
       "'numeric'"
      ],
      "text/latex": [
       "'numeric'"
      ],
      "text/markdown": [
       "'numeric'"
      ],
      "text/plain": [
       "[1] \"numeric\""
      ]
     },
     "metadata": {},
     "output_type": "display_data"
    }
   ],
   "source": [
    "mode(vX.2)"
   ]
  },
  {
   "cell_type": "code",
   "execution_count": 32,
   "metadata": {},
   "outputs": [
    {
     "data": {
      "text/html": [
       "'character'"
      ],
      "text/latex": [
       "'character'"
      ],
      "text/markdown": [
       "'character'"
      ],
      "text/plain": [
       "[1] \"character\""
      ]
     },
     "metadata": {},
     "output_type": "display_data"
    }
   ],
   "source": [
    "mode(vX.3)"
   ]
  },
  {
   "cell_type": "code",
   "execution_count": 33,
   "metadata": {},
   "outputs": [],
   "source": [
    "vX.4 <- c(vX.1, vX.2)"
   ]
  },
  {
   "cell_type": "code",
   "execution_count": 34,
   "metadata": {},
   "outputs": [
    {
     "data": {
      "text/html": [
       "<ol class=list-inline>\n",
       "\t<li>1</li>\n",
       "\t<li>2</li>\n",
       "\t<li>3</li>\n",
       "\t<li>4</li>\n",
       "\t<li>5</li>\n",
       "\t<li>6</li>\n",
       "\t<li>7</li>\n",
       "\t<li>8</li>\n",
       "\t<li>9</li>\n",
       "\t<li>10</li>\n",
       "\t<li>1</li>\n",
       "\t<li>2</li>\n",
       "\t<li>3</li>\n",
       "\t<li>4</li>\n",
       "\t<li>5</li>\n",
       "\t<li>6</li>\n",
       "\t<li>7</li>\n",
       "\t<li>8</li>\n",
       "\t<li>9</li>\n",
       "\t<li>10</li>\n",
       "\t<li>11</li>\n",
       "\t<li>12</li>\n",
       "</ol>\n"
      ],
      "text/latex": [
       "\\begin{enumerate*}\n",
       "\\item 1\n",
       "\\item 2\n",
       "\\item 3\n",
       "\\item 4\n",
       "\\item 5\n",
       "\\item 6\n",
       "\\item 7\n",
       "\\item 8\n",
       "\\item 9\n",
       "\\item 10\n",
       "\\item 1\n",
       "\\item 2\n",
       "\\item 3\n",
       "\\item 4\n",
       "\\item 5\n",
       "\\item 6\n",
       "\\item 7\n",
       "\\item 8\n",
       "\\item 9\n",
       "\\item 10\n",
       "\\item 11\n",
       "\\item 12\n",
       "\\end{enumerate*}\n"
      ],
      "text/markdown": [
       "1. 1\n",
       "2. 2\n",
       "3. 3\n",
       "4. 4\n",
       "5. 5\n",
       "6. 6\n",
       "7. 7\n",
       "8. 8\n",
       "9. 9\n",
       "10. 10\n",
       "11. 1\n",
       "12. 2\n",
       "13. 3\n",
       "14. 4\n",
       "15. 5\n",
       "16. 6\n",
       "17. 7\n",
       "18. 8\n",
       "19. 9\n",
       "20. 10\n",
       "21. 11\n",
       "22. 12\n",
       "\n",
       "\n"
      ],
      "text/plain": [
       " [1]  1  2  3  4  5  6  7  8  9 10  1  2  3  4  5  6  7  8  9 10 11 12"
      ]
     },
     "metadata": {},
     "output_type": "display_data"
    }
   ],
   "source": [
    "vX.4"
   ]
  },
  {
   "cell_type": "code",
   "execution_count": 35,
   "metadata": {},
   "outputs": [
    {
     "data": {
      "text/html": [
       "'numeric'"
      ],
      "text/latex": [
       "'numeric'"
      ],
      "text/markdown": [
       "'numeric'"
      ],
      "text/plain": [
       "[1] \"numeric\""
      ]
     },
     "metadata": {},
     "output_type": "display_data"
    }
   ],
   "source": [
    "mode(vX.4)"
   ]
  },
  {
   "cell_type": "code",
   "execution_count": 36,
   "metadata": {},
   "outputs": [],
   "source": [
    "vX.5 <- c(\"a\", 1)"
   ]
  },
  {
   "cell_type": "code",
   "execution_count": 37,
   "metadata": {},
   "outputs": [
    {
     "data": {
      "text/html": [
       "'character'"
      ],
      "text/latex": [
       "'character'"
      ],
      "text/markdown": [
       "'character'"
      ],
      "text/plain": [
       "[1] \"character\""
      ]
     },
     "metadata": {},
     "output_type": "display_data"
    }
   ],
   "source": [
    "mode(vX.5)"
   ]
  },
  {
   "cell_type": "code",
   "execution_count": 38,
   "metadata": {},
   "outputs": [
    {
     "data": {
      "text/html": [
       "<ol class=list-inline>\n",
       "\t<li>'a'</li>\n",
       "\t<li>'1'</li>\n",
       "</ol>\n"
      ],
      "text/latex": [
       "\\begin{enumerate*}\n",
       "\\item 'a'\n",
       "\\item '1'\n",
       "\\end{enumerate*}\n"
      ],
      "text/markdown": [
       "1. 'a'\n",
       "2. '1'\n",
       "\n",
       "\n"
      ],
      "text/plain": [
       "[1] \"a\" \"1\""
      ]
     },
     "metadata": {},
     "output_type": "display_data"
    }
   ],
   "source": [
    "vX.5"
   ]
  },
  {
   "cell_type": "code",
   "execution_count": 49,
   "metadata": {},
   "outputs": [],
   "source": [
    "vX.6<- c(1,2,3,4,5,\"6\", 7,8,9,10)"
   ]
  },
  {
   "cell_type": "code",
   "execution_count": 50,
   "metadata": {},
   "outputs": [
    {
     "data": {
      "text/html": [
       "<ol class=list-inline>\n",
       "\t<li>'1'</li>\n",
       "\t<li>'2'</li>\n",
       "\t<li>'3'</li>\n",
       "\t<li>'4'</li>\n",
       "\t<li>'5'</li>\n",
       "\t<li>'6'</li>\n",
       "\t<li>'7'</li>\n",
       "\t<li>'8'</li>\n",
       "\t<li>'9'</li>\n",
       "\t<li>'10'</li>\n",
       "</ol>\n"
      ],
      "text/latex": [
       "\\begin{enumerate*}\n",
       "\\item '1'\n",
       "\\item '2'\n",
       "\\item '3'\n",
       "\\item '4'\n",
       "\\item '5'\n",
       "\\item '6'\n",
       "\\item '7'\n",
       "\\item '8'\n",
       "\\item '9'\n",
       "\\item '10'\n",
       "\\end{enumerate*}\n"
      ],
      "text/markdown": [
       "1. '1'\n",
       "2. '2'\n",
       "3. '3'\n",
       "4. '4'\n",
       "5. '5'\n",
       "6. '6'\n",
       "7. '7'\n",
       "8. '8'\n",
       "9. '9'\n",
       "10. '10'\n",
       "\n",
       "\n"
      ],
      "text/plain": [
       " [1] \"1\"  \"2\"  \"3\"  \"4\"  \"5\"  \"6\"  \"7\"  \"8\"  \"9\"  \"10\""
      ]
     },
     "metadata": {},
     "output_type": "display_data"
    }
   ],
   "source": [
    "vX.6"
   ]
  },
  {
   "cell_type": "code",
   "execution_count": 43,
   "metadata": {},
   "outputs": [
    {
     "data": {
      "text/html": [
       "'character'"
      ],
      "text/latex": [
       "'character'"
      ],
      "text/markdown": [
       "'character'"
      ],
      "text/plain": [
       "[1] \"character\""
      ]
     },
     "metadata": {},
     "output_type": "display_data"
    }
   ],
   "source": [
    "mode(vX.6)"
   ]
  },
  {
   "cell_type": "code",
   "execution_count": 41,
   "metadata": {},
   "outputs": [
    {
     "ename": "ERROR",
     "evalue": "Error in sum(vX.6): 인자의 'type' (character)이 올바르지 않습니다\n",
     "output_type": "error",
     "traceback": [
      "Error in sum(vX.6): 인자의 'type' (character)이 올바르지 않습니다\nTraceback:\n"
     ]
    }
   ],
   "source": [
    "sum(vX.6)"
   ]
  },
  {
   "cell_type": "code",
   "execution_count": 47,
   "metadata": {},
   "outputs": [],
   "source": [
    "vX.7<- c(1,2,3,4,5,6, 7,8,9,10)"
   ]
  },
  {
   "cell_type": "code",
   "execution_count": 48,
   "metadata": {},
   "outputs": [
    {
     "data": {
      "text/html": [
       "<ol class=list-inline>\n",
       "\t<li>1</li>\n",
       "\t<li>2</li>\n",
       "\t<li>3</li>\n",
       "\t<li>4</li>\n",
       "\t<li>5</li>\n",
       "\t<li>6</li>\n",
       "\t<li>7</li>\n",
       "\t<li>8</li>\n",
       "\t<li>9</li>\n",
       "\t<li>10</li>\n",
       "</ol>\n"
      ],
      "text/latex": [
       "\\begin{enumerate*}\n",
       "\\item 1\n",
       "\\item 2\n",
       "\\item 3\n",
       "\\item 4\n",
       "\\item 5\n",
       "\\item 6\n",
       "\\item 7\n",
       "\\item 8\n",
       "\\item 9\n",
       "\\item 10\n",
       "\\end{enumerate*}\n"
      ],
      "text/markdown": [
       "1. 1\n",
       "2. 2\n",
       "3. 3\n",
       "4. 4\n",
       "5. 5\n",
       "6. 6\n",
       "7. 7\n",
       "8. 8\n",
       "9. 9\n",
       "10. 10\n",
       "\n",
       "\n"
      ],
      "text/plain": [
       " [1]  1  2  3  4  5  6  7  8  9 10"
      ]
     },
     "metadata": {},
     "output_type": "display_data"
    }
   ],
   "source": [
    "vX.7"
   ]
  },
  {
   "cell_type": "code",
   "execution_count": 51,
   "metadata": {},
   "outputs": [
    {
     "data": {
      "text/html": [
       "<ol class=list-inline>\n",
       "\t<li>1</li>\n",
       "\t<li>2</li>\n",
       "\t<li>3</li>\n",
       "\t<li>4</li>\n",
       "\t<li>5</li>\n",
       "\t<li>6</li>\n",
       "\t<li>7</li>\n",
       "\t<li>8</li>\n",
       "\t<li>9</li>\n",
       "\t<li>10</li>\n",
       "\t<li>11</li>\n",
       "\t<li>12</li>\n",
       "\t<li>13</li>\n",
       "\t<li>14</li>\n",
       "\t<li>15</li>\n",
       "\t<li>16</li>\n",
       "\t<li>17</li>\n",
       "\t<li>18</li>\n",
       "\t<li>19</li>\n",
       "\t<li>20</li>\n",
       "\t<li>21</li>\n",
       "\t<li>22</li>\n",
       "\t<li>23</li>\n",
       "\t<li>24</li>\n",
       "\t<li>25</li>\n",
       "\t<li>26</li>\n",
       "\t<li>27</li>\n",
       "\t<li>28</li>\n",
       "\t<li>29</li>\n",
       "\t<li>30</li>\n",
       "\t<li>31</li>\n",
       "\t<li>32</li>\n",
       "\t<li>33</li>\n",
       "\t<li>34</li>\n",
       "\t<li>35</li>\n",
       "\t<li>36</li>\n",
       "\t<li>37</li>\n",
       "\t<li>38</li>\n",
       "\t<li>39</li>\n",
       "\t<li>40</li>\n",
       "\t<li>41</li>\n",
       "\t<li>42</li>\n",
       "\t<li>43</li>\n",
       "\t<li>44</li>\n",
       "\t<li>45</li>\n",
       "\t<li>46</li>\n",
       "\t<li>47</li>\n",
       "\t<li>48</li>\n",
       "\t<li>49</li>\n",
       "\t<li>50</li>\n",
       "\t<li>51</li>\n",
       "\t<li>52</li>\n",
       "\t<li>53</li>\n",
       "\t<li>54</li>\n",
       "\t<li>55</li>\n",
       "\t<li>56</li>\n",
       "\t<li>57</li>\n",
       "\t<li>58</li>\n",
       "\t<li>59</li>\n",
       "\t<li>60</li>\n",
       "\t<li>61</li>\n",
       "\t<li>62</li>\n",
       "\t<li>63</li>\n",
       "\t<li>64</li>\n",
       "\t<li>65</li>\n",
       "\t<li>66</li>\n",
       "\t<li>67</li>\n",
       "\t<li>68</li>\n",
       "\t<li>69</li>\n",
       "\t<li>70</li>\n",
       "\t<li>71</li>\n",
       "\t<li>72</li>\n",
       "\t<li>73</li>\n",
       "\t<li>74</li>\n",
       "\t<li>75</li>\n",
       "\t<li>76</li>\n",
       "\t<li>77</li>\n",
       "\t<li>78</li>\n",
       "\t<li>79</li>\n",
       "\t<li>80</li>\n",
       "\t<li>81</li>\n",
       "\t<li>82</li>\n",
       "\t<li>83</li>\n",
       "\t<li>84</li>\n",
       "\t<li>85</li>\n",
       "\t<li>86</li>\n",
       "\t<li>87</li>\n",
       "\t<li>88</li>\n",
       "\t<li>89</li>\n",
       "\t<li>90</li>\n",
       "\t<li>91</li>\n",
       "\t<li>92</li>\n",
       "\t<li>93</li>\n",
       "\t<li>94</li>\n",
       "\t<li>95</li>\n",
       "\t<li>96</li>\n",
       "\t<li>97</li>\n",
       "\t<li>98</li>\n",
       "\t<li>99</li>\n",
       "\t<li>100</li>\n",
       "</ol>\n"
      ],
      "text/latex": [
       "\\begin{enumerate*}\n",
       "\\item 1\n",
       "\\item 2\n",
       "\\item 3\n",
       "\\item 4\n",
       "\\item 5\n",
       "\\item 6\n",
       "\\item 7\n",
       "\\item 8\n",
       "\\item 9\n",
       "\\item 10\n",
       "\\item 11\n",
       "\\item 12\n",
       "\\item 13\n",
       "\\item 14\n",
       "\\item 15\n",
       "\\item 16\n",
       "\\item 17\n",
       "\\item 18\n",
       "\\item 19\n",
       "\\item 20\n",
       "\\item 21\n",
       "\\item 22\n",
       "\\item 23\n",
       "\\item 24\n",
       "\\item 25\n",
       "\\item 26\n",
       "\\item 27\n",
       "\\item 28\n",
       "\\item 29\n",
       "\\item 30\n",
       "\\item 31\n",
       "\\item 32\n",
       "\\item 33\n",
       "\\item 34\n",
       "\\item 35\n",
       "\\item 36\n",
       "\\item 37\n",
       "\\item 38\n",
       "\\item 39\n",
       "\\item 40\n",
       "\\item 41\n",
       "\\item 42\n",
       "\\item 43\n",
       "\\item 44\n",
       "\\item 45\n",
       "\\item 46\n",
       "\\item 47\n",
       "\\item 48\n",
       "\\item 49\n",
       "\\item 50\n",
       "\\item 51\n",
       "\\item 52\n",
       "\\item 53\n",
       "\\item 54\n",
       "\\item 55\n",
       "\\item 56\n",
       "\\item 57\n",
       "\\item 58\n",
       "\\item 59\n",
       "\\item 60\n",
       "\\item 61\n",
       "\\item 62\n",
       "\\item 63\n",
       "\\item 64\n",
       "\\item 65\n",
       "\\item 66\n",
       "\\item 67\n",
       "\\item 68\n",
       "\\item 69\n",
       "\\item 70\n",
       "\\item 71\n",
       "\\item 72\n",
       "\\item 73\n",
       "\\item 74\n",
       "\\item 75\n",
       "\\item 76\n",
       "\\item 77\n",
       "\\item 78\n",
       "\\item 79\n",
       "\\item 80\n",
       "\\item 81\n",
       "\\item 82\n",
       "\\item 83\n",
       "\\item 84\n",
       "\\item 85\n",
       "\\item 86\n",
       "\\item 87\n",
       "\\item 88\n",
       "\\item 89\n",
       "\\item 90\n",
       "\\item 91\n",
       "\\item 92\n",
       "\\item 93\n",
       "\\item 94\n",
       "\\item 95\n",
       "\\item 96\n",
       "\\item 97\n",
       "\\item 98\n",
       "\\item 99\n",
       "\\item 100\n",
       "\\end{enumerate*}\n"
      ],
      "text/markdown": [
       "1. 1\n",
       "2. 2\n",
       "3. 3\n",
       "4. 4\n",
       "5. 5\n",
       "6. 6\n",
       "7. 7\n",
       "8. 8\n",
       "9. 9\n",
       "10. 10\n",
       "11. 11\n",
       "12. 12\n",
       "13. 13\n",
       "14. 14\n",
       "15. 15\n",
       "16. 16\n",
       "17. 17\n",
       "18. 18\n",
       "19. 19\n",
       "20. 20\n",
       "21. 21\n",
       "22. 22\n",
       "23. 23\n",
       "24. 24\n",
       "25. 25\n",
       "26. 26\n",
       "27. 27\n",
       "28. 28\n",
       "29. 29\n",
       "30. 30\n",
       "31. 31\n",
       "32. 32\n",
       "33. 33\n",
       "34. 34\n",
       "35. 35\n",
       "36. 36\n",
       "37. 37\n",
       "38. 38\n",
       "39. 39\n",
       "40. 40\n",
       "41. 41\n",
       "42. 42\n",
       "43. 43\n",
       "44. 44\n",
       "45. 45\n",
       "46. 46\n",
       "47. 47\n",
       "48. 48\n",
       "49. 49\n",
       "50. 50\n",
       "51. 51\n",
       "52. 52\n",
       "53. 53\n",
       "54. 54\n",
       "55. 55\n",
       "56. 56\n",
       "57. 57\n",
       "58. 58\n",
       "59. 59\n",
       "60. 60\n",
       "61. 61\n",
       "62. 62\n",
       "63. 63\n",
       "64. 64\n",
       "65. 65\n",
       "66. 66\n",
       "67. 67\n",
       "68. 68\n",
       "69. 69\n",
       "70. 70\n",
       "71. 71\n",
       "72. 72\n",
       "73. 73\n",
       "74. 74\n",
       "75. 75\n",
       "76. 76\n",
       "77. 77\n",
       "78. 78\n",
       "79. 79\n",
       "80. 80\n",
       "81. 81\n",
       "82. 82\n",
       "83. 83\n",
       "84. 84\n",
       "85. 85\n",
       "86. 86\n",
       "87. 87\n",
       "88. 88\n",
       "89. 89\n",
       "90. 90\n",
       "91. 91\n",
       "92. 92\n",
       "93. 93\n",
       "94. 94\n",
       "95. 95\n",
       "96. 96\n",
       "97. 97\n",
       "98. 98\n",
       "99. 99\n",
       "100. 100\n",
       "\n",
       "\n"
      ],
      "text/plain": [
       "  [1]   1   2   3   4   5   6   7   8   9  10  11  12  13  14  15  16  17  18\n",
       " [19]  19  20  21  22  23  24  25  26  27  28  29  30  31  32  33  34  35  36\n",
       " [37]  37  38  39  40  41  42  43  44  45  46  47  48  49  50  51  52  53  54\n",
       " [55]  55  56  57  58  59  60  61  62  63  64  65  66  67  68  69  70  71  72\n",
       " [73]  73  74  75  76  77  78  79  80  81  82  83  84  85  86  87  88  89  90\n",
       " [91]  91  92  93  94  95  96  97  98  99 100"
      ]
     },
     "metadata": {},
     "output_type": "display_data"
    }
   ],
   "source": [
    "1:100"
   ]
  },
  {
   "cell_type": "code",
   "execution_count": 55,
   "metadata": {},
   "outputs": [],
   "source": [
    "odd <- seq(1,100,2)"
   ]
  },
  {
   "cell_type": "code",
   "execution_count": 56,
   "metadata": {},
   "outputs": [
    {
     "data": {
      "text/html": [
       "<ol class=list-inline>\n",
       "\t<li>1</li>\n",
       "\t<li>3</li>\n",
       "\t<li>5</li>\n",
       "\t<li>7</li>\n",
       "\t<li>9</li>\n",
       "\t<li>11</li>\n",
       "\t<li>13</li>\n",
       "\t<li>15</li>\n",
       "\t<li>17</li>\n",
       "\t<li>19</li>\n",
       "\t<li>21</li>\n",
       "\t<li>23</li>\n",
       "\t<li>25</li>\n",
       "\t<li>27</li>\n",
       "\t<li>29</li>\n",
       "\t<li>31</li>\n",
       "\t<li>33</li>\n",
       "\t<li>35</li>\n",
       "\t<li>37</li>\n",
       "\t<li>39</li>\n",
       "\t<li>41</li>\n",
       "\t<li>43</li>\n",
       "\t<li>45</li>\n",
       "\t<li>47</li>\n",
       "\t<li>49</li>\n",
       "\t<li>51</li>\n",
       "\t<li>53</li>\n",
       "\t<li>55</li>\n",
       "\t<li>57</li>\n",
       "\t<li>59</li>\n",
       "\t<li>61</li>\n",
       "\t<li>63</li>\n",
       "\t<li>65</li>\n",
       "\t<li>67</li>\n",
       "\t<li>69</li>\n",
       "\t<li>71</li>\n",
       "\t<li>73</li>\n",
       "\t<li>75</li>\n",
       "\t<li>77</li>\n",
       "\t<li>79</li>\n",
       "\t<li>81</li>\n",
       "\t<li>83</li>\n",
       "\t<li>85</li>\n",
       "\t<li>87</li>\n",
       "\t<li>89</li>\n",
       "\t<li>91</li>\n",
       "\t<li>93</li>\n",
       "\t<li>95</li>\n",
       "\t<li>97</li>\n",
       "\t<li>99</li>\n",
       "</ol>\n"
      ],
      "text/latex": [
       "\\begin{enumerate*}\n",
       "\\item 1\n",
       "\\item 3\n",
       "\\item 5\n",
       "\\item 7\n",
       "\\item 9\n",
       "\\item 11\n",
       "\\item 13\n",
       "\\item 15\n",
       "\\item 17\n",
       "\\item 19\n",
       "\\item 21\n",
       "\\item 23\n",
       "\\item 25\n",
       "\\item 27\n",
       "\\item 29\n",
       "\\item 31\n",
       "\\item 33\n",
       "\\item 35\n",
       "\\item 37\n",
       "\\item 39\n",
       "\\item 41\n",
       "\\item 43\n",
       "\\item 45\n",
       "\\item 47\n",
       "\\item 49\n",
       "\\item 51\n",
       "\\item 53\n",
       "\\item 55\n",
       "\\item 57\n",
       "\\item 59\n",
       "\\item 61\n",
       "\\item 63\n",
       "\\item 65\n",
       "\\item 67\n",
       "\\item 69\n",
       "\\item 71\n",
       "\\item 73\n",
       "\\item 75\n",
       "\\item 77\n",
       "\\item 79\n",
       "\\item 81\n",
       "\\item 83\n",
       "\\item 85\n",
       "\\item 87\n",
       "\\item 89\n",
       "\\item 91\n",
       "\\item 93\n",
       "\\item 95\n",
       "\\item 97\n",
       "\\item 99\n",
       "\\end{enumerate*}\n"
      ],
      "text/markdown": [
       "1. 1\n",
       "2. 3\n",
       "3. 5\n",
       "4. 7\n",
       "5. 9\n",
       "6. 11\n",
       "7. 13\n",
       "8. 15\n",
       "9. 17\n",
       "10. 19\n",
       "11. 21\n",
       "12. 23\n",
       "13. 25\n",
       "14. 27\n",
       "15. 29\n",
       "16. 31\n",
       "17. 33\n",
       "18. 35\n",
       "19. 37\n",
       "20. 39\n",
       "21. 41\n",
       "22. 43\n",
       "23. 45\n",
       "24. 47\n",
       "25. 49\n",
       "26. 51\n",
       "27. 53\n",
       "28. 55\n",
       "29. 57\n",
       "30. 59\n",
       "31. 61\n",
       "32. 63\n",
       "33. 65\n",
       "34. 67\n",
       "35. 69\n",
       "36. 71\n",
       "37. 73\n",
       "38. 75\n",
       "39. 77\n",
       "40. 79\n",
       "41. 81\n",
       "42. 83\n",
       "43. 85\n",
       "44. 87\n",
       "45. 89\n",
       "46. 91\n",
       "47. 93\n",
       "48. 95\n",
       "49. 97\n",
       "50. 99\n",
       "\n",
       "\n"
      ],
      "text/plain": [
       " [1]  1  3  5  7  9 11 13 15 17 19 21 23 25 27 29 31 33 35 37 39 41 43 45 47 49\n",
       "[26] 51 53 55 57 59 61 63 65 67 69 71 73 75 77 79 81 83 85 87 89 91 93 95 97 99"
      ]
     },
     "metadata": {},
     "output_type": "display_data"
    }
   ],
   "source": [
    "odd"
   ]
  },
  {
   "cell_type": "code",
   "execution_count": 57,
   "metadata": {},
   "outputs": [],
   "source": [
    "text <- 'a'"
   ]
  },
  {
   "cell_type": "code",
   "execution_count": 58,
   "metadata": {},
   "outputs": [],
   "source": [
    "text.1 <- \"a\""
   ]
  },
  {
   "cell_type": "code",
   "execution_count": 59,
   "metadata": {},
   "outputs": [],
   "source": [
    "text.2 <- \"a's\""
   ]
  },
  {
   "cell_type": "code",
   "execution_count": 61,
   "metadata": {},
   "outputs": [
    {
     "name": "stdout",
     "output_type": "stream",
     "text": [
      "[1] \"a's\"\n"
     ]
    }
   ],
   "source": [
    "print (text.2)"
   ]
  },
  {
   "cell_type": "code",
   "execution_count": 63,
   "metadata": {},
   "outputs": [],
   "source": [
    "odd.1 <- seq(1,10,2)"
   ]
  },
  {
   "cell_type": "code",
   "execution_count": 64,
   "metadata": {},
   "outputs": [
    {
     "data": {
      "text/html": [
       "<ol class=list-inline>\n",
       "\t<li>1</li>\n",
       "\t<li>3</li>\n",
       "\t<li>5</li>\n",
       "\t<li>7</li>\n",
       "\t<li>9</li>\n",
       "</ol>\n"
      ],
      "text/latex": [
       "\\begin{enumerate*}\n",
       "\\item 1\n",
       "\\item 3\n",
       "\\item 5\n",
       "\\item 7\n",
       "\\item 9\n",
       "\\end{enumerate*}\n"
      ],
      "text/markdown": [
       "1. 1\n",
       "2. 3\n",
       "3. 5\n",
       "4. 7\n",
       "5. 9\n",
       "\n",
       "\n"
      ],
      "text/plain": [
       "[1] 1 3 5 7 9"
      ]
     },
     "metadata": {},
     "output_type": "display_data"
    }
   ],
   "source": [
    "odd.1"
   ]
  },
  {
   "cell_type": "code",
   "execution_count": 65,
   "metadata": {},
   "outputs": [
    {
     "data": {
      "text/html": [
       "5"
      ],
      "text/latex": [
       "5"
      ],
      "text/markdown": [
       "5"
      ],
      "text/plain": [
       "[1] 5"
      ]
     },
     "metadata": {},
     "output_type": "display_data"
    }
   ],
   "source": [
    "odd.1[3]"
   ]
  },
  {
   "cell_type": "code",
   "execution_count": 66,
   "metadata": {},
   "outputs": [
    {
     "data": {
      "text/html": [
       "1"
      ],
      "text/latex": [
       "1"
      ],
      "text/markdown": [
       "1"
      ],
      "text/plain": [
       "[1] 1"
      ]
     },
     "metadata": {},
     "output_type": "display_data"
    }
   ],
   "source": [
    "odd.1[1]"
   ]
  },
  {
   "cell_type": "code",
   "execution_count": 67,
   "metadata": {},
   "outputs": [
    {
     "data": {
      "text/html": [
       "<ol class=list-inline>\n",
       "\t<li>1</li>\n",
       "\t<li>3</li>\n",
       "</ol>\n"
      ],
      "text/latex": [
       "\\begin{enumerate*}\n",
       "\\item 1\n",
       "\\item 3\n",
       "\\end{enumerate*}\n"
      ],
      "text/markdown": [
       "1. 1\n",
       "2. 3\n",
       "\n",
       "\n"
      ],
      "text/plain": [
       "[1] 1 3"
      ]
     },
     "metadata": {},
     "output_type": "display_data"
    }
   ],
   "source": [
    "odd.1[c(1,2)]"
   ]
  },
  {
   "cell_type": "code",
   "execution_count": 69,
   "metadata": {},
   "outputs": [],
   "source": [
    "odd.1 <- odd.1[-c(1,2)]"
   ]
  },
  {
   "cell_type": "code",
   "execution_count": 70,
   "metadata": {},
   "outputs": [
    {
     "data": {
      "text/html": [
       "<ol class=list-inline>\n",
       "\t<li>5</li>\n",
       "\t<li>7</li>\n",
       "\t<li>9</li>\n",
       "</ol>\n"
      ],
      "text/latex": [
       "\\begin{enumerate*}\n",
       "\\item 5\n",
       "\\item 7\n",
       "\\item 9\n",
       "\\end{enumerate*}\n"
      ],
      "text/markdown": [
       "1. 5\n",
       "2. 7\n",
       "3. 9\n",
       "\n",
       "\n"
      ],
      "text/plain": [
       "[1] 5 7 9"
      ]
     },
     "metadata": {},
     "output_type": "display_data"
    }
   ],
   "source": [
    "odd.1"
   ]
  },
  {
   "cell_type": "code",
   "execution_count": 71,
   "metadata": {},
   "outputs": [],
   "source": [
    "rm(odd.1)"
   ]
  },
  {
   "cell_type": "code",
   "execution_count": 72,
   "metadata": {},
   "outputs": [
    {
     "ename": "ERROR",
     "evalue": "Error in eval(expr, envir, enclos): 객체 'odd.1'를 찾을 수 없습니다\n",
     "output_type": "error",
     "traceback": [
      "Error in eval(expr, envir, enclos): 객체 'odd.1'를 찾을 수 없습니다\nTraceback:\n"
     ]
    }
   ],
   "source": [
    "odd.1"
   ]
  },
  {
   "cell_type": "code",
   "execution_count": 73,
   "metadata": {},
   "outputs": [
    {
     "data": {
      "text/html": [
       "<ol class=list-inline>\n",
       "\t<li>1</li>\n",
       "\t<li>3</li>\n",
       "\t<li>5</li>\n",
       "\t<li>7</li>\n",
       "\t<li>9</li>\n",
       "\t<li>11</li>\n",
       "\t<li>13</li>\n",
       "\t<li>15</li>\n",
       "\t<li>17</li>\n",
       "\t<li>19</li>\n",
       "\t<li>21</li>\n",
       "\t<li>23</li>\n",
       "\t<li>25</li>\n",
       "\t<li>27</li>\n",
       "\t<li>29</li>\n",
       "\t<li>31</li>\n",
       "\t<li>33</li>\n",
       "\t<li>35</li>\n",
       "\t<li>37</li>\n",
       "\t<li>39</li>\n",
       "\t<li>41</li>\n",
       "\t<li>43</li>\n",
       "\t<li>45</li>\n",
       "\t<li>47</li>\n",
       "\t<li>49</li>\n",
       "\t<li>51</li>\n",
       "\t<li>53</li>\n",
       "\t<li>55</li>\n",
       "\t<li>57</li>\n",
       "\t<li>59</li>\n",
       "\t<li>61</li>\n",
       "\t<li>63</li>\n",
       "\t<li>65</li>\n",
       "\t<li>67</li>\n",
       "\t<li>69</li>\n",
       "\t<li>71</li>\n",
       "\t<li>73</li>\n",
       "\t<li>75</li>\n",
       "\t<li>77</li>\n",
       "\t<li>79</li>\n",
       "\t<li>81</li>\n",
       "\t<li>83</li>\n",
       "\t<li>85</li>\n",
       "\t<li>87</li>\n",
       "\t<li>89</li>\n",
       "\t<li>91</li>\n",
       "\t<li>93</li>\n",
       "\t<li>95</li>\n",
       "\t<li>97</li>\n",
       "\t<li>99</li>\n",
       "</ol>\n"
      ],
      "text/latex": [
       "\\begin{enumerate*}\n",
       "\\item 1\n",
       "\\item 3\n",
       "\\item 5\n",
       "\\item 7\n",
       "\\item 9\n",
       "\\item 11\n",
       "\\item 13\n",
       "\\item 15\n",
       "\\item 17\n",
       "\\item 19\n",
       "\\item 21\n",
       "\\item 23\n",
       "\\item 25\n",
       "\\item 27\n",
       "\\item 29\n",
       "\\item 31\n",
       "\\item 33\n",
       "\\item 35\n",
       "\\item 37\n",
       "\\item 39\n",
       "\\item 41\n",
       "\\item 43\n",
       "\\item 45\n",
       "\\item 47\n",
       "\\item 49\n",
       "\\item 51\n",
       "\\item 53\n",
       "\\item 55\n",
       "\\item 57\n",
       "\\item 59\n",
       "\\item 61\n",
       "\\item 63\n",
       "\\item 65\n",
       "\\item 67\n",
       "\\item 69\n",
       "\\item 71\n",
       "\\item 73\n",
       "\\item 75\n",
       "\\item 77\n",
       "\\item 79\n",
       "\\item 81\n",
       "\\item 83\n",
       "\\item 85\n",
       "\\item 87\n",
       "\\item 89\n",
       "\\item 91\n",
       "\\item 93\n",
       "\\item 95\n",
       "\\item 97\n",
       "\\item 99\n",
       "\\end{enumerate*}\n"
      ],
      "text/markdown": [
       "1. 1\n",
       "2. 3\n",
       "3. 5\n",
       "4. 7\n",
       "5. 9\n",
       "6. 11\n",
       "7. 13\n",
       "8. 15\n",
       "9. 17\n",
       "10. 19\n",
       "11. 21\n",
       "12. 23\n",
       "13. 25\n",
       "14. 27\n",
       "15. 29\n",
       "16. 31\n",
       "17. 33\n",
       "18. 35\n",
       "19. 37\n",
       "20. 39\n",
       "21. 41\n",
       "22. 43\n",
       "23. 45\n",
       "24. 47\n",
       "25. 49\n",
       "26. 51\n",
       "27. 53\n",
       "28. 55\n",
       "29. 57\n",
       "30. 59\n",
       "31. 61\n",
       "32. 63\n",
       "33. 65\n",
       "34. 67\n",
       "35. 69\n",
       "36. 71\n",
       "37. 73\n",
       "38. 75\n",
       "39. 77\n",
       "40. 79\n",
       "41. 81\n",
       "42. 83\n",
       "43. 85\n",
       "44. 87\n",
       "45. 89\n",
       "46. 91\n",
       "47. 93\n",
       "48. 95\n",
       "49. 97\n",
       "50. 99\n",
       "\n",
       "\n"
      ],
      "text/plain": [
       " [1]  1  3  5  7  9 11 13 15 17 19 21 23 25 27 29 31 33 35 37 39 41 43 45 47 49\n",
       "[26] 51 53 55 57 59 61 63 65 67 69 71 73 75 77 79 81 83 85 87 89 91 93 95 97 99"
      ]
     },
     "metadata": {},
     "output_type": "display_data"
    }
   ],
   "source": [
    "odd"
   ]
  },
  {
   "cell_type": "code",
   "execution_count": 74,
   "metadata": {},
   "outputs": [
    {
     "data": {
      "text/html": [
       "50"
      ],
      "text/latex": [
       "50"
      ],
      "text/markdown": [
       "50"
      ],
      "text/plain": [
       "[1] 50"
      ]
     },
     "metadata": {},
     "output_type": "display_data"
    }
   ],
   "source": [
    "length(odd)"
   ]
  },
  {
   "cell_type": "code",
   "execution_count": 75,
   "metadata": {},
   "outputs": [],
   "source": [
    "king <- c(\"태조\", \"정종\", \"태종\", \"세종\", \"문종\", \"단종\",\n",
    "         \"세조\", \"예종\", \"성종\", \"연산군\")"
   ]
  },
  {
   "cell_type": "code",
   "execution_count": 76,
   "metadata": {},
   "outputs": [
    {
     "data": {
      "text/html": [
       "10"
      ],
      "text/latex": [
       "10"
      ],
      "text/markdown": [
       "10"
      ],
      "text/plain": [
       "[1] 10"
      ]
     },
     "metadata": {},
     "output_type": "display_data"
    }
   ],
   "source": [
    "length(king)"
   ]
  },
  {
   "cell_type": "code",
   "execution_count": 77,
   "metadata": {},
   "outputs": [
    {
     "data": {
      "text/html": [
       "8"
      ],
      "text/latex": [
       "8"
      ],
      "text/markdown": [
       "8"
      ],
      "text/plain": [
       "[1] 8"
      ]
     },
     "metadata": {},
     "output_type": "display_data"
    }
   ],
   "source": [
    "grep(\"예종\", king)"
   ]
  },
  {
   "cell_type": "code",
   "execution_count": 78,
   "metadata": {},
   "outputs": [
    {
     "data": {
      "text/html": [
       "<ol class=list-inline>\n",
       "\t<li>2</li>\n",
       "\t<li>3</li>\n",
       "\t<li>4</li>\n",
       "\t<li>5</li>\n",
       "\t<li>6</li>\n",
       "\t<li>8</li>\n",
       "\t<li>9</li>\n",
       "</ol>\n"
      ],
      "text/latex": [
       "\\begin{enumerate*}\n",
       "\\item 2\n",
       "\\item 3\n",
       "\\item 4\n",
       "\\item 5\n",
       "\\item 6\n",
       "\\item 8\n",
       "\\item 9\n",
       "\\end{enumerate*}\n"
      ],
      "text/markdown": [
       "1. 2\n",
       "2. 3\n",
       "3. 4\n",
       "4. 5\n",
       "5. 6\n",
       "6. 8\n",
       "7. 9\n",
       "\n",
       "\n"
      ],
      "text/plain": [
       "[1] 2 3 4 5 6 8 9"
      ]
     },
     "metadata": {},
     "output_type": "display_data"
    }
   ],
   "source": [
    "grep(\"종\", king)"
   ]
  },
  {
   "cell_type": "code",
   "execution_count": 79,
   "metadata": {},
   "outputs": [
    {
     "data": {
      "text/html": [
       "<ol class=list-inline>\n",
       "\t<li>'정종'</li>\n",
       "\t<li>'태종'</li>\n",
       "\t<li>'세종'</li>\n",
       "\t<li>'문종'</li>\n",
       "\t<li>'단종'</li>\n",
       "\t<li>'예종'</li>\n",
       "\t<li>'성종'</li>\n",
       "</ol>\n"
      ],
      "text/latex": [
       "\\begin{enumerate*}\n",
       "\\item '정종'\n",
       "\\item '태종'\n",
       "\\item '세종'\n",
       "\\item '문종'\n",
       "\\item '단종'\n",
       "\\item '예종'\n",
       "\\item '성종'\n",
       "\\end{enumerate*}\n"
      ],
      "text/markdown": [
       "1. '정종'\n",
       "2. '태종'\n",
       "3. '세종'\n",
       "4. '문종'\n",
       "5. '단종'\n",
       "6. '예종'\n",
       "7. '성종'\n",
       "\n",
       "\n"
      ],
      "text/plain": [
       "[1] \"정종\" \"태종\" \"세종\" \"문종\" \"단종\" \"예종\" \"성종\""
      ]
     },
     "metadata": {},
     "output_type": "display_data"
    }
   ],
   "source": [
    "king[grep(\"종\", king)]"
   ]
  },
  {
   "cell_type": "code",
   "execution_count": 80,
   "metadata": {},
   "outputs": [
    {
     "data": {
      "text/html": [
       "<ol class=list-inline>\n",
       "\t<li>'정종'</li>\n",
       "\t<li>'태종'</li>\n",
       "\t<li>'세종'</li>\n",
       "\t<li>'문종'</li>\n",
       "\t<li>'단종'</li>\n",
       "\t<li>'예종'</li>\n",
       "\t<li>'성종'</li>\n",
       "</ol>\n"
      ],
      "text/latex": [
       "\\begin{enumerate*}\n",
       "\\item '정종'\n",
       "\\item '태종'\n",
       "\\item '세종'\n",
       "\\item '문종'\n",
       "\\item '단종'\n",
       "\\item '예종'\n",
       "\\item '성종'\n",
       "\\end{enumerate*}\n"
      ],
      "text/markdown": [
       "1. '정종'\n",
       "2. '태종'\n",
       "3. '세종'\n",
       "4. '문종'\n",
       "5. '단종'\n",
       "6. '예종'\n",
       "7. '성종'\n",
       "\n",
       "\n"
      ],
      "text/plain": [
       "[1] \"정종\" \"태종\" \"세종\" \"문종\" \"단종\" \"예종\" \"성종\""
      ]
     },
     "metadata": {},
     "output_type": "display_data"
    }
   ],
   "source": [
    "king[c(2,3,4,5,6,8,9)]"
   ]
  },
  {
   "cell_type": "code",
   "execution_count": 81,
   "metadata": {},
   "outputs": [],
   "source": [
    "king.1 <- king[-c(2,3,4,5,6,8,9)]"
   ]
  },
  {
   "cell_type": "code",
   "execution_count": 82,
   "metadata": {},
   "outputs": [
    {
     "data": {
      "text/html": [
       "<ol class=list-inline>\n",
       "\t<li>'태조'</li>\n",
       "\t<li>'세조'</li>\n",
       "\t<li>'연산군'</li>\n",
       "</ol>\n"
      ],
      "text/latex": [
       "\\begin{enumerate*}\n",
       "\\item '태조'\n",
       "\\item '세조'\n",
       "\\item '연산군'\n",
       "\\end{enumerate*}\n"
      ],
      "text/markdown": [
       "1. '태조'\n",
       "2. '세조'\n",
       "3. '연산군'\n",
       "\n",
       "\n"
      ],
      "text/plain": [
       "[1] \"태조\"   \"세조\"   \"연산군\""
      ]
     },
     "metadata": {},
     "output_type": "display_data"
    }
   ],
   "source": [
    "king.1"
   ]
  },
  {
   "cell_type": "code",
   "execution_count": 84,
   "metadata": {},
   "outputs": [
    {
     "data": {
      "text/html": [
       "<ol class=list-inline>\n",
       "\t<li>'문종'</li>\n",
       "\t<li>'단종'</li>\n",
       "\t<li>'세조'</li>\n",
       "\t<li>'예종'</li>\n",
       "\t<li>'성종'</li>\n",
       "\t<li>'연산군'</li>\n",
       "</ol>\n"
      ],
      "text/latex": [
       "\\begin{enumerate*}\n",
       "\\item '문종'\n",
       "\\item '단종'\n",
       "\\item '세조'\n",
       "\\item '예종'\n",
       "\\item '성종'\n",
       "\\item '연산군'\n",
       "\\end{enumerate*}\n"
      ],
      "text/markdown": [
       "1. '문종'\n",
       "2. '단종'\n",
       "3. '세조'\n",
       "4. '예종'\n",
       "5. '성종'\n",
       "6. '연산군'\n",
       "\n",
       "\n"
      ],
      "text/plain": [
       "[1] \"문종\"   \"단종\"   \"세조\"   \"예종\"   \"성종\"   \"연산군\""
      ]
     },
     "metadata": {},
     "output_type": "display_data"
    }
   ],
   "source": [
    "king[c(5:length(king))]"
   ]
  },
  {
   "cell_type": "code",
   "execution_count": 96,
   "metadata": {},
   "outputs": [],
   "source": [
    "set.seed(1234)\n",
    "num.text <- sample(10000,100)"
   ]
  },
  {
   "cell_type": "code",
   "execution_count": 97,
   "metadata": {},
   "outputs": [
    {
     "data": {
      "text/html": [
       "100"
      ],
      "text/latex": [
       "100"
      ],
      "text/markdown": [
       "100"
      ],
      "text/plain": [
       "[1] 100"
      ]
     },
     "metadata": {},
     "output_type": "display_data"
    }
   ],
   "source": [
    "length(num.text)"
   ]
  },
  {
   "cell_type": "code",
   "execution_count": 99,
   "metadata": {},
   "outputs": [
    {
     "data": {
      "text/html": [
       "9978"
      ],
      "text/latex": [
       "9978"
      ],
      "text/markdown": [
       "9978"
      ],
      "text/plain": [
       "[1] 9978"
      ]
     },
     "metadata": {},
     "output_type": "display_data"
    }
   ],
   "source": [
    "max(num.text)"
   ]
  },
  {
   "cell_type": "code",
   "execution_count": 100,
   "metadata": {},
   "outputs": [
    {
     "data": {
      "text/html": [
       "95"
      ],
      "text/latex": [
       "95"
      ],
      "text/markdown": [
       "95"
      ],
      "text/plain": [
       "[1] 95"
      ]
     },
     "metadata": {},
     "output_type": "display_data"
    }
   ],
   "source": [
    "min(num.text)"
   ]
  },
  {
   "cell_type": "code",
   "execution_count": 101,
   "metadata": {},
   "outputs": [
    {
     "data": {
      "text/html": [
       "4507.15"
      ],
      "text/latex": [
       "4507.15"
      ],
      "text/markdown": [
       "4507.15"
      ],
      "text/plain": [
       "[1] 4507.15"
      ]
     },
     "metadata": {},
     "output_type": "display_data"
    }
   ],
   "source": [
    "mean(num.text)"
   ]
  },
  {
   "cell_type": "code",
   "execution_count": 102,
   "metadata": {},
   "outputs": [
    {
     "data": {
      "text/html": [
       "4614.5"
      ],
      "text/latex": [
       "4614.5"
      ],
      "text/markdown": [
       "4614.5"
      ],
      "text/plain": [
       "[1] 4614.5"
      ]
     },
     "metadata": {},
     "output_type": "display_data"
    }
   ],
   "source": [
    "median(num.text)"
   ]
  },
  {
   "cell_type": "code",
   "execution_count": 103,
   "metadata": {},
   "outputs": [
    {
     "data": {
      "text/plain": [
       "   Min. 1st Qu.  Median    Mean 3rd Qu.    Max. \n",
       "     95    2139    4614    4507    6787    9978 "
      ]
     },
     "metadata": {},
     "output_type": "display_data"
    }
   ],
   "source": [
    "summary(num.text)"
   ]
  },
  {
   "cell_type": "code",
   "execution_count": 104,
   "metadata": {},
   "outputs": [
    {
     "data": {
      "text/html": [
       "2865.75313624164"
      ],
      "text/latex": [
       "2865.75313624164"
      ],
      "text/markdown": [
       "2865.75313624164"
      ],
      "text/plain": [
       "[1] 2865.753"
      ]
     },
     "metadata": {},
     "output_type": "display_data"
    }
   ],
   "source": [
    "sd(num.text)"
   ]
  },
  {
   "cell_type": "code",
   "execution_count": 105,
   "metadata": {},
   "outputs": [
    {
     "data": {
      "text/html": [
       "8212541.03787879"
      ],
      "text/latex": [
       "8212541.03787879"
      ],
      "text/markdown": [
       "8212541.03787879"
      ],
      "text/plain": [
       "[1] 8212541"
      ]
     },
     "metadata": {},
     "output_type": "display_data"
    }
   ],
   "source": [
    "var(num.text)"
   ]
  },
  {
   "cell_type": "code",
   "execution_count": 106,
   "metadata": {},
   "outputs": [
    {
     "data": {
      "text/html": [
       "<ol class=list-inline>\n",
       "\t<li>TRUE</li>\n",
       "\t<li>TRUE</li>\n",
       "\t<li>TRUE</li>\n",
       "\t<li>TRUE</li>\n",
       "\t<li>TRUE</li>\n",
       "\t<li>TRUE</li>\n",
       "\t<li>FALSE</li>\n",
       "\t<li>TRUE</li>\n",
       "\t<li>TRUE</li>\n",
       "\t<li>TRUE</li>\n",
       "\t<li>TRUE</li>\n",
       "\t<li>TRUE</li>\n",
       "\t<li>TRUE</li>\n",
       "\t<li>TRUE</li>\n",
       "\t<li>TRUE</li>\n",
       "\t<li>TRUE</li>\n",
       "\t<li>TRUE</li>\n",
       "\t<li>TRUE</li>\n",
       "\t<li>TRUE</li>\n",
       "\t<li>TRUE</li>\n",
       "\t<li>TRUE</li>\n",
       "\t<li>TRUE</li>\n",
       "\t<li>TRUE</li>\n",
       "\t<li>FALSE</li>\n",
       "\t<li>TRUE</li>\n",
       "\t<li>TRUE</li>\n",
       "\t<li>TRUE</li>\n",
       "\t<li>TRUE</li>\n",
       "\t<li>TRUE</li>\n",
       "\t<li>FALSE</li>\n",
       "\t<li>TRUE</li>\n",
       "\t<li>TRUE</li>\n",
       "\t<li>TRUE</li>\n",
       "\t<li>TRUE</li>\n",
       "\t<li>TRUE</li>\n",
       "\t<li>TRUE</li>\n",
       "\t<li>TRUE</li>\n",
       "\t<li>TRUE</li>\n",
       "\t<li>TRUE</li>\n",
       "\t<li>TRUE</li>\n",
       "\t<li>TRUE</li>\n",
       "\t<li>TRUE</li>\n",
       "\t<li>TRUE</li>\n",
       "\t<li>TRUE</li>\n",
       "\t<li>TRUE</li>\n",
       "\t<li>TRUE</li>\n",
       "\t<li>TRUE</li>\n",
       "\t<li>TRUE</li>\n",
       "\t<li>TRUE</li>\n",
       "\t<li>TRUE</li>\n",
       "\t<li>FALSE</li>\n",
       "\t<li>TRUE</li>\n",
       "\t<li>TRUE</li>\n",
       "\t<li>TRUE</li>\n",
       "\t<li>TRUE</li>\n",
       "\t<li>TRUE</li>\n",
       "\t<li>TRUE</li>\n",
       "\t<li>TRUE</li>\n",
       "\t<li>TRUE</li>\n",
       "\t<li>TRUE</li>\n",
       "\t<li>TRUE</li>\n",
       "\t<li>FALSE</li>\n",
       "\t<li>TRUE</li>\n",
       "\t<li>FALSE</li>\n",
       "\t<li>TRUE</li>\n",
       "\t<li>TRUE</li>\n",
       "\t<li>TRUE</li>\n",
       "\t<li>TRUE</li>\n",
       "\t<li>FALSE</li>\n",
       "\t<li>TRUE</li>\n",
       "\t<li>TRUE</li>\n",
       "\t<li>TRUE</li>\n",
       "\t<li>FALSE</li>\n",
       "\t<li>TRUE</li>\n",
       "\t<li>FALSE</li>\n",
       "\t<li>TRUE</li>\n",
       "\t<li>TRUE</li>\n",
       "\t<li>FALSE</li>\n",
       "\t<li>TRUE</li>\n",
       "\t<li>TRUE</li>\n",
       "\t<li>TRUE</li>\n",
       "\t<li>TRUE</li>\n",
       "\t<li>TRUE</li>\n",
       "\t<li>TRUE</li>\n",
       "\t<li>TRUE</li>\n",
       "\t<li>TRUE</li>\n",
       "\t<li>TRUE</li>\n",
       "\t<li>TRUE</li>\n",
       "\t<li>TRUE</li>\n",
       "\t<li>TRUE</li>\n",
       "\t<li>TRUE</li>\n",
       "\t<li>TRUE</li>\n",
       "\t<li>TRUE</li>\n",
       "\t<li>TRUE</li>\n",
       "\t<li>TRUE</li>\n",
       "\t<li>TRUE</li>\n",
       "\t<li>TRUE</li>\n",
       "\t<li>FALSE</li>\n",
       "\t<li>TRUE</li>\n",
       "\t<li>TRUE</li>\n",
       "</ol>\n"
      ],
      "text/latex": [
       "\\begin{enumerate*}\n",
       "\\item TRUE\n",
       "\\item TRUE\n",
       "\\item TRUE\n",
       "\\item TRUE\n",
       "\\item TRUE\n",
       "\\item TRUE\n",
       "\\item FALSE\n",
       "\\item TRUE\n",
       "\\item TRUE\n",
       "\\item TRUE\n",
       "\\item TRUE\n",
       "\\item TRUE\n",
       "\\item TRUE\n",
       "\\item TRUE\n",
       "\\item TRUE\n",
       "\\item TRUE\n",
       "\\item TRUE\n",
       "\\item TRUE\n",
       "\\item TRUE\n",
       "\\item TRUE\n",
       "\\item TRUE\n",
       "\\item TRUE\n",
       "\\item TRUE\n",
       "\\item FALSE\n",
       "\\item TRUE\n",
       "\\item TRUE\n",
       "\\item TRUE\n",
       "\\item TRUE\n",
       "\\item TRUE\n",
       "\\item FALSE\n",
       "\\item TRUE\n",
       "\\item TRUE\n",
       "\\item TRUE\n",
       "\\item TRUE\n",
       "\\item TRUE\n",
       "\\item TRUE\n",
       "\\item TRUE\n",
       "\\item TRUE\n",
       "\\item TRUE\n",
       "\\item TRUE\n",
       "\\item TRUE\n",
       "\\item TRUE\n",
       "\\item TRUE\n",
       "\\item TRUE\n",
       "\\item TRUE\n",
       "\\item TRUE\n",
       "\\item TRUE\n",
       "\\item TRUE\n",
       "\\item TRUE\n",
       "\\item TRUE\n",
       "\\item FALSE\n",
       "\\item TRUE\n",
       "\\item TRUE\n",
       "\\item TRUE\n",
       "\\item TRUE\n",
       "\\item TRUE\n",
       "\\item TRUE\n",
       "\\item TRUE\n",
       "\\item TRUE\n",
       "\\item TRUE\n",
       "\\item TRUE\n",
       "\\item FALSE\n",
       "\\item TRUE\n",
       "\\item FALSE\n",
       "\\item TRUE\n",
       "\\item TRUE\n",
       "\\item TRUE\n",
       "\\item TRUE\n",
       "\\item FALSE\n",
       "\\item TRUE\n",
       "\\item TRUE\n",
       "\\item TRUE\n",
       "\\item FALSE\n",
       "\\item TRUE\n",
       "\\item FALSE\n",
       "\\item TRUE\n",
       "\\item TRUE\n",
       "\\item FALSE\n",
       "\\item TRUE\n",
       "\\item TRUE\n",
       "\\item TRUE\n",
       "\\item TRUE\n",
       "\\item TRUE\n",
       "\\item TRUE\n",
       "\\item TRUE\n",
       "\\item TRUE\n",
       "\\item TRUE\n",
       "\\item TRUE\n",
       "\\item TRUE\n",
       "\\item TRUE\n",
       "\\item TRUE\n",
       "\\item TRUE\n",
       "\\item TRUE\n",
       "\\item TRUE\n",
       "\\item TRUE\n",
       "\\item TRUE\n",
       "\\item TRUE\n",
       "\\item FALSE\n",
       "\\item TRUE\n",
       "\\item TRUE\n",
       "\\end{enumerate*}\n"
      ],
      "text/markdown": [
       "1. TRUE\n",
       "2. TRUE\n",
       "3. TRUE\n",
       "4. TRUE\n",
       "5. TRUE\n",
       "6. TRUE\n",
       "7. FALSE\n",
       "8. TRUE\n",
       "9. TRUE\n",
       "10. TRUE\n",
       "11. TRUE\n",
       "12. TRUE\n",
       "13. TRUE\n",
       "14. TRUE\n",
       "15. TRUE\n",
       "16. TRUE\n",
       "17. TRUE\n",
       "18. TRUE\n",
       "19. TRUE\n",
       "20. TRUE\n",
       "21. TRUE\n",
       "22. TRUE\n",
       "23. TRUE\n",
       "24. FALSE\n",
       "25. TRUE\n",
       "26. TRUE\n",
       "27. TRUE\n",
       "28. TRUE\n",
       "29. TRUE\n",
       "30. FALSE\n",
       "31. TRUE\n",
       "32. TRUE\n",
       "33. TRUE\n",
       "34. TRUE\n",
       "35. TRUE\n",
       "36. TRUE\n",
       "37. TRUE\n",
       "38. TRUE\n",
       "39. TRUE\n",
       "40. TRUE\n",
       "41. TRUE\n",
       "42. TRUE\n",
       "43. TRUE\n",
       "44. TRUE\n",
       "45. TRUE\n",
       "46. TRUE\n",
       "47. TRUE\n",
       "48. TRUE\n",
       "49. TRUE\n",
       "50. TRUE\n",
       "51. FALSE\n",
       "52. TRUE\n",
       "53. TRUE\n",
       "54. TRUE\n",
       "55. TRUE\n",
       "56. TRUE\n",
       "57. TRUE\n",
       "58. TRUE\n",
       "59. TRUE\n",
       "60. TRUE\n",
       "61. TRUE\n",
       "62. FALSE\n",
       "63. TRUE\n",
       "64. FALSE\n",
       "65. TRUE\n",
       "66. TRUE\n",
       "67. TRUE\n",
       "68. TRUE\n",
       "69. FALSE\n",
       "70. TRUE\n",
       "71. TRUE\n",
       "72. TRUE\n",
       "73. FALSE\n",
       "74. TRUE\n",
       "75. FALSE\n",
       "76. TRUE\n",
       "77. TRUE\n",
       "78. FALSE\n",
       "79. TRUE\n",
       "80. TRUE\n",
       "81. TRUE\n",
       "82. TRUE\n",
       "83. TRUE\n",
       "84. TRUE\n",
       "85. TRUE\n",
       "86. TRUE\n",
       "87. TRUE\n",
       "88. TRUE\n",
       "89. TRUE\n",
       "90. TRUE\n",
       "91. TRUE\n",
       "92. TRUE\n",
       "93. TRUE\n",
       "94. TRUE\n",
       "95. TRUE\n",
       "96. TRUE\n",
       "97. TRUE\n",
       "98. FALSE\n",
       "99. TRUE\n",
       "100. TRUE\n",
       "\n",
       "\n"
      ],
      "text/plain": [
       "  [1]  TRUE  TRUE  TRUE  TRUE  TRUE  TRUE FALSE  TRUE  TRUE  TRUE  TRUE  TRUE\n",
       " [13]  TRUE  TRUE  TRUE  TRUE  TRUE  TRUE  TRUE  TRUE  TRUE  TRUE  TRUE FALSE\n",
       " [25]  TRUE  TRUE  TRUE  TRUE  TRUE FALSE  TRUE  TRUE  TRUE  TRUE  TRUE  TRUE\n",
       " [37]  TRUE  TRUE  TRUE  TRUE  TRUE  TRUE  TRUE  TRUE  TRUE  TRUE  TRUE  TRUE\n",
       " [49]  TRUE  TRUE FALSE  TRUE  TRUE  TRUE  TRUE  TRUE  TRUE  TRUE  TRUE  TRUE\n",
       " [61]  TRUE FALSE  TRUE FALSE  TRUE  TRUE  TRUE  TRUE FALSE  TRUE  TRUE  TRUE\n",
       " [73] FALSE  TRUE FALSE  TRUE  TRUE FALSE  TRUE  TRUE  TRUE  TRUE  TRUE  TRUE\n",
       " [85]  TRUE  TRUE  TRUE  TRUE  TRUE  TRUE  TRUE  TRUE  TRUE  TRUE  TRUE  TRUE\n",
       " [97]  TRUE FALSE  TRUE  TRUE"
      ]
     },
     "metadata": {},
     "output_type": "display_data"
    }
   ],
   "source": [
    "num.text > 1000"
   ]
  },
  {
   "cell_type": "code",
   "execution_count": 109,
   "metadata": {},
   "outputs": [
    {
     "data": {
      "text/html": [
       "<ol class=list-inline>\n",
       "\t<li>1138</li>\n",
       "\t<li>6223</li>\n",
       "\t<li>6092</li>\n",
       "\t<li>6232</li>\n",
       "\t<li>8606</li>\n",
       "\t<li>6400</li>\n",
       "\t<li>2324</li>\n",
       "\t<li>6656</li>\n",
       "\t<li>5138</li>\n",
       "\t<li>6929</li>\n",
       "\t<li>5444</li>\n",
       "\t<li>2824</li>\n",
       "\t<li>9223</li>\n",
       "\t<li>2920</li>\n",
       "\t<li>8361</li>\n",
       "\t<li>2858</li>\n",
       "\t<li>2664</li>\n",
       "\t<li>1864</li>\n",
       "\t<li>2318</li>\n",
       "\t<li>3160</li>\n",
       "\t<li>3021</li>\n",
       "\t<li>1587</li>\n",
       "\t<li>2183</li>\n",
       "\t<li>8086</li>\n",
       "\t<li>5244</li>\n",
       "\t<li>9122</li>\n",
       "\t<li>8291</li>\n",
       "\t<li>4548</li>\n",
       "\t<li>2644</li>\n",
       "\t<li>3037</li>\n",
       "\t<li>5057</li>\n",
       "\t<li>1805</li>\n",
       "\t<li>7571</li>\n",
       "\t<li>2006</li>\n",
       "\t<li>2579</li>\n",
       "\t<li>9884</li>\n",
       "\t<li>8043</li>\n",
       "\t<li>5512</li>\n",
       "\t<li>6438</li>\n",
       "\t<li>3106</li>\n",
       "\t<li>6192</li>\n",
       "\t<li>3284</li>\n",
       "\t<li>4998</li>\n",
       "\t<li>6740</li>\n",
       "\t<li>4828</li>\n",
       "\t<li>2428</li>\n",
       "\t<li>7618</li>\n",
       "\t<li>3082</li>\n",
       "\t<li>7136</li>\n",
       "\t<li>5019</li>\n",
       "\t<li>1522</li>\n",
       "\t<li>5012</li>\n",
       "\t<li>4912</li>\n",
       "\t<li>7470</li>\n",
       "\t<li>1737</li>\n",
       "\t<li>8434</li>\n",
       "\t<li>8597</li>\n",
       "\t<li>3153</li>\n",
       "\t<li>2375</li>\n",
       "\t<li>7020</li>\n",
       "\t<li>3061</li>\n",
       "\t<li>5052</li>\n",
       "\t<li>5607</li>\n",
       "\t<li>1207</li>\n",
       "\t<li>8865</li>\n",
       "\t<li>7775</li>\n",
       "\t<li>5153</li>\n",
       "\t<li>3814</li>\n",
       "\t<li>3182</li>\n",
       "\t<li>6633</li>\n",
       "\t<li>9190</li>\n",
       "\t<li>4681</li>\n",
       "\t<li>1415</li>\n",
       "\t<li>5398</li>\n",
       "\t<li>1946</li>\n",
       "\t<li>8910</li>\n",
       "\t<li>3862</li>\n",
       "\t<li>9949</li>\n",
       "\t<li>9978</li>\n",
       "\t<li>8883</li>\n",
       "\t<li>1649</li>\n",
       "\t<li>8923</li>\n",
       "\t<li>1329</li>\n",
       "\t<li>1304</li>\n",
       "\t<li>1043</li>\n",
       "\t<li>5068</li>\n",
       "\t<li>2974</li>\n",
       "\t<li>3067</li>\n",
       "\t<li>7348</li>\n",
       "</ol>\n"
      ],
      "text/latex": [
       "\\begin{enumerate*}\n",
       "\\item 1138\n",
       "\\item 6223\n",
       "\\item 6092\n",
       "\\item 6232\n",
       "\\item 8606\n",
       "\\item 6400\n",
       "\\item 2324\n",
       "\\item 6656\n",
       "\\item 5138\n",
       "\\item 6929\n",
       "\\item 5444\n",
       "\\item 2824\n",
       "\\item 9223\n",
       "\\item 2920\n",
       "\\item 8361\n",
       "\\item 2858\n",
       "\\item 2664\n",
       "\\item 1864\n",
       "\\item 2318\n",
       "\\item 3160\n",
       "\\item 3021\n",
       "\\item 1587\n",
       "\\item 2183\n",
       "\\item 8086\n",
       "\\item 5244\n",
       "\\item 9122\n",
       "\\item 8291\n",
       "\\item 4548\n",
       "\\item 2644\n",
       "\\item 3037\n",
       "\\item 5057\n",
       "\\item 1805\n",
       "\\item 7571\n",
       "\\item 2006\n",
       "\\item 2579\n",
       "\\item 9884\n",
       "\\item 8043\n",
       "\\item 5512\n",
       "\\item 6438\n",
       "\\item 3106\n",
       "\\item 6192\n",
       "\\item 3284\n",
       "\\item 4998\n",
       "\\item 6740\n",
       "\\item 4828\n",
       "\\item 2428\n",
       "\\item 7618\n",
       "\\item 3082\n",
       "\\item 7136\n",
       "\\item 5019\n",
       "\\item 1522\n",
       "\\item 5012\n",
       "\\item 4912\n",
       "\\item 7470\n",
       "\\item 1737\n",
       "\\item 8434\n",
       "\\item 8597\n",
       "\\item 3153\n",
       "\\item 2375\n",
       "\\item 7020\n",
       "\\item 3061\n",
       "\\item 5052\n",
       "\\item 5607\n",
       "\\item 1207\n",
       "\\item 8865\n",
       "\\item 7775\n",
       "\\item 5153\n",
       "\\item 3814\n",
       "\\item 3182\n",
       "\\item 6633\n",
       "\\item 9190\n",
       "\\item 4681\n",
       "\\item 1415\n",
       "\\item 5398\n",
       "\\item 1946\n",
       "\\item 8910\n",
       "\\item 3862\n",
       "\\item 9949\n",
       "\\item 9978\n",
       "\\item 8883\n",
       "\\item 1649\n",
       "\\item 8923\n",
       "\\item 1329\n",
       "\\item 1304\n",
       "\\item 1043\n",
       "\\item 5068\n",
       "\\item 2974\n",
       "\\item 3067\n",
       "\\item 7348\n",
       "\\end{enumerate*}\n"
      ],
      "text/markdown": [
       "1. 1138\n",
       "2. 6223\n",
       "3. 6092\n",
       "4. 6232\n",
       "5. 8606\n",
       "6. 6400\n",
       "7. 2324\n",
       "8. 6656\n",
       "9. 5138\n",
       "10. 6929\n",
       "11. 5444\n",
       "12. 2824\n",
       "13. 9223\n",
       "14. 2920\n",
       "15. 8361\n",
       "16. 2858\n",
       "17. 2664\n",
       "18. 1864\n",
       "19. 2318\n",
       "20. 3160\n",
       "21. 3021\n",
       "22. 1587\n",
       "23. 2183\n",
       "24. 8086\n",
       "25. 5244\n",
       "26. 9122\n",
       "27. 8291\n",
       "28. 4548\n",
       "29. 2644\n",
       "30. 3037\n",
       "31. 5057\n",
       "32. 1805\n",
       "33. 7571\n",
       "34. 2006\n",
       "35. 2579\n",
       "36. 9884\n",
       "37. 8043\n",
       "38. 5512\n",
       "39. 6438\n",
       "40. 3106\n",
       "41. 6192\n",
       "42. 3284\n",
       "43. 4998\n",
       "44. 6740\n",
       "45. 4828\n",
       "46. 2428\n",
       "47. 7618\n",
       "48. 3082\n",
       "49. 7136\n",
       "50. 5019\n",
       "51. 1522\n",
       "52. 5012\n",
       "53. 4912\n",
       "54. 7470\n",
       "55. 1737\n",
       "56. 8434\n",
       "57. 8597\n",
       "58. 3153\n",
       "59. 2375\n",
       "60. 7020\n",
       "61. 3061\n",
       "62. 5052\n",
       "63. 5607\n",
       "64. 1207\n",
       "65. 8865\n",
       "66. 7775\n",
       "67. 5153\n",
       "68. 3814\n",
       "69. 3182\n",
       "70. 6633\n",
       "71. 9190\n",
       "72. 4681\n",
       "73. 1415\n",
       "74. 5398\n",
       "75. 1946\n",
       "76. 8910\n",
       "77. 3862\n",
       "78. 9949\n",
       "79. 9978\n",
       "80. 8883\n",
       "81. 1649\n",
       "82. 8923\n",
       "83. 1329\n",
       "84. 1304\n",
       "85. 1043\n",
       "86. 5068\n",
       "87. 2974\n",
       "88. 3067\n",
       "89. 7348\n",
       "\n",
       "\n"
      ],
      "text/plain": [
       " [1] 1138 6223 6092 6232 8606 6400 2324 6656 5138 6929 5444 2824 9223 2920 8361\n",
       "[16] 2858 2664 1864 2318 3160 3021 1587 2183 8086 5244 9122 8291 4548 2644 3037\n",
       "[31] 5057 1805 7571 2006 2579 9884 8043 5512 6438 3106 6192 3284 4998 6740 4828\n",
       "[46] 2428 7618 3082 7136 5019 1522 5012 4912 7470 1737 8434 8597 3153 2375 7020\n",
       "[61] 3061 5052 5607 1207 8865 7775 5153 3814 3182 6633 9190 4681 1415 5398 1946\n",
       "[76] 8910 3862 9949 9978 8883 1649 8923 1329 1304 1043 5068 2974 3067 7348"
      ]
     },
     "metadata": {},
     "output_type": "display_data"
    }
   ],
   "source": [
    "num.text[num.text > 1000]"
   ]
  },
  {
   "cell_type": "code",
   "execution_count": 112,
   "metadata": {},
   "outputs": [],
   "source": [
    "num.text[101] <- NA"
   ]
  },
  {
   "cell_type": "code",
   "execution_count": 113,
   "metadata": {},
   "outputs": [
    {
     "data": {
      "text/html": [
       "<ol class=list-inline>\n",
       "\t<li>1138</li>\n",
       "\t<li>6223</li>\n",
       "\t<li>6092</li>\n",
       "\t<li>6232</li>\n",
       "\t<li>8606</li>\n",
       "\t<li>6400</li>\n",
       "\t<li>95</li>\n",
       "\t<li>2324</li>\n",
       "\t<li>6656</li>\n",
       "\t<li>5138</li>\n",
       "\t<li>6929</li>\n",
       "\t<li>5444</li>\n",
       "\t<li>2824</li>\n",
       "\t<li>9223</li>\n",
       "\t<li>2920</li>\n",
       "\t<li>8361</li>\n",
       "\t<li>2858</li>\n",
       "\t<li>2664</li>\n",
       "\t<li>1864</li>\n",
       "\t<li>2318</li>\n",
       "\t<li>3160</li>\n",
       "\t<li>3021</li>\n",
       "\t<li>1587</li>\n",
       "\t<li>400</li>\n",
       "\t<li>2183</li>\n",
       "\t<li>8086</li>\n",
       "\t<li>5244</li>\n",
       "\t<li>9122</li>\n",
       "\t<li>8291</li>\n",
       "\t<li>457</li>\n",
       "\t<li>4548</li>\n",
       "\t<li>2644</li>\n",
       "\t<li>3037</li>\n",
       "\t<li>5057</li>\n",
       "\t<li>1805</li>\n",
       "\t<li>7571</li>\n",
       "\t<li>2006</li>\n",
       "\t<li>2579</li>\n",
       "\t<li>9884</li>\n",
       "\t<li>8043</li>\n",
       "\t<li>5512</li>\n",
       "\t<li>6438</li>\n",
       "\t<li>3106</li>\n",
       "\t<li>6192</li>\n",
       "\t<li>3284</li>\n",
       "\t<li>4998</li>\n",
       "\t<li>6740</li>\n",
       "\t<li>4828</li>\n",
       "\t<li>2428</li>\n",
       "\t<li>7618</li>\n",
       "\t<li>735</li>\n",
       "\t<li>3082</li>\n",
       "\t<li>7136</li>\n",
       "\t<li>5019</li>\n",
       "\t<li>1522</li>\n",
       "\t<li>5012</li>\n",
       "\t<li>4912</li>\n",
       "\t<li>7470</li>\n",
       "\t<li>1737</li>\n",
       "\t<li>8434</li>\n",
       "\t<li>8597</li>\n",
       "\t<li>417</li>\n",
       "\t<li>3153</li>\n",
       "\t<li>137</li>\n",
       "\t<li>2375</li>\n",
       "\t<li>7020</li>\n",
       "\t<li>3061</li>\n",
       "\t<li>5052</li>\n",
       "\t<li>513</li>\n",
       "\t<li>5607</li>\n",
       "\t<li>1207</li>\n",
       "\t<li>8865</li>\n",
       "\t<li>146</li>\n",
       "\t<li>7775</li>\n",
       "\t<li>893</li>\n",
       "\t<li>5153</li>\n",
       "\t<li>3814</li>\n",
       "\t<li>696</li>\n",
       "\t<li>3182</li>\n",
       "\t<li>6633</li>\n",
       "\t<li>9190</li>\n",
       "\t<li>4681</li>\n",
       "\t<li>1415</li>\n",
       "\t<li>5398</li>\n",
       "\t<li>1946</li>\n",
       "\t<li>8910</li>\n",
       "\t<li>3862</li>\n",
       "\t<li>9949</li>\n",
       "\t<li>9978</li>\n",
       "\t<li>8883</li>\n",
       "\t<li>1649</li>\n",
       "\t<li>8923</li>\n",
       "\t<li>1329</li>\n",
       "\t<li>1304</li>\n",
       "\t<li>1043</li>\n",
       "\t<li>5068</li>\n",
       "\t<li>2974</li>\n",
       "\t<li>265</li>\n",
       "\t<li>3067</li>\n",
       "\t<li>7348</li>\n",
       "\t<li>&lt;NA&gt;</li>\n",
       "</ol>\n"
      ],
      "text/latex": [
       "\\begin{enumerate*}\n",
       "\\item 1138\n",
       "\\item 6223\n",
       "\\item 6092\n",
       "\\item 6232\n",
       "\\item 8606\n",
       "\\item 6400\n",
       "\\item 95\n",
       "\\item 2324\n",
       "\\item 6656\n",
       "\\item 5138\n",
       "\\item 6929\n",
       "\\item 5444\n",
       "\\item 2824\n",
       "\\item 9223\n",
       "\\item 2920\n",
       "\\item 8361\n",
       "\\item 2858\n",
       "\\item 2664\n",
       "\\item 1864\n",
       "\\item 2318\n",
       "\\item 3160\n",
       "\\item 3021\n",
       "\\item 1587\n",
       "\\item 400\n",
       "\\item 2183\n",
       "\\item 8086\n",
       "\\item 5244\n",
       "\\item 9122\n",
       "\\item 8291\n",
       "\\item 457\n",
       "\\item 4548\n",
       "\\item 2644\n",
       "\\item 3037\n",
       "\\item 5057\n",
       "\\item 1805\n",
       "\\item 7571\n",
       "\\item 2006\n",
       "\\item 2579\n",
       "\\item 9884\n",
       "\\item 8043\n",
       "\\item 5512\n",
       "\\item 6438\n",
       "\\item 3106\n",
       "\\item 6192\n",
       "\\item 3284\n",
       "\\item 4998\n",
       "\\item 6740\n",
       "\\item 4828\n",
       "\\item 2428\n",
       "\\item 7618\n",
       "\\item 735\n",
       "\\item 3082\n",
       "\\item 7136\n",
       "\\item 5019\n",
       "\\item 1522\n",
       "\\item 5012\n",
       "\\item 4912\n",
       "\\item 7470\n",
       "\\item 1737\n",
       "\\item 8434\n",
       "\\item 8597\n",
       "\\item 417\n",
       "\\item 3153\n",
       "\\item 137\n",
       "\\item 2375\n",
       "\\item 7020\n",
       "\\item 3061\n",
       "\\item 5052\n",
       "\\item 513\n",
       "\\item 5607\n",
       "\\item 1207\n",
       "\\item 8865\n",
       "\\item 146\n",
       "\\item 7775\n",
       "\\item 893\n",
       "\\item 5153\n",
       "\\item 3814\n",
       "\\item 696\n",
       "\\item 3182\n",
       "\\item 6633\n",
       "\\item 9190\n",
       "\\item 4681\n",
       "\\item 1415\n",
       "\\item 5398\n",
       "\\item 1946\n",
       "\\item 8910\n",
       "\\item 3862\n",
       "\\item 9949\n",
       "\\item 9978\n",
       "\\item 8883\n",
       "\\item 1649\n",
       "\\item 8923\n",
       "\\item 1329\n",
       "\\item 1304\n",
       "\\item 1043\n",
       "\\item 5068\n",
       "\\item 2974\n",
       "\\item 265\n",
       "\\item 3067\n",
       "\\item 7348\n",
       "\\item <NA>\n",
       "\\end{enumerate*}\n"
      ],
      "text/markdown": [
       "1. 1138\n",
       "2. 6223\n",
       "3. 6092\n",
       "4. 6232\n",
       "5. 8606\n",
       "6. 6400\n",
       "7. 95\n",
       "8. 2324\n",
       "9. 6656\n",
       "10. 5138\n",
       "11. 6929\n",
       "12. 5444\n",
       "13. 2824\n",
       "14. 9223\n",
       "15. 2920\n",
       "16. 8361\n",
       "17. 2858\n",
       "18. 2664\n",
       "19. 1864\n",
       "20. 2318\n",
       "21. 3160\n",
       "22. 3021\n",
       "23. 1587\n",
       "24. 400\n",
       "25. 2183\n",
       "26. 8086\n",
       "27. 5244\n",
       "28. 9122\n",
       "29. 8291\n",
       "30. 457\n",
       "31. 4548\n",
       "32. 2644\n",
       "33. 3037\n",
       "34. 5057\n",
       "35. 1805\n",
       "36. 7571\n",
       "37. 2006\n",
       "38. 2579\n",
       "39. 9884\n",
       "40. 8043\n",
       "41. 5512\n",
       "42. 6438\n",
       "43. 3106\n",
       "44. 6192\n",
       "45. 3284\n",
       "46. 4998\n",
       "47. 6740\n",
       "48. 4828\n",
       "49. 2428\n",
       "50. 7618\n",
       "51. 735\n",
       "52. 3082\n",
       "53. 7136\n",
       "54. 5019\n",
       "55. 1522\n",
       "56. 5012\n",
       "57. 4912\n",
       "58. 7470\n",
       "59. 1737\n",
       "60. 8434\n",
       "61. 8597\n",
       "62. 417\n",
       "63. 3153\n",
       "64. 137\n",
       "65. 2375\n",
       "66. 7020\n",
       "67. 3061\n",
       "68. 5052\n",
       "69. 513\n",
       "70. 5607\n",
       "71. 1207\n",
       "72. 8865\n",
       "73. 146\n",
       "74. 7775\n",
       "75. 893\n",
       "76. 5153\n",
       "77. 3814\n",
       "78. 696\n",
       "79. 3182\n",
       "80. 6633\n",
       "81. 9190\n",
       "82. 4681\n",
       "83. 1415\n",
       "84. 5398\n",
       "85. 1946\n",
       "86. 8910\n",
       "87. 3862\n",
       "88. 9949\n",
       "89. 9978\n",
       "90. 8883\n",
       "91. 1649\n",
       "92. 8923\n",
       "93. 1329\n",
       "94. 1304\n",
       "95. 1043\n",
       "96. 5068\n",
       "97. 2974\n",
       "98. 265\n",
       "99. 3067\n",
       "100. 7348\n",
       "101. &lt;NA&gt;\n",
       "\n",
       "\n"
      ],
      "text/plain": [
       "  [1] 1138 6223 6092 6232 8606 6400   95 2324 6656 5138 6929 5444 2824 9223 2920\n",
       " [16] 8361 2858 2664 1864 2318 3160 3021 1587  400 2183 8086 5244 9122 8291  457\n",
       " [31] 4548 2644 3037 5057 1805 7571 2006 2579 9884 8043 5512 6438 3106 6192 3284\n",
       " [46] 4998 6740 4828 2428 7618  735 3082 7136 5019 1522 5012 4912 7470 1737 8434\n",
       " [61] 8597  417 3153  137 2375 7020 3061 5052  513 5607 1207 8865  146 7775  893\n",
       " [76] 5153 3814  696 3182 6633 9190 4681 1415 5398 1946 8910 3862 9949 9978 8883\n",
       " [91] 1649 8923 1329 1304 1043 5068 2974  265 3067 7348   NA"
      ]
     },
     "metadata": {},
     "output_type": "display_data"
    }
   ],
   "source": [
    "num.text"
   ]
  },
  {
   "cell_type": "code",
   "execution_count": 116,
   "metadata": {},
   "outputs": [
    {
     "data": {
      "text/html": [
       "8212541.03787879"
      ],
      "text/latex": [
       "8212541.03787879"
      ],
      "text/markdown": [
       "8212541.03787879"
      ],
      "text/plain": [
       "[1] 8212541"
      ]
     },
     "metadata": {},
     "output_type": "display_data"
    }
   ],
   "source": [
    "var(num.text, na.rm = T)"
   ]
  },
  {
   "cell_type": "code",
   "execution_count": 117,
   "metadata": {},
   "outputs": [
    {
     "data": {
      "text/html": [
       "2865.75313624164"
      ],
      "text/latex": [
       "2865.75313624164"
      ],
      "text/markdown": [
       "2865.75313624164"
      ],
      "text/plain": [
       "[1] 2865.753"
      ]
     },
     "metadata": {},
     "output_type": "display_data"
    }
   ],
   "source": [
    "sd(num.text, na.rm = T)"
   ]
  },
  {
   "cell_type": "code",
   "execution_count": 124,
   "metadata": {},
   "outputs": [
    {
     "data": {
      "text/html": [
       "<ol class=list-inline>\n",
       "\t<li>FALSE</li>\n",
       "\t<li>FALSE</li>\n",
       "\t<li>FALSE</li>\n",
       "\t<li>FALSE</li>\n",
       "\t<li>FALSE</li>\n",
       "\t<li>FALSE</li>\n",
       "\t<li>FALSE</li>\n",
       "\t<li>FALSE</li>\n",
       "\t<li>FALSE</li>\n",
       "\t<li>FALSE</li>\n",
       "\t<li>FALSE</li>\n",
       "\t<li>FALSE</li>\n",
       "\t<li>FALSE</li>\n",
       "\t<li>FALSE</li>\n",
       "\t<li>FALSE</li>\n",
       "\t<li>FALSE</li>\n",
       "\t<li>FALSE</li>\n",
       "\t<li>FALSE</li>\n",
       "\t<li>FALSE</li>\n",
       "\t<li>FALSE</li>\n",
       "\t<li>FALSE</li>\n",
       "\t<li>FALSE</li>\n",
       "\t<li>FALSE</li>\n",
       "\t<li>FALSE</li>\n",
       "\t<li>FALSE</li>\n",
       "\t<li>FALSE</li>\n",
       "\t<li>FALSE</li>\n",
       "\t<li>FALSE</li>\n",
       "\t<li>FALSE</li>\n",
       "\t<li>FALSE</li>\n",
       "\t<li>FALSE</li>\n",
       "\t<li>FALSE</li>\n",
       "\t<li>FALSE</li>\n",
       "\t<li>FALSE</li>\n",
       "\t<li>FALSE</li>\n",
       "\t<li>FALSE</li>\n",
       "\t<li>FALSE</li>\n",
       "\t<li>FALSE</li>\n",
       "\t<li>FALSE</li>\n",
       "\t<li>FALSE</li>\n",
       "\t<li>FALSE</li>\n",
       "\t<li>FALSE</li>\n",
       "\t<li>FALSE</li>\n",
       "\t<li>FALSE</li>\n",
       "\t<li>FALSE</li>\n",
       "\t<li>FALSE</li>\n",
       "\t<li>FALSE</li>\n",
       "\t<li>FALSE</li>\n",
       "\t<li>FALSE</li>\n",
       "\t<li>FALSE</li>\n",
       "\t<li>FALSE</li>\n",
       "\t<li>FALSE</li>\n",
       "\t<li>FALSE</li>\n",
       "\t<li>FALSE</li>\n",
       "\t<li>FALSE</li>\n",
       "\t<li>FALSE</li>\n",
       "\t<li>FALSE</li>\n",
       "\t<li>FALSE</li>\n",
       "\t<li>FALSE</li>\n",
       "\t<li>FALSE</li>\n",
       "\t<li>FALSE</li>\n",
       "\t<li>FALSE</li>\n",
       "\t<li>FALSE</li>\n",
       "\t<li>FALSE</li>\n",
       "\t<li>FALSE</li>\n",
       "\t<li>FALSE</li>\n",
       "\t<li>FALSE</li>\n",
       "\t<li>FALSE</li>\n",
       "\t<li>FALSE</li>\n",
       "\t<li>FALSE</li>\n",
       "\t<li>FALSE</li>\n",
       "\t<li>FALSE</li>\n",
       "\t<li>FALSE</li>\n",
       "\t<li>FALSE</li>\n",
       "\t<li>FALSE</li>\n",
       "\t<li>FALSE</li>\n",
       "\t<li>FALSE</li>\n",
       "\t<li>FALSE</li>\n",
       "\t<li>FALSE</li>\n",
       "\t<li>FALSE</li>\n",
       "\t<li>FALSE</li>\n",
       "\t<li>FALSE</li>\n",
       "\t<li>FALSE</li>\n",
       "\t<li>FALSE</li>\n",
       "\t<li>FALSE</li>\n",
       "\t<li>FALSE</li>\n",
       "\t<li>FALSE</li>\n",
       "\t<li>FALSE</li>\n",
       "\t<li>FALSE</li>\n",
       "\t<li>FALSE</li>\n",
       "\t<li>FALSE</li>\n",
       "\t<li>FALSE</li>\n",
       "\t<li>FALSE</li>\n",
       "\t<li>FALSE</li>\n",
       "\t<li>FALSE</li>\n",
       "\t<li>FALSE</li>\n",
       "\t<li>FALSE</li>\n",
       "\t<li>FALSE</li>\n",
       "\t<li>FALSE</li>\n",
       "\t<li>FALSE</li>\n",
       "\t<li>TRUE</li>\n",
       "</ol>\n"
      ],
      "text/latex": [
       "\\begin{enumerate*}\n",
       "\\item FALSE\n",
       "\\item FALSE\n",
       "\\item FALSE\n",
       "\\item FALSE\n",
       "\\item FALSE\n",
       "\\item FALSE\n",
       "\\item FALSE\n",
       "\\item FALSE\n",
       "\\item FALSE\n",
       "\\item FALSE\n",
       "\\item FALSE\n",
       "\\item FALSE\n",
       "\\item FALSE\n",
       "\\item FALSE\n",
       "\\item FALSE\n",
       "\\item FALSE\n",
       "\\item FALSE\n",
       "\\item FALSE\n",
       "\\item FALSE\n",
       "\\item FALSE\n",
       "\\item FALSE\n",
       "\\item FALSE\n",
       "\\item FALSE\n",
       "\\item FALSE\n",
       "\\item FALSE\n",
       "\\item FALSE\n",
       "\\item FALSE\n",
       "\\item FALSE\n",
       "\\item FALSE\n",
       "\\item FALSE\n",
       "\\item FALSE\n",
       "\\item FALSE\n",
       "\\item FALSE\n",
       "\\item FALSE\n",
       "\\item FALSE\n",
       "\\item FALSE\n",
       "\\item FALSE\n",
       "\\item FALSE\n",
       "\\item FALSE\n",
       "\\item FALSE\n",
       "\\item FALSE\n",
       "\\item FALSE\n",
       "\\item FALSE\n",
       "\\item FALSE\n",
       "\\item FALSE\n",
       "\\item FALSE\n",
       "\\item FALSE\n",
       "\\item FALSE\n",
       "\\item FALSE\n",
       "\\item FALSE\n",
       "\\item FALSE\n",
       "\\item FALSE\n",
       "\\item FALSE\n",
       "\\item FALSE\n",
       "\\item FALSE\n",
       "\\item FALSE\n",
       "\\item FALSE\n",
       "\\item FALSE\n",
       "\\item FALSE\n",
       "\\item FALSE\n",
       "\\item FALSE\n",
       "\\item FALSE\n",
       "\\item FALSE\n",
       "\\item FALSE\n",
       "\\item FALSE\n",
       "\\item FALSE\n",
       "\\item FALSE\n",
       "\\item FALSE\n",
       "\\item FALSE\n",
       "\\item FALSE\n",
       "\\item FALSE\n",
       "\\item FALSE\n",
       "\\item FALSE\n",
       "\\item FALSE\n",
       "\\item FALSE\n",
       "\\item FALSE\n",
       "\\item FALSE\n",
       "\\item FALSE\n",
       "\\item FALSE\n",
       "\\item FALSE\n",
       "\\item FALSE\n",
       "\\item FALSE\n",
       "\\item FALSE\n",
       "\\item FALSE\n",
       "\\item FALSE\n",
       "\\item FALSE\n",
       "\\item FALSE\n",
       "\\item FALSE\n",
       "\\item FALSE\n",
       "\\item FALSE\n",
       "\\item FALSE\n",
       "\\item FALSE\n",
       "\\item FALSE\n",
       "\\item FALSE\n",
       "\\item FALSE\n",
       "\\item FALSE\n",
       "\\item FALSE\n",
       "\\item FALSE\n",
       "\\item FALSE\n",
       "\\item FALSE\n",
       "\\item TRUE\n",
       "\\end{enumerate*}\n"
      ],
      "text/markdown": [
       "1. FALSE\n",
       "2. FALSE\n",
       "3. FALSE\n",
       "4. FALSE\n",
       "5. FALSE\n",
       "6. FALSE\n",
       "7. FALSE\n",
       "8. FALSE\n",
       "9. FALSE\n",
       "10. FALSE\n",
       "11. FALSE\n",
       "12. FALSE\n",
       "13. FALSE\n",
       "14. FALSE\n",
       "15. FALSE\n",
       "16. FALSE\n",
       "17. FALSE\n",
       "18. FALSE\n",
       "19. FALSE\n",
       "20. FALSE\n",
       "21. FALSE\n",
       "22. FALSE\n",
       "23. FALSE\n",
       "24. FALSE\n",
       "25. FALSE\n",
       "26. FALSE\n",
       "27. FALSE\n",
       "28. FALSE\n",
       "29. FALSE\n",
       "30. FALSE\n",
       "31. FALSE\n",
       "32. FALSE\n",
       "33. FALSE\n",
       "34. FALSE\n",
       "35. FALSE\n",
       "36. FALSE\n",
       "37. FALSE\n",
       "38. FALSE\n",
       "39. FALSE\n",
       "40. FALSE\n",
       "41. FALSE\n",
       "42. FALSE\n",
       "43. FALSE\n",
       "44. FALSE\n",
       "45. FALSE\n",
       "46. FALSE\n",
       "47. FALSE\n",
       "48. FALSE\n",
       "49. FALSE\n",
       "50. FALSE\n",
       "51. FALSE\n",
       "52. FALSE\n",
       "53. FALSE\n",
       "54. FALSE\n",
       "55. FALSE\n",
       "56. FALSE\n",
       "57. FALSE\n",
       "58. FALSE\n",
       "59. FALSE\n",
       "60. FALSE\n",
       "61. FALSE\n",
       "62. FALSE\n",
       "63. FALSE\n",
       "64. FALSE\n",
       "65. FALSE\n",
       "66. FALSE\n",
       "67. FALSE\n",
       "68. FALSE\n",
       "69. FALSE\n",
       "70. FALSE\n",
       "71. FALSE\n",
       "72. FALSE\n",
       "73. FALSE\n",
       "74. FALSE\n",
       "75. FALSE\n",
       "76. FALSE\n",
       "77. FALSE\n",
       "78. FALSE\n",
       "79. FALSE\n",
       "80. FALSE\n",
       "81. FALSE\n",
       "82. FALSE\n",
       "83. FALSE\n",
       "84. FALSE\n",
       "85. FALSE\n",
       "86. FALSE\n",
       "87. FALSE\n",
       "88. FALSE\n",
       "89. FALSE\n",
       "90. FALSE\n",
       "91. FALSE\n",
       "92. FALSE\n",
       "93. FALSE\n",
       "94. FALSE\n",
       "95. FALSE\n",
       "96. FALSE\n",
       "97. FALSE\n",
       "98. FALSE\n",
       "99. FALSE\n",
       "100. FALSE\n",
       "101. TRUE\n",
       "\n",
       "\n"
      ],
      "text/plain": [
       "  [1] FALSE FALSE FALSE FALSE FALSE FALSE FALSE FALSE FALSE FALSE FALSE FALSE\n",
       " [13] FALSE FALSE FALSE FALSE FALSE FALSE FALSE FALSE FALSE FALSE FALSE FALSE\n",
       " [25] FALSE FALSE FALSE FALSE FALSE FALSE FALSE FALSE FALSE FALSE FALSE FALSE\n",
       " [37] FALSE FALSE FALSE FALSE FALSE FALSE FALSE FALSE FALSE FALSE FALSE FALSE\n",
       " [49] FALSE FALSE FALSE FALSE FALSE FALSE FALSE FALSE FALSE FALSE FALSE FALSE\n",
       " [61] FALSE FALSE FALSE FALSE FALSE FALSE FALSE FALSE FALSE FALSE FALSE FALSE\n",
       " [73] FALSE FALSE FALSE FALSE FALSE FALSE FALSE FALSE FALSE FALSE FALSE FALSE\n",
       " [85] FALSE FALSE FALSE FALSE FALSE FALSE FALSE FALSE FALSE FALSE FALSE FALSE\n",
       " [97] FALSE FALSE FALSE FALSE  TRUE"
      ]
     },
     "metadata": {},
     "output_type": "display_data"
    }
   ],
   "source": [
    "is.na(num.text)"
   ]
  },
  {
   "cell_type": "code",
   "execution_count": 125,
   "metadata": {},
   "outputs": [
    {
     "data": {
      "text/html": [
       "<ol class=list-inline>\n",
       "\t<li>TRUE</li>\n",
       "\t<li>TRUE</li>\n",
       "\t<li>TRUE</li>\n",
       "\t<li>TRUE</li>\n",
       "\t<li>TRUE</li>\n",
       "\t<li>TRUE</li>\n",
       "\t<li>TRUE</li>\n",
       "\t<li>TRUE</li>\n",
       "\t<li>TRUE</li>\n",
       "\t<li>TRUE</li>\n",
       "\t<li>TRUE</li>\n",
       "\t<li>TRUE</li>\n",
       "\t<li>TRUE</li>\n",
       "\t<li>TRUE</li>\n",
       "\t<li>TRUE</li>\n",
       "\t<li>TRUE</li>\n",
       "\t<li>TRUE</li>\n",
       "\t<li>TRUE</li>\n",
       "\t<li>TRUE</li>\n",
       "\t<li>TRUE</li>\n",
       "\t<li>TRUE</li>\n",
       "\t<li>TRUE</li>\n",
       "\t<li>TRUE</li>\n",
       "\t<li>TRUE</li>\n",
       "\t<li>TRUE</li>\n",
       "\t<li>TRUE</li>\n",
       "\t<li>TRUE</li>\n",
       "\t<li>TRUE</li>\n",
       "\t<li>TRUE</li>\n",
       "\t<li>TRUE</li>\n",
       "\t<li>TRUE</li>\n",
       "\t<li>TRUE</li>\n",
       "\t<li>TRUE</li>\n",
       "\t<li>TRUE</li>\n",
       "\t<li>TRUE</li>\n",
       "\t<li>TRUE</li>\n",
       "\t<li>TRUE</li>\n",
       "\t<li>TRUE</li>\n",
       "\t<li>TRUE</li>\n",
       "\t<li>TRUE</li>\n",
       "\t<li>TRUE</li>\n",
       "\t<li>TRUE</li>\n",
       "\t<li>TRUE</li>\n",
       "\t<li>TRUE</li>\n",
       "\t<li>TRUE</li>\n",
       "\t<li>TRUE</li>\n",
       "\t<li>TRUE</li>\n",
       "\t<li>TRUE</li>\n",
       "\t<li>TRUE</li>\n",
       "\t<li>TRUE</li>\n",
       "\t<li>TRUE</li>\n",
       "\t<li>TRUE</li>\n",
       "\t<li>TRUE</li>\n",
       "\t<li>TRUE</li>\n",
       "\t<li>TRUE</li>\n",
       "\t<li>TRUE</li>\n",
       "\t<li>TRUE</li>\n",
       "\t<li>TRUE</li>\n",
       "\t<li>TRUE</li>\n",
       "\t<li>TRUE</li>\n",
       "\t<li>TRUE</li>\n",
       "\t<li>TRUE</li>\n",
       "\t<li>TRUE</li>\n",
       "\t<li>TRUE</li>\n",
       "\t<li>TRUE</li>\n",
       "\t<li>TRUE</li>\n",
       "\t<li>TRUE</li>\n",
       "\t<li>TRUE</li>\n",
       "\t<li>TRUE</li>\n",
       "\t<li>TRUE</li>\n",
       "\t<li>TRUE</li>\n",
       "\t<li>TRUE</li>\n",
       "\t<li>TRUE</li>\n",
       "\t<li>TRUE</li>\n",
       "\t<li>TRUE</li>\n",
       "\t<li>TRUE</li>\n",
       "\t<li>TRUE</li>\n",
       "\t<li>TRUE</li>\n",
       "\t<li>TRUE</li>\n",
       "\t<li>TRUE</li>\n",
       "\t<li>TRUE</li>\n",
       "\t<li>TRUE</li>\n",
       "\t<li>TRUE</li>\n",
       "\t<li>TRUE</li>\n",
       "\t<li>TRUE</li>\n",
       "\t<li>TRUE</li>\n",
       "\t<li>TRUE</li>\n",
       "\t<li>TRUE</li>\n",
       "\t<li>TRUE</li>\n",
       "\t<li>TRUE</li>\n",
       "\t<li>TRUE</li>\n",
       "\t<li>TRUE</li>\n",
       "\t<li>TRUE</li>\n",
       "\t<li>TRUE</li>\n",
       "\t<li>TRUE</li>\n",
       "\t<li>TRUE</li>\n",
       "\t<li>TRUE</li>\n",
       "\t<li>TRUE</li>\n",
       "\t<li>TRUE</li>\n",
       "\t<li>TRUE</li>\n",
       "\t<li>FALSE</li>\n",
       "</ol>\n"
      ],
      "text/latex": [
       "\\begin{enumerate*}\n",
       "\\item TRUE\n",
       "\\item TRUE\n",
       "\\item TRUE\n",
       "\\item TRUE\n",
       "\\item TRUE\n",
       "\\item TRUE\n",
       "\\item TRUE\n",
       "\\item TRUE\n",
       "\\item TRUE\n",
       "\\item TRUE\n",
       "\\item TRUE\n",
       "\\item TRUE\n",
       "\\item TRUE\n",
       "\\item TRUE\n",
       "\\item TRUE\n",
       "\\item TRUE\n",
       "\\item TRUE\n",
       "\\item TRUE\n",
       "\\item TRUE\n",
       "\\item TRUE\n",
       "\\item TRUE\n",
       "\\item TRUE\n",
       "\\item TRUE\n",
       "\\item TRUE\n",
       "\\item TRUE\n",
       "\\item TRUE\n",
       "\\item TRUE\n",
       "\\item TRUE\n",
       "\\item TRUE\n",
       "\\item TRUE\n",
       "\\item TRUE\n",
       "\\item TRUE\n",
       "\\item TRUE\n",
       "\\item TRUE\n",
       "\\item TRUE\n",
       "\\item TRUE\n",
       "\\item TRUE\n",
       "\\item TRUE\n",
       "\\item TRUE\n",
       "\\item TRUE\n",
       "\\item TRUE\n",
       "\\item TRUE\n",
       "\\item TRUE\n",
       "\\item TRUE\n",
       "\\item TRUE\n",
       "\\item TRUE\n",
       "\\item TRUE\n",
       "\\item TRUE\n",
       "\\item TRUE\n",
       "\\item TRUE\n",
       "\\item TRUE\n",
       "\\item TRUE\n",
       "\\item TRUE\n",
       "\\item TRUE\n",
       "\\item TRUE\n",
       "\\item TRUE\n",
       "\\item TRUE\n",
       "\\item TRUE\n",
       "\\item TRUE\n",
       "\\item TRUE\n",
       "\\item TRUE\n",
       "\\item TRUE\n",
       "\\item TRUE\n",
       "\\item TRUE\n",
       "\\item TRUE\n",
       "\\item TRUE\n",
       "\\item TRUE\n",
       "\\item TRUE\n",
       "\\item TRUE\n",
       "\\item TRUE\n",
       "\\item TRUE\n",
       "\\item TRUE\n",
       "\\item TRUE\n",
       "\\item TRUE\n",
       "\\item TRUE\n",
       "\\item TRUE\n",
       "\\item TRUE\n",
       "\\item TRUE\n",
       "\\item TRUE\n",
       "\\item TRUE\n",
       "\\item TRUE\n",
       "\\item TRUE\n",
       "\\item TRUE\n",
       "\\item TRUE\n",
       "\\item TRUE\n",
       "\\item TRUE\n",
       "\\item TRUE\n",
       "\\item TRUE\n",
       "\\item TRUE\n",
       "\\item TRUE\n",
       "\\item TRUE\n",
       "\\item TRUE\n",
       "\\item TRUE\n",
       "\\item TRUE\n",
       "\\item TRUE\n",
       "\\item TRUE\n",
       "\\item TRUE\n",
       "\\item TRUE\n",
       "\\item TRUE\n",
       "\\item TRUE\n",
       "\\item FALSE\n",
       "\\end{enumerate*}\n"
      ],
      "text/markdown": [
       "1. TRUE\n",
       "2. TRUE\n",
       "3. TRUE\n",
       "4. TRUE\n",
       "5. TRUE\n",
       "6. TRUE\n",
       "7. TRUE\n",
       "8. TRUE\n",
       "9. TRUE\n",
       "10. TRUE\n",
       "11. TRUE\n",
       "12. TRUE\n",
       "13. TRUE\n",
       "14. TRUE\n",
       "15. TRUE\n",
       "16. TRUE\n",
       "17. TRUE\n",
       "18. TRUE\n",
       "19. TRUE\n",
       "20. TRUE\n",
       "21. TRUE\n",
       "22. TRUE\n",
       "23. TRUE\n",
       "24. TRUE\n",
       "25. TRUE\n",
       "26. TRUE\n",
       "27. TRUE\n",
       "28. TRUE\n",
       "29. TRUE\n",
       "30. TRUE\n",
       "31. TRUE\n",
       "32. TRUE\n",
       "33. TRUE\n",
       "34. TRUE\n",
       "35. TRUE\n",
       "36. TRUE\n",
       "37. TRUE\n",
       "38. TRUE\n",
       "39. TRUE\n",
       "40. TRUE\n",
       "41. TRUE\n",
       "42. TRUE\n",
       "43. TRUE\n",
       "44. TRUE\n",
       "45. TRUE\n",
       "46. TRUE\n",
       "47. TRUE\n",
       "48. TRUE\n",
       "49. TRUE\n",
       "50. TRUE\n",
       "51. TRUE\n",
       "52. TRUE\n",
       "53. TRUE\n",
       "54. TRUE\n",
       "55. TRUE\n",
       "56. TRUE\n",
       "57. TRUE\n",
       "58. TRUE\n",
       "59. TRUE\n",
       "60. TRUE\n",
       "61. TRUE\n",
       "62. TRUE\n",
       "63. TRUE\n",
       "64. TRUE\n",
       "65. TRUE\n",
       "66. TRUE\n",
       "67. TRUE\n",
       "68. TRUE\n",
       "69. TRUE\n",
       "70. TRUE\n",
       "71. TRUE\n",
       "72. TRUE\n",
       "73. TRUE\n",
       "74. TRUE\n",
       "75. TRUE\n",
       "76. TRUE\n",
       "77. TRUE\n",
       "78. TRUE\n",
       "79. TRUE\n",
       "80. TRUE\n",
       "81. TRUE\n",
       "82. TRUE\n",
       "83. TRUE\n",
       "84. TRUE\n",
       "85. TRUE\n",
       "86. TRUE\n",
       "87. TRUE\n",
       "88. TRUE\n",
       "89. TRUE\n",
       "90. TRUE\n",
       "91. TRUE\n",
       "92. TRUE\n",
       "93. TRUE\n",
       "94. TRUE\n",
       "95. TRUE\n",
       "96. TRUE\n",
       "97. TRUE\n",
       "98. TRUE\n",
       "99. TRUE\n",
       "100. TRUE\n",
       "101. FALSE\n",
       "\n",
       "\n"
      ],
      "text/plain": [
       "  [1]  TRUE  TRUE  TRUE  TRUE  TRUE  TRUE  TRUE  TRUE  TRUE  TRUE  TRUE  TRUE\n",
       " [13]  TRUE  TRUE  TRUE  TRUE  TRUE  TRUE  TRUE  TRUE  TRUE  TRUE  TRUE  TRUE\n",
       " [25]  TRUE  TRUE  TRUE  TRUE  TRUE  TRUE  TRUE  TRUE  TRUE  TRUE  TRUE  TRUE\n",
       " [37]  TRUE  TRUE  TRUE  TRUE  TRUE  TRUE  TRUE  TRUE  TRUE  TRUE  TRUE  TRUE\n",
       " [49]  TRUE  TRUE  TRUE  TRUE  TRUE  TRUE  TRUE  TRUE  TRUE  TRUE  TRUE  TRUE\n",
       " [61]  TRUE  TRUE  TRUE  TRUE  TRUE  TRUE  TRUE  TRUE  TRUE  TRUE  TRUE  TRUE\n",
       " [73]  TRUE  TRUE  TRUE  TRUE  TRUE  TRUE  TRUE  TRUE  TRUE  TRUE  TRUE  TRUE\n",
       " [85]  TRUE  TRUE  TRUE  TRUE  TRUE  TRUE  TRUE  TRUE  TRUE  TRUE  TRUE  TRUE\n",
       " [97]  TRUE  TRUE  TRUE  TRUE FALSE"
      ]
     },
     "metadata": {},
     "output_type": "display_data"
    }
   ],
   "source": [
    "!is.na(num.text)"
   ]
  },
  {
   "cell_type": "code",
   "execution_count": 122,
   "metadata": {},
   "outputs": [
    {
     "data": {
      "text/html": [
       "<ol class=list-inline>\n",
       "\t<li>1138</li>\n",
       "\t<li>6223</li>\n",
       "\t<li>6092</li>\n",
       "\t<li>6232</li>\n",
       "\t<li>8606</li>\n",
       "\t<li>6400</li>\n",
       "\t<li>95</li>\n",
       "\t<li>2324</li>\n",
       "\t<li>6656</li>\n",
       "\t<li>5138</li>\n",
       "\t<li>6929</li>\n",
       "\t<li>5444</li>\n",
       "\t<li>2824</li>\n",
       "\t<li>9223</li>\n",
       "\t<li>2920</li>\n",
       "\t<li>8361</li>\n",
       "\t<li>2858</li>\n",
       "\t<li>2664</li>\n",
       "\t<li>1864</li>\n",
       "\t<li>2318</li>\n",
       "\t<li>3160</li>\n",
       "\t<li>3021</li>\n",
       "\t<li>1587</li>\n",
       "\t<li>400</li>\n",
       "\t<li>2183</li>\n",
       "\t<li>8086</li>\n",
       "\t<li>5244</li>\n",
       "\t<li>9122</li>\n",
       "\t<li>8291</li>\n",
       "\t<li>457</li>\n",
       "\t<li>4548</li>\n",
       "\t<li>2644</li>\n",
       "\t<li>3037</li>\n",
       "\t<li>5057</li>\n",
       "\t<li>1805</li>\n",
       "\t<li>7571</li>\n",
       "\t<li>2006</li>\n",
       "\t<li>2579</li>\n",
       "\t<li>9884</li>\n",
       "\t<li>8043</li>\n",
       "\t<li>5512</li>\n",
       "\t<li>6438</li>\n",
       "\t<li>3106</li>\n",
       "\t<li>6192</li>\n",
       "\t<li>3284</li>\n",
       "\t<li>4998</li>\n",
       "\t<li>6740</li>\n",
       "\t<li>4828</li>\n",
       "\t<li>2428</li>\n",
       "\t<li>7618</li>\n",
       "\t<li>735</li>\n",
       "\t<li>3082</li>\n",
       "\t<li>7136</li>\n",
       "\t<li>5019</li>\n",
       "\t<li>1522</li>\n",
       "\t<li>5012</li>\n",
       "\t<li>4912</li>\n",
       "\t<li>7470</li>\n",
       "\t<li>1737</li>\n",
       "\t<li>8434</li>\n",
       "\t<li>8597</li>\n",
       "\t<li>417</li>\n",
       "\t<li>3153</li>\n",
       "\t<li>137</li>\n",
       "\t<li>2375</li>\n",
       "\t<li>7020</li>\n",
       "\t<li>3061</li>\n",
       "\t<li>5052</li>\n",
       "\t<li>513</li>\n",
       "\t<li>5607</li>\n",
       "\t<li>1207</li>\n",
       "\t<li>8865</li>\n",
       "\t<li>146</li>\n",
       "\t<li>7775</li>\n",
       "\t<li>893</li>\n",
       "\t<li>5153</li>\n",
       "\t<li>3814</li>\n",
       "\t<li>696</li>\n",
       "\t<li>3182</li>\n",
       "\t<li>6633</li>\n",
       "\t<li>9190</li>\n",
       "\t<li>4681</li>\n",
       "\t<li>1415</li>\n",
       "\t<li>5398</li>\n",
       "\t<li>1946</li>\n",
       "\t<li>8910</li>\n",
       "\t<li>3862</li>\n",
       "\t<li>9949</li>\n",
       "\t<li>9978</li>\n",
       "\t<li>8883</li>\n",
       "\t<li>1649</li>\n",
       "\t<li>8923</li>\n",
       "\t<li>1329</li>\n",
       "\t<li>1304</li>\n",
       "\t<li>1043</li>\n",
       "\t<li>5068</li>\n",
       "\t<li>2974</li>\n",
       "\t<li>265</li>\n",
       "\t<li>3067</li>\n",
       "\t<li>7348</li>\n",
       "</ol>\n"
      ],
      "text/latex": [
       "\\begin{enumerate*}\n",
       "\\item 1138\n",
       "\\item 6223\n",
       "\\item 6092\n",
       "\\item 6232\n",
       "\\item 8606\n",
       "\\item 6400\n",
       "\\item 95\n",
       "\\item 2324\n",
       "\\item 6656\n",
       "\\item 5138\n",
       "\\item 6929\n",
       "\\item 5444\n",
       "\\item 2824\n",
       "\\item 9223\n",
       "\\item 2920\n",
       "\\item 8361\n",
       "\\item 2858\n",
       "\\item 2664\n",
       "\\item 1864\n",
       "\\item 2318\n",
       "\\item 3160\n",
       "\\item 3021\n",
       "\\item 1587\n",
       "\\item 400\n",
       "\\item 2183\n",
       "\\item 8086\n",
       "\\item 5244\n",
       "\\item 9122\n",
       "\\item 8291\n",
       "\\item 457\n",
       "\\item 4548\n",
       "\\item 2644\n",
       "\\item 3037\n",
       "\\item 5057\n",
       "\\item 1805\n",
       "\\item 7571\n",
       "\\item 2006\n",
       "\\item 2579\n",
       "\\item 9884\n",
       "\\item 8043\n",
       "\\item 5512\n",
       "\\item 6438\n",
       "\\item 3106\n",
       "\\item 6192\n",
       "\\item 3284\n",
       "\\item 4998\n",
       "\\item 6740\n",
       "\\item 4828\n",
       "\\item 2428\n",
       "\\item 7618\n",
       "\\item 735\n",
       "\\item 3082\n",
       "\\item 7136\n",
       "\\item 5019\n",
       "\\item 1522\n",
       "\\item 5012\n",
       "\\item 4912\n",
       "\\item 7470\n",
       "\\item 1737\n",
       "\\item 8434\n",
       "\\item 8597\n",
       "\\item 417\n",
       "\\item 3153\n",
       "\\item 137\n",
       "\\item 2375\n",
       "\\item 7020\n",
       "\\item 3061\n",
       "\\item 5052\n",
       "\\item 513\n",
       "\\item 5607\n",
       "\\item 1207\n",
       "\\item 8865\n",
       "\\item 146\n",
       "\\item 7775\n",
       "\\item 893\n",
       "\\item 5153\n",
       "\\item 3814\n",
       "\\item 696\n",
       "\\item 3182\n",
       "\\item 6633\n",
       "\\item 9190\n",
       "\\item 4681\n",
       "\\item 1415\n",
       "\\item 5398\n",
       "\\item 1946\n",
       "\\item 8910\n",
       "\\item 3862\n",
       "\\item 9949\n",
       "\\item 9978\n",
       "\\item 8883\n",
       "\\item 1649\n",
       "\\item 8923\n",
       "\\item 1329\n",
       "\\item 1304\n",
       "\\item 1043\n",
       "\\item 5068\n",
       "\\item 2974\n",
       "\\item 265\n",
       "\\item 3067\n",
       "\\item 7348\n",
       "\\end{enumerate*}\n"
      ],
      "text/markdown": [
       "1. 1138\n",
       "2. 6223\n",
       "3. 6092\n",
       "4. 6232\n",
       "5. 8606\n",
       "6. 6400\n",
       "7. 95\n",
       "8. 2324\n",
       "9. 6656\n",
       "10. 5138\n",
       "11. 6929\n",
       "12. 5444\n",
       "13. 2824\n",
       "14. 9223\n",
       "15. 2920\n",
       "16. 8361\n",
       "17. 2858\n",
       "18. 2664\n",
       "19. 1864\n",
       "20. 2318\n",
       "21. 3160\n",
       "22. 3021\n",
       "23. 1587\n",
       "24. 400\n",
       "25. 2183\n",
       "26. 8086\n",
       "27. 5244\n",
       "28. 9122\n",
       "29. 8291\n",
       "30. 457\n",
       "31. 4548\n",
       "32. 2644\n",
       "33. 3037\n",
       "34. 5057\n",
       "35. 1805\n",
       "36. 7571\n",
       "37. 2006\n",
       "38. 2579\n",
       "39. 9884\n",
       "40. 8043\n",
       "41. 5512\n",
       "42. 6438\n",
       "43. 3106\n",
       "44. 6192\n",
       "45. 3284\n",
       "46. 4998\n",
       "47. 6740\n",
       "48. 4828\n",
       "49. 2428\n",
       "50. 7618\n",
       "51. 735\n",
       "52. 3082\n",
       "53. 7136\n",
       "54. 5019\n",
       "55. 1522\n",
       "56. 5012\n",
       "57. 4912\n",
       "58. 7470\n",
       "59. 1737\n",
       "60. 8434\n",
       "61. 8597\n",
       "62. 417\n",
       "63. 3153\n",
       "64. 137\n",
       "65. 2375\n",
       "66. 7020\n",
       "67. 3061\n",
       "68. 5052\n",
       "69. 513\n",
       "70. 5607\n",
       "71. 1207\n",
       "72. 8865\n",
       "73. 146\n",
       "74. 7775\n",
       "75. 893\n",
       "76. 5153\n",
       "77. 3814\n",
       "78. 696\n",
       "79. 3182\n",
       "80. 6633\n",
       "81. 9190\n",
       "82. 4681\n",
       "83. 1415\n",
       "84. 5398\n",
       "85. 1946\n",
       "86. 8910\n",
       "87. 3862\n",
       "88. 9949\n",
       "89. 9978\n",
       "90. 8883\n",
       "91. 1649\n",
       "92. 8923\n",
       "93. 1329\n",
       "94. 1304\n",
       "95. 1043\n",
       "96. 5068\n",
       "97. 2974\n",
       "98. 265\n",
       "99. 3067\n",
       "100. 7348\n",
       "\n",
       "\n"
      ],
      "text/plain": [
       "  [1] 1138 6223 6092 6232 8606 6400   95 2324 6656 5138 6929 5444 2824 9223 2920\n",
       " [16] 8361 2858 2664 1864 2318 3160 3021 1587  400 2183 8086 5244 9122 8291  457\n",
       " [31] 4548 2644 3037 5057 1805 7571 2006 2579 9884 8043 5512 6438 3106 6192 3284\n",
       " [46] 4998 6740 4828 2428 7618  735 3082 7136 5019 1522 5012 4912 7470 1737 8434\n",
       " [61] 8597  417 3153  137 2375 7020 3061 5052  513 5607 1207 8865  146 7775  893\n",
       " [76] 5153 3814  696 3182 6633 9190 4681 1415 5398 1946 8910 3862 9949 9978 8883\n",
       " [91] 1649 8923 1329 1304 1043 5068 2974  265 3067 7348"
      ]
     },
     "metadata": {},
     "output_type": "display_data"
    }
   ],
   "source": [
    "num.text[!is.na(num.text)]"
   ]
  },
  {
   "cell_type": "code",
   "execution_count": 126,
   "metadata": {},
   "outputs": [],
   "source": [
    "num.text[102] <- 2341"
   ]
  },
  {
   "cell_type": "code",
   "execution_count": 127,
   "metadata": {},
   "outputs": [
    {
     "data": {
      "text/html": [
       "<ol class=list-inline>\n",
       "\t<li>1138</li>\n",
       "\t<li>6223</li>\n",
       "\t<li>6092</li>\n",
       "\t<li>6232</li>\n",
       "\t<li>8606</li>\n",
       "\t<li>6400</li>\n",
       "\t<li>95</li>\n",
       "\t<li>2324</li>\n",
       "\t<li>6656</li>\n",
       "\t<li>5138</li>\n",
       "\t<li>6929</li>\n",
       "\t<li>5444</li>\n",
       "\t<li>2824</li>\n",
       "\t<li>9223</li>\n",
       "\t<li>2920</li>\n",
       "\t<li>8361</li>\n",
       "\t<li>2858</li>\n",
       "\t<li>2664</li>\n",
       "\t<li>1864</li>\n",
       "\t<li>2318</li>\n",
       "\t<li>3160</li>\n",
       "\t<li>3021</li>\n",
       "\t<li>1587</li>\n",
       "\t<li>400</li>\n",
       "\t<li>2183</li>\n",
       "\t<li>8086</li>\n",
       "\t<li>5244</li>\n",
       "\t<li>9122</li>\n",
       "\t<li>8291</li>\n",
       "\t<li>457</li>\n",
       "\t<li>4548</li>\n",
       "\t<li>2644</li>\n",
       "\t<li>3037</li>\n",
       "\t<li>5057</li>\n",
       "\t<li>1805</li>\n",
       "\t<li>7571</li>\n",
       "\t<li>2006</li>\n",
       "\t<li>2579</li>\n",
       "\t<li>9884</li>\n",
       "\t<li>8043</li>\n",
       "\t<li>5512</li>\n",
       "\t<li>6438</li>\n",
       "\t<li>3106</li>\n",
       "\t<li>6192</li>\n",
       "\t<li>3284</li>\n",
       "\t<li>4998</li>\n",
       "\t<li>6740</li>\n",
       "\t<li>4828</li>\n",
       "\t<li>2428</li>\n",
       "\t<li>7618</li>\n",
       "\t<li>735</li>\n",
       "\t<li>3082</li>\n",
       "\t<li>7136</li>\n",
       "\t<li>5019</li>\n",
       "\t<li>1522</li>\n",
       "\t<li>5012</li>\n",
       "\t<li>4912</li>\n",
       "\t<li>7470</li>\n",
       "\t<li>1737</li>\n",
       "\t<li>8434</li>\n",
       "\t<li>8597</li>\n",
       "\t<li>417</li>\n",
       "\t<li>3153</li>\n",
       "\t<li>137</li>\n",
       "\t<li>2375</li>\n",
       "\t<li>7020</li>\n",
       "\t<li>3061</li>\n",
       "\t<li>5052</li>\n",
       "\t<li>513</li>\n",
       "\t<li>5607</li>\n",
       "\t<li>1207</li>\n",
       "\t<li>8865</li>\n",
       "\t<li>146</li>\n",
       "\t<li>7775</li>\n",
       "\t<li>893</li>\n",
       "\t<li>5153</li>\n",
       "\t<li>3814</li>\n",
       "\t<li>696</li>\n",
       "\t<li>3182</li>\n",
       "\t<li>6633</li>\n",
       "\t<li>9190</li>\n",
       "\t<li>4681</li>\n",
       "\t<li>1415</li>\n",
       "\t<li>5398</li>\n",
       "\t<li>1946</li>\n",
       "\t<li>8910</li>\n",
       "\t<li>3862</li>\n",
       "\t<li>9949</li>\n",
       "\t<li>9978</li>\n",
       "\t<li>8883</li>\n",
       "\t<li>1649</li>\n",
       "\t<li>8923</li>\n",
       "\t<li>1329</li>\n",
       "\t<li>1304</li>\n",
       "\t<li>1043</li>\n",
       "\t<li>5068</li>\n",
       "\t<li>2974</li>\n",
       "\t<li>265</li>\n",
       "\t<li>3067</li>\n",
       "\t<li>7348</li>\n",
       "\t<li>&lt;NA&gt;</li>\n",
       "\t<li>2341</li>\n",
       "</ol>\n"
      ],
      "text/latex": [
       "\\begin{enumerate*}\n",
       "\\item 1138\n",
       "\\item 6223\n",
       "\\item 6092\n",
       "\\item 6232\n",
       "\\item 8606\n",
       "\\item 6400\n",
       "\\item 95\n",
       "\\item 2324\n",
       "\\item 6656\n",
       "\\item 5138\n",
       "\\item 6929\n",
       "\\item 5444\n",
       "\\item 2824\n",
       "\\item 9223\n",
       "\\item 2920\n",
       "\\item 8361\n",
       "\\item 2858\n",
       "\\item 2664\n",
       "\\item 1864\n",
       "\\item 2318\n",
       "\\item 3160\n",
       "\\item 3021\n",
       "\\item 1587\n",
       "\\item 400\n",
       "\\item 2183\n",
       "\\item 8086\n",
       "\\item 5244\n",
       "\\item 9122\n",
       "\\item 8291\n",
       "\\item 457\n",
       "\\item 4548\n",
       "\\item 2644\n",
       "\\item 3037\n",
       "\\item 5057\n",
       "\\item 1805\n",
       "\\item 7571\n",
       "\\item 2006\n",
       "\\item 2579\n",
       "\\item 9884\n",
       "\\item 8043\n",
       "\\item 5512\n",
       "\\item 6438\n",
       "\\item 3106\n",
       "\\item 6192\n",
       "\\item 3284\n",
       "\\item 4998\n",
       "\\item 6740\n",
       "\\item 4828\n",
       "\\item 2428\n",
       "\\item 7618\n",
       "\\item 735\n",
       "\\item 3082\n",
       "\\item 7136\n",
       "\\item 5019\n",
       "\\item 1522\n",
       "\\item 5012\n",
       "\\item 4912\n",
       "\\item 7470\n",
       "\\item 1737\n",
       "\\item 8434\n",
       "\\item 8597\n",
       "\\item 417\n",
       "\\item 3153\n",
       "\\item 137\n",
       "\\item 2375\n",
       "\\item 7020\n",
       "\\item 3061\n",
       "\\item 5052\n",
       "\\item 513\n",
       "\\item 5607\n",
       "\\item 1207\n",
       "\\item 8865\n",
       "\\item 146\n",
       "\\item 7775\n",
       "\\item 893\n",
       "\\item 5153\n",
       "\\item 3814\n",
       "\\item 696\n",
       "\\item 3182\n",
       "\\item 6633\n",
       "\\item 9190\n",
       "\\item 4681\n",
       "\\item 1415\n",
       "\\item 5398\n",
       "\\item 1946\n",
       "\\item 8910\n",
       "\\item 3862\n",
       "\\item 9949\n",
       "\\item 9978\n",
       "\\item 8883\n",
       "\\item 1649\n",
       "\\item 8923\n",
       "\\item 1329\n",
       "\\item 1304\n",
       "\\item 1043\n",
       "\\item 5068\n",
       "\\item 2974\n",
       "\\item 265\n",
       "\\item 3067\n",
       "\\item 7348\n",
       "\\item <NA>\n",
       "\\item 2341\n",
       "\\end{enumerate*}\n"
      ],
      "text/markdown": [
       "1. 1138\n",
       "2. 6223\n",
       "3. 6092\n",
       "4. 6232\n",
       "5. 8606\n",
       "6. 6400\n",
       "7. 95\n",
       "8. 2324\n",
       "9. 6656\n",
       "10. 5138\n",
       "11. 6929\n",
       "12. 5444\n",
       "13. 2824\n",
       "14. 9223\n",
       "15. 2920\n",
       "16. 8361\n",
       "17. 2858\n",
       "18. 2664\n",
       "19. 1864\n",
       "20. 2318\n",
       "21. 3160\n",
       "22. 3021\n",
       "23. 1587\n",
       "24. 400\n",
       "25. 2183\n",
       "26. 8086\n",
       "27. 5244\n",
       "28. 9122\n",
       "29. 8291\n",
       "30. 457\n",
       "31. 4548\n",
       "32. 2644\n",
       "33. 3037\n",
       "34. 5057\n",
       "35. 1805\n",
       "36. 7571\n",
       "37. 2006\n",
       "38. 2579\n",
       "39. 9884\n",
       "40. 8043\n",
       "41. 5512\n",
       "42. 6438\n",
       "43. 3106\n",
       "44. 6192\n",
       "45. 3284\n",
       "46. 4998\n",
       "47. 6740\n",
       "48. 4828\n",
       "49. 2428\n",
       "50. 7618\n",
       "51. 735\n",
       "52. 3082\n",
       "53. 7136\n",
       "54. 5019\n",
       "55. 1522\n",
       "56. 5012\n",
       "57. 4912\n",
       "58. 7470\n",
       "59. 1737\n",
       "60. 8434\n",
       "61. 8597\n",
       "62. 417\n",
       "63. 3153\n",
       "64. 137\n",
       "65. 2375\n",
       "66. 7020\n",
       "67. 3061\n",
       "68. 5052\n",
       "69. 513\n",
       "70. 5607\n",
       "71. 1207\n",
       "72. 8865\n",
       "73. 146\n",
       "74. 7775\n",
       "75. 893\n",
       "76. 5153\n",
       "77. 3814\n",
       "78. 696\n",
       "79. 3182\n",
       "80. 6633\n",
       "81. 9190\n",
       "82. 4681\n",
       "83. 1415\n",
       "84. 5398\n",
       "85. 1946\n",
       "86. 8910\n",
       "87. 3862\n",
       "88. 9949\n",
       "89. 9978\n",
       "90. 8883\n",
       "91. 1649\n",
       "92. 8923\n",
       "93. 1329\n",
       "94. 1304\n",
       "95. 1043\n",
       "96. 5068\n",
       "97. 2974\n",
       "98. 265\n",
       "99. 3067\n",
       "100. 7348\n",
       "101. &lt;NA&gt;\n",
       "102. 2341\n",
       "\n",
       "\n"
      ],
      "text/plain": [
       "  [1] 1138 6223 6092 6232 8606 6400   95 2324 6656 5138 6929 5444 2824 9223 2920\n",
       " [16] 8361 2858 2664 1864 2318 3160 3021 1587  400 2183 8086 5244 9122 8291  457\n",
       " [31] 4548 2644 3037 5057 1805 7571 2006 2579 9884 8043 5512 6438 3106 6192 3284\n",
       " [46] 4998 6740 4828 2428 7618  735 3082 7136 5019 1522 5012 4912 7470 1737 8434\n",
       " [61] 8597  417 3153  137 2375 7020 3061 5052  513 5607 1207 8865  146 7775  893\n",
       " [76] 5153 3814  696 3182 6633 9190 4681 1415 5398 1946 8910 3862 9949 9978 8883\n",
       " [91] 1649 8923 1329 1304 1043 5068 2974  265 3067 7348   NA 2341"
      ]
     },
     "metadata": {},
     "output_type": "display_data"
    }
   ],
   "source": [
    "num.text"
   ]
  },
  {
   "cell_type": "code",
   "execution_count": 129,
   "metadata": {},
   "outputs": [],
   "source": [
    "num.text <- append(num.text, c(20180527,20180528), after = 10)"
   ]
  },
  {
   "cell_type": "code",
   "execution_count": 131,
   "metadata": {},
   "outputs": [
    {
     "data": {
      "text/html": [
       "<ol class=list-inline>\n",
       "\t<li>1138</li>\n",
       "\t<li>6223</li>\n",
       "\t<li>6092</li>\n",
       "\t<li>6232</li>\n",
       "\t<li>8606</li>\n",
       "\t<li>6400</li>\n",
       "\t<li>95</li>\n",
       "\t<li>2324</li>\n",
       "\t<li>6656</li>\n",
       "\t<li>5138</li>\n",
       "\t<li>20180527</li>\n",
       "\t<li>20180528</li>\n",
       "\t<li>6929</li>\n",
       "\t<li>5444</li>\n",
       "\t<li>2824</li>\n",
       "\t<li>9223</li>\n",
       "\t<li>2920</li>\n",
       "\t<li>8361</li>\n",
       "\t<li>2858</li>\n",
       "\t<li>2664</li>\n",
       "\t<li>1864</li>\n",
       "\t<li>2318</li>\n",
       "\t<li>3160</li>\n",
       "\t<li>3021</li>\n",
       "\t<li>1587</li>\n",
       "\t<li>400</li>\n",
       "\t<li>2183</li>\n",
       "\t<li>8086</li>\n",
       "\t<li>5244</li>\n",
       "\t<li>9122</li>\n",
       "\t<li>8291</li>\n",
       "\t<li>457</li>\n",
       "\t<li>4548</li>\n",
       "\t<li>2644</li>\n",
       "\t<li>3037</li>\n",
       "\t<li>5057</li>\n",
       "\t<li>1805</li>\n",
       "\t<li>7571</li>\n",
       "\t<li>2006</li>\n",
       "\t<li>2579</li>\n",
       "\t<li>9884</li>\n",
       "\t<li>8043</li>\n",
       "\t<li>5512</li>\n",
       "\t<li>6438</li>\n",
       "\t<li>3106</li>\n",
       "\t<li>6192</li>\n",
       "\t<li>3284</li>\n",
       "\t<li>4998</li>\n",
       "\t<li>6740</li>\n",
       "\t<li>4828</li>\n",
       "\t<li>2428</li>\n",
       "\t<li>7618</li>\n",
       "\t<li>735</li>\n",
       "\t<li>3082</li>\n",
       "\t<li>7136</li>\n",
       "\t<li>5019</li>\n",
       "\t<li>1522</li>\n",
       "\t<li>5012</li>\n",
       "\t<li>4912</li>\n",
       "\t<li>7470</li>\n",
       "\t<li>1737</li>\n",
       "\t<li>8434</li>\n",
       "\t<li>8597</li>\n",
       "\t<li>417</li>\n",
       "\t<li>3153</li>\n",
       "\t<li>137</li>\n",
       "\t<li>2375</li>\n",
       "\t<li>7020</li>\n",
       "\t<li>3061</li>\n",
       "\t<li>5052</li>\n",
       "\t<li>513</li>\n",
       "\t<li>5607</li>\n",
       "\t<li>1207</li>\n",
       "\t<li>8865</li>\n",
       "\t<li>146</li>\n",
       "\t<li>7775</li>\n",
       "\t<li>893</li>\n",
       "\t<li>5153</li>\n",
       "\t<li>3814</li>\n",
       "\t<li>696</li>\n",
       "\t<li>3182</li>\n",
       "\t<li>6633</li>\n",
       "\t<li>9190</li>\n",
       "\t<li>4681</li>\n",
       "\t<li>1415</li>\n",
       "\t<li>5398</li>\n",
       "\t<li>1946</li>\n",
       "\t<li>8910</li>\n",
       "\t<li>3862</li>\n",
       "\t<li>9949</li>\n",
       "\t<li>9978</li>\n",
       "\t<li>8883</li>\n",
       "\t<li>1649</li>\n",
       "\t<li>8923</li>\n",
       "\t<li>1329</li>\n",
       "\t<li>1304</li>\n",
       "\t<li>1043</li>\n",
       "\t<li>5068</li>\n",
       "\t<li>2974</li>\n",
       "\t<li>265</li>\n",
       "\t<li>3067</li>\n",
       "\t<li>7348</li>\n",
       "\t<li>&lt;NA&gt;</li>\n",
       "\t<li>2341</li>\n",
       "</ol>\n"
      ],
      "text/latex": [
       "\\begin{enumerate*}\n",
       "\\item 1138\n",
       "\\item 6223\n",
       "\\item 6092\n",
       "\\item 6232\n",
       "\\item 8606\n",
       "\\item 6400\n",
       "\\item 95\n",
       "\\item 2324\n",
       "\\item 6656\n",
       "\\item 5138\n",
       "\\item 20180527\n",
       "\\item 20180528\n",
       "\\item 6929\n",
       "\\item 5444\n",
       "\\item 2824\n",
       "\\item 9223\n",
       "\\item 2920\n",
       "\\item 8361\n",
       "\\item 2858\n",
       "\\item 2664\n",
       "\\item 1864\n",
       "\\item 2318\n",
       "\\item 3160\n",
       "\\item 3021\n",
       "\\item 1587\n",
       "\\item 400\n",
       "\\item 2183\n",
       "\\item 8086\n",
       "\\item 5244\n",
       "\\item 9122\n",
       "\\item 8291\n",
       "\\item 457\n",
       "\\item 4548\n",
       "\\item 2644\n",
       "\\item 3037\n",
       "\\item 5057\n",
       "\\item 1805\n",
       "\\item 7571\n",
       "\\item 2006\n",
       "\\item 2579\n",
       "\\item 9884\n",
       "\\item 8043\n",
       "\\item 5512\n",
       "\\item 6438\n",
       "\\item 3106\n",
       "\\item 6192\n",
       "\\item 3284\n",
       "\\item 4998\n",
       "\\item 6740\n",
       "\\item 4828\n",
       "\\item 2428\n",
       "\\item 7618\n",
       "\\item 735\n",
       "\\item 3082\n",
       "\\item 7136\n",
       "\\item 5019\n",
       "\\item 1522\n",
       "\\item 5012\n",
       "\\item 4912\n",
       "\\item 7470\n",
       "\\item 1737\n",
       "\\item 8434\n",
       "\\item 8597\n",
       "\\item 417\n",
       "\\item 3153\n",
       "\\item 137\n",
       "\\item 2375\n",
       "\\item 7020\n",
       "\\item 3061\n",
       "\\item 5052\n",
       "\\item 513\n",
       "\\item 5607\n",
       "\\item 1207\n",
       "\\item 8865\n",
       "\\item 146\n",
       "\\item 7775\n",
       "\\item 893\n",
       "\\item 5153\n",
       "\\item 3814\n",
       "\\item 696\n",
       "\\item 3182\n",
       "\\item 6633\n",
       "\\item 9190\n",
       "\\item 4681\n",
       "\\item 1415\n",
       "\\item 5398\n",
       "\\item 1946\n",
       "\\item 8910\n",
       "\\item 3862\n",
       "\\item 9949\n",
       "\\item 9978\n",
       "\\item 8883\n",
       "\\item 1649\n",
       "\\item 8923\n",
       "\\item 1329\n",
       "\\item 1304\n",
       "\\item 1043\n",
       "\\item 5068\n",
       "\\item 2974\n",
       "\\item 265\n",
       "\\item 3067\n",
       "\\item 7348\n",
       "\\item <NA>\n",
       "\\item 2341\n",
       "\\end{enumerate*}\n"
      ],
      "text/markdown": [
       "1. 1138\n",
       "2. 6223\n",
       "3. 6092\n",
       "4. 6232\n",
       "5. 8606\n",
       "6. 6400\n",
       "7. 95\n",
       "8. 2324\n",
       "9. 6656\n",
       "10. 5138\n",
       "11. 20180527\n",
       "12. 20180528\n",
       "13. 6929\n",
       "14. 5444\n",
       "15. 2824\n",
       "16. 9223\n",
       "17. 2920\n",
       "18. 8361\n",
       "19. 2858\n",
       "20. 2664\n",
       "21. 1864\n",
       "22. 2318\n",
       "23. 3160\n",
       "24. 3021\n",
       "25. 1587\n",
       "26. 400\n",
       "27. 2183\n",
       "28. 8086\n",
       "29. 5244\n",
       "30. 9122\n",
       "31. 8291\n",
       "32. 457\n",
       "33. 4548\n",
       "34. 2644\n",
       "35. 3037\n",
       "36. 5057\n",
       "37. 1805\n",
       "38. 7571\n",
       "39. 2006\n",
       "40. 2579\n",
       "41. 9884\n",
       "42. 8043\n",
       "43. 5512\n",
       "44. 6438\n",
       "45. 3106\n",
       "46. 6192\n",
       "47. 3284\n",
       "48. 4998\n",
       "49. 6740\n",
       "50. 4828\n",
       "51. 2428\n",
       "52. 7618\n",
       "53. 735\n",
       "54. 3082\n",
       "55. 7136\n",
       "56. 5019\n",
       "57. 1522\n",
       "58. 5012\n",
       "59. 4912\n",
       "60. 7470\n",
       "61. 1737\n",
       "62. 8434\n",
       "63. 8597\n",
       "64. 417\n",
       "65. 3153\n",
       "66. 137\n",
       "67. 2375\n",
       "68. 7020\n",
       "69. 3061\n",
       "70. 5052\n",
       "71. 513\n",
       "72. 5607\n",
       "73. 1207\n",
       "74. 8865\n",
       "75. 146\n",
       "76. 7775\n",
       "77. 893\n",
       "78. 5153\n",
       "79. 3814\n",
       "80. 696\n",
       "81. 3182\n",
       "82. 6633\n",
       "83. 9190\n",
       "84. 4681\n",
       "85. 1415\n",
       "86. 5398\n",
       "87. 1946\n",
       "88. 8910\n",
       "89. 3862\n",
       "90. 9949\n",
       "91. 9978\n",
       "92. 8883\n",
       "93. 1649\n",
       "94. 8923\n",
       "95. 1329\n",
       "96. 1304\n",
       "97. 1043\n",
       "98. 5068\n",
       "99. 2974\n",
       "100. 265\n",
       "101. 3067\n",
       "102. 7348\n",
       "103. &lt;NA&gt;\n",
       "104. 2341\n",
       "\n",
       "\n"
      ],
      "text/plain": [
       "  [1]     1138     6223     6092     6232     8606     6400       95     2324\n",
       "  [9]     6656     5138 20180527 20180528     6929     5444     2824     9223\n",
       " [17]     2920     8361     2858     2664     1864     2318     3160     3021\n",
       " [25]     1587      400     2183     8086     5244     9122     8291      457\n",
       " [33]     4548     2644     3037     5057     1805     7571     2006     2579\n",
       " [41]     9884     8043     5512     6438     3106     6192     3284     4998\n",
       " [49]     6740     4828     2428     7618      735     3082     7136     5019\n",
       " [57]     1522     5012     4912     7470     1737     8434     8597      417\n",
       " [65]     3153      137     2375     7020     3061     5052      513     5607\n",
       " [73]     1207     8865      146     7775      893     5153     3814      696\n",
       " [81]     3182     6633     9190     4681     1415     5398     1946     8910\n",
       " [89]     3862     9949     9978     8883     1649     8923     1329     1304\n",
       " [97]     1043     5068     2974      265     3067     7348       NA     2341"
      ]
     },
     "metadata": {},
     "output_type": "display_data"
    }
   ],
   "source": [
    "num.text"
   ]
  },
  {
   "cell_type": "code",
   "execution_count": 135,
   "metadata": {},
   "outputs": [],
   "source": [
    "logi <- c(TRUE, FALSE)"
   ]
  },
  {
   "cell_type": "code",
   "execution_count": 136,
   "metadata": {},
   "outputs": [
    {
     "data": {
      "text/html": [
       "<ol class=list-inline>\n",
       "\t<li>TRUE</li>\n",
       "\t<li>FALSE</li>\n",
       "</ol>\n"
      ],
      "text/latex": [
       "\\begin{enumerate*}\n",
       "\\item TRUE\n",
       "\\item FALSE\n",
       "\\end{enumerate*}\n"
      ],
      "text/markdown": [
       "1. TRUE\n",
       "2. FALSE\n",
       "\n",
       "\n"
      ],
      "text/plain": [
       "[1]  TRUE FALSE"
      ]
     },
     "metadata": {},
     "output_type": "display_data"
    }
   ],
   "source": [
    "logi"
   ]
  },
  {
   "cell_type": "code",
   "execution_count": 137,
   "metadata": {},
   "outputs": [
    {
     "data": {
      "text/plain": [
       "NULL"
      ]
     },
     "metadata": {},
     "output_type": "display_data"
    }
   ],
   "source": [
    "names(king)"
   ]
  },
  {
   "cell_type": "code",
   "execution_count": 139,
   "metadata": {},
   "outputs": [],
   "source": [
    "names(king) <- c(\"1대\", \"2대\", \"3대\", \"4대\", \"5대\",\n",
    "                \"6대\", \"7대\", \"8대\", \"9대\", \"10대\")"
   ]
  },
  {
   "cell_type": "raw",
   "metadata": {},
   "source": [
    "king"
   ]
  },
  {
   "cell_type": "code",
   "execution_count": 141,
   "metadata": {},
   "outputs": [
    {
     "data": {
      "text/html": [
       "<dl class=dl-horizontal>\n",
       "\t<dt>1대</dt>\n",
       "\t\t<dd>'태조'</dd>\n",
       "\t<dt>7대</dt>\n",
       "\t\t<dd>'세조'</dd>\n",
       "</dl>\n"
      ],
      "text/latex": [
       "\\begin{description*}\n",
       "\\item[1대] '태조'\n",
       "\\item[7대] '세조'\n",
       "\\end{description*}\n"
      ],
      "text/markdown": [
       "1대\n",
       ":   '태조'7대\n",
       ":   '세조'\n",
       "\n"
      ],
      "text/plain": [
       "   1대    7대 \n",
       "\"태조\" \"세조\" "
      ]
     },
     "metadata": {},
     "output_type": "display_data"
    }
   ],
   "source": [
    "king[grep(\"조\", king)]"
   ]
  },
  {
   "cell_type": "code",
   "execution_count": 144,
   "metadata": {},
   "outputs": [],
   "source": [
    "num.vx1 <- c(10, 20, 30, 40, 50)\n",
    "num.vx2 <- c(1,2, 3,4,5)"
   ]
  },
  {
   "cell_type": "code",
   "execution_count": 145,
   "metadata": {},
   "outputs": [
    {
     "data": {
      "text/html": [
       "<ol class=list-inline>\n",
       "\t<li>11</li>\n",
       "\t<li>22</li>\n",
       "\t<li>33</li>\n",
       "\t<li>44</li>\n",
       "\t<li>55</li>\n",
       "</ol>\n"
      ],
      "text/latex": [
       "\\begin{enumerate*}\n",
       "\\item 11\n",
       "\\item 22\n",
       "\\item 33\n",
       "\\item 44\n",
       "\\item 55\n",
       "\\end{enumerate*}\n"
      ],
      "text/markdown": [
       "1. 11\n",
       "2. 22\n",
       "3. 33\n",
       "4. 44\n",
       "5. 55\n",
       "\n",
       "\n"
      ],
      "text/plain": [
       "[1] 11 22 33 44 55"
      ]
     },
     "metadata": {},
     "output_type": "display_data"
    }
   ],
   "source": [
    "num.vx1 + num.vx2"
   ]
  },
  {
   "cell_type": "code",
   "execution_count": 146,
   "metadata": {},
   "outputs": [
    {
     "data": {
      "text/html": [
       "<ol class=list-inline>\n",
       "\t<li>9</li>\n",
       "\t<li>18</li>\n",
       "\t<li>27</li>\n",
       "\t<li>36</li>\n",
       "\t<li>45</li>\n",
       "</ol>\n"
      ],
      "text/latex": [
       "\\begin{enumerate*}\n",
       "\\item 9\n",
       "\\item 18\n",
       "\\item 27\n",
       "\\item 36\n",
       "\\item 45\n",
       "\\end{enumerate*}\n"
      ],
      "text/markdown": [
       "1. 9\n",
       "2. 18\n",
       "3. 27\n",
       "4. 36\n",
       "5. 45\n",
       "\n",
       "\n"
      ],
      "text/plain": [
       "[1]  9 18 27 36 45"
      ]
     },
     "metadata": {},
     "output_type": "display_data"
    }
   ],
   "source": [
    "num.vx1 - num.vx2"
   ]
  },
  {
   "cell_type": "code",
   "execution_count": 147,
   "metadata": {},
   "outputs": [
    {
     "data": {
      "text/html": [
       "<ol class=list-inline>\n",
       "\t<li>10</li>\n",
       "\t<li>10</li>\n",
       "\t<li>10</li>\n",
       "\t<li>10</li>\n",
       "\t<li>10</li>\n",
       "</ol>\n"
      ],
      "text/latex": [
       "\\begin{enumerate*}\n",
       "\\item 10\n",
       "\\item 10\n",
       "\\item 10\n",
       "\\item 10\n",
       "\\item 10\n",
       "\\end{enumerate*}\n"
      ],
      "text/markdown": [
       "1. 10\n",
       "2. 10\n",
       "3. 10\n",
       "4. 10\n",
       "5. 10\n",
       "\n",
       "\n"
      ],
      "text/plain": [
       "[1] 10 10 10 10 10"
      ]
     },
     "metadata": {},
     "output_type": "display_data"
    }
   ],
   "source": [
    "num.vx1 / num.vx2"
   ]
  },
  {
   "cell_type": "code",
   "execution_count": 148,
   "metadata": {},
   "outputs": [
    {
     "data": {
      "text/html": [
       "<ol class=list-inline>\n",
       "\t<li>10</li>\n",
       "\t<li>40</li>\n",
       "\t<li>90</li>\n",
       "\t<li>160</li>\n",
       "\t<li>250</li>\n",
       "</ol>\n"
      ],
      "text/latex": [
       "\\begin{enumerate*}\n",
       "\\item 10\n",
       "\\item 40\n",
       "\\item 90\n",
       "\\item 160\n",
       "\\item 250\n",
       "\\end{enumerate*}\n"
      ],
      "text/markdown": [
       "1. 10\n",
       "2. 40\n",
       "3. 90\n",
       "4. 160\n",
       "5. 250\n",
       "\n",
       "\n"
      ],
      "text/plain": [
       "[1]  10  40  90 160 250"
      ]
     },
     "metadata": {},
     "output_type": "display_data"
    }
   ],
   "source": [
    "num.vx1 * num.vx2"
   ]
  },
  {
   "cell_type": "code",
   "execution_count": 149,
   "metadata": {},
   "outputs": [
    {
     "data": {
      "text/html": [
       "<ol class=list-inline>\n",
       "\t<li>FALSE</li>\n",
       "\t<li>FALSE</li>\n",
       "\t<li>FALSE</li>\n",
       "\t<li>FALSE</li>\n",
       "\t<li>FALSE</li>\n",
       "</ol>\n"
      ],
      "text/latex": [
       "\\begin{enumerate*}\n",
       "\\item FALSE\n",
       "\\item FALSE\n",
       "\\item FALSE\n",
       "\\item FALSE\n",
       "\\item FALSE\n",
       "\\end{enumerate*}\n"
      ],
      "text/markdown": [
       "1. FALSE\n",
       "2. FALSE\n",
       "3. FALSE\n",
       "4. FALSE\n",
       "5. FALSE\n",
       "\n",
       "\n"
      ],
      "text/plain": [
       "[1] FALSE FALSE FALSE FALSE FALSE"
      ]
     },
     "metadata": {},
     "output_type": "display_data"
    }
   ],
   "source": [
    "num.vx1 == num.vx2"
   ]
  },
  {
   "cell_type": "markdown",
   "metadata": {},
   "source": [
    "<, >, ==, !="
   ]
  },
  {
   "cell_type": "code",
   "execution_count": 150,
   "metadata": {},
   "outputs": [
    {
     "data": {
      "text/html": [
       "<ol class=list-inline>\n",
       "\t<li>TRUE</li>\n",
       "\t<li>TRUE</li>\n",
       "\t<li>TRUE</li>\n",
       "\t<li>TRUE</li>\n",
       "\t<li>TRUE</li>\n",
       "</ol>\n"
      ],
      "text/latex": [
       "\\begin{enumerate*}\n",
       "\\item TRUE\n",
       "\\item TRUE\n",
       "\\item TRUE\n",
       "\\item TRUE\n",
       "\\item TRUE\n",
       "\\end{enumerate*}\n"
      ],
      "text/markdown": [
       "1. TRUE\n",
       "2. TRUE\n",
       "3. TRUE\n",
       "4. TRUE\n",
       "5. TRUE\n",
       "\n",
       "\n"
      ],
      "text/plain": [
       "[1] TRUE TRUE TRUE TRUE TRUE"
      ]
     },
     "metadata": {},
     "output_type": "display_data"
    }
   ],
   "source": [
    "num.vx1 > num.vx2"
   ]
  },
  {
   "cell_type": "code",
   "execution_count": 152,
   "metadata": {},
   "outputs": [
    {
     "data": {
      "text/html": [
       "TRUE"
      ],
      "text/latex": [
       "TRUE"
      ],
      "text/markdown": [
       "TRUE"
      ],
      "text/plain": [
       "[1] TRUE"
      ]
     },
     "metadata": {},
     "output_type": "display_data"
    }
   ],
   "source": [
    " 10 < 11"
   ]
  },
  {
   "cell_type": "code",
   "execution_count": 153,
   "metadata": {},
   "outputs": [],
   "source": [
    "if( 10 > 11){\n",
    "    print (\"참\")\n",
    "}"
   ]
  },
  {
   "cell_type": "markdown",
   "metadata": {},
   "source": [
    "if(달걀 == 존재){\n",
    "    우유 6개 \n",
    "}"
   ]
  },
  {
   "cell_type": "code",
   "execution_count": 154,
   "metadata": {},
   "outputs": [
    {
     "name": "stdout",
     "output_type": "stream",
     "text": [
      "[1] \"거짓\"\n"
     ]
    }
   ],
   "source": [
    "if( 10 > 11){\n",
    "    print (\"참\")\n",
    "}else{\n",
    "    print (\"거짓\")\n",
    "}"
   ]
  },
  {
   "cell_type": "code",
   "execution_count": 158,
   "metadata": {},
   "outputs": [
    {
     "data": {
      "text/html": [
       "0"
      ],
      "text/latex": [
       "0"
      ],
      "text/markdown": [
       "0"
      ],
      "text/plain": [
       "[1] 0"
      ]
     },
     "metadata": {},
     "output_type": "display_data"
    }
   ],
   "source": [
    "15 %% 5"
   ]
  },
  {
   "cell_type": "code",
   "execution_count": 162,
   "metadata": {},
   "outputs": [
    {
     "name": "stdout",
     "output_type": "stream",
     "text": [
      "[1] \"태조\"\n",
      "[1] \"정종\"\n",
      "[1] \"태종\"\n",
      "[1] \"세종\"\n",
      "[1] \"문종\"\n",
      "[1] \"단종\"\n",
      "[1] \"세조\"\n",
      "[1] \"예종\"\n",
      "[1] \"성종\"\n",
      "[1] \"연산군\"\n"
     ]
    }
   ],
   "source": [
    "for(sadf in king){\n",
    "    print (sadf)\n",
    "}"
   ]
  },
  {
   "cell_type": "code",
   "execution_count": 164,
   "metadata": {},
   "outputs": [
    {
     "name": "stdout",
     "output_type": "stream",
     "text": [
      "[1] \"10 x 20 = 200\"\n"
     ]
    }
   ],
   "source": [
    "print (paste(10, \"x\", 20, \"=\", 10*20))"
   ]
  },
  {
   "cell_type": "code",
   "execution_count": 165,
   "metadata": {},
   "outputs": [
    {
     "name": "stdout",
     "output_type": "stream",
     "text": [
      "[1] 1\n",
      "[1] 2\n",
      "[1] 3\n",
      "[1] 4\n",
      "[1] 1\n",
      "[1] 2\n",
      "[1] 3\n",
      "[1] 4\n",
      "[1] 1\n",
      "[1] 2\n",
      "[1] 3\n",
      "[1] 4\n",
      "[1] 1\n",
      "[1] 2\n",
      "[1] 3\n",
      "[1] 4\n"
     ]
    }
   ],
   "source": [
    "for(i in 1:4){\n",
    "    for(j in 1:4){\n",
    "        print (j)\n",
    "    }\n",
    "}"
   ]
  },
  {
   "cell_type": "code",
   "execution_count": 171,
   "metadata": {},
   "outputs": [
    {
     "data": {
      "text/html": [
       "TRUE"
      ],
      "text/latex": [
       "TRUE"
      ],
      "text/markdown": [
       "TRUE"
      ],
      "text/plain": [
       "[1] TRUE"
      ]
     },
     "metadata": {},
     "output_type": "display_data"
    }
   ],
   "source": [
    "TRUE | FALSE \n",
    "# or |\n",
    "# and &"
   ]
  },
  {
   "cell_type": "code",
   "execution_count": 176,
   "metadata": {},
   "outputs": [
    {
     "name": "stdout",
     "output_type": "stream",
     "text": [
      "[1] \"2 x 1 = 2\"\n",
      "[1] \"2 x 2 = 4\"\n",
      "[1] \"2 x 3 = 6\"\n",
      "[1] \"2 x 4 = 8\"\n",
      "[1] \"2 x 5 = 10\"\n",
      "[1] \"2 x 6 = 12\"\n",
      "[1] \"2 x 7 = 14\"\n",
      "[1] \"2 x 8 = 16\"\n",
      "[1] \"2 x 9 = 18\"\n",
      "[1] \"3 x 1 = 3\"\n",
      "[1] \"3 x 2 = 6\"\n",
      "[1] \"3 x 3 = 9\"\n",
      "[1] \"3 x 4 = 12\"\n",
      "[1] \"3 x 5 = 15\"\n",
      "[1] \"3 x 6 = 18\"\n",
      "[1] \"3 x 7 = 21\"\n",
      "[1] \"3 x 8 = 24\"\n",
      "[1] \"3 x 9 = 27\"\n",
      "[1] \"4 x 1 = 4\"\n",
      "[1] \"4 x 2 = 8\"\n",
      "[1] \"4 x 3 = 12\"\n",
      "[1] \"4 x 4 = 16\"\n",
      "[1] \"4 x 5 = 20\"\n",
      "[1] \"4 x 6 = 24\"\n",
      "[1] \"4 x 7 = 28\"\n",
      "[1] \"4 x 8 = 32\"\n",
      "[1] \"4 x 9 = 36\"\n",
      "[1] \"7 x 1 = 7\"\n",
      "[1] \"7 x 2 = 14\"\n",
      "[1] \"7 x 3 = 21\"\n",
      "[1] \"7 x 4 = 28\"\n",
      "[1] \"7 x 5 = 35\"\n",
      "[1] \"7 x 6 = 42\"\n",
      "[1] \"7 x 7 = 49\"\n",
      "[1] \"7 x 8 = 56\"\n",
      "[1] \"7 x 9 = 63\"\n",
      "[1] \"8 x 1 = 8\"\n",
      "[1] \"8 x 2 = 16\"\n",
      "[1] \"8 x 3 = 24\"\n",
      "[1] \"8 x 4 = 32\"\n",
      "[1] \"8 x 5 = 40\"\n",
      "[1] \"8 x 6 = 48\"\n",
      "[1] \"8 x 7 = 56\"\n",
      "[1] \"8 x 8 = 64\"\n",
      "[1] \"8 x 9 = 72\"\n",
      "[1] \"9 x 1 = 9\"\n",
      "[1] \"9 x 2 = 18\"\n",
      "[1] \"9 x 3 = 27\"\n",
      "[1] \"9 x 4 = 36\"\n",
      "[1] \"9 x 5 = 45\"\n",
      "[1] \"9 x 6 = 54\"\n",
      "[1] \"9 x 7 = 63\"\n",
      "[1] \"9 x 8 = 72\"\n",
      "[1] \"9 x 9 = 81\"\n"
     ]
    }
   ],
   "source": [
    "for(i in 2:9){\n",
    "    for (j in 1:9){\n",
    "        if(i != 5 & i != 6){\n",
    "            print (paste(i, \"x\", j, \"=\", i*j))\n",
    "        }\n",
    "        \n",
    "    }\n",
    "}"
   ]
  },
  {
   "cell_type": "code",
   "execution_count": 181,
   "metadata": {},
   "outputs": [],
   "source": [
    "mX <- matrix(1:6, ncol=2)"
   ]
  },
  {
   "cell_type": "code",
   "execution_count": 182,
   "metadata": {},
   "outputs": [
    {
     "data": {
      "text/html": [
       "<table>\n",
       "<tbody>\n",
       "\t<tr><td>1</td><td>4</td></tr>\n",
       "\t<tr><td>2</td><td>5</td></tr>\n",
       "\t<tr><td>3</td><td>6</td></tr>\n",
       "</tbody>\n",
       "</table>\n"
      ],
      "text/latex": [
       "\\begin{tabular}{ll}\n",
       "\t 1 & 4\\\\\n",
       "\t 2 & 5\\\\\n",
       "\t 3 & 6\\\\\n",
       "\\end{tabular}\n"
      ],
      "text/markdown": [
       "\n",
       "| 1 | 4 | \n",
       "| 2 | 5 | \n",
       "| 3 | 6 | \n",
       "\n",
       "\n"
      ],
      "text/plain": [
       "     [,1] [,2]\n",
       "[1,] 1    4   \n",
       "[2,] 2    5   \n",
       "[3,] 3    6   "
      ]
     },
     "metadata": {},
     "output_type": "display_data"
    }
   ],
   "source": [
    "mX"
   ]
  },
  {
   "cell_type": "code",
   "execution_count": 183,
   "metadata": {},
   "outputs": [],
   "source": [
    "mX.1 <- matrix(1:6, nrow=2)"
   ]
  },
  {
   "cell_type": "code",
   "execution_count": 184,
   "metadata": {},
   "outputs": [
    {
     "data": {
      "text/html": [
       "<table>\n",
       "<tbody>\n",
       "\t<tr><td>1</td><td>3</td><td>5</td></tr>\n",
       "\t<tr><td>2</td><td>4</td><td>6</td></tr>\n",
       "</tbody>\n",
       "</table>\n"
      ],
      "text/latex": [
       "\\begin{tabular}{lll}\n",
       "\t 1 & 3 & 5\\\\\n",
       "\t 2 & 4 & 6\\\\\n",
       "\\end{tabular}\n"
      ],
      "text/markdown": [
       "\n",
       "| 1 | 3 | 5 | \n",
       "| 2 | 4 | 6 | \n",
       "\n",
       "\n"
      ],
      "text/plain": [
       "     [,1] [,2] [,3]\n",
       "[1,] 1    3    5   \n",
       "[2,] 2    4    6   "
      ]
     },
     "metadata": {},
     "output_type": "display_data"
    }
   ],
   "source": [
    "mX.1"
   ]
  },
  {
   "cell_type": "code",
   "execution_count": 185,
   "metadata": {},
   "outputs": [],
   "source": [
    "mX.byrow <- matrix(1:6, ncol=2, byrow = TRUE)"
   ]
  },
  {
   "cell_type": "code",
   "execution_count": 186,
   "metadata": {},
   "outputs": [
    {
     "data": {
      "text/html": [
       "<table>\n",
       "<tbody>\n",
       "\t<tr><td>1</td><td>2</td></tr>\n",
       "\t<tr><td>3</td><td>4</td></tr>\n",
       "\t<tr><td>5</td><td>6</td></tr>\n",
       "</tbody>\n",
       "</table>\n"
      ],
      "text/latex": [
       "\\begin{tabular}{ll}\n",
       "\t 1 & 2\\\\\n",
       "\t 3 & 4\\\\\n",
       "\t 5 & 6\\\\\n",
       "\\end{tabular}\n"
      ],
      "text/markdown": [
       "\n",
       "| 1 | 2 | \n",
       "| 3 | 4 | \n",
       "| 5 | 6 | \n",
       "\n",
       "\n"
      ],
      "text/plain": [
       "     [,1] [,2]\n",
       "[1,] 1    2   \n",
       "[2,] 3    4   \n",
       "[3,] 5    6   "
      ]
     },
     "metadata": {},
     "output_type": "display_data"
    }
   ],
   "source": [
    "mX.byrow"
   ]
  },
  {
   "cell_type": "code",
   "execution_count": 192,
   "metadata": {},
   "outputs": [],
   "source": [
    "mX.1 <- matrix(1:12,  nrow = 4,ncol = 3,)"
   ]
  },
  {
   "cell_type": "code",
   "execution_count": 190,
   "metadata": {},
   "outputs": [
    {
     "data": {
      "text/html": [
       "<table>\n",
       "<tbody>\n",
       "\t<tr><td>1 </td><td>5 </td><td> 9</td></tr>\n",
       "\t<tr><td>2 </td><td>6 </td><td>10</td></tr>\n",
       "\t<tr><td>3 </td><td>7 </td><td>11</td></tr>\n",
       "\t<tr><td>4 </td><td>8 </td><td>12</td></tr>\n",
       "</tbody>\n",
       "</table>\n"
      ],
      "text/latex": [
       "\\begin{tabular}{lll}\n",
       "\t 1  & 5  &  9\\\\\n",
       "\t 2  & 6  & 10\\\\\n",
       "\t 3  & 7  & 11\\\\\n",
       "\t 4  & 8  & 12\\\\\n",
       "\\end{tabular}\n"
      ],
      "text/markdown": [
       "\n",
       "| 1  | 5  |  9 | \n",
       "| 2  | 6  | 10 | \n",
       "| 3  | 7  | 11 | \n",
       "| 4  | 8  | 12 | \n",
       "\n",
       "\n"
      ],
      "text/plain": [
       "     [,1] [,2] [,3]\n",
       "[1,] 1    5     9  \n",
       "[2,] 2    6    10  \n",
       "[3,] 3    7    11  \n",
       "[4,] 4    8    12  "
      ]
     },
     "metadata": {},
     "output_type": "display_data"
    }
   ],
   "source": [
    "mX.1"
   ]
  },
  {
   "cell_type": "code",
   "execution_count": 193,
   "metadata": {},
   "outputs": [
    {
     "name": "stderr",
     "output_type": "stream",
     "text": [
      "Warning message in matrix(1:11, nrow = 4, ncol = 3, ):\n",
      "\"데이터의 길이[11]가 행의 개수[4]의 배수가 되지 않습니다\""
     ]
    }
   ],
   "source": [
    "mX.2 <- matrix(1:11,  nrow = 4,ncol = 3,)"
   ]
  },
  {
   "cell_type": "code",
   "execution_count": 194,
   "metadata": {},
   "outputs": [
    {
     "data": {
      "text/html": [
       "<table>\n",
       "<tbody>\n",
       "\t<tr><td>1 </td><td>5 </td><td> 9</td></tr>\n",
       "\t<tr><td>2 </td><td>6 </td><td>10</td></tr>\n",
       "\t<tr><td>3 </td><td>7 </td><td>11</td></tr>\n",
       "\t<tr><td>4 </td><td>8 </td><td> 1</td></tr>\n",
       "</tbody>\n",
       "</table>\n"
      ],
      "text/latex": [
       "\\begin{tabular}{lll}\n",
       "\t 1  & 5  &  9\\\\\n",
       "\t 2  & 6  & 10\\\\\n",
       "\t 3  & 7  & 11\\\\\n",
       "\t 4  & 8  &  1\\\\\n",
       "\\end{tabular}\n"
      ],
      "text/markdown": [
       "\n",
       "| 1  | 5  |  9 | \n",
       "| 2  | 6  | 10 | \n",
       "| 3  | 7  | 11 | \n",
       "| 4  | 8  |  1 | \n",
       "\n",
       "\n"
      ],
      "text/plain": [
       "     [,1] [,2] [,3]\n",
       "[1,] 1    5     9  \n",
       "[2,] 2    6    10  \n",
       "[3,] 3    7    11  \n",
       "[4,] 4    8     1  "
      ]
     },
     "metadata": {},
     "output_type": "display_data"
    }
   ],
   "source": [
    "mX.2"
   ]
  },
  {
   "cell_type": "code",
   "execution_count": 199,
   "metadata": {},
   "outputs": [
    {
     "name": "stderr",
     "output_type": "stream",
     "text": [
      "Warning message in matrix(1:9, nrow = 4, ncol = 3, byrow = T):\n",
      "\"데이터의 길이[9]가 행의 개수[4]의 배수가 되지 않습니다\""
     ]
    }
   ],
   "source": [
    "mX.3 <- matrix(1:9,  nrow = 4,ncol = 3, byrow = T)"
   ]
  },
  {
   "cell_type": "code",
   "execution_count": 200,
   "metadata": {},
   "outputs": [
    {
     "data": {
      "text/html": [
       "<table>\n",
       "<tbody>\n",
       "\t<tr><td>1</td><td>2</td><td>3</td></tr>\n",
       "\t<tr><td>4</td><td>5</td><td>6</td></tr>\n",
       "\t<tr><td>7</td><td>8</td><td>9</td></tr>\n",
       "\t<tr><td>1</td><td>2</td><td>3</td></tr>\n",
       "</tbody>\n",
       "</table>\n"
      ],
      "text/latex": [
       "\\begin{tabular}{lll}\n",
       "\t 1 & 2 & 3\\\\\n",
       "\t 4 & 5 & 6\\\\\n",
       "\t 7 & 8 & 9\\\\\n",
       "\t 1 & 2 & 3\\\\\n",
       "\\end{tabular}\n"
      ],
      "text/markdown": [
       "\n",
       "| 1 | 2 | 3 | \n",
       "| 4 | 5 | 6 | \n",
       "| 7 | 8 | 9 | \n",
       "| 1 | 2 | 3 | \n",
       "\n",
       "\n"
      ],
      "text/plain": [
       "     [,1] [,2] [,3]\n",
       "[1,] 1    2    3   \n",
       "[2,] 4    5    6   \n",
       "[3,] 7    8    9   \n",
       "[4,] 1    2    3   "
      ]
     },
     "metadata": {},
     "output_type": "display_data"
    }
   ],
   "source": [
    "mX.3"
   ]
  },
  {
   "cell_type": "code",
   "execution_count": 202,
   "metadata": {},
   "outputs": [
    {
     "name": "stderr",
     "output_type": "stream",
     "text": [
      "Warning message in matrix(1:9, 4, 3, byrow = T):\n",
      "\"데이터의 길이[9]가 행의 개수[4]의 배수가 되지 않습니다\""
     ]
    }
   ],
   "source": [
    "mX.4 <- matrix(1:9,  4, 3, byrow = T)"
   ]
  },
  {
   "cell_type": "code",
   "execution_count": 203,
   "metadata": {},
   "outputs": [
    {
     "data": {
      "text/html": [
       "<table>\n",
       "<tbody>\n",
       "\t<tr><td>1</td><td>2</td><td>3</td></tr>\n",
       "\t<tr><td>4</td><td>5</td><td>6</td></tr>\n",
       "\t<tr><td>7</td><td>8</td><td>9</td></tr>\n",
       "\t<tr><td>1</td><td>2</td><td>3</td></tr>\n",
       "</tbody>\n",
       "</table>\n"
      ],
      "text/latex": [
       "\\begin{tabular}{lll}\n",
       "\t 1 & 2 & 3\\\\\n",
       "\t 4 & 5 & 6\\\\\n",
       "\t 7 & 8 & 9\\\\\n",
       "\t 1 & 2 & 3\\\\\n",
       "\\end{tabular}\n"
      ],
      "text/markdown": [
       "\n",
       "| 1 | 2 | 3 | \n",
       "| 4 | 5 | 6 | \n",
       "| 7 | 8 | 9 | \n",
       "| 1 | 2 | 3 | \n",
       "\n",
       "\n"
      ],
      "text/plain": [
       "     [,1] [,2] [,3]\n",
       "[1,] 1    2    3   \n",
       "[2,] 4    5    6   \n",
       "[3,] 7    8    9   \n",
       "[4,] 1    2    3   "
      ]
     },
     "metadata": {},
     "output_type": "display_data"
    }
   ],
   "source": [
    "mX.4"
   ]
  },
  {
   "cell_type": "code",
   "execution_count": 205,
   "metadata": {},
   "outputs": [],
   "source": [
    "a.1 <- c(1,2,3)\n",
    "a.2 <- c(4,5,6)\n",
    "a.3 <- c(7,8,9)\n",
    "a.4 <- c(10, 11, 12)"
   ]
  },
  {
   "cell_type": "code",
   "execution_count": 208,
   "metadata": {},
   "outputs": [],
   "source": [
    "r.Matrix <- rbind(a.1, a.2, a.3, a.4)"
   ]
  },
  {
   "cell_type": "code",
   "execution_count": 209,
   "metadata": {},
   "outputs": [],
   "source": [
    "c.Matrix <- cbind(a.1, a.2, a.3, a.4)"
   ]
  },
  {
   "cell_type": "code",
   "execution_count": 211,
   "metadata": {},
   "outputs": [
    {
     "data": {
      "text/html": [
       "<table>\n",
       "<tbody>\n",
       "\t<tr><th scope=row>a.1</th><td> 1</td><td> 2</td><td> 3</td></tr>\n",
       "\t<tr><th scope=row>a.2</th><td> 4</td><td> 5</td><td> 6</td></tr>\n",
       "\t<tr><th scope=row>a.3</th><td> 7</td><td> 8</td><td> 9</td></tr>\n",
       "\t<tr><th scope=row>a.4</th><td>10</td><td>11</td><td>12</td></tr>\n",
       "</tbody>\n",
       "</table>\n"
      ],
      "text/latex": [
       "\\begin{tabular}{r|lll}\n",
       "\ta.1 &  1 &  2 &  3\\\\\n",
       "\ta.2 &  4 &  5 &  6\\\\\n",
       "\ta.3 &  7 &  8 &  9\\\\\n",
       "\ta.4 & 10 & 11 & 12\\\\\n",
       "\\end{tabular}\n"
      ],
      "text/markdown": [
       "\n",
       "| a.1 |  1 |  2 |  3 | \n",
       "| a.2 |  4 |  5 |  6 | \n",
       "| a.3 |  7 |  8 |  9 | \n",
       "| a.4 | 10 | 11 | 12 | \n",
       "\n",
       "\n"
      ],
      "text/plain": [
       "    [,1] [,2] [,3]\n",
       "a.1  1    2    3  \n",
       "a.2  4    5    6  \n",
       "a.3  7    8    9  \n",
       "a.4 10   11   12  "
      ]
     },
     "metadata": {},
     "output_type": "display_data"
    }
   ],
   "source": [
    "r.Matrix"
   ]
  },
  {
   "cell_type": "code",
   "execution_count": 210,
   "metadata": {},
   "outputs": [
    {
     "data": {
      "text/html": [
       "<table>\n",
       "<thead><tr><th scope=col>a.1</th><th scope=col>a.2</th><th scope=col>a.3</th><th scope=col>a.4</th></tr></thead>\n",
       "<tbody>\n",
       "\t<tr><td>1 </td><td>4 </td><td>7 </td><td>10</td></tr>\n",
       "\t<tr><td>2 </td><td>5 </td><td>8 </td><td>11</td></tr>\n",
       "\t<tr><td>3 </td><td>6 </td><td>9 </td><td>12</td></tr>\n",
       "</tbody>\n",
       "</table>\n"
      ],
      "text/latex": [
       "\\begin{tabular}{llll}\n",
       " a.1 & a.2 & a.3 & a.4\\\\\n",
       "\\hline\n",
       "\t 1  & 4  & 7  & 10\\\\\n",
       "\t 2  & 5  & 8  & 11\\\\\n",
       "\t 3  & 6  & 9  & 12\\\\\n",
       "\\end{tabular}\n"
      ],
      "text/markdown": [
       "\n",
       "a.1 | a.2 | a.3 | a.4 | \n",
       "|---|---|---|\n",
       "| 1  | 4  | 7  | 10 | \n",
       "| 2  | 5  | 8  | 11 | \n",
       "| 3  | 6  | 9  | 12 | \n",
       "\n",
       "\n"
      ],
      "text/plain": [
       "     a.1 a.2 a.3 a.4\n",
       "[1,] 1   4   7   10 \n",
       "[2,] 2   5   8   11 \n",
       "[3,] 3   6   9   12 "
      ]
     },
     "metadata": {},
     "output_type": "display_data"
    }
   ],
   "source": [
    "c.Matrix"
   ]
  },
  {
   "cell_type": "code",
   "execution_count": 213,
   "metadata": {},
   "outputs": [
    {
     "data": {
      "text/html": [
       "<ol class=list-inline>\n",
       "\t<li>'a.1'</li>\n",
       "\t<li>'a.2'</li>\n",
       "\t<li>'a.3'</li>\n",
       "\t<li>'a.4'</li>\n",
       "</ol>\n"
      ],
      "text/latex": [
       "\\begin{enumerate*}\n",
       "\\item 'a.1'\n",
       "\\item 'a.2'\n",
       "\\item 'a.3'\n",
       "\\item 'a.4'\n",
       "\\end{enumerate*}\n"
      ],
      "text/markdown": [
       "1. 'a.1'\n",
       "2. 'a.2'\n",
       "3. 'a.3'\n",
       "4. 'a.4'\n",
       "\n",
       "\n"
      ],
      "text/plain": [
       "[1] \"a.1\" \"a.2\" \"a.3\" \"a.4\""
      ]
     },
     "metadata": {},
     "output_type": "display_data"
    },
    {
     "data": {
      "text/plain": [
       "NULL"
      ]
     },
     "metadata": {},
     "output_type": "display_data"
    }
   ],
   "source": [
    "rownames(r.Matrix)\n",
    "colnames(r.Matrix)"
   ]
  },
  {
   "cell_type": "code",
   "execution_count": 214,
   "metadata": {},
   "outputs": [
    {
     "data": {
      "text/plain": [
       "NULL"
      ]
     },
     "metadata": {},
     "output_type": "display_data"
    },
    {
     "data": {
      "text/html": [
       "<ol class=list-inline>\n",
       "\t<li>'a.1'</li>\n",
       "\t<li>'a.2'</li>\n",
       "\t<li>'a.3'</li>\n",
       "\t<li>'a.4'</li>\n",
       "</ol>\n"
      ],
      "text/latex": [
       "\\begin{enumerate*}\n",
       "\\item 'a.1'\n",
       "\\item 'a.2'\n",
       "\\item 'a.3'\n",
       "\\item 'a.4'\n",
       "\\end{enumerate*}\n"
      ],
      "text/markdown": [
       "1. 'a.1'\n",
       "2. 'a.2'\n",
       "3. 'a.3'\n",
       "4. 'a.4'\n",
       "\n",
       "\n"
      ],
      "text/plain": [
       "[1] \"a.1\" \"a.2\" \"a.3\" \"a.4\""
      ]
     },
     "metadata": {},
     "output_type": "display_data"
    }
   ],
   "source": [
    "rownames(c.Matrix)\n",
    "colnames(c.Matrix)"
   ]
  },
  {
   "cell_type": "code",
   "execution_count": 215,
   "metadata": {},
   "outputs": [],
   "source": [
    "set.seed(123)\n",
    "matrix.X <- matrix(sample(100, 25), 5, 5)"
   ]
  },
  {
   "cell_type": "code",
   "execution_count": 217,
   "metadata": {},
   "outputs": [
    {
     "data": {
      "text/html": [
       "<table>\n",
       "<tbody>\n",
       "\t<tr><td>29</td><td> 5</td><td>87</td><td>77</td><td>72</td></tr>\n",
       "\t<tr><td>79</td><td>50</td><td>98</td><td>21</td><td>55</td></tr>\n",
       "\t<tr><td>41</td><td>83</td><td>60</td><td> 4</td><td>90</td></tr>\n",
       "\t<tr><td>86</td><td>51</td><td>94</td><td>27</td><td>85</td></tr>\n",
       "\t<tr><td>91</td><td>42</td><td> 9</td><td>78</td><td>81</td></tr>\n",
       "</tbody>\n",
       "</table>\n"
      ],
      "text/latex": [
       "\\begin{tabular}{lllll}\n",
       "\t 29 &  5 & 87 & 77 & 72\\\\\n",
       "\t 79 & 50 & 98 & 21 & 55\\\\\n",
       "\t 41 & 83 & 60 &  4 & 90\\\\\n",
       "\t 86 & 51 & 94 & 27 & 85\\\\\n",
       "\t 91 & 42 &  9 & 78 & 81\\\\\n",
       "\\end{tabular}\n"
      ],
      "text/markdown": [
       "\n",
       "| 29 |  5 | 87 | 77 | 72 | \n",
       "| 79 | 50 | 98 | 21 | 55 | \n",
       "| 41 | 83 | 60 |  4 | 90 | \n",
       "| 86 | 51 | 94 | 27 | 85 | \n",
       "| 91 | 42 |  9 | 78 | 81 | \n",
       "\n",
       "\n"
      ],
      "text/plain": [
       "     [,1] [,2] [,3] [,4] [,5]\n",
       "[1,] 29    5   87   77   72  \n",
       "[2,] 79   50   98   21   55  \n",
       "[3,] 41   83   60    4   90  \n",
       "[4,] 86   51   94   27   85  \n",
       "[5,] 91   42    9   78   81  "
      ]
     },
     "metadata": {},
     "output_type": "display_data"
    }
   ],
   "source": [
    "matrix.X"
   ]
  },
  {
   "cell_type": "code",
   "execution_count": 219,
   "metadata": {},
   "outputs": [
    {
     "data": {
      "text/html": [
       "87"
      ],
      "text/latex": [
       "87"
      ],
      "text/markdown": [
       "87"
      ],
      "text/plain": [
       "[1] 87"
      ]
     },
     "metadata": {},
     "output_type": "display_data"
    }
   ],
   "source": [
    "matrix.X[1,3]"
   ]
  },
  {
   "cell_type": "code",
   "execution_count": 220,
   "metadata": {},
   "outputs": [
    {
     "data": {
      "text/html": [
       "<table>\n",
       "<tbody>\n",
       "\t<tr><td> 5</td><td>77</td></tr>\n",
       "\t<tr><td>83</td><td> 4</td></tr>\n",
       "</tbody>\n",
       "</table>\n"
      ],
      "text/latex": [
       "\\begin{tabular}{ll}\n",
       "\t  5 & 77\\\\\n",
       "\t 83 &  4\\\\\n",
       "\\end{tabular}\n"
      ],
      "text/markdown": [
       "\n",
       "|  5 | 77 | \n",
       "| 83 |  4 | \n",
       "\n",
       "\n"
      ],
      "text/plain": [
       "     [,1] [,2]\n",
       "[1,]  5   77  \n",
       "[2,] 83    4  "
      ]
     },
     "metadata": {},
     "output_type": "display_data"
    }
   ],
   "source": [
    "matrix.X[c(1,3),c(2,4)]"
   ]
  },
  {
   "cell_type": "code",
   "execution_count": 223,
   "metadata": {},
   "outputs": [
    {
     "data": {
      "text/html": [
       "<ol class=list-inline>\n",
       "\t<li>5</li>\n",
       "\t<li>50</li>\n",
       "\t<li>83</li>\n",
       "\t<li>51</li>\n",
       "\t<li>42</li>\n",
       "</ol>\n"
      ],
      "text/latex": [
       "\\begin{enumerate*}\n",
       "\\item 5\n",
       "\\item 50\n",
       "\\item 83\n",
       "\\item 51\n",
       "\\item 42\n",
       "\\end{enumerate*}\n"
      ],
      "text/markdown": [
       "1. 5\n",
       "2. 50\n",
       "3. 83\n",
       "4. 51\n",
       "5. 42\n",
       "\n",
       "\n"
      ],
      "text/plain": [
       "[1]  5 50 83 51 42"
      ]
     },
     "metadata": {},
     "output_type": "display_data"
    }
   ],
   "source": [
    "matrix.X[, 2]"
   ]
  },
  {
   "cell_type": "code",
   "execution_count": 224,
   "metadata": {},
   "outputs": [
    {
     "data": {
      "text/html": [
       "<table>\n",
       "<tbody>\n",
       "\t<tr><td>29</td><td> 5</td><td>87</td><td>77</td><td>72</td></tr>\n",
       "\t<tr><td>79</td><td>50</td><td>98</td><td>21</td><td>55</td></tr>\n",
       "\t<tr><td>41</td><td>83</td><td>60</td><td> 4</td><td>90</td></tr>\n",
       "\t<tr><td>86</td><td>51</td><td>94</td><td>27</td><td>85</td></tr>\n",
       "\t<tr><td>91</td><td>42</td><td> 9</td><td>78</td><td>81</td></tr>\n",
       "</tbody>\n",
       "</table>\n"
      ],
      "text/latex": [
       "\\begin{tabular}{lllll}\n",
       "\t 29 &  5 & 87 & 77 & 72\\\\\n",
       "\t 79 & 50 & 98 & 21 & 55\\\\\n",
       "\t 41 & 83 & 60 &  4 & 90\\\\\n",
       "\t 86 & 51 & 94 & 27 & 85\\\\\n",
       "\t 91 & 42 &  9 & 78 & 81\\\\\n",
       "\\end{tabular}\n"
      ],
      "text/markdown": [
       "\n",
       "| 29 |  5 | 87 | 77 | 72 | \n",
       "| 79 | 50 | 98 | 21 | 55 | \n",
       "| 41 | 83 | 60 |  4 | 90 | \n",
       "| 86 | 51 | 94 | 27 | 85 | \n",
       "| 91 | 42 |  9 | 78 | 81 | \n",
       "\n",
       "\n"
      ],
      "text/plain": [
       "     [,1] [,2] [,3] [,4] [,5]\n",
       "[1,] 29    5   87   77   72  \n",
       "[2,] 79   50   98   21   55  \n",
       "[3,] 41   83   60    4   90  \n",
       "[4,] 86   51   94   27   85  \n",
       "[5,] 91   42    9   78   81  "
      ]
     },
     "metadata": {},
     "output_type": "display_data"
    }
   ],
   "source": [
    "matrix.X"
   ]
  },
  {
   "cell_type": "code",
   "execution_count": 225,
   "metadata": {},
   "outputs": [
    {
     "data": {
      "text/html": [
       "<ol class=list-inline>\n",
       "\t<li>79</li>\n",
       "\t<li>98</li>\n",
       "\t<li>55</li>\n",
       "</ol>\n"
      ],
      "text/latex": [
       "\\begin{enumerate*}\n",
       "\\item 79\n",
       "\\item 98\n",
       "\\item 55\n",
       "\\end{enumerate*}\n"
      ],
      "text/markdown": [
       "1. 79\n",
       "2. 98\n",
       "3. 55\n",
       "\n",
       "\n"
      ],
      "text/plain": [
       "[1] 79 98 55"
      ]
     },
     "metadata": {},
     "output_type": "display_data"
    }
   ],
   "source": [
    "matrix.X[2, matrix.X[2,] >50]"
   ]
  },
  {
   "cell_type": "code",
   "execution_count": 226,
   "metadata": {},
   "outputs": [
    {
     "data": {
      "text/html": [
       "<ol class=list-inline>\n",
       "\t<li>TRUE</li>\n",
       "\t<li>FALSE</li>\n",
       "\t<li>TRUE</li>\n",
       "\t<li>FALSE</li>\n",
       "\t<li>TRUE</li>\n",
       "</ol>\n"
      ],
      "text/latex": [
       "\\begin{enumerate*}\n",
       "\\item TRUE\n",
       "\\item FALSE\n",
       "\\item TRUE\n",
       "\\item FALSE\n",
       "\\item TRUE\n",
       "\\end{enumerate*}\n"
      ],
      "text/markdown": [
       "1. TRUE\n",
       "2. FALSE\n",
       "3. TRUE\n",
       "4. FALSE\n",
       "5. TRUE\n",
       "\n",
       "\n"
      ],
      "text/plain": [
       "[1]  TRUE FALSE  TRUE FALSE  TRUE"
      ]
     },
     "metadata": {},
     "output_type": "display_data"
    }
   ],
   "source": [
    "matrix.X[2,] >50"
   ]
  },
  {
   "cell_type": "code",
   "execution_count": 227,
   "metadata": {},
   "outputs": [
    {
     "data": {
      "text/html": [
       "<ol class=list-inline>\n",
       "\t<li>79</li>\n",
       "\t<li>98</li>\n",
       "\t<li>55</li>\n",
       "</ol>\n"
      ],
      "text/latex": [
       "\\begin{enumerate*}\n",
       "\\item 79\n",
       "\\item 98\n",
       "\\item 55\n",
       "\\end{enumerate*}\n"
      ],
      "text/markdown": [
       "1. 79\n",
       "2. 98\n",
       "3. 55\n",
       "\n",
       "\n"
      ],
      "text/plain": [
       "[1] 79 98 55"
      ]
     },
     "metadata": {},
     "output_type": "display_data"
    }
   ],
   "source": [
    "matrix.X[2, c(T,F,T,F,T)]"
   ]
  },
  {
   "cell_type": "code",
   "execution_count": 228,
   "metadata": {},
   "outputs": [
    {
     "data": {
      "text/html": [
       "<table>\n",
       "<tbody>\n",
       "\t<tr><td>29</td><td> 5</td><td>87</td><td>77</td><td>72</td></tr>\n",
       "\t<tr><td>79</td><td>50</td><td>98</td><td>21</td><td>55</td></tr>\n",
       "\t<tr><td>41</td><td>83</td><td>60</td><td> 4</td><td>90</td></tr>\n",
       "\t<tr><td>86</td><td>51</td><td>94</td><td>27</td><td>85</td></tr>\n",
       "\t<tr><td>91</td><td>42</td><td> 9</td><td>78</td><td>81</td></tr>\n",
       "</tbody>\n",
       "</table>\n"
      ],
      "text/latex": [
       "\\begin{tabular}{lllll}\n",
       "\t 29 &  5 & 87 & 77 & 72\\\\\n",
       "\t 79 & 50 & 98 & 21 & 55\\\\\n",
       "\t 41 & 83 & 60 &  4 & 90\\\\\n",
       "\t 86 & 51 & 94 & 27 & 85\\\\\n",
       "\t 91 & 42 &  9 & 78 & 81\\\\\n",
       "\\end{tabular}\n"
      ],
      "text/markdown": [
       "\n",
       "| 29 |  5 | 87 | 77 | 72 | \n",
       "| 79 | 50 | 98 | 21 | 55 | \n",
       "| 41 | 83 | 60 |  4 | 90 | \n",
       "| 86 | 51 | 94 | 27 | 85 | \n",
       "| 91 | 42 |  9 | 78 | 81 | \n",
       "\n",
       "\n"
      ],
      "text/plain": [
       "     [,1] [,2] [,3] [,4] [,5]\n",
       "[1,] 29    5   87   77   72  \n",
       "[2,] 79   50   98   21   55  \n",
       "[3,] 41   83   60    4   90  \n",
       "[4,] 86   51   94   27   85  \n",
       "[5,] 91   42    9   78   81  "
      ]
     },
     "metadata": {},
     "output_type": "display_data"
    }
   ],
   "source": [
    "matrix.X"
   ]
  },
  {
   "cell_type": "code",
   "execution_count": 231,
   "metadata": {},
   "outputs": [
    {
     "data": {
      "text/html": [
       "<table>\n",
       "<tbody>\n",
       "\t<tr><td> TRUE</td><td> TRUE</td><td>FALSE</td><td>FALSE</td><td>FALSE</td></tr>\n",
       "\t<tr><td>FALSE</td><td>FALSE</td><td>FALSE</td><td> TRUE</td><td>FALSE</td></tr>\n",
       "\t<tr><td>FALSE</td><td>FALSE</td><td>FALSE</td><td> TRUE</td><td>FALSE</td></tr>\n",
       "\t<tr><td>FALSE</td><td>FALSE</td><td>FALSE</td><td> TRUE</td><td>FALSE</td></tr>\n",
       "\t<tr><td>FALSE</td><td>FALSE</td><td> TRUE</td><td>FALSE</td><td>FALSE</td></tr>\n",
       "</tbody>\n",
       "</table>\n"
      ],
      "text/latex": [
       "\\begin{tabular}{lllll}\n",
       "\t  TRUE &  TRUE & FALSE & FALSE & FALSE\\\\\n",
       "\t FALSE & FALSE & FALSE &  TRUE & FALSE\\\\\n",
       "\t FALSE & FALSE & FALSE &  TRUE & FALSE\\\\\n",
       "\t FALSE & FALSE & FALSE &  TRUE & FALSE\\\\\n",
       "\t FALSE & FALSE &  TRUE & FALSE & FALSE\\\\\n",
       "\\end{tabular}\n"
      ],
      "text/markdown": [
       "\n",
       "|  TRUE |  TRUE | FALSE | FALSE | FALSE | \n",
       "| FALSE | FALSE | FALSE |  TRUE | FALSE | \n",
       "| FALSE | FALSE | FALSE |  TRUE | FALSE | \n",
       "| FALSE | FALSE | FALSE |  TRUE | FALSE | \n",
       "| FALSE | FALSE |  TRUE | FALSE | FALSE | \n",
       "\n",
       "\n"
      ],
      "text/plain": [
       "     [,1]  [,2]  [,3]  [,4]  [,5] \n",
       "[1,]  TRUE  TRUE FALSE FALSE FALSE\n",
       "[2,] FALSE FALSE FALSE  TRUE FALSE\n",
       "[3,] FALSE FALSE FALSE  TRUE FALSE\n",
       "[4,] FALSE FALSE FALSE  TRUE FALSE\n",
       "[5,] FALSE FALSE  TRUE FALSE FALSE"
      ]
     },
     "metadata": {},
     "output_type": "display_data"
    }
   ],
   "source": [
    "matrix.X < 30"
   ]
  },
  {
   "cell_type": "code",
   "execution_count": 230,
   "metadata": {},
   "outputs": [
    {
     "data": {
      "text/html": [
       "<ol class=list-inline>\n",
       "\t<li>29</li>\n",
       "\t<li>5</li>\n",
       "\t<li>9</li>\n",
       "\t<li>21</li>\n",
       "\t<li>4</li>\n",
       "\t<li>27</li>\n",
       "</ol>\n"
      ],
      "text/latex": [
       "\\begin{enumerate*}\n",
       "\\item 29\n",
       "\\item 5\n",
       "\\item 9\n",
       "\\item 21\n",
       "\\item 4\n",
       "\\item 27\n",
       "\\end{enumerate*}\n"
      ],
      "text/markdown": [
       "1. 29\n",
       "2. 5\n",
       "3. 9\n",
       "4. 21\n",
       "5. 4\n",
       "6. 27\n",
       "\n",
       "\n"
      ],
      "text/plain": [
       "[1] 29  5  9 21  4 27"
      ]
     },
     "metadata": {},
     "output_type": "display_data"
    }
   ],
   "source": [
    "matrix.X[matrix.X < 30]"
   ]
  },
  {
   "cell_type": "code",
   "execution_count": 234,
   "metadata": {},
   "outputs": [
    {
     "data": {
      "text/html": [
       "<table>\n",
       "<tbody>\n",
       "\t<tr><td>50</td><td>98</td><td>21</td></tr>\n",
       "\t<tr><td>51</td><td>94</td><td>27</td></tr>\n",
       "\t<tr><td>42</td><td> 9</td><td>78</td></tr>\n",
       "</tbody>\n",
       "</table>\n"
      ],
      "text/latex": [
       "\\begin{tabular}{lll}\n",
       "\t 50 & 98 & 21\\\\\n",
       "\t 51 & 94 & 27\\\\\n",
       "\t 42 &  9 & 78\\\\\n",
       "\\end{tabular}\n"
      ],
      "text/markdown": [
       "\n",
       "| 50 | 98 | 21 | \n",
       "| 51 | 94 | 27 | \n",
       "| 42 |  9 | 78 | \n",
       "\n",
       "\n"
      ],
      "text/plain": [
       "     [,1] [,2] [,3]\n",
       "[1,] 50   98   21  \n",
       "[2,] 51   94   27  \n",
       "[3,] 42    9   78  "
      ]
     },
     "metadata": {},
     "output_type": "display_data"
    }
   ],
   "source": [
    "matrix.X[-c(1,3), -c(1,5)]"
   ]
  },
  {
   "cell_type": "code",
   "execution_count": 236,
   "metadata": {},
   "outputs": [
    {
     "data": {
      "text/html": [
       "<table>\n",
       "<tbody>\n",
       "\t<tr><td>1</td><td>4</td><td>7</td><td>1</td></tr>\n",
       "\t<tr><td>2</td><td>5</td><td>8</td><td>2</td></tr>\n",
       "\t<tr><td>3</td><td>6</td><td>9</td><td>3</td></tr>\n",
       "</tbody>\n",
       "</table>\n"
      ],
      "text/latex": [
       "\\begin{tabular}{llll}\n",
       "\t 1 & 4 & 7 & 1\\\\\n",
       "\t 2 & 5 & 8 & 2\\\\\n",
       "\t 3 & 6 & 9 & 3\\\\\n",
       "\\end{tabular}\n"
      ],
      "text/markdown": [
       "\n",
       "| 1 | 4 | 7 | 1 | \n",
       "| 2 | 5 | 8 | 2 | \n",
       "| 3 | 6 | 9 | 3 | \n",
       "\n",
       "\n"
      ],
      "text/plain": [
       "     [,1] [,2] [,3] [,4]\n",
       "[1,] 1    4    7    1   \n",
       "[2,] 2    5    8    2   \n",
       "[3,] 3    6    9    3   "
      ]
     },
     "metadata": {},
     "output_type": "display_data"
    }
   ],
   "source": [
    "t(mX.3)"
   ]
  },
  {
   "cell_type": "code",
   "execution_count": 243,
   "metadata": {},
   "outputs": [],
   "source": [
    "solve.1 <- matrix(c(1,2,3,3,-1,-3, 2,3,1), 3,3, byrow = T)"
   ]
  },
  {
   "cell_type": "code",
   "execution_count": 244,
   "metadata": {},
   "outputs": [
    {
     "data": {
      "text/html": [
       "<table>\n",
       "<tbody>\n",
       "\t<tr><td>1 </td><td> 2</td><td> 3</td></tr>\n",
       "\t<tr><td>3 </td><td>-1</td><td>-3</td></tr>\n",
       "\t<tr><td>2 </td><td> 3</td><td> 1</td></tr>\n",
       "</tbody>\n",
       "</table>\n"
      ],
      "text/latex": [
       "\\begin{tabular}{lll}\n",
       "\t 1  &  2 &  3\\\\\n",
       "\t 3  & -1 & -3\\\\\n",
       "\t 2  &  3 &  1\\\\\n",
       "\\end{tabular}\n"
      ],
      "text/markdown": [
       "\n",
       "| 1  |  2 |  3 | \n",
       "| 3  | -1 | -3 | \n",
       "| 2  |  3 |  1 | \n",
       "\n",
       "\n"
      ],
      "text/plain": [
       "     [,1] [,2] [,3]\n",
       "[1,] 1     2    3  \n",
       "[2,] 3    -1   -3  \n",
       "[3,] 2     3    1  "
      ]
     },
     "metadata": {},
     "output_type": "display_data"
    }
   ],
   "source": [
    "solve.1"
   ]
  },
  {
   "cell_type": "code",
   "execution_count": 245,
   "metadata": {},
   "outputs": [],
   "source": [
    "solve.2 <- matrix(c(3,-1,4))"
   ]
  },
  {
   "cell_type": "code",
   "execution_count": 246,
   "metadata": {},
   "outputs": [
    {
     "data": {
      "text/html": [
       "<table>\n",
       "<tbody>\n",
       "\t<tr><td> 3</td></tr>\n",
       "\t<tr><td>-1</td></tr>\n",
       "\t<tr><td> 4</td></tr>\n",
       "</tbody>\n",
       "</table>\n"
      ],
      "text/latex": [
       "\\begin{tabular}{l}\n",
       "\t  3\\\\\n",
       "\t -1\\\\\n",
       "\t  4\\\\\n",
       "\\end{tabular}\n"
      ],
      "text/markdown": [
       "\n",
       "|  3 | \n",
       "| -1 | \n",
       "|  4 | \n",
       "\n",
       "\n"
      ],
      "text/plain": [
       "     [,1]\n",
       "[1,]  3  \n",
       "[2,] -1  \n",
       "[3,]  4  "
      ]
     },
     "metadata": {},
     "output_type": "display_data"
    }
   ],
   "source": [
    "solve.2"
   ]
  },
  {
   "cell_type": "code",
   "execution_count": 249,
   "metadata": {},
   "outputs": [
    {
     "data": {
      "text/html": [
       "<table>\n",
       "<tbody>\n",
       "\t<tr><td>0.2173913</td></tr>\n",
       "\t<tr><td>1.1304348</td></tr>\n",
       "\t<tr><td>0.1739130</td></tr>\n",
       "</tbody>\n",
       "</table>\n"
      ],
      "text/latex": [
       "\\begin{tabular}{l}\n",
       "\t 0.2173913\\\\\n",
       "\t 1.1304348\\\\\n",
       "\t 0.1739130\\\\\n",
       "\\end{tabular}\n"
      ],
      "text/markdown": [
       "\n",
       "| 0.2173913 | \n",
       "| 1.1304348 | \n",
       "| 0.1739130 | \n",
       "\n",
       "\n"
      ],
      "text/plain": [
       "     [,1]     \n",
       "[1,] 0.2173913\n",
       "[2,] 1.1304348\n",
       "[3,] 0.1739130"
      ]
     },
     "metadata": {},
     "output_type": "display_data"
    }
   ],
   "source": [
    "solve(solve.1,solve.2)"
   ]
  },
  {
   "cell_type": "markdown",
   "metadata": {},
   "source": [
    "# list"
   ]
  },
  {
   "cell_type": "code",
   "execution_count": 250,
   "metadata": {},
   "outputs": [],
   "source": [
    "list.1 <- list(\"홍길동\", c(1,2,3))"
   ]
  },
  {
   "cell_type": "code",
   "execution_count": 251,
   "metadata": {},
   "outputs": [
    {
     "data": {
      "text/html": [
       "<ol>\n",
       "\t<li>'홍길동'</li>\n",
       "\t<li><ol class=list-inline>\n",
       "\t<li>1</li>\n",
       "\t<li>2</li>\n",
       "\t<li>3</li>\n",
       "</ol>\n",
       "</li>\n",
       "</ol>\n"
      ],
      "text/latex": [
       "\\begin{enumerate}\n",
       "\\item '홍길동'\n",
       "\\item \\begin{enumerate*}\n",
       "\\item 1\n",
       "\\item 2\n",
       "\\item 3\n",
       "\\end{enumerate*}\n",
       "\n",
       "\\end{enumerate}\n"
      ],
      "text/markdown": [
       "1. '홍길동'\n",
       "2. 1. 1\n",
       "2. 2\n",
       "3. 3\n",
       "\n",
       "\n",
       "\n",
       "\n",
       "\n"
      ],
      "text/plain": [
       "[[1]]\n",
       "[1] \"홍길동\"\n",
       "\n",
       "[[2]]\n",
       "[1] 1 2 3\n"
      ]
     },
     "metadata": {},
     "output_type": "display_data"
    }
   ],
   "source": [
    "list.1"
   ]
  },
  {
   "cell_type": "code",
   "execution_count": 253,
   "metadata": {},
   "outputs": [],
   "source": [
    "list.2 <- list(\"홍길동\", c(1,2,3), solve.1, solve.2, matrix.X)"
   ]
  },
  {
   "cell_type": "code",
   "execution_count": 254,
   "metadata": {},
   "outputs": [
    {
     "data": {
      "text/html": [
       "<ol>\n",
       "\t<li>'홍길동'</li>\n",
       "\t<li><ol class=list-inline>\n",
       "\t<li>1</li>\n",
       "\t<li>2</li>\n",
       "\t<li>3</li>\n",
       "</ol>\n",
       "</li>\n",
       "\t<li><table>\n",
       "<tbody>\n",
       "\t<tr><td>1 </td><td> 2</td><td> 3</td></tr>\n",
       "\t<tr><td>3 </td><td>-1</td><td>-3</td></tr>\n",
       "\t<tr><td>2 </td><td> 3</td><td> 1</td></tr>\n",
       "</tbody>\n",
       "</table>\n",
       "</li>\n",
       "\t<li><table>\n",
       "<tbody>\n",
       "\t<tr><td> 3</td></tr>\n",
       "\t<tr><td>-1</td></tr>\n",
       "\t<tr><td> 4</td></tr>\n",
       "</tbody>\n",
       "</table>\n",
       "</li>\n",
       "\t<li><table>\n",
       "<tbody>\n",
       "\t<tr><td>29</td><td> 5</td><td>87</td><td>77</td><td>72</td></tr>\n",
       "\t<tr><td>79</td><td>50</td><td>98</td><td>21</td><td>55</td></tr>\n",
       "\t<tr><td>41</td><td>83</td><td>60</td><td> 4</td><td>90</td></tr>\n",
       "\t<tr><td>86</td><td>51</td><td>94</td><td>27</td><td>85</td></tr>\n",
       "\t<tr><td>91</td><td>42</td><td> 9</td><td>78</td><td>81</td></tr>\n",
       "</tbody>\n",
       "</table>\n",
       "</li>\n",
       "</ol>\n"
      ],
      "text/latex": [
       "\\begin{enumerate}\n",
       "\\item '홍길동'\n",
       "\\item \\begin{enumerate*}\n",
       "\\item 1\n",
       "\\item 2\n",
       "\\item 3\n",
       "\\end{enumerate*}\n",
       "\n",
       "\\item \\begin{tabular}{lll}\n",
       "\t 1  &  2 &  3\\\\\n",
       "\t 3  & -1 & -3\\\\\n",
       "\t 2  &  3 &  1\\\\\n",
       "\\end{tabular}\n",
       "\n",
       "\\item \\begin{tabular}{l}\n",
       "\t  3\\\\\n",
       "\t -1\\\\\n",
       "\t  4\\\\\n",
       "\\end{tabular}\n",
       "\n",
       "\\item \\begin{tabular}{lllll}\n",
       "\t 29 &  5 & 87 & 77 & 72\\\\\n",
       "\t 79 & 50 & 98 & 21 & 55\\\\\n",
       "\t 41 & 83 & 60 &  4 & 90\\\\\n",
       "\t 86 & 51 & 94 & 27 & 85\\\\\n",
       "\t 91 & 42 &  9 & 78 & 81\\\\\n",
       "\\end{tabular}\n",
       "\n",
       "\\end{enumerate}\n"
      ],
      "text/markdown": [
       "1. '홍길동'\n",
       "2. 1. 1\n",
       "2. 2\n",
       "3. 3\n",
       "\n",
       "\n",
       "\n",
       "3. \n",
       "| 1  |  2 |  3 | \n",
       "| 3  | -1 | -3 | \n",
       "| 2  |  3 |  1 | \n",
       "\n",
       "\n",
       "\n",
       "4. \n",
       "|  3 | \n",
       "| -1 | \n",
       "|  4 | \n",
       "\n",
       "\n",
       "\n",
       "5. \n",
       "| 29 |  5 | 87 | 77 | 72 | \n",
       "| 79 | 50 | 98 | 21 | 55 | \n",
       "| 41 | 83 | 60 |  4 | 90 | \n",
       "| 86 | 51 | 94 | 27 | 85 | \n",
       "| 91 | 42 |  9 | 78 | 81 | \n",
       "\n",
       "\n",
       "\n",
       "\n",
       "\n"
      ],
      "text/plain": [
       "[[1]]\n",
       "[1] \"홍길동\"\n",
       "\n",
       "[[2]]\n",
       "[1] 1 2 3\n",
       "\n",
       "[[3]]\n",
       "     [,1] [,2] [,3]\n",
       "[1,]    1    2    3\n",
       "[2,]    3   -1   -3\n",
       "[3,]    2    3    1\n",
       "\n",
       "[[4]]\n",
       "     [,1]\n",
       "[1,]    3\n",
       "[2,]   -1\n",
       "[3,]    4\n",
       "\n",
       "[[5]]\n",
       "     [,1] [,2] [,3] [,4] [,5]\n",
       "[1,]   29    5   87   77   72\n",
       "[2,]   79   50   98   21   55\n",
       "[3,]   41   83   60    4   90\n",
       "[4,]   86   51   94   27   85\n",
       "[5,]   91   42    9   78   81\n"
      ]
     },
     "metadata": {},
     "output_type": "display_data"
    }
   ],
   "source": [
    "list.2"
   ]
  },
  {
   "cell_type": "code",
   "execution_count": 256,
   "metadata": {},
   "outputs": [
    {
     "data": {
      "text/html": [
       "<ol>\n",
       "\t<li><table>\n",
       "<tbody>\n",
       "\t<tr><td>1 </td><td> 2</td><td> 3</td></tr>\n",
       "\t<tr><td>3 </td><td>-1</td><td>-3</td></tr>\n",
       "\t<tr><td>2 </td><td> 3</td><td> 1</td></tr>\n",
       "</tbody>\n",
       "</table>\n",
       "</li>\n",
       "</ol>\n"
      ],
      "text/latex": [
       "\\begin{enumerate}\n",
       "\\item \\begin{tabular}{lll}\n",
       "\t 1  &  2 &  3\\\\\n",
       "\t 3  & -1 & -3\\\\\n",
       "\t 2  &  3 &  1\\\\\n",
       "\\end{tabular}\n",
       "\n",
       "\\end{enumerate}\n"
      ],
      "text/markdown": [
       "1. \n",
       "| 1  |  2 |  3 | \n",
       "| 3  | -1 | -3 | \n",
       "| 2  |  3 |  1 | \n",
       "\n",
       "\n",
       "\n",
       "\n",
       "\n"
      ],
      "text/plain": [
       "[[1]]\n",
       "     [,1] [,2] [,3]\n",
       "[1,]    1    2    3\n",
       "[2,]    3   -1   -3\n",
       "[3,]    2    3    1\n"
      ]
     },
     "metadata": {},
     "output_type": "display_data"
    }
   ],
   "source": [
    "list.2[3]"
   ]
  },
  {
   "cell_type": "code",
   "execution_count": 258,
   "metadata": {},
   "outputs": [],
   "source": [
    "names(list.2) <- c(\"1번\", \"2번\", \"3번\", \"4번\", \"5번\")"
   ]
  },
  {
   "cell_type": "code",
   "execution_count": 259,
   "metadata": {},
   "outputs": [
    {
     "data": {
      "text/html": [
       "<dl>\n",
       "\t<dt>$`1번`</dt>\n",
       "\t\t<dd>'홍길동'</dd>\n",
       "\t<dt>$`2번`</dt>\n",
       "\t\t<dd><ol class=list-inline>\n",
       "\t<li>1</li>\n",
       "\t<li>2</li>\n",
       "\t<li>3</li>\n",
       "</ol>\n",
       "</dd>\n",
       "\t<dt>$`3번`</dt>\n",
       "\t\t<dd><table>\n",
       "<tbody>\n",
       "\t<tr><td>1 </td><td> 2</td><td> 3</td></tr>\n",
       "\t<tr><td>3 </td><td>-1</td><td>-3</td></tr>\n",
       "\t<tr><td>2 </td><td> 3</td><td> 1</td></tr>\n",
       "</tbody>\n",
       "</table>\n",
       "</dd>\n",
       "\t<dt>$`4번`</dt>\n",
       "\t\t<dd><table>\n",
       "<tbody>\n",
       "\t<tr><td> 3</td></tr>\n",
       "\t<tr><td>-1</td></tr>\n",
       "\t<tr><td> 4</td></tr>\n",
       "</tbody>\n",
       "</table>\n",
       "</dd>\n",
       "\t<dt>$`5번`</dt>\n",
       "\t\t<dd><table>\n",
       "<tbody>\n",
       "\t<tr><td>29</td><td> 5</td><td>87</td><td>77</td><td>72</td></tr>\n",
       "\t<tr><td>79</td><td>50</td><td>98</td><td>21</td><td>55</td></tr>\n",
       "\t<tr><td>41</td><td>83</td><td>60</td><td> 4</td><td>90</td></tr>\n",
       "\t<tr><td>86</td><td>51</td><td>94</td><td>27</td><td>85</td></tr>\n",
       "\t<tr><td>91</td><td>42</td><td> 9</td><td>78</td><td>81</td></tr>\n",
       "</tbody>\n",
       "</table>\n",
       "</dd>\n",
       "</dl>\n"
      ],
      "text/latex": [
       "\\begin{description}\n",
       "\\item[\\$`1번`] '홍길동'\n",
       "\\item[\\$`2번`] \\begin{enumerate*}\n",
       "\\item 1\n",
       "\\item 2\n",
       "\\item 3\n",
       "\\end{enumerate*}\n",
       "\n",
       "\\item[\\$`3번`] \\begin{tabular}{lll}\n",
       "\t 1  &  2 &  3\\\\\n",
       "\t 3  & -1 & -3\\\\\n",
       "\t 2  &  3 &  1\\\\\n",
       "\\end{tabular}\n",
       "\n",
       "\\item[\\$`4번`] \\begin{tabular}{l}\n",
       "\t  3\\\\\n",
       "\t -1\\\\\n",
       "\t  4\\\\\n",
       "\\end{tabular}\n",
       "\n",
       "\\item[\\$`5번`] \\begin{tabular}{lllll}\n",
       "\t 29 &  5 & 87 & 77 & 72\\\\\n",
       "\t 79 & 50 & 98 & 21 & 55\\\\\n",
       "\t 41 & 83 & 60 &  4 & 90\\\\\n",
       "\t 86 & 51 & 94 & 27 & 85\\\\\n",
       "\t 91 & 42 &  9 & 78 & 81\\\\\n",
       "\\end{tabular}\n",
       "\n",
       "\\end{description}\n"
      ],
      "text/markdown": [
       "$`1번`\n",
       ":   '홍길동'\n",
       "$`2번`\n",
       ":   1. 1\n",
       "2. 2\n",
       "3. 3\n",
       "\n",
       "\n",
       "\n",
       "$`3번`\n",
       ":   \n",
       "| 1  |  2 |  3 | \n",
       "| 3  | -1 | -3 | \n",
       "| 2  |  3 |  1 | \n",
       "\n",
       "\n",
       "\n",
       "$`4번`\n",
       ":   \n",
       "|  3 | \n",
       "| -1 | \n",
       "|  4 | \n",
       "\n",
       "\n",
       "\n",
       "$`5번`\n",
       ":   \n",
       "| 29 |  5 | 87 | 77 | 72 | \n",
       "| 79 | 50 | 98 | 21 | 55 | \n",
       "| 41 | 83 | 60 |  4 | 90 | \n",
       "| 86 | 51 | 94 | 27 | 85 | \n",
       "| 91 | 42 |  9 | 78 | 81 | \n",
       "\n",
       "\n",
       "\n",
       "\n",
       "\n"
      ],
      "text/plain": [
       "$`1번`\n",
       "[1] \"홍길동\"\n",
       "\n",
       "$`2번`\n",
       "[1] 1 2 3\n",
       "\n",
       "$`3번`\n",
       "     [,1] [,2] [,3]\n",
       "[1,]    1    2    3\n",
       "[2,]    3   -1   -3\n",
       "[3,]    2    3    1\n",
       "\n",
       "$`4번`\n",
       "     [,1]\n",
       "[1,]    3\n",
       "[2,]   -1\n",
       "[3,]    4\n",
       "\n",
       "$`5번`\n",
       "     [,1] [,2] [,3] [,4] [,5]\n",
       "[1,]   29    5   87   77   72\n",
       "[2,]   79   50   98   21   55\n",
       "[3,]   41   83   60    4   90\n",
       "[4,]   86   51   94   27   85\n",
       "[5,]   91   42    9   78   81\n"
      ]
     },
     "metadata": {},
     "output_type": "display_data"
    }
   ],
   "source": [
    "list.2"
   ]
  },
  {
   "cell_type": "markdown",
   "metadata": {},
   "source": [
    "# Factor"
   ]
  },
  {
   "cell_type": "code",
   "execution_count": 260,
   "metadata": {},
   "outputs": [],
   "source": [
    "Factor.1 <- c(\"very_bad\", \"bad\", \"normal\", \"good\", \"very_good\")"
   ]
  },
  {
   "cell_type": "code",
   "execution_count": 261,
   "metadata": {},
   "outputs": [
    {
     "data": {
      "text/html": [
       "'character'"
      ],
      "text/latex": [
       "'character'"
      ],
      "text/markdown": [
       "'character'"
      ],
      "text/plain": [
       "[1] \"character\""
      ]
     },
     "metadata": {},
     "output_type": "display_data"
    }
   ],
   "source": [
    "mode(Factor.1)"
   ]
  },
  {
   "cell_type": "code",
   "execution_count": 262,
   "metadata": {},
   "outputs": [
    {
     "data": {
      "text/html": [
       "FALSE"
      ],
      "text/latex": [
       "FALSE"
      ],
      "text/markdown": [
       "FALSE"
      ],
      "text/plain": [
       "[1] FALSE"
      ]
     },
     "metadata": {},
     "output_type": "display_data"
    }
   ],
   "source": [
    "is.factor(Factor.1)"
   ]
  },
  {
   "cell_type": "code",
   "execution_count": 265,
   "metadata": {},
   "outputs": [
    {
     "data": {
      "text/html": [
       "<ol class=list-inline>\n",
       "\t<li>'very_bad'</li>\n",
       "\t<li>'bad'</li>\n",
       "\t<li>'normal'</li>\n",
       "\t<li>'good'</li>\n",
       "\t<li>'very_good'</li>\n",
       "</ol>\n"
      ],
      "text/latex": [
       "\\begin{enumerate*}\n",
       "\\item 'very\\_bad'\n",
       "\\item 'bad'\n",
       "\\item 'normal'\n",
       "\\item 'good'\n",
       "\\item 'very\\_good'\n",
       "\\end{enumerate*}\n"
      ],
      "text/markdown": [
       "1. 'very_bad'\n",
       "2. 'bad'\n",
       "3. 'normal'\n",
       "4. 'good'\n",
       "5. 'very_good'\n",
       "\n",
       "\n"
      ],
      "text/plain": [
       "[1] \"very_bad\"  \"bad\"       \"normal\"    \"good\"      \"very_good\""
      ]
     },
     "metadata": {},
     "output_type": "display_data"
    }
   ],
   "source": [
    "Factor.1"
   ]
  },
  {
   "cell_type": "code",
   "execution_count": 263,
   "metadata": {},
   "outputs": [],
   "source": [
    "Factor.2 <- factor(c(\"very_bad\", \"bad\", \"normal\", \"good\", \"very_good\"))"
   ]
  },
  {
   "cell_type": "code",
   "execution_count": 267,
   "metadata": {},
   "outputs": [
    {
     "name": "stdout",
     "output_type": "stream",
     "text": [
      "[1] very_bad  bad       normal    good      very_good\n",
      "Levels: bad good normal very_bad very_good\n"
     ]
    }
   ],
   "source": [
    "print (Factor.2)"
   ]
  },
  {
   "cell_type": "code",
   "execution_count": 266,
   "metadata": {},
   "outputs": [
    {
     "data": {
      "text/html": [
       "TRUE"
      ],
      "text/latex": [
       "TRUE"
      ],
      "text/markdown": [
       "TRUE"
      ],
      "text/plain": [
       "[1] TRUE"
      ]
     },
     "metadata": {},
     "output_type": "display_data"
    }
   ],
   "source": [
    "is.factor(Factor.2)"
   ]
  },
  {
   "cell_type": "code",
   "execution_count": 268,
   "metadata": {},
   "outputs": [],
   "source": [
    "Factor.3 <- factor(c(\"A\", \"B\", \"C\", \"D\", \"F\"))"
   ]
  },
  {
   "cell_type": "code",
   "execution_count": 269,
   "metadata": {},
   "outputs": [
    {
     "name": "stdout",
     "output_type": "stream",
     "text": [
      "[1] A B C D F\n",
      "Levels: A B C D F\n"
     ]
    }
   ],
   "source": [
    "print (Factor.3)"
   ]
  },
  {
   "cell_type": "code",
   "execution_count": 271,
   "metadata": {},
   "outputs": [
    {
     "name": "stderr",
     "output_type": "stream",
     "text": [
      "Warning message in `[<-.factor`(`*tmp*`, 6, value = \"X\"):\n",
      "\"invalid factor level, NA generated\""
     ]
    }
   ],
   "source": [
    "Factor.3[6] <- \"X\""
   ]
  },
  {
   "cell_type": "code",
   "execution_count": 272,
   "metadata": {},
   "outputs": [
    {
     "data": {
      "text/html": [
       "<ol class=list-inline>\n",
       "\t<li>A</li>\n",
       "\t<li>B</li>\n",
       "\t<li>C</li>\n",
       "\t<li>D</li>\n",
       "\t<li>F</li>\n",
       "\t<li>&lt;NA&gt;</li>\n",
       "</ol>\n"
      ],
      "text/latex": [
       "\\begin{enumerate*}\n",
       "\\item A\n",
       "\\item B\n",
       "\\item C\n",
       "\\item D\n",
       "\\item F\n",
       "\\item <NA>\n",
       "\\end{enumerate*}\n"
      ],
      "text/markdown": [
       "1. A\n",
       "2. B\n",
       "3. C\n",
       "4. D\n",
       "5. F\n",
       "6. &lt;NA&gt;\n",
       "\n",
       "\n"
      ],
      "text/plain": [
       "[1] A    B    C    D    F    <NA>\n",
       "Levels: A B C D F"
      ]
     },
     "metadata": {},
     "output_type": "display_data"
    }
   ],
   "source": [
    "Factor.3"
   ]
  },
  {
   "cell_type": "code",
   "execution_count": 290,
   "metadata": {},
   "outputs": [],
   "source": [
    "gender <- factor(c(\"여\", \"여\", \"여\", \"남\", \"남\", \"여\", \"여\"))"
   ]
  },
  {
   "cell_type": "code",
   "execution_count": 291,
   "metadata": {},
   "outputs": [
    {
     "name": "stdout",
     "output_type": "stream",
     "text": [
      "[1] 여 여 여 남 남 여 여\n",
      "Levels: 남 여\n"
     ]
    }
   ],
   "source": [
    "print (gender)"
   ]
  },
  {
   "cell_type": "code",
   "execution_count": 295,
   "metadata": {},
   "outputs": [
    {
     "data": {
      "text/html": [
       "<ol class=list-inline>\n",
       "\t<li>2</li>\n",
       "\t<li>2</li>\n",
       "\t<li>2</li>\n",
       "\t<li>1</li>\n",
       "\t<li>1</li>\n",
       "\t<li>2</li>\n",
       "\t<li>2</li>\n",
       "</ol>\n"
      ],
      "text/latex": [
       "\\begin{enumerate*}\n",
       "\\item 2\n",
       "\\item 2\n",
       "\\item 2\n",
       "\\item 1\n",
       "\\item 1\n",
       "\\item 2\n",
       "\\item 2\n",
       "\\end{enumerate*}\n"
      ],
      "text/markdown": [
       "1. 2\n",
       "2. 2\n",
       "3. 2\n",
       "4. 1\n",
       "5. 1\n",
       "6. 2\n",
       "7. 2\n",
       "\n",
       "\n"
      ],
      "text/plain": [
       "[1] 2 2 2 1 1 2 2"
      ]
     },
     "metadata": {},
     "output_type": "display_data"
    }
   ],
   "source": [
    "as.double(gender)"
   ]
  },
  {
   "cell_type": "code",
   "execution_count": 292,
   "metadata": {},
   "outputs": [],
   "source": [
    "gender.2 <- factor(c(\"여\", \"여\", \"여\", \"남\", \"남\", \"여\", \"여\"), levels = c(\"여\", \"남\"))"
   ]
  },
  {
   "cell_type": "code",
   "execution_count": 293,
   "metadata": {},
   "outputs": [
    {
     "name": "stdout",
     "output_type": "stream",
     "text": [
      "[1] 여 여 여 남 남 여 여\n",
      "Levels: 여 남\n"
     ]
    }
   ],
   "source": [
    "print (gender.2)"
   ]
  },
  {
   "cell_type": "code",
   "execution_count": 294,
   "metadata": {},
   "outputs": [
    {
     "data": {
      "text/html": [
       "<ol class=list-inline>\n",
       "\t<li>1</li>\n",
       "\t<li>1</li>\n",
       "\t<li>1</li>\n",
       "\t<li>2</li>\n",
       "\t<li>2</li>\n",
       "\t<li>1</li>\n",
       "\t<li>1</li>\n",
       "</ol>\n"
      ],
      "text/latex": [
       "\\begin{enumerate*}\n",
       "\\item 1\n",
       "\\item 1\n",
       "\\item 1\n",
       "\\item 2\n",
       "\\item 2\n",
       "\\item 1\n",
       "\\item 1\n",
       "\\end{enumerate*}\n"
      ],
      "text/markdown": [
       "1. 1\n",
       "2. 1\n",
       "3. 1\n",
       "4. 2\n",
       "5. 2\n",
       "6. 1\n",
       "7. 1\n",
       "\n",
       "\n"
      ],
      "text/plain": [
       "[1] 1 1 1 2 2 1 1"
      ]
     },
     "metadata": {},
     "output_type": "display_data"
    }
   ],
   "source": [
    "as.double(gender.2)"
   ]
  },
  {
   "cell_type": "code",
   "execution_count": null,
   "metadata": {},
   "outputs": [],
   "source": []
  },
  {
   "cell_type": "code",
   "execution_count": 289,
   "metadata": {},
   "outputs": [
    {
     "name": "stdout",
     "output_type": "stream",
     "text": [
      "[1] 여 여 여 남 남 여 여\n",
      "Levels: 남 여\n"
     ]
    }
   ],
   "source": [
    "print (Factor.4)"
   ]
  },
  {
   "cell_type": "code",
   "execution_count": 279,
   "metadata": {},
   "outputs": [
    {
     "name": "stderr",
     "output_type": "stream",
     "text": [
      "Warning message in `[<-.factor`(`*tmp*`, 10, value = \"X\"):\n",
      "\"invalid factor level, NA generated\""
     ]
    }
   ],
   "source": [
    "gender[10] <- \"X\""
   ]
  },
  {
   "cell_type": "code",
   "execution_count": 281,
   "metadata": {},
   "outputs": [],
   "source": [
    "gender[10] <- \"남\""
   ]
  },
  {
   "cell_type": "code",
   "execution_count": 282,
   "metadata": {},
   "outputs": [
    {
     "data": {
      "text/html": [
       "<ol class=list-inline>\n",
       "\t<li>여</li>\n",
       "\t<li>여</li>\n",
       "\t<li>여</li>\n",
       "\t<li>남</li>\n",
       "\t<li>남</li>\n",
       "\t<li>여</li>\n",
       "\t<li>여</li>\n",
       "\t<li>&lt;NA&gt;</li>\n",
       "\t<li>&lt;NA&gt;</li>\n",
       "\t<li>남</li>\n",
       "</ol>\n"
      ],
      "text/latex": [
       "\\begin{enumerate*}\n",
       "\\item 여\n",
       "\\item 여\n",
       "\\item 여\n",
       "\\item 남\n",
       "\\item 남\n",
       "\\item 여\n",
       "\\item 여\n",
       "\\item <NA>\n",
       "\\item <NA>\n",
       "\\item 남\n",
       "\\end{enumerate*}\n"
      ],
      "text/markdown": [
       "1. 여\n",
       "2. 여\n",
       "3. 여\n",
       "4. 남\n",
       "5. 남\n",
       "6. 여\n",
       "7. 여\n",
       "8. &lt;NA&gt;\n",
       "9. &lt;NA&gt;\n",
       "10. 남\n",
       "\n",
       "\n"
      ],
      "text/plain": [
       " [1] 여   여   여   남   남   여   여   <NA> <NA> 남  \n",
       "Levels: 남 여"
      ]
     },
     "metadata": {},
     "output_type": "display_data"
    }
   ],
   "source": [
    "gender"
   ]
  },
  {
   "cell_type": "code",
   "execution_count": 283,
   "metadata": {},
   "outputs": [
    {
     "data": {
      "text/html": [
       "<ol class=list-inline>\n",
       "\t<li>'남'</li>\n",
       "\t<li>'여'</li>\n",
       "</ol>\n"
      ],
      "text/latex": [
       "\\begin{enumerate*}\n",
       "\\item '남'\n",
       "\\item '여'\n",
       "\\end{enumerate*}\n"
      ],
      "text/markdown": [
       "1. '남'\n",
       "2. '여'\n",
       "\n",
       "\n"
      ],
      "text/plain": [
       "[1] \"남\" \"여\""
      ]
     },
     "metadata": {},
     "output_type": "display_data"
    }
   ],
   "source": [
    "levels(gender)"
   ]
  },
  {
   "cell_type": "code",
   "execution_count": 284,
   "metadata": {},
   "outputs": [
    {
     "data": {
      "text/html": [
       "<ol class=list-inline>\n",
       "\t<li>'A'</li>\n",
       "\t<li>'B'</li>\n",
       "\t<li>'C'</li>\n",
       "\t<li>'D'</li>\n",
       "\t<li>'F'</li>\n",
       "</ol>\n"
      ],
      "text/latex": [
       "\\begin{enumerate*}\n",
       "\\item 'A'\n",
       "\\item 'B'\n",
       "\\item 'C'\n",
       "\\item 'D'\n",
       "\\item 'F'\n",
       "\\end{enumerate*}\n"
      ],
      "text/markdown": [
       "1. 'A'\n",
       "2. 'B'\n",
       "3. 'C'\n",
       "4. 'D'\n",
       "5. 'F'\n",
       "\n",
       "\n"
      ],
      "text/plain": [
       "[1] \"A\" \"B\" \"C\" \"D\" \"F\""
      ]
     },
     "metadata": {},
     "output_type": "display_data"
    }
   ],
   "source": [
    "levels(Factor.3)"
   ]
  },
  {
   "cell_type": "code",
   "execution_count": 285,
   "metadata": {},
   "outputs": [
    {
     "data": {
      "text/html": [
       "<ol class=list-inline>\n",
       "\t<li>2</li>\n",
       "\t<li>2</li>\n",
       "\t<li>2</li>\n",
       "\t<li>1</li>\n",
       "\t<li>1</li>\n",
       "\t<li>2</li>\n",
       "\t<li>2</li>\n",
       "\t<li>&lt;NA&gt;</li>\n",
       "\t<li>&lt;NA&gt;</li>\n",
       "\t<li>1</li>\n",
       "</ol>\n"
      ],
      "text/latex": [
       "\\begin{enumerate*}\n",
       "\\item 2\n",
       "\\item 2\n",
       "\\item 2\n",
       "\\item 1\n",
       "\\item 1\n",
       "\\item 2\n",
       "\\item 2\n",
       "\\item <NA>\n",
       "\\item <NA>\n",
       "\\item 1\n",
       "\\end{enumerate*}\n"
      ],
      "text/markdown": [
       "1. 2\n",
       "2. 2\n",
       "3. 2\n",
       "4. 1\n",
       "5. 1\n",
       "6. 2\n",
       "7. 2\n",
       "8. &lt;NA&gt;\n",
       "9. &lt;NA&gt;\n",
       "10. 1\n",
       "\n",
       "\n"
      ],
      "text/plain": [
       " [1]  2  2  2  1  1  2  2 NA NA  1"
      ]
     },
     "metadata": {},
     "output_type": "display_data"
    }
   ],
   "source": [
    "as.double(gender)"
   ]
  },
  {
   "cell_type": "code",
   "execution_count": 300,
   "metadata": {},
   "outputs": [],
   "source": [
    "test <- c(\"A\", \"B\", \"C\", \"D\", \"F\")"
   ]
  },
  {
   "cell_type": "code",
   "execution_count": 301,
   "metadata": {},
   "outputs": [
    {
     "data": {
      "text/html": [
       "<ol class=list-inline>\n",
       "\t<li>'A'</li>\n",
       "\t<li>'B'</li>\n",
       "\t<li>'C'</li>\n",
       "\t<li>'D'</li>\n",
       "\t<li>'F'</li>\n",
       "</ol>\n"
      ],
      "text/latex": [
       "\\begin{enumerate*}\n",
       "\\item 'A'\n",
       "\\item 'B'\n",
       "\\item 'C'\n",
       "\\item 'D'\n",
       "\\item 'F'\n",
       "\\end{enumerate*}\n"
      ],
      "text/markdown": [
       "1. 'A'\n",
       "2. 'B'\n",
       "3. 'C'\n",
       "4. 'D'\n",
       "5. 'F'\n",
       "\n",
       "\n"
      ],
      "text/plain": [
       "[1] \"A\" \"B\" \"C\" \"D\" \"F\""
      ]
     },
     "metadata": {},
     "output_type": "display_data"
    }
   ],
   "source": [
    "test"
   ]
  },
  {
   "cell_type": "code",
   "execution_count": 319,
   "metadata": {},
   "outputs": [],
   "source": [
    "set.seed(123)\n",
    "class.1 <- factor(sample(test, 50, replace = T), levels = c(\"F\", \"D\", \"C\",\n",
    "                                                           \"B\", \"A\"))"
   ]
  },
  {
   "cell_type": "code",
   "execution_count": 320,
   "metadata": {},
   "outputs": [
    {
     "name": "stdout",
     "output_type": "stream",
     "text": [
      " [1] B D C F F A C F C C F C D C A F B A B F F D D F D D C C B A F F D D A C D B\n",
      "[39] B B A C C B A A B C B F\n",
      "Levels: F D C B A\n"
     ]
    }
   ],
   "source": [
    "print (class.1)"
   ]
  },
  {
   "cell_type": "code",
   "execution_count": 323,
   "metadata": {},
   "outputs": [
    {
     "data": {
      "text/html": [
       "1.9"
      ],
      "text/latex": [
       "1.9"
      ],
      "text/markdown": [
       "1.9"
      ],
      "text/plain": [
       "[1] 1.9"
      ]
     },
     "metadata": {},
     "output_type": "display_data"
    }
   ],
   "source": [
    "mean(as.double(class.1) - 1)"
   ]
  },
  {
   "cell_type": "code",
   "execution_count": 315,
   "metadata": {},
   "outputs": [
    {
     "data": {
      "text/html": [
       "TRUE"
      ],
      "text/latex": [
       "TRUE"
      ],
      "text/markdown": [
       "TRUE"
      ],
      "text/plain": [
       "[1] TRUE"
      ]
     },
     "metadata": {},
     "output_type": "display_data"
    }
   ],
   "source": [
    "is.factor(class.1)"
   ]
  },
  {
   "cell_type": "code",
   "execution_count": 316,
   "metadata": {},
   "outputs": [
    {
     "name": "stdout",
     "output_type": "stream",
     "text": [
      " [1] B D C F F A C F C C F C D C A F B A B F F D D F D D C C B A F F D D A C D B\n",
      "[39] B B A C C B A A B C B F\n",
      "Levels: A B C D F\n"
     ]
    }
   ],
   "source": [
    "print (class.1)"
   ]
  },
  {
   "cell_type": "markdown",
   "metadata": {},
   "source": [
    "# Data.Frame"
   ]
  },
  {
   "cell_type": "markdown",
   "metadata": {},
   "source": [
    "### matrix는 모든 컬럼이 동일한 데이터 차입을 저장하는 것에 비해 data.frame은 다양한 데이터 타입을 저장할 수 있음"
   ]
  },
  {
   "cell_type": "code",
   "execution_count": 326,
   "metadata": {},
   "outputs": [
    {
     "name": "stdout",
     "output_type": "stream",
     "text": [
      "'data.frame':\t32 obs. of  11 variables:\n",
      " $ mpg : num  21 21 22.8 21.4 18.7 18.1 14.3 24.4 22.8 19.2 ...\n",
      " $ cyl : num  6 6 4 6 8 6 8 4 4 6 ...\n",
      " $ disp: num  160 160 108 258 360 ...\n",
      " $ hp  : num  110 110 93 110 175 105 245 62 95 123 ...\n",
      " $ drat: num  3.9 3.9 3.85 3.08 3.15 2.76 3.21 3.69 3.92 3.92 ...\n",
      " $ wt  : num  2.62 2.88 2.32 3.21 3.44 ...\n",
      " $ qsec: num  16.5 17 18.6 19.4 17 ...\n",
      " $ vs  : num  0 0 1 1 0 1 0 1 1 1 ...\n",
      " $ am  : num  1 1 1 0 0 0 0 0 0 0 ...\n",
      " $ gear: num  4 4 4 3 3 3 3 4 4 4 ...\n",
      " $ carb: num  4 4 1 1 2 1 4 2 2 4 ...\n"
     ]
    }
   ],
   "source": [
    "str(mtcars)"
   ]
  },
  {
   "cell_type": "code",
   "execution_count": 328,
   "metadata": {},
   "outputs": [
    {
     "name": "stdout",
     "output_type": "stream",
     "text": [
      "'data.frame':\t150 obs. of  5 variables:\n",
      " $ Sepal.Length: num  5.1 4.9 4.7 4.6 5 5.4 4.6 5 4.4 4.9 ...\n",
      " $ Sepal.Width : num  3.5 3 3.2 3.1 3.6 3.9 3.4 3.4 2.9 3.1 ...\n",
      " $ Petal.Length: num  1.4 1.4 1.3 1.5 1.4 1.7 1.4 1.5 1.4 1.5 ...\n",
      " $ Petal.Width : num  0.2 0.2 0.2 0.2 0.2 0.4 0.3 0.2 0.2 0.1 ...\n",
      " $ Species     : Factor w/ 3 levels \"setosa\",\"versicolor\",..: 1 1 1 1 1 1 1 1 1 1 ...\n"
     ]
    }
   ],
   "source": [
    "str(iris)"
   ]
  },
  {
   "cell_type": "code",
   "execution_count": 329,
   "metadata": {},
   "outputs": [
    {
     "data": {
      "text/html": [
       "<table>\n",
       "<thead><tr><th scope=col>Sepal.Length</th><th scope=col>Sepal.Width</th><th scope=col>Petal.Length</th><th scope=col>Petal.Width</th><th scope=col>Species</th></tr></thead>\n",
       "<tbody>\n",
       "\t<tr><td>5.1   </td><td>3.5   </td><td>1.4   </td><td>0.2   </td><td>setosa</td></tr>\n",
       "\t<tr><td>4.9   </td><td>3.0   </td><td>1.4   </td><td>0.2   </td><td>setosa</td></tr>\n",
       "\t<tr><td>4.7   </td><td>3.2   </td><td>1.3   </td><td>0.2   </td><td>setosa</td></tr>\n",
       "\t<tr><td>4.6   </td><td>3.1   </td><td>1.5   </td><td>0.2   </td><td>setosa</td></tr>\n",
       "\t<tr><td>5.0   </td><td>3.6   </td><td>1.4   </td><td>0.2   </td><td>setosa</td></tr>\n",
       "\t<tr><td>5.4   </td><td>3.9   </td><td>1.7   </td><td>0.4   </td><td>setosa</td></tr>\n",
       "\t<tr><td>4.6   </td><td>3.4   </td><td>1.4   </td><td>0.3   </td><td>setosa</td></tr>\n",
       "\t<tr><td>5.0   </td><td>3.4   </td><td>1.5   </td><td>0.2   </td><td>setosa</td></tr>\n",
       "\t<tr><td>4.4   </td><td>2.9   </td><td>1.4   </td><td>0.2   </td><td>setosa</td></tr>\n",
       "\t<tr><td>4.9   </td><td>3.1   </td><td>1.5   </td><td>0.1   </td><td>setosa</td></tr>\n",
       "\t<tr><td>5.4   </td><td>3.7   </td><td>1.5   </td><td>0.2   </td><td>setosa</td></tr>\n",
       "\t<tr><td>4.8   </td><td>3.4   </td><td>1.6   </td><td>0.2   </td><td>setosa</td></tr>\n",
       "\t<tr><td>4.8   </td><td>3.0   </td><td>1.4   </td><td>0.1   </td><td>setosa</td></tr>\n",
       "\t<tr><td>4.3   </td><td>3.0   </td><td>1.1   </td><td>0.1   </td><td>setosa</td></tr>\n",
       "\t<tr><td>5.8   </td><td>4.0   </td><td>1.2   </td><td>0.2   </td><td>setosa</td></tr>\n",
       "\t<tr><td>5.7   </td><td>4.4   </td><td>1.5   </td><td>0.4   </td><td>setosa</td></tr>\n",
       "\t<tr><td>5.4   </td><td>3.9   </td><td>1.3   </td><td>0.4   </td><td>setosa</td></tr>\n",
       "\t<tr><td>5.1   </td><td>3.5   </td><td>1.4   </td><td>0.3   </td><td>setosa</td></tr>\n",
       "\t<tr><td>5.7   </td><td>3.8   </td><td>1.7   </td><td>0.3   </td><td>setosa</td></tr>\n",
       "\t<tr><td>5.1   </td><td>3.8   </td><td>1.5   </td><td>0.3   </td><td>setosa</td></tr>\n",
       "\t<tr><td>5.4   </td><td>3.4   </td><td>1.7   </td><td>0.2   </td><td>setosa</td></tr>\n",
       "\t<tr><td>5.1   </td><td>3.7   </td><td>1.5   </td><td>0.4   </td><td>setosa</td></tr>\n",
       "\t<tr><td>4.6   </td><td>3.6   </td><td>1.0   </td><td>0.2   </td><td>setosa</td></tr>\n",
       "\t<tr><td>5.1   </td><td>3.3   </td><td>1.7   </td><td>0.5   </td><td>setosa</td></tr>\n",
       "\t<tr><td>4.8   </td><td>3.4   </td><td>1.9   </td><td>0.2   </td><td>setosa</td></tr>\n",
       "\t<tr><td>5.0   </td><td>3.0   </td><td>1.6   </td><td>0.2   </td><td>setosa</td></tr>\n",
       "\t<tr><td>5.0   </td><td>3.4   </td><td>1.6   </td><td>0.4   </td><td>setosa</td></tr>\n",
       "\t<tr><td>5.2   </td><td>3.5   </td><td>1.5   </td><td>0.2   </td><td>setosa</td></tr>\n",
       "\t<tr><td>5.2   </td><td>3.4   </td><td>1.4   </td><td>0.2   </td><td>setosa</td></tr>\n",
       "\t<tr><td>4.7   </td><td>3.2   </td><td>1.6   </td><td>0.2   </td><td>setosa</td></tr>\n",
       "\t<tr><td>...</td><td>...</td><td>...</td><td>...</td><td>...</td></tr>\n",
       "\t<tr><td>6.9      </td><td>3.2      </td><td>5.7      </td><td>2.3      </td><td>virginica</td></tr>\n",
       "\t<tr><td>5.6      </td><td>2.8      </td><td>4.9      </td><td>2.0      </td><td>virginica</td></tr>\n",
       "\t<tr><td>7.7      </td><td>2.8      </td><td>6.7      </td><td>2.0      </td><td>virginica</td></tr>\n",
       "\t<tr><td>6.3      </td><td>2.7      </td><td>4.9      </td><td>1.8      </td><td>virginica</td></tr>\n",
       "\t<tr><td>6.7      </td><td>3.3      </td><td>5.7      </td><td>2.1      </td><td>virginica</td></tr>\n",
       "\t<tr><td>7.2      </td><td>3.2      </td><td>6.0      </td><td>1.8      </td><td>virginica</td></tr>\n",
       "\t<tr><td>6.2      </td><td>2.8      </td><td>4.8      </td><td>1.8      </td><td>virginica</td></tr>\n",
       "\t<tr><td>6.1      </td><td>3.0      </td><td>4.9      </td><td>1.8      </td><td>virginica</td></tr>\n",
       "\t<tr><td>6.4      </td><td>2.8      </td><td>5.6      </td><td>2.1      </td><td>virginica</td></tr>\n",
       "\t<tr><td>7.2      </td><td>3.0      </td><td>5.8      </td><td>1.6      </td><td>virginica</td></tr>\n",
       "\t<tr><td>7.4      </td><td>2.8      </td><td>6.1      </td><td>1.9      </td><td>virginica</td></tr>\n",
       "\t<tr><td>7.9      </td><td>3.8      </td><td>6.4      </td><td>2.0      </td><td>virginica</td></tr>\n",
       "\t<tr><td>6.4      </td><td>2.8      </td><td>5.6      </td><td>2.2      </td><td>virginica</td></tr>\n",
       "\t<tr><td>6.3      </td><td>2.8      </td><td>5.1      </td><td>1.5      </td><td>virginica</td></tr>\n",
       "\t<tr><td>6.1      </td><td>2.6      </td><td>5.6      </td><td>1.4      </td><td>virginica</td></tr>\n",
       "\t<tr><td>7.7      </td><td>3.0      </td><td>6.1      </td><td>2.3      </td><td>virginica</td></tr>\n",
       "\t<tr><td>6.3      </td><td>3.4      </td><td>5.6      </td><td>2.4      </td><td>virginica</td></tr>\n",
       "\t<tr><td>6.4      </td><td>3.1      </td><td>5.5      </td><td>1.8      </td><td>virginica</td></tr>\n",
       "\t<tr><td>6.0      </td><td>3.0      </td><td>4.8      </td><td>1.8      </td><td>virginica</td></tr>\n",
       "\t<tr><td>6.9      </td><td>3.1      </td><td>5.4      </td><td>2.1      </td><td>virginica</td></tr>\n",
       "\t<tr><td>6.7      </td><td>3.1      </td><td>5.6      </td><td>2.4      </td><td>virginica</td></tr>\n",
       "\t<tr><td>6.9      </td><td>3.1      </td><td>5.1      </td><td>2.3      </td><td>virginica</td></tr>\n",
       "\t<tr><td>5.8      </td><td>2.7      </td><td>5.1      </td><td>1.9      </td><td>virginica</td></tr>\n",
       "\t<tr><td>6.8      </td><td>3.2      </td><td>5.9      </td><td>2.3      </td><td>virginica</td></tr>\n",
       "\t<tr><td>6.7      </td><td>3.3      </td><td>5.7      </td><td>2.5      </td><td>virginica</td></tr>\n",
       "\t<tr><td>6.7      </td><td>3.0      </td><td>5.2      </td><td>2.3      </td><td>virginica</td></tr>\n",
       "\t<tr><td>6.3      </td><td>2.5      </td><td>5.0      </td><td>1.9      </td><td>virginica</td></tr>\n",
       "\t<tr><td>6.5      </td><td>3.0      </td><td>5.2      </td><td>2.0      </td><td>virginica</td></tr>\n",
       "\t<tr><td>6.2      </td><td>3.4      </td><td>5.4      </td><td>2.3      </td><td>virginica</td></tr>\n",
       "\t<tr><td>5.9      </td><td>3.0      </td><td>5.1      </td><td>1.8      </td><td>virginica</td></tr>\n",
       "</tbody>\n",
       "</table>\n"
      ],
      "text/latex": [
       "\\begin{tabular}{r|lllll}\n",
       " Sepal.Length & Sepal.Width & Petal.Length & Petal.Width & Species\\\\\n",
       "\\hline\n",
       "\t 5.1    & 3.5    & 1.4    & 0.2    & setosa\\\\\n",
       "\t 4.9    & 3.0    & 1.4    & 0.2    & setosa\\\\\n",
       "\t 4.7    & 3.2    & 1.3    & 0.2    & setosa\\\\\n",
       "\t 4.6    & 3.1    & 1.5    & 0.2    & setosa\\\\\n",
       "\t 5.0    & 3.6    & 1.4    & 0.2    & setosa\\\\\n",
       "\t 5.4    & 3.9    & 1.7    & 0.4    & setosa\\\\\n",
       "\t 4.6    & 3.4    & 1.4    & 0.3    & setosa\\\\\n",
       "\t 5.0    & 3.4    & 1.5    & 0.2    & setosa\\\\\n",
       "\t 4.4    & 2.9    & 1.4    & 0.2    & setosa\\\\\n",
       "\t 4.9    & 3.1    & 1.5    & 0.1    & setosa\\\\\n",
       "\t 5.4    & 3.7    & 1.5    & 0.2    & setosa\\\\\n",
       "\t 4.8    & 3.4    & 1.6    & 0.2    & setosa\\\\\n",
       "\t 4.8    & 3.0    & 1.4    & 0.1    & setosa\\\\\n",
       "\t 4.3    & 3.0    & 1.1    & 0.1    & setosa\\\\\n",
       "\t 5.8    & 4.0    & 1.2    & 0.2    & setosa\\\\\n",
       "\t 5.7    & 4.4    & 1.5    & 0.4    & setosa\\\\\n",
       "\t 5.4    & 3.9    & 1.3    & 0.4    & setosa\\\\\n",
       "\t 5.1    & 3.5    & 1.4    & 0.3    & setosa\\\\\n",
       "\t 5.7    & 3.8    & 1.7    & 0.3    & setosa\\\\\n",
       "\t 5.1    & 3.8    & 1.5    & 0.3    & setosa\\\\\n",
       "\t 5.4    & 3.4    & 1.7    & 0.2    & setosa\\\\\n",
       "\t 5.1    & 3.7    & 1.5    & 0.4    & setosa\\\\\n",
       "\t 4.6    & 3.6    & 1.0    & 0.2    & setosa\\\\\n",
       "\t 5.1    & 3.3    & 1.7    & 0.5    & setosa\\\\\n",
       "\t 4.8    & 3.4    & 1.9    & 0.2    & setosa\\\\\n",
       "\t 5.0    & 3.0    & 1.6    & 0.2    & setosa\\\\\n",
       "\t 5.0    & 3.4    & 1.6    & 0.4    & setosa\\\\\n",
       "\t 5.2    & 3.5    & 1.5    & 0.2    & setosa\\\\\n",
       "\t 5.2    & 3.4    & 1.4    & 0.2    & setosa\\\\\n",
       "\t 4.7    & 3.2    & 1.6    & 0.2    & setosa\\\\\n",
       "\t ... & ... & ... & ... & ...\\\\\n",
       "\t 6.9       & 3.2       & 5.7       & 2.3       & virginica\\\\\n",
       "\t 5.6       & 2.8       & 4.9       & 2.0       & virginica\\\\\n",
       "\t 7.7       & 2.8       & 6.7       & 2.0       & virginica\\\\\n",
       "\t 6.3       & 2.7       & 4.9       & 1.8       & virginica\\\\\n",
       "\t 6.7       & 3.3       & 5.7       & 2.1       & virginica\\\\\n",
       "\t 7.2       & 3.2       & 6.0       & 1.8       & virginica\\\\\n",
       "\t 6.2       & 2.8       & 4.8       & 1.8       & virginica\\\\\n",
       "\t 6.1       & 3.0       & 4.9       & 1.8       & virginica\\\\\n",
       "\t 6.4       & 2.8       & 5.6       & 2.1       & virginica\\\\\n",
       "\t 7.2       & 3.0       & 5.8       & 1.6       & virginica\\\\\n",
       "\t 7.4       & 2.8       & 6.1       & 1.9       & virginica\\\\\n",
       "\t 7.9       & 3.8       & 6.4       & 2.0       & virginica\\\\\n",
       "\t 6.4       & 2.8       & 5.6       & 2.2       & virginica\\\\\n",
       "\t 6.3       & 2.8       & 5.1       & 1.5       & virginica\\\\\n",
       "\t 6.1       & 2.6       & 5.6       & 1.4       & virginica\\\\\n",
       "\t 7.7       & 3.0       & 6.1       & 2.3       & virginica\\\\\n",
       "\t 6.3       & 3.4       & 5.6       & 2.4       & virginica\\\\\n",
       "\t 6.4       & 3.1       & 5.5       & 1.8       & virginica\\\\\n",
       "\t 6.0       & 3.0       & 4.8       & 1.8       & virginica\\\\\n",
       "\t 6.9       & 3.1       & 5.4       & 2.1       & virginica\\\\\n",
       "\t 6.7       & 3.1       & 5.6       & 2.4       & virginica\\\\\n",
       "\t 6.9       & 3.1       & 5.1       & 2.3       & virginica\\\\\n",
       "\t 5.8       & 2.7       & 5.1       & 1.9       & virginica\\\\\n",
       "\t 6.8       & 3.2       & 5.9       & 2.3       & virginica\\\\\n",
       "\t 6.7       & 3.3       & 5.7       & 2.5       & virginica\\\\\n",
       "\t 6.7       & 3.0       & 5.2       & 2.3       & virginica\\\\\n",
       "\t 6.3       & 2.5       & 5.0       & 1.9       & virginica\\\\\n",
       "\t 6.5       & 3.0       & 5.2       & 2.0       & virginica\\\\\n",
       "\t 6.2       & 3.4       & 5.4       & 2.3       & virginica\\\\\n",
       "\t 5.9       & 3.0       & 5.1       & 1.8       & virginica\\\\\n",
       "\\end{tabular}\n"
      ],
      "text/markdown": [
       "\n",
       "Sepal.Length | Sepal.Width | Petal.Length | Petal.Width | Species | \n",
       "|---|---|---|---|---|---|---|---|---|---|---|---|---|---|---|---|---|---|---|---|---|---|---|---|---|---|---|---|---|---|---|---|---|---|---|---|---|---|---|---|---|---|---|---|---|---|---|---|---|---|---|---|---|---|---|---|---|---|---|---|---|\n",
       "| 5.1    | 3.5    | 1.4    | 0.2    | setosa | \n",
       "| 4.9    | 3.0    | 1.4    | 0.2    | setosa | \n",
       "| 4.7    | 3.2    | 1.3    | 0.2    | setosa | \n",
       "| 4.6    | 3.1    | 1.5    | 0.2    | setosa | \n",
       "| 5.0    | 3.6    | 1.4    | 0.2    | setosa | \n",
       "| 5.4    | 3.9    | 1.7    | 0.4    | setosa | \n",
       "| 4.6    | 3.4    | 1.4    | 0.3    | setosa | \n",
       "| 5.0    | 3.4    | 1.5    | 0.2    | setosa | \n",
       "| 4.4    | 2.9    | 1.4    | 0.2    | setosa | \n",
       "| 4.9    | 3.1    | 1.5    | 0.1    | setosa | \n",
       "| 5.4    | 3.7    | 1.5    | 0.2    | setosa | \n",
       "| 4.8    | 3.4    | 1.6    | 0.2    | setosa | \n",
       "| 4.8    | 3.0    | 1.4    | 0.1    | setosa | \n",
       "| 4.3    | 3.0    | 1.1    | 0.1    | setosa | \n",
       "| 5.8    | 4.0    | 1.2    | 0.2    | setosa | \n",
       "| 5.7    | 4.4    | 1.5    | 0.4    | setosa | \n",
       "| 5.4    | 3.9    | 1.3    | 0.4    | setosa | \n",
       "| 5.1    | 3.5    | 1.4    | 0.3    | setosa | \n",
       "| 5.7    | 3.8    | 1.7    | 0.3    | setosa | \n",
       "| 5.1    | 3.8    | 1.5    | 0.3    | setosa | \n",
       "| 5.4    | 3.4    | 1.7    | 0.2    | setosa | \n",
       "| 5.1    | 3.7    | 1.5    | 0.4    | setosa | \n",
       "| 4.6    | 3.6    | 1.0    | 0.2    | setosa | \n",
       "| 5.1    | 3.3    | 1.7    | 0.5    | setosa | \n",
       "| 4.8    | 3.4    | 1.9    | 0.2    | setosa | \n",
       "| 5.0    | 3.0    | 1.6    | 0.2    | setosa | \n",
       "| 5.0    | 3.4    | 1.6    | 0.4    | setosa | \n",
       "| 5.2    | 3.5    | 1.5    | 0.2    | setosa | \n",
       "| 5.2    | 3.4    | 1.4    | 0.2    | setosa | \n",
       "| 4.7    | 3.2    | 1.6    | 0.2    | setosa | \n",
       "| ... | ... | ... | ... | ... | \n",
       "| 6.9       | 3.2       | 5.7       | 2.3       | virginica | \n",
       "| 5.6       | 2.8       | 4.9       | 2.0       | virginica | \n",
       "| 7.7       | 2.8       | 6.7       | 2.0       | virginica | \n",
       "| 6.3       | 2.7       | 4.9       | 1.8       | virginica | \n",
       "| 6.7       | 3.3       | 5.7       | 2.1       | virginica | \n",
       "| 7.2       | 3.2       | 6.0       | 1.8       | virginica | \n",
       "| 6.2       | 2.8       | 4.8       | 1.8       | virginica | \n",
       "| 6.1       | 3.0       | 4.9       | 1.8       | virginica | \n",
       "| 6.4       | 2.8       | 5.6       | 2.1       | virginica | \n",
       "| 7.2       | 3.0       | 5.8       | 1.6       | virginica | \n",
       "| 7.4       | 2.8       | 6.1       | 1.9       | virginica | \n",
       "| 7.9       | 3.8       | 6.4       | 2.0       | virginica | \n",
       "| 6.4       | 2.8       | 5.6       | 2.2       | virginica | \n",
       "| 6.3       | 2.8       | 5.1       | 1.5       | virginica | \n",
       "| 6.1       | 2.6       | 5.6       | 1.4       | virginica | \n",
       "| 7.7       | 3.0       | 6.1       | 2.3       | virginica | \n",
       "| 6.3       | 3.4       | 5.6       | 2.4       | virginica | \n",
       "| 6.4       | 3.1       | 5.5       | 1.8       | virginica | \n",
       "| 6.0       | 3.0       | 4.8       | 1.8       | virginica | \n",
       "| 6.9       | 3.1       | 5.4       | 2.1       | virginica | \n",
       "| 6.7       | 3.1       | 5.6       | 2.4       | virginica | \n",
       "| 6.9       | 3.1       | 5.1       | 2.3       | virginica | \n",
       "| 5.8       | 2.7       | 5.1       | 1.9       | virginica | \n",
       "| 6.8       | 3.2       | 5.9       | 2.3       | virginica | \n",
       "| 6.7       | 3.3       | 5.7       | 2.5       | virginica | \n",
       "| 6.7       | 3.0       | 5.2       | 2.3       | virginica | \n",
       "| 6.3       | 2.5       | 5.0       | 1.9       | virginica | \n",
       "| 6.5       | 3.0       | 5.2       | 2.0       | virginica | \n",
       "| 6.2       | 3.4       | 5.4       | 2.3       | virginica | \n",
       "| 5.9       | 3.0       | 5.1       | 1.8       | virginica | \n",
       "\n",
       "\n"
      ],
      "text/plain": [
       "    Sepal.Length Sepal.Width Petal.Length Petal.Width Species  \n",
       "1   5.1          3.5         1.4          0.2         setosa   \n",
       "2   4.9          3.0         1.4          0.2         setosa   \n",
       "3   4.7          3.2         1.3          0.2         setosa   \n",
       "4   4.6          3.1         1.5          0.2         setosa   \n",
       "5   5.0          3.6         1.4          0.2         setosa   \n",
       "6   5.4          3.9         1.7          0.4         setosa   \n",
       "7   4.6          3.4         1.4          0.3         setosa   \n",
       "8   5.0          3.4         1.5          0.2         setosa   \n",
       "9   4.4          2.9         1.4          0.2         setosa   \n",
       "10  4.9          3.1         1.5          0.1         setosa   \n",
       "11  5.4          3.7         1.5          0.2         setosa   \n",
       "12  4.8          3.4         1.6          0.2         setosa   \n",
       "13  4.8          3.0         1.4          0.1         setosa   \n",
       "14  4.3          3.0         1.1          0.1         setosa   \n",
       "15  5.8          4.0         1.2          0.2         setosa   \n",
       "16  5.7          4.4         1.5          0.4         setosa   \n",
       "17  5.4          3.9         1.3          0.4         setosa   \n",
       "18  5.1          3.5         1.4          0.3         setosa   \n",
       "19  5.7          3.8         1.7          0.3         setosa   \n",
       "20  5.1          3.8         1.5          0.3         setosa   \n",
       "21  5.4          3.4         1.7          0.2         setosa   \n",
       "22  5.1          3.7         1.5          0.4         setosa   \n",
       "23  4.6          3.6         1.0          0.2         setosa   \n",
       "24  5.1          3.3         1.7          0.5         setosa   \n",
       "25  4.8          3.4         1.9          0.2         setosa   \n",
       "26  5.0          3.0         1.6          0.2         setosa   \n",
       "27  5.0          3.4         1.6          0.4         setosa   \n",
       "28  5.2          3.5         1.5          0.2         setosa   \n",
       "29  5.2          3.4         1.4          0.2         setosa   \n",
       "30  4.7          3.2         1.6          0.2         setosa   \n",
       "... ...          ...         ...          ...         ...      \n",
       "121 6.9          3.2         5.7          2.3         virginica\n",
       "122 5.6          2.8         4.9          2.0         virginica\n",
       "123 7.7          2.8         6.7          2.0         virginica\n",
       "124 6.3          2.7         4.9          1.8         virginica\n",
       "125 6.7          3.3         5.7          2.1         virginica\n",
       "126 7.2          3.2         6.0          1.8         virginica\n",
       "127 6.2          2.8         4.8          1.8         virginica\n",
       "128 6.1          3.0         4.9          1.8         virginica\n",
       "129 6.4          2.8         5.6          2.1         virginica\n",
       "130 7.2          3.0         5.8          1.6         virginica\n",
       "131 7.4          2.8         6.1          1.9         virginica\n",
       "132 7.9          3.8         6.4          2.0         virginica\n",
       "133 6.4          2.8         5.6          2.2         virginica\n",
       "134 6.3          2.8         5.1          1.5         virginica\n",
       "135 6.1          2.6         5.6          1.4         virginica\n",
       "136 7.7          3.0         6.1          2.3         virginica\n",
       "137 6.3          3.4         5.6          2.4         virginica\n",
       "138 6.4          3.1         5.5          1.8         virginica\n",
       "139 6.0          3.0         4.8          1.8         virginica\n",
       "140 6.9          3.1         5.4          2.1         virginica\n",
       "141 6.7          3.1         5.6          2.4         virginica\n",
       "142 6.9          3.1         5.1          2.3         virginica\n",
       "143 5.8          2.7         5.1          1.9         virginica\n",
       "144 6.8          3.2         5.9          2.3         virginica\n",
       "145 6.7          3.3         5.7          2.5         virginica\n",
       "146 6.7          3.0         5.2          2.3         virginica\n",
       "147 6.3          2.5         5.0          1.9         virginica\n",
       "148 6.5          3.0         5.2          2.0         virginica\n",
       "149 6.2          3.4         5.4          2.3         virginica\n",
       "150 5.9          3.0         5.1          1.8         virginica"
      ]
     },
     "metadata": {},
     "output_type": "display_data"
    }
   ],
   "source": [
    "iris"
   ]
  },
  {
   "cell_type": "code",
   "execution_count": 330,
   "metadata": {},
   "outputs": [],
   "source": [
    "vX1 <- c(T, F,T)"
   ]
  },
  {
   "cell_type": "code",
   "execution_count": 333,
   "metadata": {},
   "outputs": [],
   "source": [
    "vX2 <- rnorm(3)"
   ]
  },
  {
   "cell_type": "code",
   "execution_count": 334,
   "metadata": {},
   "outputs": [
    {
     "data": {
      "text/html": [
       "<ol class=list-inline>\n",
       "\t<li>-1.13813693701195</li>\n",
       "\t<li>1.25381492106993</li>\n",
       "\t<li>0.426464221476814</li>\n",
       "</ol>\n"
      ],
      "text/latex": [
       "\\begin{enumerate*}\n",
       "\\item -1.13813693701195\n",
       "\\item 1.25381492106993\n",
       "\\item 0.426464221476814\n",
       "\\end{enumerate*}\n"
      ],
      "text/markdown": [
       "1. -1.13813693701195\n",
       "2. 1.25381492106993\n",
       "3. 0.426464221476814\n",
       "\n",
       "\n"
      ],
      "text/plain": [
       "[1] -1.1381369  1.2538149  0.4264642"
      ]
     },
     "metadata": {},
     "output_type": "display_data"
    }
   ],
   "source": [
    "vX2"
   ]
  },
  {
   "cell_type": "code",
   "execution_count": 336,
   "metadata": {},
   "outputs": [],
   "source": [
    "df.1 <- data.frame(logic= vX1, value = vX2)"
   ]
  },
  {
   "cell_type": "code",
   "execution_count": 339,
   "metadata": {},
   "outputs": [
    {
     "data": {
      "text/html": [
       "<ol class=list-inline>\n",
       "\t<li>150</li>\n",
       "\t<li>5</li>\n",
       "</ol>\n"
      ],
      "text/latex": [
       "\\begin{enumerate*}\n",
       "\\item 150\n",
       "\\item 5\n",
       "\\end{enumerate*}\n"
      ],
      "text/markdown": [
       "1. 150\n",
       "2. 5\n",
       "\n",
       "\n"
      ],
      "text/plain": [
       "[1] 150   5"
      ]
     },
     "metadata": {},
     "output_type": "display_data"
    }
   ],
   "source": [
    "dim(iris)"
   ]
  },
  {
   "cell_type": "code",
   "execution_count": 344,
   "metadata": {},
   "outputs": [
    {
     "data": {
      "text/html": [
       "<table>\n",
       "<thead><tr><th scope=col>Sepal.Length</th><th scope=col>Sepal.Width</th><th scope=col>Petal.Length</th><th scope=col>Petal.Width</th><th scope=col>Species</th></tr></thead>\n",
       "<tbody>\n",
       "\t<tr><td>5.1   </td><td>3.5   </td><td>1.4   </td><td>0.2   </td><td>setosa</td></tr>\n",
       "</tbody>\n",
       "</table>\n"
      ],
      "text/latex": [
       "\\begin{tabular}{r|lllll}\n",
       " Sepal.Length & Sepal.Width & Petal.Length & Petal.Width & Species\\\\\n",
       "\\hline\n",
       "\t 5.1    & 3.5    & 1.4    & 0.2    & setosa\\\\\n",
       "\\end{tabular}\n"
      ],
      "text/markdown": [
       "\n",
       "Sepal.Length | Sepal.Width | Petal.Length | Petal.Width | Species | \n",
       "|---|\n",
       "| 5.1    | 3.5    | 1.4    | 0.2    | setosa | \n",
       "\n",
       "\n"
      ],
      "text/plain": [
       "  Sepal.Length Sepal.Width Petal.Length Petal.Width Species\n",
       "1 5.1          3.5         1.4          0.2         setosa "
      ]
     },
     "metadata": {},
     "output_type": "display_data"
    }
   ],
   "source": [
    "head(iris, 1)"
   ]
  },
  {
   "cell_type": "code",
   "execution_count": 345,
   "metadata": {},
   "outputs": [
    {
     "data": {
      "text/html": [
       "<table>\n",
       "<thead><tr><th></th><th scope=col>Sepal.Length</th><th scope=col>Sepal.Width</th><th scope=col>Petal.Length</th><th scope=col>Petal.Width</th><th scope=col>Species</th></tr></thead>\n",
       "<tbody>\n",
       "\t<tr><th scope=row>150</th><td>5.9      </td><td>3        </td><td>5.1      </td><td>1.8      </td><td>virginica</td></tr>\n",
       "</tbody>\n",
       "</table>\n"
      ],
      "text/latex": [
       "\\begin{tabular}{r|lllll}\n",
       "  & Sepal.Length & Sepal.Width & Petal.Length & Petal.Width & Species\\\\\n",
       "\\hline\n",
       "\t150 & 5.9       & 3         & 5.1       & 1.8       & virginica\\\\\n",
       "\\end{tabular}\n"
      ],
      "text/markdown": [
       "\n",
       "| <!--/--> | Sepal.Length | Sepal.Width | Petal.Length | Petal.Width | Species | \n",
       "|---|\n",
       "| 150 | 5.9       | 3         | 5.1       | 1.8       | virginica | \n",
       "\n",
       "\n"
      ],
      "text/plain": [
       "    Sepal.Length Sepal.Width Petal.Length Petal.Width Species  \n",
       "150 5.9          3           5.1          1.8         virginica"
      ]
     },
     "metadata": {},
     "output_type": "display_data"
    }
   ],
   "source": [
    "tail(iris,1)"
   ]
  },
  {
   "cell_type": "code",
   "execution_count": 352,
   "metadata": {},
   "outputs": [],
   "source": [
    "df.2 <- data.frame(x = c(1:5), y=seq(1,10,2), z=c(\"M\", \"F\", \"M\", \"F\", \"M\"), \n",
    "                   stringsAsFactors = F)"
   ]
  },
  {
   "cell_type": "code",
   "execution_count": 353,
   "metadata": {},
   "outputs": [
    {
     "name": "stdout",
     "output_type": "stream",
     "text": [
      "'data.frame':\t5 obs. of  3 variables:\n",
      " $ x: int  1 2 3 4 5\n",
      " $ y: num  1 3 5 7 9\n",
      " $ z: chr  \"M\" \"F\" \"M\" \"F\" ...\n"
     ]
    }
   ],
   "source": [
    "str(df.2)"
   ]
  },
  {
   "cell_type": "code",
   "execution_count": null,
   "metadata": {},
   "outputs": [],
   "source": []
  }
 ],
 "metadata": {
  "kernelspec": {
   "display_name": "R",
   "language": "R",
   "name": "ir"
  },
  "language_info": {
   "codemirror_mode": "r",
   "file_extension": ".r",
   "mimetype": "text/x-r-source",
   "name": "R",
   "pygments_lexer": "r",
   "version": "3.4.3"
  }
 },
 "nbformat": 4,
 "nbformat_minor": 2
}
