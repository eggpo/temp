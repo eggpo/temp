{
 "cells": [
  {
   "cell_type": "code",
   "execution_count": 1,
   "metadata": {},
   "outputs": [
    {
     "data": {
      "text/plain": [
       "   Min. 1st Qu.  Median    Mean 3rd Qu.    Max. \n",
       "  10.40   15.43   19.20   20.09   22.80   33.90 "
      ]
     },
     "metadata": {},
     "output_type": "display_data"
    }
   ],
   "source": [
    "summary(mtcars$mpg)"
   ]
  },
  {
   "cell_type": "code",
   "execution_count": 2,
   "metadata": {},
   "outputs": [
    {
     "data": {
      "image/png": "[encoded data removed]",
      "text/plain": [
       "plot without title"
      ]
     },
     "metadata": {},
     "output_type": "display_data"
    }
   ],
   "source": [
    "plot(mtcars$wt, mtcars$mpg)"
   ]
  },
  {
   "cell_type": "code",
   "execution_count": 3,
   "metadata": {},
   "outputs": [],
   "source": [
    "attach(mtcars)"
   ]
  },
  {
   "cell_type": "code",
   "execution_count": 4,
   "metadata": {},
   "outputs": [
    {
     "data": {
      "text/plain": [
       "   Min. 1st Qu.  Median    Mean 3rd Qu.    Max. \n",
       "  10.40   15.43   19.20   20.09   22.80   33.90 "
      ]
     },
     "metadata": {},
     "output_type": "display_data"
    }
   ],
   "source": [
    "summary(mpg)"
   ]
  },
  {
   "cell_type": "code",
   "execution_count": 5,
   "metadata": {},
   "outputs": [
    {
     "data": {
      "image/png": "[encoded data removed]",
      "text/plain": [
       "plot without title"
      ]
     },
     "metadata": {},
     "output_type": "display_data"
    }
   ],
   "source": [
    "plot(wt, mpg)"
   ]
  },
  {
   "cell_type": "code",
   "execution_count": 7,
   "metadata": {},
   "outputs": [],
   "source": [
    "detach(mtcars)"
   ]
  },
  {
   "cell_type": "code",
   "execution_count": 8,
   "metadata": {},
   "outputs": [],
   "source": [
    "attach(mtcars)"
   ]
  },
  {
   "cell_type": "code",
   "execution_count": 9,
   "metadata": {},
   "outputs": [
    {
     "data": {
      "text/html": [
       "20.090625"
      ],
      "text/latex": [
       "20.090625"
      ],
      "text/markdown": [
       "20.090625"
      ],
      "text/plain": [
       "[1] 20.09062"
      ]
     },
     "metadata": {},
     "output_type": "display_data"
    }
   ],
   "source": [
    "mean(mpg)"
   ]
  },
  {
   "cell_type": "code",
   "execution_count": 10,
   "metadata": {},
   "outputs": [
    {
     "data": {
      "text/html": [
       "19.9533333333333"
      ],
      "text/latex": [
       "19.9533333333333"
      ],
      "text/markdown": [
       "19.9533333333333"
      ],
      "text/plain": [
       "[1] 19.95333"
      ]
     },
     "metadata": {},
     "output_type": "display_data"
    }
   ],
   "source": [
    "mean(mpg, trim=0.05)"
   ]
  },
  {
   "cell_type": "code",
   "execution_count": 11,
   "metadata": {},
   "outputs": [
    {
     "data": {
      "text/html": [
       "19.6961538461538"
      ],
      "text/latex": [
       "19.6961538461538"
      ],
      "text/markdown": [
       "19.6961538461538"
      ],
      "text/plain": [
       "[1] 19.69615"
      ]
     },
     "metadata": {},
     "output_type": "display_data"
    }
   ],
   "source": [
    "mean(mpg, trim=0.1)"
   ]
  },
  {
   "cell_type": "code",
   "execution_count": 12,
   "metadata": {},
   "outputs": [],
   "source": [
    "detach(mtcars)"
   ]
  },
  {
   "cell_type": "code",
   "execution_count": 13,
   "metadata": {},
   "outputs": [],
   "source": [
    "vars <- c(\"mpg\", \"hp\", \"wt\")"
   ]
  },
  {
   "cell_type": "code",
   "execution_count": 14,
   "metadata": {},
   "outputs": [
    {
     "data": {
      "text/html": [
       "<dl class=dl-horizontal>\n",
       "\t<dt>mpg</dt>\n",
       "\t\t<dd>20.090625</dd>\n",
       "\t<dt>hp</dt>\n",
       "\t\t<dd>146.6875</dd>\n",
       "\t<dt>wt</dt>\n",
       "\t\t<dd>3.21725</dd>\n",
       "</dl>\n"
      ],
      "text/latex": [
       "\\begin{description*}\n",
       "\\item[mpg] 20.090625\n",
       "\\item[hp] 146.6875\n",
       "\\item[wt] 3.21725\n",
       "\\end{description*}\n"
      ],
      "text/markdown": [
       "mpg\n",
       ":   20.090625hp\n",
       ":   146.6875wt\n",
       ":   3.21725\n",
       "\n"
      ],
      "text/plain": [
       "      mpg        hp        wt \n",
       " 20.09062 146.68750   3.21725 "
      ]
     },
     "metadata": {},
     "output_type": "display_data"
    }
   ],
   "source": [
    "colMeans(mtcars[vars])"
   ]
  },
  {
   "cell_type": "code",
   "execution_count": 18,
   "metadata": {},
   "outputs": [],
   "source": [
    "attach(mtcars)"
   ]
  },
  {
   "cell_type": "code",
   "execution_count": 19,
   "metadata": {},
   "outputs": [
    {
     "data": {
      "text/html": [
       "19.2"
      ],
      "text/latex": [
       "19.2"
      ],
      "text/markdown": [
       "19.2"
      ],
      "text/plain": [
       "[1] 19.2"
      ]
     },
     "metadata": {},
     "output_type": "display_data"
    }
   ],
   "source": [
    "median(mpg)"
   ]
  },
  {
   "cell_type": "code",
   "execution_count": 20,
   "metadata": {},
   "outputs": [
    {
     "data": {
      "text/html": [
       "<dl class=dl-horizontal>\n",
       "\t<dt>10%</dt>\n",
       "\t\t<dd>14.34</dd>\n",
       "\t<dt>50%</dt>\n",
       "\t\t<dd>19.2</dd>\n",
       "\t<dt>90%</dt>\n",
       "\t\t<dd>30.09</dd>\n",
       "</dl>\n"
      ],
      "text/latex": [
       "\\begin{description*}\n",
       "\\item[10\\textbackslash{}\\%] 14.34\n",
       "\\item[50\\textbackslash{}\\%] 19.2\n",
       "\\item[90\\textbackslash{}\\%] 30.09\n",
       "\\end{description*}\n"
      ],
      "text/markdown": [
       "10%\n",
       ":   14.3450%\n",
       ":   19.290%\n",
       ":   30.09\n",
       "\n"
      ],
      "text/plain": [
       "  10%   50%   90% \n",
       "14.34 19.20 30.09 "
      ]
     },
     "metadata": {},
     "output_type": "display_data"
    }
   ],
   "source": [
    "quantile(mpg, probs=c(0.1, 0.5, 0.9))"
   ]
  },
  {
   "cell_type": "code",
   "execution_count": 21,
   "metadata": {},
   "outputs": [],
   "source": [
    "detach(mtcars)"
   ]
  },
  {
   "cell_type": "code",
   "execution_count": 22,
   "metadata": {},
   "outputs": [],
   "source": [
    "vars <- c(\"mpg\", \"hp\", \"wt\")"
   ]
  },
  {
   "cell_type": "code",
   "execution_count": 24,
   "metadata": {},
   "outputs": [
    {
     "data": {
      "text/html": [
       "<dl class=dl-horizontal>\n",
       "\t<dt>mpg</dt>\n",
       "\t\t<dd>19.2</dd>\n",
       "\t<dt>hp</dt>\n",
       "\t\t<dd>123</dd>\n",
       "\t<dt>wt</dt>\n",
       "\t\t<dd>3.325</dd>\n",
       "</dl>\n"
      ],
      "text/latex": [
       "\\begin{description*}\n",
       "\\item[mpg] 19.2\n",
       "\\item[hp] 123\n",
       "\\item[wt] 3.325\n",
       "\\end{description*}\n"
      ],
      "text/markdown": [
       "mpg\n",
       ":   19.2hp\n",
       ":   123wt\n",
       ":   3.325\n",
       "\n"
      ],
      "text/plain": [
       "    mpg      hp      wt \n",
       " 19.200 123.000   3.325 "
      ]
     },
     "metadata": {},
     "output_type": "display_data"
    }
   ],
   "source": [
    "apply(mtcars[vars], 2, median)"
   ]
  },
  {
   "cell_type": "code",
   "execution_count": 25,
   "metadata": {},
   "outputs": [
    {
     "data": {
      "text/html": [
       "<table>\n",
       "<thead><tr><th></th><th scope=col>mpg</th><th scope=col>hp</th><th scope=col>wt</th></tr></thead>\n",
       "<tbody>\n",
       "\t<tr><th scope=row>0%</th><td>10.400 </td><td> 52.0  </td><td>1.51300</td></tr>\n",
       "\t<tr><th scope=row>25%</th><td>15.425 </td><td> 96.5  </td><td>2.58125</td></tr>\n",
       "\t<tr><th scope=row>50%</th><td>19.200 </td><td>123.0  </td><td>3.32500</td></tr>\n",
       "\t<tr><th scope=row>75%</th><td>22.800 </td><td>180.0  </td><td>3.61000</td></tr>\n",
       "\t<tr><th scope=row>100%</th><td>33.900 </td><td>335.0  </td><td>5.42400</td></tr>\n",
       "</tbody>\n",
       "</table>\n"
      ],
      "text/latex": [
       "\\begin{tabular}{r|lll}\n",
       "  & mpg & hp & wt\\\\\n",
       "\\hline\n",
       "\t0\\% & 10.400  &  52.0   & 1.51300\\\\\n",
       "\t25\\% & 15.425  &  96.5   & 2.58125\\\\\n",
       "\t50\\% & 19.200  & 123.0   & 3.32500\\\\\n",
       "\t75\\% & 22.800  & 180.0   & 3.61000\\\\\n",
       "\t100\\% & 33.900  & 335.0   & 5.42400\\\\\n",
       "\\end{tabular}\n"
      ],
      "text/markdown": [
       "\n",
       "| <!--/--> | mpg | hp | wt | \n",
       "|---|---|---|---|---|\n",
       "| 0% | 10.400  |  52.0   | 1.51300 | \n",
       "| 25% | 15.425  |  96.5   | 2.58125 | \n",
       "| 50% | 19.200  | 123.0   | 3.32500 | \n",
       "| 75% | 22.800  | 180.0   | 3.61000 | \n",
       "| 100% | 33.900  | 335.0   | 5.42400 | \n",
       "\n",
       "\n"
      ],
      "text/plain": [
       "     mpg    hp    wt     \n",
       "0%   10.400  52.0 1.51300\n",
       "25%  15.425  96.5 2.58125\n",
       "50%  19.200 123.0 3.32500\n",
       "75%  22.800 180.0 3.61000\n",
       "100% 33.900 335.0 5.42400"
      ]
     },
     "metadata": {},
     "output_type": "display_data"
    }
   ],
   "source": [
    "apply(mtcars[vars], 2, quantile)"
   ]
  },
  {
   "cell_type": "code",
   "execution_count": 26,
   "metadata": {},
   "outputs": [],
   "source": [
    "attach(mtcars)"
   ]
  },
  {
   "cell_type": "code",
   "execution_count": 27,
   "metadata": {},
   "outputs": [
    {
     "data": {
      "text/plain": [
       "cyl\n",
       " 4  6  8 \n",
       "11  7 14 "
      ]
     },
     "metadata": {},
     "output_type": "display_data"
    }
   ],
   "source": [
    "table(cyl)"
   ]
  },
  {
   "cell_type": "code",
   "execution_count": 28,
   "metadata": {},
   "outputs": [
    {
     "data": {
      "text/plain": [
       "cyl\n",
       " 6  4  8 \n",
       " 7 11 14 "
      ]
     },
     "metadata": {},
     "output_type": "display_data"
    }
   ],
   "source": [
    "sort(table(cyl))"
   ]
  },
  {
   "cell_type": "code",
   "execution_count": 29,
   "metadata": {},
   "outputs": [],
   "source": [
    "detach(mtcars)"
   ]
  },
  {
   "cell_type": "code",
   "execution_count": 30,
   "metadata": {},
   "outputs": [],
   "source": [
    "zmpg <- scale(mtcars$mpg)"
   ]
  },
  {
   "cell_type": "code",
   "execution_count": 31,
   "metadata": {},
   "outputs": [
    {
     "data": {
      "text/html": [
       "<table>\n",
       "<tbody>\n",
       "\t<tr><td> 0.15088482</td></tr>\n",
       "\t<tr><td> 0.15088482</td></tr>\n",
       "\t<tr><td> 0.44954345</td></tr>\n",
       "\t<tr><td> 0.21725341</td></tr>\n",
       "\t<tr><td>-0.23073453</td></tr>\n",
       "\t<tr><td>-0.33028740</td></tr>\n",
       "\t<tr><td>-0.96078893</td></tr>\n",
       "\t<tr><td> 0.71501778</td></tr>\n",
       "\t<tr><td> 0.44954345</td></tr>\n",
       "\t<tr><td>-0.14777380</td></tr>\n",
       "\t<tr><td>-0.38006384</td></tr>\n",
       "\t<tr><td>-0.61235388</td></tr>\n",
       "\t<tr><td>-0.46302456</td></tr>\n",
       "\t<tr><td>-0.81145962</td></tr>\n",
       "\t<tr><td>-1.60788262</td></tr>\n",
       "\t<tr><td>-1.60788262</td></tr>\n",
       "\t<tr><td>-0.89442035</td></tr>\n",
       "\t<tr><td> 2.04238943</td></tr>\n",
       "\t<tr><td> 1.71054652</td></tr>\n",
       "\t<tr><td> 2.29127162</td></tr>\n",
       "\t<tr><td> 0.23384555</td></tr>\n",
       "\t<tr><td>-0.76168319</td></tr>\n",
       "\t<tr><td>-0.81145962</td></tr>\n",
       "\t<tr><td>-1.12671039</td></tr>\n",
       "\t<tr><td>-0.14777380</td></tr>\n",
       "\t<tr><td> 1.19619000</td></tr>\n",
       "\t<tr><td> 0.98049211</td></tr>\n",
       "\t<tr><td> 1.71054652</td></tr>\n",
       "\t<tr><td>-0.71190675</td></tr>\n",
       "\t<tr><td>-0.06481307</td></tr>\n",
       "\t<tr><td>-0.84464392</td></tr>\n",
       "\t<tr><td> 0.21725341</td></tr>\n",
       "</tbody>\n",
       "</table>\n"
      ],
      "text/latex": [
       "\\begin{tabular}{l}\n",
       "\t  0.15088482\\\\\n",
       "\t  0.15088482\\\\\n",
       "\t  0.44954345\\\\\n",
       "\t  0.21725341\\\\\n",
       "\t -0.23073453\\\\\n",
       "\t -0.33028740\\\\\n",
       "\t -0.96078893\\\\\n",
       "\t  0.71501778\\\\\n",
       "\t  0.44954345\\\\\n",
       "\t -0.14777380\\\\\n",
       "\t -0.38006384\\\\\n",
       "\t -0.61235388\\\\\n",
       "\t -0.46302456\\\\\n",
       "\t -0.81145962\\\\\n",
       "\t -1.60788262\\\\\n",
       "\t -1.60788262\\\\\n",
       "\t -0.89442035\\\\\n",
       "\t  2.04238943\\\\\n",
       "\t  1.71054652\\\\\n",
       "\t  2.29127162\\\\\n",
       "\t  0.23384555\\\\\n",
       "\t -0.76168319\\\\\n",
       "\t -0.81145962\\\\\n",
       "\t -1.12671039\\\\\n",
       "\t -0.14777380\\\\\n",
       "\t  1.19619000\\\\\n",
       "\t  0.98049211\\\\\n",
       "\t  1.71054652\\\\\n",
       "\t -0.71190675\\\\\n",
       "\t -0.06481307\\\\\n",
       "\t -0.84464392\\\\\n",
       "\t  0.21725341\\\\\n",
       "\\end{tabular}\n"
      ],
      "text/markdown": [
       "\n",
       "|  0.15088482 | \n",
       "|  0.15088482 | \n",
       "|  0.44954345 | \n",
       "|  0.21725341 | \n",
       "| -0.23073453 | \n",
       "| -0.33028740 | \n",
       "| -0.96078893 | \n",
       "|  0.71501778 | \n",
       "|  0.44954345 | \n",
       "| -0.14777380 | \n",
       "| -0.38006384 | \n",
       "| -0.61235388 | \n",
       "| -0.46302456 | \n",
       "| -0.81145962 | \n",
       "| -1.60788262 | \n",
       "| -1.60788262 | \n",
       "| -0.89442035 | \n",
       "|  2.04238943 | \n",
       "|  1.71054652 | \n",
       "|  2.29127162 | \n",
       "|  0.23384555 | \n",
       "| -0.76168319 | \n",
       "| -0.81145962 | \n",
       "| -1.12671039 | \n",
       "| -0.14777380 | \n",
       "|  1.19619000 | \n",
       "|  0.98049211 | \n",
       "|  1.71054652 | \n",
       "| -0.71190675 | \n",
       "| -0.06481307 | \n",
       "| -0.84464392 | \n",
       "|  0.21725341 | \n",
       "\n",
       "\n"
      ],
      "text/plain": [
       "      [,1]       \n",
       " [1,]  0.15088482\n",
       " [2,]  0.15088482\n",
       " [3,]  0.44954345\n",
       " [4,]  0.21725341\n",
       " [5,] -0.23073453\n",
       " [6,] -0.33028740\n",
       " [7,] -0.96078893\n",
       " [8,]  0.71501778\n",
       " [9,]  0.44954345\n",
       "[10,] -0.14777380\n",
       "[11,] -0.38006384\n",
       "[12,] -0.61235388\n",
       "[13,] -0.46302456\n",
       "[14,] -0.81145962\n",
       "[15,] -1.60788262\n",
       "[16,] -1.60788262\n",
       "[17,] -0.89442035\n",
       "[18,]  2.04238943\n",
       "[19,]  1.71054652\n",
       "[20,]  2.29127162\n",
       "[21,]  0.23384555\n",
       "[22,] -0.76168319\n",
       "[23,] -0.81145962\n",
       "[24,] -1.12671039\n",
       "[25,] -0.14777380\n",
       "[26,]  1.19619000\n",
       "[27,]  0.98049211\n",
       "[28,]  1.71054652\n",
       "[29,] -0.71190675\n",
       "[30,] -0.06481307\n",
       "[31,] -0.84464392\n",
       "[32,]  0.21725341"
      ]
     },
     "metadata": {},
     "output_type": "display_data"
    }
   ],
   "source": [
    "zmpg"
   ]
  },
  {
   "cell_type": "code",
   "execution_count": 33,
   "metadata": {},
   "outputs": [
    {
     "data": {
      "text/html": [
       "7.11236625150491e-17"
      ],
      "text/latex": [
       "7.11236625150491e-17"
      ],
      "text/markdown": [
       "7.11236625150491e-17"
      ],
      "text/plain": [
       "[1] 7.112366e-17"
      ]
     },
     "metadata": {},
     "output_type": "display_data"
    }
   ],
   "source": [
    "mean(zmpg)"
   ]
  },
  {
   "cell_type": "code",
   "execution_count": 34,
   "metadata": {},
   "outputs": [
    {
     "data": {
      "text/html": [
       "1"
      ],
      "text/latex": [
       "1"
      ],
      "text/markdown": [
       "1"
      ],
      "text/plain": [
       "[1] 1"
      ]
     },
     "metadata": {},
     "output_type": "display_data"
    }
   ],
   "source": [
    "sd(zmpg)"
   ]
  },
  {
   "cell_type": "code",
   "execution_count": 35,
   "metadata": {},
   "outputs": [],
   "source": [
    "attach(mtcars)"
   ]
  },
  {
   "cell_type": "code",
   "execution_count": 36,
   "metadata": {},
   "outputs": [
    {
     "data": {
      "text/html": [
       "36.3241028225806"
      ],
      "text/latex": [
       "36.3241028225806"
      ],
      "text/markdown": [
       "36.3241028225806"
      ],
      "text/plain": [
       "[1] 36.3241"
      ]
     },
     "metadata": {},
     "output_type": "display_data"
    }
   ],
   "source": [
    "var(mpg)"
   ]
  },
  {
   "cell_type": "code",
   "execution_count": 37,
   "metadata": {},
   "outputs": [
    {
     "data": {
      "text/html": [
       "6.0269480520891"
      ],
      "text/latex": [
       "6.0269480520891"
      ],
      "text/markdown": [
       "6.0269480520891"
      ],
      "text/plain": [
       "[1] 6.026948"
      ]
     },
     "metadata": {},
     "output_type": "display_data"
    }
   ],
   "source": [
    "sd(mpg)"
   ]
  },
  {
   "cell_type": "code",
   "execution_count": 38,
   "metadata": {},
   "outputs": [],
   "source": [
    " detach(mtcars)"
   ]
  },
  {
   "cell_type": "code",
   "execution_count": 39,
   "metadata": {},
   "outputs": [],
   "source": [
    " vars <- c(\"mpg\", \"hp\", \"wt\")"
   ]
  },
  {
   "cell_type": "code",
   "execution_count": 40,
   "metadata": {},
   "outputs": [
    {
     "data": {
      "text/html": [
       "<table>\n",
       "<thead><tr><th></th><th scope=col>mpg</th><th scope=col>hp</th><th scope=col>wt</th></tr></thead>\n",
       "<tbody>\n",
       "\t<tr><th scope=row>mpg</th><td>  36.324103</td><td>-320.73206 </td><td>-5.116685  </td></tr>\n",
       "\t<tr><th scope=row>hp</th><td>-320.732056</td><td>4700.86694 </td><td>44.192661  </td></tr>\n",
       "\t<tr><th scope=row>wt</th><td>  -5.116685</td><td>  44.19266 </td><td> 0.957379  </td></tr>\n",
       "</tbody>\n",
       "</table>\n"
      ],
      "text/latex": [
       "\\begin{tabular}{r|lll}\n",
       "  & mpg & hp & wt\\\\\n",
       "\\hline\n",
       "\tmpg &   36.324103 & -320.73206  & -5.116685  \\\\\n",
       "\thp & -320.732056 & 4700.86694  & 44.192661  \\\\\n",
       "\twt &   -5.116685 &   44.19266  &  0.957379  \\\\\n",
       "\\end{tabular}\n"
      ],
      "text/markdown": [
       "\n",
       "| <!--/--> | mpg | hp | wt | \n",
       "|---|---|---|\n",
       "| mpg |   36.324103 | -320.73206  | -5.116685   | \n",
       "| hp | -320.732056 | 4700.86694  | 44.192661   | \n",
       "| wt |   -5.116685 |   44.19266  |  0.957379   | \n",
       "\n",
       "\n"
      ],
      "text/plain": [
       "    mpg         hp         wt       \n",
       "mpg   36.324103 -320.73206 -5.116685\n",
       "hp  -320.732056 4700.86694 44.192661\n",
       "wt    -5.116685   44.19266  0.957379"
      ]
     },
     "metadata": {},
     "output_type": "display_data"
    }
   ],
   "source": [
    "var(mtcars[vars])"
   ]
  },
  {
   "cell_type": "code",
   "execution_count": 42,
   "metadata": {},
   "outputs": [],
   "source": [
    "attach(mtcars)"
   ]
  },
  {
   "cell_type": "code",
   "execution_count": 43,
   "metadata": {},
   "outputs": [
    {
     "data": {
      "text/html": [
       "<ol class=list-inline>\n",
       "\t<li>10.4</li>\n",
       "\t<li>33.9</li>\n",
       "</ol>\n"
      ],
      "text/latex": [
       "\\begin{enumerate*}\n",
       "\\item 10.4\n",
       "\\item 33.9\n",
       "\\end{enumerate*}\n"
      ],
      "text/markdown": [
       "1. 10.4\n",
       "2. 33.9\n",
       "\n",
       "\n"
      ],
      "text/plain": [
       "[1] 10.4 33.9"
      ]
     },
     "metadata": {},
     "output_type": "display_data"
    }
   ],
   "source": [
    "range(mpg)"
   ]
  },
  {
   "cell_type": "code",
   "execution_count": 44,
   "metadata": {},
   "outputs": [
    {
     "data": {
      "text/html": [
       "23.5"
      ],
      "text/latex": [
       "23.5"
      ],
      "text/markdown": [
       "23.5"
      ],
      "text/plain": [
       "[1] 23.5"
      ]
     },
     "metadata": {},
     "output_type": "display_data"
    }
   ],
   "source": [
    " max(mpg)-min(mpg)"
   ]
  },
  {
   "cell_type": "code",
   "execution_count": 45,
   "metadata": {},
   "outputs": [],
   "source": [
    "detach(mtcars)"
   ]
  },
  {
   "cell_type": "code",
   "execution_count": 46,
   "metadata": {},
   "outputs": [
    {
     "data": {
      "text/html": [
       "7.375"
      ],
      "text/latex": [
       "7.375"
      ],
      "text/markdown": [
       "7.375"
      ],
      "text/plain": [
       "[1] 7.375"
      ]
     },
     "metadata": {},
     "output_type": "display_data"
    }
   ],
   "source": [
    "IQR(mtcars$mpg)"
   ]
  },
  {
   "cell_type": "code",
   "execution_count": 47,
   "metadata": {},
   "outputs": [],
   "source": [
    "attach(mtcars)"
   ]
  },
  {
   "cell_type": "code",
   "execution_count": 48,
   "metadata": {},
   "outputs": [
    {
     "data": {
      "text/html": [
       "0.299988081609661"
      ],
      "text/latex": [
       "0.299988081609661"
      ],
      "text/markdown": [
       "0.299988081609661"
      ],
      "text/plain": [
       "[1] 0.2999881"
      ]
     },
     "metadata": {},
     "output_type": "display_data"
    }
   ],
   "source": [
    "sd(mpg)/mean(mpg)"
   ]
  },
  {
   "cell_type": "code",
   "execution_count": 49,
   "metadata": {},
   "outputs": [
    {
     "data": {
      "text/html": [
       "0.304128508194793"
      ],
      "text/latex": [
       "0.304128508194793"
      ],
      "text/markdown": [
       "0.304128508194793"
      ],
      "text/plain": [
       "[1] 0.3041285"
      ]
     },
     "metadata": {},
     "output_type": "display_data"
    }
   ],
   "source": [
    "sd(wt)/mean(wt)"
   ]
  },
  {
   "cell_type": "code",
   "execution_count": 50,
   "metadata": {},
   "outputs": [],
   "source": [
    "detach(mtcars)"
   ]
  },
  {
   "cell_type": "code",
   "execution_count": 51,
   "metadata": {},
   "outputs": [],
   "source": [
    "attach(mtcars)"
   ]
  },
  {
   "cell_type": "code",
   "execution_count": 52,
   "metadata": {},
   "outputs": [
    {
     "data": {
      "text/html": [
       "-5.11668467741935"
      ],
      "text/latex": [
       "-5.11668467741935"
      ],
      "text/markdown": [
       "-5.11668467741935"
      ],
      "text/plain": [
       "[1] -5.116685"
      ]
     },
     "metadata": {},
     "output_type": "display_data"
    }
   ],
   "source": [
    "cov(wt, mpg)"
   ]
  },
  {
   "cell_type": "code",
   "execution_count": 53,
   "metadata": {},
   "outputs": [],
   "source": [
    "detach(mtcars)"
   ]
  },
  {
   "cell_type": "code",
   "execution_count": null,
   "metadata": {},
   "outputs": [],
   "source": []
  }
 ],
 "metadata": {
  "kernelspec": {
   "display_name": "R",
   "language": "R",
   "name": "ir"
  },
  "language_info": {
   "codemirror_mode": "r",
   "file_extension": ".r",
   "mimetype": "text/x-r-source",
   "name": "R",
   "pygments_lexer": "r",
   "version": "3.4.3"
  }
 },
 "nbformat": 4,
 "nbformat_minor": 2
}
