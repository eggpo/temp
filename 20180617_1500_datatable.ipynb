{
 "cells": [
  {
   "cell_type": "code",
   "execution_count": null,
   "metadata": {},
   "outputs": [],
   "source": [
    "install.packagesges(\"data.table\", repos = \"https://cran.r-project.org\")"
   ]
  },
  {
   "cell_type": "markdown",
   "metadata": {},
   "source": [
    "# data.table \n",
    "# 가장 큰 장점 : 속도 "
   ]
  },
  {
   "cell_type": "code",
   "execution_count": 1,
   "metadata": {},
   "outputs": [
    {
     "name": "stderr",
     "output_type": "stream",
     "text": [
      "Warning message:\n",
      "\"package 'data.table' was built under R version 3.4.4\""
     ]
    }
   ],
   "source": [
    "library(data.table)"
   ]
  },
  {
   "cell_type": "code",
   "execution_count": 2,
   "metadata": {},
   "outputs": [],
   "source": [
    "library(hflights)"
   ]
  },
  {
   "cell_type": "code",
   "execution_count": 4,
   "metadata": {},
   "outputs": [],
   "source": [
    "test <- hflights"
   ]
  },
  {
   "cell_type": "code",
   "execution_count": 5,
   "metadata": {},
   "outputs": [],
   "source": [
    "for (i in 1:7){\n",
    "    test <- rbind(test, test)\n",
    "}"
   ]
  },
  {
   "cell_type": "code",
   "execution_count": 6,
   "metadata": {},
   "outputs": [
    {
     "name": "stdout",
     "output_type": "stream",
     "text": [
      "'data.frame':\t29119488 obs. of  21 variables:\n",
      " $ Year             : int  2011 2011 2011 2011 2011 2011 2011 2011 2011 2011 ...\n",
      " $ Month            : int  1 1 1 1 1 1 1 1 1 1 ...\n",
      " $ DayofMonth       : int  1 2 3 4 5 6 7 8 9 10 ...\n",
      " $ DayOfWeek        : int  6 7 1 2 3 4 5 6 7 1 ...\n",
      " $ DepTime          : int  1400 1401 1352 1403 1405 1359 1359 1355 1443 1443 ...\n",
      " $ ArrTime          : int  1500 1501 1502 1513 1507 1503 1509 1454 1554 1553 ...\n",
      " $ UniqueCarrier    : chr  \"AA\" \"AA\" \"AA\" \"AA\" ...\n",
      " $ FlightNum        : int  428 428 428 428 428 428 428 428 428 428 ...\n",
      " $ TailNum          : chr  \"N576AA\" \"N557AA\" \"N541AA\" \"N403AA\" ...\n",
      " $ ActualElapsedTime: int  60 60 70 70 62 64 70 59 71 70 ...\n",
      " $ AirTime          : int  40 45 48 39 44 45 43 40 41 45 ...\n",
      " $ ArrDelay         : int  -10 -9 -8 3 -3 -7 -1 -16 44 43 ...\n",
      " $ DepDelay         : int  0 1 -8 3 5 -1 -1 -5 43 43 ...\n",
      " $ Origin           : chr  \"IAH\" \"IAH\" \"IAH\" \"IAH\" ...\n",
      " $ Dest             : chr  \"DFW\" \"DFW\" \"DFW\" \"DFW\" ...\n",
      " $ Distance         : int  224 224 224 224 224 224 224 224 224 224 ...\n",
      " $ TaxiIn           : int  7 6 5 9 9 6 12 7 8 6 ...\n",
      " $ TaxiOut          : int  13 9 17 22 9 13 15 12 22 19 ...\n",
      " $ Cancelled        : int  0 0 0 0 0 0 0 0 0 0 ...\n",
      " $ CancellationCode : chr  \"\" \"\" \"\" \"\" ...\n",
      " $ Diverted         : int  0 0 0 0 0 0 0 0 0 0 ...\n"
     ]
    }
   ],
   "source": [
    "str(test)"
   ]
  },
  {
   "cell_type": "code",
   "execution_count": 7,
   "metadata": {},
   "outputs": [],
   "source": [
    "test.table <- as.data.table(test)"
   ]
  },
  {
   "cell_type": "code",
   "execution_count": 8,
   "metadata": {},
   "outputs": [
    {
     "data": {
      "text/html": [
       "<ol class=list-inline>\n",
       "\t<li>'data.table'</li>\n",
       "\t<li>'data.frame'</li>\n",
       "</ol>\n"
      ],
      "text/latex": [
       "\\begin{enumerate*}\n",
       "\\item 'data.table'\n",
       "\\item 'data.frame'\n",
       "\\end{enumerate*}\n"
      ],
      "text/markdown": [
       "1. 'data.table'\n",
       "2. 'data.frame'\n",
       "\n",
       "\n"
      ],
      "text/plain": [
       "[1] \"data.table\" \"data.frame\""
      ]
     },
     "metadata": {},
     "output_type": "display_data"
    }
   ],
   "source": [
    "class(test.table)"
   ]
  },
  {
   "cell_type": "code",
   "execution_count": 9,
   "metadata": {},
   "outputs": [
    {
     "data": {
      "text/plain": [
       "   user  system elapsed \n",
       "   0.00    0.00    0.01 "
      ]
     },
     "metadata": {},
     "output_type": "display_data"
    }
   ],
   "source": [
    "system.time(iris)"
   ]
  },
  {
   "cell_type": "code",
   "execution_count": 11,
   "metadata": {},
   "outputs": [
    {
     "data": {
      "text/html": [
       "<table>\n",
       "<thead><tr><th scope=col>Sepal.Length</th><th scope=col>Sepal.Width</th><th scope=col>Petal.Length</th><th scope=col>Petal.Width</th><th scope=col>Species</th></tr></thead>\n",
       "<tbody>\n",
       "\t<tr><td>5.1   </td><td>3.5   </td><td>1.4   </td><td>0.2   </td><td>setosa</td></tr>\n",
       "\t<tr><td>4.9   </td><td>3.0   </td><td>1.4   </td><td>0.2   </td><td>setosa</td></tr>\n",
       "\t<tr><td>4.7   </td><td>3.2   </td><td>1.3   </td><td>0.2   </td><td>setosa</td></tr>\n",
       "\t<tr><td>4.6   </td><td>3.1   </td><td>1.5   </td><td>0.2   </td><td>setosa</td></tr>\n",
       "\t<tr><td>5.0   </td><td>3.6   </td><td>1.4   </td><td>0.2   </td><td>setosa</td></tr>\n",
       "\t<tr><td>5.4   </td><td>3.9   </td><td>1.7   </td><td>0.4   </td><td>setosa</td></tr>\n",
       "</tbody>\n",
       "</table>\n"
      ],
      "text/latex": [
       "\\begin{tabular}{r|lllll}\n",
       " Sepal.Length & Sepal.Width & Petal.Length & Petal.Width & Species\\\\\n",
       "\\hline\n",
       "\t 5.1    & 3.5    & 1.4    & 0.2    & setosa\\\\\n",
       "\t 4.9    & 3.0    & 1.4    & 0.2    & setosa\\\\\n",
       "\t 4.7    & 3.2    & 1.3    & 0.2    & setosa\\\\\n",
       "\t 4.6    & 3.1    & 1.5    & 0.2    & setosa\\\\\n",
       "\t 5.0    & 3.6    & 1.4    & 0.2    & setosa\\\\\n",
       "\t 5.4    & 3.9    & 1.7    & 0.4    & setosa\\\\\n",
       "\\end{tabular}\n"
      ],
      "text/markdown": [
       "\n",
       "Sepal.Length | Sepal.Width | Petal.Length | Petal.Width | Species | \n",
       "|---|---|---|---|---|---|\n",
       "| 5.1    | 3.5    | 1.4    | 0.2    | setosa | \n",
       "| 4.9    | 3.0    | 1.4    | 0.2    | setosa | \n",
       "| 4.7    | 3.2    | 1.3    | 0.2    | setosa | \n",
       "| 4.6    | 3.1    | 1.5    | 0.2    | setosa | \n",
       "| 5.0    | 3.6    | 1.4    | 0.2    | setosa | \n",
       "| 5.4    | 3.9    | 1.7    | 0.4    | setosa | \n",
       "\n",
       "\n"
      ],
      "text/plain": [
       "  Sepal.Length Sepal.Width Petal.Length Petal.Width Species\n",
       "1 5.1          3.5         1.4          0.2         setosa \n",
       "2 4.9          3.0         1.4          0.2         setosa \n",
       "3 4.7          3.2         1.3          0.2         setosa \n",
       "4 4.6          3.1         1.5          0.2         setosa \n",
       "5 5.0          3.6         1.4          0.2         setosa \n",
       "6 5.4          3.9         1.7          0.4         setosa "
      ]
     },
     "metadata": {},
     "output_type": "display_data"
    }
   ],
   "source": [
    "head(iris)"
   ]
  },
  {
   "cell_type": "code",
   "execution_count": 12,
   "metadata": {},
   "outputs": [
    {
     "data": {
      "text/plain": [
       "   user  system elapsed \n",
       "      0       0       0 "
      ]
     },
     "metadata": {},
     "output_type": "display_data"
    }
   ],
   "source": [
    "system.time(iris[, c(1,2)])"
   ]
  },
  {
   "cell_type": "code",
   "execution_count": 13,
   "metadata": {},
   "outputs": [
    {
     "data": {
      "text/html": [
       "<table>\n",
       "<thead><tr><th scope=col>Sepal.Length</th><th scope=col>Sepal.Width</th></tr></thead>\n",
       "<tbody>\n",
       "\t<tr><td>5.1</td><td>3.5</td></tr>\n",
       "\t<tr><td>4.9</td><td>3.0</td></tr>\n",
       "\t<tr><td>4.7</td><td>3.2</td></tr>\n",
       "\t<tr><td>4.6</td><td>3.1</td></tr>\n",
       "\t<tr><td>5.0</td><td>3.6</td></tr>\n",
       "\t<tr><td>5.4</td><td>3.9</td></tr>\n",
       "\t<tr><td>4.6</td><td>3.4</td></tr>\n",
       "\t<tr><td>5.0</td><td>3.4</td></tr>\n",
       "\t<tr><td>4.4</td><td>2.9</td></tr>\n",
       "\t<tr><td>4.9</td><td>3.1</td></tr>\n",
       "\t<tr><td>5.4</td><td>3.7</td></tr>\n",
       "\t<tr><td>4.8</td><td>3.4</td></tr>\n",
       "\t<tr><td>4.8</td><td>3.0</td></tr>\n",
       "\t<tr><td>4.3</td><td>3.0</td></tr>\n",
       "\t<tr><td>5.8</td><td>4.0</td></tr>\n",
       "\t<tr><td>5.7</td><td>4.4</td></tr>\n",
       "\t<tr><td>5.4</td><td>3.9</td></tr>\n",
       "\t<tr><td>5.1</td><td>3.5</td></tr>\n",
       "\t<tr><td>5.7</td><td>3.8</td></tr>\n",
       "\t<tr><td>5.1</td><td>3.8</td></tr>\n",
       "\t<tr><td>5.4</td><td>3.4</td></tr>\n",
       "\t<tr><td>5.1</td><td>3.7</td></tr>\n",
       "\t<tr><td>4.6</td><td>3.6</td></tr>\n",
       "\t<tr><td>5.1</td><td>3.3</td></tr>\n",
       "\t<tr><td>4.8</td><td>3.4</td></tr>\n",
       "\t<tr><td>5.0</td><td>3.0</td></tr>\n",
       "\t<tr><td>5.0</td><td>3.4</td></tr>\n",
       "\t<tr><td>5.2</td><td>3.5</td></tr>\n",
       "\t<tr><td>5.2</td><td>3.4</td></tr>\n",
       "\t<tr><td>4.7</td><td>3.2</td></tr>\n",
       "\t<tr><td>...</td><td>...</td></tr>\n",
       "\t<tr><td>6.9</td><td>3.2</td></tr>\n",
       "\t<tr><td>5.6</td><td>2.8</td></tr>\n",
       "\t<tr><td>7.7</td><td>2.8</td></tr>\n",
       "\t<tr><td>6.3</td><td>2.7</td></tr>\n",
       "\t<tr><td>6.7</td><td>3.3</td></tr>\n",
       "\t<tr><td>7.2</td><td>3.2</td></tr>\n",
       "\t<tr><td>6.2</td><td>2.8</td></tr>\n",
       "\t<tr><td>6.1</td><td>3.0</td></tr>\n",
       "\t<tr><td>6.4</td><td>2.8</td></tr>\n",
       "\t<tr><td>7.2</td><td>3.0</td></tr>\n",
       "\t<tr><td>7.4</td><td>2.8</td></tr>\n",
       "\t<tr><td>7.9</td><td>3.8</td></tr>\n",
       "\t<tr><td>6.4</td><td>2.8</td></tr>\n",
       "\t<tr><td>6.3</td><td>2.8</td></tr>\n",
       "\t<tr><td>6.1</td><td>2.6</td></tr>\n",
       "\t<tr><td>7.7</td><td>3.0</td></tr>\n",
       "\t<tr><td>6.3</td><td>3.4</td></tr>\n",
       "\t<tr><td>6.4</td><td>3.1</td></tr>\n",
       "\t<tr><td>6.0</td><td>3.0</td></tr>\n",
       "\t<tr><td>6.9</td><td>3.1</td></tr>\n",
       "\t<tr><td>6.7</td><td>3.1</td></tr>\n",
       "\t<tr><td>6.9</td><td>3.1</td></tr>\n",
       "\t<tr><td>5.8</td><td>2.7</td></tr>\n",
       "\t<tr><td>6.8</td><td>3.2</td></tr>\n",
       "\t<tr><td>6.7</td><td>3.3</td></tr>\n",
       "\t<tr><td>6.7</td><td>3.0</td></tr>\n",
       "\t<tr><td>6.3</td><td>2.5</td></tr>\n",
       "\t<tr><td>6.5</td><td>3.0</td></tr>\n",
       "\t<tr><td>6.2</td><td>3.4</td></tr>\n",
       "\t<tr><td>5.9</td><td>3.0</td></tr>\n",
       "</tbody>\n",
       "</table>\n"
      ],
      "text/latex": [
       "\\begin{tabular}{r|ll}\n",
       " Sepal.Length & Sepal.Width\\\\\n",
       "\\hline\n",
       "\t 5.1 & 3.5\\\\\n",
       "\t 4.9 & 3.0\\\\\n",
       "\t 4.7 & 3.2\\\\\n",
       "\t 4.6 & 3.1\\\\\n",
       "\t 5.0 & 3.6\\\\\n",
       "\t 5.4 & 3.9\\\\\n",
       "\t 4.6 & 3.4\\\\\n",
       "\t 5.0 & 3.4\\\\\n",
       "\t 4.4 & 2.9\\\\\n",
       "\t 4.9 & 3.1\\\\\n",
       "\t 5.4 & 3.7\\\\\n",
       "\t 4.8 & 3.4\\\\\n",
       "\t 4.8 & 3.0\\\\\n",
       "\t 4.3 & 3.0\\\\\n",
       "\t 5.8 & 4.0\\\\\n",
       "\t 5.7 & 4.4\\\\\n",
       "\t 5.4 & 3.9\\\\\n",
       "\t 5.1 & 3.5\\\\\n",
       "\t 5.7 & 3.8\\\\\n",
       "\t 5.1 & 3.8\\\\\n",
       "\t 5.4 & 3.4\\\\\n",
       "\t 5.1 & 3.7\\\\\n",
       "\t 4.6 & 3.6\\\\\n",
       "\t 5.1 & 3.3\\\\\n",
       "\t 4.8 & 3.4\\\\\n",
       "\t 5.0 & 3.0\\\\\n",
       "\t 5.0 & 3.4\\\\\n",
       "\t 5.2 & 3.5\\\\\n",
       "\t 5.2 & 3.4\\\\\n",
       "\t 4.7 & 3.2\\\\\n",
       "\t ... & ...\\\\\n",
       "\t 6.9 & 3.2\\\\\n",
       "\t 5.6 & 2.8\\\\\n",
       "\t 7.7 & 2.8\\\\\n",
       "\t 6.3 & 2.7\\\\\n",
       "\t 6.7 & 3.3\\\\\n",
       "\t 7.2 & 3.2\\\\\n",
       "\t 6.2 & 2.8\\\\\n",
       "\t 6.1 & 3.0\\\\\n",
       "\t 6.4 & 2.8\\\\\n",
       "\t 7.2 & 3.0\\\\\n",
       "\t 7.4 & 2.8\\\\\n",
       "\t 7.9 & 3.8\\\\\n",
       "\t 6.4 & 2.8\\\\\n",
       "\t 6.3 & 2.8\\\\\n",
       "\t 6.1 & 2.6\\\\\n",
       "\t 7.7 & 3.0\\\\\n",
       "\t 6.3 & 3.4\\\\\n",
       "\t 6.4 & 3.1\\\\\n",
       "\t 6.0 & 3.0\\\\\n",
       "\t 6.9 & 3.1\\\\\n",
       "\t 6.7 & 3.1\\\\\n",
       "\t 6.9 & 3.1\\\\\n",
       "\t 5.8 & 2.7\\\\\n",
       "\t 6.8 & 3.2\\\\\n",
       "\t 6.7 & 3.3\\\\\n",
       "\t 6.7 & 3.0\\\\\n",
       "\t 6.3 & 2.5\\\\\n",
       "\t 6.5 & 3.0\\\\\n",
       "\t 6.2 & 3.4\\\\\n",
       "\t 5.9 & 3.0\\\\\n",
       "\\end{tabular}\n"
      ],
      "text/markdown": [
       "\n",
       "Sepal.Length | Sepal.Width | \n",
       "|---|---|---|---|---|---|---|---|---|---|---|---|---|---|---|---|---|---|---|---|---|---|---|---|---|---|---|---|---|---|---|---|---|---|---|---|---|---|---|---|---|---|---|---|---|---|---|---|---|---|---|---|---|---|---|---|---|---|---|---|---|\n",
       "| 5.1 | 3.5 | \n",
       "| 4.9 | 3.0 | \n",
       "| 4.7 | 3.2 | \n",
       "| 4.6 | 3.1 | \n",
       "| 5.0 | 3.6 | \n",
       "| 5.4 | 3.9 | \n",
       "| 4.6 | 3.4 | \n",
       "| 5.0 | 3.4 | \n",
       "| 4.4 | 2.9 | \n",
       "| 4.9 | 3.1 | \n",
       "| 5.4 | 3.7 | \n",
       "| 4.8 | 3.4 | \n",
       "| 4.8 | 3.0 | \n",
       "| 4.3 | 3.0 | \n",
       "| 5.8 | 4.0 | \n",
       "| 5.7 | 4.4 | \n",
       "| 5.4 | 3.9 | \n",
       "| 5.1 | 3.5 | \n",
       "| 5.7 | 3.8 | \n",
       "| 5.1 | 3.8 | \n",
       "| 5.4 | 3.4 | \n",
       "| 5.1 | 3.7 | \n",
       "| 4.6 | 3.6 | \n",
       "| 5.1 | 3.3 | \n",
       "| 4.8 | 3.4 | \n",
       "| 5.0 | 3.0 | \n",
       "| 5.0 | 3.4 | \n",
       "| 5.2 | 3.5 | \n",
       "| 5.2 | 3.4 | \n",
       "| 4.7 | 3.2 | \n",
       "| ... | ... | \n",
       "| 6.9 | 3.2 | \n",
       "| 5.6 | 2.8 | \n",
       "| 7.7 | 2.8 | \n",
       "| 6.3 | 2.7 | \n",
       "| 6.7 | 3.3 | \n",
       "| 7.2 | 3.2 | \n",
       "| 6.2 | 2.8 | \n",
       "| 6.1 | 3.0 | \n",
       "| 6.4 | 2.8 | \n",
       "| 7.2 | 3.0 | \n",
       "| 7.4 | 2.8 | \n",
       "| 7.9 | 3.8 | \n",
       "| 6.4 | 2.8 | \n",
       "| 6.3 | 2.8 | \n",
       "| 6.1 | 2.6 | \n",
       "| 7.7 | 3.0 | \n",
       "| 6.3 | 3.4 | \n",
       "| 6.4 | 3.1 | \n",
       "| 6.0 | 3.0 | \n",
       "| 6.9 | 3.1 | \n",
       "| 6.7 | 3.1 | \n",
       "| 6.9 | 3.1 | \n",
       "| 5.8 | 2.7 | \n",
       "| 6.8 | 3.2 | \n",
       "| 6.7 | 3.3 | \n",
       "| 6.7 | 3.0 | \n",
       "| 6.3 | 2.5 | \n",
       "| 6.5 | 3.0 | \n",
       "| 6.2 | 3.4 | \n",
       "| 5.9 | 3.0 | \n",
       "\n",
       "\n"
      ],
      "text/plain": [
       "    Sepal.Length Sepal.Width\n",
       "1   5.1          3.5        \n",
       "2   4.9          3.0        \n",
       "3   4.7          3.2        \n",
       "4   4.6          3.1        \n",
       "5   5.0          3.6        \n",
       "6   5.4          3.9        \n",
       "7   4.6          3.4        \n",
       "8   5.0          3.4        \n",
       "9   4.4          2.9        \n",
       "10  4.9          3.1        \n",
       "11  5.4          3.7        \n",
       "12  4.8          3.4        \n",
       "13  4.8          3.0        \n",
       "14  4.3          3.0        \n",
       "15  5.8          4.0        \n",
       "16  5.7          4.4        \n",
       "17  5.4          3.9        \n",
       "18  5.1          3.5        \n",
       "19  5.7          3.8        \n",
       "20  5.1          3.8        \n",
       "21  5.4          3.4        \n",
       "22  5.1          3.7        \n",
       "23  4.6          3.6        \n",
       "24  5.1          3.3        \n",
       "25  4.8          3.4        \n",
       "26  5.0          3.0        \n",
       "27  5.0          3.4        \n",
       "28  5.2          3.5        \n",
       "29  5.2          3.4        \n",
       "30  4.7          3.2        \n",
       "... ...          ...        \n",
       "121 6.9          3.2        \n",
       "122 5.6          2.8        \n",
       "123 7.7          2.8        \n",
       "124 6.3          2.7        \n",
       "125 6.7          3.3        \n",
       "126 7.2          3.2        \n",
       "127 6.2          2.8        \n",
       "128 6.1          3.0        \n",
       "129 6.4          2.8        \n",
       "130 7.2          3.0        \n",
       "131 7.4          2.8        \n",
       "132 7.9          3.8        \n",
       "133 6.4          2.8        \n",
       "134 6.3          2.8        \n",
       "135 6.1          2.6        \n",
       "136 7.7          3.0        \n",
       "137 6.3          3.4        \n",
       "138 6.4          3.1        \n",
       "139 6.0          3.0        \n",
       "140 6.9          3.1        \n",
       "141 6.7          3.1        \n",
       "142 6.9          3.1        \n",
       "143 5.8          2.7        \n",
       "144 6.8          3.2        \n",
       "145 6.7          3.3        \n",
       "146 6.7          3.0        \n",
       "147 6.3          2.5        \n",
       "148 6.5          3.0        \n",
       "149 6.2          3.4        \n",
       "150 5.9          3.0        "
      ]
     },
     "metadata": {},
     "output_type": "display_data"
    }
   ],
   "source": [
    "iris[, c(1,2)]"
   ]
  },
  {
   "cell_type": "code",
   "execution_count": 14,
   "metadata": {},
   "outputs": [
    {
     "data": {
      "text/plain": [
       "   user  system elapsed \n",
       "   0.65    0.03    0.70 "
      ]
     },
     "metadata": {},
     "output_type": "display_data"
    }
   ],
   "source": [
    "system.time(test[test$UniqueCarrier == \"AA\", ])"
   ]
  },
  {
   "cell_type": "code",
   "execution_count": 15,
   "metadata": {},
   "outputs": [
    {
     "name": "stdout",
     "output_type": "stream",
     "text": [
      "Classes 'data.table' and 'data.frame':\t29119488 obs. of  21 variables:\n",
      " $ Year             : int  2011 2011 2011 2011 2011 2011 2011 2011 2011 2011 ...\n",
      " $ Month            : int  1 1 1 1 1 1 1 1 1 1 ...\n",
      " $ DayofMonth       : int  1 2 3 4 5 6 7 8 9 10 ...\n",
      " $ DayOfWeek        : int  6 7 1 2 3 4 5 6 7 1 ...\n",
      " $ DepTime          : int  1400 1401 1352 1403 1405 1359 1359 1355 1443 1443 ...\n",
      " $ ArrTime          : int  1500 1501 1502 1513 1507 1503 1509 1454 1554 1553 ...\n",
      " $ UniqueCarrier    : chr  \"AA\" \"AA\" \"AA\" \"AA\" ...\n",
      " $ FlightNum        : int  428 428 428 428 428 428 428 428 428 428 ...\n",
      " $ TailNum          : chr  \"N576AA\" \"N557AA\" \"N541AA\" \"N403AA\" ...\n",
      " $ ActualElapsedTime: int  60 60 70 70 62 64 70 59 71 70 ...\n",
      " $ AirTime          : int  40 45 48 39 44 45 43 40 41 45 ...\n",
      " $ ArrDelay         : int  -10 -9 -8 3 -3 -7 -1 -16 44 43 ...\n",
      " $ DepDelay         : int  0 1 -8 3 5 -1 -1 -5 43 43 ...\n",
      " $ Origin           : chr  \"IAH\" \"IAH\" \"IAH\" \"IAH\" ...\n",
      " $ Dest             : chr  \"DFW\" \"DFW\" \"DFW\" \"DFW\" ...\n",
      " $ Distance         : int  224 224 224 224 224 224 224 224 224 224 ...\n",
      " $ TaxiIn           : int  7 6 5 9 9 6 12 7 8 6 ...\n",
      " $ TaxiOut          : int  13 9 17 22 9 13 15 12 22 19 ...\n",
      " $ Cancelled        : int  0 0 0 0 0 0 0 0 0 0 ...\n",
      " $ CancellationCode : chr  \"\" \"\" \"\" \"\" ...\n",
      " $ Diverted         : int  0 0 0 0 0 0 0 0 0 0 ...\n",
      " - attr(*, \".internal.selfref\")=<externalptr> \n"
     ]
    }
   ],
   "source": [
    "str(test.table)"
   ]
  },
  {
   "cell_type": "code",
   "execution_count": 16,
   "metadata": {},
   "outputs": [],
   "source": [
    "setkey(test.table, UniqueCarrier)"
   ]
  },
  {
   "cell_type": "code",
   "execution_count": 17,
   "metadata": {},
   "outputs": [
    {
     "data": {
      "text/plain": [
       "   user  system elapsed \n",
       "   0.04    0.00    0.05 "
      ]
     },
     "metadata": {},
     "output_type": "display_data"
    }
   ],
   "source": [
    "system.time(test.table[J(\"AA\"),])"
   ]
  },
  {
   "cell_type": "code",
   "execution_count": 21,
   "metadata": {},
   "outputs": [],
   "source": [
    "setkey(test.table, UniqueCarrier, Origin)"
   ]
  },
  {
   "cell_type": "code",
   "execution_count": 22,
   "metadata": {},
   "outputs": [
    {
     "data": {
      "text/plain": [
       "   user  system elapsed \n",
       "   0.17    0.05    0.22 "
      ]
     },
     "metadata": {},
     "output_type": "display_data"
    }
   ],
   "source": [
    "system.time(test.table[J(c(\"AA\", \"OO\"), \"IAH\")])"
   ]
  },
  {
   "cell_type": "code",
   "execution_count": 25,
   "metadata": {},
   "outputs": [
    {
     "name": "stderr",
     "output_type": "stream",
     "text": [
      "\n",
      "Attaching package: 'dplyr'\n",
      "\n",
      "The following objects are masked from 'package:data.table':\n",
      "\n",
      "    between, first, last\n",
      "\n",
      "The following objects are masked from 'package:stats':\n",
      "\n",
      "    filter, lag\n",
      "\n",
      "The following objects are masked from 'package:base':\n",
      "\n",
      "    intersect, setdiff, setequal, union\n",
      "\n"
     ]
    }
   ],
   "source": [
    "library(dplyr)"
   ]
  },
  {
   "cell_type": "code",
   "execution_count": 27,
   "metadata": {},
   "outputs": [
    {
     "name": "stdout",
     "output_type": "stream",
     "text": [
      "'data.frame':\t29119488 obs. of  21 variables:\n",
      " $ Year             : int  2011 2011 2011 2011 2011 2011 2011 2011 2011 2011 ...\n",
      " $ Month            : int  1 1 1 1 1 1 1 1 1 1 ...\n",
      " $ DayofMonth       : int  1 2 3 4 5 6 7 8 9 10 ...\n",
      " $ DayOfWeek        : int  6 7 1 2 3 4 5 6 7 1 ...\n",
      " $ DepTime          : int  1400 1401 1352 1403 1405 1359 1359 1355 1443 1443 ...\n",
      " $ ArrTime          : int  1500 1501 1502 1513 1507 1503 1509 1454 1554 1553 ...\n",
      " $ UniqueCarrier    : chr  \"AA\" \"AA\" \"AA\" \"AA\" ...\n",
      " $ FlightNum        : int  428 428 428 428 428 428 428 428 428 428 ...\n",
      " $ TailNum          : chr  \"N576AA\" \"N557AA\" \"N541AA\" \"N403AA\" ...\n",
      " $ ActualElapsedTime: int  60 60 70 70 62 64 70 59 71 70 ...\n",
      " $ AirTime          : int  40 45 48 39 44 45 43 40 41 45 ...\n",
      " $ ArrDelay         : int  -10 -9 -8 3 -3 -7 -1 -16 44 43 ...\n",
      " $ DepDelay         : int  0 1 -8 3 5 -1 -1 -5 43 43 ...\n",
      " $ Origin           : chr  \"IAH\" \"IAH\" \"IAH\" \"IAH\" ...\n",
      " $ Dest             : chr  \"DFW\" \"DFW\" \"DFW\" \"DFW\" ...\n",
      " $ Distance         : int  224 224 224 224 224 224 224 224 224 224 ...\n",
      " $ TaxiIn           : int  7 6 5 9 9 6 12 7 8 6 ...\n",
      " $ TaxiOut          : int  13 9 17 22 9 13 15 12 22 19 ...\n",
      " $ Cancelled        : int  0 0 0 0 0 0 0 0 0 0 ...\n",
      " $ CancellationCode : chr  \"\" \"\" \"\" \"\" ...\n",
      " $ Diverted         : int  0 0 0 0 0 0 0 0 0 0 ...\n"
     ]
    }
   ],
   "source": [
    "str(test)"
   ]
  },
  {
   "cell_type": "code",
   "execution_count": 32,
   "metadata": {},
   "outputs": [
    {
     "name": "stderr",
     "output_type": "stream",
     "text": [
      "Warning message:\n",
      "\"package 'bindrcpp' was built under R version 3.4.4\""
     ]
    },
    {
     "data": {
      "text/plain": [
       "   user  system elapsed \n",
       "   0.72    0.08    0.83 "
      ]
     },
     "metadata": {},
     "output_type": "display_data"
    }
   ],
   "source": [
    "system.time(test %>%\n",
    "filter(UniqueCarrier == \"AA\" | UniqueCarrier == \"OO\", Origin==\"IAH\"))"
   ]
  },
  {
   "cell_type": "code",
   "execution_count": 35,
   "metadata": {},
   "outputs": [
    {
     "data": {
      "text/plain": [
       "   user  system elapsed \n",
       "   0.72    0.02    0.74 "
      ]
     },
     "metadata": {},
     "output_type": "display_data"
    }
   ],
   "source": [
    "system.time(test %>%\n",
    "filter(UniqueCarrier == \"AA\" | UniqueCarrier == \"OO\", Origin==\"IAH\") %>%\n",
    "summarise(mean(DepDelay, na.rm = T)))"
   ]
  },
  {
   "cell_type": "code",
   "execution_count": 36,
   "metadata": {},
   "outputs": [
    {
     "data": {
      "text/html": [
       "8.46782243236144"
      ],
      "text/latex": [
       "8.46782243236144"
      ],
      "text/markdown": [
       "8.46782243236144"
      ],
      "text/plain": [
       "[1] 8.467822"
      ]
     },
     "metadata": {},
     "output_type": "display_data"
    }
   ],
   "source": [
    "test.table[J(c(\"AA\", \"OO\"), \"IAH\"), mean(DepDelay, na.rm = T)]"
   ]
  },
  {
   "cell_type": "code",
   "execution_count": 37,
   "metadata": {},
   "outputs": [
    {
     "data": {
      "text/plain": [
       "   user  system elapsed \n",
       "   0.03    0.00    0.03 "
      ]
     },
     "metadata": {},
     "output_type": "display_data"
    }
   ],
   "source": [
    "system.time(test.table[J(c(\"AA\", \"OO\"), \"IAH\"), mean(DepDelay, na.rm = T)])"
   ]
  },
  {
   "cell_type": "code",
   "execution_count": 38,
   "metadata": {},
   "outputs": [
    {
     "data": {
      "text/html": [
       "24.6666666666667"
      ],
      "text/latex": [
       "24.6666666666667"
      ],
      "text/markdown": [
       "24.6666666666667"
      ],
      "text/plain": [
       "[1] 24.66667"
      ]
     },
     "metadata": {},
     "output_type": "display_data"
    }
   ],
   "source": [
    "0.74 / 0.03"
   ]
  },
  {
   "cell_type": "code",
   "execution_count": 40,
   "metadata": {},
   "outputs": [],
   "source": [
    "?runif"
   ]
  },
  {
   "cell_type": "code",
   "execution_count": 42,
   "metadata": {},
   "outputs": [
    {
     "data": {
      "text/html": [
       "<ol class=list-inline>\n",
       "\t<li>'A'</li>\n",
       "\t<li>'B'</li>\n",
       "\t<li>'C'</li>\n",
       "\t<li>'D'</li>\n",
       "\t<li>'E'</li>\n",
       "\t<li>'F'</li>\n",
       "\t<li>'G'</li>\n",
       "\t<li>'H'</li>\n",
       "\t<li>'I'</li>\n",
       "\t<li>'J'</li>\n",
       "\t<li>'K'</li>\n",
       "\t<li>'L'</li>\n",
       "\t<li>'M'</li>\n",
       "\t<li>'N'</li>\n",
       "\t<li>'O'</li>\n",
       "\t<li>'P'</li>\n",
       "\t<li>'Q'</li>\n",
       "\t<li>'R'</li>\n",
       "\t<li>'S'</li>\n",
       "\t<li>'T'</li>\n",
       "\t<li>'U'</li>\n",
       "\t<li>'V'</li>\n",
       "\t<li>'W'</li>\n",
       "\t<li>'X'</li>\n",
       "\t<li>'Y'</li>\n",
       "\t<li>'Z'</li>\n",
       "</ol>\n"
      ],
      "text/latex": [
       "\\begin{enumerate*}\n",
       "\\item 'A'\n",
       "\\item 'B'\n",
       "\\item 'C'\n",
       "\\item 'D'\n",
       "\\item 'E'\n",
       "\\item 'F'\n",
       "\\item 'G'\n",
       "\\item 'H'\n",
       "\\item 'I'\n",
       "\\item 'J'\n",
       "\\item 'K'\n",
       "\\item 'L'\n",
       "\\item 'M'\n",
       "\\item 'N'\n",
       "\\item 'O'\n",
       "\\item 'P'\n",
       "\\item 'Q'\n",
       "\\item 'R'\n",
       "\\item 'S'\n",
       "\\item 'T'\n",
       "\\item 'U'\n",
       "\\item 'V'\n",
       "\\item 'W'\n",
       "\\item 'X'\n",
       "\\item 'Y'\n",
       "\\item 'Z'\n",
       "\\end{enumerate*}\n"
      ],
      "text/markdown": [
       "1. 'A'\n",
       "2. 'B'\n",
       "3. 'C'\n",
       "4. 'D'\n",
       "5. 'E'\n",
       "6. 'F'\n",
       "7. 'G'\n",
       "8. 'H'\n",
       "9. 'I'\n",
       "10. 'J'\n",
       "11. 'K'\n",
       "12. 'L'\n",
       "13. 'M'\n",
       "14. 'N'\n",
       "15. 'O'\n",
       "16. 'P'\n",
       "17. 'Q'\n",
       "18. 'R'\n",
       "19. 'S'\n",
       "20. 'T'\n",
       "21. 'U'\n",
       "22. 'V'\n",
       "23. 'W'\n",
       "24. 'X'\n",
       "25. 'Y'\n",
       "26. 'Z'\n",
       "\n",
       "\n"
      ],
      "text/plain": [
       " [1] \"A\" \"B\" \"C\" \"D\" \"E\" \"F\" \"G\" \"H\" \"I\" \"J\" \"K\" \"L\" \"M\" \"N\" \"O\" \"P\" \"Q\" \"R\" \"S\"\n",
       "[20] \"T\" \"U\" \"V\" \"W\" \"X\" \"Y\" \"Z\""
      ]
     },
     "metadata": {},
     "output_type": "display_data"
    }
   ],
   "source": []
  },
  {
   "cell_type": "code",
   "execution_count": 48,
   "metadata": {},
   "outputs": [],
   "source": [
    "DF <- data.frame(x = runif(26000000), y = rep(LETTERS, each=10000))"
   ]
  },
  {
   "cell_type": "code",
   "execution_count": 49,
   "metadata": {},
   "outputs": [
    {
     "name": "stdout",
     "output_type": "stream",
     "text": [
      "'data.frame':\t26000000 obs. of  2 variables:\n",
      " $ x: num  0.358 0.342 0.658 0.216 0.765 ...\n",
      " $ y: Factor w/ 26 levels \"A\",\"B\",\"C\",\"D\",..: 1 1 1 1 1 1 1 1 1 1 ...\n"
     ]
    }
   ],
   "source": [
    "str(DF)"
   ]
  },
  {
   "cell_type": "code",
   "execution_count": 50,
   "metadata": {},
   "outputs": [],
   "source": [
    "df <- data.frame(y = c(\"A\", \"B\", \"C\"), z = c(\"a\", \"b\", \"c\"))"
   ]
  },
  {
   "cell_type": "code",
   "execution_count": 51,
   "metadata": {},
   "outputs": [],
   "source": [
    "DT <- as.data.table(DF)\n",
    "dt <- as.data.table(df)"
   ]
  },
  {
   "cell_type": "code",
   "execution_count": 52,
   "metadata": {},
   "outputs": [
    {
     "data": {
      "text/plain": [
       "   user  system elapsed \n",
       "  18.25    0.39   19.02 "
      ]
     },
     "metadata": {},
     "output_type": "display_data"
    }
   ],
   "source": [
    "system.time(tmp.merge <- merge(DF, df, by = 'y'))"
   ]
  },
  {
   "cell_type": "code",
   "execution_count": 54,
   "metadata": {},
   "outputs": [],
   "source": [
    "setkey(DT, y)"
   ]
  },
  {
   "cell_type": "code",
   "execution_count": 56,
   "metadata": {},
   "outputs": [
    {
     "data": {
      "text/plain": [
       "   user  system elapsed \n",
       "   0.05    0.00    0.04 "
      ]
     },
     "metadata": {},
     "output_type": "display_data"
    }
   ],
   "source": [
    "system.time(table.merge <- DT[dt, ])"
   ]
  },
  {
   "cell_type": "code",
   "execution_count": null,
   "metadata": {},
   "outputs": [],
   "source": []
  }
 ],
 "metadata": {
  "kernelspec": {
   "display_name": "R",
   "language": "R",
   "name": "ir"
  },
  "language_info": {
   "codemirror_mode": "r",
   "file_extension": ".r",
   "mimetype": "text/x-r-source",
   "name": "R",
   "pygments_lexer": "r",
   "version": "3.4.3"
  }
 },
 "nbformat": 4,
 "nbformat_minor": 2
}
