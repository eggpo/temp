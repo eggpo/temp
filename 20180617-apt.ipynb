{
 "cells": [
  {
   "cell_type": "code",
   "execution_count": 1,
   "metadata": {},
   "outputs": [
    {
     "name": "stderr",
     "output_type": "stream",
     "text": [
      "Warning message:\n",
      "\"package 'ggplot2' was built under R version 3.4.4\"\n",
      "Attaching package: 'dplyr'\n",
      "\n",
      "The following objects are masked from 'package:stats':\n",
      "\n",
      "    filter, lag\n",
      "\n",
      "The following objects are masked from 'package:base':\n",
      "\n",
      "    intersect, setdiff, setequal, union\n",
      "\n"
     ]
    }
   ],
   "source": [
    "library(ggplot2)\n",
    "library(dplyr)"
   ]
  },
  {
   "cell_type": "code",
   "execution_count": 2,
   "metadata": {},
   "outputs": [],
   "source": [
    "dirs <- c(\"./Data/apt/\")"
   ]
  },
  {
   "cell_type": "code",
   "execution_count": null,
   "metadata": {},
   "outputs": [],
   "source": [
    "c:\\test "
   ]
  },
  {
   "cell_type": "code",
   "execution_count": null,
   "metadata": {},
   "outputs": [],
   "source": [
    "c:\\\\test\n",
    "c:/test"
   ]
  },
  {
   "cell_type": "code",
   "execution_count": null,
   "metadata": {},
   "outputs": [],
   "source": [
    "C:\\Users\\Playdata\\Downloads"
   ]
  },
  {
   "cell_type": "code",
   "execution_count": 11,
   "metadata": {},
   "outputs": [],
   "source": [
    "apt.temp1 <- read.csv(\"./Data/apt/apt_201701.csv\", header = T, stringsAsFactors=F)"
   ]
  },
  {
   "cell_type": "code",
   "execution_count": 10,
   "metadata": {},
   "outputs": [],
   "source": [
    "apt.temp <- read.csv(\".\\\\Data\\\\apt\\\\apt_201701.csv\", header = T, stringsAsFactors=F)"
   ]
  },
  {
   "cell_type": "code",
   "execution_count": 5,
   "metadata": {},
   "outputs": [],
   "source": [
    "src_file <- list.files(dirs)"
   ]
  },
  {
   "cell_type": "code",
   "execution_count": 7,
   "metadata": {},
   "outputs": [
    {
     "name": "stdout",
     "output_type": "stream",
     "text": [
      "[1] \"apt.1 <- read.csv(\\\"./Data/apt//apt_201701.csv\\\", header = T, stringsAsFactors=F)\"\n",
      "[1] \"apt.2 <- read.csv(\\\"./Data/apt//apt_201702.csv\\\", header = T, stringsAsFactors=F)\"\n",
      "[1] \"apt.3 <- read.csv(\\\"./Data/apt//apt_201703.csv\\\", header = T, stringsAsFactors=F)\"\n",
      "[1] \"apt.4 <- read.csv(\\\"./Data/apt//apt_201704.csv\\\", header = T, stringsAsFactors=F)\"\n",
      "[1] \"apt.5 <- read.csv(\\\"./Data/apt//apt_201705.csv\\\", header = T, stringsAsFactors=F)\"\n",
      "[1] \"apt.6 <- read.csv(\\\"./Data/apt//apt_201706.csv\\\", header = T, stringsAsFactors=F)\"\n",
      "[1] \"apt.7 <- read.csv(\\\"./Data/apt//apt_201707.csv\\\", header = T, stringsAsFactors=F)\"\n",
      "[1] \"apt.8 <- read.csv(\\\"./Data/apt//apt_201708.csv\\\", header = T, stringsAsFactors=F)\"\n",
      "[1] \"apt.9 <- read.csv(\\\"./Data/apt//apt_201709.csv\\\", header = T, stringsAsFactors=F)\"\n",
      "[1] \"apt.10 <- read.csv(\\\"./Data/apt//apt_201710.csv\\\", header = T, stringsAsFactors=F)\"\n",
      "[1] \"apt.11 <- read.csv(\\\"./Data/apt//apt_201711.csv\\\", header = T, stringsAsFactors=F)\"\n",
      "[1] \"apt.12 <- read.csv(\\\"./Data/apt//apt_201712.csv\\\", header = T, stringsAsFactors=F)\"\n"
     ]
    }
   ],
   "source": [
    "i <- 1\n",
    "for(x in src_file){\n",
    "    rt <- paste(dirs, \"/\", x, sep=\"\")\n",
    "    file_name <- paste(\"apt.\", i, \" <- \n",
    "        read.csv(\\\"\", rt, \"\\\"\", \", header = T, stringsAsFactors=F)\", sep=\"\")\n",
    "    print (file_name)\n",
    "    eval(parse(text=file_name))\n",
    "    i <- i + 1\n",
    "}"
   ]
  },
  {
   "cell_type": "code",
   "execution_count": 14,
   "metadata": {},
   "outputs": [
    {
     "name": "stdout",
     "output_type": "stream",
     "text": [
      "[1] \"apt.1\"\n",
      " [1] \"시군구\"         \"번지\"           \"본번\"           \"부번\"          \n",
      " [5] \"단지명\"         \"전용면적...\"    \"계약년월\"       \"계약일\"        \n",
      " [9] \"거래금액.만원.\" \"층\"             \"건축년도\"       \"도로명\"        \n",
      "[1] \"=============\"\n",
      "[1] \"apt.2\"\n",
      " [1] \"시군구\"         \"번지\"           \"본번\"           \"부번\"          \n",
      " [5] \"단지명\"         \"전용면적...\"    \"계약년월\"       \"계약일\"        \n",
      " [9] \"거래금액.만원.\" \"층\"             \"건축년도\"       \"도로명\"        \n",
      "[1] \"=============\"\n",
      "[1] \"apt.3\"\n",
      " [1] \"시군구\"         \"번지\"           \"본번\"           \"부번\"          \n",
      " [5] \"단지명\"         \"전용면적...\"    \"계약년월\"       \"계약일\"        \n",
      " [9] \"거래금액.만원.\" \"층\"             \"건축년도\"       \"도로명\"        \n",
      "[1] \"=============\"\n",
      "[1] \"apt.4\"\n",
      " [1] \"시군구\"         \"번지\"           \"본번\"           \"부번\"          \n",
      " [5] \"단지명\"         \"전용면적...\"    \"계약년월\"       \"계약일\"        \n",
      " [9] \"거래금액.만원.\" \"층\"             \"건축년도\"       \"도로명\"        \n",
      "[1] \"=============\"\n",
      "[1] \"apt.5\"\n",
      " [1] \"시군구\"         \"번지\"           \"본번\"           \"부번\"          \n",
      " [5] \"단지명\"         \"전용면적...\"    \"계약년월\"       \"계약일\"        \n",
      " [9] \"거래금액.만원.\" \"층\"             \"건축년도\"       \"도로명\"        \n",
      "[1] \"=============\"\n",
      "[1] \"apt.6\"\n",
      " [1] \"시군구\"         \"번지\"           \"본번\"           \"부번\"          \n",
      " [5] \"단지명\"         \"전용면적...\"    \"계약년월\"       \"계약일\"        \n",
      " [9] \"거래금액.만원.\" \"층\"             \"건축년도\"       \"도로명\"        \n",
      "[1] \"=============\"\n",
      "[1] \"apt.7\"\n",
      " [1] \"시군구\"         \"번지\"           \"본번\"           \"부번\"          \n",
      " [5] \"단지명\"         \"전용면적...\"    \"계약년월\"       \"계약일\"        \n",
      " [9] \"거래금액.만원.\" \"층\"             \"건축년도\"       \"도로명\"        \n",
      "[1] \"=============\"\n",
      "[1] \"apt.8\"\n",
      " [1] \"시군구\"         \"번지\"           \"본번\"           \"부번\"          \n",
      " [5] \"단지명\"         \"전용면적...\"    \"계약년월\"       \"계약일\"        \n",
      " [9] \"거래금액.만원.\" \"층\"             \"건축년도\"       \"도로명\"        \n",
      "[1] \"=============\"\n",
      "[1] \"apt.9\"\n",
      " [1] \"시군구\"         \"번지\"           \"본번\"           \"부번\"          \n",
      " [5] \"단지명\"         \"전용면적...\"    \"계약년월\"       \"계약일\"        \n",
      " [9] \"거래금액.만원.\" \"층\"             \"건축년도\"       \"도로명\"        \n",
      "[1] \"=============\"\n",
      "[1] \"apt.10\"\n",
      " [1] \"시군구\"         \"번지\"           \"본번\"           \"부번\"          \n",
      " [5] \"단지명\"         \"전용면적...\"    \"계약년월\"       \"계약일\"        \n",
      " [9] \"거래금액.만원.\" \"층\"             \"건축년도\"       \"도로명\"        \n",
      "[1] \"=============\"\n",
      "[1] \"apt.11\"\n",
      " [1] \"시군구\"         \"번지\"           \"본번\"           \"부번\"          \n",
      " [5] \"단지명\"         \"전용면적...\"    \"계약년월\"       \"계약일\"        \n",
      " [9] \"거래금액.만원.\" \"층\"             \"건축년도\"       \"도로명\"        \n",
      "[1] \"=============\"\n",
      "[1] \"apt.12\"\n",
      " [1] \"시군구\"         \"번지\"           \"본번\"           \"부번\"          \n",
      " [5] \"단지명\"         \"전용면적...\"    \"계약년월\"       \"계약일\"        \n",
      " [9] \"거래금액.만원.\" \"층\"             \"건축년도\"       \"도로명\"        \n",
      "[1] \"=============\"\n"
     ]
    }
   ],
   "source": [
    "i <- 1\n",
    "for(x in 1:12){\n",
    "    txt <- paste(\"apt.\", x, sep=\"\")\n",
    "    print (txt)\n",
    "    print (colnames(eval(parse(text = txt))))\n",
    "    print (\"=============\")\n",
    "}"
   ]
  },
  {
   "cell_type": "code",
   "execution_count": 15,
   "metadata": {
    "collapsed": true
   },
   "outputs": [
    {
     "name": "stdout",
     "output_type": "stream",
     "text": [
      "[1] \"rbind(apt, apt.1)\"\n",
      "[1] \"=============\"\n",
      "[1] \"rbind(apt, apt.2)\"\n",
      "[1] \"=============\"\n",
      "[1] \"rbind(apt, apt.3)\"\n",
      "[1] \"=============\"\n",
      "[1] \"rbind(apt, apt.4)\"\n",
      "[1] \"=============\"\n",
      "[1] \"rbind(apt, apt.5)\"\n",
      "[1] \"=============\"\n",
      "[1] \"rbind(apt, apt.6)\"\n",
      "[1] \"=============\"\n",
      "[1] \"rbind(apt, apt.7)\"\n",
      "[1] \"=============\"\n",
      "[1] \"rbind(apt, apt.8)\"\n",
      "[1] \"=============\"\n",
      "[1] \"rbind(apt, apt.9)\"\n",
      "[1] \"=============\"\n",
      "[1] \"rbind(apt, apt.10)\"\n",
      "[1] \"=============\"\n",
      "[1] \"rbind(apt, apt.11)\"\n",
      "[1] \"=============\"\n",
      "[1] \"rbind(apt, apt.12)\"\n",
      "[1] \"=============\"\n"
     ]
    }
   ],
   "source": [
    "apt <- data.frame()\n",
    "for(x in 1:12){\n",
    "    txt <- paste(\"rbind(apt, \", \"apt.\", x, \")\", sep=\"\")\n",
    "    print (txt)\n",
    "    apt <- eval(parse(text = txt))\n",
    "    print (\"=============\")\n",
    "}"
   ]
  },
  {
   "cell_type": "code",
   "execution_count": 17,
   "metadata": {},
   "outputs": [],
   "source": []
  },
  {
   "cell_type": "code",
   "execution_count": 18,
   "metadata": {},
   "outputs": [
    {
     "data": {
      "text/html": [
       "'C:/Users/Playdata/Encore_06'"
      ],
      "text/latex": [
       "'C:/Users/Playdata/Encore\\_06'"
      ],
      "text/markdown": [
       "'C:/Users/Playdata/Encore_06'"
      ],
      "text/plain": [
       "[1] \"C:/Users/Playdata/Encore_06\""
      ]
     },
     "metadata": {},
     "output_type": "display_data"
    }
   ],
   "source": [
    "getwd()"
   ]
  },
  {
   "cell_type": "code",
   "execution_count": 1,
   "metadata": {},
   "outputs": [],
   "source": [
    "load(\"./apt.Rdata\")"
   ]
  },
  {
   "cell_type": "code",
   "execution_count": null,
   "metadata": {},
   "outputs": [],
   "source": [
    "apt %>%\n",
    "grep(\"서울\", 시군구 )"
   ]
  },
  {
   "cell_type": "code",
   "execution_count": 5,
   "metadata": {},
   "outputs": [
    {
     "data": {
      "text/html": [
       "7"
      ],
      "text/latex": [
       "7"
      ],
      "text/markdown": [
       "7"
      ],
      "text/plain": [
       "[1] 7"
      ]
     },
     "metadata": {},
     "output_type": "display_data"
    }
   ],
   "source": [
    "grep(\"G\", LETTERS)"
   ]
  },
  {
   "cell_type": "code",
   "execution_count": 4,
   "metadata": {},
   "outputs": [
    {
     "data": {
      "text/html": [
       "<ol class=list-inline>\n",
       "\t<li>FALSE</li>\n",
       "\t<li>FALSE</li>\n",
       "\t<li>FALSE</li>\n",
       "\t<li>FALSE</li>\n",
       "\t<li>FALSE</li>\n",
       "\t<li>FALSE</li>\n",
       "\t<li>TRUE</li>\n",
       "\t<li>FALSE</li>\n",
       "\t<li>FALSE</li>\n",
       "\t<li>FALSE</li>\n",
       "\t<li>FALSE</li>\n",
       "\t<li>FALSE</li>\n",
       "\t<li>FALSE</li>\n",
       "\t<li>FALSE</li>\n",
       "\t<li>FALSE</li>\n",
       "\t<li>FALSE</li>\n",
       "\t<li>FALSE</li>\n",
       "\t<li>FALSE</li>\n",
       "\t<li>FALSE</li>\n",
       "\t<li>FALSE</li>\n",
       "\t<li>FALSE</li>\n",
       "\t<li>FALSE</li>\n",
       "\t<li>FALSE</li>\n",
       "\t<li>FALSE</li>\n",
       "\t<li>FALSE</li>\n",
       "\t<li>FALSE</li>\n",
       "</ol>\n"
      ],
      "text/latex": [
       "\\begin{enumerate*}\n",
       "\\item FALSE\n",
       "\\item FALSE\n",
       "\\item FALSE\n",
       "\\item FALSE\n",
       "\\item FALSE\n",
       "\\item FALSE\n",
       "\\item TRUE\n",
       "\\item FALSE\n",
       "\\item FALSE\n",
       "\\item FALSE\n",
       "\\item FALSE\n",
       "\\item FALSE\n",
       "\\item FALSE\n",
       "\\item FALSE\n",
       "\\item FALSE\n",
       "\\item FALSE\n",
       "\\item FALSE\n",
       "\\item FALSE\n",
       "\\item FALSE\n",
       "\\item FALSE\n",
       "\\item FALSE\n",
       "\\item FALSE\n",
       "\\item FALSE\n",
       "\\item FALSE\n",
       "\\item FALSE\n",
       "\\item FALSE\n",
       "\\end{enumerate*}\n"
      ],
      "text/markdown": [
       "1. FALSE\n",
       "2. FALSE\n",
       "3. FALSE\n",
       "4. FALSE\n",
       "5. FALSE\n",
       "6. FALSE\n",
       "7. TRUE\n",
       "8. FALSE\n",
       "9. FALSE\n",
       "10. FALSE\n",
       "11. FALSE\n",
       "12. FALSE\n",
       "13. FALSE\n",
       "14. FALSE\n",
       "15. FALSE\n",
       "16. FALSE\n",
       "17. FALSE\n",
       "18. FALSE\n",
       "19. FALSE\n",
       "20. FALSE\n",
       "21. FALSE\n",
       "22. FALSE\n",
       "23. FALSE\n",
       "24. FALSE\n",
       "25. FALSE\n",
       "26. FALSE\n",
       "\n",
       "\n"
      ],
      "text/plain": [
       " [1] FALSE FALSE FALSE FALSE FALSE FALSE  TRUE FALSE FALSE FALSE FALSE FALSE\n",
       "[13] FALSE FALSE FALSE FALSE FALSE FALSE FALSE FALSE FALSE FALSE FALSE FALSE\n",
       "[25] FALSE FALSE"
      ]
     },
     "metadata": {},
     "output_type": "display_data"
    }
   ],
   "source": [
    "grepl(\"G\", LETTERS)"
   ]
  },
  {
   "cell_type": "code",
   "execution_count": 6,
   "metadata": {},
   "outputs": [],
   "source": [
    "load(\"./apt.RData\")"
   ]
  },
  {
   "cell_type": "code",
   "execution_count": 7,
   "metadata": {},
   "outputs": [
    {
     "data": {
      "text/html": [
       "<table>\n",
       "<thead><tr><th scope=col>시군구</th><th scope=col>번지</th><th scope=col>본번</th><th scope=col>부번</th><th scope=col>단지명</th><th scope=col>전용면적...</th><th scope=col>계약년월</th><th scope=col>계약일</th><th scope=col>거래금액.만원.</th><th scope=col>층</th><th scope=col>건축년도</th><th scope=col>도로명</th></tr></thead>\n",
       "<tbody>\n",
       "\t<tr><td>강원도 강릉시 견소동 </td><td>202                  </td><td>0202                 </td><td>0                    </td><td>송정한신             </td><td>59.80                </td><td>201701               </td><td>1~10                 </td><td>12,400               </td><td> 8                   </td><td>1997                 </td><td>경강로2539번길       </td></tr>\n",
       "\t<tr><td>강원도 강릉시 견소동 </td><td>289                  </td><td>0289                 </td><td>0                    </td><td>신도브래뉴           </td><td>84.99                </td><td>201701               </td><td>1~10                 </td><td>23,000               </td><td>13                   </td><td>2005                 </td><td>경강로2539번길       </td></tr>\n",
       "\t<tr><td>강원도 강릉시 견소동 </td><td>289                  </td><td>0289                 </td><td>0                    </td><td>신도브래뉴           </td><td>59.99                </td><td>201701               </td><td>1~10                 </td><td>15,800               </td><td> 9                   </td><td>2005                 </td><td>경강로2539번길       </td></tr>\n",
       "\t<tr><td>강원도 강릉시 견소동 </td><td>289                  </td><td>0289                 </td><td>0                    </td><td>신도브래뉴           </td><td>59.99                </td><td>201701               </td><td>21~31                </td><td>14,000               </td><td> 1                   </td><td>2005                 </td><td>경강로2539번길       </td></tr>\n",
       "\t<tr><td>강원도 강릉시 교동   </td><td>1983                 </td><td>1983                 </td><td>0                    </td><td>강릉교동롯데캐슬2단지</td><td>84.99                </td><td>201701               </td><td>1~10                 </td><td>27,250               </td><td>11                   </td><td>2009                 </td><td>화부산로111번길      </td></tr>\n",
       "\t<tr><td>강원도 강릉시 교동   </td><td>1750                 </td><td>1750                 </td><td>0                    </td><td>교동1주공            </td><td>59.89                </td><td>201701               </td><td>21~31                </td><td>15,500               </td><td> 2                   </td><td>1999                 </td><td>가작로               </td></tr>\n",
       "</tbody>\n",
       "</table>\n"
      ],
      "text/latex": [
       "\\begin{tabular}{r|llllllllllll}\n",
       " 시군구 & 번지 & 본번 & 부번 & 단지명 & 전용면적... & 계약년월 & 계약일 & 거래금액.만원. & 층 & 건축년도 & 도로명\\\\\n",
       "\\hline\n",
       "\t 강원도 강릉시 견소동   & 202                    & 0202                   & 0                      & 송정한신               & 59.80                  & 201701                 & 1\\textasciitilde{}10  & 12,400                 &  8                     & 1997                   & 경강로2539번길        \\\\\n",
       "\t 강원도 강릉시 견소동   & 289                    & 0289                   & 0                      & 신도브래뉴             & 84.99                  & 201701                 & 1\\textasciitilde{}10  & 23,000                 & 13                     & 2005                   & 경강로2539번길        \\\\\n",
       "\t 강원도 강릉시 견소동   & 289                    & 0289                   & 0                      & 신도브래뉴             & 59.99                  & 201701                 & 1\\textasciitilde{}10  & 15,800                 &  9                     & 2005                   & 경강로2539번길        \\\\\n",
       "\t 강원도 강릉시 견소동   & 289                    & 0289                   & 0                      & 신도브래뉴             & 59.99                  & 201701                 & 21\\textasciitilde{}31 & 14,000                 &  1                     & 2005                   & 경강로2539번길        \\\\\n",
       "\t 강원도 강릉시 교동     & 1983                   & 1983                   & 0                      & 강릉교동롯데캐슬2단지  & 84.99                  & 201701                 & 1\\textasciitilde{}10  & 27,250                 & 11                     & 2009                   & 화부산로111번길       \\\\\n",
       "\t 강원도 강릉시 교동     & 1750                   & 1750                   & 0                      & 교동1주공              & 59.89                  & 201701                 & 21\\textasciitilde{}31 & 15,500                 &  2                     & 1999                   & 가작로                \\\\\n",
       "\\end{tabular}\n"
      ],
      "text/markdown": [
       "\n",
       "시군구 | 번지 | 본번 | 부번 | 단지명 | 전용면적... | 계약년월 | 계약일 | 거래금액.만원. | 층 | 건축년도 | 도로명 | \n",
       "|---|---|---|---|---|---|\n",
       "| 강원도 강릉시 견소동  | 202                   | 0202                  | 0                     | 송정한신              | 59.80                 | 201701                | 1~10                  | 12,400                |  8                    | 1997                  | 경강로2539번길        | \n",
       "| 강원도 강릉시 견소동  | 289                   | 0289                  | 0                     | 신도브래뉴            | 84.99                 | 201701                | 1~10                  | 23,000                | 13                    | 2005                  | 경강로2539번길        | \n",
       "| 강원도 강릉시 견소동  | 289                   | 0289                  | 0                     | 신도브래뉴            | 59.99                 | 201701                | 1~10                  | 15,800                |  9                    | 2005                  | 경강로2539번길        | \n",
       "| 강원도 강릉시 견소동  | 289                   | 0289                  | 0                     | 신도브래뉴            | 59.99                 | 201701                | 21~31                 | 14,000                |  1                    | 2005                  | 경강로2539번길        | \n",
       "| 강원도 강릉시 교동    | 1983                  | 1983                  | 0                     | 강릉교동롯데캐슬2단지 | 84.99                 | 201701                | 1~10                  | 27,250                | 11                    | 2009                  | 화부산로111번길       | \n",
       "| 강원도 강릉시 교동    | 1750                  | 1750                  | 0                     | 교동1주공             | 59.89                 | 201701                | 21~31                 | 15,500                |  2                    | 1999                  | 가작로                | \n",
       "\n",
       "\n"
      ],
      "text/plain": [
       "  시군구               번지 본번 부번 단지명                전용면적...\n",
       "1 강원도 강릉시 견소동 202  0202 0    송정한신              59.80      \n",
       "2 강원도 강릉시 견소동 289  0289 0    신도브래뉴            84.99      \n",
       "3 강원도 강릉시 견소동 289  0289 0    신도브래뉴            59.99      \n",
       "4 강원도 강릉시 견소동 289  0289 0    신도브래뉴            59.99      \n",
       "5 강원도 강릉시 교동   1983 1983 0    강릉교동롯데캐슬2단지 84.99      \n",
       "6 강원도 강릉시 교동   1750 1750 0    교동1주공             59.89      \n",
       "  계약년월 계약일 거래금액.만원. 층 건축년도 도로명         \n",
       "1 201701   1~10   12,400          8 1997     경강로2539번길 \n",
       "2 201701   1~10   23,000         13 2005     경강로2539번길 \n",
       "3 201701   1~10   15,800          9 2005     경강로2539번길 \n",
       "4 201701   21~31  14,000          1 2005     경강로2539번길 \n",
       "5 201701   1~10   27,250         11 2009     화부산로111번길\n",
       "6 201701   21~31  15,500          2 1999     가작로         "
      ]
     },
     "metadata": {},
     "output_type": "display_data"
    }
   ],
   "source": [
    "head(apt)"
   ]
  },
  {
   "cell_type": "code",
   "execution_count": 3,
   "metadata": {},
   "outputs": [
    {
     "name": "stderr",
     "output_type": "stream",
     "text": [
      "\n",
      "Attaching package: 'dplyr'\n",
      "\n",
      "The following objects are masked from 'package:stats':\n",
      "\n",
      "    filter, lag\n",
      "\n",
      "The following objects are masked from 'package:base':\n",
      "\n",
      "    intersect, setdiff, setequal, union\n",
      "\n"
     ]
    }
   ],
   "source": [
    "library(dplyr)"
   ]
  },
  {
   "cell_type": "code",
   "execution_count": 4,
   "metadata": {},
   "outputs": [
    {
     "name": "stderr",
     "output_type": "stream",
     "text": [
      "Warning message:\n",
      "\"package 'bindrcpp' was built under R version 3.4.4\""
     ]
    }
   ],
   "source": [
    "apt.seoul <- apt %>%\n",
    "filter(grepl(\"서울\", 시군구))"
   ]
  },
  {
   "cell_type": "code",
   "execution_count": 10,
   "metadata": {},
   "outputs": [
    {
     "data": {
      "text/html": [
       "<table>\n",
       "<thead><tr><th scope=col>시군구</th><th scope=col>번지</th><th scope=col>본번</th><th scope=col>부번</th><th scope=col>단지명</th><th scope=col>전용면적...</th><th scope=col>계약년월</th><th scope=col>계약일</th><th scope=col>거래금액.만원.</th><th scope=col>층</th><th scope=col>건축년도</th><th scope=col>도로명</th></tr></thead>\n",
       "<tbody>\n",
       "\t<tr><td>서울특별시 강남구 개포동</td><td>141                     </td><td>0141                    </td><td>0                       </td><td>개포주공 1단지          </td><td>41.98                   </td><td>201701                  </td><td>1~10                    </td><td>97,500                  </td><td>4                       </td><td>1982                    </td><td>개포로                  </td></tr>\n",
       "\t<tr><td>서울특별시 강남구 개포동</td><td>141                     </td><td>0141                    </td><td>0                       </td><td>개포주공 1단지          </td><td>56.57                   </td><td>201701                  </td><td>1~10                    </td><td>123,000                 </td><td>3                       </td><td>1982                    </td><td>선릉로                  </td></tr>\n",
       "\t<tr><td>서울특별시 강남구 개포동</td><td>141                     </td><td>0141                    </td><td>0                       </td><td>개포주공 1단지          </td><td>50.64                   </td><td>201701                  </td><td>1~10                    </td><td>115,000                 </td><td>2                       </td><td>1982                    </td><td>개포로                  </td></tr>\n",
       "\t<tr><td>서울특별시 강남구 개포동</td><td>141                     </td><td>0141                    </td><td>0                       </td><td>개포주공 1단지          </td><td>41.98                   </td><td>201701                  </td><td>1~10                    </td><td>97,000                  </td><td>4                       </td><td>1982                    </td><td>개포로                  </td></tr>\n",
       "\t<tr><td>서울특별시 강남구 개포동</td><td>141                     </td><td>0141                    </td><td>0                       </td><td>개포주공 1단지          </td><td>42.55                   </td><td>201701                  </td><td>1~10                    </td><td>98,000                  </td><td>3                       </td><td>1982                    </td><td>개포로                  </td></tr>\n",
       "\t<tr><td>서울특별시 강남구 개포동</td><td>141                     </td><td>0141                    </td><td>0                       </td><td>개포주공 1단지          </td><td>41.98                   </td><td>201701                  </td><td>11~20                   </td><td>96,000                  </td><td>5                       </td><td>1982                    </td><td>개포로                  </td></tr>\n",
       "</tbody>\n",
       "</table>\n"
      ],
      "text/latex": [
       "\\begin{tabular}{r|llllllllllll}\n",
       " 시군구 & 번지 & 본번 & 부번 & 단지명 & 전용면적... & 계약년월 & 계약일 & 거래금액.만원. & 층 & 건축년도 & 도로명\\\\\n",
       "\\hline\n",
       "\t 서울특별시 강남구 개포동 & 141                      & 0141                     & 0                        & 개포주공 1단지           & 41.98                    & 201701                   & 1\\textasciitilde{}10    & 97,500                   & 4                        & 1982                     & 개포로                  \\\\\n",
       "\t 서울특별시 강남구 개포동 & 141                      & 0141                     & 0                        & 개포주공 1단지           & 56.57                    & 201701                   & 1\\textasciitilde{}10    & 123,000                  & 3                        & 1982                     & 선릉로                  \\\\\n",
       "\t 서울특별시 강남구 개포동 & 141                      & 0141                     & 0                        & 개포주공 1단지           & 50.64                    & 201701                   & 1\\textasciitilde{}10    & 115,000                  & 2                        & 1982                     & 개포로                  \\\\\n",
       "\t 서울특별시 강남구 개포동 & 141                      & 0141                     & 0                        & 개포주공 1단지           & 41.98                    & 201701                   & 1\\textasciitilde{}10    & 97,000                   & 4                        & 1982                     & 개포로                  \\\\\n",
       "\t 서울특별시 강남구 개포동 & 141                      & 0141                     & 0                        & 개포주공 1단지           & 42.55                    & 201701                   & 1\\textasciitilde{}10    & 98,000                   & 3                        & 1982                     & 개포로                  \\\\\n",
       "\t 서울특별시 강남구 개포동 & 141                      & 0141                     & 0                        & 개포주공 1단지           & 41.98                    & 201701                   & 11\\textasciitilde{}20   & 96,000                   & 5                        & 1982                     & 개포로                  \\\\\n",
       "\\end{tabular}\n"
      ],
      "text/markdown": [
       "\n",
       "시군구 | 번지 | 본번 | 부번 | 단지명 | 전용면적... | 계약년월 | 계약일 | 거래금액.만원. | 층 | 건축년도 | 도로명 | \n",
       "|---|---|---|---|---|---|\n",
       "| 서울특별시 강남구 개포동 | 141                      | 0141                     | 0                        | 개포주공 1단지           | 41.98                    | 201701                   | 1~10                     | 97,500                   | 4                        | 1982                     | 개포로                   | \n",
       "| 서울특별시 강남구 개포동 | 141                      | 0141                     | 0                        | 개포주공 1단지           | 56.57                    | 201701                   | 1~10                     | 123,000                  | 3                        | 1982                     | 선릉로                   | \n",
       "| 서울특별시 강남구 개포동 | 141                      | 0141                     | 0                        | 개포주공 1단지           | 50.64                    | 201701                   | 1~10                     | 115,000                  | 2                        | 1982                     | 개포로                   | \n",
       "| 서울특별시 강남구 개포동 | 141                      | 0141                     | 0                        | 개포주공 1단지           | 41.98                    | 201701                   | 1~10                     | 97,000                   | 4                        | 1982                     | 개포로                   | \n",
       "| 서울특별시 강남구 개포동 | 141                      | 0141                     | 0                        | 개포주공 1단지           | 42.55                    | 201701                   | 1~10                     | 98,000                   | 3                        | 1982                     | 개포로                   | \n",
       "| 서울특별시 강남구 개포동 | 141                      | 0141                     | 0                        | 개포주공 1단지           | 41.98                    | 201701                   | 11~20                    | 96,000                   | 5                        | 1982                     | 개포로                   | \n",
       "\n",
       "\n"
      ],
      "text/plain": [
       "  시군구                   번지 본번 부번 단지명         전용면적... 계약년월\n",
       "1 서울특별시 강남구 개포동 141  0141 0    개포주공 1단지 41.98       201701  \n",
       "2 서울특별시 강남구 개포동 141  0141 0    개포주공 1단지 56.57       201701  \n",
       "3 서울특별시 강남구 개포동 141  0141 0    개포주공 1단지 50.64       201701  \n",
       "4 서울특별시 강남구 개포동 141  0141 0    개포주공 1단지 41.98       201701  \n",
       "5 서울특별시 강남구 개포동 141  0141 0    개포주공 1단지 42.55       201701  \n",
       "6 서울특별시 강남구 개포동 141  0141 0    개포주공 1단지 41.98       201701  \n",
       "  계약일 거래금액.만원. 층 건축년도 도로명\n",
       "1 1~10   97,500         4  1982     개포로\n",
       "2 1~10   123,000        3  1982     선릉로\n",
       "3 1~10   115,000        2  1982     개포로\n",
       "4 1~10   97,000         4  1982     개포로\n",
       "5 1~10   98,000         3  1982     개포로\n",
       "6 11~20  96,000         5  1982     개포로"
      ]
     },
     "metadata": {},
     "output_type": "display_data"
    }
   ],
   "source": [
    "head(apt.seoul)"
   ]
  },
  {
   "cell_type": "code",
   "execution_count": 13,
   "metadata": {},
   "outputs": [
    {
     "data": {
      "text/html": [
       "<ol>\n",
       "\t<li><ol class=list-inline>\n",
       "\t<li>'서울특별시'</li>\n",
       "\t<li>'개포동'</li>\n",
       "</ol>\n",
       "</li>\n",
       "</ol>\n"
      ],
      "text/latex": [
       "\\begin{enumerate}\n",
       "\\item \\begin{enumerate*}\n",
       "\\item '서울특별시'\n",
       "\\item '개포동'\n",
       "\\end{enumerate*}\n",
       "\n",
       "\\end{enumerate}\n"
      ],
      "text/markdown": [
       "1. 1. '서울특별시'\n",
       "2. '개포동'\n",
       "\n",
       "\n",
       "\n",
       "\n",
       "\n"
      ],
      "text/plain": [
       "[[1]]\n",
       "[1] \"서울특별시\" \"개포동\"    \n"
      ]
     },
     "metadata": {},
     "output_type": "display_data"
    }
   ],
   "source": [
    "strsplit(\"서울특별시 강남구 개포동\", \"강남구\")"
   ]
  },
  {
   "cell_type": "code",
   "execution_count": 5,
   "metadata": {},
   "outputs": [],
   "source": [
    "sigungu <- strsplit(apt.seoul$시군구, \" \")"
   ]
  },
  {
   "cell_type": "code",
   "execution_count": 7,
   "metadata": {},
   "outputs": [
    {
     "name": "stdout",
     "output_type": "stream",
     "text": [
      "List of 102337\n",
      " $ : chr [1:3] \"서울특별시\" \"강남구\" \"개포동\"\n",
      " $ : chr [1:3] \"서울특별시\" \"강남구\" \"개포동\"\n",
      " $ : chr [1:3] \"서울특별시\" \"강남구\" \"개포동\"\n",
      " $ : chr [1:3] \"서울특별시\" \"강남구\" \"개포동\"\n",
      " $ : chr [1:3] \"서울특별시\" \"강남구\" \"개포동\"\n",
      " $ : chr [1:3] \"서울특별시\" \"강남구\" \"개포동\"\n",
      " $ : chr [1:3] \"서울특별시\" \"강남구\" \"개포동\"\n",
      " $ : chr [1:3] \"서울특별시\" \"강남구\" \"개포동\"\n",
      " $ : chr [1:3] \"서울특별시\" \"강남구\" \"개포동\"\n",
      " $ : chr [1:3] \"서울특별시\" \"강남구\" \"개포동\"\n",
      " $ : chr [1:3] \"서울특별시\" \"강남구\" \"개포동\"\n",
      " $ : chr [1:3] \"서울특별시\" \"강남구\" \"개포동\"\n",
      " $ : chr [1:3] \"서울특별시\" \"강남구\" \"개포동\"\n",
      " $ : chr [1:3] \"서울특별시\" \"강남구\" \"개포동\"\n",
      " $ : chr [1:3] \"서울특별시\" \"강남구\" \"개포동\"\n",
      " $ : chr [1:3] \"서울특별시\" \"강남구\" \"개포동\"\n",
      " $ : chr [1:3] \"서울특별시\" \"강남구\" \"개포동\"\n",
      " $ : chr [1:3] \"서울특별시\" \"강남구\" \"개포동\"\n",
      " $ : chr [1:3] \"서울특별시\" \"강남구\" \"개포동\"\n",
      " $ : chr [1:3] \"서울특별시\" \"강남구\" \"개포동\"\n",
      " $ : chr [1:3] \"서울특별시\" \"강남구\" \"개포동\"\n",
      " $ : chr [1:3] \"서울특별시\" \"강남구\" \"개포동\"\n",
      " $ : chr [1:3] \"서울특별시\" \"강남구\" \"개포동\"\n",
      " $ : chr [1:3] \"서울특별시\" \"강남구\" \"개포동\"\n",
      " $ : chr [1:3] \"서울특별시\" \"강남구\" \"개포동\"\n",
      " $ : chr [1:3] \"서울특별시\" \"강남구\" \"개포동\"\n",
      " $ : chr [1:3] \"서울특별시\" \"강남구\" \"개포동\"\n",
      " $ : chr [1:3] \"서울특별시\" \"강남구\" \"개포동\"\n",
      " $ : chr [1:3] \"서울특별시\" \"강남구\" \"개포동\"\n",
      " $ : chr [1:3] \"서울특별시\" \"강남구\" \"개포동\"\n",
      " $ : chr [1:3] \"서울특별시\" \"강남구\" \"개포동\"\n",
      " $ : chr [1:3] \"서울특별시\" \"강남구\" \"개포동\"\n",
      " $ : chr [1:3] \"서울특별시\" \"강남구\" \"개포동\"\n",
      " $ : chr [1:3] \"서울특별시\" \"강남구\" \"개포동\"\n",
      " $ : chr [1:3] \"서울특별시\" \"강남구\" \"개포동\"\n",
      " $ : chr [1:3] \"서울특별시\" \"강남구\" \"개포동\"\n",
      " $ : chr [1:3] \"서울특별시\" \"강남구\" \"개포동\"\n",
      " $ : chr [1:3] \"서울특별시\" \"강남구\" \"개포동\"\n",
      " $ : chr [1:3] \"서울특별시\" \"강남구\" \"논현동\"\n",
      " $ : chr [1:3] \"서울특별시\" \"강남구\" \"논현동\"\n",
      " $ : chr [1:3] \"서울특별시\" \"강남구\" \"논현동\"\n",
      " $ : chr [1:3] \"서울특별시\" \"강남구\" \"논현동\"\n",
      " $ : chr [1:3] \"서울특별시\" \"강남구\" \"논현동\"\n",
      " $ : chr [1:3] \"서울특별시\" \"강남구\" \"논현동\"\n",
      " $ : chr [1:3] \"서울특별시\" \"강남구\" \"논현동\"\n",
      " $ : chr [1:3] \"서울특별시\" \"강남구\" \"논현동\"\n",
      " $ : chr [1:3] \"서울특별시\" \"강남구\" \"대치동\"\n",
      " $ : chr [1:3] \"서울특별시\" \"강남구\" \"대치동\"\n",
      " $ : chr [1:3] \"서울특별시\" \"강남구\" \"대치동\"\n",
      " $ : chr [1:3] \"서울특별시\" \"강남구\" \"대치동\"\n",
      " $ : chr [1:3] \"서울특별시\" \"강남구\" \"대치동\"\n",
      " $ : chr [1:3] \"서울특별시\" \"강남구\" \"대치동\"\n",
      " $ : chr [1:3] \"서울특별시\" \"강남구\" \"대치동\"\n",
      " $ : chr [1:3] \"서울특별시\" \"강남구\" \"대치동\"\n",
      " $ : chr [1:3] \"서울특별시\" \"강남구\" \"대치동\"\n",
      " $ : chr [1:3] \"서울특별시\" \"강남구\" \"대치동\"\n",
      " $ : chr [1:3] \"서울특별시\" \"강남구\" \"대치동\"\n",
      " $ : chr [1:3] \"서울특별시\" \"강남구\" \"대치동\"\n",
      " $ : chr [1:3] \"서울특별시\" \"강남구\" \"대치동\"\n",
      " $ : chr [1:3] \"서울특별시\" \"강남구\" \"대치동\"\n",
      " $ : chr [1:3] \"서울특별시\" \"강남구\" \"대치동\"\n",
      " $ : chr [1:3] \"서울특별시\" \"강남구\" \"대치동\"\n",
      " $ : chr [1:3] \"서울특별시\" \"강남구\" \"대치동\"\n",
      " $ : chr [1:3] \"서울특별시\" \"강남구\" \"대치동\"\n",
      " $ : chr [1:3] \"서울특별시\" \"강남구\" \"대치동\"\n",
      " $ : chr [1:3] \"서울특별시\" \"강남구\" \"대치동\"\n",
      " $ : chr [1:3] \"서울특별시\" \"강남구\" \"대치동\"\n",
      " $ : chr [1:3] \"서울특별시\" \"강남구\" \"대치동\"\n",
      " $ : chr [1:3] \"서울특별시\" \"강남구\" \"대치동\"\n",
      " $ : chr [1:3] \"서울특별시\" \"강남구\" \"대치동\"\n",
      " $ : chr [1:3] \"서울특별시\" \"강남구\" \"대치동\"\n",
      " $ : chr [1:3] \"서울특별시\" \"강남구\" \"대치동\"\n",
      " $ : chr [1:3] \"서울특별시\" \"강남구\" \"대치동\"\n",
      " $ : chr [1:3] \"서울특별시\" \"강남구\" \"대치동\"\n",
      " $ : chr [1:3] \"서울특별시\" \"강남구\" \"대치동\"\n",
      " $ : chr [1:3] \"서울특별시\" \"강남구\" \"대치동\"\n",
      " $ : chr [1:3] \"서울특별시\" \"강남구\" \"대치동\"\n",
      " $ : chr [1:3] \"서울특별시\" \"강남구\" \"대치동\"\n",
      " $ : chr [1:3] \"서울특별시\" \"강남구\" \"대치동\"\n",
      " $ : chr [1:3] \"서울특별시\" \"강남구\" \"대치동\"\n",
      " $ : chr [1:3] \"서울특별시\" \"강남구\" \"대치동\"\n",
      " $ : chr [1:3] \"서울특별시\" \"강남구\" \"대치동\"\n",
      " $ : chr [1:3] \"서울특별시\" \"강남구\" \"대치동\"\n",
      " $ : chr [1:3] \"서울특별시\" \"강남구\" \"대치동\"\n",
      " $ : chr [1:3] \"서울특별시\" \"강남구\" \"대치동\"\n",
      " $ : chr [1:3] \"서울특별시\" \"강남구\" \"대치동\"\n",
      " $ : chr [1:3] \"서울특별시\" \"강남구\" \"대치동\"\n",
      " $ : chr [1:3] \"서울특별시\" \"강남구\" \"대치동\"\n",
      " $ : chr [1:3] \"서울특별시\" \"강남구\" \"대치동\"\n",
      " $ : chr [1:3] \"서울특별시\" \"강남구\" \"도곡동\"\n",
      " $ : chr [1:3] \"서울특별시\" \"강남구\" \"도곡동\"\n",
      " $ : chr [1:3] \"서울특별시\" \"강남구\" \"도곡동\"\n",
      " $ : chr [1:3] \"서울특별시\" \"강남구\" \"도곡동\"\n",
      " $ : chr [1:3] \"서울특별시\" \"강남구\" \"도곡동\"\n",
      " $ : chr [1:3] \"서울특별시\" \"강남구\" \"도곡동\"\n",
      " $ : chr [1:3] \"서울특별시\" \"강남구\" \"도곡동\"\n",
      " $ : chr [1:3] \"서울특별시\" \"강남구\" \"도곡동\"\n",
      " $ : chr [1:3] \"서울특별시\" \"강남구\" \"도곡동\"\n",
      " $ : chr [1:3] \"서울특별시\" \"강남구\" \"도곡동\"\n",
      "  [list output truncated]\n"
     ]
    }
   ],
   "source": [
    "str(sigungu)"
   ]
  },
  {
   "cell_type": "code",
   "execution_count": 8,
   "metadata": {},
   "outputs": [
    {
     "name": "stderr",
     "output_type": "stream",
     "text": [
      "Warning message:\n",
      "\"package 'plyr' was built under R version 3.4.4\"------------------------------------------------------------------------------\n",
      "You have loaded plyr after dplyr - this is likely to cause problems.\n",
      "If you need functions from both plyr and dplyr, please load plyr first, then dplyr:\n",
      "library(plyr); library(dplyr)\n",
      "------------------------------------------------------------------------------\n",
      "\n",
      "Attaching package: 'plyr'\n",
      "\n",
      "The following objects are masked from 'package:dplyr':\n",
      "\n",
      "    arrange, count, desc, failwith, id, mutate, rename, summarise,\n",
      "    summarize\n",
      "\n"
     ]
    }
   ],
   "source": [
    "library(plyr)"
   ]
  },
  {
   "cell_type": "code",
   "execution_count": 9,
   "metadata": {},
   "outputs": [],
   "source": [
    "df <- ldply(sigungu)"
   ]
  },
  {
   "cell_type": "code",
   "execution_count": 10,
   "metadata": {},
   "outputs": [
    {
     "data": {
      "text/html": [
       "<table>\n",
       "<thead><tr><th scope=col>V1</th><th scope=col>V2</th><th scope=col>V3</th></tr></thead>\n",
       "<tbody>\n",
       "\t<tr><td>서울특별시</td><td>강남구    </td><td>개포동    </td></tr>\n",
       "\t<tr><td>서울특별시</td><td>강남구    </td><td>개포동    </td></tr>\n",
       "\t<tr><td>서울특별시</td><td>강남구    </td><td>개포동    </td></tr>\n",
       "\t<tr><td>서울특별시</td><td>강남구    </td><td>개포동    </td></tr>\n",
       "\t<tr><td>서울특별시</td><td>강남구    </td><td>개포동    </td></tr>\n",
       "\t<tr><td>서울특별시</td><td>강남구    </td><td>개포동    </td></tr>\n",
       "</tbody>\n",
       "</table>\n"
      ],
      "text/latex": [
       "\\begin{tabular}{r|lll}\n",
       " V1 & V2 & V3\\\\\n",
       "\\hline\n",
       "\t 서울특별시 & 강남구     & 개포동    \\\\\n",
       "\t 서울특별시 & 강남구     & 개포동    \\\\\n",
       "\t 서울특별시 & 강남구     & 개포동    \\\\\n",
       "\t 서울특별시 & 강남구     & 개포동    \\\\\n",
       "\t 서울특별시 & 강남구     & 개포동    \\\\\n",
       "\t 서울특별시 & 강남구     & 개포동    \\\\\n",
       "\\end{tabular}\n"
      ],
      "text/markdown": [
       "\n",
       "V1 | V2 | V3 | \n",
       "|---|---|---|---|---|---|\n",
       "| 서울특별시 | 강남구     | 개포동     | \n",
       "| 서울특별시 | 강남구     | 개포동     | \n",
       "| 서울특별시 | 강남구     | 개포동     | \n",
       "| 서울특별시 | 강남구     | 개포동     | \n",
       "| 서울특별시 | 강남구     | 개포동     | \n",
       "| 서울특별시 | 강남구     | 개포동     | \n",
       "\n",
       "\n"
      ],
      "text/plain": [
       "  V1         V2     V3    \n",
       "1 서울특별시 강남구 개포동\n",
       "2 서울특별시 강남구 개포동\n",
       "3 서울특별시 강남구 개포동\n",
       "4 서울특별시 강남구 개포동\n",
       "5 서울특별시 강남구 개포동\n",
       "6 서울특별시 강남구 개포동"
      ]
     },
     "metadata": {},
     "output_type": "display_data"
    }
   ],
   "source": [
    "head(df)"
   ]
  },
  {
   "cell_type": "code",
   "execution_count": 15,
   "metadata": {},
   "outputs": [
    {
     "data": {
      "text/html": [
       "<ol class=list-inline>\n",
       "\t<li>'.GlobalEnv'</li>\n",
       "\t<li>'package:bindrcpp'</li>\n",
       "\t<li>'package:dplyr'</li>\n",
       "\t<li>'jupyter:irkernel'</li>\n",
       "\t<li>'package:RevoUtils'</li>\n",
       "\t<li>'package:stats'</li>\n",
       "\t<li>'package:graphics'</li>\n",
       "\t<li>'package:grDevices'</li>\n",
       "\t<li>'package:utils'</li>\n",
       "\t<li>'package:datasets'</li>\n",
       "\t<li>'package:methods'</li>\n",
       "\t<li>'Autoloads'</li>\n",
       "\t<li>'package:base'</li>\n",
       "</ol>\n"
      ],
      "text/latex": [
       "\\begin{enumerate*}\n",
       "\\item '.GlobalEnv'\n",
       "\\item 'package:bindrcpp'\n",
       "\\item 'package:dplyr'\n",
       "\\item 'jupyter:irkernel'\n",
       "\\item 'package:RevoUtils'\n",
       "\\item 'package:stats'\n",
       "\\item 'package:graphics'\n",
       "\\item 'package:grDevices'\n",
       "\\item 'package:utils'\n",
       "\\item 'package:datasets'\n",
       "\\item 'package:methods'\n",
       "\\item 'Autoloads'\n",
       "\\item 'package:base'\n",
       "\\end{enumerate*}\n"
      ],
      "text/markdown": [
       "1. '.GlobalEnv'\n",
       "2. 'package:bindrcpp'\n",
       "3. 'package:dplyr'\n",
       "4. 'jupyter:irkernel'\n",
       "5. 'package:RevoUtils'\n",
       "6. 'package:stats'\n",
       "7. 'package:graphics'\n",
       "8. 'package:grDevices'\n",
       "9. 'package:utils'\n",
       "10. 'package:datasets'\n",
       "11. 'package:methods'\n",
       "12. 'Autoloads'\n",
       "13. 'package:base'\n",
       "\n",
       "\n"
      ],
      "text/plain": [
       " [1] \".GlobalEnv\"        \"package:bindrcpp\"  \"package:dplyr\"    \n",
       " [4] \"jupyter:irkernel\"  \"package:RevoUtils\" \"package:stats\"    \n",
       " [7] \"package:graphics\"  \"package:grDevices\" \"package:utils\"    \n",
       "[10] \"package:datasets\"  \"package:methods\"   \"Autoloads\"        \n",
       "[13] \"package:base\"     "
      ]
     },
     "metadata": {},
     "output_type": "display_data"
    }
   ],
   "source": [
    "search()"
   ]
  },
  {
   "cell_type": "code",
   "execution_count": 11,
   "metadata": {},
   "outputs": [],
   "source": [
    "detach(\"package:plyr\", unload= T)"
   ]
  },
  {
   "cell_type": "code",
   "execution_count": 13,
   "metadata": {},
   "outputs": [],
   "source": [
    "colnames(df) <- c(\"시\", \"구\", \"동\")"
   ]
  },
  {
   "cell_type": "code",
   "execution_count": 14,
   "metadata": {},
   "outputs": [
    {
     "data": {
      "text/html": [
       "<table>\n",
       "<thead><tr><th scope=col>시</th><th scope=col>구</th><th scope=col>동</th></tr></thead>\n",
       "<tbody>\n",
       "\t<tr><td>서울특별시</td><td>강남구    </td><td>개포동    </td></tr>\n",
       "\t<tr><td>서울특별시</td><td>강남구    </td><td>개포동    </td></tr>\n",
       "\t<tr><td>서울특별시</td><td>강남구    </td><td>개포동    </td></tr>\n",
       "\t<tr><td>서울특별시</td><td>강남구    </td><td>개포동    </td></tr>\n",
       "\t<tr><td>서울특별시</td><td>강남구    </td><td>개포동    </td></tr>\n",
       "\t<tr><td>서울특별시</td><td>강남구    </td><td>개포동    </td></tr>\n",
       "\t<tr><td>서울특별시</td><td>강남구    </td><td>개포동    </td></tr>\n",
       "\t<tr><td>서울특별시</td><td>강남구    </td><td>개포동    </td></tr>\n",
       "\t<tr><td>서울특별시</td><td>강남구    </td><td>개포동    </td></tr>\n",
       "\t<tr><td>서울특별시</td><td>강남구    </td><td>개포동    </td></tr>\n",
       "\t<tr><td>서울특별시</td><td>강남구    </td><td>개포동    </td></tr>\n",
       "\t<tr><td>서울특별시</td><td>강남구    </td><td>개포동    </td></tr>\n",
       "\t<tr><td>서울특별시</td><td>강남구    </td><td>개포동    </td></tr>\n",
       "\t<tr><td>서울특별시</td><td>강남구    </td><td>개포동    </td></tr>\n",
       "\t<tr><td>서울특별시</td><td>강남구    </td><td>개포동    </td></tr>\n",
       "\t<tr><td>서울특별시</td><td>강남구    </td><td>개포동    </td></tr>\n",
       "\t<tr><td>서울특별시</td><td>강남구    </td><td>개포동    </td></tr>\n",
       "\t<tr><td>서울특별시</td><td>강남구    </td><td>개포동    </td></tr>\n",
       "\t<tr><td>서울특별시</td><td>강남구    </td><td>개포동    </td></tr>\n",
       "\t<tr><td>서울특별시</td><td>강남구    </td><td>개포동    </td></tr>\n",
       "\t<tr><td>서울특별시</td><td>강남구    </td><td>개포동    </td></tr>\n",
       "\t<tr><td>서울특별시</td><td>강남구    </td><td>개포동    </td></tr>\n",
       "\t<tr><td>서울특별시</td><td>강남구    </td><td>개포동    </td></tr>\n",
       "\t<tr><td>서울특별시</td><td>강남구    </td><td>개포동    </td></tr>\n",
       "\t<tr><td>서울특별시</td><td>강남구    </td><td>개포동    </td></tr>\n",
       "\t<tr><td>서울특별시</td><td>강남구    </td><td>개포동    </td></tr>\n",
       "\t<tr><td>서울특별시</td><td>강남구    </td><td>개포동    </td></tr>\n",
       "\t<tr><td>서울특별시</td><td>강남구    </td><td>개포동    </td></tr>\n",
       "\t<tr><td>서울특별시</td><td>강남구    </td><td>개포동    </td></tr>\n",
       "\t<tr><td>서울특별시</td><td>강남구    </td><td>개포동    </td></tr>\n",
       "\t<tr><td>...</td><td>...</td><td>...</td></tr>\n",
       "\t<tr><td>서울특별시</td><td>중랑구    </td><td>신내동    </td></tr>\n",
       "\t<tr><td>서울특별시</td><td>중랑구    </td><td>신내동    </td></tr>\n",
       "\t<tr><td>서울특별시</td><td>중랑구    </td><td>신내동    </td></tr>\n",
       "\t<tr><td>서울특별시</td><td>중랑구    </td><td>신내동    </td></tr>\n",
       "\t<tr><td>서울특별시</td><td>중랑구    </td><td>신내동    </td></tr>\n",
       "\t<tr><td>서울특별시</td><td>중랑구    </td><td>신내동    </td></tr>\n",
       "\t<tr><td>서울특별시</td><td>중랑구    </td><td>신내동    </td></tr>\n",
       "\t<tr><td>서울특별시</td><td>중랑구    </td><td>신내동    </td></tr>\n",
       "\t<tr><td>서울특별시</td><td>중랑구    </td><td>신내동    </td></tr>\n",
       "\t<tr><td>서울특별시</td><td>중랑구    </td><td>신내동    </td></tr>\n",
       "\t<tr><td>서울특별시</td><td>중랑구    </td><td>신내동    </td></tr>\n",
       "\t<tr><td>서울특별시</td><td>중랑구    </td><td>신내동    </td></tr>\n",
       "\t<tr><td>서울특별시</td><td>중랑구    </td><td>신내동    </td></tr>\n",
       "\t<tr><td>서울특별시</td><td>중랑구    </td><td>신내동    </td></tr>\n",
       "\t<tr><td>서울특별시</td><td>중랑구    </td><td>중화동    </td></tr>\n",
       "\t<tr><td>서울특별시</td><td>중랑구    </td><td>중화동    </td></tr>\n",
       "\t<tr><td>서울특별시</td><td>중랑구    </td><td>중화동    </td></tr>\n",
       "\t<tr><td>서울특별시</td><td>중랑구    </td><td>중화동    </td></tr>\n",
       "\t<tr><td>서울특별시</td><td>중랑구    </td><td>중화동    </td></tr>\n",
       "\t<tr><td>서울특별시</td><td>중랑구    </td><td>중화동    </td></tr>\n",
       "\t<tr><td>서울특별시</td><td>중랑구    </td><td>중화동    </td></tr>\n",
       "\t<tr><td>서울특별시</td><td>중랑구    </td><td>중화동    </td></tr>\n",
       "\t<tr><td>서울특별시</td><td>중랑구    </td><td>중화동    </td></tr>\n",
       "\t<tr><td>서울특별시</td><td>중랑구    </td><td>중화동    </td></tr>\n",
       "\t<tr><td>서울특별시</td><td>중랑구    </td><td>중화동    </td></tr>\n",
       "\t<tr><td>서울특별시</td><td>중랑구    </td><td>중화동    </td></tr>\n",
       "\t<tr><td>서울특별시</td><td>중랑구    </td><td>중화동    </td></tr>\n",
       "\t<tr><td>서울특별시</td><td>중랑구    </td><td>중화동    </td></tr>\n",
       "\t<tr><td>서울특별시</td><td>중랑구    </td><td>중화동    </td></tr>\n",
       "\t<tr><td>서울특별시</td><td>중랑구    </td><td>중화동    </td></tr>\n",
       "</tbody>\n",
       "</table>\n"
      ],
      "text/latex": [
       "\\begin{tabular}{r|lll}\n",
       " 시 & 구 & 동\\\\\n",
       "\\hline\n",
       "\t 서울특별시 & 강남구     & 개포동    \\\\\n",
       "\t 서울특별시 & 강남구     & 개포동    \\\\\n",
       "\t 서울특별시 & 강남구     & 개포동    \\\\\n",
       "\t 서울특별시 & 강남구     & 개포동    \\\\\n",
       "\t 서울특별시 & 강남구     & 개포동    \\\\\n",
       "\t 서울특별시 & 강남구     & 개포동    \\\\\n",
       "\t 서울특별시 & 강남구     & 개포동    \\\\\n",
       "\t 서울특별시 & 강남구     & 개포동    \\\\\n",
       "\t 서울특별시 & 강남구     & 개포동    \\\\\n",
       "\t 서울특별시 & 강남구     & 개포동    \\\\\n",
       "\t 서울특별시 & 강남구     & 개포동    \\\\\n",
       "\t 서울특별시 & 강남구     & 개포동    \\\\\n",
       "\t 서울특별시 & 강남구     & 개포동    \\\\\n",
       "\t 서울특별시 & 강남구     & 개포동    \\\\\n",
       "\t 서울특별시 & 강남구     & 개포동    \\\\\n",
       "\t 서울특별시 & 강남구     & 개포동    \\\\\n",
       "\t 서울특별시 & 강남구     & 개포동    \\\\\n",
       "\t 서울특별시 & 강남구     & 개포동    \\\\\n",
       "\t 서울특별시 & 강남구     & 개포동    \\\\\n",
       "\t 서울특별시 & 강남구     & 개포동    \\\\\n",
       "\t 서울특별시 & 강남구     & 개포동    \\\\\n",
       "\t 서울특별시 & 강남구     & 개포동    \\\\\n",
       "\t 서울특별시 & 강남구     & 개포동    \\\\\n",
       "\t 서울특별시 & 강남구     & 개포동    \\\\\n",
       "\t 서울특별시 & 강남구     & 개포동    \\\\\n",
       "\t 서울특별시 & 강남구     & 개포동    \\\\\n",
       "\t 서울특별시 & 강남구     & 개포동    \\\\\n",
       "\t 서울특별시 & 강남구     & 개포동    \\\\\n",
       "\t 서울특별시 & 강남구     & 개포동    \\\\\n",
       "\t 서울특별시 & 강남구     & 개포동    \\\\\n",
       "\t ... & ... & ...\\\\\n",
       "\t 서울특별시 & 중랑구     & 신내동    \\\\\n",
       "\t 서울특별시 & 중랑구     & 신내동    \\\\\n",
       "\t 서울특별시 & 중랑구     & 신내동    \\\\\n",
       "\t 서울특별시 & 중랑구     & 신내동    \\\\\n",
       "\t 서울특별시 & 중랑구     & 신내동    \\\\\n",
       "\t 서울특별시 & 중랑구     & 신내동    \\\\\n",
       "\t 서울특별시 & 중랑구     & 신내동    \\\\\n",
       "\t 서울특별시 & 중랑구     & 신내동    \\\\\n",
       "\t 서울특별시 & 중랑구     & 신내동    \\\\\n",
       "\t 서울특별시 & 중랑구     & 신내동    \\\\\n",
       "\t 서울특별시 & 중랑구     & 신내동    \\\\\n",
       "\t 서울특별시 & 중랑구     & 신내동    \\\\\n",
       "\t 서울특별시 & 중랑구     & 신내동    \\\\\n",
       "\t 서울특별시 & 중랑구     & 신내동    \\\\\n",
       "\t 서울특별시 & 중랑구     & 중화동    \\\\\n",
       "\t 서울특별시 & 중랑구     & 중화동    \\\\\n",
       "\t 서울특별시 & 중랑구     & 중화동    \\\\\n",
       "\t 서울특별시 & 중랑구     & 중화동    \\\\\n",
       "\t 서울특별시 & 중랑구     & 중화동    \\\\\n",
       "\t 서울특별시 & 중랑구     & 중화동    \\\\\n",
       "\t 서울특별시 & 중랑구     & 중화동    \\\\\n",
       "\t 서울특별시 & 중랑구     & 중화동    \\\\\n",
       "\t 서울특별시 & 중랑구     & 중화동    \\\\\n",
       "\t 서울특별시 & 중랑구     & 중화동    \\\\\n",
       "\t 서울특별시 & 중랑구     & 중화동    \\\\\n",
       "\t 서울특별시 & 중랑구     & 중화동    \\\\\n",
       "\t 서울특별시 & 중랑구     & 중화동    \\\\\n",
       "\t 서울특별시 & 중랑구     & 중화동    \\\\\n",
       "\t 서울특별시 & 중랑구     & 중화동    \\\\\n",
       "\t 서울특별시 & 중랑구     & 중화동    \\\\\n",
       "\\end{tabular}\n"
      ],
      "text/markdown": [
       "\n",
       "시 | 구 | 동 | \n",
       "|---|---|---|---|---|---|---|---|---|---|---|---|---|---|---|---|---|---|---|---|---|---|---|---|---|---|---|---|---|---|---|---|---|---|---|---|---|---|---|---|---|---|---|---|---|---|---|---|---|---|---|---|---|---|---|---|---|---|---|---|---|\n",
       "| 서울특별시 | 강남구     | 개포동     | \n",
       "| 서울특별시 | 강남구     | 개포동     | \n",
       "| 서울특별시 | 강남구     | 개포동     | \n",
       "| 서울특별시 | 강남구     | 개포동     | \n",
       "| 서울특별시 | 강남구     | 개포동     | \n",
       "| 서울특별시 | 강남구     | 개포동     | \n",
       "| 서울특별시 | 강남구     | 개포동     | \n",
       "| 서울특별시 | 강남구     | 개포동     | \n",
       "| 서울특별시 | 강남구     | 개포동     | \n",
       "| 서울특별시 | 강남구     | 개포동     | \n",
       "| 서울특별시 | 강남구     | 개포동     | \n",
       "| 서울특별시 | 강남구     | 개포동     | \n",
       "| 서울특별시 | 강남구     | 개포동     | \n",
       "| 서울특별시 | 강남구     | 개포동     | \n",
       "| 서울특별시 | 강남구     | 개포동     | \n",
       "| 서울특별시 | 강남구     | 개포동     | \n",
       "| 서울특별시 | 강남구     | 개포동     | \n",
       "| 서울특별시 | 강남구     | 개포동     | \n",
       "| 서울특별시 | 강남구     | 개포동     | \n",
       "| 서울특별시 | 강남구     | 개포동     | \n",
       "| 서울특별시 | 강남구     | 개포동     | \n",
       "| 서울특별시 | 강남구     | 개포동     | \n",
       "| 서울특별시 | 강남구     | 개포동     | \n",
       "| 서울특별시 | 강남구     | 개포동     | \n",
       "| 서울특별시 | 강남구     | 개포동     | \n",
       "| 서울특별시 | 강남구     | 개포동     | \n",
       "| 서울특별시 | 강남구     | 개포동     | \n",
       "| 서울특별시 | 강남구     | 개포동     | \n",
       "| 서울특별시 | 강남구     | 개포동     | \n",
       "| 서울특별시 | 강남구     | 개포동     | \n",
       "| ... | ... | ... | \n",
       "| 서울특별시 | 중랑구     | 신내동     | \n",
       "| 서울특별시 | 중랑구     | 신내동     | \n",
       "| 서울특별시 | 중랑구     | 신내동     | \n",
       "| 서울특별시 | 중랑구     | 신내동     | \n",
       "| 서울특별시 | 중랑구     | 신내동     | \n",
       "| 서울특별시 | 중랑구     | 신내동     | \n",
       "| 서울특별시 | 중랑구     | 신내동     | \n",
       "| 서울특별시 | 중랑구     | 신내동     | \n",
       "| 서울특별시 | 중랑구     | 신내동     | \n",
       "| 서울특별시 | 중랑구     | 신내동     | \n",
       "| 서울특별시 | 중랑구     | 신내동     | \n",
       "| 서울특별시 | 중랑구     | 신내동     | \n",
       "| 서울특별시 | 중랑구     | 신내동     | \n",
       "| 서울특별시 | 중랑구     | 신내동     | \n",
       "| 서울특별시 | 중랑구     | 중화동     | \n",
       "| 서울특별시 | 중랑구     | 중화동     | \n",
       "| 서울특별시 | 중랑구     | 중화동     | \n",
       "| 서울특별시 | 중랑구     | 중화동     | \n",
       "| 서울특별시 | 중랑구     | 중화동     | \n",
       "| 서울특별시 | 중랑구     | 중화동     | \n",
       "| 서울특별시 | 중랑구     | 중화동     | \n",
       "| 서울특별시 | 중랑구     | 중화동     | \n",
       "| 서울특별시 | 중랑구     | 중화동     | \n",
       "| 서울특별시 | 중랑구     | 중화동     | \n",
       "| 서울특별시 | 중랑구     | 중화동     | \n",
       "| 서울특별시 | 중랑구     | 중화동     | \n",
       "| 서울특별시 | 중랑구     | 중화동     | \n",
       "| 서울특별시 | 중랑구     | 중화동     | \n",
       "| 서울특별시 | 중랑구     | 중화동     | \n",
       "| 서울특별시 | 중랑구     | 중화동     | \n",
       "\n",
       "\n"
      ],
      "text/plain": [
       "       시         구     동    \n",
       "1      서울특별시 강남구 개포동\n",
       "2      서울특별시 강남구 개포동\n",
       "3      서울특별시 강남구 개포동\n",
       "4      서울특별시 강남구 개포동\n",
       "5      서울특별시 강남구 개포동\n",
       "6      서울특별시 강남구 개포동\n",
       "7      서울특별시 강남구 개포동\n",
       "8      서울특별시 강남구 개포동\n",
       "9      서울특별시 강남구 개포동\n",
       "10     서울특별시 강남구 개포동\n",
       "11     서울특별시 강남구 개포동\n",
       "12     서울특별시 강남구 개포동\n",
       "13     서울특별시 강남구 개포동\n",
       "14     서울특별시 강남구 개포동\n",
       "15     서울특별시 강남구 개포동\n",
       "16     서울특별시 강남구 개포동\n",
       "17     서울특별시 강남구 개포동\n",
       "18     서울특별시 강남구 개포동\n",
       "19     서울특별시 강남구 개포동\n",
       "20     서울특별시 강남구 개포동\n",
       "21     서울특별시 강남구 개포동\n",
       "22     서울특별시 강남구 개포동\n",
       "23     서울특별시 강남구 개포동\n",
       "24     서울특별시 강남구 개포동\n",
       "25     서울특별시 강남구 개포동\n",
       "26     서울특별시 강남구 개포동\n",
       "27     서울특별시 강남구 개포동\n",
       "28     서울특별시 강남구 개포동\n",
       "29     서울특별시 강남구 개포동\n",
       "30     서울특별시 강남구 개포동\n",
       "...    ...        ...    ...   \n",
       "102308 서울특별시 중랑구 신내동\n",
       "102309 서울특별시 중랑구 신내동\n",
       "102310 서울특별시 중랑구 신내동\n",
       "102311 서울특별시 중랑구 신내동\n",
       "102312 서울특별시 중랑구 신내동\n",
       "102313 서울특별시 중랑구 신내동\n",
       "102314 서울특별시 중랑구 신내동\n",
       "102315 서울특별시 중랑구 신내동\n",
       "102316 서울특별시 중랑구 신내동\n",
       "102317 서울특별시 중랑구 신내동\n",
       "102318 서울특별시 중랑구 신내동\n",
       "102319 서울특별시 중랑구 신내동\n",
       "102320 서울특별시 중랑구 신내동\n",
       "102321 서울특별시 중랑구 신내동\n",
       "102322 서울특별시 중랑구 중화동\n",
       "102323 서울특별시 중랑구 중화동\n",
       "102324 서울특별시 중랑구 중화동\n",
       "102325 서울특별시 중랑구 중화동\n",
       "102326 서울특별시 중랑구 중화동\n",
       "102327 서울특별시 중랑구 중화동\n",
       "102328 서울특별시 중랑구 중화동\n",
       "102329 서울특별시 중랑구 중화동\n",
       "102330 서울특별시 중랑구 중화동\n",
       "102331 서울특별시 중랑구 중화동\n",
       "102332 서울특별시 중랑구 중화동\n",
       "102333 서울특별시 중랑구 중화동\n",
       "102334 서울특별시 중랑구 중화동\n",
       "102335 서울특별시 중랑구 중화동\n",
       "102336 서울특별시 중랑구 중화동\n",
       "102337 서울특별시 중랑구 중화동"
      ]
     },
     "metadata": {},
     "output_type": "display_data"
    }
   ],
   "source": [
    "df"
   ]
  },
  {
   "cell_type": "code",
   "execution_count": 16,
   "metadata": {},
   "outputs": [],
   "source": [
    "apt.seoul.dong <- cbind(apt.seoul, df)"
   ]
  },
  {
   "cell_type": "code",
   "execution_count": 19,
   "metadata": {},
   "outputs": [
    {
     "name": "stdout",
     "output_type": "stream",
     "text": [
      "'data.frame':\t102337 obs. of  15 variables:\n",
      " $ 시군구        : chr  \"서울특별시 강남구 개포동\" \"서울특별시 강남구 개포동\" \"서울특별시 강남구 개포동\" \"서울특별시 강남구 개포동\" ...\n",
      " $ 번지          : chr  \"141\" \"141\" \"141\" \"141\" ...\n",
      " $ 본번          : chr  \"0141\" \"0141\" \"0141\" \"0141\" ...\n",
      " $ 부번          : int  0 0 0 0 0 0 0 0 0 0 ...\n",
      " $ 단지명        : chr  \"개포주공 1단지\" \"개포주공 1단지\" \"개포주공 1단지\" \"개포주공 1단지\" ...\n",
      " $ 전용면적...   : num  42 56.6 50.6 42 42.5 ...\n",
      " $ 계약년월      : int  201701 201701 201701 201701 201701 201701 201701 201701 201701 201701 ...\n",
      " $ 계약일        : chr  \"1~10\" \"1~10\" \"1~10\" \"1~10\" ...\n",
      " $ 거래금액.만원.: chr  \"97,500\" \"123,000\" \"115,000\" \"97,000\" ...\n",
      " $ 층            : int  4 3 2 4 3 5 3 3 4 3 ...\n",
      " $ 건축년도      : int  1982 1982 1982 1982 1982 1982 1982 1982 1982 1982 ...\n",
      " $ 도로명        : chr  \"개포로\" \"선릉로\" \"개포로\" \"개포로\" ...\n",
      " $ 시            : chr  \"서울특별시\" \"서울특별시\" \"서울특별시\" \"서울특별시\" ...\n",
      " $ 구            : chr  \"강남구\" \"강남구\" \"강남구\" \"강남구\" ...\n",
      " $ 동            : chr  \"개포동\" \"개포동\" \"개포동\" \"개포동\" ...\n"
     ]
    }
   ],
   "source": [
    "str(apt.seoul.dong)"
   ]
  },
  {
   "cell_type": "code",
   "execution_count": 18,
   "metadata": {},
   "outputs": [],
   "source": [
    "save(list=ls(), file=\"./apt2.RData\")"
   ]
  },
  {
   "cell_type": "code",
   "execution_count": 20,
   "metadata": {},
   "outputs": [
    {
     "data": {
      "text/html": [
       "'aasdf---afadf'"
      ],
      "text/latex": [
       "'aasdf---afadf'"
      ],
      "text/markdown": [
       "'aasdf---afadf'"
      ],
      "text/plain": [
       "[1] \"aasdf---afadf\""
      ]
     },
     "metadata": {},
     "output_type": "display_data"
    }
   ],
   "source": [
    "gsub(\", \", \"---\", \"aasdf, afadf\")"
   ]
  },
  {
   "cell_type": "code",
   "execution_count": 21,
   "metadata": {},
   "outputs": [],
   "source": [
    "apt.seoul.dong$거래금액.만원. <- \n",
    "    as.numeric(gsub('[$,]', \"\",apt.seoul.dong$거래금액.만원.))"
   ]
  },
  {
   "cell_type": "code",
   "execution_count": 24,
   "metadata": {},
   "outputs": [
    {
     "data": {
      "text/html": [
       "9"
      ],
      "text/latex": [
       "9"
      ],
      "text/markdown": [
       "9"
      ],
      "text/plain": [
       "[1] 9"
      ]
     },
     "metadata": {},
     "output_type": "display_data"
    }
   ],
   "source": [
    "grep(\"거래금액\", colnames(apt.seoul.dong))"
   ]
  },
  {
   "cell_type": "code",
   "execution_count": 26,
   "metadata": {},
   "outputs": [],
   "source": [
    "colnames(apt.seoul.dong)[9] <- c(\"거래금액\")"
   ]
  },
  {
   "cell_type": "code",
   "execution_count": 28,
   "metadata": {},
   "outputs": [
    {
     "name": "stdout",
     "output_type": "stream",
     "text": [
      "'data.frame':\t102337 obs. of  15 variables:\n",
      " $ 시군구     : chr  \"서울특별시 강남구 개포동\" \"서울특별시 강남구 개포동\" \"서울특별시 강남구 개포동\" \"서울특별시 강남구 개포동\" ...\n",
      " $ 번지       : chr  \"141\" \"141\" \"141\" \"141\" ...\n",
      " $ 본번       : chr  \"0141\" \"0141\" \"0141\" \"0141\" ...\n",
      " $ 부번       : int  0 0 0 0 0 0 0 0 0 0 ...\n",
      " $ 단지명     : chr  \"개포주공 1단지\" \"개포주공 1단지\" \"개포주공 1단지\" \"개포주공 1단지\" ...\n",
      " $ 전용면적...: num  42 56.6 50.6 42 42.5 ...\n",
      " $ 계약년월   : int  201701 201701 201701 201701 201701 201701 201701 201701 201701 201701 ...\n",
      " $ 계약일     : chr  \"1~10\" \"1~10\" \"1~10\" \"1~10\" ...\n",
      " $ 거래금액   : num  97500 123000 115000 97000 98000 96000 99200 115000 100000 130000 ...\n",
      " $ 층         : int  4 3 2 4 3 5 3 3 4 3 ...\n",
      " $ 건축년도   : int  1982 1982 1982 1982 1982 1982 1982 1982 1982 1982 ...\n",
      " $ 도로명     : chr  \"개포로\" \"선릉로\" \"개포로\" \"개포로\" ...\n",
      " $ 시         : chr  \"서울특별시\" \"서울특별시\" \"서울특별시\" \"서울특별시\" ...\n",
      " $ 구         : chr  \"강남구\" \"강남구\" \"강남구\" \"강남구\" ...\n",
      " $ 동         : chr  \"개포동\" \"개포동\" \"개포동\" \"개포동\" ...\n"
     ]
    }
   ],
   "source": [
    "str(apt.seoul.dong)"
   ]
  },
  {
   "cell_type": "code",
   "execution_count": 32,
   "metadata": {},
   "outputs": [
    {
     "data": {
      "text/html": [
       "<table>\n",
       "<thead><tr><th scope=col>구</th><th scope=col>평균금액</th></tr></thead>\n",
       "<tbody>\n",
       "\t<tr><td>강남구   </td><td>125739.17</td></tr>\n",
       "\t<tr><td>서초구   </td><td>119922.34</td></tr>\n",
       "\t<tr><td>용산구   </td><td>106476.43</td></tr>\n",
       "\t<tr><td>송파구   </td><td> 84345.14</td></tr>\n",
       "\t<tr><td>성동구   </td><td> 66735.01</td></tr>\n",
       "\t<tr><td>광진구   </td><td> 66226.77</td></tr>\n",
       "\t<tr><td>마포구   </td><td> 65145.56</td></tr>\n",
       "\t<tr><td>양천구   </td><td> 62692.63</td></tr>\n",
       "\t<tr><td>동작구   </td><td> 61483.29</td></tr>\n",
       "\t<tr><td>중구     </td><td> 60894.28</td></tr>\n",
       "\t<tr><td>강동구   </td><td> 58021.20</td></tr>\n",
       "\t<tr><td>종로구   </td><td> 56273.34</td></tr>\n",
       "\t<tr><td>영등포구 </td><td> 55907.07</td></tr>\n",
       "\t<tr><td>서대문구 </td><td> 48589.70</td></tr>\n",
       "\t<tr><td>강서구   </td><td> 46495.29</td></tr>\n",
       "\t<tr><td>동대문구 </td><td> 45278.34</td></tr>\n",
       "\t<tr><td>성북구   </td><td> 44350.86</td></tr>\n",
       "\t<tr><td>은평구   </td><td> 43224.91</td></tr>\n",
       "\t<tr><td>관악구   </td><td> 40584.60</td></tr>\n",
       "\t<tr><td>구로구   </td><td> 39019.36</td></tr>\n",
       "\t<tr><td>강북구   </td><td> 37600.33</td></tr>\n",
       "\t<tr><td>중랑구   </td><td> 35006.12</td></tr>\n",
       "\t<tr><td>노원구   </td><td> 34114.79</td></tr>\n",
       "\t<tr><td>금천구   </td><td> 33506.59</td></tr>\n",
       "\t<tr><td>도봉구   </td><td> 32503.49</td></tr>\n",
       "</tbody>\n",
       "</table>\n"
      ],
      "text/latex": [
       "\\begin{tabular}{r|ll}\n",
       " 구 & 평균금액\\\\\n",
       "\\hline\n",
       "\t 강남구    & 125739.17\\\\\n",
       "\t 서초구    & 119922.34\\\\\n",
       "\t 용산구    & 106476.43\\\\\n",
       "\t 송파구    &  84345.14\\\\\n",
       "\t 성동구    &  66735.01\\\\\n",
       "\t 광진구    &  66226.77\\\\\n",
       "\t 마포구    &  65145.56\\\\\n",
       "\t 양천구    &  62692.63\\\\\n",
       "\t 동작구    &  61483.29\\\\\n",
       "\t 중구      &  60894.28\\\\\n",
       "\t 강동구    &  58021.20\\\\\n",
       "\t 종로구    &  56273.34\\\\\n",
       "\t 영등포구  &  55907.07\\\\\n",
       "\t 서대문구  &  48589.70\\\\\n",
       "\t 강서구    &  46495.29\\\\\n",
       "\t 동대문구  &  45278.34\\\\\n",
       "\t 성북구    &  44350.86\\\\\n",
       "\t 은평구    &  43224.91\\\\\n",
       "\t 관악구    &  40584.60\\\\\n",
       "\t 구로구    &  39019.36\\\\\n",
       "\t 강북구    &  37600.33\\\\\n",
       "\t 중랑구    &  35006.12\\\\\n",
       "\t 노원구    &  34114.79\\\\\n",
       "\t 금천구    &  33506.59\\\\\n",
       "\t 도봉구    &  32503.49\\\\\n",
       "\\end{tabular}\n"
      ],
      "text/markdown": [
       "\n",
       "구 | 평균금액 | \n",
       "|---|---|---|---|---|---|---|---|---|---|---|---|---|---|---|---|---|---|---|---|---|---|---|---|---|\n",
       "| 강남구    | 125739.17 | \n",
       "| 서초구    | 119922.34 | \n",
       "| 용산구    | 106476.43 | \n",
       "| 송파구    |  84345.14 | \n",
       "| 성동구    |  66735.01 | \n",
       "| 광진구    |  66226.77 | \n",
       "| 마포구    |  65145.56 | \n",
       "| 양천구    |  62692.63 | \n",
       "| 동작구    |  61483.29 | \n",
       "| 중구      |  60894.28 | \n",
       "| 강동구    |  58021.20 | \n",
       "| 종로구    |  56273.34 | \n",
       "| 영등포구  |  55907.07 | \n",
       "| 서대문구  |  48589.70 | \n",
       "| 강서구    |  46495.29 | \n",
       "| 동대문구  |  45278.34 | \n",
       "| 성북구    |  44350.86 | \n",
       "| 은평구    |  43224.91 | \n",
       "| 관악구    |  40584.60 | \n",
       "| 구로구    |  39019.36 | \n",
       "| 강북구    |  37600.33 | \n",
       "| 중랑구    |  35006.12 | \n",
       "| 노원구    |  34114.79 | \n",
       "| 금천구    |  33506.59 | \n",
       "| 도봉구    |  32503.49 | \n",
       "\n",
       "\n"
      ],
      "text/plain": [
       "   구       평균금액 \n",
       "1  강남구   125739.17\n",
       "2  서초구   119922.34\n",
       "3  용산구   106476.43\n",
       "4  송파구    84345.14\n",
       "5  성동구    66735.01\n",
       "6  광진구    66226.77\n",
       "7  마포구    65145.56\n",
       "8  양천구    62692.63\n",
       "9  동작구    61483.29\n",
       "10 중구      60894.28\n",
       "11 강동구    58021.20\n",
       "12 종로구    56273.34\n",
       "13 영등포구  55907.07\n",
       "14 서대문구  48589.70\n",
       "15 강서구    46495.29\n",
       "16 동대문구  45278.34\n",
       "17 성북구    44350.86\n",
       "18 은평구    43224.91\n",
       "19 관악구    40584.60\n",
       "20 구로구    39019.36\n",
       "21 강북구    37600.33\n",
       "22 중랑구    35006.12\n",
       "23 노원구    34114.79\n",
       "24 금천구    33506.59\n",
       "25 도봉구    32503.49"
      ]
     },
     "metadata": {},
     "output_type": "display_data"
    }
   ],
   "source": [
    "apt.seoul.dong %>%\n",
    "group_by(구) %>%\n",
    "summarise( 평균금액 = mean(거래금액)) %>%\n",
    "arrange(desc(평균금액))"
   ]
  },
  {
   "cell_type": "code",
   "execution_count": 33,
   "metadata": {},
   "outputs": [],
   "source": [
    "apt.max <- apt.seoul.dong %>%\n",
    "group_by(구) %>%\n",
    "summarise( 최대금액 = max(거래금액)) %>%\n",
    "arrange(desc(최대금액))"
   ]
  },
  {
   "cell_type": "code",
   "execution_count": 35,
   "metadata": {},
   "outputs": [
    {
     "data": {
      "text/html": [
       "<table>\n",
       "<thead><tr><th scope=col>구</th><th scope=col>최대금액</th></tr></thead>\n",
       "<tbody>\n",
       "\t<tr><td>용산구  </td><td>780000  </td></tr>\n",
       "\t<tr><td>성동구  </td><td>530000  </td></tr>\n",
       "\t<tr><td>강남구  </td><td>525000  </td></tr>\n",
       "\t<tr><td>서초구  </td><td>480000  </td></tr>\n",
       "\t<tr><td>중구    </td><td>420000  </td></tr>\n",
       "\t<tr><td>송파구  </td><td>335000  </td></tr>\n",
       "\t<tr><td>마포구  </td><td>231600  </td></tr>\n",
       "\t<tr><td>양천구  </td><td>220000  </td></tr>\n",
       "\t<tr><td>영등포구</td><td>220000  </td></tr>\n",
       "\t<tr><td>광진구  </td><td>200000  </td></tr>\n",
       "\t<tr><td>종로구  </td><td>186290  </td></tr>\n",
       "\t<tr><td>서대문구</td><td>155000  </td></tr>\n",
       "\t<tr><td>강동구  </td><td>142000  </td></tr>\n",
       "\t<tr><td>성북구  </td><td>138000  </td></tr>\n",
       "\t<tr><td>동작구  </td><td>135400  </td></tr>\n",
       "\t<tr><td>구로구  </td><td>134000  </td></tr>\n",
       "\t<tr><td>강서구  </td><td>131000  </td></tr>\n",
       "\t<tr><td>은평구  </td><td>125000  </td></tr>\n",
       "\t<tr><td>중랑구  </td><td>105000  </td></tr>\n",
       "\t<tr><td>동대문구</td><td> 90000  </td></tr>\n",
       "\t<tr><td>도봉구  </td><td> 87000  </td></tr>\n",
       "\t<tr><td>관악구  </td><td> 85000  </td></tr>\n",
       "\t<tr><td>노원구  </td><td> 82600  </td></tr>\n",
       "\t<tr><td>강북구  </td><td> 80000  </td></tr>\n",
       "\t<tr><td>금천구  </td><td> 70000  </td></tr>\n",
       "</tbody>\n",
       "</table>\n"
      ],
      "text/latex": [
       "\\begin{tabular}{r|ll}\n",
       " 구 & 최대금액\\\\\n",
       "\\hline\n",
       "\t 용산구   & 780000  \\\\\n",
       "\t 성동구   & 530000  \\\\\n",
       "\t 강남구   & 525000  \\\\\n",
       "\t 서초구   & 480000  \\\\\n",
       "\t 중구     & 420000  \\\\\n",
       "\t 송파구   & 335000  \\\\\n",
       "\t 마포구   & 231600  \\\\\n",
       "\t 양천구   & 220000  \\\\\n",
       "\t 영등포구 & 220000  \\\\\n",
       "\t 광진구   & 200000  \\\\\n",
       "\t 종로구   & 186290  \\\\\n",
       "\t 서대문구 & 155000  \\\\\n",
       "\t 강동구   & 142000  \\\\\n",
       "\t 성북구   & 138000  \\\\\n",
       "\t 동작구   & 135400  \\\\\n",
       "\t 구로구   & 134000  \\\\\n",
       "\t 강서구   & 131000  \\\\\n",
       "\t 은평구   & 125000  \\\\\n",
       "\t 중랑구   & 105000  \\\\\n",
       "\t 동대문구 &  90000  \\\\\n",
       "\t 도봉구   &  87000  \\\\\n",
       "\t 관악구   &  85000  \\\\\n",
       "\t 노원구   &  82600  \\\\\n",
       "\t 강북구   &  80000  \\\\\n",
       "\t 금천구   &  70000  \\\\\n",
       "\\end{tabular}\n"
      ],
      "text/markdown": [
       "\n",
       "구 | 최대금액 | \n",
       "|---|---|---|---|---|---|---|---|---|---|---|---|---|---|---|---|---|---|---|---|---|---|---|---|---|\n",
       "| 용산구   | 780000   | \n",
       "| 성동구   | 530000   | \n",
       "| 강남구   | 525000   | \n",
       "| 서초구   | 480000   | \n",
       "| 중구     | 420000   | \n",
       "| 송파구   | 335000   | \n",
       "| 마포구   | 231600   | \n",
       "| 양천구   | 220000   | \n",
       "| 영등포구 | 220000   | \n",
       "| 광진구   | 200000   | \n",
       "| 종로구   | 186290   | \n",
       "| 서대문구 | 155000   | \n",
       "| 강동구   | 142000   | \n",
       "| 성북구   | 138000   | \n",
       "| 동작구   | 135400   | \n",
       "| 구로구   | 134000   | \n",
       "| 강서구   | 131000   | \n",
       "| 은평구   | 125000   | \n",
       "| 중랑구   | 105000   | \n",
       "| 동대문구 |  90000   | \n",
       "| 도봉구   |  87000   | \n",
       "| 관악구   |  85000   | \n",
       "| 노원구   |  82600   | \n",
       "| 강북구   |  80000   | \n",
       "| 금천구   |  70000   | \n",
       "\n",
       "\n"
      ],
      "text/plain": [
       "   구       최대금액\n",
       "1  용산구   780000  \n",
       "2  성동구   530000  \n",
       "3  강남구   525000  \n",
       "4  서초구   480000  \n",
       "5  중구     420000  \n",
       "6  송파구   335000  \n",
       "7  마포구   231600  \n",
       "8  양천구   220000  \n",
       "9  영등포구 220000  \n",
       "10 광진구   200000  \n",
       "11 종로구   186290  \n",
       "12 서대문구 155000  \n",
       "13 강동구   142000  \n",
       "14 성북구   138000  \n",
       "15 동작구   135400  \n",
       "16 구로구   134000  \n",
       "17 강서구   131000  \n",
       "18 은평구   125000  \n",
       "19 중랑구   105000  \n",
       "20 동대문구  90000  \n",
       "21 도봉구    87000  \n",
       "22 관악구    85000  \n",
       "23 노원구    82600  \n",
       "24 강북구    80000  \n",
       "25 금천구    70000  "
      ]
     },
     "metadata": {},
     "output_type": "display_data"
    }
   ],
   "source": [
    "apt.max"
   ]
  },
  {
   "cell_type": "code",
   "execution_count": 38,
   "metadata": {},
   "outputs": [],
   "source": [
    "apt.min <- apt.seoul.dong %>%\n",
    "group_by(구) %>%\n",
    "summarise( 최소금액 = min(거래금액)) %>%\n",
    "arrange(desc(최소금액))"
   ]
  },
  {
   "cell_type": "code",
   "execution_count": 39,
   "metadata": {},
   "outputs": [
    {
     "data": {
      "text/html": [
       "<table>\n",
       "<thead><tr><th scope=col>구</th><th scope=col>최소금액</th></tr></thead>\n",
       "<tbody>\n",
       "\t<tr><td>서초구  </td><td>21000   </td></tr>\n",
       "\t<tr><td>송파구  </td><td>15400   </td></tr>\n",
       "\t<tr><td>강남구  </td><td>15132   </td></tr>\n",
       "\t<tr><td>광진구  </td><td>13000   </td></tr>\n",
       "\t<tr><td>용산구  </td><td>13000   </td></tr>\n",
       "\t<tr><td>마포구  </td><td>12000   </td></tr>\n",
       "\t<tr><td>성동구  </td><td>12000   </td></tr>\n",
       "\t<tr><td>성북구  </td><td>11700   </td></tr>\n",
       "\t<tr><td>중구    </td><td>11700   </td></tr>\n",
       "\t<tr><td>관악구  </td><td>10500   </td></tr>\n",
       "\t<tr><td>은평구  </td><td>10400   </td></tr>\n",
       "\t<tr><td>동작구  </td><td>10000   </td></tr>\n",
       "\t<tr><td>영등포구</td><td> 9600   </td></tr>\n",
       "\t<tr><td>동대문구</td><td> 9500   </td></tr>\n",
       "\t<tr><td>노원구  </td><td> 9000   </td></tr>\n",
       "\t<tr><td>중랑구  </td><td> 8800   </td></tr>\n",
       "\t<tr><td>강북구  </td><td> 8600   </td></tr>\n",
       "\t<tr><td>금천구  </td><td> 8500   </td></tr>\n",
       "\t<tr><td>종로구  </td><td> 8500   </td></tr>\n",
       "\t<tr><td>강동구  </td><td> 8300   </td></tr>\n",
       "\t<tr><td>양천구  </td><td> 8000   </td></tr>\n",
       "\t<tr><td>도봉구  </td><td> 7500   </td></tr>\n",
       "\t<tr><td>서대문구</td><td> 7000   </td></tr>\n",
       "\t<tr><td>구로구  </td><td> 6500   </td></tr>\n",
       "\t<tr><td>강서구  </td><td> 6100   </td></tr>\n",
       "</tbody>\n",
       "</table>\n"
      ],
      "text/latex": [
       "\\begin{tabular}{r|ll}\n",
       " 구 & 최소금액\\\\\n",
       "\\hline\n",
       "\t 서초구   & 21000   \\\\\n",
       "\t 송파구   & 15400   \\\\\n",
       "\t 강남구   & 15132   \\\\\n",
       "\t 광진구   & 13000   \\\\\n",
       "\t 용산구   & 13000   \\\\\n",
       "\t 마포구   & 12000   \\\\\n",
       "\t 성동구   & 12000   \\\\\n",
       "\t 성북구   & 11700   \\\\\n",
       "\t 중구     & 11700   \\\\\n",
       "\t 관악구   & 10500   \\\\\n",
       "\t 은평구   & 10400   \\\\\n",
       "\t 동작구   & 10000   \\\\\n",
       "\t 영등포구 &  9600   \\\\\n",
       "\t 동대문구 &  9500   \\\\\n",
       "\t 노원구   &  9000   \\\\\n",
       "\t 중랑구   &  8800   \\\\\n",
       "\t 강북구   &  8600   \\\\\n",
       "\t 금천구   &  8500   \\\\\n",
       "\t 종로구   &  8500   \\\\\n",
       "\t 강동구   &  8300   \\\\\n",
       "\t 양천구   &  8000   \\\\\n",
       "\t 도봉구   &  7500   \\\\\n",
       "\t 서대문구 &  7000   \\\\\n",
       "\t 구로구   &  6500   \\\\\n",
       "\t 강서구   &  6100   \\\\\n",
       "\\end{tabular}\n"
      ],
      "text/markdown": [
       "\n",
       "구 | 최소금액 | \n",
       "|---|---|---|---|---|---|---|---|---|---|---|---|---|---|---|---|---|---|---|---|---|---|---|---|---|\n",
       "| 서초구   | 21000    | \n",
       "| 송파구   | 15400    | \n",
       "| 강남구   | 15132    | \n",
       "| 광진구   | 13000    | \n",
       "| 용산구   | 13000    | \n",
       "| 마포구   | 12000    | \n",
       "| 성동구   | 12000    | \n",
       "| 성북구   | 11700    | \n",
       "| 중구     | 11700    | \n",
       "| 관악구   | 10500    | \n",
       "| 은평구   | 10400    | \n",
       "| 동작구   | 10000    | \n",
       "| 영등포구 |  9600    | \n",
       "| 동대문구 |  9500    | \n",
       "| 노원구   |  9000    | \n",
       "| 중랑구   |  8800    | \n",
       "| 강북구   |  8600    | \n",
       "| 금천구   |  8500    | \n",
       "| 종로구   |  8500    | \n",
       "| 강동구   |  8300    | \n",
       "| 양천구   |  8000    | \n",
       "| 도봉구   |  7500    | \n",
       "| 서대문구 |  7000    | \n",
       "| 구로구   |  6500    | \n",
       "| 강서구   |  6100    | \n",
       "\n",
       "\n"
      ],
      "text/plain": [
       "   구       최소금액\n",
       "1  서초구   21000   \n",
       "2  송파구   15400   \n",
       "3  강남구   15132   \n",
       "4  광진구   13000   \n",
       "5  용산구   13000   \n",
       "6  마포구   12000   \n",
       "7  성동구   12000   \n",
       "8  성북구   11700   \n",
       "9  중구     11700   \n",
       "10 관악구   10500   \n",
       "11 은평구   10400   \n",
       "12 동작구   10000   \n",
       "13 영등포구  9600   \n",
       "14 동대문구  9500   \n",
       "15 노원구    9000   \n",
       "16 중랑구    8800   \n",
       "17 강북구    8600   \n",
       "18 금천구    8500   \n",
       "19 종로구    8500   \n",
       "20 강동구    8300   \n",
       "21 양천구    8000   \n",
       "22 도봉구    7500   \n",
       "23 서대문구  7000   \n",
       "24 구로구    6500   \n",
       "25 강서구    6100   "
      ]
     },
     "metadata": {},
     "output_type": "display_data"
    }
   ],
   "source": [
    "apt.min"
   ]
  },
  {
   "cell_type": "code",
   "execution_count": 40,
   "metadata": {},
   "outputs": [
    {
     "data": {
      "text/html": [
       "<table>\n",
       "<thead><tr><th></th><th scope=col>시군구</th><th scope=col>번지</th><th scope=col>본번</th><th scope=col>부번</th><th scope=col>단지명</th><th scope=col>전용면적...</th><th scope=col>계약년월</th><th scope=col>계약일</th><th scope=col>거래금액</th><th scope=col>층</th><th scope=col>건축년도</th><th scope=col>도로명</th><th scope=col>시</th><th scope=col>구</th><th scope=col>동</th></tr></thead>\n",
       "<tbody>\n",
       "\t<tr><th scope=row>54318</th><td>서울특별시 용산구 한남동</td><td>810                     </td><td>0810                    </td><td>0                       </td><td>한남더힐                </td><td>244.78                  </td><td>201706                  </td><td>11~20                   </td><td>780000                  </td><td>3                       </td><td>2011                    </td><td>독서당로                </td><td>서울특별시              </td><td>용산구                  </td><td>한남동                  </td></tr>\n",
       "</tbody>\n",
       "</table>\n"
      ],
      "text/latex": [
       "\\begin{tabular}{r|lllllllllllllll}\n",
       "  & 시군구 & 번지 & 본번 & 부번 & 단지명 & 전용면적... & 계약년월 & 계약일 & 거래금액 & 층 & 건축년도 & 도로명 & 시 & 구 & 동\\\\\n",
       "\\hline\n",
       "\t54318 & 서울특별시 용산구 한남동 & 810                      & 0810                     & 0                        & 한남더힐                 & 244.78                   & 201706                   & 11\\textasciitilde{}20   & 780000                   & 3                        & 2011                     & 독서당로                 & 서울특별시               & 용산구                   & 한남동                  \\\\\n",
       "\\end{tabular}\n"
      ],
      "text/markdown": [
       "\n",
       "| <!--/--> | 시군구 | 번지 | 본번 | 부번 | 단지명 | 전용면적... | 계약년월 | 계약일 | 거래금액 | 층 | 건축년도 | 도로명 | 시 | 구 | 동 | \n",
       "|---|\n",
       "| 54318 | 서울특별시 용산구 한남동 | 810                      | 0810                     | 0                        | 한남더힐                 | 244.78                   | 201706                   | 11~20                    | 780000                   | 3                        | 2011                     | 독서당로                 | 서울특별시               | 용산구                   | 한남동                   | \n",
       "\n",
       "\n"
      ],
      "text/plain": [
       "      시군구                   번지 본번 부번 단지명   전용면적... 계약년월\n",
       "54318 서울특별시 용산구 한남동 810  0810 0    한남더힐 244.78      201706  \n",
       "      계약일 거래금액 층 건축년도 도로명   시         구     동    \n",
       "54318 11~20  780000   3  2011     독서당로 서울특별시 용산구 한남동"
      ]
     },
     "metadata": {},
     "output_type": "display_data"
    }
   ],
   "source": [
    "apt.seoul.dong[apt.seoul.dong$거래금액 == 780000, ]"
   ]
  },
  {
   "cell_type": "code",
   "execution_count": 46,
   "metadata": {},
   "outputs": [],
   "source": [
    "kangnam <- apt.seoul.dong %>% \n",
    "filter(구 %in% c('강남구', '서초구', '송파구')) %>%\n",
    "group_by(동) %>%\n",
    "summarise(평균금액 = mean(거래금액), 최대금액 = max(거래금액), \n",
    "          최소금액 = min(거래금액),\n",
    "         중간금액 = median(거래금액)) %>%\n",
    "arrange(desc(평균금액))"
   ]
  },
  {
   "cell_type": "code",
   "execution_count": 47,
   "metadata": {},
   "outputs": [
    {
     "data": {
      "text/html": [
       "<table>\n",
       "<thead><tr><th scope=col>동</th><th scope=col>평균금액</th><th scope=col>최대금액</th><th scope=col>최소금액</th><th scope=col>중간금액</th></tr></thead>\n",
       "<tbody>\n",
       "\t<tr><td>압구정동 </td><td>218982.04</td><td>425000   </td><td>107300   </td><td>197000   </td></tr>\n",
       "\t<tr><td>반포동   </td><td>177404.10</td><td>379500   </td><td> 38000   </td><td>167000   </td></tr>\n",
       "\t<tr><td>대치동   </td><td>154352.79</td><td>347000   </td><td> 20000   </td><td>145000   </td></tr>\n",
       "\t<tr><td>청담동   </td><td>141556.28</td><td>525000   </td><td> 22500   </td><td>128000   </td></tr>\n",
       "\t<tr><td>삼성동   </td><td>135592.72</td><td>490000   </td><td> 26000   </td><td>125000   </td></tr>\n",
       "\t<tr><td>도곡동   </td><td>134691.52</td><td>492000   </td><td> 23000   </td><td>130000   </td></tr>\n",
       "\t<tr><td>잠실동   </td><td>129667.97</td><td>335000   </td><td> 48000   </td><td>129000   </td></tr>\n",
       "\t<tr><td>잠원동   </td><td>123924.09</td><td>345000   </td><td> 37200   </td><td>120000   </td></tr>\n",
       "\t<tr><td>신천동   </td><td>108392.09</td><td>240000   </td><td> 45300   </td><td>106500   </td></tr>\n",
       "\t<tr><td>방배동   </td><td>107467.02</td><td>300000   </td><td> 28700   </td><td>104700   </td></tr>\n",
       "\t<tr><td>개포동   </td><td>107240.80</td><td>260000   </td><td> 34000   </td><td>104000   </td></tr>\n",
       "\t<tr><td>서초동   </td><td>106179.43</td><td>480000   </td><td> 21000   </td><td>106000   </td></tr>\n",
       "\t<tr><td>일원동   </td><td>101423.67</td><td>156000   </td><td> 44500   </td><td>104350   </td></tr>\n",
       "\t<tr><td>역삼동   </td><td>101050.26</td><td>200000   </td><td> 15132   </td><td>103350   </td></tr>\n",
       "\t<tr><td>자곡동   </td><td> 99012.41</td><td>131500   </td><td> 56400   </td><td> 98000   </td></tr>\n",
       "\t<tr><td>신사동   </td><td> 97431.62</td><td>325000   </td><td> 35000   </td><td> 87250   </td></tr>\n",
       "\t<tr><td>방이동   </td><td> 96735.16</td><td>195000   </td><td> 17000   </td><td> 94900   </td></tr>\n",
       "\t<tr><td>논현동   </td><td> 95539.85</td><td>395000   </td><td> 21000   </td><td> 88150   </td></tr>\n",
       "\t<tr><td>내곡동   </td><td> 85716.69</td><td>121000   </td><td> 67964   </td><td> 85000   </td></tr>\n",
       "\t<tr><td>신원동   </td><td> 84853.57</td><td>142500   </td><td> 50618   </td><td> 84000   </td></tr>\n",
       "\t<tr><td>우면동   </td><td> 81349.23</td><td>131000   </td><td> 23000   </td><td> 82000   </td></tr>\n",
       "\t<tr><td>수서동   </td><td> 77547.96</td><td>298000   </td><td> 36000   </td><td> 71000   </td></tr>\n",
       "\t<tr><td>세곡동   </td><td> 76654.61</td><td> 94500   </td><td> 58500   </td><td> 76500   </td></tr>\n",
       "\t<tr><td>송파동   </td><td> 76654.42</td><td>120000   </td><td> 24500   </td><td> 78500   </td></tr>\n",
       "\t<tr><td>문정동   </td><td> 75681.66</td><td>175000   </td><td> 20300   </td><td> 80250   </td></tr>\n",
       "\t<tr><td>율현동   </td><td> 73694.12</td><td> 90000   </td><td> 60000   </td><td> 70000   </td></tr>\n",
       "\t<tr><td>장지동   </td><td> 68108.51</td><td>220000   </td><td> 40300   </td><td> 65800   </td></tr>\n",
       "\t<tr><td>양재동   </td><td> 65386.79</td><td>120000   </td><td> 28500   </td><td> 68500   </td></tr>\n",
       "\t<tr><td>오금동   </td><td> 62096.41</td><td>137500   </td><td> 24500   </td><td> 59800   </td></tr>\n",
       "\t<tr><td>가락동   </td><td> 61885.95</td><td>157198   </td><td> 15400   </td><td> 60000   </td></tr>\n",
       "\t<tr><td>석촌동   </td><td> 56222.39</td><td>108000   </td><td> 20300   </td><td> 54800   </td></tr>\n",
       "\t<tr><td>풍납동   </td><td> 53165.70</td><td> 99000   </td><td> 27950   </td><td> 54000   </td></tr>\n",
       "\t<tr><td>마천동   </td><td> 46953.33</td><td> 79800   </td><td> 25000   </td><td> 46000   </td></tr>\n",
       "\t<tr><td>거여동   </td><td> 46286.96</td><td> 87000   </td><td> 24500   </td><td> 44500   </td></tr>\n",
       "\t<tr><td>삼전동   </td><td> 42645.65</td><td> 59000   </td><td> 18100   </td><td> 46300   </td></tr>\n",
       "</tbody>\n",
       "</table>\n"
      ],
      "text/latex": [
       "\\begin{tabular}{r|lllll}\n",
       " 동 & 평균금액 & 최대금액 & 최소금액 & 중간금액\\\\\n",
       "\\hline\n",
       "\t 압구정동  & 218982.04 & 425000    & 107300    & 197000   \\\\\n",
       "\t 반포동    & 177404.10 & 379500    &  38000    & 167000   \\\\\n",
       "\t 대치동    & 154352.79 & 347000    &  20000    & 145000   \\\\\n",
       "\t 청담동    & 141556.28 & 525000    &  22500    & 128000   \\\\\n",
       "\t 삼성동    & 135592.72 & 490000    &  26000    & 125000   \\\\\n",
       "\t 도곡동    & 134691.52 & 492000    &  23000    & 130000   \\\\\n",
       "\t 잠실동    & 129667.97 & 335000    &  48000    & 129000   \\\\\n",
       "\t 잠원동    & 123924.09 & 345000    &  37200    & 120000   \\\\\n",
       "\t 신천동    & 108392.09 & 240000    &  45300    & 106500   \\\\\n",
       "\t 방배동    & 107467.02 & 300000    &  28700    & 104700   \\\\\n",
       "\t 개포동    & 107240.80 & 260000    &  34000    & 104000   \\\\\n",
       "\t 서초동    & 106179.43 & 480000    &  21000    & 106000   \\\\\n",
       "\t 일원동    & 101423.67 & 156000    &  44500    & 104350   \\\\\n",
       "\t 역삼동    & 101050.26 & 200000    &  15132    & 103350   \\\\\n",
       "\t 자곡동    &  99012.41 & 131500    &  56400    &  98000   \\\\\n",
       "\t 신사동    &  97431.62 & 325000    &  35000    &  87250   \\\\\n",
       "\t 방이동    &  96735.16 & 195000    &  17000    &  94900   \\\\\n",
       "\t 논현동    &  95539.85 & 395000    &  21000    &  88150   \\\\\n",
       "\t 내곡동    &  85716.69 & 121000    &  67964    &  85000   \\\\\n",
       "\t 신원동    &  84853.57 & 142500    &  50618    &  84000   \\\\\n",
       "\t 우면동    &  81349.23 & 131000    &  23000    &  82000   \\\\\n",
       "\t 수서동    &  77547.96 & 298000    &  36000    &  71000   \\\\\n",
       "\t 세곡동    &  76654.61 &  94500    &  58500    &  76500   \\\\\n",
       "\t 송파동    &  76654.42 & 120000    &  24500    &  78500   \\\\\n",
       "\t 문정동    &  75681.66 & 175000    &  20300    &  80250   \\\\\n",
       "\t 율현동    &  73694.12 &  90000    &  60000    &  70000   \\\\\n",
       "\t 장지동    &  68108.51 & 220000    &  40300    &  65800   \\\\\n",
       "\t 양재동    &  65386.79 & 120000    &  28500    &  68500   \\\\\n",
       "\t 오금동    &  62096.41 & 137500    &  24500    &  59800   \\\\\n",
       "\t 가락동    &  61885.95 & 157198    &  15400    &  60000   \\\\\n",
       "\t 석촌동    &  56222.39 & 108000    &  20300    &  54800   \\\\\n",
       "\t 풍납동    &  53165.70 &  99000    &  27950    &  54000   \\\\\n",
       "\t 마천동    &  46953.33 &  79800    &  25000    &  46000   \\\\\n",
       "\t 거여동    &  46286.96 &  87000    &  24500    &  44500   \\\\\n",
       "\t 삼전동    &  42645.65 &  59000    &  18100    &  46300   \\\\\n",
       "\\end{tabular}\n"
      ],
      "text/markdown": [
       "\n",
       "동 | 평균금액 | 최대금액 | 최소금액 | 중간금액 | \n",
       "|---|---|---|---|---|---|---|---|---|---|---|---|---|---|---|---|---|---|---|---|---|---|---|---|---|---|---|---|---|---|---|---|---|---|---|\n",
       "| 압구정동  | 218982.04 | 425000    | 107300    | 197000    | \n",
       "| 반포동    | 177404.10 | 379500    |  38000    | 167000    | \n",
       "| 대치동    | 154352.79 | 347000    |  20000    | 145000    | \n",
       "| 청담동    | 141556.28 | 525000    |  22500    | 128000    | \n",
       "| 삼성동    | 135592.72 | 490000    |  26000    | 125000    | \n",
       "| 도곡동    | 134691.52 | 492000    |  23000    | 130000    | \n",
       "| 잠실동    | 129667.97 | 335000    |  48000    | 129000    | \n",
       "| 잠원동    | 123924.09 | 345000    |  37200    | 120000    | \n",
       "| 신천동    | 108392.09 | 240000    |  45300    | 106500    | \n",
       "| 방배동    | 107467.02 | 300000    |  28700    | 104700    | \n",
       "| 개포동    | 107240.80 | 260000    |  34000    | 104000    | \n",
       "| 서초동    | 106179.43 | 480000    |  21000    | 106000    | \n",
       "| 일원동    | 101423.67 | 156000    |  44500    | 104350    | \n",
       "| 역삼동    | 101050.26 | 200000    |  15132    | 103350    | \n",
       "| 자곡동    |  99012.41 | 131500    |  56400    |  98000    | \n",
       "| 신사동    |  97431.62 | 325000    |  35000    |  87250    | \n",
       "| 방이동    |  96735.16 | 195000    |  17000    |  94900    | \n",
       "| 논현동    |  95539.85 | 395000    |  21000    |  88150    | \n",
       "| 내곡동    |  85716.69 | 121000    |  67964    |  85000    | \n",
       "| 신원동    |  84853.57 | 142500    |  50618    |  84000    | \n",
       "| 우면동    |  81349.23 | 131000    |  23000    |  82000    | \n",
       "| 수서동    |  77547.96 | 298000    |  36000    |  71000    | \n",
       "| 세곡동    |  76654.61 |  94500    |  58500    |  76500    | \n",
       "| 송파동    |  76654.42 | 120000    |  24500    |  78500    | \n",
       "| 문정동    |  75681.66 | 175000    |  20300    |  80250    | \n",
       "| 율현동    |  73694.12 |  90000    |  60000    |  70000    | \n",
       "| 장지동    |  68108.51 | 220000    |  40300    |  65800    | \n",
       "| 양재동    |  65386.79 | 120000    |  28500    |  68500    | \n",
       "| 오금동    |  62096.41 | 137500    |  24500    |  59800    | \n",
       "| 가락동    |  61885.95 | 157198    |  15400    |  60000    | \n",
       "| 석촌동    |  56222.39 | 108000    |  20300    |  54800    | \n",
       "| 풍납동    |  53165.70 |  99000    |  27950    |  54000    | \n",
       "| 마천동    |  46953.33 |  79800    |  25000    |  46000    | \n",
       "| 거여동    |  46286.96 |  87000    |  24500    |  44500    | \n",
       "| 삼전동    |  42645.65 |  59000    |  18100    |  46300    | \n",
       "\n",
       "\n"
      ],
      "text/plain": [
       "   동       평균금액  최대금액 최소금액 중간금액\n",
       "1  압구정동 218982.04 425000   107300   197000  \n",
       "2  반포동   177404.10 379500    38000   167000  \n",
       "3  대치동   154352.79 347000    20000   145000  \n",
       "4  청담동   141556.28 525000    22500   128000  \n",
       "5  삼성동   135592.72 490000    26000   125000  \n",
       "6  도곡동   134691.52 492000    23000   130000  \n",
       "7  잠실동   129667.97 335000    48000   129000  \n",
       "8  잠원동   123924.09 345000    37200   120000  \n",
       "9  신천동   108392.09 240000    45300   106500  \n",
       "10 방배동   107467.02 300000    28700   104700  \n",
       "11 개포동   107240.80 260000    34000   104000  \n",
       "12 서초동   106179.43 480000    21000   106000  \n",
       "13 일원동   101423.67 156000    44500   104350  \n",
       "14 역삼동   101050.26 200000    15132   103350  \n",
       "15 자곡동    99012.41 131500    56400    98000  \n",
       "16 신사동    97431.62 325000    35000    87250  \n",
       "17 방이동    96735.16 195000    17000    94900  \n",
       "18 논현동    95539.85 395000    21000    88150  \n",
       "19 내곡동    85716.69 121000    67964    85000  \n",
       "20 신원동    84853.57 142500    50618    84000  \n",
       "21 우면동    81349.23 131000    23000    82000  \n",
       "22 수서동    77547.96 298000    36000    71000  \n",
       "23 세곡동    76654.61  94500    58500    76500  \n",
       "24 송파동    76654.42 120000    24500    78500  \n",
       "25 문정동    75681.66 175000    20300    80250  \n",
       "26 율현동    73694.12  90000    60000    70000  \n",
       "27 장지동    68108.51 220000    40300    65800  \n",
       "28 양재동    65386.79 120000    28500    68500  \n",
       "29 오금동    62096.41 137500    24500    59800  \n",
       "30 가락동    61885.95 157198    15400    60000  \n",
       "31 석촌동    56222.39 108000    20300    54800  \n",
       "32 풍납동    53165.70  99000    27950    54000  \n",
       "33 마천동    46953.33  79800    25000    46000  \n",
       "34 거여동    46286.96  87000    24500    44500  \n",
       "35 삼전동    42645.65  59000    18100    46300  "
      ]
     },
     "metadata": {},
     "output_type": "display_data"
    }
   ],
   "source": [
    "kangnam"
   ]
  },
  {
   "cell_type": "code",
   "execution_count": 49,
   "metadata": {},
   "outputs": [
    {
     "name": "stdout",
     "output_type": "stream",
     "text": [
      "'data.frame':\t102337 obs. of  15 variables:\n",
      " $ 시군구     : chr  \"서울특별시 강남구 개포동\" \"서울특별시 강남구 개포동\" \"서울특별시 강남구 개포동\" \"서울특별시 강남구 개포동\" ...\n",
      " $ 번지       : chr  \"141\" \"141\" \"141\" \"141\" ...\n",
      " $ 본번       : chr  \"0141\" \"0141\" \"0141\" \"0141\" ...\n",
      " $ 부번       : int  0 0 0 0 0 0 0 0 0 0 ...\n",
      " $ 단지명     : chr  \"개포주공 1단지\" \"개포주공 1단지\" \"개포주공 1단지\" \"개포주공 1단지\" ...\n",
      " $ 전용면적...: num  42 56.6 50.6 42 42.5 ...\n",
      " $ 계약년월   : int  201701 201701 201701 201701 201701 201701 201701 201701 201701 201701 ...\n",
      " $ 계약일     : chr  \"1~10\" \"1~10\" \"1~10\" \"1~10\" ...\n",
      " $ 거래금액   : num  97500 123000 115000 97000 98000 96000 99200 115000 100000 130000 ...\n",
      " $ 층         : int  4 3 2 4 3 5 3 3 4 3 ...\n",
      " $ 건축년도   : int  1982 1982 1982 1982 1982 1982 1982 1982 1982 1982 ...\n",
      " $ 도로명     : chr  \"개포로\" \"선릉로\" \"개포로\" \"개포로\" ...\n",
      " $ 시         : chr  \"서울특별시\" \"서울특별시\" \"서울특별시\" \"서울특별시\" ...\n",
      " $ 구         : chr  \"강남구\" \"강남구\" \"강남구\" \"강남구\" ...\n",
      " $ 동         : chr  \"개포동\" \"개포동\" \"개포동\" \"개포동\" ...\n"
     ]
    }
   ],
   "source": [
    "str(apt.seoul.dong)"
   ]
  },
  {
   "cell_type": "code",
   "execution_count": 54,
   "metadata": {},
   "outputs": [],
   "source": [
    "kangnam <- apt.seoul.dong %>% \n",
    "filter(구 %in% c('강남구', '서초구', '송파구')) %>%\n",
    "group_by(계약년월) %>%\n",
    "summarise(평균금액 = mean(거래금액), 최대금액 = max(거래금액), \n",
    "          최소금액 = min(거래금액),\n",
    "         중간금액 = median(거래금액)) %>%\n",
    "arrange((계약년월))"
   ]
  },
  {
   "cell_type": "code",
   "execution_count": 56,
   "metadata": {},
   "outputs": [
    {
     "name": "stderr",
     "output_type": "stream",
     "text": [
      "Warning message:\n",
      "\"package 'reshape2' was built under R version 3.4.4\""
     ]
    }
   ],
   "source": [
    "library(reshape2)"
   ]
  },
  {
   "cell_type": "code",
   "execution_count": 58,
   "metadata": {},
   "outputs": [],
   "source": [
    "apt.melt <- melt(kangnam, id=1)"
   ]
  },
  {
   "cell_type": "code",
   "execution_count": 59,
   "metadata": {},
   "outputs": [
    {
     "name": "stdout",
     "output_type": "stream",
     "text": [
      "'data.frame':\t48 obs. of  3 variables:\n",
      " $ 계약년월: int  201701 201702 201703 201704 201705 201706 201707 201708 201709 201710 ...\n",
      " $ variable: Factor w/ 4 levels \"평균금액\",\"최대금액\",..: 1 1 1 1 1 1 1 1 1 1 ...\n",
      " $ value   : num  96002 98546 100093 100904 105218 ...\n"
     ]
    }
   ],
   "source": [
    "str(apt.melt)"
   ]
  },
  {
   "cell_type": "code",
   "execution_count": 62,
   "metadata": {},
   "outputs": [
    {
     "name": "stderr",
     "output_type": "stream",
     "text": [
      "Warning message:\n",
      "\"package 'ggplot2' was built under R version 3.4.4\""
     ]
    }
   ],
   "source": [
    "library(ggplot2)"
   ]
  },
  {
   "cell_type": "code",
   "execution_count": 68,
   "metadata": {},
   "outputs": [],
   "source": [
    "options(\"scipen\" = 100)"
   ]
  },
  {
   "cell_type": "code",
   "execution_count": 78,
   "metadata": {},
   "outputs": [
    {
     "data": {},
     "metadata": {},
     "output_type": "display_data"
    },
    {
     "data": {
      "image/png": "[encoded data removed]",
      "text/plain": [
       "plot without title"
      ]
     },
     "metadata": {},
     "output_type": "display_data"
    }
   ],
   "source": [
    "ggplot(apt.melt, aes(x = 계약년월, y = value, color = variable)) + \n",
    "geom_line(size = 1) +\n",
    "geom_point() + \n",
    "scale_color_discrete(name = \"집값\") +\n",
    " theme(legend.position=\"right\") +\n",
    "ylab(\"거래금액\") + \n",
    "ggtitle(\"강남 집값 추이\") + \n",
    "theme(plot.title = element_text(hjust = 0.5, size= 20, face='bold', colour = \"red\"))"
   ]
  },
  {
   "cell_type": "code",
   "execution_count": null,
   "metadata": {},
   "outputs": [],
   "source": [
    "s"
   ]
  }
 ],
 "metadata": {
  "kernelspec": {
   "display_name": "R",
   "language": "R",
   "name": "ir"
  },
  "language_info": {
   "codemirror_mode": "r",
   "file_extension": ".r",
   "mimetype": "text/x-r-source",
   "name": "R",
   "pygments_lexer": "r",
   "version": "3.4.3"
  }
 },
 "nbformat": 4,
 "nbformat_minor": 2
}
