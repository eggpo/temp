{
 "cells": [
  {
   "cell_type": "markdown",
   "metadata": {},
   "source": [
    "# 지하철 승/하차 분석하기 "
   ]
  },
  {
   "cell_type": "markdown",
   "metadata": {},
   "source": [
    "* 공공데이터 포털에서 2016년 지하철 승/하차 데이터를 가져온다.\n",
    "* https://www.data.go.kr/dataset/15003169/fileData.do"
   ]
  },
  {
   "cell_type": "markdown",
   "metadata": {},
   "source": [
    "## 분석에 사용될 패키지 로딩"
   ]
  },
  {
   "cell_type": "markdown",
   "metadata": {},
   "source": [
    "* 아래 Cell은 해당 패키지가 설치되어 있지 않다면, 설치하는 구문이다. 물론 설치되어 있다면 확인만 한다."
   ]
  },
  {
   "cell_type": "code",
   "execution_count": 1,
   "metadata": {},
   "outputs": [
    {
     "name": "stderr",
     "output_type": "stream",
     "text": [
      "Loading required namespace: ggplot2\n",
      "Loading required namespace: dplyr\n"
     ]
    }
   ],
   "source": [
    "if(!requireNamespace(\"ggplot2\")) install.packages('ggplot2', repos='http://cran.us.r-project.org')\n",
    "if(!requireNamespace(\"dplyr\")) install.packages('dplyr', repos='http://cran.us.r-project.org')"
   ]
  },
  {
   "cell_type": "code",
   "execution_count": 2,
   "metadata": {},
   "outputs": [
    {
     "name": "stderr",
     "output_type": "stream",
     "text": [
      "Warning message:\n",
      "\"package 'ggplot2' was built under R version 3.4.4\"Warning message:\n",
      "\"package 'dplyr' was built under R version 3.4.4\"\n",
      "Attaching package: 'dplyr'\n",
      "\n",
      "The following objects are masked from 'package:stats':\n",
      "\n",
      "    filter, lag\n",
      "\n",
      "The following objects are masked from 'package:base':\n",
      "\n",
      "    intersect, setdiff, setequal, union\n",
      "\n"
     ]
    }
   ],
   "source": [
    "library(ggplot2)\n",
    "library(dplyr)"
   ]
  },
  {
   "cell_type": "markdown",
   "metadata": {},
   "source": [
    "# 파일 디렉토리 읽어오기"
   ]
  },
  {
   "cell_type": "markdown",
   "metadata": {},
   "source": [
    "* 공공데이터 포털에 저장한 파일을 이름 형태를 통일 시켜 Data폴더의 Subway에 저장\n",
    "* file이라는 해당 파일이 저장된 위치를 문자열 벡터로 저장한다."
   ]
  },
  {
   "cell_type": "code",
   "execution_count": 3,
   "metadata": {},
   "outputs": [],
   "source": [
    "file <- c(\"./Data/Subway\")"
   ]
  },
  {
   "cell_type": "markdown",
   "metadata": {},
   "source": [
    "* list.files() 함수는 대상 폴더에 있는 파일 리스트를 호출하는 함수이다. 해당 폴더에 존재하는 파일의 이름을 알려준다."
   ]
  },
  {
   "cell_type": "code",
   "execution_count": 4,
   "metadata": {},
   "outputs": [],
   "source": [
    "src_file <- list.files(file)"
   ]
  },
  {
   "cell_type": "markdown",
   "metadata": {},
   "source": [
    "* src_file에 어떤 파일이 저장되어 있는지 아래를 통해서 확인해보자"
   ]
  },
  {
   "cell_type": "code",
   "execution_count": 5,
   "metadata": {},
   "outputs": [
    {
     "data": {
      "text/html": [
       "<ol class=list-inline>\n",
       "\t<li>'Subway_201601.csv'</li>\n",
       "\t<li>'Subway_201602.csv'</li>\n",
       "\t<li>'Subway_201603.csv'</li>\n",
       "\t<li>'Subway_201604.csv'</li>\n",
       "\t<li>'Subway_201605.csv'</li>\n",
       "\t<li>'Subway_201606.csv'</li>\n",
       "\t<li>'Subway_201607.csv'</li>\n",
       "\t<li>'Subway_201608.csv'</li>\n",
       "\t<li>'Subway_201609.csv'</li>\n",
       "\t<li>'Subway_201610.csv'</li>\n",
       "\t<li>'Subway_201611.csv'</li>\n",
       "\t<li>'Subway_201612.csv'</li>\n",
       "</ol>\n"
      ],
      "text/latex": [
       "\\begin{enumerate*}\n",
       "\\item 'Subway\\_201601.csv'\n",
       "\\item 'Subway\\_201602.csv'\n",
       "\\item 'Subway\\_201603.csv'\n",
       "\\item 'Subway\\_201604.csv'\n",
       "\\item 'Subway\\_201605.csv'\n",
       "\\item 'Subway\\_201606.csv'\n",
       "\\item 'Subway\\_201607.csv'\n",
       "\\item 'Subway\\_201608.csv'\n",
       "\\item 'Subway\\_201609.csv'\n",
       "\\item 'Subway\\_201610.csv'\n",
       "\\item 'Subway\\_201611.csv'\n",
       "\\item 'Subway\\_201612.csv'\n",
       "\\end{enumerate*}\n"
      ],
      "text/markdown": [
       "1. 'Subway_201601.csv'\n",
       "2. 'Subway_201602.csv'\n",
       "3. 'Subway_201603.csv'\n",
       "4. 'Subway_201604.csv'\n",
       "5. 'Subway_201605.csv'\n",
       "6. 'Subway_201606.csv'\n",
       "7. 'Subway_201607.csv'\n",
       "8. 'Subway_201608.csv'\n",
       "9. 'Subway_201609.csv'\n",
       "10. 'Subway_201610.csv'\n",
       "11. 'Subway_201611.csv'\n",
       "12. 'Subway_201612.csv'\n",
       "\n",
       "\n"
      ],
      "text/plain": [
       " [1] \"Subway_201601.csv\" \"Subway_201602.csv\" \"Subway_201603.csv\"\n",
       " [4] \"Subway_201604.csv\" \"Subway_201605.csv\" \"Subway_201606.csv\"\n",
       " [7] \"Subway_201607.csv\" \"Subway_201608.csv\" \"Subway_201609.csv\"\n",
       "[10] \"Subway_201610.csv\" \"Subway_201611.csv\" \"Subway_201612.csv\""
      ]
     },
     "metadata": {},
     "output_type": "display_data"
    }
   ],
   "source": [
    "src_file"
   ]
  },
  {
   "cell_type": "markdown",
   "metadata": {},
   "source": [
    "## 파일 읽기\n",
    "* 12개의 파일을 읽어온다. 아래처럼 for문을 사용하여 파일을 읽어들인 이유는 12개의 파일에 대한 read.csv를 손으로 다 작성하기가...\n",
    "* 만약에 파일의 개수가 100개 이상 된다면 그 많은 파일에 대해서 read.csv를 할 수가 없다. 물론 인내력이 있다면 가능하지만.... \n",
    "* for문을 통해서 간단한 규칙을 사용하여 모든 파일을 읽어 들인다."
   ]
  },
  {
   "cell_type": "code",
   "execution_count": 6,
   "metadata": {},
   "outputs": [
    {
     "name": "stdout",
     "output_type": "stream",
     "text": [
      "[1] \"Subway.1 <- read.csv(\\\"./Data/Subway/Subway_201601.csv\\\", header = T)\"\n",
      "[1] \"Subway.2 <- read.csv(\\\"./Data/Subway/Subway_201602.csv\\\", header = T)\"\n",
      "[1] \"Subway.3 <- read.csv(\\\"./Data/Subway/Subway_201603.csv\\\", header = T)\"\n",
      "[1] \"Subway.4 <- read.csv(\\\"./Data/Subway/Subway_201604.csv\\\", header = T)\"\n",
      "[1] \"Subway.5 <- read.csv(\\\"./Data/Subway/Subway_201605.csv\\\", header = T)\"\n",
      "[1] \"Subway.6 <- read.csv(\\\"./Data/Subway/Subway_201606.csv\\\", header = T)\"\n",
      "[1] \"Subway.7 <- read.csv(\\\"./Data/Subway/Subway_201607.csv\\\", header = T)\"\n",
      "[1] \"Subway.8 <- read.csv(\\\"./Data/Subway/Subway_201608.csv\\\", header = T)\"\n",
      "[1] \"Subway.9 <- read.csv(\\\"./Data/Subway/Subway_201609.csv\\\", header = T)\"\n",
      "[1] \"Subway.10 <- read.csv(\\\"./Data/Subway/Subway_201610.csv\\\", header = T)\"\n",
      "[1] \"Subway.11 <- read.csv(\\\"./Data/Subway/Subway_201611.csv\\\", header = T)\"\n",
      "[1] \"Subway.12 <- read.csv(\\\"./Data/Subway/Subway_201612.csv\\\", header = T)\"\n"
     ]
    }
   ],
   "source": [
    "i <- 1\n",
    "for(x in src_file){\n",
    "    rt <- paste(file, \"/\", x, sep=\"\")\n",
    "    file_name <- paste(\"Subway.\", i, \" <- read.csv(\\\"\", rt, \"\\\"\", \", header = T)\", sep=\"\")\n",
    "    print (file_name)\n",
    "    eval(parse(text=file_name))\n",
    "    i <- i + 1\n",
    "}"
   ]
  },
  {
   "cell_type": "markdown",
   "metadata": {},
   "source": [
    "# 데이터의 컬럼\n",
    "* 12개의 데이터를 읽어 들였다. 이 파일의 컬럼들이 통일되어 있는지 확인한다. 만약에 컬럼이 통일되어 있지 않다면, 하나의 파일로 통합할 수 없기 때문이다. "
   ]
  },
  {
   "cell_type": "code",
   "execution_count": 7,
   "metadata": {
    "scrolled": false
   },
   "outputs": [
    {
     "name": "stdout",
     "output_type": "stream",
     "text": [
      "[1] \"Subway.1\"\n",
      " [1] \"날짜\"     \"호선\"     \"역명\"     \"구.분\"    \"할인\"     \"X04...05\"\n",
      " [7] \"X05...06\" \"X06...07\" \"X07...08\" \"X08...09\" \"X09...10\" \"X10...11\"\n",
      "[13] \"X11...12\" \"X12...13\" \"X13...14\" \"X14...15\" \"X15...16\" \"X16...17\"\n",
      "[19] \"X17...18\" \"X18...19\" \"X19...20\" \"X20...21\" \"X21...22\" \"X22...23\"\n",
      "[25] \"X23...24\" \"X00...01\" \"X01...02\" \"X02...03\" \"X03...04\"\n",
      "[1] \"=============\"\n",
      "[1] \"Subway.2\"\n",
      " [1] \"날짜\"     \"호선\"     \"역명\"     \"구.분\"    \"할인\"     \"X04...05\"\n",
      " [7] \"X05...06\" \"X06...07\" \"X07...08\" \"X08...09\" \"X09...10\" \"X10...11\"\n",
      "[13] \"X11...12\" \"X12...13\" \"X13...14\" \"X14...15\" \"X15...16\" \"X16...17\"\n",
      "[19] \"X17...18\" \"X18...19\" \"X19...20\" \"X20...21\" \"X21...22\" \"X22...23\"\n",
      "[25] \"X23...24\" \"X00...01\" \"X01...02\" \"X02...03\" \"X03...04\"\n",
      "[1] \"=============\"\n",
      "[1] \"Subway.3\"\n",
      " [1] \"날짜\"     \"호선\"     \"역명\"     \"구.분\"    \"할인\"     \"X04...05\"\n",
      " [7] \"X05...06\" \"X06...07\" \"X07...08\" \"X08...09\" \"X09...10\" \"X10...11\"\n",
      "[13] \"X11...12\" \"X12...13\" \"X13...14\" \"X14...15\" \"X15...16\" \"X16...17\"\n",
      "[19] \"X17...18\" \"X18...19\" \"X19...20\" \"X20...21\" \"X21...22\" \"X22...23\"\n",
      "[25] \"X23...24\" \"X00...01\" \"X01...02\" \"X02...03\" \"X03...04\"\n",
      "[1] \"=============\"\n",
      "[1] \"Subway.4\"\n",
      " [1] \"날짜\"     \"호선\"     \"역명\"     \"구.분\"    \"할인\"     \"X04...05\"\n",
      " [7] \"X05...06\" \"X06...07\" \"X07...08\" \"X08...09\" \"X09...10\" \"X10...11\"\n",
      "[13] \"X11...12\" \"X12...13\" \"X13...14\" \"X14...15\" \"X15...16\" \"X16...17\"\n",
      "[19] \"X17...18\" \"X18...19\" \"X19...20\" \"X20...21\" \"X21...22\" \"X22...23\"\n",
      "[25] \"X23...24\" \"X00...01\" \"X01...02\" \"X02...03\" \"X03...04\"\n",
      "[1] \"=============\"\n",
      "[1] \"Subway.5\"\n",
      " [1] \"날짜\"     \"호선\"     \"역명\"     \"구.분\"    \"할인\"     \"X04...05\"\n",
      " [7] \"X05...06\" \"X06...07\" \"X07...08\" \"X08...09\" \"X09...10\" \"X10...11\"\n",
      "[13] \"X11...12\" \"X12...13\" \"X13...14\" \"X14...15\" \"X15...16\" \"X16...17\"\n",
      "[19] \"X17...18\" \"X18...19\" \"X19...20\" \"X20...21\" \"X21...22\" \"X22...23\"\n",
      "[25] \"X23...24\" \"X00...01\" \"X01...02\" \"X02...03\" \"X03...04\"\n",
      "[1] \"=============\"\n",
      "[1] \"Subway.6\"\n",
      " [1] \"역명\"   \"날짜\"   \"구분\"   \"X05.06\" \"X06.07\" \"X07.08\" \"X08.09\" \"X09.10\"\n",
      " [9] \"X10.11\" \"X11.12\" \"X12.13\" \"X13.14\" \"X14.15\" \"X15.16\" \"X16.17\" \"X17.18\"\n",
      "[17] \"X18.19\" \"X19.20\" \"X20.21\" \"X21.22\" \"X22.23\" \"X23.24\" \"X00.01\" \"X01.02\"\n",
      "[1] \"=============\"\n",
      "[1] \"Subway.7\"\n",
      " [1] \"역명\"   \"날짜\"   \"구분\"   \"X05.06\" \"X06.07\" \"X07.08\" \"X08.09\" \"X09.10\"\n",
      " [9] \"X10.11\" \"X11.12\" \"X12.13\" \"X13.14\" \"X14.15\" \"X15.16\" \"X16.17\" \"X17.18\"\n",
      "[17] \"X18.19\" \"X19.20\" \"X20.21\" \"X21.22\" \"X22.23\" \"X23.24\" \"X00.01\" \"X01.02\"\n",
      "[1] \"=============\"\n",
      "[1] \"Subway.8\"\n",
      " [1] \"역명\"   \"날짜\"   \"구분\"   \"X05.06\" \"X06.07\" \"X07.08\" \"X08.09\" \"X09.10\"\n",
      " [9] \"X10.11\" \"X11.12\" \"X12.13\" \"X13.14\" \"X14.15\" \"X15.16\" \"X16.17\" \"X17.18\"\n",
      "[17] \"X18.19\" \"X19.20\" \"X20.21\" \"X21.22\" \"X22.23\" \"X23.24\" \"X00.01\" \"X01.02\"\n",
      "[1] \"=============\"\n",
      "[1] \"Subway.9\"\n",
      " [1] \"역명\"   \"날짜\"   \"구분\"   \"X05.06\" \"X06.07\" \"X07.08\" \"X08.09\" \"X09.10\"\n",
      " [9] \"X10.11\" \"X11.12\" \"X12.13\" \"X13.14\" \"X14.15\" \"X15.16\" \"X16.17\" \"X17.18\"\n",
      "[17] \"X18.19\" \"X19.20\" \"X20.21\" \"X21.22\" \"X22.23\" \"X23.24\" \"X00.01\" \"X01.02\"\n",
      "[1] \"=============\"\n",
      "[1] \"Subway.10\"\n",
      " [1] \"역명\"   \"날짜\"   \"구분\"   \"X05.06\" \"X06.07\" \"X07.08\" \"X08.09\" \"X09.10\"\n",
      " [9] \"X10.11\" \"X11.12\" \"X12.13\" \"X13.14\" \"X14.15\" \"X15.16\" \"X16.17\" \"X17.18\"\n",
      "[17] \"X18.19\" \"X19.20\" \"X20.21\" \"X21.22\" \"X22.23\" \"X23.24\" \"X00.01\" \"X01.02\"\n",
      "[1] \"=============\"\n",
      "[1] \"Subway.11\"\n",
      " [1] \"역명\"   \"날짜\"   \"구분\"   \"X05.06\" \"X06.07\" \"X07.08\" \"X08.09\" \"X09.10\"\n",
      " [9] \"X10.11\" \"X11.12\" \"X12.13\" \"X13.14\" \"X14.15\" \"X15.16\" \"X16.17\" \"X17.18\"\n",
      "[17] \"X18.19\" \"X19.20\" \"X20.21\" \"X21.22\" \"X22.23\" \"X23.24\" \"X00.01\" \"X01.02\"\n",
      "[1] \"=============\"\n",
      "[1] \"Subway.12\"\n",
      " [1] \"역명\"     \"날짜\"     \"구분\"     \"X05.06시\" \"X06.07시\" \"X07.08시\"\n",
      " [7] \"X08.09시\" \"X09.10시\" \"X10.11시\" \"X11.12시\" \"X12.13시\" \"X13.14시\"\n",
      "[13] \"X14.15시\" \"X15.16시\" \"X16.17시\" \"X17.18시\" \"X18.19시\" \"X19.20시\"\n",
      "[19] \"X20.21시\" \"X21.22시\" \"X22.23시\" \"X23.24시\" \"X00.01시\" \"X01.02시\"\n",
      "[1] \"=============\"\n"
     ]
    }
   ],
   "source": [
    "i <- 1\n",
    "for(x in 1:12){\n",
    "    txt <- paste(\"Subway.\", x, sep=\"\")\n",
    "    print (txt)\n",
    "    print (colnames(eval(parse(text = txt))))\n",
    "    print (\"=============\")\n",
    "}"
   ]
  },
  {
   "cell_type": "markdown",
   "metadata": {},
   "source": [
    "* 불행하게도 파일의 컬럼이 통일되어 있지 않다. \n",
    "* head() 함수를 사용하여 데이터 형식을 확인한다."
   ]
  },
  {
   "cell_type": "markdown",
   "metadata": {},
   "source": [
    "## 데이터의 형식 통일하기"
   ]
  },
  {
   "cell_type": "code",
   "execution_count": 8,
   "metadata": {},
   "outputs": [
    {
     "data": {
      "text/html": [
       "<table>\n",
       "<thead><tr><th scope=col>날짜</th><th scope=col>호선</th><th scope=col>역명</th><th scope=col>구.분</th><th scope=col>할인</th><th scope=col>X04...05</th><th scope=col>X05...06</th><th scope=col>X06...07</th><th scope=col>X07...08</th><th scope=col>X08...09</th><th scope=col>...</th><th scope=col>X18...19</th><th scope=col>X19...20</th><th scope=col>X20...21</th><th scope=col>X21...22</th><th scope=col>X22...23</th><th scope=col>X23...24</th><th scope=col>X00...01</th><th scope=col>X01...02</th><th scope=col>X02...03</th><th scope=col>X03...04</th></tr></thead>\n",
       "<tbody>\n",
       "\t<tr><td>2016-01-01 </td><td>1호선      </td><td>서울역(150)</td><td>승차       </td><td>일반       </td><td>44         </td><td>298        </td><td>243        </td><td>490        </td><td>909        </td><td>...        </td><td>2520       </td><td>2129       </td><td>1924       </td><td>2038       </td><td>1766       </td><td>868        </td><td>52         </td><td>0          </td><td>0          </td><td>0          </td></tr>\n",
       "\t<tr><td>2016-01-01 </td><td>1호선      </td><td>서울역(150)</td><td>승차       </td><td>초등생     </td><td> 1         </td><td>  4        </td><td>  0        </td><td>  4        </td><td> 18        </td><td>...        </td><td>  70       </td><td>  38       </td><td>  37       </td><td>  45       </td><td>  32       </td><td>  6        </td><td> 0         </td><td>0          </td><td>0          </td><td>0          </td></tr>\n",
       "</tbody>\n",
       "</table>\n"
      ],
      "text/latex": [
       "\\begin{tabular}{r|lllllllllllllllllllllllllllll}\n",
       " 날짜 & 호선 & 역명 & 구.분 & 할인 & X04...05 & X05...06 & X06...07 & X07...08 & X08...09 & ... & X18...19 & X19...20 & X20...21 & X21...22 & X22...23 & X23...24 & X00...01 & X01...02 & X02...03 & X03...04\\\\\n",
       "\\hline\n",
       "\t 2016-01-01  & 1호선       & 서울역(150) & 승차        & 일반        & 44          & 298         & 243         & 490         & 909         & ...         & 2520        & 2129        & 1924        & 2038        & 1766        & 868         & 52          & 0           & 0           & 0          \\\\\n",
       "\t 2016-01-01  & 1호선       & 서울역(150) & 승차        & 초등생      &  1          &   4         &   0         &   4         &  18         & ...         &   70        &   38        &   37        &   45        &   32        &   6         &  0          & 0           & 0           & 0          \\\\\n",
       "\\end{tabular}\n"
      ],
      "text/markdown": [
       "\n",
       "날짜 | 호선 | 역명 | 구.분 | 할인 | X04...05 | X05...06 | X06...07 | X07...08 | X08...09 | ... | X18...19 | X19...20 | X20...21 | X21...22 | X22...23 | X23...24 | X00...01 | X01...02 | X02...03 | X03...04 | \n",
       "|---|---|\n",
       "| 2016-01-01  | 1호선       | 서울역(150) | 승차        | 일반        | 44          | 298         | 243         | 490         | 909         | ...         | 2520        | 2129        | 1924        | 2038        | 1766        | 868         | 52          | 0           | 0           | 0           | \n",
       "| 2016-01-01  | 1호선       | 서울역(150) | 승차        | 초등생      |  1          |   4         |   0         |   4         |  18         | ...         |   70        |   38        |   37        |   45        |   32        |   6         |  0          | 0           | 0           | 0           | \n",
       "\n",
       "\n"
      ],
      "text/plain": [
       "  날짜       호선  역명        구.분 할인   X04...05 X05...06 X06...07 X07...08\n",
       "1 2016-01-01 1호선 서울역(150) 승차  일반   44       298      243      490     \n",
       "2 2016-01-01 1호선 서울역(150) 승차  초등생  1         4        0        4     \n",
       "  X08...09 ... X18...19 X19...20 X20...21 X21...22 X22...23 X23...24 X00...01\n",
       "1 909      ... 2520     2129     1924     2038     1766     868      52      \n",
       "2  18      ...   70       38       37       45       32       6       0      \n",
       "  X01...02 X02...03 X03...04\n",
       "1 0        0        0       \n",
       "2 0        0        0       "
      ]
     },
     "metadata": {},
     "output_type": "display_data"
    }
   ],
   "source": [
    "head(Subway.1, 2)"
   ]
  },
  {
   "cell_type": "markdown",
   "metadata": {},
   "source": [
    "* **1월부터 5월까지 데이터에는 할인이라는 컬럼이 존재하고 그로 인해서 일반, 초등생등... 데이터가 더 들어있다.**"
   ]
  },
  {
   "cell_type": "markdown",
   "metadata": {},
   "source": [
    "* colnames() 함수를 사용하여 colname를 추출해본다."
   ]
  },
  {
   "cell_type": "code",
   "execution_count": 9,
   "metadata": {},
   "outputs": [],
   "source": [
    "col <- colnames(Subway.1)"
   ]
  },
  {
   "cell_type": "markdown",
   "metadata": {},
   "source": [
    "* 시간대를 확인하기 위해서 6번째부터 마지막 컬럼까지만 출력해본다."
   ]
  },
  {
   "cell_type": "code",
   "execution_count": 10,
   "metadata": {},
   "outputs": [
    {
     "data": {
      "text/html": [
       "<ol class=list-inline>\n",
       "\t<li>'X04...05'</li>\n",
       "\t<li>'X05...06'</li>\n",
       "\t<li>'X06...07'</li>\n",
       "\t<li>'X07...08'</li>\n",
       "\t<li>'X08...09'</li>\n",
       "\t<li>'X09...10'</li>\n",
       "\t<li>'X10...11'</li>\n",
       "\t<li>'X11...12'</li>\n",
       "\t<li>'X12...13'</li>\n",
       "\t<li>'X13...14'</li>\n",
       "\t<li>'X14...15'</li>\n",
       "\t<li>'X15...16'</li>\n",
       "\t<li>'X16...17'</li>\n",
       "\t<li>'X17...18'</li>\n",
       "\t<li>'X18...19'</li>\n",
       "\t<li>'X19...20'</li>\n",
       "\t<li>'X20...21'</li>\n",
       "\t<li>'X21...22'</li>\n",
       "\t<li>'X22...23'</li>\n",
       "\t<li>'X23...24'</li>\n",
       "\t<li>'X00...01'</li>\n",
       "\t<li>'X01...02'</li>\n",
       "\t<li>'X02...03'</li>\n",
       "\t<li>'X03...04'</li>\n",
       "</ol>\n"
      ],
      "text/latex": [
       "\\begin{enumerate*}\n",
       "\\item 'X04...05'\n",
       "\\item 'X05...06'\n",
       "\\item 'X06...07'\n",
       "\\item 'X07...08'\n",
       "\\item 'X08...09'\n",
       "\\item 'X09...10'\n",
       "\\item 'X10...11'\n",
       "\\item 'X11...12'\n",
       "\\item 'X12...13'\n",
       "\\item 'X13...14'\n",
       "\\item 'X14...15'\n",
       "\\item 'X15...16'\n",
       "\\item 'X16...17'\n",
       "\\item 'X17...18'\n",
       "\\item 'X18...19'\n",
       "\\item 'X19...20'\n",
       "\\item 'X20...21'\n",
       "\\item 'X21...22'\n",
       "\\item 'X22...23'\n",
       "\\item 'X23...24'\n",
       "\\item 'X00...01'\n",
       "\\item 'X01...02'\n",
       "\\item 'X02...03'\n",
       "\\item 'X03...04'\n",
       "\\end{enumerate*}\n"
      ],
      "text/markdown": [
       "1. 'X04...05'\n",
       "2. 'X05...06'\n",
       "3. 'X06...07'\n",
       "4. 'X07...08'\n",
       "5. 'X08...09'\n",
       "6. 'X09...10'\n",
       "7. 'X10...11'\n",
       "8. 'X11...12'\n",
       "9. 'X12...13'\n",
       "10. 'X13...14'\n",
       "11. 'X14...15'\n",
       "12. 'X15...16'\n",
       "13. 'X16...17'\n",
       "14. 'X17...18'\n",
       "15. 'X18...19'\n",
       "16. 'X19...20'\n",
       "17. 'X20...21'\n",
       "18. 'X21...22'\n",
       "19. 'X22...23'\n",
       "20. 'X23...24'\n",
       "21. 'X00...01'\n",
       "22. 'X01...02'\n",
       "23. 'X02...03'\n",
       "24. 'X03...04'\n",
       "\n",
       "\n"
      ],
      "text/plain": [
       " [1] \"X04...05\" \"X05...06\" \"X06...07\" \"X07...08\" \"X08...09\" \"X09...10\"\n",
       " [7] \"X10...11\" \"X11...12\" \"X12...13\" \"X13...14\" \"X14...15\" \"X15...16\"\n",
       "[13] \"X16...17\" \"X17...18\" \"X18...19\" \"X19...20\" \"X20...21\" \"X21...22\"\n",
       "[19] \"X22...23\" \"X23...24\" \"X00...01\" \"X01...02\" \"X02...03\" \"X03...04\""
      ]
     },
     "metadata": {},
     "output_type": "display_data"
    }
   ],
   "source": [
    "col[6:length(col)]"
   ]
  },
  {
   "cell_type": "markdown",
   "metadata": {},
   "source": [
    "* 아래 for문은 group_by에 사용될 텍스트를 손으로 작성하기 귀찮아서 ? , 자동적으로 하고 싶어서 for문을 사용해서 패턴을 출력한것이다."
   ]
  },
  {
   "cell_type": "code",
   "execution_count": 11,
   "metadata": {},
   "outputs": [],
   "source": [
    "total <- \"\"\n",
    "for (x in col[6:length(col)]){\n",
    "    result <- sub(\"[.][.][.]\", \".\", x)\n",
    "    result.1 <- paste(result, \"=\", \"sum(\", x, \"),\")\n",
    "    total <- paste(total, \" \", result.1)\n",
    "}"
   ]
  },
  {
   "cell_type": "code",
   "execution_count": 12,
   "metadata": {},
   "outputs": [
    {
     "data": {
      "text/html": [
       "<span style=white-space:pre-wrap>'   X04.05 = sum( X04...05 ),   X05.06 = sum( X05...06 ),   X06.07 = sum( X06...07 ),   X07.08 = sum( X07...08 ),   X08.09 = sum( X08...09 ),   X09.10 = sum( X09...10 ),   X10.11 = sum( X10...11 ),   X11.12 = sum( X11...12 ),   X12.13 = sum( X12...13 ),   X13.14 = sum( X13...14 ),   X14.15 = sum( X14...15 ),   X15.16 = sum( X15...16 ),   X16.17 = sum( X16...17 ),   X17.18 = sum( X17...18 ),   X18.19 = sum( X18...19 ),   X19.20 = sum( X19...20 ),   X20.21 = sum( X20...21 ),   X21.22 = sum( X21...22 ),   X22.23 = sum( X22...23 ),   X23.24 = sum( X23...24 ),   X00.01 = sum( X00...01 ),   X01.02 = sum( X01...02 ),   X02.03 = sum( X02...03 ),   X03.04 = sum( X03...04 ),'</span>"
      ],
      "text/latex": [
       "'   X04.05 = sum( X04...05 ),   X05.06 = sum( X05...06 ),   X06.07 = sum( X06...07 ),   X07.08 = sum( X07...08 ),   X08.09 = sum( X08...09 ),   X09.10 = sum( X09...10 ),   X10.11 = sum( X10...11 ),   X11.12 = sum( X11...12 ),   X12.13 = sum( X12...13 ),   X13.14 = sum( X13...14 ),   X14.15 = sum( X14...15 ),   X15.16 = sum( X15...16 ),   X16.17 = sum( X16...17 ),   X17.18 = sum( X17...18 ),   X18.19 = sum( X18...19 ),   X19.20 = sum( X19...20 ),   X20.21 = sum( X20...21 ),   X21.22 = sum( X21...22 ),   X22.23 = sum( X22...23 ),   X23.24 = sum( X23...24 ),   X00.01 = sum( X00...01 ),   X01.02 = sum( X01...02 ),   X02.03 = sum( X02...03 ),   X03.04 = sum( X03...04 ),'"
      ],
      "text/markdown": [
       "<span style=white-space:pre-wrap>'   X04.05 = sum( X04...05 ),   X05.06 = sum( X05...06 ),   X06.07 = sum( X06...07 ),   X07.08 = sum( X07...08 ),   X08.09 = sum( X08...09 ),   X09.10 = sum( X09...10 ),   X10.11 = sum( X10...11 ),   X11.12 = sum( X11...12 ),   X12.13 = sum( X12...13 ),   X13.14 = sum( X13...14 ),   X14.15 = sum( X14...15 ),   X15.16 = sum( X15...16 ),   X16.17 = sum( X16...17 ),   X17.18 = sum( X17...18 ),   X18.19 = sum( X18...19 ),   X19.20 = sum( X19...20 ),   X20.21 = sum( X20...21 ),   X21.22 = sum( X21...22 ),   X22.23 = sum( X22...23 ),   X23.24 = sum( X23...24 ),   X00.01 = sum( X00...01 ),   X01.02 = sum( X01...02 ),   X02.03 = sum( X02...03 ),   X03.04 = sum( X03...04 ),'</span>"
      ],
      "text/plain": [
       "[1] \"   X04.05 = sum( X04...05 ),   X05.06 = sum( X05...06 ),   X06.07 = sum( X06...07 ),   X07.08 = sum( X07...08 ),   X08.09 = sum( X08...09 ),   X09.10 = sum( X09...10 ),   X10.11 = sum( X10...11 ),   X11.12 = sum( X11...12 ),   X12.13 = sum( X12...13 ),   X13.14 = sum( X13...14 ),   X14.15 = sum( X14...15 ),   X15.16 = sum( X15...16 ),   X16.17 = sum( X16...17 ),   X17.18 = sum( X17...18 ),   X18.19 = sum( X18...19 ),   X19.20 = sum( X19...20 ),   X20.21 = sum( X20...21 ),   X21.22 = sum( X21...22 ),   X22.23 = sum( X22...23 ),   X23.24 = sum( X23...24 ),   X00.01 = sum( X00...01 ),   X01.02 = sum( X01...02 ),   X02.03 = sum( X02...03 ),   X03.04 = sum( X03...04 ),\""
      ]
     },
     "metadata": {},
     "output_type": "display_data"
    }
   ],
   "source": [
    "total"
   ]
  },
  {
   "cell_type": "markdown",
   "metadata": {},
   "source": [
    "* 위에서 나온 패턴을 사용해서 summarise() 함수안에 복사넣어서 아래와 같이 코드를 생성한다. \n",
    "* 다시 말하지만 위의 코드는 아래 코드를 손으로 타이핑하기 힘들어서 코드를 생성을 자동으로 한 것이다. \n",
    "* 밑의 코드는 물론 손으로 다 쳐도 된다.\n",
    "* 아래 코드는 날짜, 호선, 역명, 구분으로 합계를 구하는 구문이다. "
   ]
  },
  {
   "cell_type": "code",
   "execution_count": 13,
   "metadata": {},
   "outputs": [],
   "source": [
    "Subway.1.trans <- Subway.1 %>% group_by(날짜, 호선, 역명, 구.분) %>% summarise( X04.05 = sum( X04...05 ),   X05.06 = sum( X05...06 ),   \n",
    "                                                             X06.07 = sum( X06...07 ),   X07.08 = sum( X07...08 ),   \n",
    "                                                             X08.09 = sum( X08...09 ),   X09.10 = sum( X09...10 ),   \n",
    "                                                             X10.11 = sum( X10...11 ),   X11.12 = sum( X11...12 ),   \n",
    "                                                             X12.13 = sum( X12...13 ),   X13.14 = sum( X13...14 ),  \n",
    "                                                             X14.15 = sum( X14...15 ),   X15.16 = sum( X15...16 ),  \n",
    "                                                             X16.17 = sum( X16...17 ),   X17.18 = sum( X17...18 ),  \n",
    "                                                             X18.19 = sum( X18...19 ),   X19.20 = sum( X19...20 ),  \n",
    "                                                             X20.21 = sum( X20...21 ),   X21.22 = sum( X21...22 ),  \n",
    "                                                             X22.23 = sum( X22...23 ),   X23.24 = sum( X23...24 ),  \n",
    "                                                             X00.01 = sum( X00...01 ),   X01.02 = sum( X01...02 ),  \n",
    "                                                             X02.03 = sum( X02...03 ),   X03.04 = sum( X03...04 ))\n",
    "\n",
    "Subway.2.trans <- Subway.2 %>% group_by(날짜, 호선, 역명, 구.분) %>% summarise( X04.05 = sum( X04...05 ),   X05.06 = sum( X05...06 ),   \n",
    "                                                             X06.07 = sum( X06...07 ),   X07.08 = sum( X07...08 ),   \n",
    "                                                             X08.09 = sum( X08...09 ),   X09.10 = sum( X09...10 ),   \n",
    "                                                             X10.11 = sum( X10...11 ),   X11.12 = sum( X11...12 ),   \n",
    "                                                             X12.13 = sum( X12...13 ),   X13.14 = sum( X13...14 ),  \n",
    "                                                             X14.15 = sum( X14...15 ),   X15.16 = sum( X15...16 ),  \n",
    "                                                             X16.17 = sum( X16...17 ),   X17.18 = sum( X17...18 ),  \n",
    "                                                             X18.19 = sum( X18...19 ),   X19.20 = sum( X19...20 ),  \n",
    "                                                             X20.21 = sum( X20...21 ),   X21.22 = sum( X21...22 ),  \n",
    "                                                             X22.23 = sum( X22...23 ),   X23.24 = sum( X23...24 ),  \n",
    "                                                             X00.01 = sum( X00...01 ),   X01.02 = sum( X01...02 ),  \n",
    "                                                             X02.03 = sum( X02...03 ),   X03.04 = sum( X03...04 ))\n",
    "\n",
    "Subway.3.trans <- Subway.3 %>% group_by(날짜, 호선, 역명, 구.분) %>% summarise( X04.05 = sum( X04...05 ),   X05.06 = sum( X05...06 ),   \n",
    "                                                             X06.07 = sum( X06...07 ),   X07.08 = sum( X07...08 ),   \n",
    "                                                             X08.09 = sum( X08...09 ),   X09.10 = sum( X09...10 ),   \n",
    "                                                             X10.11 = sum( X10...11 ),   X11.12 = sum( X11...12 ),   \n",
    "                                                             X12.13 = sum( X12...13 ),   X13.14 = sum( X13...14 ),  \n",
    "                                                             X14.15 = sum( X14...15 ),   X15.16 = sum( X15...16 ),  \n",
    "                                                             X16.17 = sum( X16...17 ),   X17.18 = sum( X17...18 ),  \n",
    "                                                             X18.19 = sum( X18...19 ),   X19.20 = sum( X19...20 ),  \n",
    "                                                             X20.21 = sum( X20...21 ),   X21.22 = sum( X21...22 ),  \n",
    "                                                             X22.23 = sum( X22...23 ),   X23.24 = sum( X23...24 ),  \n",
    "                                                             X00.01 = sum( X00...01 ),   X01.02 = sum( X01...02 ),  \n",
    "                                                             X02.03 = sum( X02...03 ),   X03.04 = sum( X03...04 ))\n",
    "\n",
    "Subway.4.trans <- Subway.4 %>% group_by(날짜, 호선, 역명, 구.분) %>% summarise( X04.05 = sum( X04...05 ),   X05.06 = sum( X05...06 ),   \n",
    "                                                             X06.07 = sum( X06...07 ),   X07.08 = sum( X07...08 ),   \n",
    "                                                             X08.09 = sum( X08...09 ),   X09.10 = sum( X09...10 ),   \n",
    "                                                             X10.11 = sum( X10...11 ),   X11.12 = sum( X11...12 ),   \n",
    "                                                             X12.13 = sum( X12...13 ),   X13.14 = sum( X13...14 ),  \n",
    "                                                             X14.15 = sum( X14...15 ),   X15.16 = sum( X15...16 ),  \n",
    "                                                             X16.17 = sum( X16...17 ),   X17.18 = sum( X17...18 ),  \n",
    "                                                             X18.19 = sum( X18...19 ),   X19.20 = sum( X19...20 ),  \n",
    "                                                             X20.21 = sum( X20...21 ),   X21.22 = sum( X21...22 ),  \n",
    "                                                             X22.23 = sum( X22...23 ),   X23.24 = sum( X23...24 ),  \n",
    "                                                             X00.01 = sum( X00...01 ),   X01.02 = sum( X01...02 ),  \n",
    "                                                             X02.03 = sum( X02...03 ),   X03.04 = sum( X03...04 ))\n",
    "\n",
    "Subway.5.trans <- Subway.5 %>% group_by(날짜, 호선, 역명, 구.분) %>% summarise( X04.05 = sum( X04...05 ),   X05.06 = sum( X05...06 ),   \n",
    "                                                             X06.07 = sum( X06...07 ),   X07.08 = sum( X07...08 ),   \n",
    "                                                             X08.09 = sum( X08...09 ),   X09.10 = sum( X09...10 ),   \n",
    "                                                             X10.11 = sum( X10...11 ),   X11.12 = sum( X11...12 ),   \n",
    "                                                             X12.13 = sum( X12...13 ),   X13.14 = sum( X13...14 ),  \n",
    "                                                             X14.15 = sum( X14...15 ),   X15.16 = sum( X15...16 ),  \n",
    "                                                             X16.17 = sum( X16...17 ),   X17.18 = sum( X17...18 ),  \n",
    "                                                             X18.19 = sum( X18...19 ),   X19.20 = sum( X19...20 ),  \n",
    "                                                             X20.21 = sum( X20...21 ),   X21.22 = sum( X21...22 ),  \n",
    "                                                             X22.23 = sum( X22...23 ),   X23.24 = sum( X23...24 ),  \n",
    "                                                             X00.01 = sum( X00...01 ),   X01.02 = sum( X01...02 ),  \n",
    "                                                             X02.03 = sum( X02...03 ),   X03.04 = sum( X03...04 ))"
   ]
  },
  {
   "cell_type": "code",
   "execution_count": 14,
   "metadata": {},
   "outputs": [
    {
     "data": {
      "text/html": [
       "<ol class=list-inline>\n",
       "\t<li>'날짜'</li>\n",
       "\t<li>'호선'</li>\n",
       "\t<li>'역명'</li>\n",
       "\t<li>'구.분'</li>\n",
       "\t<li>'X04.05'</li>\n",
       "\t<li>'X05.06'</li>\n",
       "\t<li>'X06.07'</li>\n",
       "\t<li>'X07.08'</li>\n",
       "\t<li>'X08.09'</li>\n",
       "\t<li>'X09.10'</li>\n",
       "\t<li>'X10.11'</li>\n",
       "\t<li>'X11.12'</li>\n",
       "\t<li>'X12.13'</li>\n",
       "\t<li>'X13.14'</li>\n",
       "\t<li>'X14.15'</li>\n",
       "\t<li>'X15.16'</li>\n",
       "\t<li>'X16.17'</li>\n",
       "\t<li>'X17.18'</li>\n",
       "\t<li>'X18.19'</li>\n",
       "\t<li>'X19.20'</li>\n",
       "\t<li>'X20.21'</li>\n",
       "\t<li>'X21.22'</li>\n",
       "\t<li>'X22.23'</li>\n",
       "\t<li>'X23.24'</li>\n",
       "\t<li>'X00.01'</li>\n",
       "\t<li>'X01.02'</li>\n",
       "\t<li>'X02.03'</li>\n",
       "\t<li>'X03.04'</li>\n",
       "</ol>\n"
      ],
      "text/latex": [
       "\\begin{enumerate*}\n",
       "\\item '날짜'\n",
       "\\item '호선'\n",
       "\\item '역명'\n",
       "\\item '구.분'\n",
       "\\item 'X04.05'\n",
       "\\item 'X05.06'\n",
       "\\item 'X06.07'\n",
       "\\item 'X07.08'\n",
       "\\item 'X08.09'\n",
       "\\item 'X09.10'\n",
       "\\item 'X10.11'\n",
       "\\item 'X11.12'\n",
       "\\item 'X12.13'\n",
       "\\item 'X13.14'\n",
       "\\item 'X14.15'\n",
       "\\item 'X15.16'\n",
       "\\item 'X16.17'\n",
       "\\item 'X17.18'\n",
       "\\item 'X18.19'\n",
       "\\item 'X19.20'\n",
       "\\item 'X20.21'\n",
       "\\item 'X21.22'\n",
       "\\item 'X22.23'\n",
       "\\item 'X23.24'\n",
       "\\item 'X00.01'\n",
       "\\item 'X01.02'\n",
       "\\item 'X02.03'\n",
       "\\item 'X03.04'\n",
       "\\end{enumerate*}\n"
      ],
      "text/markdown": [
       "1. '날짜'\n",
       "2. '호선'\n",
       "3. '역명'\n",
       "4. '구.분'\n",
       "5. 'X04.05'\n",
       "6. 'X05.06'\n",
       "7. 'X06.07'\n",
       "8. 'X07.08'\n",
       "9. 'X08.09'\n",
       "10. 'X09.10'\n",
       "11. 'X10.11'\n",
       "12. 'X11.12'\n",
       "13. 'X12.13'\n",
       "14. 'X13.14'\n",
       "15. 'X14.15'\n",
       "16. 'X15.16'\n",
       "17. 'X16.17'\n",
       "18. 'X17.18'\n",
       "19. 'X18.19'\n",
       "20. 'X19.20'\n",
       "21. 'X20.21'\n",
       "22. 'X21.22'\n",
       "23. 'X22.23'\n",
       "24. 'X23.24'\n",
       "25. 'X00.01'\n",
       "26. 'X01.02'\n",
       "27. 'X02.03'\n",
       "28. 'X03.04'\n",
       "\n",
       "\n"
      ],
      "text/plain": [
       " [1] \"날짜\"   \"호선\"   \"역명\"   \"구.분\"  \"X04.05\" \"X05.06\" \"X06.07\" \"X07.08\"\n",
       " [9] \"X08.09\" \"X09.10\" \"X10.11\" \"X11.12\" \"X12.13\" \"X13.14\" \"X14.15\" \"X15.16\"\n",
       "[17] \"X16.17\" \"X17.18\" \"X18.19\" \"X19.20\" \"X20.21\" \"X21.22\" \"X22.23\" \"X23.24\"\n",
       "[25] \"X00.01\" \"X01.02\" \"X02.03\" \"X03.04\""
      ]
     },
     "metadata": {},
     "output_type": "display_data"
    },
    {
     "data": {
      "text/html": [
       "<ol class=list-inline>\n",
       "\t<li>'날짜'</li>\n",
       "\t<li>'호선'</li>\n",
       "\t<li>'역명'</li>\n",
       "\t<li>'구.분'</li>\n",
       "\t<li>'X04.05'</li>\n",
       "\t<li>'X05.06'</li>\n",
       "\t<li>'X06.07'</li>\n",
       "\t<li>'X07.08'</li>\n",
       "\t<li>'X08.09'</li>\n",
       "\t<li>'X09.10'</li>\n",
       "\t<li>'X10.11'</li>\n",
       "\t<li>'X11.12'</li>\n",
       "\t<li>'X12.13'</li>\n",
       "\t<li>'X13.14'</li>\n",
       "\t<li>'X14.15'</li>\n",
       "\t<li>'X15.16'</li>\n",
       "\t<li>'X16.17'</li>\n",
       "\t<li>'X17.18'</li>\n",
       "\t<li>'X18.19'</li>\n",
       "\t<li>'X19.20'</li>\n",
       "\t<li>'X20.21'</li>\n",
       "\t<li>'X21.22'</li>\n",
       "\t<li>'X22.23'</li>\n",
       "\t<li>'X23.24'</li>\n",
       "\t<li>'X00.01'</li>\n",
       "\t<li>'X01.02'</li>\n",
       "\t<li>'X02.03'</li>\n",
       "\t<li>'X03.04'</li>\n",
       "</ol>\n"
      ],
      "text/latex": [
       "\\begin{enumerate*}\n",
       "\\item '날짜'\n",
       "\\item '호선'\n",
       "\\item '역명'\n",
       "\\item '구.분'\n",
       "\\item 'X04.05'\n",
       "\\item 'X05.06'\n",
       "\\item 'X06.07'\n",
       "\\item 'X07.08'\n",
       "\\item 'X08.09'\n",
       "\\item 'X09.10'\n",
       "\\item 'X10.11'\n",
       "\\item 'X11.12'\n",
       "\\item 'X12.13'\n",
       "\\item 'X13.14'\n",
       "\\item 'X14.15'\n",
       "\\item 'X15.16'\n",
       "\\item 'X16.17'\n",
       "\\item 'X17.18'\n",
       "\\item 'X18.19'\n",
       "\\item 'X19.20'\n",
       "\\item 'X20.21'\n",
       "\\item 'X21.22'\n",
       "\\item 'X22.23'\n",
       "\\item 'X23.24'\n",
       "\\item 'X00.01'\n",
       "\\item 'X01.02'\n",
       "\\item 'X02.03'\n",
       "\\item 'X03.04'\n",
       "\\end{enumerate*}\n"
      ],
      "text/markdown": [
       "1. '날짜'\n",
       "2. '호선'\n",
       "3. '역명'\n",
       "4. '구.분'\n",
       "5. 'X04.05'\n",
       "6. 'X05.06'\n",
       "7. 'X06.07'\n",
       "8. 'X07.08'\n",
       "9. 'X08.09'\n",
       "10. 'X09.10'\n",
       "11. 'X10.11'\n",
       "12. 'X11.12'\n",
       "13. 'X12.13'\n",
       "14. 'X13.14'\n",
       "15. 'X14.15'\n",
       "16. 'X15.16'\n",
       "17. 'X16.17'\n",
       "18. 'X17.18'\n",
       "19. 'X18.19'\n",
       "20. 'X19.20'\n",
       "21. 'X20.21'\n",
       "22. 'X21.22'\n",
       "23. 'X22.23'\n",
       "24. 'X23.24'\n",
       "25. 'X00.01'\n",
       "26. 'X01.02'\n",
       "27. 'X02.03'\n",
       "28. 'X03.04'\n",
       "\n",
       "\n"
      ],
      "text/plain": [
       " [1] \"날짜\"   \"호선\"   \"역명\"   \"구.분\"  \"X04.05\" \"X05.06\" \"X06.07\" \"X07.08\"\n",
       " [9] \"X08.09\" \"X09.10\" \"X10.11\" \"X11.12\" \"X12.13\" \"X13.14\" \"X14.15\" \"X15.16\"\n",
       "[17] \"X16.17\" \"X17.18\" \"X18.19\" \"X19.20\" \"X20.21\" \"X21.22\" \"X22.23\" \"X23.24\"\n",
       "[25] \"X00.01\" \"X01.02\" \"X02.03\" \"X03.04\""
      ]
     },
     "metadata": {},
     "output_type": "display_data"
    },
    {
     "data": {
      "text/html": [
       "<ol class=list-inline>\n",
       "\t<li>'날짜'</li>\n",
       "\t<li>'호선'</li>\n",
       "\t<li>'역명'</li>\n",
       "\t<li>'구.분'</li>\n",
       "\t<li>'X04.05'</li>\n",
       "\t<li>'X05.06'</li>\n",
       "\t<li>'X06.07'</li>\n",
       "\t<li>'X07.08'</li>\n",
       "\t<li>'X08.09'</li>\n",
       "\t<li>'X09.10'</li>\n",
       "\t<li>'X10.11'</li>\n",
       "\t<li>'X11.12'</li>\n",
       "\t<li>'X12.13'</li>\n",
       "\t<li>'X13.14'</li>\n",
       "\t<li>'X14.15'</li>\n",
       "\t<li>'X15.16'</li>\n",
       "\t<li>'X16.17'</li>\n",
       "\t<li>'X17.18'</li>\n",
       "\t<li>'X18.19'</li>\n",
       "\t<li>'X19.20'</li>\n",
       "\t<li>'X20.21'</li>\n",
       "\t<li>'X21.22'</li>\n",
       "\t<li>'X22.23'</li>\n",
       "\t<li>'X23.24'</li>\n",
       "\t<li>'X00.01'</li>\n",
       "\t<li>'X01.02'</li>\n",
       "\t<li>'X02.03'</li>\n",
       "\t<li>'X03.04'</li>\n",
       "</ol>\n"
      ],
      "text/latex": [
       "\\begin{enumerate*}\n",
       "\\item '날짜'\n",
       "\\item '호선'\n",
       "\\item '역명'\n",
       "\\item '구.분'\n",
       "\\item 'X04.05'\n",
       "\\item 'X05.06'\n",
       "\\item 'X06.07'\n",
       "\\item 'X07.08'\n",
       "\\item 'X08.09'\n",
       "\\item 'X09.10'\n",
       "\\item 'X10.11'\n",
       "\\item 'X11.12'\n",
       "\\item 'X12.13'\n",
       "\\item 'X13.14'\n",
       "\\item 'X14.15'\n",
       "\\item 'X15.16'\n",
       "\\item 'X16.17'\n",
       "\\item 'X17.18'\n",
       "\\item 'X18.19'\n",
       "\\item 'X19.20'\n",
       "\\item 'X20.21'\n",
       "\\item 'X21.22'\n",
       "\\item 'X22.23'\n",
       "\\item 'X23.24'\n",
       "\\item 'X00.01'\n",
       "\\item 'X01.02'\n",
       "\\item 'X02.03'\n",
       "\\item 'X03.04'\n",
       "\\end{enumerate*}\n"
      ],
      "text/markdown": [
       "1. '날짜'\n",
       "2. '호선'\n",
       "3. '역명'\n",
       "4. '구.분'\n",
       "5. 'X04.05'\n",
       "6. 'X05.06'\n",
       "7. 'X06.07'\n",
       "8. 'X07.08'\n",
       "9. 'X08.09'\n",
       "10. 'X09.10'\n",
       "11. 'X10.11'\n",
       "12. 'X11.12'\n",
       "13. 'X12.13'\n",
       "14. 'X13.14'\n",
       "15. 'X14.15'\n",
       "16. 'X15.16'\n",
       "17. 'X16.17'\n",
       "18. 'X17.18'\n",
       "19. 'X18.19'\n",
       "20. 'X19.20'\n",
       "21. 'X20.21'\n",
       "22. 'X21.22'\n",
       "23. 'X22.23'\n",
       "24. 'X23.24'\n",
       "25. 'X00.01'\n",
       "26. 'X01.02'\n",
       "27. 'X02.03'\n",
       "28. 'X03.04'\n",
       "\n",
       "\n"
      ],
      "text/plain": [
       " [1] \"날짜\"   \"호선\"   \"역명\"   \"구.분\"  \"X04.05\" \"X05.06\" \"X06.07\" \"X07.08\"\n",
       " [9] \"X08.09\" \"X09.10\" \"X10.11\" \"X11.12\" \"X12.13\" \"X13.14\" \"X14.15\" \"X15.16\"\n",
       "[17] \"X16.17\" \"X17.18\" \"X18.19\" \"X19.20\" \"X20.21\" \"X21.22\" \"X22.23\" \"X23.24\"\n",
       "[25] \"X00.01\" \"X01.02\" \"X02.03\" \"X03.04\""
      ]
     },
     "metadata": {},
     "output_type": "display_data"
    },
    {
     "data": {
      "text/html": [
       "<ol class=list-inline>\n",
       "\t<li>'날짜'</li>\n",
       "\t<li>'호선'</li>\n",
       "\t<li>'역명'</li>\n",
       "\t<li>'구.분'</li>\n",
       "\t<li>'X04.05'</li>\n",
       "\t<li>'X05.06'</li>\n",
       "\t<li>'X06.07'</li>\n",
       "\t<li>'X07.08'</li>\n",
       "\t<li>'X08.09'</li>\n",
       "\t<li>'X09.10'</li>\n",
       "\t<li>'X10.11'</li>\n",
       "\t<li>'X11.12'</li>\n",
       "\t<li>'X12.13'</li>\n",
       "\t<li>'X13.14'</li>\n",
       "\t<li>'X14.15'</li>\n",
       "\t<li>'X15.16'</li>\n",
       "\t<li>'X16.17'</li>\n",
       "\t<li>'X17.18'</li>\n",
       "\t<li>'X18.19'</li>\n",
       "\t<li>'X19.20'</li>\n",
       "\t<li>'X20.21'</li>\n",
       "\t<li>'X21.22'</li>\n",
       "\t<li>'X22.23'</li>\n",
       "\t<li>'X23.24'</li>\n",
       "\t<li>'X00.01'</li>\n",
       "\t<li>'X01.02'</li>\n",
       "\t<li>'X02.03'</li>\n",
       "\t<li>'X03.04'</li>\n",
       "</ol>\n"
      ],
      "text/latex": [
       "\\begin{enumerate*}\n",
       "\\item '날짜'\n",
       "\\item '호선'\n",
       "\\item '역명'\n",
       "\\item '구.분'\n",
       "\\item 'X04.05'\n",
       "\\item 'X05.06'\n",
       "\\item 'X06.07'\n",
       "\\item 'X07.08'\n",
       "\\item 'X08.09'\n",
       "\\item 'X09.10'\n",
       "\\item 'X10.11'\n",
       "\\item 'X11.12'\n",
       "\\item 'X12.13'\n",
       "\\item 'X13.14'\n",
       "\\item 'X14.15'\n",
       "\\item 'X15.16'\n",
       "\\item 'X16.17'\n",
       "\\item 'X17.18'\n",
       "\\item 'X18.19'\n",
       "\\item 'X19.20'\n",
       "\\item 'X20.21'\n",
       "\\item 'X21.22'\n",
       "\\item 'X22.23'\n",
       "\\item 'X23.24'\n",
       "\\item 'X00.01'\n",
       "\\item 'X01.02'\n",
       "\\item 'X02.03'\n",
       "\\item 'X03.04'\n",
       "\\end{enumerate*}\n"
      ],
      "text/markdown": [
       "1. '날짜'\n",
       "2. '호선'\n",
       "3. '역명'\n",
       "4. '구.분'\n",
       "5. 'X04.05'\n",
       "6. 'X05.06'\n",
       "7. 'X06.07'\n",
       "8. 'X07.08'\n",
       "9. 'X08.09'\n",
       "10. 'X09.10'\n",
       "11. 'X10.11'\n",
       "12. 'X11.12'\n",
       "13. 'X12.13'\n",
       "14. 'X13.14'\n",
       "15. 'X14.15'\n",
       "16. 'X15.16'\n",
       "17. 'X16.17'\n",
       "18. 'X17.18'\n",
       "19. 'X18.19'\n",
       "20. 'X19.20'\n",
       "21. 'X20.21'\n",
       "22. 'X21.22'\n",
       "23. 'X22.23'\n",
       "24. 'X23.24'\n",
       "25. 'X00.01'\n",
       "26. 'X01.02'\n",
       "27. 'X02.03'\n",
       "28. 'X03.04'\n",
       "\n",
       "\n"
      ],
      "text/plain": [
       " [1] \"날짜\"   \"호선\"   \"역명\"   \"구.분\"  \"X04.05\" \"X05.06\" \"X06.07\" \"X07.08\"\n",
       " [9] \"X08.09\" \"X09.10\" \"X10.11\" \"X11.12\" \"X12.13\" \"X13.14\" \"X14.15\" \"X15.16\"\n",
       "[17] \"X16.17\" \"X17.18\" \"X18.19\" \"X19.20\" \"X20.21\" \"X21.22\" \"X22.23\" \"X23.24\"\n",
       "[25] \"X00.01\" \"X01.02\" \"X02.03\" \"X03.04\""
      ]
     },
     "metadata": {},
     "output_type": "display_data"
    },
    {
     "data": {
      "text/html": [
       "<ol class=list-inline>\n",
       "\t<li>'날짜'</li>\n",
       "\t<li>'호선'</li>\n",
       "\t<li>'역명'</li>\n",
       "\t<li>'구.분'</li>\n",
       "\t<li>'X04.05'</li>\n",
       "\t<li>'X05.06'</li>\n",
       "\t<li>'X06.07'</li>\n",
       "\t<li>'X07.08'</li>\n",
       "\t<li>'X08.09'</li>\n",
       "\t<li>'X09.10'</li>\n",
       "\t<li>'X10.11'</li>\n",
       "\t<li>'X11.12'</li>\n",
       "\t<li>'X12.13'</li>\n",
       "\t<li>'X13.14'</li>\n",
       "\t<li>'X14.15'</li>\n",
       "\t<li>'X15.16'</li>\n",
       "\t<li>'X16.17'</li>\n",
       "\t<li>'X17.18'</li>\n",
       "\t<li>'X18.19'</li>\n",
       "\t<li>'X19.20'</li>\n",
       "\t<li>'X20.21'</li>\n",
       "\t<li>'X21.22'</li>\n",
       "\t<li>'X22.23'</li>\n",
       "\t<li>'X23.24'</li>\n",
       "\t<li>'X00.01'</li>\n",
       "\t<li>'X01.02'</li>\n",
       "\t<li>'X02.03'</li>\n",
       "\t<li>'X03.04'</li>\n",
       "</ol>\n"
      ],
      "text/latex": [
       "\\begin{enumerate*}\n",
       "\\item '날짜'\n",
       "\\item '호선'\n",
       "\\item '역명'\n",
       "\\item '구.분'\n",
       "\\item 'X04.05'\n",
       "\\item 'X05.06'\n",
       "\\item 'X06.07'\n",
       "\\item 'X07.08'\n",
       "\\item 'X08.09'\n",
       "\\item 'X09.10'\n",
       "\\item 'X10.11'\n",
       "\\item 'X11.12'\n",
       "\\item 'X12.13'\n",
       "\\item 'X13.14'\n",
       "\\item 'X14.15'\n",
       "\\item 'X15.16'\n",
       "\\item 'X16.17'\n",
       "\\item 'X17.18'\n",
       "\\item 'X18.19'\n",
       "\\item 'X19.20'\n",
       "\\item 'X20.21'\n",
       "\\item 'X21.22'\n",
       "\\item 'X22.23'\n",
       "\\item 'X23.24'\n",
       "\\item 'X00.01'\n",
       "\\item 'X01.02'\n",
       "\\item 'X02.03'\n",
       "\\item 'X03.04'\n",
       "\\end{enumerate*}\n"
      ],
      "text/markdown": [
       "1. '날짜'\n",
       "2. '호선'\n",
       "3. '역명'\n",
       "4. '구.분'\n",
       "5. 'X04.05'\n",
       "6. 'X05.06'\n",
       "7. 'X06.07'\n",
       "8. 'X07.08'\n",
       "9. 'X08.09'\n",
       "10. 'X09.10'\n",
       "11. 'X10.11'\n",
       "12. 'X11.12'\n",
       "13. 'X12.13'\n",
       "14. 'X13.14'\n",
       "15. 'X14.15'\n",
       "16. 'X15.16'\n",
       "17. 'X16.17'\n",
       "18. 'X17.18'\n",
       "19. 'X18.19'\n",
       "20. 'X19.20'\n",
       "21. 'X20.21'\n",
       "22. 'X21.22'\n",
       "23. 'X22.23'\n",
       "24. 'X23.24'\n",
       "25. 'X00.01'\n",
       "26. 'X01.02'\n",
       "27. 'X02.03'\n",
       "28. 'X03.04'\n",
       "\n",
       "\n"
      ],
      "text/plain": [
       " [1] \"날짜\"   \"호선\"   \"역명\"   \"구.분\"  \"X04.05\" \"X05.06\" \"X06.07\" \"X07.08\"\n",
       " [9] \"X08.09\" \"X09.10\" \"X10.11\" \"X11.12\" \"X12.13\" \"X13.14\" \"X14.15\" \"X15.16\"\n",
       "[17] \"X16.17\" \"X17.18\" \"X18.19\" \"X19.20\" \"X20.21\" \"X21.22\" \"X22.23\" \"X23.24\"\n",
       "[25] \"X00.01\" \"X01.02\" \"X02.03\" \"X03.04\""
      ]
     },
     "metadata": {},
     "output_type": "display_data"
    }
   ],
   "source": [
    "colnames(Subway.1.trans)\n",
    "colnames(Subway.2.trans)\n",
    "colnames(Subway.3.trans)\n",
    "colnames(Subway.4.trans)\n",
    "colnames(Subway.5.trans)"
   ]
  },
  {
   "cell_type": "markdown",
   "metadata": {},
   "source": [
    "* 이제 subset() 함수와 index 방식을 사용하여 불필요 없는 컬럼 삭제 및 순서를 변경해보자"
   ]
  },
  {
   "cell_type": "code",
   "execution_count": 15,
   "metadata": {},
   "outputs": [],
   "source": [
    "#subway.01.trans[-c(2)]\n",
    "Subway.1.trans <-subset(Subway.1.trans, select = -호선)[, c(2,1,3, 5:(length(Subway.1.trans)-3))]\n",
    "Subway.2.trans <-subset(Subway.2.trans, select = -호선)[, c(2,1,3, 5:(length(Subway.2.trans)-3))]\n",
    "Subway.3.trans <-subset(Subway.3.trans, select = -호선)[, c(2,1,3, 5:(length(Subway.3.trans)-3))]\n",
    "Subway.4.trans <-subset(Subway.4.trans, select = -호선)[, c(2,1,3, 5:(length(Subway.4.trans)-3))]\n",
    "Subway.5.trans <-subset(Subway.5.trans, select = -호선)[, c(2,1,3, 5:(length(Subway.5.trans)-3))]"
   ]
  },
  {
   "cell_type": "code",
   "execution_count": 16,
   "metadata": {},
   "outputs": [
    {
     "data": {
      "text/html": [
       "<ol class=list-inline>\n",
       "\t<li>'역명'</li>\n",
       "\t<li>'날짜'</li>\n",
       "\t<li>'구.분'</li>\n",
       "\t<li>'X05.06'</li>\n",
       "\t<li>'X06.07'</li>\n",
       "\t<li>'X07.08'</li>\n",
       "\t<li>'X08.09'</li>\n",
       "\t<li>'X09.10'</li>\n",
       "\t<li>'X10.11'</li>\n",
       "\t<li>'X11.12'</li>\n",
       "\t<li>'X12.13'</li>\n",
       "\t<li>'X13.14'</li>\n",
       "\t<li>'X14.15'</li>\n",
       "\t<li>'X15.16'</li>\n",
       "\t<li>'X16.17'</li>\n",
       "\t<li>'X17.18'</li>\n",
       "\t<li>'X18.19'</li>\n",
       "\t<li>'X19.20'</li>\n",
       "\t<li>'X20.21'</li>\n",
       "\t<li>'X21.22'</li>\n",
       "\t<li>'X22.23'</li>\n",
       "\t<li>'X23.24'</li>\n",
       "\t<li>'X00.01'</li>\n",
       "\t<li>'X01.02'</li>\n",
       "</ol>\n"
      ],
      "text/latex": [
       "\\begin{enumerate*}\n",
       "\\item '역명'\n",
       "\\item '날짜'\n",
       "\\item '구.분'\n",
       "\\item 'X05.06'\n",
       "\\item 'X06.07'\n",
       "\\item 'X07.08'\n",
       "\\item 'X08.09'\n",
       "\\item 'X09.10'\n",
       "\\item 'X10.11'\n",
       "\\item 'X11.12'\n",
       "\\item 'X12.13'\n",
       "\\item 'X13.14'\n",
       "\\item 'X14.15'\n",
       "\\item 'X15.16'\n",
       "\\item 'X16.17'\n",
       "\\item 'X17.18'\n",
       "\\item 'X18.19'\n",
       "\\item 'X19.20'\n",
       "\\item 'X20.21'\n",
       "\\item 'X21.22'\n",
       "\\item 'X22.23'\n",
       "\\item 'X23.24'\n",
       "\\item 'X00.01'\n",
       "\\item 'X01.02'\n",
       "\\end{enumerate*}\n"
      ],
      "text/markdown": [
       "1. '역명'\n",
       "2. '날짜'\n",
       "3. '구.분'\n",
       "4. 'X05.06'\n",
       "5. 'X06.07'\n",
       "6. 'X07.08'\n",
       "7. 'X08.09'\n",
       "8. 'X09.10'\n",
       "9. 'X10.11'\n",
       "10. 'X11.12'\n",
       "11. 'X12.13'\n",
       "12. 'X13.14'\n",
       "13. 'X14.15'\n",
       "14. 'X15.16'\n",
       "15. 'X16.17'\n",
       "16. 'X17.18'\n",
       "17. 'X18.19'\n",
       "18. 'X19.20'\n",
       "19. 'X20.21'\n",
       "20. 'X21.22'\n",
       "21. 'X22.23'\n",
       "22. 'X23.24'\n",
       "23. 'X00.01'\n",
       "24. 'X01.02'\n",
       "\n",
       "\n"
      ],
      "text/plain": [
       " [1] \"역명\"   \"날짜\"   \"구.분\"  \"X05.06\" \"X06.07\" \"X07.08\" \"X08.09\" \"X09.10\"\n",
       " [9] \"X10.11\" \"X11.12\" \"X12.13\" \"X13.14\" \"X14.15\" \"X15.16\" \"X16.17\" \"X17.18\"\n",
       "[17] \"X18.19\" \"X19.20\" \"X20.21\" \"X21.22\" \"X22.23\" \"X23.24\" \"X00.01\" \"X01.02\""
      ]
     },
     "metadata": {},
     "output_type": "display_data"
    },
    {
     "data": {
      "text/html": [
       "<ol class=list-inline>\n",
       "\t<li>'역명'</li>\n",
       "\t<li>'날짜'</li>\n",
       "\t<li>'구.분'</li>\n",
       "\t<li>'X05.06'</li>\n",
       "\t<li>'X06.07'</li>\n",
       "\t<li>'X07.08'</li>\n",
       "\t<li>'X08.09'</li>\n",
       "\t<li>'X09.10'</li>\n",
       "\t<li>'X10.11'</li>\n",
       "\t<li>'X11.12'</li>\n",
       "\t<li>'X12.13'</li>\n",
       "\t<li>'X13.14'</li>\n",
       "\t<li>'X14.15'</li>\n",
       "\t<li>'X15.16'</li>\n",
       "\t<li>'X16.17'</li>\n",
       "\t<li>'X17.18'</li>\n",
       "\t<li>'X18.19'</li>\n",
       "\t<li>'X19.20'</li>\n",
       "\t<li>'X20.21'</li>\n",
       "\t<li>'X21.22'</li>\n",
       "\t<li>'X22.23'</li>\n",
       "\t<li>'X23.24'</li>\n",
       "\t<li>'X00.01'</li>\n",
       "\t<li>'X01.02'</li>\n",
       "</ol>\n"
      ],
      "text/latex": [
       "\\begin{enumerate*}\n",
       "\\item '역명'\n",
       "\\item '날짜'\n",
       "\\item '구.분'\n",
       "\\item 'X05.06'\n",
       "\\item 'X06.07'\n",
       "\\item 'X07.08'\n",
       "\\item 'X08.09'\n",
       "\\item 'X09.10'\n",
       "\\item 'X10.11'\n",
       "\\item 'X11.12'\n",
       "\\item 'X12.13'\n",
       "\\item 'X13.14'\n",
       "\\item 'X14.15'\n",
       "\\item 'X15.16'\n",
       "\\item 'X16.17'\n",
       "\\item 'X17.18'\n",
       "\\item 'X18.19'\n",
       "\\item 'X19.20'\n",
       "\\item 'X20.21'\n",
       "\\item 'X21.22'\n",
       "\\item 'X22.23'\n",
       "\\item 'X23.24'\n",
       "\\item 'X00.01'\n",
       "\\item 'X01.02'\n",
       "\\end{enumerate*}\n"
      ],
      "text/markdown": [
       "1. '역명'\n",
       "2. '날짜'\n",
       "3. '구.분'\n",
       "4. 'X05.06'\n",
       "5. 'X06.07'\n",
       "6. 'X07.08'\n",
       "7. 'X08.09'\n",
       "8. 'X09.10'\n",
       "9. 'X10.11'\n",
       "10. 'X11.12'\n",
       "11. 'X12.13'\n",
       "12. 'X13.14'\n",
       "13. 'X14.15'\n",
       "14. 'X15.16'\n",
       "15. 'X16.17'\n",
       "16. 'X17.18'\n",
       "17. 'X18.19'\n",
       "18. 'X19.20'\n",
       "19. 'X20.21'\n",
       "20. 'X21.22'\n",
       "21. 'X22.23'\n",
       "22. 'X23.24'\n",
       "23. 'X00.01'\n",
       "24. 'X01.02'\n",
       "\n",
       "\n"
      ],
      "text/plain": [
       " [1] \"역명\"   \"날짜\"   \"구.분\"  \"X05.06\" \"X06.07\" \"X07.08\" \"X08.09\" \"X09.10\"\n",
       " [9] \"X10.11\" \"X11.12\" \"X12.13\" \"X13.14\" \"X14.15\" \"X15.16\" \"X16.17\" \"X17.18\"\n",
       "[17] \"X18.19\" \"X19.20\" \"X20.21\" \"X21.22\" \"X22.23\" \"X23.24\" \"X00.01\" \"X01.02\""
      ]
     },
     "metadata": {},
     "output_type": "display_data"
    },
    {
     "data": {
      "text/html": [
       "<ol class=list-inline>\n",
       "\t<li>'역명'</li>\n",
       "\t<li>'날짜'</li>\n",
       "\t<li>'구.분'</li>\n",
       "\t<li>'X05.06'</li>\n",
       "\t<li>'X06.07'</li>\n",
       "\t<li>'X07.08'</li>\n",
       "\t<li>'X08.09'</li>\n",
       "\t<li>'X09.10'</li>\n",
       "\t<li>'X10.11'</li>\n",
       "\t<li>'X11.12'</li>\n",
       "\t<li>'X12.13'</li>\n",
       "\t<li>'X13.14'</li>\n",
       "\t<li>'X14.15'</li>\n",
       "\t<li>'X15.16'</li>\n",
       "\t<li>'X16.17'</li>\n",
       "\t<li>'X17.18'</li>\n",
       "\t<li>'X18.19'</li>\n",
       "\t<li>'X19.20'</li>\n",
       "\t<li>'X20.21'</li>\n",
       "\t<li>'X21.22'</li>\n",
       "\t<li>'X22.23'</li>\n",
       "\t<li>'X23.24'</li>\n",
       "\t<li>'X00.01'</li>\n",
       "\t<li>'X01.02'</li>\n",
       "</ol>\n"
      ],
      "text/latex": [
       "\\begin{enumerate*}\n",
       "\\item '역명'\n",
       "\\item '날짜'\n",
       "\\item '구.분'\n",
       "\\item 'X05.06'\n",
       "\\item 'X06.07'\n",
       "\\item 'X07.08'\n",
       "\\item 'X08.09'\n",
       "\\item 'X09.10'\n",
       "\\item 'X10.11'\n",
       "\\item 'X11.12'\n",
       "\\item 'X12.13'\n",
       "\\item 'X13.14'\n",
       "\\item 'X14.15'\n",
       "\\item 'X15.16'\n",
       "\\item 'X16.17'\n",
       "\\item 'X17.18'\n",
       "\\item 'X18.19'\n",
       "\\item 'X19.20'\n",
       "\\item 'X20.21'\n",
       "\\item 'X21.22'\n",
       "\\item 'X22.23'\n",
       "\\item 'X23.24'\n",
       "\\item 'X00.01'\n",
       "\\item 'X01.02'\n",
       "\\end{enumerate*}\n"
      ],
      "text/markdown": [
       "1. '역명'\n",
       "2. '날짜'\n",
       "3. '구.분'\n",
       "4. 'X05.06'\n",
       "5. 'X06.07'\n",
       "6. 'X07.08'\n",
       "7. 'X08.09'\n",
       "8. 'X09.10'\n",
       "9. 'X10.11'\n",
       "10. 'X11.12'\n",
       "11. 'X12.13'\n",
       "12. 'X13.14'\n",
       "13. 'X14.15'\n",
       "14. 'X15.16'\n",
       "15. 'X16.17'\n",
       "16. 'X17.18'\n",
       "17. 'X18.19'\n",
       "18. 'X19.20'\n",
       "19. 'X20.21'\n",
       "20. 'X21.22'\n",
       "21. 'X22.23'\n",
       "22. 'X23.24'\n",
       "23. 'X00.01'\n",
       "24. 'X01.02'\n",
       "\n",
       "\n"
      ],
      "text/plain": [
       " [1] \"역명\"   \"날짜\"   \"구.분\"  \"X05.06\" \"X06.07\" \"X07.08\" \"X08.09\" \"X09.10\"\n",
       " [9] \"X10.11\" \"X11.12\" \"X12.13\" \"X13.14\" \"X14.15\" \"X15.16\" \"X16.17\" \"X17.18\"\n",
       "[17] \"X18.19\" \"X19.20\" \"X20.21\" \"X21.22\" \"X22.23\" \"X23.24\" \"X00.01\" \"X01.02\""
      ]
     },
     "metadata": {},
     "output_type": "display_data"
    },
    {
     "data": {
      "text/html": [
       "<ol class=list-inline>\n",
       "\t<li>'역명'</li>\n",
       "\t<li>'날짜'</li>\n",
       "\t<li>'구.분'</li>\n",
       "\t<li>'X05.06'</li>\n",
       "\t<li>'X06.07'</li>\n",
       "\t<li>'X07.08'</li>\n",
       "\t<li>'X08.09'</li>\n",
       "\t<li>'X09.10'</li>\n",
       "\t<li>'X10.11'</li>\n",
       "\t<li>'X11.12'</li>\n",
       "\t<li>'X12.13'</li>\n",
       "\t<li>'X13.14'</li>\n",
       "\t<li>'X14.15'</li>\n",
       "\t<li>'X15.16'</li>\n",
       "\t<li>'X16.17'</li>\n",
       "\t<li>'X17.18'</li>\n",
       "\t<li>'X18.19'</li>\n",
       "\t<li>'X19.20'</li>\n",
       "\t<li>'X20.21'</li>\n",
       "\t<li>'X21.22'</li>\n",
       "\t<li>'X22.23'</li>\n",
       "\t<li>'X23.24'</li>\n",
       "\t<li>'X00.01'</li>\n",
       "\t<li>'X01.02'</li>\n",
       "</ol>\n"
      ],
      "text/latex": [
       "\\begin{enumerate*}\n",
       "\\item '역명'\n",
       "\\item '날짜'\n",
       "\\item '구.분'\n",
       "\\item 'X05.06'\n",
       "\\item 'X06.07'\n",
       "\\item 'X07.08'\n",
       "\\item 'X08.09'\n",
       "\\item 'X09.10'\n",
       "\\item 'X10.11'\n",
       "\\item 'X11.12'\n",
       "\\item 'X12.13'\n",
       "\\item 'X13.14'\n",
       "\\item 'X14.15'\n",
       "\\item 'X15.16'\n",
       "\\item 'X16.17'\n",
       "\\item 'X17.18'\n",
       "\\item 'X18.19'\n",
       "\\item 'X19.20'\n",
       "\\item 'X20.21'\n",
       "\\item 'X21.22'\n",
       "\\item 'X22.23'\n",
       "\\item 'X23.24'\n",
       "\\item 'X00.01'\n",
       "\\item 'X01.02'\n",
       "\\end{enumerate*}\n"
      ],
      "text/markdown": [
       "1. '역명'\n",
       "2. '날짜'\n",
       "3. '구.분'\n",
       "4. 'X05.06'\n",
       "5. 'X06.07'\n",
       "6. 'X07.08'\n",
       "7. 'X08.09'\n",
       "8. 'X09.10'\n",
       "9. 'X10.11'\n",
       "10. 'X11.12'\n",
       "11. 'X12.13'\n",
       "12. 'X13.14'\n",
       "13. 'X14.15'\n",
       "14. 'X15.16'\n",
       "15. 'X16.17'\n",
       "16. 'X17.18'\n",
       "17. 'X18.19'\n",
       "18. 'X19.20'\n",
       "19. 'X20.21'\n",
       "20. 'X21.22'\n",
       "21. 'X22.23'\n",
       "22. 'X23.24'\n",
       "23. 'X00.01'\n",
       "24. 'X01.02'\n",
       "\n",
       "\n"
      ],
      "text/plain": [
       " [1] \"역명\"   \"날짜\"   \"구.분\"  \"X05.06\" \"X06.07\" \"X07.08\" \"X08.09\" \"X09.10\"\n",
       " [9] \"X10.11\" \"X11.12\" \"X12.13\" \"X13.14\" \"X14.15\" \"X15.16\" \"X16.17\" \"X17.18\"\n",
       "[17] \"X18.19\" \"X19.20\" \"X20.21\" \"X21.22\" \"X22.23\" \"X23.24\" \"X00.01\" \"X01.02\""
      ]
     },
     "metadata": {},
     "output_type": "display_data"
    },
    {
     "data": {
      "text/html": [
       "<ol class=list-inline>\n",
       "\t<li>'역명'</li>\n",
       "\t<li>'날짜'</li>\n",
       "\t<li>'구.분'</li>\n",
       "\t<li>'X05.06'</li>\n",
       "\t<li>'X06.07'</li>\n",
       "\t<li>'X07.08'</li>\n",
       "\t<li>'X08.09'</li>\n",
       "\t<li>'X09.10'</li>\n",
       "\t<li>'X10.11'</li>\n",
       "\t<li>'X11.12'</li>\n",
       "\t<li>'X12.13'</li>\n",
       "\t<li>'X13.14'</li>\n",
       "\t<li>'X14.15'</li>\n",
       "\t<li>'X15.16'</li>\n",
       "\t<li>'X16.17'</li>\n",
       "\t<li>'X17.18'</li>\n",
       "\t<li>'X18.19'</li>\n",
       "\t<li>'X19.20'</li>\n",
       "\t<li>'X20.21'</li>\n",
       "\t<li>'X21.22'</li>\n",
       "\t<li>'X22.23'</li>\n",
       "\t<li>'X23.24'</li>\n",
       "\t<li>'X00.01'</li>\n",
       "\t<li>'X01.02'</li>\n",
       "</ol>\n"
      ],
      "text/latex": [
       "\\begin{enumerate*}\n",
       "\\item '역명'\n",
       "\\item '날짜'\n",
       "\\item '구.분'\n",
       "\\item 'X05.06'\n",
       "\\item 'X06.07'\n",
       "\\item 'X07.08'\n",
       "\\item 'X08.09'\n",
       "\\item 'X09.10'\n",
       "\\item 'X10.11'\n",
       "\\item 'X11.12'\n",
       "\\item 'X12.13'\n",
       "\\item 'X13.14'\n",
       "\\item 'X14.15'\n",
       "\\item 'X15.16'\n",
       "\\item 'X16.17'\n",
       "\\item 'X17.18'\n",
       "\\item 'X18.19'\n",
       "\\item 'X19.20'\n",
       "\\item 'X20.21'\n",
       "\\item 'X21.22'\n",
       "\\item 'X22.23'\n",
       "\\item 'X23.24'\n",
       "\\item 'X00.01'\n",
       "\\item 'X01.02'\n",
       "\\end{enumerate*}\n"
      ],
      "text/markdown": [
       "1. '역명'\n",
       "2. '날짜'\n",
       "3. '구.분'\n",
       "4. 'X05.06'\n",
       "5. 'X06.07'\n",
       "6. 'X07.08'\n",
       "7. 'X08.09'\n",
       "8. 'X09.10'\n",
       "9. 'X10.11'\n",
       "10. 'X11.12'\n",
       "11. 'X12.13'\n",
       "12. 'X13.14'\n",
       "13. 'X14.15'\n",
       "14. 'X15.16'\n",
       "15. 'X16.17'\n",
       "16. 'X17.18'\n",
       "17. 'X18.19'\n",
       "18. 'X19.20'\n",
       "19. 'X20.21'\n",
       "20. 'X21.22'\n",
       "21. 'X22.23'\n",
       "22. 'X23.24'\n",
       "23. 'X00.01'\n",
       "24. 'X01.02'\n",
       "\n",
       "\n"
      ],
      "text/plain": [
       " [1] \"역명\"   \"날짜\"   \"구.분\"  \"X05.06\" \"X06.07\" \"X07.08\" \"X08.09\" \"X09.10\"\n",
       " [9] \"X10.11\" \"X11.12\" \"X12.13\" \"X13.14\" \"X14.15\" \"X15.16\" \"X16.17\" \"X17.18\"\n",
       "[17] \"X18.19\" \"X19.20\" \"X20.21\" \"X21.22\" \"X22.23\" \"X23.24\" \"X00.01\" \"X01.02\""
      ]
     },
     "metadata": {},
     "output_type": "display_data"
    }
   ],
   "source": [
    "colnames(Subway.1.trans)\n",
    "colnames(Subway.2.trans)\n",
    "colnames(Subway.3.trans)\n",
    "colnames(Subway.4.trans)\n",
    "colnames(Subway.5.trans)"
   ]
  },
  {
   "cell_type": "markdown",
   "metadata": {},
   "source": [
    "# 구.분 이라는 문구를 구분으로 바꾸기\n",
    "* gsub() 함수를 사용하여 문자열을 변경한다. 구.분을 구분으로 변경한다."
   ]
  },
  {
   "cell_type": "code",
   "execution_count": 17,
   "metadata": {},
   "outputs": [],
   "source": [
    "names(Subway.1.trans) <- gsub(x = names(Subway.1.trans), pattern = \"구.분\", replacement = \"구분\")  \n",
    "names(Subway.2.trans) <- gsub(x = names(Subway.2.trans), pattern = \"구.분\", replacement = \"구분\")  \n",
    "names(Subway.3.trans) <- gsub(x = names(Subway.3.trans), pattern = \"구.분\", replacement = \"구분\")  \n",
    "names(Subway.4.trans) <- gsub(x = names(Subway.4.trans), pattern = \"구.분\", replacement = \"구분\")  \n",
    "names(Subway.5.trans) <- gsub(x = names(Subway.5.trans), pattern = \"구.분\", replacement = \"구분\")  "
   ]
  },
  {
   "cell_type": "code",
   "execution_count": 18,
   "metadata": {},
   "outputs": [
    {
     "data": {
      "text/html": [
       "<ol class=list-inline>\n",
       "\t<li>'역명'</li>\n",
       "\t<li>'날짜'</li>\n",
       "\t<li>'구분'</li>\n",
       "\t<li>'X05.06'</li>\n",
       "\t<li>'X06.07'</li>\n",
       "\t<li>'X07.08'</li>\n",
       "\t<li>'X08.09'</li>\n",
       "\t<li>'X09.10'</li>\n",
       "\t<li>'X10.11'</li>\n",
       "\t<li>'X11.12'</li>\n",
       "\t<li>'X12.13'</li>\n",
       "\t<li>'X13.14'</li>\n",
       "\t<li>'X14.15'</li>\n",
       "\t<li>'X15.16'</li>\n",
       "\t<li>'X16.17'</li>\n",
       "\t<li>'X17.18'</li>\n",
       "\t<li>'X18.19'</li>\n",
       "\t<li>'X19.20'</li>\n",
       "\t<li>'X20.21'</li>\n",
       "\t<li>'X21.22'</li>\n",
       "\t<li>'X22.23'</li>\n",
       "\t<li>'X23.24'</li>\n",
       "\t<li>'X00.01'</li>\n",
       "\t<li>'X01.02'</li>\n",
       "</ol>\n"
      ],
      "text/latex": [
       "\\begin{enumerate*}\n",
       "\\item '역명'\n",
       "\\item '날짜'\n",
       "\\item '구분'\n",
       "\\item 'X05.06'\n",
       "\\item 'X06.07'\n",
       "\\item 'X07.08'\n",
       "\\item 'X08.09'\n",
       "\\item 'X09.10'\n",
       "\\item 'X10.11'\n",
       "\\item 'X11.12'\n",
       "\\item 'X12.13'\n",
       "\\item 'X13.14'\n",
       "\\item 'X14.15'\n",
       "\\item 'X15.16'\n",
       "\\item 'X16.17'\n",
       "\\item 'X17.18'\n",
       "\\item 'X18.19'\n",
       "\\item 'X19.20'\n",
       "\\item 'X20.21'\n",
       "\\item 'X21.22'\n",
       "\\item 'X22.23'\n",
       "\\item 'X23.24'\n",
       "\\item 'X00.01'\n",
       "\\item 'X01.02'\n",
       "\\end{enumerate*}\n"
      ],
      "text/markdown": [
       "1. '역명'\n",
       "2. '날짜'\n",
       "3. '구분'\n",
       "4. 'X05.06'\n",
       "5. 'X06.07'\n",
       "6. 'X07.08'\n",
       "7. 'X08.09'\n",
       "8. 'X09.10'\n",
       "9. 'X10.11'\n",
       "10. 'X11.12'\n",
       "11. 'X12.13'\n",
       "12. 'X13.14'\n",
       "13. 'X14.15'\n",
       "14. 'X15.16'\n",
       "15. 'X16.17'\n",
       "16. 'X17.18'\n",
       "17. 'X18.19'\n",
       "18. 'X19.20'\n",
       "19. 'X20.21'\n",
       "20. 'X21.22'\n",
       "21. 'X22.23'\n",
       "22. 'X23.24'\n",
       "23. 'X00.01'\n",
       "24. 'X01.02'\n",
       "\n",
       "\n"
      ],
      "text/plain": [
       " [1] \"역명\"   \"날짜\"   \"구분\"   \"X05.06\" \"X06.07\" \"X07.08\" \"X08.09\" \"X09.10\"\n",
       " [9] \"X10.11\" \"X11.12\" \"X12.13\" \"X13.14\" \"X14.15\" \"X15.16\" \"X16.17\" \"X17.18\"\n",
       "[17] \"X18.19\" \"X19.20\" \"X20.21\" \"X21.22\" \"X22.23\" \"X23.24\" \"X00.01\" \"X01.02\""
      ]
     },
     "metadata": {},
     "output_type": "display_data"
    },
    {
     "data": {
      "text/html": [
       "<ol class=list-inline>\n",
       "\t<li>'역명'</li>\n",
       "\t<li>'날짜'</li>\n",
       "\t<li>'구분'</li>\n",
       "\t<li>'X05.06'</li>\n",
       "\t<li>'X06.07'</li>\n",
       "\t<li>'X07.08'</li>\n",
       "\t<li>'X08.09'</li>\n",
       "\t<li>'X09.10'</li>\n",
       "\t<li>'X10.11'</li>\n",
       "\t<li>'X11.12'</li>\n",
       "\t<li>'X12.13'</li>\n",
       "\t<li>'X13.14'</li>\n",
       "\t<li>'X14.15'</li>\n",
       "\t<li>'X15.16'</li>\n",
       "\t<li>'X16.17'</li>\n",
       "\t<li>'X17.18'</li>\n",
       "\t<li>'X18.19'</li>\n",
       "\t<li>'X19.20'</li>\n",
       "\t<li>'X20.21'</li>\n",
       "\t<li>'X21.22'</li>\n",
       "\t<li>'X22.23'</li>\n",
       "\t<li>'X23.24'</li>\n",
       "\t<li>'X00.01'</li>\n",
       "\t<li>'X01.02'</li>\n",
       "</ol>\n"
      ],
      "text/latex": [
       "\\begin{enumerate*}\n",
       "\\item '역명'\n",
       "\\item '날짜'\n",
       "\\item '구분'\n",
       "\\item 'X05.06'\n",
       "\\item 'X06.07'\n",
       "\\item 'X07.08'\n",
       "\\item 'X08.09'\n",
       "\\item 'X09.10'\n",
       "\\item 'X10.11'\n",
       "\\item 'X11.12'\n",
       "\\item 'X12.13'\n",
       "\\item 'X13.14'\n",
       "\\item 'X14.15'\n",
       "\\item 'X15.16'\n",
       "\\item 'X16.17'\n",
       "\\item 'X17.18'\n",
       "\\item 'X18.19'\n",
       "\\item 'X19.20'\n",
       "\\item 'X20.21'\n",
       "\\item 'X21.22'\n",
       "\\item 'X22.23'\n",
       "\\item 'X23.24'\n",
       "\\item 'X00.01'\n",
       "\\item 'X01.02'\n",
       "\\end{enumerate*}\n"
      ],
      "text/markdown": [
       "1. '역명'\n",
       "2. '날짜'\n",
       "3. '구분'\n",
       "4. 'X05.06'\n",
       "5. 'X06.07'\n",
       "6. 'X07.08'\n",
       "7. 'X08.09'\n",
       "8. 'X09.10'\n",
       "9. 'X10.11'\n",
       "10. 'X11.12'\n",
       "11. 'X12.13'\n",
       "12. 'X13.14'\n",
       "13. 'X14.15'\n",
       "14. 'X15.16'\n",
       "15. 'X16.17'\n",
       "16. 'X17.18'\n",
       "17. 'X18.19'\n",
       "18. 'X19.20'\n",
       "19. 'X20.21'\n",
       "20. 'X21.22'\n",
       "21. 'X22.23'\n",
       "22. 'X23.24'\n",
       "23. 'X00.01'\n",
       "24. 'X01.02'\n",
       "\n",
       "\n"
      ],
      "text/plain": [
       " [1] \"역명\"   \"날짜\"   \"구분\"   \"X05.06\" \"X06.07\" \"X07.08\" \"X08.09\" \"X09.10\"\n",
       " [9] \"X10.11\" \"X11.12\" \"X12.13\" \"X13.14\" \"X14.15\" \"X15.16\" \"X16.17\" \"X17.18\"\n",
       "[17] \"X18.19\" \"X19.20\" \"X20.21\" \"X21.22\" \"X22.23\" \"X23.24\" \"X00.01\" \"X01.02\""
      ]
     },
     "metadata": {},
     "output_type": "display_data"
    },
    {
     "data": {
      "text/html": [
       "<ol class=list-inline>\n",
       "\t<li>'역명'</li>\n",
       "\t<li>'날짜'</li>\n",
       "\t<li>'구분'</li>\n",
       "\t<li>'X05.06'</li>\n",
       "\t<li>'X06.07'</li>\n",
       "\t<li>'X07.08'</li>\n",
       "\t<li>'X08.09'</li>\n",
       "\t<li>'X09.10'</li>\n",
       "\t<li>'X10.11'</li>\n",
       "\t<li>'X11.12'</li>\n",
       "\t<li>'X12.13'</li>\n",
       "\t<li>'X13.14'</li>\n",
       "\t<li>'X14.15'</li>\n",
       "\t<li>'X15.16'</li>\n",
       "\t<li>'X16.17'</li>\n",
       "\t<li>'X17.18'</li>\n",
       "\t<li>'X18.19'</li>\n",
       "\t<li>'X19.20'</li>\n",
       "\t<li>'X20.21'</li>\n",
       "\t<li>'X21.22'</li>\n",
       "\t<li>'X22.23'</li>\n",
       "\t<li>'X23.24'</li>\n",
       "\t<li>'X00.01'</li>\n",
       "\t<li>'X01.02'</li>\n",
       "</ol>\n"
      ],
      "text/latex": [
       "\\begin{enumerate*}\n",
       "\\item '역명'\n",
       "\\item '날짜'\n",
       "\\item '구분'\n",
       "\\item 'X05.06'\n",
       "\\item 'X06.07'\n",
       "\\item 'X07.08'\n",
       "\\item 'X08.09'\n",
       "\\item 'X09.10'\n",
       "\\item 'X10.11'\n",
       "\\item 'X11.12'\n",
       "\\item 'X12.13'\n",
       "\\item 'X13.14'\n",
       "\\item 'X14.15'\n",
       "\\item 'X15.16'\n",
       "\\item 'X16.17'\n",
       "\\item 'X17.18'\n",
       "\\item 'X18.19'\n",
       "\\item 'X19.20'\n",
       "\\item 'X20.21'\n",
       "\\item 'X21.22'\n",
       "\\item 'X22.23'\n",
       "\\item 'X23.24'\n",
       "\\item 'X00.01'\n",
       "\\item 'X01.02'\n",
       "\\end{enumerate*}\n"
      ],
      "text/markdown": [
       "1. '역명'\n",
       "2. '날짜'\n",
       "3. '구분'\n",
       "4. 'X05.06'\n",
       "5. 'X06.07'\n",
       "6. 'X07.08'\n",
       "7. 'X08.09'\n",
       "8. 'X09.10'\n",
       "9. 'X10.11'\n",
       "10. 'X11.12'\n",
       "11. 'X12.13'\n",
       "12. 'X13.14'\n",
       "13. 'X14.15'\n",
       "14. 'X15.16'\n",
       "15. 'X16.17'\n",
       "16. 'X17.18'\n",
       "17. 'X18.19'\n",
       "18. 'X19.20'\n",
       "19. 'X20.21'\n",
       "20. 'X21.22'\n",
       "21. 'X22.23'\n",
       "22. 'X23.24'\n",
       "23. 'X00.01'\n",
       "24. 'X01.02'\n",
       "\n",
       "\n"
      ],
      "text/plain": [
       " [1] \"역명\"   \"날짜\"   \"구분\"   \"X05.06\" \"X06.07\" \"X07.08\" \"X08.09\" \"X09.10\"\n",
       " [9] \"X10.11\" \"X11.12\" \"X12.13\" \"X13.14\" \"X14.15\" \"X15.16\" \"X16.17\" \"X17.18\"\n",
       "[17] \"X18.19\" \"X19.20\" \"X20.21\" \"X21.22\" \"X22.23\" \"X23.24\" \"X00.01\" \"X01.02\""
      ]
     },
     "metadata": {},
     "output_type": "display_data"
    },
    {
     "data": {
      "text/html": [
       "<ol class=list-inline>\n",
       "\t<li>'역명'</li>\n",
       "\t<li>'날짜'</li>\n",
       "\t<li>'구분'</li>\n",
       "\t<li>'X05.06'</li>\n",
       "\t<li>'X06.07'</li>\n",
       "\t<li>'X07.08'</li>\n",
       "\t<li>'X08.09'</li>\n",
       "\t<li>'X09.10'</li>\n",
       "\t<li>'X10.11'</li>\n",
       "\t<li>'X11.12'</li>\n",
       "\t<li>'X12.13'</li>\n",
       "\t<li>'X13.14'</li>\n",
       "\t<li>'X14.15'</li>\n",
       "\t<li>'X15.16'</li>\n",
       "\t<li>'X16.17'</li>\n",
       "\t<li>'X17.18'</li>\n",
       "\t<li>'X18.19'</li>\n",
       "\t<li>'X19.20'</li>\n",
       "\t<li>'X20.21'</li>\n",
       "\t<li>'X21.22'</li>\n",
       "\t<li>'X22.23'</li>\n",
       "\t<li>'X23.24'</li>\n",
       "\t<li>'X00.01'</li>\n",
       "\t<li>'X01.02'</li>\n",
       "</ol>\n"
      ],
      "text/latex": [
       "\\begin{enumerate*}\n",
       "\\item '역명'\n",
       "\\item '날짜'\n",
       "\\item '구분'\n",
       "\\item 'X05.06'\n",
       "\\item 'X06.07'\n",
       "\\item 'X07.08'\n",
       "\\item 'X08.09'\n",
       "\\item 'X09.10'\n",
       "\\item 'X10.11'\n",
       "\\item 'X11.12'\n",
       "\\item 'X12.13'\n",
       "\\item 'X13.14'\n",
       "\\item 'X14.15'\n",
       "\\item 'X15.16'\n",
       "\\item 'X16.17'\n",
       "\\item 'X17.18'\n",
       "\\item 'X18.19'\n",
       "\\item 'X19.20'\n",
       "\\item 'X20.21'\n",
       "\\item 'X21.22'\n",
       "\\item 'X22.23'\n",
       "\\item 'X23.24'\n",
       "\\item 'X00.01'\n",
       "\\item 'X01.02'\n",
       "\\end{enumerate*}\n"
      ],
      "text/markdown": [
       "1. '역명'\n",
       "2. '날짜'\n",
       "3. '구분'\n",
       "4. 'X05.06'\n",
       "5. 'X06.07'\n",
       "6. 'X07.08'\n",
       "7. 'X08.09'\n",
       "8. 'X09.10'\n",
       "9. 'X10.11'\n",
       "10. 'X11.12'\n",
       "11. 'X12.13'\n",
       "12. 'X13.14'\n",
       "13. 'X14.15'\n",
       "14. 'X15.16'\n",
       "15. 'X16.17'\n",
       "16. 'X17.18'\n",
       "17. 'X18.19'\n",
       "18. 'X19.20'\n",
       "19. 'X20.21'\n",
       "20. 'X21.22'\n",
       "21. 'X22.23'\n",
       "22. 'X23.24'\n",
       "23. 'X00.01'\n",
       "24. 'X01.02'\n",
       "\n",
       "\n"
      ],
      "text/plain": [
       " [1] \"역명\"   \"날짜\"   \"구분\"   \"X05.06\" \"X06.07\" \"X07.08\" \"X08.09\" \"X09.10\"\n",
       " [9] \"X10.11\" \"X11.12\" \"X12.13\" \"X13.14\" \"X14.15\" \"X15.16\" \"X16.17\" \"X17.18\"\n",
       "[17] \"X18.19\" \"X19.20\" \"X20.21\" \"X21.22\" \"X22.23\" \"X23.24\" \"X00.01\" \"X01.02\""
      ]
     },
     "metadata": {},
     "output_type": "display_data"
    },
    {
     "data": {
      "text/html": [
       "<ol class=list-inline>\n",
       "\t<li>'역명'</li>\n",
       "\t<li>'날짜'</li>\n",
       "\t<li>'구분'</li>\n",
       "\t<li>'X05.06'</li>\n",
       "\t<li>'X06.07'</li>\n",
       "\t<li>'X07.08'</li>\n",
       "\t<li>'X08.09'</li>\n",
       "\t<li>'X09.10'</li>\n",
       "\t<li>'X10.11'</li>\n",
       "\t<li>'X11.12'</li>\n",
       "\t<li>'X12.13'</li>\n",
       "\t<li>'X13.14'</li>\n",
       "\t<li>'X14.15'</li>\n",
       "\t<li>'X15.16'</li>\n",
       "\t<li>'X16.17'</li>\n",
       "\t<li>'X17.18'</li>\n",
       "\t<li>'X18.19'</li>\n",
       "\t<li>'X19.20'</li>\n",
       "\t<li>'X20.21'</li>\n",
       "\t<li>'X21.22'</li>\n",
       "\t<li>'X22.23'</li>\n",
       "\t<li>'X23.24'</li>\n",
       "\t<li>'X00.01'</li>\n",
       "\t<li>'X01.02'</li>\n",
       "</ol>\n"
      ],
      "text/latex": [
       "\\begin{enumerate*}\n",
       "\\item '역명'\n",
       "\\item '날짜'\n",
       "\\item '구분'\n",
       "\\item 'X05.06'\n",
       "\\item 'X06.07'\n",
       "\\item 'X07.08'\n",
       "\\item 'X08.09'\n",
       "\\item 'X09.10'\n",
       "\\item 'X10.11'\n",
       "\\item 'X11.12'\n",
       "\\item 'X12.13'\n",
       "\\item 'X13.14'\n",
       "\\item 'X14.15'\n",
       "\\item 'X15.16'\n",
       "\\item 'X16.17'\n",
       "\\item 'X17.18'\n",
       "\\item 'X18.19'\n",
       "\\item 'X19.20'\n",
       "\\item 'X20.21'\n",
       "\\item 'X21.22'\n",
       "\\item 'X22.23'\n",
       "\\item 'X23.24'\n",
       "\\item 'X00.01'\n",
       "\\item 'X01.02'\n",
       "\\end{enumerate*}\n"
      ],
      "text/markdown": [
       "1. '역명'\n",
       "2. '날짜'\n",
       "3. '구분'\n",
       "4. 'X05.06'\n",
       "5. 'X06.07'\n",
       "6. 'X07.08'\n",
       "7. 'X08.09'\n",
       "8. 'X09.10'\n",
       "9. 'X10.11'\n",
       "10. 'X11.12'\n",
       "11. 'X12.13'\n",
       "12. 'X13.14'\n",
       "13. 'X14.15'\n",
       "14. 'X15.16'\n",
       "15. 'X16.17'\n",
       "16. 'X17.18'\n",
       "17. 'X18.19'\n",
       "18. 'X19.20'\n",
       "19. 'X20.21'\n",
       "20. 'X21.22'\n",
       "21. 'X22.23'\n",
       "22. 'X23.24'\n",
       "23. 'X00.01'\n",
       "24. 'X01.02'\n",
       "\n",
       "\n"
      ],
      "text/plain": [
       " [1] \"역명\"   \"날짜\"   \"구분\"   \"X05.06\" \"X06.07\" \"X07.08\" \"X08.09\" \"X09.10\"\n",
       " [9] \"X10.11\" \"X11.12\" \"X12.13\" \"X13.14\" \"X14.15\" \"X15.16\" \"X16.17\" \"X17.18\"\n",
       "[17] \"X18.19\" \"X19.20\" \"X20.21\" \"X21.22\" \"X22.23\" \"X23.24\" \"X00.01\" \"X01.02\""
      ]
     },
     "metadata": {},
     "output_type": "display_data"
    }
   ],
   "source": [
    "colnames(Subway.1.trans)\n",
    "colnames(Subway.2.trans)\n",
    "colnames(Subway.3.trans)\n",
    "colnames(Subway.4.trans)\n",
    "colnames(Subway.5.trans)"
   ]
  },
  {
   "cell_type": "markdown",
   "metadata": {},
   "source": [
    "* 지금까지 만든 데이터를 하나의 파일로 합친다."
   ]
  },
  {
   "cell_type": "code",
   "execution_count": 19,
   "metadata": {},
   "outputs": [],
   "source": [
    "total.df <- rbind(Subway.1.trans, Subway.2.trans, Subway.3.trans, Subway.4.trans, Subway.5.trans)"
   ]
  },
  {
   "cell_type": "code",
   "execution_count": 20,
   "metadata": {},
   "outputs": [
    {
     "data": {
      "text/html": [
       "<table>\n",
       "<thead><tr><th scope=col>역명</th><th scope=col>날짜</th><th scope=col>구분</th><th scope=col>X05.06</th><th scope=col>X06.07</th><th scope=col>X07.08</th><th scope=col>X08.09</th><th scope=col>X09.10</th><th scope=col>X10.11</th><th scope=col>X11.12</th><th scope=col>...</th><th scope=col>X16.17</th><th scope=col>X17.18</th><th scope=col>X18.19</th><th scope=col>X19.20</th><th scope=col>X20.21</th><th scope=col>X21.22</th><th scope=col>X22.23</th><th scope=col>X23.24</th><th scope=col>X00.01</th><th scope=col>X01.02</th></tr></thead>\n",
       "<tbody>\n",
       "\t<tr><td>동대문(155)</td><td>2016-01-01 </td><td>승차       </td><td>147        </td><td>168        </td><td>170        </td><td> 293       </td><td> 479       </td><td> 543       </td><td> 625       </td><td>...        </td><td>1034       </td><td>1065       </td><td> 625       </td><td> 614       </td><td> 475       </td><td> 414       </td><td> 291       </td><td>138        </td><td>  6        </td><td>0          </td></tr>\n",
       "\t<tr><td>동대문(155)</td><td>2016-01-01 </td><td>하차       </td><td> 31        </td><td>164        </td><td>146        </td><td> 164       </td><td> 354       </td><td> 487       </td><td> 901       </td><td>...        </td><td>1167       </td><td>1158       </td><td> 869       </td><td> 827       </td><td> 660       </td><td> 614       </td><td> 471       </td><td>348        </td><td>122        </td><td>0          </td></tr>\n",
       "\t<tr><td>동묘앞(159)</td><td>2016-01-01 </td><td>승차       </td><td> 37        </td><td> 65        </td><td> 66        </td><td> 110       </td><td> 161       </td><td> 245       </td><td> 344       </td><td>...        </td><td>1129       </td><td> 975       </td><td> 404       </td><td> 198       </td><td> 139       </td><td> 136       </td><td>  81       </td><td> 52        </td><td>  2        </td><td>0          </td></tr>\n",
       "\t<tr><td>동묘앞(159)</td><td>2016-01-01 </td><td>하차       </td><td> 19        </td><td> 75        </td><td> 88        </td><td> 147       </td><td> 199       </td><td> 359       </td><td> 661       </td><td>...        </td><td> 587       </td><td> 353       </td><td> 231       </td><td> 165       </td><td> 149       </td><td> 146       </td><td> 176       </td><td>144        </td><td>106        </td><td>0          </td></tr>\n",
       "\t<tr><td>서울역(150)</td><td>2016-01-01 </td><td>승차       </td><td>405        </td><td>339        </td><td>584        </td><td>1144       </td><td>1723       </td><td>2087       </td><td>2983       </td><td>...        </td><td>3554       </td><td>3200       </td><td>3076       </td><td>2519       </td><td>2281       </td><td>2398       </td><td>2056       </td><td>996        </td><td> 58        </td><td>0          </td></tr>\n",
       "</tbody>\n",
       "</table>\n"
      ],
      "text/latex": [
       "\\begin{tabular}{r|llllllllllllllllllllllll}\n",
       " 역명 & 날짜 & 구분 & X05.06 & X06.07 & X07.08 & X08.09 & X09.10 & X10.11 & X11.12 & ... & X16.17 & X17.18 & X18.19 & X19.20 & X20.21 & X21.22 & X22.23 & X23.24 & X00.01 & X01.02\\\\\n",
       "\\hline\n",
       "\t 동대문(155) & 2016-01-01  & 승차        & 147         & 168         & 170         &  293        &  479        &  543        &  625        & ...         & 1034        & 1065        &  625        &  614        &  475        &  414        &  291        & 138         &   6         & 0          \\\\\n",
       "\t 동대문(155) & 2016-01-01  & 하차        &  31         & 164         & 146         &  164        &  354        &  487        &  901        & ...         & 1167        & 1158        &  869        &  827        &  660        &  614        &  471        & 348         & 122         & 0          \\\\\n",
       "\t 동묘앞(159) & 2016-01-01  & 승차        &  37         &  65         &  66         &  110        &  161        &  245        &  344        & ...         & 1129        &  975        &  404        &  198        &  139        &  136        &   81        &  52         &   2         & 0          \\\\\n",
       "\t 동묘앞(159) & 2016-01-01  & 하차        &  19         &  75         &  88         &  147        &  199        &  359        &  661        & ...         &  587        &  353        &  231        &  165        &  149        &  146        &  176        & 144         & 106         & 0          \\\\\n",
       "\t 서울역(150) & 2016-01-01  & 승차        & 405         & 339         & 584         & 1144        & 1723        & 2087        & 2983        & ...         & 3554        & 3200        & 3076        & 2519        & 2281        & 2398        & 2056        & 996         &  58         & 0          \\\\\n",
       "\\end{tabular}\n"
      ],
      "text/markdown": [
       "\n",
       "역명 | 날짜 | 구분 | X05.06 | X06.07 | X07.08 | X08.09 | X09.10 | X10.11 | X11.12 | ... | X16.17 | X17.18 | X18.19 | X19.20 | X20.21 | X21.22 | X22.23 | X23.24 | X00.01 | X01.02 | \n",
       "|---|---|---|---|---|\n",
       "| 동대문(155) | 2016-01-01  | 승차        | 147         | 168         | 170         |  293        |  479        |  543        |  625        | ...         | 1034        | 1065        |  625        |  614        |  475        |  414        |  291        | 138         |   6         | 0           | \n",
       "| 동대문(155) | 2016-01-01  | 하차        |  31         | 164         | 146         |  164        |  354        |  487        |  901        | ...         | 1167        | 1158        |  869        |  827        |  660        |  614        |  471        | 348         | 122         | 0           | \n",
       "| 동묘앞(159) | 2016-01-01  | 승차        |  37         |  65         |  66         |  110        |  161        |  245        |  344        | ...         | 1129        |  975        |  404        |  198        |  139        |  136        |   81        |  52         |   2         | 0           | \n",
       "| 동묘앞(159) | 2016-01-01  | 하차        |  19         |  75         |  88         |  147        |  199        |  359        |  661        | ...         |  587        |  353        |  231        |  165        |  149        |  146        |  176        | 144         | 106         | 0           | \n",
       "| 서울역(150) | 2016-01-01  | 승차        | 405         | 339         | 584         | 1144        | 1723        | 2087        | 2983        | ...         | 3554        | 3200        | 3076        | 2519        | 2281        | 2398        | 2056        | 996         |  58         | 0           | \n",
       "\n",
       "\n"
      ],
      "text/plain": [
       "  역명        날짜       구분 X05.06 X06.07 X07.08 X08.09 X09.10 X10.11 X11.12\n",
       "1 동대문(155) 2016-01-01 승차 147    168    170     293    479    543    625  \n",
       "2 동대문(155) 2016-01-01 하차  31    164    146     164    354    487    901  \n",
       "3 동묘앞(159) 2016-01-01 승차  37     65     66     110    161    245    344  \n",
       "4 동묘앞(159) 2016-01-01 하차  19     75     88     147    199    359    661  \n",
       "5 서울역(150) 2016-01-01 승차 405    339    584    1144   1723   2087   2983  \n",
       "  ... X16.17 X17.18 X18.19 X19.20 X20.21 X21.22 X22.23 X23.24 X00.01 X01.02\n",
       "1 ... 1034   1065    625    614    475    414    291   138      6    0     \n",
       "2 ... 1167   1158    869    827    660    614    471   348    122    0     \n",
       "3 ... 1129    975    404    198    139    136     81    52      2    0     \n",
       "4 ...  587    353    231    165    149    146    176   144    106    0     \n",
       "5 ... 3554   3200   3076   2519   2281   2398   2056   996     58    0     "
      ]
     },
     "metadata": {},
     "output_type": "display_data"
    },
    {
     "data": {
      "text/html": [
       "<table>\n",
       "<thead><tr><th scope=col>역명</th><th scope=col>날짜</th><th scope=col>구분</th><th scope=col>X05.06</th><th scope=col>X06.07</th><th scope=col>X07.08</th><th scope=col>X08.09</th><th scope=col>X09.10</th><th scope=col>X10.11</th><th scope=col>X11.12</th><th scope=col>...</th><th scope=col>X16.17</th><th scope=col>X17.18</th><th scope=col>X18.19</th><th scope=col>X19.20</th><th scope=col>X20.21</th><th scope=col>X21.22</th><th scope=col>X22.23</th><th scope=col>X23.24</th><th scope=col>X00.01</th><th scope=col>X01.02</th></tr></thead>\n",
       "<tbody>\n",
       "\t<tr><td>한성대입구(419)</td><td>2016-05-31     </td><td>하차           </td><td> 61            </td><td> 459           </td><td> 974           </td><td>2123           </td><td>1631           </td><td> 907           </td><td> 812           </td><td>...            </td><td> 954           </td><td>1425           </td><td>1622           </td><td>1563           </td><td>1086           </td><td> 936           </td><td> 927           </td><td> 601           </td><td>345            </td><td>1              </td></tr>\n",
       "\t<tr><td>혜화(420)      </td><td>2016-05-31     </td><td>승차           </td><td>154            </td><td> 391           </td><td> 889           </td><td>1155           </td><td>1051           </td><td>1389           </td><td>1507           </td><td>...            </td><td>3122           </td><td>3802           </td><td>4995           </td><td>2942           </td><td>2887           </td><td>4534           </td><td>4239           </td><td>1936           </td><td>320            </td><td>0              </td></tr>\n",
       "\t<tr><td>혜화(420)      </td><td>2016-05-31     </td><td>하차           </td><td>103            </td><td> 879           </td><td>2827           </td><td>6303           </td><td>4144           </td><td>3065           </td><td>2552           </td><td>...            </td><td>2176           </td><td>2469           </td><td>4047           </td><td>3419           </td><td>1185           </td><td> 954           </td><td> 854           </td><td> 529           </td><td>268            </td><td>0              </td></tr>\n",
       "\t<tr><td>회현(425)      </td><td>2016-05-31     </td><td>승차           </td><td>112            </td><td> 150           </td><td> 280           </td><td> 453           </td><td> 526           </td><td> 830           </td><td>1408           </td><td>...            </td><td>3291           </td><td>4416           </td><td>5286           </td><td>3283           </td><td>2492           </td><td>1650           </td><td> 983           </td><td> 596           </td><td> 72            </td><td>0              </td></tr>\n",
       "\t<tr><td>회현(425)      </td><td>2016-05-31     </td><td>하차           </td><td> 45            </td><td>1348           </td><td>3217           </td><td>7461           </td><td>4707           </td><td>3765           </td><td>4124           </td><td>...            </td><td>1520           </td><td>1079           </td><td> 924           </td><td> 559           </td><td> 346           </td><td> 354           </td><td> 335           </td><td> 221           </td><td> 59            </td><td>8              </td></tr>\n",
       "</tbody>\n",
       "</table>\n"
      ],
      "text/latex": [
       "\\begin{tabular}{r|llllllllllllllllllllllll}\n",
       " 역명 & 날짜 & 구분 & X05.06 & X06.07 & X07.08 & X08.09 & X09.10 & X10.11 & X11.12 & ... & X16.17 & X17.18 & X18.19 & X19.20 & X20.21 & X21.22 & X22.23 & X23.24 & X00.01 & X01.02\\\\\n",
       "\\hline\n",
       "\t 한성대입구(419) & 2016-05-31      & 하차            &  61             &  459            &  974            & 2123            & 1631            &  907            &  812            & ...             &  954            & 1425            & 1622            & 1563            & 1086            &  936            &  927            &  601            & 345             & 1              \\\\\n",
       "\t 혜화(420)       & 2016-05-31      & 승차            & 154             &  391            &  889            & 1155            & 1051            & 1389            & 1507            & ...             & 3122            & 3802            & 4995            & 2942            & 2887            & 4534            & 4239            & 1936            & 320             & 0              \\\\\n",
       "\t 혜화(420)       & 2016-05-31      & 하차            & 103             &  879            & 2827            & 6303            & 4144            & 3065            & 2552            & ...             & 2176            & 2469            & 4047            & 3419            & 1185            &  954            &  854            &  529            & 268             & 0              \\\\\n",
       "\t 회현(425)       & 2016-05-31      & 승차            & 112             &  150            &  280            &  453            &  526            &  830            & 1408            & ...             & 3291            & 4416            & 5286            & 3283            & 2492            & 1650            &  983            &  596            &  72             & 0              \\\\\n",
       "\t 회현(425)       & 2016-05-31      & 하차            &  45             & 1348            & 3217            & 7461            & 4707            & 3765            & 4124            & ...             & 1520            & 1079            &  924            &  559            &  346            &  354            &  335            &  221            &  59             & 8              \\\\\n",
       "\\end{tabular}\n"
      ],
      "text/markdown": [
       "\n",
       "역명 | 날짜 | 구분 | X05.06 | X06.07 | X07.08 | X08.09 | X09.10 | X10.11 | X11.12 | ... | X16.17 | X17.18 | X18.19 | X19.20 | X20.21 | X21.22 | X22.23 | X23.24 | X00.01 | X01.02 | \n",
       "|---|---|---|---|---|\n",
       "| 한성대입구(419) | 2016-05-31      | 하차            |  61             |  459            |  974            | 2123            | 1631            |  907            |  812            | ...             |  954            | 1425            | 1622            | 1563            | 1086            |  936            |  927            |  601            | 345             | 1               | \n",
       "| 혜화(420)       | 2016-05-31      | 승차            | 154             |  391            |  889            | 1155            | 1051            | 1389            | 1507            | ...             | 3122            | 3802            | 4995            | 2942            | 2887            | 4534            | 4239            | 1936            | 320             | 0               | \n",
       "| 혜화(420)       | 2016-05-31      | 하차            | 103             |  879            | 2827            | 6303            | 4144            | 3065            | 2552            | ...             | 2176            | 2469            | 4047            | 3419            | 1185            |  954            |  854            |  529            | 268             | 0               | \n",
       "| 회현(425)       | 2016-05-31      | 승차            | 112             |  150            |  280            |  453            |  526            |  830            | 1408            | ...             | 3291            | 4416            | 5286            | 3283            | 2492            | 1650            |  983            |  596            |  72             | 0               | \n",
       "| 회현(425)       | 2016-05-31      | 하차            |  45             | 1348            | 3217            | 7461            | 4707            | 3765            | 4124            | ...             | 1520            | 1079            |  924            |  559            |  346            |  354            |  335            |  221            |  59             | 8               | \n",
       "\n",
       "\n"
      ],
      "text/plain": [
       "  역명            날짜       구분 X05.06 X06.07 X07.08 X08.09 X09.10 X10.11\n",
       "1 한성대입구(419) 2016-05-31 하차  61     459    974   2123   1631    907  \n",
       "2 혜화(420)       2016-05-31 승차 154     391    889   1155   1051   1389  \n",
       "3 혜화(420)       2016-05-31 하차 103     879   2827   6303   4144   3065  \n",
       "4 회현(425)       2016-05-31 승차 112     150    280    453    526    830  \n",
       "5 회현(425)       2016-05-31 하차  45    1348   3217   7461   4707   3765  \n",
       "  X11.12 ... X16.17 X17.18 X18.19 X19.20 X20.21 X21.22 X22.23 X23.24 X00.01\n",
       "1  812   ...  954   1425   1622   1563   1086    936    927    601   345   \n",
       "2 1507   ... 3122   3802   4995   2942   2887   4534   4239   1936   320   \n",
       "3 2552   ... 2176   2469   4047   3419   1185    954    854    529   268   \n",
       "4 1408   ... 3291   4416   5286   3283   2492   1650    983    596    72   \n",
       "5 4124   ... 1520   1079    924    559    346    354    335    221    59   \n",
       "  X01.02\n",
       "1 1     \n",
       "2 0     \n",
       "3 0     \n",
       "4 0     \n",
       "5 8     "
      ]
     },
     "metadata": {},
     "output_type": "display_data"
    }
   ],
   "source": [
    "head(total.df,5)\n",
    "tail(total.df,5)"
   ]
  },
  {
   "cell_type": "markdown",
   "metadata": {},
   "source": [
    "# 6~11월 데이터 전처리\n",
    "* 1월부터 5월까지 데이터를 6월~11월 기준으로 컬럼을 변경했기 때문에 6~11월까지는 통합만 한다."
   ]
  },
  {
   "cell_type": "code",
   "execution_count": 21,
   "metadata": {},
   "outputs": [],
   "source": [
    "total.df.2 <- rbind(total.df, Subway.6, Subway.7, Subway.8, Subway.9, Subway.10, Subway.11)"
   ]
  },
  {
   "cell_type": "code",
   "execution_count": 22,
   "metadata": {},
   "outputs": [
    {
     "data": {
      "text/html": [
       "<ol class=list-inline>\n",
       "\t<li>36176</li>\n",
       "\t<li>24</li>\n",
       "</ol>\n"
      ],
      "text/latex": [
       "\\begin{enumerate*}\n",
       "\\item 36176\n",
       "\\item 24\n",
       "\\end{enumerate*}\n"
      ],
      "text/markdown": [
       "1. 36176\n",
       "2. 24\n",
       "\n",
       "\n"
      ],
      "text/plain": [
       "[1] 36176    24"
      ]
     },
     "metadata": {},
     "output_type": "display_data"
    },
    {
     "data": {
      "text/html": [
       "<ol class=list-inline>\n",
       "\t<li>79730</li>\n",
       "\t<li>24</li>\n",
       "</ol>\n"
      ],
      "text/latex": [
       "\\begin{enumerate*}\n",
       "\\item 79730\n",
       "\\item 24\n",
       "\\end{enumerate*}\n"
      ],
      "text/markdown": [
       "1. 79730\n",
       "2. 24\n",
       "\n",
       "\n"
      ],
      "text/plain": [
       "[1] 79730    24"
      ]
     },
     "metadata": {},
     "output_type": "display_data"
    }
   ],
   "source": [
    "dim(total.df)\n",
    "dim(total.df.2)"
   ]
  },
  {
   "cell_type": "code",
   "execution_count": 23,
   "metadata": {},
   "outputs": [
    {
     "data": {
      "text/html": [
       "<table>\n",
       "<thead><tr><th scope=col>역명</th><th scope=col>날짜</th><th scope=col>구분</th><th scope=col>X05.06</th><th scope=col>X06.07</th><th scope=col>X07.08</th><th scope=col>X08.09</th><th scope=col>X09.10</th><th scope=col>X10.11</th><th scope=col>X11.12</th><th scope=col>...</th><th scope=col>X16.17</th><th scope=col>X17.18</th><th scope=col>X18.19</th><th scope=col>X19.20</th><th scope=col>X20.21</th><th scope=col>X21.22</th><th scope=col>X22.23</th><th scope=col>X23.24</th><th scope=col>X00.01</th><th scope=col>X01.02</th></tr></thead>\n",
       "<tbody>\n",
       "\t<tr><td>남태령(434)</td><td>2016-11-28 </td><td>승차       </td><td>21         </td><td>38         </td><td>184        </td><td>232        </td><td>130        </td><td>69         </td><td>53         </td><td>...        </td><td> 87        </td><td>171        </td><td>270        </td><td> 79        </td><td>43         </td><td>17         </td><td>12         </td><td> 1         </td><td> 1         </td><td>0          </td></tr>\n",
       "\t<tr><td>남태령(434)</td><td>2016-11-28 </td><td>하차       </td><td> 0         </td><td>54         </td><td>202        </td><td>240        </td><td> 55        </td><td>42         </td><td>37         </td><td>...        </td><td> 46        </td><td> 56        </td><td> 78        </td><td> 62        </td><td>43         </td><td>31         </td><td>47         </td><td>19         </td><td> 9         </td><td>0          </td></tr>\n",
       "\t<tr><td>남태령(434)</td><td>2016-11-29 </td><td>승차       </td><td>20         </td><td>32         </td><td>173        </td><td>204        </td><td>141        </td><td>76         </td><td>67         </td><td>...        </td><td>150        </td><td>231        </td><td>365        </td><td>106        </td><td>39         </td><td>38         </td><td> 8         </td><td> 4         </td><td> 1         </td><td>0          </td></tr>\n",
       "\t<tr><td>남태령(434)</td><td>2016-11-29 </td><td>하차       </td><td> 2         </td><td>47         </td><td>202        </td><td>235        </td><td> 81        </td><td>59         </td><td>43         </td><td>...        </td><td> 46        </td><td> 57        </td><td> 73        </td><td> 73        </td><td>44         </td><td>47         </td><td>28         </td><td> 8         </td><td>12         </td><td>1          </td></tr>\n",
       "\t<tr><td>남태령(434)</td><td>2016-11-30 </td><td>승차       </td><td>24         </td><td>31         </td><td>178        </td><td>212        </td><td>129        </td><td>70         </td><td>59         </td><td>...        </td><td> 69        </td><td>157        </td><td>347        </td><td> 74        </td><td>36         </td><td>65         </td><td>12         </td><td> 6         </td><td> 1         </td><td>0          </td></tr>\n",
       "\t<tr><td>남태령(434)</td><td>2016-11-30 </td><td>하차       </td><td> 1         </td><td>56         </td><td>179        </td><td>255        </td><td> 61        </td><td>56         </td><td>37         </td><td>...        </td><td> 45        </td><td> 69        </td><td>103        </td><td> 78        </td><td>38         </td><td>55         </td><td>40         </td><td>21         </td><td> 8         </td><td>0          </td></tr>\n",
       "</tbody>\n",
       "</table>\n"
      ],
      "text/latex": [
       "\\begin{tabular}{r|llllllllllllllllllllllll}\n",
       " 역명 & 날짜 & 구분 & X05.06 & X06.07 & X07.08 & X08.09 & X09.10 & X10.11 & X11.12 & ... & X16.17 & X17.18 & X18.19 & X19.20 & X20.21 & X21.22 & X22.23 & X23.24 & X00.01 & X01.02\\\\\n",
       "\\hline\n",
       "\t 남태령(434) & 2016-11-28  & 승차        & 21          & 38          & 184         & 232         & 130         & 69          & 53          & ...         &  87         & 171         & 270         &  79         & 43          & 17          & 12          &  1          &  1          & 0          \\\\\n",
       "\t 남태령(434) & 2016-11-28  & 하차        &  0          & 54          & 202         & 240         &  55         & 42          & 37          & ...         &  46         &  56         &  78         &  62         & 43          & 31          & 47          & 19          &  9          & 0          \\\\\n",
       "\t 남태령(434) & 2016-11-29  & 승차        & 20          & 32          & 173         & 204         & 141         & 76          & 67          & ...         & 150         & 231         & 365         & 106         & 39          & 38          &  8          &  4          &  1          & 0          \\\\\n",
       "\t 남태령(434) & 2016-11-29  & 하차        &  2          & 47          & 202         & 235         &  81         & 59          & 43          & ...         &  46         &  57         &  73         &  73         & 44          & 47          & 28          &  8          & 12          & 1          \\\\\n",
       "\t 남태령(434) & 2016-11-30  & 승차        & 24          & 31          & 178         & 212         & 129         & 70          & 59          & ...         &  69         & 157         & 347         &  74         & 36          & 65          & 12          &  6          &  1          & 0          \\\\\n",
       "\t 남태령(434) & 2016-11-30  & 하차        &  1          & 56          & 179         & 255         &  61         & 56          & 37          & ...         &  45         &  69         & 103         &  78         & 38          & 55          & 40          & 21          &  8          & 0          \\\\\n",
       "\\end{tabular}\n"
      ],
      "text/markdown": [
       "\n",
       "역명 | 날짜 | 구분 | X05.06 | X06.07 | X07.08 | X08.09 | X09.10 | X10.11 | X11.12 | ... | X16.17 | X17.18 | X18.19 | X19.20 | X20.21 | X21.22 | X22.23 | X23.24 | X00.01 | X01.02 | \n",
       "|---|---|---|---|---|---|\n",
       "| 남태령(434) | 2016-11-28  | 승차        | 21          | 38          | 184         | 232         | 130         | 69          | 53          | ...         |  87         | 171         | 270         |  79         | 43          | 17          | 12          |  1          |  1          | 0           | \n",
       "| 남태령(434) | 2016-11-28  | 하차        |  0          | 54          | 202         | 240         |  55         | 42          | 37          | ...         |  46         |  56         |  78         |  62         | 43          | 31          | 47          | 19          |  9          | 0           | \n",
       "| 남태령(434) | 2016-11-29  | 승차        | 20          | 32          | 173         | 204         | 141         | 76          | 67          | ...         | 150         | 231         | 365         | 106         | 39          | 38          |  8          |  4          |  1          | 0           | \n",
       "| 남태령(434) | 2016-11-29  | 하차        |  2          | 47          | 202         | 235         |  81         | 59          | 43          | ...         |  46         |  57         |  73         |  73         | 44          | 47          | 28          |  8          | 12          | 1           | \n",
       "| 남태령(434) | 2016-11-30  | 승차        | 24          | 31          | 178         | 212         | 129         | 70          | 59          | ...         |  69         | 157         | 347         |  74         | 36          | 65          | 12          |  6          |  1          | 0           | \n",
       "| 남태령(434) | 2016-11-30  | 하차        |  1          | 56          | 179         | 255         |  61         | 56          | 37          | ...         |  45         |  69         | 103         |  78         | 38          | 55          | 40          | 21          |  8          | 0           | \n",
       "\n",
       "\n"
      ],
      "text/plain": [
       "  역명        날짜       구분 X05.06 X06.07 X07.08 X08.09 X09.10 X10.11 X11.12\n",
       "1 남태령(434) 2016-11-28 승차 21     38     184    232    130    69     53    \n",
       "2 남태령(434) 2016-11-28 하차  0     54     202    240     55    42     37    \n",
       "3 남태령(434) 2016-11-29 승차 20     32     173    204    141    76     67    \n",
       "4 남태령(434) 2016-11-29 하차  2     47     202    235     81    59     43    \n",
       "5 남태령(434) 2016-11-30 승차 24     31     178    212    129    70     59    \n",
       "6 남태령(434) 2016-11-30 하차  1     56     179    255     61    56     37    \n",
       "  ... X16.17 X17.18 X18.19 X19.20 X20.21 X21.22 X22.23 X23.24 X00.01 X01.02\n",
       "1 ...  87    171    270     79    43     17     12      1      1     0     \n",
       "2 ...  46     56     78     62    43     31     47     19      9     0     \n",
       "3 ... 150    231    365    106    39     38      8      4      1     0     \n",
       "4 ...  46     57     73     73    44     47     28      8     12     1     \n",
       "5 ...  69    157    347     74    36     65     12      6      1     0     \n",
       "6 ...  45     69    103     78    38     55     40     21      8     0     "
      ]
     },
     "metadata": {},
     "output_type": "display_data"
    }
   ],
   "source": [
    "tail(total.df.2)"
   ]
  },
  {
   "cell_type": "markdown",
   "metadata": {},
   "source": [
    "# 12월 데이터 처리 "
   ]
  },
  {
   "cell_type": "code",
   "execution_count": 24,
   "metadata": {},
   "outputs": [
    {
     "data": {
      "text/html": [
       "<table>\n",
       "<thead><tr><th scope=col>역명</th><th scope=col>날짜</th><th scope=col>구분</th><th scope=col>X05.06시</th><th scope=col>X06.07시</th><th scope=col>X07.08시</th><th scope=col>X08.09시</th><th scope=col>X09.10시</th><th scope=col>X10.11시</th><th scope=col>X11.12시</th><th scope=col>...</th><th scope=col>X16.17시</th><th scope=col>X17.18시</th><th scope=col>X18.19시</th><th scope=col>X19.20시</th><th scope=col>X20.21시</th><th scope=col>X21.22시</th><th scope=col>X22.23시</th><th scope=col>X23.24시</th><th scope=col>X00.01시</th><th scope=col>X01.02시</th></tr></thead>\n",
       "<tbody>\n",
       "\t<tr><td>서울역(150)</td><td>2016-12-01 </td><td>승차       </td><td>411        </td><td> 552       </td><td>1792       </td><td> 3429      </td><td>2737       </td><td>2430       </td><td>3161       </td><td>...        </td><td>4145       </td><td>4984       </td><td> 9595      </td><td>5217       </td><td>3492       </td><td>3978       </td><td>2742       </td><td>1380       </td><td>198        </td><td>  0        </td></tr>\n",
       "\t<tr><td>서울역(150)</td><td>2016-12-01 </td><td>하차       </td><td>280        </td><td>1680       </td><td>4629       </td><td>10313      </td><td>5586       </td><td>2920       </td><td>2673       </td><td>...        </td><td>2905       </td><td>3084       </td><td> 3715      </td><td>2723       </td><td>1794       </td><td>1657       </td><td>1533       </td><td> 761       </td><td>373        </td><td> 32        </td></tr>\n",
       "\t<tr><td>서울역(150)</td><td>2016-12-02 </td><td>승차       </td><td>434        </td><td> 520       </td><td>1695       </td><td> 3456      </td><td>2848       </td><td>2568       </td><td>3398       </td><td>...        </td><td>5180       </td><td>6141       </td><td>10682      </td><td>6169       </td><td>4169       </td><td>4479       </td><td>4554       </td><td>1794       </td><td>443        </td><td>  0        </td></tr>\n",
       "\t<tr><td>서울역(150)</td><td>2016-12-02 </td><td>하차       </td><td>255        </td><td>1609       </td><td>4504       </td><td>10225      </td><td>5322       </td><td>3050       </td><td>2435       </td><td>...        </td><td>3692       </td><td>3545       </td><td> 5575      </td><td>3389       </td><td>2141       </td><td>2076       </td><td>1928       </td><td>1074       </td><td>547        </td><td> 64        </td></tr>\n",
       "\t<tr><td>서울역(150)</td><td>2016-12-03 </td><td>승차       </td><td>543        </td><td> 467       </td><td> 982       </td><td> 2080      </td><td>3000       </td><td>3077       </td><td>4340       </td><td>...        </td><td>8023       </td><td>6418       </td><td> 6575      </td><td>4904       </td><td>4742       </td><td>4683       </td><td>4654       </td><td>1697       </td><td>228        </td><td>  0        </td></tr>\n",
       "\t<tr><td>서울역(150)</td><td>2016-12-03 </td><td>하차       </td><td>260        </td><td>1355       </td><td>1853       </td><td> 2337      </td><td>3223       </td><td>3218       </td><td>3230       </td><td>...        </td><td>5384       </td><td>6014       </td><td> 5494      </td><td>3803       </td><td>3440       </td><td>3771       </td><td>3317       </td><td>1642       </td><td>837        </td><td>131        </td></tr>\n",
       "</tbody>\n",
       "</table>\n"
      ],
      "text/latex": [
       "\\begin{tabular}{r|llllllllllllllllllllllll}\n",
       " 역명 & 날짜 & 구분 & X05.06시 & X06.07시 & X07.08시 & X08.09시 & X09.10시 & X10.11시 & X11.12시 & ... & X16.17시 & X17.18시 & X18.19시 & X19.20시 & X20.21시 & X21.22시 & X22.23시 & X23.24시 & X00.01시 & X01.02시\\\\\n",
       "\\hline\n",
       "\t 서울역(150) & 2016-12-01  & 승차        & 411         &  552        & 1792        &  3429       & 2737        & 2430        & 3161        & ...         & 4145        & 4984        &  9595       & 5217        & 3492        & 3978        & 2742        & 1380        & 198         &   0        \\\\\n",
       "\t 서울역(150) & 2016-12-01  & 하차        & 280         & 1680        & 4629        & 10313       & 5586        & 2920        & 2673        & ...         & 2905        & 3084        &  3715       & 2723        & 1794        & 1657        & 1533        &  761        & 373         &  32        \\\\\n",
       "\t 서울역(150) & 2016-12-02  & 승차        & 434         &  520        & 1695        &  3456       & 2848        & 2568        & 3398        & ...         & 5180        & 6141        & 10682       & 6169        & 4169        & 4479        & 4554        & 1794        & 443         &   0        \\\\\n",
       "\t 서울역(150) & 2016-12-02  & 하차        & 255         & 1609        & 4504        & 10225       & 5322        & 3050        & 2435        & ...         & 3692        & 3545        &  5575       & 3389        & 2141        & 2076        & 1928        & 1074        & 547         &  64        \\\\\n",
       "\t 서울역(150) & 2016-12-03  & 승차        & 543         &  467        &  982        &  2080       & 3000        & 3077        & 4340        & ...         & 8023        & 6418        &  6575       & 4904        & 4742        & 4683        & 4654        & 1697        & 228         &   0        \\\\\n",
       "\t 서울역(150) & 2016-12-03  & 하차        & 260         & 1355        & 1853        &  2337       & 3223        & 3218        & 3230        & ...         & 5384        & 6014        &  5494       & 3803        & 3440        & 3771        & 3317        & 1642        & 837         & 131        \\\\\n",
       "\\end{tabular}\n"
      ],
      "text/markdown": [
       "\n",
       "역명 | 날짜 | 구분 | X05.06시 | X06.07시 | X07.08시 | X08.09시 | X09.10시 | X10.11시 | X11.12시 | ... | X16.17시 | X17.18시 | X18.19시 | X19.20시 | X20.21시 | X21.22시 | X22.23시 | X23.24시 | X00.01시 | X01.02시 | \n",
       "|---|---|---|---|---|---|\n",
       "| 서울역(150) | 2016-12-01  | 승차        | 411         |  552        | 1792        |  3429       | 2737        | 2430        | 3161        | ...         | 4145        | 4984        |  9595       | 5217        | 3492        | 3978        | 2742        | 1380        | 198         |   0         | \n",
       "| 서울역(150) | 2016-12-01  | 하차        | 280         | 1680        | 4629        | 10313       | 5586        | 2920        | 2673        | ...         | 2905        | 3084        |  3715       | 2723        | 1794        | 1657        | 1533        |  761        | 373         |  32         | \n",
       "| 서울역(150) | 2016-12-02  | 승차        | 434         |  520        | 1695        |  3456       | 2848        | 2568        | 3398        | ...         | 5180        | 6141        | 10682       | 6169        | 4169        | 4479        | 4554        | 1794        | 443         |   0         | \n",
       "| 서울역(150) | 2016-12-02  | 하차        | 255         | 1609        | 4504        | 10225       | 5322        | 3050        | 2435        | ...         | 3692        | 3545        |  5575       | 3389        | 2141        | 2076        | 1928        | 1074        | 547         |  64         | \n",
       "| 서울역(150) | 2016-12-03  | 승차        | 543         |  467        |  982        |  2080       | 3000        | 3077        | 4340        | ...         | 8023        | 6418        |  6575       | 4904        | 4742        | 4683        | 4654        | 1697        | 228         |   0         | \n",
       "| 서울역(150) | 2016-12-03  | 하차        | 260         | 1355        | 1853        |  2337       | 3223        | 3218        | 3230        | ...         | 5384        | 6014        |  5494       | 3803        | 3440        | 3771        | 3317        | 1642        | 837         | 131         | \n",
       "\n",
       "\n"
      ],
      "text/plain": [
       "  역명        날짜       구분 X05.06시 X06.07시 X07.08시 X08.09시 X09.10시\n",
       "1 서울역(150) 2016-12-01 승차 411       552     1792      3429    2737    \n",
       "2 서울역(150) 2016-12-01 하차 280      1680     4629     10313    5586    \n",
       "3 서울역(150) 2016-12-02 승차 434       520     1695      3456    2848    \n",
       "4 서울역(150) 2016-12-02 하차 255      1609     4504     10225    5322    \n",
       "5 서울역(150) 2016-12-03 승차 543       467      982      2080    3000    \n",
       "6 서울역(150) 2016-12-03 하차 260      1355     1853      2337    3223    \n",
       "  X10.11시 X11.12시 ... X16.17시 X17.18시 X18.19시 X19.20시 X20.21시 X21.22시\n",
       "1 2430     3161     ... 4145     4984      9595    5217     3492     3978    \n",
       "2 2920     2673     ... 2905     3084      3715    2723     1794     1657    \n",
       "3 2568     3398     ... 5180     6141     10682    6169     4169     4479    \n",
       "4 3050     2435     ... 3692     3545      5575    3389     2141     2076    \n",
       "5 3077     4340     ... 8023     6418      6575    4904     4742     4683    \n",
       "6 3218     3230     ... 5384     6014      5494    3803     3440     3771    \n",
       "  X22.23시 X23.24시 X00.01시 X01.02시\n",
       "1 2742     1380     198        0     \n",
       "2 1533      761     373       32     \n",
       "3 4554     1794     443        0     \n",
       "4 1928     1074     547       64     \n",
       "5 4654     1697     228        0     \n",
       "6 3317     1642     837      131     "
      ]
     },
     "metadata": {},
     "output_type": "display_data"
    }
   ],
   "source": [
    "head(Subway.12)"
   ]
  },
  {
   "cell_type": "markdown",
   "metadata": {},
   "source": [
    "* 왜 12월 데이터만 시간 뒤에 시가 존재하는지 모르겠지만 이로 인해서 컬럼들이 통일되지 않기 때문에 제거해 준다."
   ]
  },
  {
   "cell_type": "code",
   "execution_count": 25,
   "metadata": {},
   "outputs": [],
   "source": [
    "names(Subway.12) <- gsub(x = names(Subway.12), pattern = \"시\", replacement = \"\")  "
   ]
  },
  {
   "cell_type": "code",
   "execution_count": 26,
   "metadata": {},
   "outputs": [
    {
     "data": {
      "text/html": [
       "<ol class=list-inline>\n",
       "\t<li>'역명'</li>\n",
       "\t<li>'날짜'</li>\n",
       "\t<li>'구분'</li>\n",
       "\t<li>'X05.06'</li>\n",
       "\t<li>'X06.07'</li>\n",
       "\t<li>'X07.08'</li>\n",
       "\t<li>'X08.09'</li>\n",
       "\t<li>'X09.10'</li>\n",
       "\t<li>'X10.11'</li>\n",
       "\t<li>'X11.12'</li>\n",
       "\t<li>'X12.13'</li>\n",
       "\t<li>'X13.14'</li>\n",
       "\t<li>'X14.15'</li>\n",
       "\t<li>'X15.16'</li>\n",
       "\t<li>'X16.17'</li>\n",
       "\t<li>'X17.18'</li>\n",
       "\t<li>'X18.19'</li>\n",
       "\t<li>'X19.20'</li>\n",
       "\t<li>'X20.21'</li>\n",
       "\t<li>'X21.22'</li>\n",
       "\t<li>'X22.23'</li>\n",
       "\t<li>'X23.24'</li>\n",
       "\t<li>'X00.01'</li>\n",
       "\t<li>'X01.02'</li>\n",
       "</ol>\n"
      ],
      "text/latex": [
       "\\begin{enumerate*}\n",
       "\\item '역명'\n",
       "\\item '날짜'\n",
       "\\item '구분'\n",
       "\\item 'X05.06'\n",
       "\\item 'X06.07'\n",
       "\\item 'X07.08'\n",
       "\\item 'X08.09'\n",
       "\\item 'X09.10'\n",
       "\\item 'X10.11'\n",
       "\\item 'X11.12'\n",
       "\\item 'X12.13'\n",
       "\\item 'X13.14'\n",
       "\\item 'X14.15'\n",
       "\\item 'X15.16'\n",
       "\\item 'X16.17'\n",
       "\\item 'X17.18'\n",
       "\\item 'X18.19'\n",
       "\\item 'X19.20'\n",
       "\\item 'X20.21'\n",
       "\\item 'X21.22'\n",
       "\\item 'X22.23'\n",
       "\\item 'X23.24'\n",
       "\\item 'X00.01'\n",
       "\\item 'X01.02'\n",
       "\\end{enumerate*}\n"
      ],
      "text/markdown": [
       "1. '역명'\n",
       "2. '날짜'\n",
       "3. '구분'\n",
       "4. 'X05.06'\n",
       "5. 'X06.07'\n",
       "6. 'X07.08'\n",
       "7. 'X08.09'\n",
       "8. 'X09.10'\n",
       "9. 'X10.11'\n",
       "10. 'X11.12'\n",
       "11. 'X12.13'\n",
       "12. 'X13.14'\n",
       "13. 'X14.15'\n",
       "14. 'X15.16'\n",
       "15. 'X16.17'\n",
       "16. 'X17.18'\n",
       "17. 'X18.19'\n",
       "18. 'X19.20'\n",
       "19. 'X20.21'\n",
       "20. 'X21.22'\n",
       "21. 'X22.23'\n",
       "22. 'X23.24'\n",
       "23. 'X00.01'\n",
       "24. 'X01.02'\n",
       "\n",
       "\n"
      ],
      "text/plain": [
       " [1] \"역명\"   \"날짜\"   \"구분\"   \"X05.06\" \"X06.07\" \"X07.08\" \"X08.09\" \"X09.10\"\n",
       " [9] \"X10.11\" \"X11.12\" \"X12.13\" \"X13.14\" \"X14.15\" \"X15.16\" \"X16.17\" \"X17.18\"\n",
       "[17] \"X18.19\" \"X19.20\" \"X20.21\" \"X21.22\" \"X22.23\" \"X23.24\" \"X00.01\" \"X01.02\""
      ]
     },
     "metadata": {},
     "output_type": "display_data"
    },
    {
     "data": {
      "text/html": [
       "<ol class=list-inline>\n",
       "\t<li>'역명'</li>\n",
       "\t<li>'날짜'</li>\n",
       "\t<li>'구분'</li>\n",
       "\t<li>'X05.06'</li>\n",
       "\t<li>'X06.07'</li>\n",
       "\t<li>'X07.08'</li>\n",
       "\t<li>'X08.09'</li>\n",
       "\t<li>'X09.10'</li>\n",
       "\t<li>'X10.11'</li>\n",
       "\t<li>'X11.12'</li>\n",
       "\t<li>'X12.13'</li>\n",
       "\t<li>'X13.14'</li>\n",
       "\t<li>'X14.15'</li>\n",
       "\t<li>'X15.16'</li>\n",
       "\t<li>'X16.17'</li>\n",
       "\t<li>'X17.18'</li>\n",
       "\t<li>'X18.19'</li>\n",
       "\t<li>'X19.20'</li>\n",
       "\t<li>'X20.21'</li>\n",
       "\t<li>'X21.22'</li>\n",
       "\t<li>'X22.23'</li>\n",
       "\t<li>'X23.24'</li>\n",
       "\t<li>'X00.01'</li>\n",
       "\t<li>'X01.02'</li>\n",
       "</ol>\n"
      ],
      "text/latex": [
       "\\begin{enumerate*}\n",
       "\\item '역명'\n",
       "\\item '날짜'\n",
       "\\item '구분'\n",
       "\\item 'X05.06'\n",
       "\\item 'X06.07'\n",
       "\\item 'X07.08'\n",
       "\\item 'X08.09'\n",
       "\\item 'X09.10'\n",
       "\\item 'X10.11'\n",
       "\\item 'X11.12'\n",
       "\\item 'X12.13'\n",
       "\\item 'X13.14'\n",
       "\\item 'X14.15'\n",
       "\\item 'X15.16'\n",
       "\\item 'X16.17'\n",
       "\\item 'X17.18'\n",
       "\\item 'X18.19'\n",
       "\\item 'X19.20'\n",
       "\\item 'X20.21'\n",
       "\\item 'X21.22'\n",
       "\\item 'X22.23'\n",
       "\\item 'X23.24'\n",
       "\\item 'X00.01'\n",
       "\\item 'X01.02'\n",
       "\\end{enumerate*}\n"
      ],
      "text/markdown": [
       "1. '역명'\n",
       "2. '날짜'\n",
       "3. '구분'\n",
       "4. 'X05.06'\n",
       "5. 'X06.07'\n",
       "6. 'X07.08'\n",
       "7. 'X08.09'\n",
       "8. 'X09.10'\n",
       "9. 'X10.11'\n",
       "10. 'X11.12'\n",
       "11. 'X12.13'\n",
       "12. 'X13.14'\n",
       "13. 'X14.15'\n",
       "14. 'X15.16'\n",
       "15. 'X16.17'\n",
       "16. 'X17.18'\n",
       "17. 'X18.19'\n",
       "18. 'X19.20'\n",
       "19. 'X20.21'\n",
       "20. 'X21.22'\n",
       "21. 'X22.23'\n",
       "22. 'X23.24'\n",
       "23. 'X00.01'\n",
       "24. 'X01.02'\n",
       "\n",
       "\n"
      ],
      "text/plain": [
       " [1] \"역명\"   \"날짜\"   \"구분\"   \"X05.06\" \"X06.07\" \"X07.08\" \"X08.09\" \"X09.10\"\n",
       " [9] \"X10.11\" \"X11.12\" \"X12.13\" \"X13.14\" \"X14.15\" \"X15.16\" \"X16.17\" \"X17.18\"\n",
       "[17] \"X18.19\" \"X19.20\" \"X20.21\" \"X21.22\" \"X22.23\" \"X23.24\" \"X00.01\" \"X01.02\""
      ]
     },
     "metadata": {},
     "output_type": "display_data"
    }
   ],
   "source": [
    "colnames(Subway.11)\n",
    "colnames(Subway.12)"
   ]
  },
  {
   "cell_type": "markdown",
   "metadata": {},
   "source": [
    "# 최종 데이터 통합\n",
    "* 지금까지 만든 데이터 통합한다."
   ]
  },
  {
   "cell_type": "code",
   "execution_count": 27,
   "metadata": {},
   "outputs": [],
   "source": [
    "subway <- rbind(total.df.2, Subway.12)"
   ]
  },
  {
   "cell_type": "code",
   "execution_count": 28,
   "metadata": {},
   "outputs": [
    {
     "data": {
      "text/html": [
       "<table>\n",
       "<thead><tr><th scope=col>역명</th><th scope=col>날짜</th><th scope=col>구분</th><th scope=col>X05.06</th><th scope=col>X06.07</th><th scope=col>X07.08</th><th scope=col>X08.09</th><th scope=col>X09.10</th><th scope=col>X10.11</th><th scope=col>X11.12</th><th scope=col>...</th><th scope=col>X16.17</th><th scope=col>X17.18</th><th scope=col>X18.19</th><th scope=col>X19.20</th><th scope=col>X20.21</th><th scope=col>X21.22</th><th scope=col>X22.23</th><th scope=col>X23.24</th><th scope=col>X00.01</th><th scope=col>X01.02</th></tr></thead>\n",
       "<tbody>\n",
       "\t<tr><td>동대문(155)</td><td>2016-01-01 </td><td>승차       </td><td>147        </td><td>168        </td><td>170        </td><td>293        </td><td>479        </td><td>543        </td><td>625        </td><td>...        </td><td>1034       </td><td>1065       </td><td>625        </td><td>614        </td><td>475        </td><td>414        </td><td>291        </td><td>138        </td><td>  6        </td><td>0          </td></tr>\n",
       "\t<tr><td>동대문(155)</td><td>2016-01-01 </td><td>하차       </td><td> 31        </td><td>164        </td><td>146        </td><td>164        </td><td>354        </td><td>487        </td><td>901        </td><td>...        </td><td>1167       </td><td>1158       </td><td>869        </td><td>827        </td><td>660        </td><td>614        </td><td>471        </td><td>348        </td><td>122        </td><td>0          </td></tr>\n",
       "\t<tr><td>동묘앞(159)</td><td>2016-01-01 </td><td>승차       </td><td> 37        </td><td> 65        </td><td> 66        </td><td>110        </td><td>161        </td><td>245        </td><td>344        </td><td>...        </td><td>1129       </td><td> 975       </td><td>404        </td><td>198        </td><td>139        </td><td>136        </td><td> 81        </td><td> 52        </td><td>  2        </td><td>0          </td></tr>\n",
       "</tbody>\n",
       "</table>\n"
      ],
      "text/latex": [
       "\\begin{tabular}{r|llllllllllllllllllllllll}\n",
       " 역명 & 날짜 & 구분 & X05.06 & X06.07 & X07.08 & X08.09 & X09.10 & X10.11 & X11.12 & ... & X16.17 & X17.18 & X18.19 & X19.20 & X20.21 & X21.22 & X22.23 & X23.24 & X00.01 & X01.02\\\\\n",
       "\\hline\n",
       "\t 동대문(155) & 2016-01-01  & 승차        & 147         & 168         & 170         & 293         & 479         & 543         & 625         & ...         & 1034        & 1065        & 625         & 614         & 475         & 414         & 291         & 138         &   6         & 0          \\\\\n",
       "\t 동대문(155) & 2016-01-01  & 하차        &  31         & 164         & 146         & 164         & 354         & 487         & 901         & ...         & 1167        & 1158        & 869         & 827         & 660         & 614         & 471         & 348         & 122         & 0          \\\\\n",
       "\t 동묘앞(159) & 2016-01-01  & 승차        &  37         &  65         &  66         & 110         & 161         & 245         & 344         & ...         & 1129        &  975        & 404         & 198         & 139         & 136         &  81         &  52         &   2         & 0          \\\\\n",
       "\\end{tabular}\n"
      ],
      "text/markdown": [
       "\n",
       "역명 | 날짜 | 구분 | X05.06 | X06.07 | X07.08 | X08.09 | X09.10 | X10.11 | X11.12 | ... | X16.17 | X17.18 | X18.19 | X19.20 | X20.21 | X21.22 | X22.23 | X23.24 | X00.01 | X01.02 | \n",
       "|---|---|---|\n",
       "| 동대문(155) | 2016-01-01  | 승차        | 147         | 168         | 170         | 293         | 479         | 543         | 625         | ...         | 1034        | 1065        | 625         | 614         | 475         | 414         | 291         | 138         |   6         | 0           | \n",
       "| 동대문(155) | 2016-01-01  | 하차        |  31         | 164         | 146         | 164         | 354         | 487         | 901         | ...         | 1167        | 1158        | 869         | 827         | 660         | 614         | 471         | 348         | 122         | 0           | \n",
       "| 동묘앞(159) | 2016-01-01  | 승차        |  37         |  65         |  66         | 110         | 161         | 245         | 344         | ...         | 1129        |  975        | 404         | 198         | 139         | 136         |  81         |  52         |   2         | 0           | \n",
       "\n",
       "\n"
      ],
      "text/plain": [
       "  역명        날짜       구분 X05.06 X06.07 X07.08 X08.09 X09.10 X10.11 X11.12\n",
       "1 동대문(155) 2016-01-01 승차 147    168    170    293    479    543    625   \n",
       "2 동대문(155) 2016-01-01 하차  31    164    146    164    354    487    901   \n",
       "3 동묘앞(159) 2016-01-01 승차  37     65     66    110    161    245    344   \n",
       "  ... X16.17 X17.18 X18.19 X19.20 X20.21 X21.22 X22.23 X23.24 X00.01 X01.02\n",
       "1 ... 1034   1065   625    614    475    414    291    138      6    0     \n",
       "2 ... 1167   1158   869    827    660    614    471    348    122    0     \n",
       "3 ... 1129    975   404    198    139    136     81     52      2    0     "
      ]
     },
     "metadata": {},
     "output_type": "display_data"
    },
    {
     "data": {
      "text/html": [
       "<table>\n",
       "<thead><tr><th scope=col>역명</th><th scope=col>날짜</th><th scope=col>구분</th><th scope=col>X05.06</th><th scope=col>X06.07</th><th scope=col>X07.08</th><th scope=col>X08.09</th><th scope=col>X09.10</th><th scope=col>X10.11</th><th scope=col>X11.12</th><th scope=col>...</th><th scope=col>X16.17</th><th scope=col>X17.18</th><th scope=col>X18.19</th><th scope=col>X19.20</th><th scope=col>X20.21</th><th scope=col>X21.22</th><th scope=col>X22.23</th><th scope=col>X23.24</th><th scope=col>X00.01</th><th scope=col>X01.02</th></tr></thead>\n",
       "<tbody>\n",
       "\t<tr><td>남태령(434)</td><td>2016-12-30 </td><td>하차       </td><td> 4         </td><td>39         </td><td>75         </td><td>154        </td><td>61         </td><td>30         </td><td>20         </td><td>...        </td><td> 47        </td><td> 66        </td><td> 81        </td><td>59         </td><td>47         </td><td>30         </td><td>34         </td><td>25         </td><td>14         </td><td>0          </td></tr>\n",
       "\t<tr><td>남태령(434)</td><td>2016-12-31 </td><td>승차       </td><td>16         </td><td>22         </td><td>19         </td><td> 93        </td><td>81         </td><td>71         </td><td>60         </td><td>...        </td><td>142        </td><td>246        </td><td>307        </td><td>36         </td><td>15         </td><td>24         </td><td>10         </td><td> 9         </td><td> 0         </td><td>0          </td></tr>\n",
       "\t<tr><td>남태령(434)</td><td>2016-12-31 </td><td>하차       </td><td> 0         </td><td>17         </td><td>23         </td><td> 40        </td><td>26         </td><td>55         </td><td>57         </td><td>...        </td><td> 35        </td><td> 50        </td><td> 71        </td><td>60         </td><td>27         </td><td>27         </td><td>31         </td><td>15         </td><td> 5         </td><td>0          </td></tr>\n",
       "</tbody>\n",
       "</table>\n"
      ],
      "text/latex": [
       "\\begin{tabular}{r|llllllllllllllllllllllll}\n",
       " 역명 & 날짜 & 구분 & X05.06 & X06.07 & X07.08 & X08.09 & X09.10 & X10.11 & X11.12 & ... & X16.17 & X17.18 & X18.19 & X19.20 & X20.21 & X21.22 & X22.23 & X23.24 & X00.01 & X01.02\\\\\n",
       "\\hline\n",
       "\t 남태령(434) & 2016-12-30  & 하차        &  4          & 39          & 75          & 154         & 61          & 30          & 20          & ...         &  47         &  66         &  81         & 59          & 47          & 30          & 34          & 25          & 14          & 0          \\\\\n",
       "\t 남태령(434) & 2016-12-31  & 승차        & 16          & 22          & 19          &  93         & 81          & 71          & 60          & ...         & 142         & 246         & 307         & 36          & 15          & 24          & 10          &  9          &  0          & 0          \\\\\n",
       "\t 남태령(434) & 2016-12-31  & 하차        &  0          & 17          & 23          &  40         & 26          & 55          & 57          & ...         &  35         &  50         &  71         & 60          & 27          & 27          & 31          & 15          &  5          & 0          \\\\\n",
       "\\end{tabular}\n"
      ],
      "text/markdown": [
       "\n",
       "역명 | 날짜 | 구분 | X05.06 | X06.07 | X07.08 | X08.09 | X09.10 | X10.11 | X11.12 | ... | X16.17 | X17.18 | X18.19 | X19.20 | X20.21 | X21.22 | X22.23 | X23.24 | X00.01 | X01.02 | \n",
       "|---|---|---|\n",
       "| 남태령(434) | 2016-12-30  | 하차        |  4          | 39          | 75          | 154         | 61          | 30          | 20          | ...         |  47         |  66         |  81         | 59          | 47          | 30          | 34          | 25          | 14          | 0           | \n",
       "| 남태령(434) | 2016-12-31  | 승차        | 16          | 22          | 19          |  93         | 81          | 71          | 60          | ...         | 142         | 246         | 307         | 36          | 15          | 24          | 10          |  9          |  0          | 0           | \n",
       "| 남태령(434) | 2016-12-31  | 하차        |  0          | 17          | 23          |  40         | 26          | 55          | 57          | ...         |  35         |  50         |  71         | 60          | 27          | 27          | 31          | 15          |  5          | 0           | \n",
       "\n",
       "\n"
      ],
      "text/plain": [
       "  역명        날짜       구분 X05.06 X06.07 X07.08 X08.09 X09.10 X10.11 X11.12\n",
       "1 남태령(434) 2016-12-30 하차  4     39     75     154    61     30     20    \n",
       "2 남태령(434) 2016-12-31 승차 16     22     19      93    81     71     60    \n",
       "3 남태령(434) 2016-12-31 하차  0     17     23      40    26     55     57    \n",
       "  ... X16.17 X17.18 X18.19 X19.20 X20.21 X21.22 X22.23 X23.24 X00.01 X01.02\n",
       "1 ...  47     66     81    59     47     30     34     25     14     0     \n",
       "2 ... 142    246    307    36     15     24     10      9      0     0     \n",
       "3 ...  35     50     71    60     27     27     31     15      5     0     "
      ]
     },
     "metadata": {},
     "output_type": "display_data"
    },
    {
     "data": {
      "text/html": [
       "<ol class=list-inline>\n",
       "\t<li>87108</li>\n",
       "\t<li>24</li>\n",
       "</ol>\n"
      ],
      "text/latex": [
       "\\begin{enumerate*}\n",
       "\\item 87108\n",
       "\\item 24\n",
       "\\end{enumerate*}\n"
      ],
      "text/markdown": [
       "1. 87108\n",
       "2. 24\n",
       "\n",
       "\n"
      ],
      "text/plain": [
       "[1] 87108    24"
      ]
     },
     "metadata": {},
     "output_type": "display_data"
    }
   ],
   "source": [
    "head(subway, 3)\n",
    "tail(subway,3)\n",
    "dim(subway)"
   ]
  },
  {
   "cell_type": "markdown",
   "metadata": {},
   "source": [
    "### write.csv() 함수를 사용해서 하나의 data.frame으로 통합된 객체를 저장한다."
   ]
  },
  {
   "cell_type": "code",
   "execution_count": 29,
   "metadata": {},
   "outputs": [],
   "source": [
    "write.csv(subway, \"./Data/all_subway.csv\")"
   ]
  },
  {
   "cell_type": "markdown",
   "metadata": {
    "collapsed": true
   },
   "source": [
    "### substr() 함수는 아래 간단한 예제처럼... 대상 텍스트에서 구간을추출하는 것이다.\n",
    "* 아래에서 사용할 테니 기억을.."
   ]
  },
  {
   "cell_type": "code",
   "execution_count": 30,
   "metadata": {},
   "outputs": [],
   "source": [
    "a <- '2016-01-01'"
   ]
  },
  {
   "cell_type": "code",
   "execution_count": 31,
   "metadata": {},
   "outputs": [
    {
     "data": {
      "text/html": [
       "'2016-01-01'"
      ],
      "text/latex": [
       "'2016-01-01'"
      ],
      "text/markdown": [
       "'2016-01-01'"
      ],
      "text/plain": [
       "[1] \"2016-01-01\""
      ]
     },
     "metadata": {},
     "output_type": "display_data"
    }
   ],
   "source": [
    "a"
   ]
  },
  {
   "cell_type": "code",
   "execution_count": 32,
   "metadata": {},
   "outputs": [
    {
     "data": {
      "text/html": [
       "'2016-01'"
      ],
      "text/latex": [
       "'2016-01'"
      ],
      "text/markdown": [
       "'2016-01'"
      ],
      "text/plain": [
       "[1] \"2016-01\""
      ]
     },
     "metadata": {},
     "output_type": "display_data"
    }
   ],
   "source": [
    "substr(a,1,7)"
   ]
  },
  {
   "cell_type": "code",
   "execution_count": null,
   "metadata": {
    "collapsed": true
   },
   "outputs": [],
   "source": []
  },
  {
   "cell_type": "code",
   "execution_count": null,
   "metadata": {
    "collapsed": true
   },
   "outputs": [],
   "source": []
  },
  {
   "cell_type": "code",
   "execution_count": null,
   "metadata": {
    "collapsed": true
   },
   "outputs": [],
   "source": []
  },
  {
   "cell_type": "markdown",
   "metadata": {
    "collapsed": true
   },
   "source": [
    "# 여기부터는 데이터 시각화"
   ]
  },
  {
   "cell_type": "code",
   "execution_count": 33,
   "metadata": {},
   "outputs": [],
   "source": [
    "library(ggplot2)"
   ]
  },
  {
   "cell_type": "markdown",
   "metadata": {},
   "source": [
    "### 중간에 다시 시작했다면 최종데이터를 다시 읽자\n",
    "* read.csv에서 check.names은 파일에 있는 그대로 읽겠다는 의미이다. \n",
    "* R에서 파일 읽는 부분은 따로 정리해서 배포할 예정"
   ]
  },
  {
   "cell_type": "code",
   "execution_count": 34,
   "metadata": {},
   "outputs": [],
   "source": [
    "subway <- read.csv(\"./Data/all_subway.csv\", header = T, check.names=F)"
   ]
  },
  {
   "cell_type": "code",
   "execution_count": 35,
   "metadata": {},
   "outputs": [
    {
     "name": "stdout",
     "output_type": "stream",
     "text": [
      "'data.frame':\t87108 obs. of  25 variables:\n",
      " $       : int  1 2 3 4 5 6 7 8 9 10 ...\n",
      " $ 역명  : Factor w/ 119 levels \"가락시장(340)\",..: 28 28 33 33 52 52 61 61 69 69 ...\n",
      " $ 날짜  : Factor w/ 366 levels \"2016-01-01\",\"2016-01-02\",..: 1 1 1 1 1 1 1 1 1 1 ...\n",
      " $ 구분  : Factor w/ 2 levels \"승차\",\"하차\": 1 2 1 2 1 2 1 2 1 2 ...\n",
      " $ X05.06: int  147 31 37 19 405 341 98 68 113 52 ...\n",
      " $ X06.07: int  168 164 65 75 339 1637 127 306 176 126 ...\n",
      " $ X07.08: int  170 146 66 88 584 1753 110 554 172 111 ...\n",
      " $ X08.09: int  293 164 110 147 1144 1856 191 939 301 188 ...\n",
      " $ X09.10: int  479 354 161 199 1723 2438 298 689 354 245 ...\n",
      " $ X10.11: int  543 487 245 359 2087 2425 582 665 471 282 ...\n",
      " $ X11.12: int  625 901 344 661 2983 2548 700 884 593 371 ...\n",
      " $ X12.13: int  671 1078 543 907 3527 2718 604 956 555 417 ...\n",
      " $ X13.14: int  797 1323 652 1014 3386 2973 731 1084 595 423 ...\n",
      " $ X14.15: int  962 1332 835 1148 2613 2921 900 1216 551 427 ...\n",
      " $ X15.16: int  1006 1297 1035 908 3639 3341 1069 1033 528 508 ...\n",
      " $ X16.17: int  1034 1167 1129 587 3554 3108 1339 1035 587 462 ...\n",
      " $ X17.18: int  1065 1158 975 353 3200 2656 1458 951 605 492 ...\n",
      " $ X18.19: int  625 869 404 231 3076 2134 1499 792 497 424 ...\n",
      " $ X19.20: int  614 827 198 165 2519 1859 1383 618 335 386 ...\n",
      " $ X20.21: int  475 660 139 149 2281 1394 1284 402 248 311 ...\n",
      " $ X21.22: int  414 614 136 146 2398 1344 1198 309 220 373 ...\n",
      " $ X22.23: int  291 471 81 176 2056 1056 675 192 166 452 ...\n",
      " $ X23.24: int  138 348 52 144 996 612 375 114 70 278 ...\n",
      " $ X00.01: int  6 122 2 106 58 222 9 34 2 71 ...\n",
      " $ X01.02: int  0 0 0 0 0 0 0 0 0 0 ...\n"
     ]
    }
   ],
   "source": [
    "str(subway)"
   ]
  },
  {
   "cell_type": "markdown",
   "metadata": {},
   "source": [
    "* 위의 첫 컬럼이 공백이 있는데 이것을 삭제하자"
   ]
  },
  {
   "cell_type": "code",
   "execution_count": 36,
   "metadata": {},
   "outputs": [],
   "source": [
    "subway <- subway[, -c(1)]"
   ]
  },
  {
   "cell_type": "code",
   "execution_count": 37,
   "metadata": {},
   "outputs": [
    {
     "name": "stdout",
     "output_type": "stream",
     "text": [
      "'data.frame':\t87108 obs. of  24 variables:\n",
      " $ 역명  : Factor w/ 119 levels \"가락시장(340)\",..: 28 28 33 33 52 52 61 61 69 69 ...\n",
      " $ 날짜  : Factor w/ 366 levels \"2016-01-01\",\"2016-01-02\",..: 1 1 1 1 1 1 1 1 1 1 ...\n",
      " $ 구분  : Factor w/ 2 levels \"승차\",\"하차\": 1 2 1 2 1 2 1 2 1 2 ...\n",
      " $ X05.06: int  147 31 37 19 405 341 98 68 113 52 ...\n",
      " $ X06.07: int  168 164 65 75 339 1637 127 306 176 126 ...\n",
      " $ X07.08: int  170 146 66 88 584 1753 110 554 172 111 ...\n",
      " $ X08.09: int  293 164 110 147 1144 1856 191 939 301 188 ...\n",
      " $ X09.10: int  479 354 161 199 1723 2438 298 689 354 245 ...\n",
      " $ X10.11: int  543 487 245 359 2087 2425 582 665 471 282 ...\n",
      " $ X11.12: int  625 901 344 661 2983 2548 700 884 593 371 ...\n",
      " $ X12.13: int  671 1078 543 907 3527 2718 604 956 555 417 ...\n",
      " $ X13.14: int  797 1323 652 1014 3386 2973 731 1084 595 423 ...\n",
      " $ X14.15: int  962 1332 835 1148 2613 2921 900 1216 551 427 ...\n",
      " $ X15.16: int  1006 1297 1035 908 3639 3341 1069 1033 528 508 ...\n",
      " $ X16.17: int  1034 1167 1129 587 3554 3108 1339 1035 587 462 ...\n",
      " $ X17.18: int  1065 1158 975 353 3200 2656 1458 951 605 492 ...\n",
      " $ X18.19: int  625 869 404 231 3076 2134 1499 792 497 424 ...\n",
      " $ X19.20: int  614 827 198 165 2519 1859 1383 618 335 386 ...\n",
      " $ X20.21: int  475 660 139 149 2281 1394 1284 402 248 311 ...\n",
      " $ X21.22: int  414 614 136 146 2398 1344 1198 309 220 373 ...\n",
      " $ X22.23: int  291 471 81 176 2056 1056 675 192 166 452 ...\n",
      " $ X23.24: int  138 348 52 144 996 612 375 114 70 278 ...\n",
      " $ X00.01: int  6 122 2 106 58 222 9 34 2 71 ...\n",
      " $ X01.02: int  0 0 0 0 0 0 0 0 0 0 ...\n"
     ]
    }
   ],
   "source": [
    "str(subway)"
   ]
  },
  {
   "cell_type": "code",
   "execution_count": 38,
   "metadata": {},
   "outputs": [
    {
     "data": {
      "text/html": [
       "<table>\n",
       "<thead><tr><th scope=col>역명</th><th scope=col>날짜</th><th scope=col>구분</th><th scope=col>X05.06</th><th scope=col>X06.07</th><th scope=col>X07.08</th><th scope=col>X08.09</th><th scope=col>X09.10</th><th scope=col>X10.11</th><th scope=col>X11.12</th><th scope=col>...</th><th scope=col>X16.17</th><th scope=col>X17.18</th><th scope=col>X18.19</th><th scope=col>X19.20</th><th scope=col>X20.21</th><th scope=col>X21.22</th><th scope=col>X22.23</th><th scope=col>X23.24</th><th scope=col>X00.01</th><th scope=col>X01.02</th></tr></thead>\n",
       "<tbody>\n",
       "\t<tr><td>동대문(155)</td><td>2016-01-01 </td><td>승차       </td><td>147        </td><td> 168       </td><td> 170       </td><td> 293       </td><td> 479       </td><td> 543       </td><td> 625       </td><td>...        </td><td>1034       </td><td>1065       </td><td> 625       </td><td> 614       </td><td> 475       </td><td> 414       </td><td> 291       </td><td>138        </td><td>  6        </td><td>0          </td></tr>\n",
       "\t<tr><td>동대문(155)</td><td>2016-01-01 </td><td>하차       </td><td> 31        </td><td> 164       </td><td> 146       </td><td> 164       </td><td> 354       </td><td> 487       </td><td> 901       </td><td>...        </td><td>1167       </td><td>1158       </td><td> 869       </td><td> 827       </td><td> 660       </td><td> 614       </td><td> 471       </td><td>348        </td><td>122        </td><td>0          </td></tr>\n",
       "\t<tr><td>동묘앞(159)</td><td>2016-01-01 </td><td>승차       </td><td> 37        </td><td>  65       </td><td>  66       </td><td> 110       </td><td> 161       </td><td> 245       </td><td> 344       </td><td>...        </td><td>1129       </td><td> 975       </td><td> 404       </td><td> 198       </td><td> 139       </td><td> 136       </td><td>  81       </td><td> 52        </td><td>  2        </td><td>0          </td></tr>\n",
       "\t<tr><td>동묘앞(159)</td><td>2016-01-01 </td><td>하차       </td><td> 19        </td><td>  75       </td><td>  88       </td><td> 147       </td><td> 199       </td><td> 359       </td><td> 661       </td><td>...        </td><td> 587       </td><td> 353       </td><td> 231       </td><td> 165       </td><td> 149       </td><td> 146       </td><td> 176       </td><td>144        </td><td>106        </td><td>0          </td></tr>\n",
       "\t<tr><td>서울역(150)</td><td>2016-01-01 </td><td>승차       </td><td>405        </td><td> 339       </td><td> 584       </td><td>1144       </td><td>1723       </td><td>2087       </td><td>2983       </td><td>...        </td><td>3554       </td><td>3200       </td><td>3076       </td><td>2519       </td><td>2281       </td><td>2398       </td><td>2056       </td><td>996        </td><td> 58        </td><td>0          </td></tr>\n",
       "\t<tr><td>서울역(150)</td><td>2016-01-01 </td><td>하차       </td><td>341        </td><td>1637       </td><td>1753       </td><td>1856       </td><td>2438       </td><td>2425       </td><td>2548       </td><td>...        </td><td>3108       </td><td>2656       </td><td>2134       </td><td>1859       </td><td>1394       </td><td>1344       </td><td>1056       </td><td>612        </td><td>222        </td><td>0          </td></tr>\n",
       "</tbody>\n",
       "</table>\n"
      ],
      "text/latex": [
       "\\begin{tabular}{r|llllllllllllllllllllllll}\n",
       " 역명 & 날짜 & 구분 & X05.06 & X06.07 & X07.08 & X08.09 & X09.10 & X10.11 & X11.12 & ... & X16.17 & X17.18 & X18.19 & X19.20 & X20.21 & X21.22 & X22.23 & X23.24 & X00.01 & X01.02\\\\\n",
       "\\hline\n",
       "\t 동대문(155) & 2016-01-01  & 승차        & 147         &  168        &  170        &  293        &  479        &  543        &  625        & ...         & 1034        & 1065        &  625        &  614        &  475        &  414        &  291        & 138         &   6         & 0          \\\\\n",
       "\t 동대문(155) & 2016-01-01  & 하차        &  31         &  164        &  146        &  164        &  354        &  487        &  901        & ...         & 1167        & 1158        &  869        &  827        &  660        &  614        &  471        & 348         & 122         & 0          \\\\\n",
       "\t 동묘앞(159) & 2016-01-01  & 승차        &  37         &   65        &   66        &  110        &  161        &  245        &  344        & ...         & 1129        &  975        &  404        &  198        &  139        &  136        &   81        &  52         &   2         & 0          \\\\\n",
       "\t 동묘앞(159) & 2016-01-01  & 하차        &  19         &   75        &   88        &  147        &  199        &  359        &  661        & ...         &  587        &  353        &  231        &  165        &  149        &  146        &  176        & 144         & 106         & 0          \\\\\n",
       "\t 서울역(150) & 2016-01-01  & 승차        & 405         &  339        &  584        & 1144        & 1723        & 2087        & 2983        & ...         & 3554        & 3200        & 3076        & 2519        & 2281        & 2398        & 2056        & 996         &  58         & 0          \\\\\n",
       "\t 서울역(150) & 2016-01-01  & 하차        & 341         & 1637        & 1753        & 1856        & 2438        & 2425        & 2548        & ...         & 3108        & 2656        & 2134        & 1859        & 1394        & 1344        & 1056        & 612         & 222         & 0          \\\\\n",
       "\\end{tabular}\n"
      ],
      "text/markdown": [
       "\n",
       "역명 | 날짜 | 구분 | X05.06 | X06.07 | X07.08 | X08.09 | X09.10 | X10.11 | X11.12 | ... | X16.17 | X17.18 | X18.19 | X19.20 | X20.21 | X21.22 | X22.23 | X23.24 | X00.01 | X01.02 | \n",
       "|---|---|---|---|---|---|\n",
       "| 동대문(155) | 2016-01-01  | 승차        | 147         |  168        |  170        |  293        |  479        |  543        |  625        | ...         | 1034        | 1065        |  625        |  614        |  475        |  414        |  291        | 138         |   6         | 0           | \n",
       "| 동대문(155) | 2016-01-01  | 하차        |  31         |  164        |  146        |  164        |  354        |  487        |  901        | ...         | 1167        | 1158        |  869        |  827        |  660        |  614        |  471        | 348         | 122         | 0           | \n",
       "| 동묘앞(159) | 2016-01-01  | 승차        |  37         |   65        |   66        |  110        |  161        |  245        |  344        | ...         | 1129        |  975        |  404        |  198        |  139        |  136        |   81        |  52         |   2         | 0           | \n",
       "| 동묘앞(159) | 2016-01-01  | 하차        |  19         |   75        |   88        |  147        |  199        |  359        |  661        | ...         |  587        |  353        |  231        |  165        |  149        |  146        |  176        | 144         | 106         | 0           | \n",
       "| 서울역(150) | 2016-01-01  | 승차        | 405         |  339        |  584        | 1144        | 1723        | 2087        | 2983        | ...         | 3554        | 3200        | 3076        | 2519        | 2281        | 2398        | 2056        | 996         |  58         | 0           | \n",
       "| 서울역(150) | 2016-01-01  | 하차        | 341         | 1637        | 1753        | 1856        | 2438        | 2425        | 2548        | ...         | 3108        | 2656        | 2134        | 1859        | 1394        | 1344        | 1056        | 612         | 222         | 0           | \n",
       "\n",
       "\n"
      ],
      "text/plain": [
       "  역명        날짜       구분 X05.06 X06.07 X07.08 X08.09 X09.10 X10.11 X11.12\n",
       "1 동대문(155) 2016-01-01 승차 147     168    170    293    479    543    625  \n",
       "2 동대문(155) 2016-01-01 하차  31     164    146    164    354    487    901  \n",
       "3 동묘앞(159) 2016-01-01 승차  37      65     66    110    161    245    344  \n",
       "4 동묘앞(159) 2016-01-01 하차  19      75     88    147    199    359    661  \n",
       "5 서울역(150) 2016-01-01 승차 405     339    584   1144   1723   2087   2983  \n",
       "6 서울역(150) 2016-01-01 하차 341    1637   1753   1856   2438   2425   2548  \n",
       "  ... X16.17 X17.18 X18.19 X19.20 X20.21 X21.22 X22.23 X23.24 X00.01 X01.02\n",
       "1 ... 1034   1065    625    614    475    414    291   138      6    0     \n",
       "2 ... 1167   1158    869    827    660    614    471   348    122    0     \n",
       "3 ... 1129    975    404    198    139    136     81    52      2    0     \n",
       "4 ...  587    353    231    165    149    146    176   144    106    0     \n",
       "5 ... 3554   3200   3076   2519   2281   2398   2056   996     58    0     \n",
       "6 ... 3108   2656   2134   1859   1394   1344   1056   612    222    0     "
      ]
     },
     "metadata": {},
     "output_type": "display_data"
    },
    {
     "data": {
      "text/html": [
       "<table>\n",
       "<thead><tr><th></th><th scope=col>역명</th><th scope=col>날짜</th><th scope=col>구분</th><th scope=col>X05.06</th><th scope=col>X06.07</th><th scope=col>X07.08</th><th scope=col>X08.09</th><th scope=col>X09.10</th><th scope=col>X10.11</th><th scope=col>X11.12</th><th scope=col>...</th><th scope=col>X16.17</th><th scope=col>X17.18</th><th scope=col>X18.19</th><th scope=col>X19.20</th><th scope=col>X20.21</th><th scope=col>X21.22</th><th scope=col>X22.23</th><th scope=col>X23.24</th><th scope=col>X00.01</th><th scope=col>X01.02</th></tr></thead>\n",
       "<tbody>\n",
       "\t<tr><th scope=row>87103</th><td>남태령(434)</td><td>2016-12-29 </td><td>승차       </td><td>19         </td><td>31         </td><td>122        </td><td>167        </td><td>172        </td><td>86         </td><td>73         </td><td>...        </td><td> 73        </td><td>158        </td><td>282        </td><td>106        </td><td>33         </td><td>19         </td><td>17         </td><td>10         </td><td> 1         </td><td>0          </td></tr>\n",
       "\t<tr><th scope=row>87104</th><td>남태령(434)</td><td>2016-12-29 </td><td>하차       </td><td> 2         </td><td>26         </td><td>189        </td><td>238        </td><td> 68        </td><td>64         </td><td>30         </td><td>...        </td><td> 46        </td><td> 57        </td><td> 67        </td><td> 78        </td><td>36         </td><td>50         </td><td>39         </td><td>24         </td><td>17         </td><td>0          </td></tr>\n",
       "\t<tr><th scope=row>87105</th><td>남태령(434)</td><td>2016-12-30 </td><td>승차       </td><td>18         </td><td>23         </td><td>125        </td><td>165        </td><td>111        </td><td>80         </td><td>61         </td><td>...        </td><td> 93        </td><td>162        </td><td>275        </td><td>164        </td><td>41         </td><td>29         </td><td>22         </td><td>10         </td><td> 1         </td><td>0          </td></tr>\n",
       "\t<tr><th scope=row>87106</th><td>남태령(434)</td><td>2016-12-30 </td><td>하차       </td><td> 4         </td><td>39         </td><td> 75        </td><td>154        </td><td> 61        </td><td>30         </td><td>20         </td><td>...        </td><td> 47        </td><td> 66        </td><td> 81        </td><td> 59        </td><td>47         </td><td>30         </td><td>34         </td><td>25         </td><td>14         </td><td>0          </td></tr>\n",
       "\t<tr><th scope=row>87107</th><td>남태령(434)</td><td>2016-12-31 </td><td>승차       </td><td>16         </td><td>22         </td><td> 19        </td><td> 93        </td><td> 81        </td><td>71         </td><td>60         </td><td>...        </td><td>142        </td><td>246        </td><td>307        </td><td> 36        </td><td>15         </td><td>24         </td><td>10         </td><td> 9         </td><td> 0         </td><td>0          </td></tr>\n",
       "\t<tr><th scope=row>87108</th><td>남태령(434)</td><td>2016-12-31 </td><td>하차       </td><td> 0         </td><td>17         </td><td> 23        </td><td> 40        </td><td> 26        </td><td>55         </td><td>57         </td><td>...        </td><td> 35        </td><td> 50        </td><td> 71        </td><td> 60        </td><td>27         </td><td>27         </td><td>31         </td><td>15         </td><td> 5         </td><td>0          </td></tr>\n",
       "</tbody>\n",
       "</table>\n"
      ],
      "text/latex": [
       "\\begin{tabular}{r|llllllllllllllllllllllll}\n",
       "  & 역명 & 날짜 & 구분 & X05.06 & X06.07 & X07.08 & X08.09 & X09.10 & X10.11 & X11.12 & ... & X16.17 & X17.18 & X18.19 & X19.20 & X20.21 & X21.22 & X22.23 & X23.24 & X00.01 & X01.02\\\\\n",
       "\\hline\n",
       "\t87103 & 남태령(434) & 2016-12-29  & 승차        & 19          & 31          & 122         & 167         & 172         & 86          & 73          & ...         &  73         & 158         & 282         & 106         & 33          & 19          & 17          & 10          &  1          & 0          \\\\\n",
       "\t87104 & 남태령(434) & 2016-12-29  & 하차        &  2          & 26          & 189         & 238         &  68         & 64          & 30          & ...         &  46         &  57         &  67         &  78         & 36          & 50          & 39          & 24          & 17          & 0          \\\\\n",
       "\t87105 & 남태령(434) & 2016-12-30  & 승차        & 18          & 23          & 125         & 165         & 111         & 80          & 61          & ...         &  93         & 162         & 275         & 164         & 41          & 29          & 22          & 10          &  1          & 0          \\\\\n",
       "\t87106 & 남태령(434) & 2016-12-30  & 하차        &  4          & 39          &  75         & 154         &  61         & 30          & 20          & ...         &  47         &  66         &  81         &  59         & 47          & 30          & 34          & 25          & 14          & 0          \\\\\n",
       "\t87107 & 남태령(434) & 2016-12-31  & 승차        & 16          & 22          &  19         &  93         &  81         & 71          & 60          & ...         & 142         & 246         & 307         &  36         & 15          & 24          & 10          &  9          &  0          & 0          \\\\\n",
       "\t87108 & 남태령(434) & 2016-12-31  & 하차        &  0          & 17          &  23         &  40         &  26         & 55          & 57          & ...         &  35         &  50         &  71         &  60         & 27          & 27          & 31          & 15          &  5          & 0          \\\\\n",
       "\\end{tabular}\n"
      ],
      "text/markdown": [
       "\n",
       "| <!--/--> | 역명 | 날짜 | 구분 | X05.06 | X06.07 | X07.08 | X08.09 | X09.10 | X10.11 | X11.12 | ... | X16.17 | X17.18 | X18.19 | X19.20 | X20.21 | X21.22 | X22.23 | X23.24 | X00.01 | X01.02 | \n",
       "|---|---|---|---|---|---|\n",
       "| 87103 | 남태령(434) | 2016-12-29  | 승차        | 19          | 31          | 122         | 167         | 172         | 86          | 73          | ...         |  73         | 158         | 282         | 106         | 33          | 19          | 17          | 10          |  1          | 0           | \n",
       "| 87104 | 남태령(434) | 2016-12-29  | 하차        |  2          | 26          | 189         | 238         |  68         | 64          | 30          | ...         |  46         |  57         |  67         |  78         | 36          | 50          | 39          | 24          | 17          | 0           | \n",
       "| 87105 | 남태령(434) | 2016-12-30  | 승차        | 18          | 23          | 125         | 165         | 111         | 80          | 61          | ...         |  93         | 162         | 275         | 164         | 41          | 29          | 22          | 10          |  1          | 0           | \n",
       "| 87106 | 남태령(434) | 2016-12-30  | 하차        |  4          | 39          |  75         | 154         |  61         | 30          | 20          | ...         |  47         |  66         |  81         |  59         | 47          | 30          | 34          | 25          | 14          | 0           | \n",
       "| 87107 | 남태령(434) | 2016-12-31  | 승차        | 16          | 22          |  19         |  93         |  81         | 71          | 60          | ...         | 142         | 246         | 307         |  36         | 15          | 24          | 10          |  9          |  0          | 0           | \n",
       "| 87108 | 남태령(434) | 2016-12-31  | 하차        |  0          | 17          |  23         |  40         |  26         | 55          | 57          | ...         |  35         |  50         |  71         |  60         | 27          | 27          | 31          | 15          |  5          | 0           | \n",
       "\n",
       "\n"
      ],
      "text/plain": [
       "      역명        날짜       구분 X05.06 X06.07 X07.08 X08.09 X09.10 X10.11\n",
       "87103 남태령(434) 2016-12-29 승차 19     31     122    167    172    86    \n",
       "87104 남태령(434) 2016-12-29 하차  2     26     189    238     68    64    \n",
       "87105 남태령(434) 2016-12-30 승차 18     23     125    165    111    80    \n",
       "87106 남태령(434) 2016-12-30 하차  4     39      75    154     61    30    \n",
       "87107 남태령(434) 2016-12-31 승차 16     22      19     93     81    71    \n",
       "87108 남태령(434) 2016-12-31 하차  0     17      23     40     26    55    \n",
       "      X11.12 ... X16.17 X17.18 X18.19 X19.20 X20.21 X21.22 X22.23 X23.24 X00.01\n",
       "87103 73     ...  73    158    282    106    33     19     17     10      1    \n",
       "87104 30     ...  46     57     67     78    36     50     39     24     17    \n",
       "87105 61     ...  93    162    275    164    41     29     22     10      1    \n",
       "87106 20     ...  47     66     81     59    47     30     34     25     14    \n",
       "87107 60     ... 142    246    307     36    15     24     10      9      0    \n",
       "87108 57     ...  35     50     71     60    27     27     31     15      5    \n",
       "      X01.02\n",
       "87103 0     \n",
       "87104 0     \n",
       "87105 0     \n",
       "87106 0     \n",
       "87107 0     \n",
       "87108 0     "
      ]
     },
     "metadata": {},
     "output_type": "display_data"
    },
    {
     "data": {
      "text/html": [
       "<ol class=list-inline>\n",
       "\t<li>'역명'</li>\n",
       "\t<li>'날짜'</li>\n",
       "\t<li>'구분'</li>\n",
       "\t<li>'X05.06'</li>\n",
       "\t<li>'X06.07'</li>\n",
       "\t<li>'X07.08'</li>\n",
       "\t<li>'X08.09'</li>\n",
       "\t<li>'X09.10'</li>\n",
       "\t<li>'X10.11'</li>\n",
       "\t<li>'X11.12'</li>\n",
       "\t<li>'X12.13'</li>\n",
       "\t<li>'X13.14'</li>\n",
       "\t<li>'X14.15'</li>\n",
       "\t<li>'X15.16'</li>\n",
       "\t<li>'X16.17'</li>\n",
       "\t<li>'X17.18'</li>\n",
       "\t<li>'X18.19'</li>\n",
       "\t<li>'X19.20'</li>\n",
       "\t<li>'X20.21'</li>\n",
       "\t<li>'X21.22'</li>\n",
       "\t<li>'X22.23'</li>\n",
       "\t<li>'X23.24'</li>\n",
       "\t<li>'X00.01'</li>\n",
       "\t<li>'X01.02'</li>\n",
       "</ol>\n"
      ],
      "text/latex": [
       "\\begin{enumerate*}\n",
       "\\item '역명'\n",
       "\\item '날짜'\n",
       "\\item '구분'\n",
       "\\item 'X05.06'\n",
       "\\item 'X06.07'\n",
       "\\item 'X07.08'\n",
       "\\item 'X08.09'\n",
       "\\item 'X09.10'\n",
       "\\item 'X10.11'\n",
       "\\item 'X11.12'\n",
       "\\item 'X12.13'\n",
       "\\item 'X13.14'\n",
       "\\item 'X14.15'\n",
       "\\item 'X15.16'\n",
       "\\item 'X16.17'\n",
       "\\item 'X17.18'\n",
       "\\item 'X18.19'\n",
       "\\item 'X19.20'\n",
       "\\item 'X20.21'\n",
       "\\item 'X21.22'\n",
       "\\item 'X22.23'\n",
       "\\item 'X23.24'\n",
       "\\item 'X00.01'\n",
       "\\item 'X01.02'\n",
       "\\end{enumerate*}\n"
      ],
      "text/markdown": [
       "1. '역명'\n",
       "2. '날짜'\n",
       "3. '구분'\n",
       "4. 'X05.06'\n",
       "5. 'X06.07'\n",
       "6. 'X07.08'\n",
       "7. 'X08.09'\n",
       "8. 'X09.10'\n",
       "9. 'X10.11'\n",
       "10. 'X11.12'\n",
       "11. 'X12.13'\n",
       "12. 'X13.14'\n",
       "13. 'X14.15'\n",
       "14. 'X15.16'\n",
       "15. 'X16.17'\n",
       "16. 'X17.18'\n",
       "17. 'X18.19'\n",
       "18. 'X19.20'\n",
       "19. 'X20.21'\n",
       "20. 'X21.22'\n",
       "21. 'X22.23'\n",
       "22. 'X23.24'\n",
       "23. 'X00.01'\n",
       "24. 'X01.02'\n",
       "\n",
       "\n"
      ],
      "text/plain": [
       " [1] \"역명\"   \"날짜\"   \"구분\"   \"X05.06\" \"X06.07\" \"X07.08\" \"X08.09\" \"X09.10\"\n",
       " [9] \"X10.11\" \"X11.12\" \"X12.13\" \"X13.14\" \"X14.15\" \"X15.16\" \"X16.17\" \"X17.18\"\n",
       "[17] \"X18.19\" \"X19.20\" \"X20.21\" \"X21.22\" \"X22.23\" \"X23.24\" \"X00.01\" \"X01.02\""
      ]
     },
     "metadata": {},
     "output_type": "display_data"
    }
   ],
   "source": [
    "head(subway)\n",
    "tail(subway)\n",
    "colnames(subway)"
   ]
  },
  {
   "cell_type": "markdown",
   "metadata": {},
   "source": [
    "* unique함수는 벡터에서 유일한 값만 전달해주는 함수 \n",
    "* grep함수는 벡터에서 내가 찾는 문자가 몇 번에 존재하는지 알려준다."
   ]
  },
  {
   "cell_type": "code",
   "execution_count": 39,
   "metadata": {},
   "outputs": [
    {
     "data": {
      "text/html": [
       "<ol class=list-inline>\n",
       "\t<li>동대문(155)</li>\n",
       "\t<li>동묘앞(159)</li>\n",
       "\t<li>서울역(150)</li>\n",
       "\t<li>시청(151)</li>\n",
       "\t<li>신설동(156)</li>\n",
       "\t<li>제기동(157)</li>\n",
       "\t<li>종각(152)</li>\n",
       "\t<li>종로3가(153)</li>\n",
       "\t<li>종로5가(154)</li>\n",
       "\t<li>청량리(지하)(158)</li>\n",
       "\t<li>강남(222)</li>\n",
       "\t<li>강변(214)</li>\n",
       "\t<li>건대입구(212)</li>\n",
       "\t<li>교대(223)</li>\n",
       "\t<li>구로디지털단지(232)</li>\n",
       "\t<li>구의(213)</li>\n",
       "\t<li>낙성대(227)</li>\n",
       "\t<li>당산(237)</li>\n",
       "\t<li>대림(233)</li>\n",
       "\t<li>도림천(247)</li>\n",
       "\t<li>동대문역사문화공원(205)</li>\n",
       "\t<li>뚝섬(210)</li>\n",
       "\t<li>문래(235)</li>\n",
       "\t<li>방배(225)</li>\n",
       "\t<li>봉천(229)</li>\n",
       "\t<li>사당(226)</li>\n",
       "\t<li>삼성(219)</li>\n",
       "\t<li>상왕십리(207)</li>\n",
       "\t<li>서울대입구(228)</li>\n",
       "\t<li>서초(224)</li>\n",
       "\t<li>선릉(220)</li>\n",
       "\t<li>성수(211)</li>\n",
       "\t<li>시청(201)</li>\n",
       "\t<li>신답(245)</li>\n",
       "\t<li>신당(206)</li>\n",
       "\t<li>신대방(231)</li>\n",
       "\t<li>신도림(234)</li>\n",
       "\t<li>신림(230)</li>\n",
       "\t<li>신설동(246)</li>\n",
       "\t<li>신정네거리(249)</li>\n",
       "\t<li>신천(217)</li>\n",
       "\t<li>신촌(240)</li>\n",
       "\t<li>아현(242)</li>\n",
       "\t<li>양천구청(248)</li>\n",
       "\t<li>역삼(221)</li>\n",
       "\t<li>영등포구청(236)</li>\n",
       "\t<li>왕십리(성동구청)(208)</li>\n",
       "\t<li>용답(244)</li>\n",
       "\t<li>용두(250)</li>\n",
       "\t<li>을지로3가(203)</li>\n",
       "\t<li>을지로4가(204)</li>\n",
       "\t<li>을지로입구(202)</li>\n",
       "\t<li>이대(241)</li>\n",
       "\t<li>잠실(216)</li>\n",
       "\t<li>잠실나루(215)</li>\n",
       "\t<li>종합운동장(218)</li>\n",
       "\t<li>충정로(243)</li>\n",
       "\t<li>한양대(209)</li>\n",
       "\t<li>합정(238)</li>\n",
       "\t<li>홍대입구(239)</li>\n",
       "\t<li>가락시장(340)</li>\n",
       "\t<li>경복궁(317)</li>\n",
       "\t<li>경찰병원(341)</li>\n",
       "\t<li>고속터미널(329)</li>\n",
       "\t<li>교대(330)</li>\n",
       "\t<li>구파발(310)</li>\n",
       "\t<li>금호(324)</li>\n",
       "\t<li>남부터미널(331)</li>\n",
       "\t<li>녹번(313)</li>\n",
       "\t<li>대청(337)</li>\n",
       "\t<li>대치(335)</li>\n",
       "\t<li>도곡(334)</li>\n",
       "\t<li>독립문(316)</li>\n",
       "\t<li>동대입구(322)</li>\n",
       "\t<li>매봉(333)</li>\n",
       "\t<li>무악재(315)</li>\n",
       "\t<li>불광(312)</li>\n",
       "\t<li>수서(339)</li>\n",
       "\t<li>신사(327)</li>\n",
       "\t<li>안국(318)</li>\n",
       "\t<li>압구정(326)</li>\n",
       "\t<li>약수(323)</li>\n",
       "\t<li>양재(332)</li>\n",
       "\t<li>연신내(311)</li>\n",
       "\t<li>오금(342)</li>\n",
       "\t<li>옥수(325)</li>\n",
       "\t<li>을지로3가(320)</li>\n",
       "\t<li>일원(338)</li>\n",
       "\t<li>잠원(328)</li>\n",
       "\t<li>종로3가(319)</li>\n",
       "\t<li>지축(309)</li>\n",
       "\t<li>학여울(336)</li>\n",
       "\t<li>홍제(314)</li>\n",
       "\t<li>길음(417)</li>\n",
       "\t<li>남태령(434)</li>\n",
       "\t<li>노원(411)</li>\n",
       "\t<li>당고개(409)</li>\n",
       "\t<li>동대문(421)</li>\n",
       "\t<li>동대문역사문화공원(422)</li>\n",
       "\t<li>동작(431)</li>\n",
       "\t<li>명동(424)</li>\n",
       "\t<li>미아(415)</li>\n",
       "\t<li>미아사거리(416)</li>\n",
       "\t<li>사당(433)</li>\n",
       "\t<li>삼각지(428)</li>\n",
       "\t<li>상계(410)</li>\n",
       "\t<li>서울역(426)</li>\n",
       "\t<li>성신여대입구(418)</li>\n",
       "\t<li>수유(강북구청)(414)</li>\n",
       "\t<li>숙대입구(427)</li>\n",
       "\t<li>신용산(429)</li>\n",
       "\t<li>쌍문(413)</li>\n",
       "\t<li>이촌(430)</li>\n",
       "\t<li>창동(412)</li>\n",
       "\t<li>총신대입구(432)</li>\n",
       "\t<li>충무로(423)</li>\n",
       "\t<li>한성대입구(419)</li>\n",
       "\t<li>혜화(420)</li>\n",
       "\t<li>회현(425)</li>\n",
       "</ol>\n"
      ],
      "text/latex": [
       "\\begin{enumerate*}\n",
       "\\item 동대문(155)\n",
       "\\item 동묘앞(159)\n",
       "\\item 서울역(150)\n",
       "\\item 시청(151)\n",
       "\\item 신설동(156)\n",
       "\\item 제기동(157)\n",
       "\\item 종각(152)\n",
       "\\item 종로3가(153)\n",
       "\\item 종로5가(154)\n",
       "\\item 청량리(지하)(158)\n",
       "\\item 강남(222)\n",
       "\\item 강변(214)\n",
       "\\item 건대입구(212)\n",
       "\\item 교대(223)\n",
       "\\item 구로디지털단지(232)\n",
       "\\item 구의(213)\n",
       "\\item 낙성대(227)\n",
       "\\item 당산(237)\n",
       "\\item 대림(233)\n",
       "\\item 도림천(247)\n",
       "\\item 동대문역사문화공원(205)\n",
       "\\item 뚝섬(210)\n",
       "\\item 문래(235)\n",
       "\\item 방배(225)\n",
       "\\item 봉천(229)\n",
       "\\item 사당(226)\n",
       "\\item 삼성(219)\n",
       "\\item 상왕십리(207)\n",
       "\\item 서울대입구(228)\n",
       "\\item 서초(224)\n",
       "\\item 선릉(220)\n",
       "\\item 성수(211)\n",
       "\\item 시청(201)\n",
       "\\item 신답(245)\n",
       "\\item 신당(206)\n",
       "\\item 신대방(231)\n",
       "\\item 신도림(234)\n",
       "\\item 신림(230)\n",
       "\\item 신설동(246)\n",
       "\\item 신정네거리(249)\n",
       "\\item 신천(217)\n",
       "\\item 신촌(240)\n",
       "\\item 아현(242)\n",
       "\\item 양천구청(248)\n",
       "\\item 역삼(221)\n",
       "\\item 영등포구청(236)\n",
       "\\item 왕십리(성동구청)(208)\n",
       "\\item 용답(244)\n",
       "\\item 용두(250)\n",
       "\\item 을지로3가(203)\n",
       "\\item 을지로4가(204)\n",
       "\\item 을지로입구(202)\n",
       "\\item 이대(241)\n",
       "\\item 잠실(216)\n",
       "\\item 잠실나루(215)\n",
       "\\item 종합운동장(218)\n",
       "\\item 충정로(243)\n",
       "\\item 한양대(209)\n",
       "\\item 합정(238)\n",
       "\\item 홍대입구(239)\n",
       "\\item 가락시장(340)\n",
       "\\item 경복궁(317)\n",
       "\\item 경찰병원(341)\n",
       "\\item 고속터미널(329)\n",
       "\\item 교대(330)\n",
       "\\item 구파발(310)\n",
       "\\item 금호(324)\n",
       "\\item 남부터미널(331)\n",
       "\\item 녹번(313)\n",
       "\\item 대청(337)\n",
       "\\item 대치(335)\n",
       "\\item 도곡(334)\n",
       "\\item 독립문(316)\n",
       "\\item 동대입구(322)\n",
       "\\item 매봉(333)\n",
       "\\item 무악재(315)\n",
       "\\item 불광(312)\n",
       "\\item 수서(339)\n",
       "\\item 신사(327)\n",
       "\\item 안국(318)\n",
       "\\item 압구정(326)\n",
       "\\item 약수(323)\n",
       "\\item 양재(332)\n",
       "\\item 연신내(311)\n",
       "\\item 오금(342)\n",
       "\\item 옥수(325)\n",
       "\\item 을지로3가(320)\n",
       "\\item 일원(338)\n",
       "\\item 잠원(328)\n",
       "\\item 종로3가(319)\n",
       "\\item 지축(309)\n",
       "\\item 학여울(336)\n",
       "\\item 홍제(314)\n",
       "\\item 길음(417)\n",
       "\\item 남태령(434)\n",
       "\\item 노원(411)\n",
       "\\item 당고개(409)\n",
       "\\item 동대문(421)\n",
       "\\item 동대문역사문화공원(422)\n",
       "\\item 동작(431)\n",
       "\\item 명동(424)\n",
       "\\item 미아(415)\n",
       "\\item 미아사거리(416)\n",
       "\\item 사당(433)\n",
       "\\item 삼각지(428)\n",
       "\\item 상계(410)\n",
       "\\item 서울역(426)\n",
       "\\item 성신여대입구(418)\n",
       "\\item 수유(강북구청)(414)\n",
       "\\item 숙대입구(427)\n",
       "\\item 신용산(429)\n",
       "\\item 쌍문(413)\n",
       "\\item 이촌(430)\n",
       "\\item 창동(412)\n",
       "\\item 총신대입구(432)\n",
       "\\item 충무로(423)\n",
       "\\item 한성대입구(419)\n",
       "\\item 혜화(420)\n",
       "\\item 회현(425)\n",
       "\\end{enumerate*}\n"
      ],
      "text/markdown": [
       "1. 동대문(155)\n",
       "2. 동묘앞(159)\n",
       "3. 서울역(150)\n",
       "4. 시청(151)\n",
       "5. 신설동(156)\n",
       "6. 제기동(157)\n",
       "7. 종각(152)\n",
       "8. 종로3가(153)\n",
       "9. 종로5가(154)\n",
       "10. 청량리(지하)(158)\n",
       "11. 강남(222)\n",
       "12. 강변(214)\n",
       "13. 건대입구(212)\n",
       "14. 교대(223)\n",
       "15. 구로디지털단지(232)\n",
       "16. 구의(213)\n",
       "17. 낙성대(227)\n",
       "18. 당산(237)\n",
       "19. 대림(233)\n",
       "20. 도림천(247)\n",
       "21. 동대문역사문화공원(205)\n",
       "22. 뚝섬(210)\n",
       "23. 문래(235)\n",
       "24. 방배(225)\n",
       "25. 봉천(229)\n",
       "26. 사당(226)\n",
       "27. 삼성(219)\n",
       "28. 상왕십리(207)\n",
       "29. 서울대입구(228)\n",
       "30. 서초(224)\n",
       "31. 선릉(220)\n",
       "32. 성수(211)\n",
       "33. 시청(201)\n",
       "34. 신답(245)\n",
       "35. 신당(206)\n",
       "36. 신대방(231)\n",
       "37. 신도림(234)\n",
       "38. 신림(230)\n",
       "39. 신설동(246)\n",
       "40. 신정네거리(249)\n",
       "41. 신천(217)\n",
       "42. 신촌(240)\n",
       "43. 아현(242)\n",
       "44. 양천구청(248)\n",
       "45. 역삼(221)\n",
       "46. 영등포구청(236)\n",
       "47. 왕십리(성동구청)(208)\n",
       "48. 용답(244)\n",
       "49. 용두(250)\n",
       "50. 을지로3가(203)\n",
       "51. 을지로4가(204)\n",
       "52. 을지로입구(202)\n",
       "53. 이대(241)\n",
       "54. 잠실(216)\n",
       "55. 잠실나루(215)\n",
       "56. 종합운동장(218)\n",
       "57. 충정로(243)\n",
       "58. 한양대(209)\n",
       "59. 합정(238)\n",
       "60. 홍대입구(239)\n",
       "61. 가락시장(340)\n",
       "62. 경복궁(317)\n",
       "63. 경찰병원(341)\n",
       "64. 고속터미널(329)\n",
       "65. 교대(330)\n",
       "66. 구파발(310)\n",
       "67. 금호(324)\n",
       "68. 남부터미널(331)\n",
       "69. 녹번(313)\n",
       "70. 대청(337)\n",
       "71. 대치(335)\n",
       "72. 도곡(334)\n",
       "73. 독립문(316)\n",
       "74. 동대입구(322)\n",
       "75. 매봉(333)\n",
       "76. 무악재(315)\n",
       "77. 불광(312)\n",
       "78. 수서(339)\n",
       "79. 신사(327)\n",
       "80. 안국(318)\n",
       "81. 압구정(326)\n",
       "82. 약수(323)\n",
       "83. 양재(332)\n",
       "84. 연신내(311)\n",
       "85. 오금(342)\n",
       "86. 옥수(325)\n",
       "87. 을지로3가(320)\n",
       "88. 일원(338)\n",
       "89. 잠원(328)\n",
       "90. 종로3가(319)\n",
       "91. 지축(309)\n",
       "92. 학여울(336)\n",
       "93. 홍제(314)\n",
       "94. 길음(417)\n",
       "95. 남태령(434)\n",
       "96. 노원(411)\n",
       "97. 당고개(409)\n",
       "98. 동대문(421)\n",
       "99. 동대문역사문화공원(422)\n",
       "100. 동작(431)\n",
       "101. 명동(424)\n",
       "102. 미아(415)\n",
       "103. 미아사거리(416)\n",
       "104. 사당(433)\n",
       "105. 삼각지(428)\n",
       "106. 상계(410)\n",
       "107. 서울역(426)\n",
       "108. 성신여대입구(418)\n",
       "109. 수유(강북구청)(414)\n",
       "110. 숙대입구(427)\n",
       "111. 신용산(429)\n",
       "112. 쌍문(413)\n",
       "113. 이촌(430)\n",
       "114. 창동(412)\n",
       "115. 총신대입구(432)\n",
       "116. 충무로(423)\n",
       "117. 한성대입구(419)\n",
       "118. 혜화(420)\n",
       "119. 회현(425)\n",
       "\n",
       "\n"
      ],
      "text/plain": [
       "  [1] 동대문(155)             동묘앞(159)             서울역(150)            \n",
       "  [4] 시청(151)               신설동(156)             제기동(157)            \n",
       "  [7] 종각(152)               종로3가(153)            종로5가(154)           \n",
       " [10] 청량리(지하)(158)       강남(222)               강변(214)              \n",
       " [13] 건대입구(212)           교대(223)               구로디지털단지(232)    \n",
       " [16] 구의(213)               낙성대(227)             당산(237)              \n",
       " [19] 대림(233)               도림천(247)             동대문역사문화공원(205)\n",
       " [22] 뚝섬(210)               문래(235)               방배(225)              \n",
       " [25] 봉천(229)               사당(226)               삼성(219)              \n",
       " [28] 상왕십리(207)           서울대입구(228)         서초(224)              \n",
       " [31] 선릉(220)               성수(211)               시청(201)              \n",
       " [34] 신답(245)               신당(206)               신대방(231)            \n",
       " [37] 신도림(234)             신림(230)               신설동(246)            \n",
       " [40] 신정네거리(249)         신천(217)               신촌(240)              \n",
       " [43] 아현(242)               양천구청(248)           역삼(221)              \n",
       " [46] 영등포구청(236)         왕십리(성동구청)(208)   용답(244)              \n",
       " [49] 용두(250)               을지로3가(203)          을지로4가(204)         \n",
       " [52] 을지로입구(202)         이대(241)               잠실(216)              \n",
       " [55] 잠실나루(215)           종합운동장(218)         충정로(243)            \n",
       " [58] 한양대(209)             합정(238)               홍대입구(239)          \n",
       " [61] 가락시장(340)           경복궁(317)             경찰병원(341)          \n",
       " [64] 고속터미널(329)         교대(330)               구파발(310)            \n",
       " [67] 금호(324)               남부터미널(331)         녹번(313)              \n",
       " [70] 대청(337)               대치(335)               도곡(334)              \n",
       " [73] 독립문(316)             동대입구(322)           매봉(333)              \n",
       " [76] 무악재(315)             불광(312)               수서(339)              \n",
       " [79] 신사(327)               안국(318)               압구정(326)            \n",
       " [82] 약수(323)               양재(332)               연신내(311)            \n",
       " [85] 오금(342)               옥수(325)               을지로3가(320)         \n",
       " [88] 일원(338)               잠원(328)               종로3가(319)           \n",
       " [91] 지축(309)               학여울(336)             홍제(314)              \n",
       " [94] 길음(417)               남태령(434)             노원(411)              \n",
       " [97] 당고개(409)             동대문(421)             동대문역사문화공원(422)\n",
       "[100] 동작(431)               명동(424)               미아(415)              \n",
       "[103] 미아사거리(416)         사당(433)               삼각지(428)            \n",
       "[106] 상계(410)               서울역(426)             성신여대입구(418)      \n",
       "[109] 수유(강북구청)(414)     숙대입구(427)           신용산(429)            \n",
       "[112] 쌍문(413)               이촌(430)               창동(412)              \n",
       "[115] 총신대입구(432)         충무로(423)             한성대입구(419)        \n",
       "[118] 혜화(420)               회현(425)              \n",
       "119 Levels: 가락시장(340) 강남(222) 강변(214) 건대입구(212) ... 회현(425)"
      ]
     },
     "metadata": {},
     "output_type": "display_data"
    },
    {
     "data": {
      "text/html": [
       "11"
      ],
      "text/latex": [
       "11"
      ],
      "text/markdown": [
       "11"
      ],
      "text/plain": [
       "[1] 11"
      ]
     },
     "metadata": {},
     "output_type": "display_data"
    }
   ],
   "source": [
    "unique(subway$역명)\n",
    "grep( \"강남\", unique(subway$역명))"
   ]
  },
  {
   "cell_type": "markdown",
   "metadata": {},
   "source": [
    "### 역명 뒤에 붙은 숫자때문에 위치를 찾는 것임\n",
    "* 강남이라고 적혀 있으면 좋은데 강남(222) 이렇게 적혀 있자나 그래서 정확히 알수 없으니까 grep으로 위치를파악해서 \n",
    "* 해당 위치에 해당되는 역명 출력할려고.."
   ]
  },
  {
   "cell_type": "markdown",
   "metadata": {},
   "source": [
    "# 강남"
   ]
  },
  {
   "cell_type": "code",
   "execution_count": 40,
   "metadata": {},
   "outputs": [
    {
     "data": {
      "text/html": [
       "강남(222)"
      ],
      "text/latex": [
       "강남(222)"
      ],
      "text/markdown": [
       "강남(222)"
      ],
      "text/plain": [
       "[1] 강남(222)\n",
       "119 Levels: 가락시장(340) 강남(222) 강변(214) 건대입구(212) ... 회현(425)"
      ]
     },
     "metadata": {},
     "output_type": "display_data"
    }
   ],
   "source": [
    "unique(subway$역명)[11]"
   ]
  },
  {
   "cell_type": "markdown",
   "metadata": {},
   "source": [
    "* 강남이 32번째 존재한다고 위에서 알려줬기 때문에 32번째 위치의 값을 출력해보니 강남(222)가 출력되었다. \n",
    "* 여기서 우리는 강남역이 강남(222)라는 것을 알게되었다. 이제부터 이 역명을 사용할 것이다"
   ]
  },
  {
   "cell_type": "code",
   "execution_count": 41,
   "metadata": {},
   "outputs": [
    {
     "data": {
      "text/html": [
       "<table>\n",
       "<thead><tr><th scope=col>역명</th><th scope=col>날짜</th><th scope=col>구분</th><th scope=col>X05.06</th><th scope=col>X06.07</th><th scope=col>X07.08</th><th scope=col>X08.09</th><th scope=col>X09.10</th><th scope=col>X10.11</th><th scope=col>X11.12</th><th scope=col>...</th><th scope=col>X16.17</th><th scope=col>X17.18</th><th scope=col>X18.19</th><th scope=col>X19.20</th><th scope=col>X20.21</th><th scope=col>X21.22</th><th scope=col>X22.23</th><th scope=col>X23.24</th><th scope=col>X00.01</th><th scope=col>X01.02</th></tr></thead>\n",
       "<tbody>\n",
       "\t<tr><td>동대문(155)</td><td>2016-01-01 </td><td>승차       </td><td>147        </td><td>168        </td><td>170        </td><td>293        </td><td>479        </td><td>543        </td><td>625        </td><td>...        </td><td>1034       </td><td>1065       </td><td>625        </td><td>614        </td><td>475        </td><td>414        </td><td>291        </td><td>138        </td><td>  6        </td><td>0          </td></tr>\n",
       "\t<tr><td>동대문(155)</td><td>2016-01-01 </td><td>하차       </td><td> 31        </td><td>164        </td><td>146        </td><td>164        </td><td>354        </td><td>487        </td><td>901        </td><td>...        </td><td>1167       </td><td>1158       </td><td>869        </td><td>827        </td><td>660        </td><td>614        </td><td>471        </td><td>348        </td><td>122        </td><td>0          </td></tr>\n",
       "\t<tr><td>동묘앞(159)</td><td>2016-01-01 </td><td>승차       </td><td> 37        </td><td> 65        </td><td> 66        </td><td>110        </td><td>161        </td><td>245        </td><td>344        </td><td>...        </td><td>1129       </td><td> 975       </td><td>404        </td><td>198        </td><td>139        </td><td>136        </td><td> 81        </td><td> 52        </td><td>  2        </td><td>0          </td></tr>\n",
       "</tbody>\n",
       "</table>\n"
      ],
      "text/latex": [
       "\\begin{tabular}{r|llllllllllllllllllllllll}\n",
       " 역명 & 날짜 & 구분 & X05.06 & X06.07 & X07.08 & X08.09 & X09.10 & X10.11 & X11.12 & ... & X16.17 & X17.18 & X18.19 & X19.20 & X20.21 & X21.22 & X22.23 & X23.24 & X00.01 & X01.02\\\\\n",
       "\\hline\n",
       "\t 동대문(155) & 2016-01-01  & 승차        & 147         & 168         & 170         & 293         & 479         & 543         & 625         & ...         & 1034        & 1065        & 625         & 614         & 475         & 414         & 291         & 138         &   6         & 0          \\\\\n",
       "\t 동대문(155) & 2016-01-01  & 하차        &  31         & 164         & 146         & 164         & 354         & 487         & 901         & ...         & 1167        & 1158        & 869         & 827         & 660         & 614         & 471         & 348         & 122         & 0          \\\\\n",
       "\t 동묘앞(159) & 2016-01-01  & 승차        &  37         &  65         &  66         & 110         & 161         & 245         & 344         & ...         & 1129        &  975        & 404         & 198         & 139         & 136         &  81         &  52         &   2         & 0          \\\\\n",
       "\\end{tabular}\n"
      ],
      "text/markdown": [
       "\n",
       "역명 | 날짜 | 구분 | X05.06 | X06.07 | X07.08 | X08.09 | X09.10 | X10.11 | X11.12 | ... | X16.17 | X17.18 | X18.19 | X19.20 | X20.21 | X21.22 | X22.23 | X23.24 | X00.01 | X01.02 | \n",
       "|---|---|---|\n",
       "| 동대문(155) | 2016-01-01  | 승차        | 147         | 168         | 170         | 293         | 479         | 543         | 625         | ...         | 1034        | 1065        | 625         | 614         | 475         | 414         | 291         | 138         |   6         | 0           | \n",
       "| 동대문(155) | 2016-01-01  | 하차        |  31         | 164         | 146         | 164         | 354         | 487         | 901         | ...         | 1167        | 1158        | 869         | 827         | 660         | 614         | 471         | 348         | 122         | 0           | \n",
       "| 동묘앞(159) | 2016-01-01  | 승차        |  37         |  65         |  66         | 110         | 161         | 245         | 344         | ...         | 1129        |  975        | 404         | 198         | 139         | 136         |  81         |  52         |   2         | 0           | \n",
       "\n",
       "\n"
      ],
      "text/plain": [
       "  역명        날짜       구분 X05.06 X06.07 X07.08 X08.09 X09.10 X10.11 X11.12\n",
       "1 동대문(155) 2016-01-01 승차 147    168    170    293    479    543    625   \n",
       "2 동대문(155) 2016-01-01 하차  31    164    146    164    354    487    901   \n",
       "3 동묘앞(159) 2016-01-01 승차  37     65     66    110    161    245    344   \n",
       "  ... X16.17 X17.18 X18.19 X19.20 X20.21 X21.22 X22.23 X23.24 X00.01 X01.02\n",
       "1 ... 1034   1065   625    614    475    414    291    138      6    0     \n",
       "2 ... 1167   1158   869    827    660    614    471    348    122    0     \n",
       "3 ... 1129    975   404    198    139    136     81     52      2    0     "
      ]
     },
     "metadata": {},
     "output_type": "display_data"
    }
   ],
   "source": [
    "head(subway,3)"
   ]
  },
  {
   "cell_type": "markdown",
   "metadata": {},
   "source": [
    "* 강남만 따로 추출해보자"
   ]
  },
  {
   "cell_type": "code",
   "execution_count": 42,
   "metadata": {},
   "outputs": [],
   "source": [
    "kangnam <- subway[ subway$역명 == \"강남(222)\", ]"
   ]
  },
  {
   "cell_type": "code",
   "execution_count": 43,
   "metadata": {},
   "outputs": [
    {
     "data": {
      "text/html": [
       "<ol class=list-inline>\n",
       "\t<li>732</li>\n",
       "\t<li>24</li>\n",
       "</ol>\n"
      ],
      "text/latex": [
       "\\begin{enumerate*}\n",
       "\\item 732\n",
       "\\item 24\n",
       "\\end{enumerate*}\n"
      ],
      "text/markdown": [
       "1. 732\n",
       "2. 24\n",
       "\n",
       "\n"
      ],
      "text/plain": [
       "[1] 732  24"
      ]
     },
     "metadata": {},
     "output_type": "display_data"
    }
   ],
   "source": [
    "dim(kangnam)"
   ]
  },
  {
   "cell_type": "code",
   "execution_count": 44,
   "metadata": {},
   "outputs": [
    {
     "data": {
      "text/html": [
       "<table>\n",
       "<thead><tr><th></th><th scope=col>역명</th><th scope=col>날짜</th><th scope=col>구분</th><th scope=col>X05.06</th><th scope=col>X06.07</th><th scope=col>X07.08</th><th scope=col>X08.09</th><th scope=col>X09.10</th><th scope=col>X10.11</th><th scope=col>X11.12</th><th scope=col>...</th><th scope=col>X16.17</th><th scope=col>X17.18</th><th scope=col>X18.19</th><th scope=col>X19.20</th><th scope=col>X20.21</th><th scope=col>X21.22</th><th scope=col>X22.23</th><th scope=col>X23.24</th><th scope=col>X00.01</th><th scope=col>X01.02</th></tr></thead>\n",
       "<tbody>\n",
       "\t<tr><th scope=row>21</th><td>강남(222) </td><td>2016-01-01</td><td>승차      </td><td>1381      </td><td>1133      </td><td> 671      </td><td> 677      </td><td> 699      </td><td> 932      </td><td>1048      </td><td>...       </td><td>2716      </td><td>2951      </td><td>2902      </td><td>2694      </td><td>2863      </td><td>3734      </td><td>3919      </td><td>2273      </td><td>0         </td><td>0         </td></tr>\n",
       "\t<tr><th scope=row>22</th><td>강남(222) </td><td>2016-01-01</td><td>하차      </td><td> 174      </td><td> 757      </td><td> 765      </td><td>1201      </td><td>1984      </td><td>1741      </td><td>1836      </td><td>...       </td><td>3376      </td><td>3683      </td><td>3616      </td><td>2853      </td><td>2164      </td><td>1820      </td><td>1526      </td><td>1036      </td><td>2         </td><td>0         </td></tr>\n",
       "\t<tr><th scope=row>259</th><td>강남(222) </td><td>2016-01-02</td><td>승차      </td><td> 516      </td><td> 698      </td><td> 646      </td><td> 903      </td><td>1341      </td><td>1732      </td><td>2269      </td><td>...       </td><td>5739      </td><td>6334      </td><td>5294      </td><td>4046      </td><td>4306      </td><td>5471      </td><td>6194      </td><td>3658      </td><td>0         </td><td>0         </td></tr>\n",
       "\t<tr><th scope=row>260</th><td>강남(222) </td><td>2016-01-02</td><td>하차      </td><td> 250      </td><td> 829      </td><td>1137      </td><td>2684      </td><td>4896      </td><td>4152      </td><td>3920      </td><td>...       </td><td>5195      </td><td>6129      </td><td>6279      </td><td>4093      </td><td>2939      </td><td>2623      </td><td>1966      </td><td>1687      </td><td>5         </td><td>0         </td></tr>\n",
       "\t<tr><th scope=row>497</th><td>강남(222) </td><td>2016-01-03</td><td>승차      </td><td> 734      </td><td> 711      </td><td> 590      </td><td> 703      </td><td>1076      </td><td>1092      </td><td>1503      </td><td>...       </td><td>3972      </td><td>4210      </td><td>4039      </td><td>3495      </td><td>3855      </td><td>4725      </td><td>4295      </td><td>2013      </td><td>0         </td><td>0         </td></tr>\n",
       "\t<tr><th scope=row>498</th><td>강남(222) </td><td>2016-01-03</td><td>하차      </td><td> 122      </td><td> 601      </td><td> 740      </td><td>1412      </td><td>2723      </td><td>2424      </td><td>2845      </td><td>...       </td><td>4092      </td><td>4389      </td><td>3970      </td><td>2834      </td><td>2076      </td><td>1700      </td><td>1223      </td><td> 787      </td><td>0         </td><td>0         </td></tr>\n",
       "</tbody>\n",
       "</table>\n"
      ],
      "text/latex": [
       "\\begin{tabular}{r|llllllllllllllllllllllll}\n",
       "  & 역명 & 날짜 & 구분 & X05.06 & X06.07 & X07.08 & X08.09 & X09.10 & X10.11 & X11.12 & ... & X16.17 & X17.18 & X18.19 & X19.20 & X20.21 & X21.22 & X22.23 & X23.24 & X00.01 & X01.02\\\\\n",
       "\\hline\n",
       "\t21 & 강남(222)  & 2016-01-01 & 승차       & 1381       & 1133       &  671       &  677       &  699       &  932       & 1048       & ...        & 2716       & 2951       & 2902       & 2694       & 2863       & 3734       & 3919       & 2273       & 0          & 0         \\\\\n",
       "\t22 & 강남(222)  & 2016-01-01 & 하차       &  174       &  757       &  765       & 1201       & 1984       & 1741       & 1836       & ...        & 3376       & 3683       & 3616       & 2853       & 2164       & 1820       & 1526       & 1036       & 2          & 0         \\\\\n",
       "\t259 & 강남(222)  & 2016-01-02 & 승차       &  516       &  698       &  646       &  903       & 1341       & 1732       & 2269       & ...        & 5739       & 6334       & 5294       & 4046       & 4306       & 5471       & 6194       & 3658       & 0          & 0         \\\\\n",
       "\t260 & 강남(222)  & 2016-01-02 & 하차       &  250       &  829       & 1137       & 2684       & 4896       & 4152       & 3920       & ...        & 5195       & 6129       & 6279       & 4093       & 2939       & 2623       & 1966       & 1687       & 5          & 0         \\\\\n",
       "\t497 & 강남(222)  & 2016-01-03 & 승차       &  734       &  711       &  590       &  703       & 1076       & 1092       & 1503       & ...        & 3972       & 4210       & 4039       & 3495       & 3855       & 4725       & 4295       & 2013       & 0          & 0         \\\\\n",
       "\t498 & 강남(222)  & 2016-01-03 & 하차       &  122       &  601       &  740       & 1412       & 2723       & 2424       & 2845       & ...        & 4092       & 4389       & 3970       & 2834       & 2076       & 1700       & 1223       &  787       & 0          & 0         \\\\\n",
       "\\end{tabular}\n"
      ],
      "text/markdown": [
       "\n",
       "| <!--/--> | 역명 | 날짜 | 구분 | X05.06 | X06.07 | X07.08 | X08.09 | X09.10 | X10.11 | X11.12 | ... | X16.17 | X17.18 | X18.19 | X19.20 | X20.21 | X21.22 | X22.23 | X23.24 | X00.01 | X01.02 | \n",
       "|---|---|---|---|---|---|\n",
       "| 21 | 강남(222)  | 2016-01-01 | 승차       | 1381       | 1133       |  671       |  677       |  699       |  932       | 1048       | ...        | 2716       | 2951       | 2902       | 2694       | 2863       | 3734       | 3919       | 2273       | 0          | 0          | \n",
       "| 22 | 강남(222)  | 2016-01-01 | 하차       |  174       |  757       |  765       | 1201       | 1984       | 1741       | 1836       | ...        | 3376       | 3683       | 3616       | 2853       | 2164       | 1820       | 1526       | 1036       | 2          | 0          | \n",
       "| 259 | 강남(222)  | 2016-01-02 | 승차       |  516       |  698       |  646       |  903       | 1341       | 1732       | 2269       | ...        | 5739       | 6334       | 5294       | 4046       | 4306       | 5471       | 6194       | 3658       | 0          | 0          | \n",
       "| 260 | 강남(222)  | 2016-01-02 | 하차       |  250       |  829       | 1137       | 2684       | 4896       | 4152       | 3920       | ...        | 5195       | 6129       | 6279       | 4093       | 2939       | 2623       | 1966       | 1687       | 5          | 0          | \n",
       "| 497 | 강남(222)  | 2016-01-03 | 승차       |  734       |  711       |  590       |  703       | 1076       | 1092       | 1503       | ...        | 3972       | 4210       | 4039       | 3495       | 3855       | 4725       | 4295       | 2013       | 0          | 0          | \n",
       "| 498 | 강남(222)  | 2016-01-03 | 하차       |  122       |  601       |  740       | 1412       | 2723       | 2424       | 2845       | ...        | 4092       | 4389       | 3970       | 2834       | 2076       | 1700       | 1223       |  787       | 0          | 0          | \n",
       "\n",
       "\n"
      ],
      "text/plain": [
       "    역명      날짜       구분 X05.06 X06.07 X07.08 X08.09 X09.10 X10.11 X11.12\n",
       "21  강남(222) 2016-01-01 승차 1381   1133    671    677    699    932   1048  \n",
       "22  강남(222) 2016-01-01 하차  174    757    765   1201   1984   1741   1836  \n",
       "259 강남(222) 2016-01-02 승차  516    698    646    903   1341   1732   2269  \n",
       "260 강남(222) 2016-01-02 하차  250    829   1137   2684   4896   4152   3920  \n",
       "497 강남(222) 2016-01-03 승차  734    711    590    703   1076   1092   1503  \n",
       "498 강남(222) 2016-01-03 하차  122    601    740   1412   2723   2424   2845  \n",
       "    ... X16.17 X17.18 X18.19 X19.20 X20.21 X21.22 X22.23 X23.24 X00.01 X01.02\n",
       "21  ... 2716   2951   2902   2694   2863   3734   3919   2273   0      0     \n",
       "22  ... 3376   3683   3616   2853   2164   1820   1526   1036   2      0     \n",
       "259 ... 5739   6334   5294   4046   4306   5471   6194   3658   0      0     \n",
       "260 ... 5195   6129   6279   4093   2939   2623   1966   1687   5      0     \n",
       "497 ... 3972   4210   4039   3495   3855   4725   4295   2013   0      0     \n",
       "498 ... 4092   4389   3970   2834   2076   1700   1223    787   0      0     "
      ]
     },
     "metadata": {},
     "output_type": "display_data"
    }
   ],
   "source": [
    "head(kangnam)\n"
   ]
  },
  {
   "cell_type": "markdown",
   "metadata": {},
   "source": [
    "* apply함수는 첫번째 인수는 대상들 두번째 인수는 1을 행, 2는 열로, 세번째는 어떤 함수를 적용할 것인지 설정한다.\n",
    "* 아래는 4번째 x05.06~ 마지막 x01.02까지 모든 행의 값을 더해서 sum이라는 컬럼을 생성하고 합계를 입력"
   ]
  },
  {
   "cell_type": "code",
   "execution_count": 45,
   "metadata": {
    "scrolled": false
   },
   "outputs": [],
   "source": [
    "kangnam$sum <- apply(kangnam[ , c(4:length(kangnam))], 1, sum)"
   ]
  },
  {
   "cell_type": "code",
   "execution_count": 46,
   "metadata": {},
   "outputs": [
    {
     "data": {
      "text/html": [
       "<table>\n",
       "<thead><tr><th></th><th scope=col>역명</th><th scope=col>날짜</th><th scope=col>구분</th><th scope=col>X05.06</th><th scope=col>X06.07</th><th scope=col>X07.08</th><th scope=col>X08.09</th><th scope=col>X09.10</th><th scope=col>X10.11</th><th scope=col>X11.12</th><th scope=col>...</th><th scope=col>X17.18</th><th scope=col>X18.19</th><th scope=col>X19.20</th><th scope=col>X20.21</th><th scope=col>X21.22</th><th scope=col>X22.23</th><th scope=col>X23.24</th><th scope=col>X00.01</th><th scope=col>X01.02</th><th scope=col>sum</th></tr></thead>\n",
       "<tbody>\n",
       "\t<tr><th scope=row>21</th><td>강남(222) </td><td>2016-01-01</td><td>승차      </td><td>1381      </td><td>1133      </td><td> 671      </td><td> 677      </td><td> 699      </td><td> 932      </td><td>1048      </td><td>...       </td><td>2951      </td><td>2902      </td><td>2694      </td><td>2863      </td><td>3734      </td><td>3919      </td><td>2273      </td><td>0         </td><td>0         </td><td>37829     </td></tr>\n",
       "\t<tr><th scope=row>22</th><td>강남(222) </td><td>2016-01-01</td><td>하차      </td><td> 174      </td><td> 757      </td><td> 765      </td><td>1201      </td><td>1984      </td><td>1741      </td><td>1836      </td><td>...       </td><td>3683      </td><td>3616      </td><td>2853      </td><td>2164      </td><td>1820      </td><td>1526      </td><td>1036      </td><td>2         </td><td>0         </td><td>39281     </td></tr>\n",
       "\t<tr><th scope=row>259</th><td>강남(222) </td><td>2016-01-02</td><td>승차      </td><td> 516      </td><td> 698      </td><td> 646      </td><td> 903      </td><td>1341      </td><td>1732      </td><td>2269      </td><td>...       </td><td>6334      </td><td>5294      </td><td>4046      </td><td>4306      </td><td>5471      </td><td>6194      </td><td>3658      </td><td>0         </td><td>0         </td><td>64926     </td></tr>\n",
       "\t<tr><th scope=row>260</th><td>강남(222) </td><td>2016-01-02</td><td>하차      </td><td> 250      </td><td> 829      </td><td>1137      </td><td>2684      </td><td>4896      </td><td>4152      </td><td>3920      </td><td>...       </td><td>6129      </td><td>6279      </td><td>4093      </td><td>2939      </td><td>2623      </td><td>1966      </td><td>1687      </td><td>5         </td><td>0         </td><td>70961     </td></tr>\n",
       "\t<tr><th scope=row>497</th><td>강남(222) </td><td>2016-01-03</td><td>승차      </td><td> 734      </td><td> 711      </td><td> 590      </td><td> 703      </td><td>1076      </td><td>1092      </td><td>1503      </td><td>...       </td><td>4210      </td><td>4039      </td><td>3495      </td><td>3855      </td><td>4725      </td><td>4295      </td><td>2013      </td><td>0         </td><td>0         </td><td>47465     </td></tr>\n",
       "\t<tr><th scope=row>498</th><td>강남(222) </td><td>2016-01-03</td><td>하차      </td><td> 122      </td><td> 601      </td><td> 740      </td><td>1412      </td><td>2723      </td><td>2424      </td><td>2845      </td><td>...       </td><td>4389      </td><td>3970      </td><td>2834      </td><td>2076      </td><td>1700      </td><td>1223      </td><td> 787      </td><td>0         </td><td>0         </td><td>48185     </td></tr>\n",
       "</tbody>\n",
       "</table>\n"
      ],
      "text/latex": [
       "\\begin{tabular}{r|lllllllllllllllllllllllll}\n",
       "  & 역명 & 날짜 & 구분 & X05.06 & X06.07 & X07.08 & X08.09 & X09.10 & X10.11 & X11.12 & ... & X17.18 & X18.19 & X19.20 & X20.21 & X21.22 & X22.23 & X23.24 & X00.01 & X01.02 & sum\\\\\n",
       "\\hline\n",
       "\t21 & 강남(222)  & 2016-01-01 & 승차       & 1381       & 1133       &  671       &  677       &  699       &  932       & 1048       & ...        & 2951       & 2902       & 2694       & 2863       & 3734       & 3919       & 2273       & 0          & 0          & 37829     \\\\\n",
       "\t22 & 강남(222)  & 2016-01-01 & 하차       &  174       &  757       &  765       & 1201       & 1984       & 1741       & 1836       & ...        & 3683       & 3616       & 2853       & 2164       & 1820       & 1526       & 1036       & 2          & 0          & 39281     \\\\\n",
       "\t259 & 강남(222)  & 2016-01-02 & 승차       &  516       &  698       &  646       &  903       & 1341       & 1732       & 2269       & ...        & 6334       & 5294       & 4046       & 4306       & 5471       & 6194       & 3658       & 0          & 0          & 64926     \\\\\n",
       "\t260 & 강남(222)  & 2016-01-02 & 하차       &  250       &  829       & 1137       & 2684       & 4896       & 4152       & 3920       & ...        & 6129       & 6279       & 4093       & 2939       & 2623       & 1966       & 1687       & 5          & 0          & 70961     \\\\\n",
       "\t497 & 강남(222)  & 2016-01-03 & 승차       &  734       &  711       &  590       &  703       & 1076       & 1092       & 1503       & ...        & 4210       & 4039       & 3495       & 3855       & 4725       & 4295       & 2013       & 0          & 0          & 47465     \\\\\n",
       "\t498 & 강남(222)  & 2016-01-03 & 하차       &  122       &  601       &  740       & 1412       & 2723       & 2424       & 2845       & ...        & 4389       & 3970       & 2834       & 2076       & 1700       & 1223       &  787       & 0          & 0          & 48185     \\\\\n",
       "\\end{tabular}\n"
      ],
      "text/markdown": [
       "\n",
       "| <!--/--> | 역명 | 날짜 | 구분 | X05.06 | X06.07 | X07.08 | X08.09 | X09.10 | X10.11 | X11.12 | ... | X17.18 | X18.19 | X19.20 | X20.21 | X21.22 | X22.23 | X23.24 | X00.01 | X01.02 | sum | \n",
       "|---|---|---|---|---|---|\n",
       "| 21 | 강남(222)  | 2016-01-01 | 승차       | 1381       | 1133       |  671       |  677       |  699       |  932       | 1048       | ...        | 2951       | 2902       | 2694       | 2863       | 3734       | 3919       | 2273       | 0          | 0          | 37829      | \n",
       "| 22 | 강남(222)  | 2016-01-01 | 하차       |  174       |  757       |  765       | 1201       | 1984       | 1741       | 1836       | ...        | 3683       | 3616       | 2853       | 2164       | 1820       | 1526       | 1036       | 2          | 0          | 39281      | \n",
       "| 259 | 강남(222)  | 2016-01-02 | 승차       |  516       |  698       |  646       |  903       | 1341       | 1732       | 2269       | ...        | 6334       | 5294       | 4046       | 4306       | 5471       | 6194       | 3658       | 0          | 0          | 64926      | \n",
       "| 260 | 강남(222)  | 2016-01-02 | 하차       |  250       |  829       | 1137       | 2684       | 4896       | 4152       | 3920       | ...        | 6129       | 6279       | 4093       | 2939       | 2623       | 1966       | 1687       | 5          | 0          | 70961      | \n",
       "| 497 | 강남(222)  | 2016-01-03 | 승차       |  734       |  711       |  590       |  703       | 1076       | 1092       | 1503       | ...        | 4210       | 4039       | 3495       | 3855       | 4725       | 4295       | 2013       | 0          | 0          | 47465      | \n",
       "| 498 | 강남(222)  | 2016-01-03 | 하차       |  122       |  601       |  740       | 1412       | 2723       | 2424       | 2845       | ...        | 4389       | 3970       | 2834       | 2076       | 1700       | 1223       |  787       | 0          | 0          | 48185      | \n",
       "\n",
       "\n"
      ],
      "text/plain": [
       "    역명      날짜       구분 X05.06 X06.07 X07.08 X08.09 X09.10 X10.11 X11.12\n",
       "21  강남(222) 2016-01-01 승차 1381   1133    671    677    699    932   1048  \n",
       "22  강남(222) 2016-01-01 하차  174    757    765   1201   1984   1741   1836  \n",
       "259 강남(222) 2016-01-02 승차  516    698    646    903   1341   1732   2269  \n",
       "260 강남(222) 2016-01-02 하차  250    829   1137   2684   4896   4152   3920  \n",
       "497 강남(222) 2016-01-03 승차  734    711    590    703   1076   1092   1503  \n",
       "498 강남(222) 2016-01-03 하차  122    601    740   1412   2723   2424   2845  \n",
       "    ... X17.18 X18.19 X19.20 X20.21 X21.22 X22.23 X23.24 X00.01 X01.02 sum  \n",
       "21  ... 2951   2902   2694   2863   3734   3919   2273   0      0      37829\n",
       "22  ... 3683   3616   2853   2164   1820   1526   1036   2      0      39281\n",
       "259 ... 6334   5294   4046   4306   5471   6194   3658   0      0      64926\n",
       "260 ... 6129   6279   4093   2939   2623   1966   1687   5      0      70961\n",
       "497 ... 4210   4039   3495   3855   4725   4295   2013   0      0      47465\n",
       "498 ... 4389   3970   2834   2076   1700   1223    787   0      0      48185"
      ]
     },
     "metadata": {},
     "output_type": "display_data"
    }
   ],
   "source": [
    "head(kangnam)"
   ]
  },
  {
   "cell_type": "markdown",
   "metadata": {},
   "source": [
    "* 위의 데이터 프레임을 보니 첫 컬럼이 이상하다.\n",
    "* colnames() 함수를 통해서 확인"
   ]
  },
  {
   "cell_type": "markdown",
   "metadata": {},
   "source": [
    "### 강남 테스트위해서\n",
    "* substr()를 사용하여 월 컬럼을 생성한다."
   ]
  },
  {
   "cell_type": "code",
   "execution_count": 47,
   "metadata": {},
   "outputs": [
    {
     "name": "stderr",
     "output_type": "stream",
     "text": [
      "Warning message:\n",
      "\"package 'bindrcpp' was built under R version 3.4.4\""
     ]
    }
   ],
   "source": [
    "kangnam <- kangnam %>% \n",
    "mutate( 월 = substr(kangnam$날짜, 1, 7))"
   ]
  },
  {
   "cell_type": "markdown",
   "metadata": {
    "collapsed": true
   },
   "source": [
    "* 월별 합계를 계산한다."
   ]
  },
  {
   "cell_type": "code",
   "execution_count": 48,
   "metadata": {},
   "outputs": [],
   "source": [
    "kangnam.graph <- kangnam %>% group_by(월) %>% summarise( Month.Total = sum(sum))"
   ]
  },
  {
   "cell_type": "code",
   "execution_count": 53,
   "metadata": {},
   "outputs": [
    {
     "data": {
      "text/html": [
       "<table>\n",
       "<thead><tr><th scope=col>월</th><th scope=col>Month.Total</th></tr></thead>\n",
       "<tbody>\n",
       "\t<tr><td>2016-01</td><td>6565737</td></tr>\n",
       "\t<tr><td>2016-02</td><td>5755230</td></tr>\n",
       "\t<tr><td>2016-03</td><td>6308157</td></tr>\n",
       "\t<tr><td>2016-04</td><td>5856535</td></tr>\n",
       "\t<tr><td>2016-05</td><td>5919827</td></tr>\n",
       "\t<tr><td>2016-06</td><td>5826363</td></tr>\n",
       "\t<tr><td>2016-07</td><td>6788786</td></tr>\n",
       "\t<tr><td>2016-08</td><td>6355968</td></tr>\n",
       "\t<tr><td>2016-09</td><td>5460894</td></tr>\n",
       "\t<tr><td>2016-10</td><td>5851270</td></tr>\n",
       "\t<tr><td>2016-11</td><td>5929904</td></tr>\n",
       "\t<tr><td>2016-12</td><td>6371249</td></tr>\n",
       "</tbody>\n",
       "</table>\n"
      ],
      "text/latex": [
       "\\begin{tabular}{r|ll}\n",
       " 월 & Month.Total\\\\\n",
       "\\hline\n",
       "\t 2016-01 & 6565737\\\\\n",
       "\t 2016-02 & 5755230\\\\\n",
       "\t 2016-03 & 6308157\\\\\n",
       "\t 2016-04 & 5856535\\\\\n",
       "\t 2016-05 & 5919827\\\\\n",
       "\t 2016-06 & 5826363\\\\\n",
       "\t 2016-07 & 6788786\\\\\n",
       "\t 2016-08 & 6355968\\\\\n",
       "\t 2016-09 & 5460894\\\\\n",
       "\t 2016-10 & 5851270\\\\\n",
       "\t 2016-11 & 5929904\\\\\n",
       "\t 2016-12 & 6371249\\\\\n",
       "\\end{tabular}\n"
      ],
      "text/markdown": [
       "\n",
       "월 | Month.Total | \n",
       "|---|---|---|---|---|---|---|---|---|---|---|---|\n",
       "| 2016-01 | 6565737 | \n",
       "| 2016-02 | 5755230 | \n",
       "| 2016-03 | 6308157 | \n",
       "| 2016-04 | 5856535 | \n",
       "| 2016-05 | 5919827 | \n",
       "| 2016-06 | 5826363 | \n",
       "| 2016-07 | 6788786 | \n",
       "| 2016-08 | 6355968 | \n",
       "| 2016-09 | 5460894 | \n",
       "| 2016-10 | 5851270 | \n",
       "| 2016-11 | 5929904 | \n",
       "| 2016-12 | 6371249 | \n",
       "\n",
       "\n"
      ],
      "text/plain": [
       "   월      Month.Total\n",
       "1  2016-01 6565737    \n",
       "2  2016-02 5755230    \n",
       "3  2016-03 6308157    \n",
       "4  2016-04 5856535    \n",
       "5  2016-05 5919827    \n",
       "6  2016-06 5826363    \n",
       "7  2016-07 6788786    \n",
       "8  2016-08 6355968    \n",
       "9  2016-09 5460894    \n",
       "10 2016-10 5851270    \n",
       "11 2016-11 5929904    \n",
       "12 2016-12 6371249    "
      ]
     },
     "metadata": {},
     "output_type": "display_data"
    }
   ],
   "source": [
    "kangnam.graph"
   ]
  },
  {
   "cell_type": "markdown",
   "metadata": {},
   "source": [
    "* 기본 그래프로도 그려보자"
   ]
  },
  {
   "cell_type": "code",
   "execution_count": 49,
   "metadata": {},
   "outputs": [
    {
     "data": {
      "image/png": "[encoded data removed]",
      "text/plain": [
       "plot without title"
      ]
     },
     "metadata": {},
     "output_type": "display_data"
    }
   ],
   "source": [
    "barplot(kangnam.graph$Month.Total, names.arg = kangnam.graph$월)"
   ]
  },
  {
   "cell_type": "markdown",
   "metadata": {},
   "source": [
    "* ggplot으로 그려보자"
   ]
  },
  {
   "cell_type": "code",
   "execution_count": 50,
   "metadata": {},
   "outputs": [
    {
     "data": {},
     "metadata": {},
     "output_type": "display_data"
    },
    {
     "data": {
      "image/png": "[encoded data removed]",
      "text/plain": [
       "plot without title"
      ]
     },
     "metadata": {},
     "output_type": "display_data"
    }
   ],
   "source": [
    "ggplot(kangnam.graph, aes(x=월, y=Month.Total)) +\n",
    "geom_bar(stat='identity') +\n",
    "theme(axis.text.x=element_text(angle=0))"
   ]
  },
  {
   "cell_type": "markdown",
   "metadata": {},
   "source": [
    "## 지수형을 일반형으로\n",
    "* 위의 숫자가 지수형으로 표시되어 익숙하지 않은 일반인은 힘들다. \n",
    "* 정수형으로 변환해서 확인해보자"
   ]
  },
  {
   "cell_type": "code",
   "execution_count": 51,
   "metadata": {},
   "outputs": [],
   "source": [
    "# 자리수 옵션으로 일반적인 숫자로 변신\n",
    "options(\"scipen\" = 100)"
   ]
  },
  {
   "cell_type": "code",
   "execution_count": 52,
   "metadata": {},
   "outputs": [
    {
     "data": {},
     "metadata": {},
     "output_type": "display_data"
    },
    {
     "data": {
      "image/png": "[encoded data removed]",
      "text/plain": [
       "plot without title"
      ]
     },
     "metadata": {},
     "output_type": "display_data"
    }
   ],
   "source": [
    "ggplot(kangnam.graph, aes(x=월, y=Month.Total)) +\n",
    "geom_bar(stat='identity') +\n",
    "theme(axis.text.x=element_text(angle=0))"
   ]
  },
  {
   "cell_type": "markdown",
   "metadata": {},
   "source": [
    "# 승차, 하차 구분\n",
    "* 승차, 하자를 구분해서 그려보자"
   ]
  },
  {
   "cell_type": "code",
   "execution_count": 60,
   "metadata": {
    "collapsed": true
   },
   "outputs": [],
   "source": [
    "kangnam.graph.2 <- kangnam %>% group_by(월, 구분) %>% summarise( Month.Total = sum(sum))"
   ]
  },
  {
   "cell_type": "code",
   "execution_count": 61,
   "metadata": {},
   "outputs": [
    {
     "data": {
      "text/html": [
       "<table>\n",
       "<thead><tr><th scope=col>월</th><th scope=col>구분</th><th scope=col>Month.Total</th></tr></thead>\n",
       "<tbody>\n",
       "\t<tr><td>2016-01</td><td>승차   </td><td>3257354</td></tr>\n",
       "\t<tr><td>2016-01</td><td>하차   </td><td>3308383</td></tr>\n",
       "\t<tr><td>2016-02</td><td>승차   </td><td>2857897</td></tr>\n",
       "\t<tr><td>2016-02</td><td>하차   </td><td>2897333</td></tr>\n",
       "\t<tr><td>2016-03</td><td>승차   </td><td>3137048</td></tr>\n",
       "\t<tr><td>2016-03</td><td>하차   </td><td>3171109</td></tr>\n",
       "\t<tr><td>2016-04</td><td>승차   </td><td>2901249</td></tr>\n",
       "\t<tr><td>2016-04</td><td>하차   </td><td>2955286</td></tr>\n",
       "\t<tr><td>2016-05</td><td>승차   </td><td>2937838</td></tr>\n",
       "\t<tr><td>2016-05</td><td>하차   </td><td>2981989</td></tr>\n",
       "\t<tr><td>2016-06</td><td>승차   </td><td>2893814</td></tr>\n",
       "\t<tr><td>2016-06</td><td>하차   </td><td>2932549</td></tr>\n",
       "\t<tr><td>2016-07</td><td>승차   </td><td>3379605</td></tr>\n",
       "\t<tr><td>2016-07</td><td>하차   </td><td>3409181</td></tr>\n",
       "\t<tr><td>2016-08</td><td>승차   </td><td>3166476</td></tr>\n",
       "\t<tr><td>2016-08</td><td>하차   </td><td>3189492</td></tr>\n",
       "\t<tr><td>2016-09</td><td>승차   </td><td>2709059</td></tr>\n",
       "\t<tr><td>2016-09</td><td>하차   </td><td>2751835</td></tr>\n",
       "\t<tr><td>2016-10</td><td>승차   </td><td>2906071</td></tr>\n",
       "\t<tr><td>2016-10</td><td>하차   </td><td>2945199</td></tr>\n",
       "\t<tr><td>2016-11</td><td>승차   </td><td>2953096</td></tr>\n",
       "\t<tr><td>2016-11</td><td>하차   </td><td>2976808</td></tr>\n",
       "\t<tr><td>2016-12</td><td>승차   </td><td>3163166</td></tr>\n",
       "\t<tr><td>2016-12</td><td>하차   </td><td>3208083</td></tr>\n",
       "</tbody>\n",
       "</table>\n"
      ],
      "text/latex": [
       "\\begin{tabular}{r|lll}\n",
       " 월 & 구분 & Month.Total\\\\\n",
       "\\hline\n",
       "\t 2016-01 & 승차    & 3257354\\\\\n",
       "\t 2016-01 & 하차    & 3308383\\\\\n",
       "\t 2016-02 & 승차    & 2857897\\\\\n",
       "\t 2016-02 & 하차    & 2897333\\\\\n",
       "\t 2016-03 & 승차    & 3137048\\\\\n",
       "\t 2016-03 & 하차    & 3171109\\\\\n",
       "\t 2016-04 & 승차    & 2901249\\\\\n",
       "\t 2016-04 & 하차    & 2955286\\\\\n",
       "\t 2016-05 & 승차    & 2937838\\\\\n",
       "\t 2016-05 & 하차    & 2981989\\\\\n",
       "\t 2016-06 & 승차    & 2893814\\\\\n",
       "\t 2016-06 & 하차    & 2932549\\\\\n",
       "\t 2016-07 & 승차    & 3379605\\\\\n",
       "\t 2016-07 & 하차    & 3409181\\\\\n",
       "\t 2016-08 & 승차    & 3166476\\\\\n",
       "\t 2016-08 & 하차    & 3189492\\\\\n",
       "\t 2016-09 & 승차    & 2709059\\\\\n",
       "\t 2016-09 & 하차    & 2751835\\\\\n",
       "\t 2016-10 & 승차    & 2906071\\\\\n",
       "\t 2016-10 & 하차    & 2945199\\\\\n",
       "\t 2016-11 & 승차    & 2953096\\\\\n",
       "\t 2016-11 & 하차    & 2976808\\\\\n",
       "\t 2016-12 & 승차    & 3163166\\\\\n",
       "\t 2016-12 & 하차    & 3208083\\\\\n",
       "\\end{tabular}\n"
      ],
      "text/markdown": [
       "\n",
       "월 | 구분 | Month.Total | \n",
       "|---|---|---|---|---|---|---|---|---|---|---|---|---|---|---|---|---|---|---|---|---|---|---|---|\n",
       "| 2016-01 | 승차    | 3257354 | \n",
       "| 2016-01 | 하차    | 3308383 | \n",
       "| 2016-02 | 승차    | 2857897 | \n",
       "| 2016-02 | 하차    | 2897333 | \n",
       "| 2016-03 | 승차    | 3137048 | \n",
       "| 2016-03 | 하차    | 3171109 | \n",
       "| 2016-04 | 승차    | 2901249 | \n",
       "| 2016-04 | 하차    | 2955286 | \n",
       "| 2016-05 | 승차    | 2937838 | \n",
       "| 2016-05 | 하차    | 2981989 | \n",
       "| 2016-06 | 승차    | 2893814 | \n",
       "| 2016-06 | 하차    | 2932549 | \n",
       "| 2016-07 | 승차    | 3379605 | \n",
       "| 2016-07 | 하차    | 3409181 | \n",
       "| 2016-08 | 승차    | 3166476 | \n",
       "| 2016-08 | 하차    | 3189492 | \n",
       "| 2016-09 | 승차    | 2709059 | \n",
       "| 2016-09 | 하차    | 2751835 | \n",
       "| 2016-10 | 승차    | 2906071 | \n",
       "| 2016-10 | 하차    | 2945199 | \n",
       "| 2016-11 | 승차    | 2953096 | \n",
       "| 2016-11 | 하차    | 2976808 | \n",
       "| 2016-12 | 승차    | 3163166 | \n",
       "| 2016-12 | 하차    | 3208083 | \n",
       "\n",
       "\n"
      ],
      "text/plain": [
       "   월      구분 Month.Total\n",
       "1  2016-01 승차 3257354    \n",
       "2  2016-01 하차 3308383    \n",
       "3  2016-02 승차 2857897    \n",
       "4  2016-02 하차 2897333    \n",
       "5  2016-03 승차 3137048    \n",
       "6  2016-03 하차 3171109    \n",
       "7  2016-04 승차 2901249    \n",
       "8  2016-04 하차 2955286    \n",
       "9  2016-05 승차 2937838    \n",
       "10 2016-05 하차 2981989    \n",
       "11 2016-06 승차 2893814    \n",
       "12 2016-06 하차 2932549    \n",
       "13 2016-07 승차 3379605    \n",
       "14 2016-07 하차 3409181    \n",
       "15 2016-08 승차 3166476    \n",
       "16 2016-08 하차 3189492    \n",
       "17 2016-09 승차 2709059    \n",
       "18 2016-09 하차 2751835    \n",
       "19 2016-10 승차 2906071    \n",
       "20 2016-10 하차 2945199    \n",
       "21 2016-11 승차 2953096    \n",
       "22 2016-11 하차 2976808    \n",
       "23 2016-12 승차 3163166    \n",
       "24 2016-12 하차 3208083    "
      ]
     },
     "metadata": {},
     "output_type": "display_data"
    },
    {
     "data": {
      "text/html": [
       "<ol class=list-inline>\n",
       "\t<li>'월'</li>\n",
       "\t<li>'구분'</li>\n",
       "\t<li>'Month.Total'</li>\n",
       "</ol>\n"
      ],
      "text/latex": [
       "\\begin{enumerate*}\n",
       "\\item '월'\n",
       "\\item '구분'\n",
       "\\item 'Month.Total'\n",
       "\\end{enumerate*}\n"
      ],
      "text/markdown": [
       "1. '월'\n",
       "2. '구분'\n",
       "3. 'Month.Total'\n",
       "\n",
       "\n"
      ],
      "text/plain": [
       "[1] \"월\"          \"구분\"        \"Month.Total\""
      ]
     },
     "metadata": {},
     "output_type": "display_data"
    }
   ],
   "source": [
    "kangnam.graph.2\n",
    "colnames(kangnam.graph.2)"
   ]
  },
  {
   "cell_type": "code",
   "execution_count": 62,
   "metadata": {},
   "outputs": [
    {
     "data": {},
     "metadata": {},
     "output_type": "display_data"
    },
    {
     "data": {
      "image/png": "[encoded data removed]",
      "text/plain": [
       "plot without title"
      ]
     },
     "metadata": {},
     "output_type": "display_data"
    }
   ],
   "source": [
    "ggplot(kangnam.graph.2, aes(x=월, y=Month.Total, fill=구분)) +\n",
    "geom_bar(stat='identity') +\n",
    "theme(axis.text.x=element_text(angle=0))"
   ]
  },
  {
   "cell_type": "markdown",
   "metadata": {
    "collapsed": true
   },
   "source": [
    "* 승차 구분을 따로 그려보자"
   ]
  },
  {
   "cell_type": "code",
   "execution_count": 63,
   "metadata": {},
   "outputs": [
    {
     "data": {},
     "metadata": {},
     "output_type": "display_data"
    },
    {
     "data": {
      "image/png": "[encoded data removed]",
      "text/plain": [
       "plot without title"
      ]
     },
     "metadata": {},
     "output_type": "display_data"
    }
   ],
   "source": [
    "ggplot(kangnam.graph.2, aes(x=월, y=Month.Total, fill=구분)) +\n",
    "geom_bar(stat='identity', position = \"dodge\") "
   ]
  },
  {
   "cell_type": "code",
   "execution_count": 64,
   "metadata": {},
   "outputs": [
    {
     "data": {},
     "metadata": {},
     "output_type": "display_data"
    },
    {
     "data": {
      "image/png": "[encoded data removed]",
      "text/plain": [
       "plot without title"
      ]
     },
     "metadata": {},
     "output_type": "display_data"
    }
   ],
   "source": [
    "ggplot(kangnam.graph.2, aes(x=월, y=Month.Total, fill=구분)) +\n",
    "geom_bar(stat='identity', position = \"dodge\", color = 'black')  +\n",
    "#scale_fill_brewer(palette = \"Pastel1\")\n",
    "scale_fill_brewer(direction = -1) "
   ]
  },
  {
   "cell_type": "code",
   "execution_count": 65,
   "metadata": {},
   "outputs": [
    {
     "data": {},
     "metadata": {},
     "output_type": "display_data"
    },
    {
     "data": {
      "image/png": "[encoded data removed]",
      "text/plain": [
       "plot without title"
      ]
     },
     "metadata": {},
     "output_type": "display_data"
    }
   ],
   "source": [
    "ggplot(kangnam.graph.2, aes(x=월, y=Month.Total, fill=구분)) +\n",
    "geom_bar(stat='identity', position = \"dodge\", color = 'tomato1')  +\n",
    "scale_fill_brewer(palette = \"Pastel1\") + \n",
    "theme(axis.text.x=element_text(angle=45))+\n",
    "ylab(\"탑승자수\")"
   ]
  },
  {
   "cell_type": "markdown",
   "metadata": {},
   "source": [
    "# 기본 색상이 맘에 안드니 scale_fill_brewer나 scale_fill_manual를 써서 "
   ]
  },
  {
   "cell_type": "code",
   "execution_count": 66,
   "metadata": {},
   "outputs": [
    {
     "data": {},
     "metadata": {},
     "output_type": "display_data"
    },
    {
     "data": {
      "image/png": "[encoded data removed]",
      "text/plain": [
       "plot without title"
      ]
     },
     "metadata": {},
     "output_type": "display_data"
    }
   ],
   "source": [
    "ggplot(kangnam.graph.2, aes(x=월, y=Month.Total, fill=구분)) +\n",
    "geom_bar(stat='identity', position = \"dodge\", color = 'black')  +\n",
    "theme(axis.text.x=element_text(angle=45))+\n",
    "ylab(\"탑승자수\") + \n",
    "scale_fill_manual(values=c(\"#669933\", \"#FFCC66\"))"
   ]
  },
  {
   "cell_type": "code",
   "execution_count": null,
   "metadata": {
    "collapsed": true
   },
   "outputs": [],
   "source": []
  },
  {
   "cell_type": "markdown",
   "metadata": {},
   "source": [
    "# 역별 월별"
   ]
  },
  {
   "cell_type": "code",
   "execution_count": 67,
   "metadata": {},
   "outputs": [
    {
     "data": {
      "text/html": [
       "<table>\n",
       "<thead><tr><th scope=col>역명</th><th scope=col>날짜</th><th scope=col>구분</th><th scope=col>X05.06</th><th scope=col>X06.07</th><th scope=col>X07.08</th><th scope=col>X08.09</th><th scope=col>X09.10</th><th scope=col>X10.11</th><th scope=col>X11.12</th><th scope=col>...</th><th scope=col>X16.17</th><th scope=col>X17.18</th><th scope=col>X18.19</th><th scope=col>X19.20</th><th scope=col>X20.21</th><th scope=col>X21.22</th><th scope=col>X22.23</th><th scope=col>X23.24</th><th scope=col>X00.01</th><th scope=col>X01.02</th></tr></thead>\n",
       "<tbody>\n",
       "\t<tr><td>동대문(155)</td><td>2016-01-01 </td><td>승차       </td><td>147        </td><td>168        </td><td>170        </td><td>293        </td><td>479        </td><td>543        </td><td>625        </td><td>...        </td><td>1034       </td><td>1065       </td><td>625        </td><td>614        </td><td>475        </td><td>414        </td><td>291        </td><td>138        </td><td>  6        </td><td>0          </td></tr>\n",
       "\t<tr><td>동대문(155)</td><td>2016-01-01 </td><td>하차       </td><td> 31        </td><td>164        </td><td>146        </td><td>164        </td><td>354        </td><td>487        </td><td>901        </td><td>...        </td><td>1167       </td><td>1158       </td><td>869        </td><td>827        </td><td>660        </td><td>614        </td><td>471        </td><td>348        </td><td>122        </td><td>0          </td></tr>\n",
       "</tbody>\n",
       "</table>\n"
      ],
      "text/latex": [
       "\\begin{tabular}{r|llllllllllllllllllllllll}\n",
       " 역명 & 날짜 & 구분 & X05.06 & X06.07 & X07.08 & X08.09 & X09.10 & X10.11 & X11.12 & ... & X16.17 & X17.18 & X18.19 & X19.20 & X20.21 & X21.22 & X22.23 & X23.24 & X00.01 & X01.02\\\\\n",
       "\\hline\n",
       "\t 동대문(155) & 2016-01-01  & 승차        & 147         & 168         & 170         & 293         & 479         & 543         & 625         & ...         & 1034        & 1065        & 625         & 614         & 475         & 414         & 291         & 138         &   6         & 0          \\\\\n",
       "\t 동대문(155) & 2016-01-01  & 하차        &  31         & 164         & 146         & 164         & 354         & 487         & 901         & ...         & 1167        & 1158        & 869         & 827         & 660         & 614         & 471         & 348         & 122         & 0          \\\\\n",
       "\\end{tabular}\n"
      ],
      "text/markdown": [
       "\n",
       "역명 | 날짜 | 구분 | X05.06 | X06.07 | X07.08 | X08.09 | X09.10 | X10.11 | X11.12 | ... | X16.17 | X17.18 | X18.19 | X19.20 | X20.21 | X21.22 | X22.23 | X23.24 | X00.01 | X01.02 | \n",
       "|---|---|\n",
       "| 동대문(155) | 2016-01-01  | 승차        | 147         | 168         | 170         | 293         | 479         | 543         | 625         | ...         | 1034        | 1065        | 625         | 614         | 475         | 414         | 291         | 138         |   6         | 0           | \n",
       "| 동대문(155) | 2016-01-01  | 하차        |  31         | 164         | 146         | 164         | 354         | 487         | 901         | ...         | 1167        | 1158        | 869         | 827         | 660         | 614         | 471         | 348         | 122         | 0           | \n",
       "\n",
       "\n"
      ],
      "text/plain": [
       "  역명        날짜       구분 X05.06 X06.07 X07.08 X08.09 X09.10 X10.11 X11.12\n",
       "1 동대문(155) 2016-01-01 승차 147    168    170    293    479    543    625   \n",
       "2 동대문(155) 2016-01-01 하차  31    164    146    164    354    487    901   \n",
       "  ... X16.17 X17.18 X18.19 X19.20 X20.21 X21.22 X22.23 X23.24 X00.01 X01.02\n",
       "1 ... 1034   1065   625    614    475    414    291    138      6    0     \n",
       "2 ... 1167   1158   869    827    660    614    471    348    122    0     "
      ]
     },
     "metadata": {},
     "output_type": "display_data"
    },
    {
     "data": {
      "text/html": [
       "<ol class=list-inline>\n",
       "\t<li>87108</li>\n",
       "\t<li>24</li>\n",
       "</ol>\n"
      ],
      "text/latex": [
       "\\begin{enumerate*}\n",
       "\\item 87108\n",
       "\\item 24\n",
       "\\end{enumerate*}\n"
      ],
      "text/markdown": [
       "1. 87108\n",
       "2. 24\n",
       "\n",
       "\n"
      ],
      "text/plain": [
       "[1] 87108    24"
      ]
     },
     "metadata": {},
     "output_type": "display_data"
    }
   ],
   "source": [
    "head(subway,2)\n",
    "dim(subway)"
   ]
  },
  {
   "cell_type": "code",
   "execution_count": 68,
   "metadata": {
    "collapsed": true
   },
   "outputs": [],
   "source": [
    "subway$sum <- apply(subway[ , c(4:length(subway))], 1, sum)"
   ]
  },
  {
   "cell_type": "code",
   "execution_count": 69,
   "metadata": {},
   "outputs": [
    {
     "data": {
      "text/html": [
       "<table>\n",
       "<thead><tr><th scope=col>역명</th><th scope=col>날짜</th><th scope=col>구분</th><th scope=col>X05.06</th><th scope=col>X06.07</th><th scope=col>X07.08</th><th scope=col>X08.09</th><th scope=col>X09.10</th><th scope=col>X10.11</th><th scope=col>X11.12</th><th scope=col>...</th><th scope=col>X17.18</th><th scope=col>X18.19</th><th scope=col>X19.20</th><th scope=col>X20.21</th><th scope=col>X21.22</th><th scope=col>X22.23</th><th scope=col>X23.24</th><th scope=col>X00.01</th><th scope=col>X01.02</th><th scope=col>sum</th></tr></thead>\n",
       "<tbody>\n",
       "\t<tr><td>동대문(155)</td><td>2016-01-01 </td><td>승차       </td><td>147        </td><td> 168       </td><td> 170       </td><td> 293       </td><td> 479       </td><td> 543       </td><td> 625       </td><td>...        </td><td>1065       </td><td> 625       </td><td> 614       </td><td> 475       </td><td> 414       </td><td> 291       </td><td>138        </td><td>  6        </td><td>0          </td><td>10523      </td></tr>\n",
       "\t<tr><td>동대문(155)</td><td>2016-01-01 </td><td>하차       </td><td> 31        </td><td> 164       </td><td> 146       </td><td> 164       </td><td> 354       </td><td> 487       </td><td> 901       </td><td>...        </td><td>1158       </td><td> 869       </td><td> 827       </td><td> 660       </td><td> 614       </td><td> 471       </td><td>348        </td><td>122        </td><td>0          </td><td>13513      </td></tr>\n",
       "\t<tr><td>동묘앞(159)</td><td>2016-01-01 </td><td>승차       </td><td> 37        </td><td>  65       </td><td>  66       </td><td> 110       </td><td> 161       </td><td> 245       </td><td> 344       </td><td>...        </td><td> 975       </td><td> 404       </td><td> 198       </td><td> 139       </td><td> 136       </td><td>  81       </td><td> 52        </td><td>  2        </td><td>0          </td><td> 7209      </td></tr>\n",
       "\t<tr><td>동묘앞(159)</td><td>2016-01-01 </td><td>하차       </td><td> 19        </td><td>  75       </td><td>  88       </td><td> 147       </td><td> 199       </td><td> 359       </td><td> 661       </td><td>...        </td><td> 353       </td><td> 231       </td><td> 165       </td><td> 149       </td><td> 146       </td><td> 176       </td><td>144        </td><td>106        </td><td>0          </td><td> 7582      </td></tr>\n",
       "\t<tr><td>서울역(150)</td><td>2016-01-01 </td><td>승차       </td><td>405        </td><td> 339       </td><td> 584       </td><td>1144       </td><td>1723       </td><td>2087       </td><td>2983       </td><td>...        </td><td>3200       </td><td>3076       </td><td>2519       </td><td>2281       </td><td>2398       </td><td>2056       </td><td>996        </td><td> 58        </td><td>0          </td><td>42568      </td></tr>\n",
       "\t<tr><td>서울역(150)</td><td>2016-01-01 </td><td>하차       </td><td>341        </td><td>1637       </td><td>1753       </td><td>1856       </td><td>2438       </td><td>2425       </td><td>2548       </td><td>...        </td><td>2656       </td><td>2134       </td><td>1859       </td><td>1394       </td><td>1344       </td><td>1056       </td><td>612        </td><td>222        </td><td>0          </td><td>39336      </td></tr>\n",
       "</tbody>\n",
       "</table>\n"
      ],
      "text/latex": [
       "\\begin{tabular}{r|lllllllllllllllllllllllll}\n",
       " 역명 & 날짜 & 구분 & X05.06 & X06.07 & X07.08 & X08.09 & X09.10 & X10.11 & X11.12 & ... & X17.18 & X18.19 & X19.20 & X20.21 & X21.22 & X22.23 & X23.24 & X00.01 & X01.02 & sum\\\\\n",
       "\\hline\n",
       "\t 동대문(155) & 2016-01-01  & 승차        & 147         &  168        &  170        &  293        &  479        &  543        &  625        & ...         & 1065        &  625        &  614        &  475        &  414        &  291        & 138         &   6         & 0           & 10523      \\\\\n",
       "\t 동대문(155) & 2016-01-01  & 하차        &  31         &  164        &  146        &  164        &  354        &  487        &  901        & ...         & 1158        &  869        &  827        &  660        &  614        &  471        & 348         & 122         & 0           & 13513      \\\\\n",
       "\t 동묘앞(159) & 2016-01-01  & 승차        &  37         &   65        &   66        &  110        &  161        &  245        &  344        & ...         &  975        &  404        &  198        &  139        &  136        &   81        &  52         &   2         & 0           &  7209      \\\\\n",
       "\t 동묘앞(159) & 2016-01-01  & 하차        &  19         &   75        &   88        &  147        &  199        &  359        &  661        & ...         &  353        &  231        &  165        &  149        &  146        &  176        & 144         & 106         & 0           &  7582      \\\\\n",
       "\t 서울역(150) & 2016-01-01  & 승차        & 405         &  339        &  584        & 1144        & 1723        & 2087        & 2983        & ...         & 3200        & 3076        & 2519        & 2281        & 2398        & 2056        & 996         &  58         & 0           & 42568      \\\\\n",
       "\t 서울역(150) & 2016-01-01  & 하차        & 341         & 1637        & 1753        & 1856        & 2438        & 2425        & 2548        & ...         & 2656        & 2134        & 1859        & 1394        & 1344        & 1056        & 612         & 222         & 0           & 39336      \\\\\n",
       "\\end{tabular}\n"
      ],
      "text/markdown": [
       "\n",
       "역명 | 날짜 | 구분 | X05.06 | X06.07 | X07.08 | X08.09 | X09.10 | X10.11 | X11.12 | ... | X17.18 | X18.19 | X19.20 | X20.21 | X21.22 | X22.23 | X23.24 | X00.01 | X01.02 | sum | \n",
       "|---|---|---|---|---|---|\n",
       "| 동대문(155) | 2016-01-01  | 승차        | 147         |  168        |  170        |  293        |  479        |  543        |  625        | ...         | 1065        |  625        |  614        |  475        |  414        |  291        | 138         |   6         | 0           | 10523       | \n",
       "| 동대문(155) | 2016-01-01  | 하차        |  31         |  164        |  146        |  164        |  354        |  487        |  901        | ...         | 1158        |  869        |  827        |  660        |  614        |  471        | 348         | 122         | 0           | 13513       | \n",
       "| 동묘앞(159) | 2016-01-01  | 승차        |  37         |   65        |   66        |  110        |  161        |  245        |  344        | ...         |  975        |  404        |  198        |  139        |  136        |   81        |  52         |   2         | 0           |  7209       | \n",
       "| 동묘앞(159) | 2016-01-01  | 하차        |  19         |   75        |   88        |  147        |  199        |  359        |  661        | ...         |  353        |  231        |  165        |  149        |  146        |  176        | 144         | 106         | 0           |  7582       | \n",
       "| 서울역(150) | 2016-01-01  | 승차        | 405         |  339        |  584        | 1144        | 1723        | 2087        | 2983        | ...         | 3200        | 3076        | 2519        | 2281        | 2398        | 2056        | 996         |  58         | 0           | 42568       | \n",
       "| 서울역(150) | 2016-01-01  | 하차        | 341         | 1637        | 1753        | 1856        | 2438        | 2425        | 2548        | ...         | 2656        | 2134        | 1859        | 1394        | 1344        | 1056        | 612         | 222         | 0           | 39336       | \n",
       "\n",
       "\n"
      ],
      "text/plain": [
       "  역명        날짜       구분 X05.06 X06.07 X07.08 X08.09 X09.10 X10.11 X11.12\n",
       "1 동대문(155) 2016-01-01 승차 147     168    170    293    479    543    625  \n",
       "2 동대문(155) 2016-01-01 하차  31     164    146    164    354    487    901  \n",
       "3 동묘앞(159) 2016-01-01 승차  37      65     66    110    161    245    344  \n",
       "4 동묘앞(159) 2016-01-01 하차  19      75     88    147    199    359    661  \n",
       "5 서울역(150) 2016-01-01 승차 405     339    584   1144   1723   2087   2983  \n",
       "6 서울역(150) 2016-01-01 하차 341    1637   1753   1856   2438   2425   2548  \n",
       "  ... X17.18 X18.19 X19.20 X20.21 X21.22 X22.23 X23.24 X00.01 X01.02 sum  \n",
       "1 ... 1065    625    614    475    414    291   138      6    0      10523\n",
       "2 ... 1158    869    827    660    614    471   348    122    0      13513\n",
       "3 ...  975    404    198    139    136     81    52      2    0       7209\n",
       "4 ...  353    231    165    149    146    176   144    106    0       7582\n",
       "5 ... 3200   3076   2519   2281   2398   2056   996     58    0      42568\n",
       "6 ... 2656   2134   1859   1394   1344   1056   612    222    0      39336"
      ]
     },
     "metadata": {},
     "output_type": "display_data"
    }
   ],
   "source": [
    "head(subway)"
   ]
  },
  {
   "cell_type": "markdown",
   "metadata": {},
   "source": [
    "* 월별 합계를 각 역마다 계산한다."
   ]
  },
  {
   "cell_type": "code",
   "execution_count": 70,
   "metadata": {
    "collapsed": true
   },
   "outputs": [],
   "source": [
    "subway.month <- subway %>% group_by(역명) %>% summarise( station.total = sum(sum))"
   ]
  },
  {
   "cell_type": "code",
   "execution_count": 71,
   "metadata": {
    "collapsed": true
   },
   "outputs": [],
   "source": [
    "subway.month <- subway.month %>% arrange(desc(station.total))"
   ]
  },
  {
   "cell_type": "markdown",
   "metadata": {},
   "source": [
    "* 너무 많으니 상위 15개만 뽑아서 보자"
   ]
  },
  {
   "cell_type": "code",
   "execution_count": 74,
   "metadata": {
    "collapsed": true
   },
   "outputs": [],
   "source": [
    "subway.15 <- subway.month[1:15,]"
   ]
  },
  {
   "cell_type": "code",
   "execution_count": 75,
   "metadata": {},
   "outputs": [
    {
     "data": {
      "text/html": [
       "<table>\n",
       "<thead><tr><th scope=col>역명</th><th scope=col>station.total</th></tr></thead>\n",
       "<tbody>\n",
       "\t<tr><td>강남(222)          </td><td>72989920           </td></tr>\n",
       "\t<tr><td>잠실(216)          </td><td>59959378           </td></tr>\n",
       "\t<tr><td>홍대입구(239)      </td><td>57959028           </td></tr>\n",
       "\t<tr><td>신림(230)          </td><td>52797959           </td></tr>\n",
       "\t<tr><td>구로디지털단지(232)</td><td>46290426           </td></tr>\n",
       "\t<tr><td>신도림(234)        </td><td>45882099           </td></tr>\n",
       "\t<tr><td>서울역(150)        </td><td>43057432           </td></tr>\n",
       "\t<tr><td>고속터미널(329)    </td><td>42586946           </td></tr>\n",
       "\t<tr><td>삼성(219)          </td><td>41763727           </td></tr>\n",
       "\t<tr><td>서울대입구(228)    </td><td>38218481           </td></tr>\n",
       "\t<tr><td>신촌(240)          </td><td>37935702           </td></tr>\n",
       "\t<tr><td>을지로입구(202)    </td><td>37522895           </td></tr>\n",
       "\t<tr><td>선릉(220)          </td><td>36845948           </td></tr>\n",
       "\t<tr><td>강변(214)          </td><td>36523673           </td></tr>\n",
       "\t<tr><td>건대입구(212)      </td><td>34947918           </td></tr>\n",
       "</tbody>\n",
       "</table>\n"
      ],
      "text/latex": [
       "\\begin{tabular}{r|ll}\n",
       " 역명 & station.total\\\\\n",
       "\\hline\n",
       "\t 강남(222)           & 72989920           \\\\\n",
       "\t 잠실(216)           & 59959378           \\\\\n",
       "\t 홍대입구(239)       & 57959028           \\\\\n",
       "\t 신림(230)           & 52797959           \\\\\n",
       "\t 구로디지털단지(232) & 46290426           \\\\\n",
       "\t 신도림(234)         & 45882099           \\\\\n",
       "\t 서울역(150)         & 43057432           \\\\\n",
       "\t 고속터미널(329)     & 42586946           \\\\\n",
       "\t 삼성(219)           & 41763727           \\\\\n",
       "\t 서울대입구(228)     & 38218481           \\\\\n",
       "\t 신촌(240)           & 37935702           \\\\\n",
       "\t 을지로입구(202)     & 37522895           \\\\\n",
       "\t 선릉(220)           & 36845948           \\\\\n",
       "\t 강변(214)           & 36523673           \\\\\n",
       "\t 건대입구(212)       & 34947918           \\\\\n",
       "\\end{tabular}\n"
      ],
      "text/markdown": [
       "\n",
       "역명 | station.total | \n",
       "|---|---|---|---|---|---|---|---|---|---|---|---|---|---|---|\n",
       "| 강남(222)           | 72989920            | \n",
       "| 잠실(216)           | 59959378            | \n",
       "| 홍대입구(239)       | 57959028            | \n",
       "| 신림(230)           | 52797959            | \n",
       "| 구로디지털단지(232) | 46290426            | \n",
       "| 신도림(234)         | 45882099            | \n",
       "| 서울역(150)         | 43057432            | \n",
       "| 고속터미널(329)     | 42586946            | \n",
       "| 삼성(219)           | 41763727            | \n",
       "| 서울대입구(228)     | 38218481            | \n",
       "| 신촌(240)           | 37935702            | \n",
       "| 을지로입구(202)     | 37522895            | \n",
       "| 선릉(220)           | 36845948            | \n",
       "| 강변(214)           | 36523673            | \n",
       "| 건대입구(212)       | 34947918            | \n",
       "\n",
       "\n"
      ],
      "text/plain": [
       "   역명                station.total\n",
       "1  강남(222)           72989920     \n",
       "2  잠실(216)           59959378     \n",
       "3  홍대입구(239)       57959028     \n",
       "4  신림(230)           52797959     \n",
       "5  구로디지털단지(232) 46290426     \n",
       "6  신도림(234)         45882099     \n",
       "7  서울역(150)         43057432     \n",
       "8  고속터미널(329)     42586946     \n",
       "9  삼성(219)           41763727     \n",
       "10 서울대입구(228)     38218481     \n",
       "11 신촌(240)           37935702     \n",
       "12 을지로입구(202)     37522895     \n",
       "13 선릉(220)           36845948     \n",
       "14 강변(214)           36523673     \n",
       "15 건대입구(212)       34947918     "
      ]
     },
     "metadata": {},
     "output_type": "display_data"
    }
   ],
   "source": [
    "subway.15"
   ]
  },
  {
   "cell_type": "code",
   "execution_count": 76,
   "metadata": {},
   "outputs": [
    {
     "data": {},
     "metadata": {},
     "output_type": "display_data"
    },
    {
     "data": {
      "image/png": "[encoded data removed]",
      "text/plain": [
       "plot without title"
      ]
     },
     "metadata": {},
     "output_type": "display_data"
    }
   ],
   "source": [
    "ggplot(subway.15, aes(x=역명, y=station.total)) +\n",
    "geom_bar(stat = 'identity') + \n",
    "theme(axis.text.x=element_text(angle=45))"
   ]
  },
  {
   "cell_type": "markdown",
   "metadata": {},
   "source": [
    "* 순서를 적용해서 확인해보자"
   ]
  },
  {
   "cell_type": "markdown",
   "metadata": {},
   "source": [
    "* reorder에 -가 붙으면 역순"
   ]
  },
  {
   "cell_type": "code",
   "execution_count": 78,
   "metadata": {},
   "outputs": [
    {
     "data": {},
     "metadata": {},
     "output_type": "display_data"
    },
    {
     "data": {
      "image/png": "[encoded data removed]",
      "text/plain": [
       "plot without title"
      ]
     },
     "metadata": {},
     "output_type": "display_data"
    }
   ],
   "source": [
    "ggplot(subway.15, aes(x=reorder(역명, station.total), y=station.total)) +\n",
    "geom_bar(stat = 'identity') "
   ]
  },
  {
   "cell_type": "code",
   "execution_count": 79,
   "metadata": {},
   "outputs": [
    {
     "data": {},
     "metadata": {},
     "output_type": "display_data"
    },
    {
     "data": {
      "image/png": "[encoded data removed]",
      "text/plain": [
       "plot without title"
      ]
     },
     "metadata": {},
     "output_type": "display_data"
    }
   ],
   "source": [
    "ggplot(subway.15, aes(x=역명, y=station.total)) +\n",
    "geom_bar(stat = 'identity', fill='lightblue') + \n",
    "theme(axis.text.x=element_text(angle=45))"
   ]
  },
  {
   "cell_type": "code",
   "execution_count": 80,
   "metadata": {},
   "outputs": [
    {
     "data": {},
     "metadata": {},
     "output_type": "display_data"
    },
    {
     "data": {
      "image/png": "[encoded data removed]",
      "text/plain": [
       "plot without title"
      ]
     },
     "metadata": {},
     "output_type": "display_data"
    }
   ],
   "source": [
    "ggplot(subway.15, aes(x=역명, y=station.total)) +\n",
    "geom_bar(stat = 'identity', fill='lightblue', color = 'black', width = 0.6) +\n",
    "geom_text(aes(y=station.total + 0.1 ,label=station.total), vjust= -0.2, color = 'red', size=2) + \n",
    "theme(axis.text.x=element_text(angle=45)) + \n",
    "xlab(\"지하철역\") +\n",
    "ylab(\"인원(명)\") +\n",
    "ggtitle(\"2016년 지하철 Top 15\") + \n",
    "theme(plot.title = element_text(hjust = 0.5))"
   ]
  },
  {
   "cell_type": "code",
   "execution_count": null,
   "metadata": {
    "collapsed": true
   },
   "outputs": [],
   "source": []
  },
  {
   "cell_type": "markdown",
   "metadata": {
    "collapsed": true
   },
   "source": [
    "## 역명을 승하차로 구분해서"
   ]
  },
  {
   "cell_type": "code",
   "execution_count": 81,
   "metadata": {
    "collapsed": true
   },
   "outputs": [],
   "source": [
    "subway.month.gubun <- subway %>% group_by(역명, 구분) %>% summarise( station.total = sum(sum))"
   ]
  },
  {
   "cell_type": "code",
   "execution_count": 82,
   "metadata": {},
   "outputs": [
    {
     "data": {
      "text/html": [
       "<table>\n",
       "<thead><tr><th scope=col>역명</th><th scope=col>구분</th><th scope=col>station.total</th></tr></thead>\n",
       "<tbody>\n",
       "\t<tr><td>가락시장(340)      </td><td>승차               </td><td> 3386717           </td></tr>\n",
       "\t<tr><td>가락시장(340)      </td><td>하차               </td><td> 3206053           </td></tr>\n",
       "\t<tr><td>강남(222)          </td><td>승차               </td><td>36262673           </td></tr>\n",
       "\t<tr><td>강남(222)          </td><td>하차               </td><td>36727247           </td></tr>\n",
       "\t<tr><td>강변(214)          </td><td>승차               </td><td>18308635           </td></tr>\n",
       "\t<tr><td>강변(214)          </td><td>하차               </td><td>18215038           </td></tr>\n",
       "\t<tr><td>건대입구(212)      </td><td>승차               </td><td>16693303           </td></tr>\n",
       "\t<tr><td>건대입구(212)      </td><td>하차               </td><td>18254615           </td></tr>\n",
       "\t<tr><td>경복궁(317)        </td><td>승차               </td><td> 9400643           </td></tr>\n",
       "\t<tr><td>경복궁(317)        </td><td>하차               </td><td> 9842665           </td></tr>\n",
       "\t<tr><td>경찰병원(341)      </td><td>승차               </td><td> 2755954           </td></tr>\n",
       "\t<tr><td>경찰병원(341)      </td><td>하차               </td><td> 2750031           </td></tr>\n",
       "\t<tr><td>고속터미널(329)    </td><td>승차               </td><td>20905177           </td></tr>\n",
       "\t<tr><td>고속터미널(329)    </td><td>하차               </td><td>21681769           </td></tr>\n",
       "\t<tr><td>교대(223)          </td><td>승차               </td><td>13747328           </td></tr>\n",
       "\t<tr><td>교대(223)          </td><td>하차               </td><td>15250761           </td></tr>\n",
       "\t<tr><td>교대(330)          </td><td>승차               </td><td> 5130183           </td></tr>\n",
       "\t<tr><td>교대(330)          </td><td>하차               </td><td> 3775783           </td></tr>\n",
       "\t<tr><td>구로디지털단지(232)</td><td>승차               </td><td>23104249           </td></tr>\n",
       "\t<tr><td>구로디지털단지(232)</td><td>하차               </td><td>23186177           </td></tr>\n",
       "\t<tr><td>구의(213)          </td><td>승차               </td><td> 8866931           </td></tr>\n",
       "\t<tr><td>구의(213)          </td><td>하차               </td><td> 8651916           </td></tr>\n",
       "\t<tr><td>구파발(310)        </td><td>승차               </td><td> 6580606           </td></tr>\n",
       "\t<tr><td>구파발(310)        </td><td>하차               </td><td> 5581668           </td></tr>\n",
       "\t<tr><td>금호(324)          </td><td>승차               </td><td> 2902641           </td></tr>\n",
       "\t<tr><td>금호(324)          </td><td>하차               </td><td> 2665249           </td></tr>\n",
       "\t<tr><td>길음(417)          </td><td>승차               </td><td>10392187           </td></tr>\n",
       "\t<tr><td>길음(417)          </td><td>하차               </td><td> 9905400           </td></tr>\n",
       "\t<tr><td>낙성대(227)        </td><td>승차               </td><td>11357456           </td></tr>\n",
       "\t<tr><td>낙성대(227)        </td><td>하차               </td><td>10934119           </td></tr>\n",
       "\t<tr><td>...</td><td>...</td><td>...</td></tr>\n",
       "\t<tr><td>종합운동장(218)  </td><td>승차             </td><td> 5776844         </td></tr>\n",
       "\t<tr><td>종합운동장(218)  </td><td>하차             </td><td> 6513753         </td></tr>\n",
       "\t<tr><td>지축(309)        </td><td>승차             </td><td>  489233         </td></tr>\n",
       "\t<tr><td>지축(309)        </td><td>하차             </td><td>  506092         </td></tr>\n",
       "\t<tr><td>창동(412)        </td><td>승차             </td><td>11058444         </td></tr>\n",
       "\t<tr><td>창동(412)        </td><td>하차             </td><td>11897307         </td></tr>\n",
       "\t<tr><td>청량리(지하)(158)</td><td>승차             </td><td>10792388         </td></tr>\n",
       "\t<tr><td>청량리(지하)(158)</td><td>하차             </td><td>11180425         </td></tr>\n",
       "\t<tr><td>총신대입구(432)  </td><td>승차             </td><td> 8210427         </td></tr>\n",
       "\t<tr><td>총신대입구(432)  </td><td>하차             </td><td> 9180098         </td></tr>\n",
       "\t<tr><td>충무로(423)      </td><td>승차             </td><td>12168276         </td></tr>\n",
       "\t<tr><td>충무로(423)      </td><td>하차             </td><td>12537986         </td></tr>\n",
       "\t<tr><td>충정로(243)      </td><td>승차             </td><td> 4252765         </td></tr>\n",
       "\t<tr><td>충정로(243)      </td><td>하차             </td><td> 4594292         </td></tr>\n",
       "\t<tr><td>학여울(336)      </td><td>승차             </td><td> 1155943         </td></tr>\n",
       "\t<tr><td>학여울(336)      </td><td>하차             </td><td> 1188613         </td></tr>\n",
       "\t<tr><td>한성대입구(419)  </td><td>승차             </td><td> 6227843         </td></tr>\n",
       "\t<tr><td>한성대입구(419)  </td><td>하차             </td><td> 5948265         </td></tr>\n",
       "\t<tr><td>한양대(209)      </td><td>승차             </td><td> 4222420         </td></tr>\n",
       "\t<tr><td>한양대(209)      </td><td>하차             </td><td> 4930230         </td></tr>\n",
       "\t<tr><td>합정(238)        </td><td>승차             </td><td>12159182         </td></tr>\n",
       "\t<tr><td>합정(238)        </td><td>하차             </td><td>12647822         </td></tr>\n",
       "\t<tr><td>혜화(420)        </td><td>승차             </td><td>15839765         </td></tr>\n",
       "\t<tr><td>혜화(420)        </td><td>하차             </td><td>16602710         </td></tr>\n",
       "\t<tr><td>홍대입구(239)    </td><td>승차             </td><td>28015621         </td></tr>\n",
       "\t<tr><td>홍대입구(239)    </td><td>하차             </td><td>29943407         </td></tr>\n",
       "\t<tr><td>홍제(314)        </td><td>승차             </td><td> 7504648         </td></tr>\n",
       "\t<tr><td>홍제(314)        </td><td>하차             </td><td> 7058757         </td></tr>\n",
       "\t<tr><td>회현(425)        </td><td>승차             </td><td>10961767         </td></tr>\n",
       "\t<tr><td>회현(425)        </td><td>하차             </td><td>11606395         </td></tr>\n",
       "</tbody>\n",
       "</table>\n"
      ],
      "text/latex": [
       "\\begin{tabular}{r|lll}\n",
       " 역명 & 구분 & station.total\\\\\n",
       "\\hline\n",
       "\t 가락시장(340)       & 승차                &  3386717           \\\\\n",
       "\t 가락시장(340)       & 하차                &  3206053           \\\\\n",
       "\t 강남(222)           & 승차                & 36262673           \\\\\n",
       "\t 강남(222)           & 하차                & 36727247           \\\\\n",
       "\t 강변(214)           & 승차                & 18308635           \\\\\n",
       "\t 강변(214)           & 하차                & 18215038           \\\\\n",
       "\t 건대입구(212)       & 승차                & 16693303           \\\\\n",
       "\t 건대입구(212)       & 하차                & 18254615           \\\\\n",
       "\t 경복궁(317)         & 승차                &  9400643           \\\\\n",
       "\t 경복궁(317)         & 하차                &  9842665           \\\\\n",
       "\t 경찰병원(341)       & 승차                &  2755954           \\\\\n",
       "\t 경찰병원(341)       & 하차                &  2750031           \\\\\n",
       "\t 고속터미널(329)     & 승차                & 20905177           \\\\\n",
       "\t 고속터미널(329)     & 하차                & 21681769           \\\\\n",
       "\t 교대(223)           & 승차                & 13747328           \\\\\n",
       "\t 교대(223)           & 하차                & 15250761           \\\\\n",
       "\t 교대(330)           & 승차                &  5130183           \\\\\n",
       "\t 교대(330)           & 하차                &  3775783           \\\\\n",
       "\t 구로디지털단지(232) & 승차                & 23104249           \\\\\n",
       "\t 구로디지털단지(232) & 하차                & 23186177           \\\\\n",
       "\t 구의(213)           & 승차                &  8866931           \\\\\n",
       "\t 구의(213)           & 하차                &  8651916           \\\\\n",
       "\t 구파발(310)         & 승차                &  6580606           \\\\\n",
       "\t 구파발(310)         & 하차                &  5581668           \\\\\n",
       "\t 금호(324)           & 승차                &  2902641           \\\\\n",
       "\t 금호(324)           & 하차                &  2665249           \\\\\n",
       "\t 길음(417)           & 승차                & 10392187           \\\\\n",
       "\t 길음(417)           & 하차                &  9905400           \\\\\n",
       "\t 낙성대(227)         & 승차                & 11357456           \\\\\n",
       "\t 낙성대(227)         & 하차                & 10934119           \\\\\n",
       "\t ... & ... & ...\\\\\n",
       "\t 종합운동장(218)   & 승차              &  5776844         \\\\\n",
       "\t 종합운동장(218)   & 하차              &  6513753         \\\\\n",
       "\t 지축(309)         & 승차              &   489233         \\\\\n",
       "\t 지축(309)         & 하차              &   506092         \\\\\n",
       "\t 창동(412)         & 승차              & 11058444         \\\\\n",
       "\t 창동(412)         & 하차              & 11897307         \\\\\n",
       "\t 청량리(지하)(158) & 승차              & 10792388         \\\\\n",
       "\t 청량리(지하)(158) & 하차              & 11180425         \\\\\n",
       "\t 총신대입구(432)   & 승차              &  8210427         \\\\\n",
       "\t 총신대입구(432)   & 하차              &  9180098         \\\\\n",
       "\t 충무로(423)       & 승차              & 12168276         \\\\\n",
       "\t 충무로(423)       & 하차              & 12537986         \\\\\n",
       "\t 충정로(243)       & 승차              &  4252765         \\\\\n",
       "\t 충정로(243)       & 하차              &  4594292         \\\\\n",
       "\t 학여울(336)       & 승차              &  1155943         \\\\\n",
       "\t 학여울(336)       & 하차              &  1188613         \\\\\n",
       "\t 한성대입구(419)   & 승차              &  6227843         \\\\\n",
       "\t 한성대입구(419)   & 하차              &  5948265         \\\\\n",
       "\t 한양대(209)       & 승차              &  4222420         \\\\\n",
       "\t 한양대(209)       & 하차              &  4930230         \\\\\n",
       "\t 합정(238)         & 승차              & 12159182         \\\\\n",
       "\t 합정(238)         & 하차              & 12647822         \\\\\n",
       "\t 혜화(420)         & 승차              & 15839765         \\\\\n",
       "\t 혜화(420)         & 하차              & 16602710         \\\\\n",
       "\t 홍대입구(239)     & 승차              & 28015621         \\\\\n",
       "\t 홍대입구(239)     & 하차              & 29943407         \\\\\n",
       "\t 홍제(314)         & 승차              &  7504648         \\\\\n",
       "\t 홍제(314)         & 하차              &  7058757         \\\\\n",
       "\t 회현(425)         & 승차              & 10961767         \\\\\n",
       "\t 회현(425)         & 하차              & 11606395         \\\\\n",
       "\\end{tabular}\n"
      ],
      "text/markdown": [
       "\n",
       "역명 | 구분 | station.total | \n",
       "|---|---|---|---|---|---|---|---|---|---|---|---|---|---|---|---|---|---|---|---|---|---|---|---|---|---|---|---|---|---|---|---|---|---|---|---|---|---|---|---|---|---|---|---|---|---|---|---|---|---|---|---|---|---|---|---|---|---|---|---|---|\n",
       "| 가락시장(340)       | 승차                |  3386717            | \n",
       "| 가락시장(340)       | 하차                |  3206053            | \n",
       "| 강남(222)           | 승차                | 36262673            | \n",
       "| 강남(222)           | 하차                | 36727247            | \n",
       "| 강변(214)           | 승차                | 18308635            | \n",
       "| 강변(214)           | 하차                | 18215038            | \n",
       "| 건대입구(212)       | 승차                | 16693303            | \n",
       "| 건대입구(212)       | 하차                | 18254615            | \n",
       "| 경복궁(317)         | 승차                |  9400643            | \n",
       "| 경복궁(317)         | 하차                |  9842665            | \n",
       "| 경찰병원(341)       | 승차                |  2755954            | \n",
       "| 경찰병원(341)       | 하차                |  2750031            | \n",
       "| 고속터미널(329)     | 승차                | 20905177            | \n",
       "| 고속터미널(329)     | 하차                | 21681769            | \n",
       "| 교대(223)           | 승차                | 13747328            | \n",
       "| 교대(223)           | 하차                | 15250761            | \n",
       "| 교대(330)           | 승차                |  5130183            | \n",
       "| 교대(330)           | 하차                |  3775783            | \n",
       "| 구로디지털단지(232) | 승차                | 23104249            | \n",
       "| 구로디지털단지(232) | 하차                | 23186177            | \n",
       "| 구의(213)           | 승차                |  8866931            | \n",
       "| 구의(213)           | 하차                |  8651916            | \n",
       "| 구파발(310)         | 승차                |  6580606            | \n",
       "| 구파발(310)         | 하차                |  5581668            | \n",
       "| 금호(324)           | 승차                |  2902641            | \n",
       "| 금호(324)           | 하차                |  2665249            | \n",
       "| 길음(417)           | 승차                | 10392187            | \n",
       "| 길음(417)           | 하차                |  9905400            | \n",
       "| 낙성대(227)         | 승차                | 11357456            | \n",
       "| 낙성대(227)         | 하차                | 10934119            | \n",
       "| ... | ... | ... | \n",
       "| 종합운동장(218)   | 승차              |  5776844          | \n",
       "| 종합운동장(218)   | 하차              |  6513753          | \n",
       "| 지축(309)         | 승차              |   489233          | \n",
       "| 지축(309)         | 하차              |   506092          | \n",
       "| 창동(412)         | 승차              | 11058444          | \n",
       "| 창동(412)         | 하차              | 11897307          | \n",
       "| 청량리(지하)(158) | 승차              | 10792388          | \n",
       "| 청량리(지하)(158) | 하차              | 11180425          | \n",
       "| 총신대입구(432)   | 승차              |  8210427          | \n",
       "| 총신대입구(432)   | 하차              |  9180098          | \n",
       "| 충무로(423)       | 승차              | 12168276          | \n",
       "| 충무로(423)       | 하차              | 12537986          | \n",
       "| 충정로(243)       | 승차              |  4252765          | \n",
       "| 충정로(243)       | 하차              |  4594292          | \n",
       "| 학여울(336)       | 승차              |  1155943          | \n",
       "| 학여울(336)       | 하차              |  1188613          | \n",
       "| 한성대입구(419)   | 승차              |  6227843          | \n",
       "| 한성대입구(419)   | 하차              |  5948265          | \n",
       "| 한양대(209)       | 승차              |  4222420          | \n",
       "| 한양대(209)       | 하차              |  4930230          | \n",
       "| 합정(238)         | 승차              | 12159182          | \n",
       "| 합정(238)         | 하차              | 12647822          | \n",
       "| 혜화(420)         | 승차              | 15839765          | \n",
       "| 혜화(420)         | 하차              | 16602710          | \n",
       "| 홍대입구(239)     | 승차              | 28015621          | \n",
       "| 홍대입구(239)     | 하차              | 29943407          | \n",
       "| 홍제(314)         | 승차              |  7504648          | \n",
       "| 홍제(314)         | 하차              |  7058757          | \n",
       "| 회현(425)         | 승차              | 10961767          | \n",
       "| 회현(425)         | 하차              | 11606395          | \n",
       "\n",
       "\n"
      ],
      "text/plain": [
       "    역명                구분 station.total\n",
       "1   가락시장(340)       승차  3386717     \n",
       "2   가락시장(340)       하차  3206053     \n",
       "3   강남(222)           승차 36262673     \n",
       "4   강남(222)           하차 36727247     \n",
       "5   강변(214)           승차 18308635     \n",
       "6   강변(214)           하차 18215038     \n",
       "7   건대입구(212)       승차 16693303     \n",
       "8   건대입구(212)       하차 18254615     \n",
       "9   경복궁(317)         승차  9400643     \n",
       "10  경복궁(317)         하차  9842665     \n",
       "11  경찰병원(341)       승차  2755954     \n",
       "12  경찰병원(341)       하차  2750031     \n",
       "13  고속터미널(329)     승차 20905177     \n",
       "14  고속터미널(329)     하차 21681769     \n",
       "15  교대(223)           승차 13747328     \n",
       "16  교대(223)           하차 15250761     \n",
       "17  교대(330)           승차  5130183     \n",
       "18  교대(330)           하차  3775783     \n",
       "19  구로디지털단지(232) 승차 23104249     \n",
       "20  구로디지털단지(232) 하차 23186177     \n",
       "21  구의(213)           승차  8866931     \n",
       "22  구의(213)           하차  8651916     \n",
       "23  구파발(310)         승차  6580606     \n",
       "24  구파발(310)         하차  5581668     \n",
       "25  금호(324)           승차  2902641     \n",
       "26  금호(324)           하차  2665249     \n",
       "27  길음(417)           승차 10392187     \n",
       "28  길음(417)           하차  9905400     \n",
       "29  낙성대(227)         승차 11357456     \n",
       "30  낙성대(227)         하차 10934119     \n",
       "... ...                 ...  ...          \n",
       "209 종합운동장(218)     승차  5776844     \n",
       "210 종합운동장(218)     하차  6513753     \n",
       "211 지축(309)           승차   489233     \n",
       "212 지축(309)           하차   506092     \n",
       "213 창동(412)           승차 11058444     \n",
       "214 창동(412)           하차 11897307     \n",
       "215 청량리(지하)(158)   승차 10792388     \n",
       "216 청량리(지하)(158)   하차 11180425     \n",
       "217 총신대입구(432)     승차  8210427     \n",
       "218 총신대입구(432)     하차  9180098     \n",
       "219 충무로(423)         승차 12168276     \n",
       "220 충무로(423)         하차 12537986     \n",
       "221 충정로(243)         승차  4252765     \n",
       "222 충정로(243)         하차  4594292     \n",
       "223 학여울(336)         승차  1155943     \n",
       "224 학여울(336)         하차  1188613     \n",
       "225 한성대입구(419)     승차  6227843     \n",
       "226 한성대입구(419)     하차  5948265     \n",
       "227 한양대(209)         승차  4222420     \n",
       "228 한양대(209)         하차  4930230     \n",
       "229 합정(238)           승차 12159182     \n",
       "230 합정(238)           하차 12647822     \n",
       "231 혜화(420)           승차 15839765     \n",
       "232 혜화(420)           하차 16602710     \n",
       "233 홍대입구(239)       승차 28015621     \n",
       "234 홍대입구(239)       하차 29943407     \n",
       "235 홍제(314)           승차  7504648     \n",
       "236 홍제(314)           하차  7058757     \n",
       "237 회현(425)           승차 10961767     \n",
       "238 회현(425)           하차 11606395     "
      ]
     },
     "metadata": {},
     "output_type": "display_data"
    }
   ],
   "source": [
    "subway.month.gubun"
   ]
  },
  {
   "cell_type": "code",
   "execution_count": 83,
   "metadata": {},
   "outputs": [
    {
     "data": {
      "text/html": [
       "<ol class=list-inline>\n",
       "\t<li>FALSE</li>\n",
       "\t<li>FALSE</li>\n",
       "\t<li>TRUE</li>\n",
       "\t<li>TRUE</li>\n",
       "\t<li>TRUE</li>\n",
       "\t<li>TRUE</li>\n",
       "\t<li>TRUE</li>\n",
       "\t<li>TRUE</li>\n",
       "\t<li>FALSE</li>\n",
       "\t<li>FALSE</li>\n",
       "\t<li>FALSE</li>\n",
       "\t<li>FALSE</li>\n",
       "\t<li>TRUE</li>\n",
       "\t<li>TRUE</li>\n",
       "\t<li>FALSE</li>\n",
       "\t<li>FALSE</li>\n",
       "\t<li>FALSE</li>\n",
       "\t<li>FALSE</li>\n",
       "\t<li>TRUE</li>\n",
       "\t<li>TRUE</li>\n",
       "\t<li>FALSE</li>\n",
       "\t<li>FALSE</li>\n",
       "\t<li>FALSE</li>\n",
       "\t<li>FALSE</li>\n",
       "\t<li>FALSE</li>\n",
       "\t<li>FALSE</li>\n",
       "\t<li>FALSE</li>\n",
       "\t<li>FALSE</li>\n",
       "\t<li>FALSE</li>\n",
       "\t<li>FALSE</li>\n",
       "\t<li>FALSE</li>\n",
       "\t<li>FALSE</li>\n",
       "\t<li>FALSE</li>\n",
       "\t<li>FALSE</li>\n",
       "\t<li>FALSE</li>\n",
       "\t<li>FALSE</li>\n",
       "\t<li>FALSE</li>\n",
       "\t<li>FALSE</li>\n",
       "\t<li>FALSE</li>\n",
       "\t<li>FALSE</li>\n",
       "\t<li>FALSE</li>\n",
       "\t<li>FALSE</li>\n",
       "\t<li>FALSE</li>\n",
       "\t<li>FALSE</li>\n",
       "\t<li>FALSE</li>\n",
       "\t<li>FALSE</li>\n",
       "\t<li>FALSE</li>\n",
       "\t<li>FALSE</li>\n",
       "\t<li>FALSE</li>\n",
       "\t<li>FALSE</li>\n",
       "\t<li>FALSE</li>\n",
       "\t<li>FALSE</li>\n",
       "\t<li>FALSE</li>\n",
       "\t<li>FALSE</li>\n",
       "\t<li>FALSE</li>\n",
       "\t<li>FALSE</li>\n",
       "\t<li>FALSE</li>\n",
       "\t<li>FALSE</li>\n",
       "\t<li>FALSE</li>\n",
       "\t<li>FALSE</li>\n",
       "\t<li>FALSE</li>\n",
       "\t<li>FALSE</li>\n",
       "\t<li>FALSE</li>\n",
       "\t<li>FALSE</li>\n",
       "\t<li>FALSE</li>\n",
       "\t<li>FALSE</li>\n",
       "\t<li>FALSE</li>\n",
       "\t<li>FALSE</li>\n",
       "\t<li>FALSE</li>\n",
       "\t<li>FALSE</li>\n",
       "\t<li>FALSE</li>\n",
       "\t<li>FALSE</li>\n",
       "\t<li>FALSE</li>\n",
       "\t<li>FALSE</li>\n",
       "\t<li>FALSE</li>\n",
       "\t<li>FALSE</li>\n",
       "\t<li>FALSE</li>\n",
       "\t<li>FALSE</li>\n",
       "\t<li>FALSE</li>\n",
       "\t<li>FALSE</li>\n",
       "\t<li>FALSE</li>\n",
       "\t<li>FALSE</li>\n",
       "\t<li>FALSE</li>\n",
       "\t<li>FALSE</li>\n",
       "\t<li>FALSE</li>\n",
       "\t<li>FALSE</li>\n",
       "\t<li>FALSE</li>\n",
       "\t<li>FALSE</li>\n",
       "\t<li>FALSE</li>\n",
       "\t<li>FALSE</li>\n",
       "\t<li>FALSE</li>\n",
       "\t<li>FALSE</li>\n",
       "\t<li>FALSE</li>\n",
       "\t<li>FALSE</li>\n",
       "\t<li>TRUE</li>\n",
       "\t<li>TRUE</li>\n",
       "\t<li>FALSE</li>\n",
       "\t<li>FALSE</li>\n",
       "\t<li>FALSE</li>\n",
       "\t<li>FALSE</li>\n",
       "\t<li>TRUE</li>\n",
       "\t<li>TRUE</li>\n",
       "\t<li>TRUE</li>\n",
       "\t<li>TRUE</li>\n",
       "\t<li>FALSE</li>\n",
       "\t<li>FALSE</li>\n",
       "\t<li>FALSE</li>\n",
       "\t<li>FALSE</li>\n",
       "\t<li>TRUE</li>\n",
       "\t<li>TRUE</li>\n",
       "\t<li>FALSE</li>\n",
       "\t<li>FALSE</li>\n",
       "\t<li>FALSE</li>\n",
       "\t<li>FALSE</li>\n",
       "\t<li>FALSE</li>\n",
       "\t<li>FALSE</li>\n",
       "\t<li>FALSE</li>\n",
       "\t<li>FALSE</li>\n",
       "\t<li>FALSE</li>\n",
       "\t<li>FALSE</li>\n",
       "\t<li>FALSE</li>\n",
       "\t<li>FALSE</li>\n",
       "\t<li>FALSE</li>\n",
       "\t<li>FALSE</li>\n",
       "\t<li>FALSE</li>\n",
       "\t<li>FALSE</li>\n",
       "\t<li>FALSE</li>\n",
       "\t<li>FALSE</li>\n",
       "\t<li>FALSE</li>\n",
       "\t<li>FALSE</li>\n",
       "\t<li>TRUE</li>\n",
       "\t<li>TRUE</li>\n",
       "\t<li>TRUE</li>\n",
       "\t<li>TRUE</li>\n",
       "\t<li>FALSE</li>\n",
       "\t<li>FALSE</li>\n",
       "\t<li>FALSE</li>\n",
       "\t<li>FALSE</li>\n",
       "\t<li>FALSE</li>\n",
       "\t<li>FALSE</li>\n",
       "\t<li>FALSE</li>\n",
       "\t<li>FALSE</li>\n",
       "\t<li>FALSE</li>\n",
       "\t<li>FALSE</li>\n",
       "\t<li>FALSE</li>\n",
       "\t<li>FALSE</li>\n",
       "\t<li>TRUE</li>\n",
       "\t<li>TRUE</li>\n",
       "\t<li>FALSE</li>\n",
       "\t<li>FALSE</li>\n",
       "\t<li>FALSE</li>\n",
       "\t<li>FALSE</li>\n",
       "\t<li>FALSE</li>\n",
       "\t<li>FALSE</li>\n",
       "\t<li>FALSE</li>\n",
       "\t<li>FALSE</li>\n",
       "\t<li>FALSE</li>\n",
       "\t<li>FALSE</li>\n",
       "\t<li>FALSE</li>\n",
       "\t<li>FALSE</li>\n",
       "\t<li>FALSE</li>\n",
       "\t<li>FALSE</li>\n",
       "\t<li>FALSE</li>\n",
       "\t<li>FALSE</li>\n",
       "\t<li>FALSE</li>\n",
       "\t<li>FALSE</li>\n",
       "\t<li>FALSE</li>\n",
       "\t<li>FALSE</li>\n",
       "\t<li>FALSE</li>\n",
       "\t<li>FALSE</li>\n",
       "\t<li>FALSE</li>\n",
       "\t<li>FALSE</li>\n",
       "\t<li>FALSE</li>\n",
       "\t<li>FALSE</li>\n",
       "\t<li>FALSE</li>\n",
       "\t<li>FALSE</li>\n",
       "\t<li>FALSE</li>\n",
       "\t<li>FALSE</li>\n",
       "\t<li>FALSE</li>\n",
       "\t<li>FALSE</li>\n",
       "\t<li>FALSE</li>\n",
       "\t<li>FALSE</li>\n",
       "\t<li>FALSE</li>\n",
       "\t<li>FALSE</li>\n",
       "\t<li>TRUE</li>\n",
       "\t<li>TRUE</li>\n",
       "\t<li>FALSE</li>\n",
       "\t<li>FALSE</li>\n",
       "\t<li>FALSE</li>\n",
       "\t<li>FALSE</li>\n",
       "\t<li>FALSE</li>\n",
       "\t<li>FALSE</li>\n",
       "\t<li>TRUE</li>\n",
       "\t<li>TRUE</li>\n",
       "\t<li>FALSE</li>\n",
       "\t<li>FALSE</li>\n",
       "\t<li>FALSE</li>\n",
       "\t<li>FALSE</li>\n",
       "\t<li>FALSE</li>\n",
       "\t<li>FALSE</li>\n",
       "\t<li>FALSE</li>\n",
       "\t<li>FALSE</li>\n",
       "\t<li>FALSE</li>\n",
       "\t<li>FALSE</li>\n",
       "\t<li>FALSE</li>\n",
       "\t<li>FALSE</li>\n",
       "\t<li>FALSE</li>\n",
       "\t<li>FALSE</li>\n",
       "\t<li>FALSE</li>\n",
       "\t<li>FALSE</li>\n",
       "\t<li>FALSE</li>\n",
       "\t<li>FALSE</li>\n",
       "\t<li>FALSE</li>\n",
       "\t<li>FALSE</li>\n",
       "\t<li>FALSE</li>\n",
       "\t<li>FALSE</li>\n",
       "\t<li>FALSE</li>\n",
       "\t<li>FALSE</li>\n",
       "\t<li>FALSE</li>\n",
       "\t<li>FALSE</li>\n",
       "\t<li>FALSE</li>\n",
       "\t<li>FALSE</li>\n",
       "\t<li>FALSE</li>\n",
       "\t<li>FALSE</li>\n",
       "\t<li>FALSE</li>\n",
       "\t<li>FALSE</li>\n",
       "\t<li>FALSE</li>\n",
       "\t<li>FALSE</li>\n",
       "\t<li>FALSE</li>\n",
       "\t<li>FALSE</li>\n",
       "\t<li>FALSE</li>\n",
       "\t<li>FALSE</li>\n",
       "\t<li>TRUE</li>\n",
       "\t<li>TRUE</li>\n",
       "\t<li>FALSE</li>\n",
       "\t<li>FALSE</li>\n",
       "\t<li>FALSE</li>\n",
       "\t<li>FALSE</li>\n",
       "</ol>\n"
      ],
      "text/latex": [
       "\\begin{enumerate*}\n",
       "\\item FALSE\n",
       "\\item FALSE\n",
       "\\item TRUE\n",
       "\\item TRUE\n",
       "\\item TRUE\n",
       "\\item TRUE\n",
       "\\item TRUE\n",
       "\\item TRUE\n",
       "\\item FALSE\n",
       "\\item FALSE\n",
       "\\item FALSE\n",
       "\\item FALSE\n",
       "\\item TRUE\n",
       "\\item TRUE\n",
       "\\item FALSE\n",
       "\\item FALSE\n",
       "\\item FALSE\n",
       "\\item FALSE\n",
       "\\item TRUE\n",
       "\\item TRUE\n",
       "\\item FALSE\n",
       "\\item FALSE\n",
       "\\item FALSE\n",
       "\\item FALSE\n",
       "\\item FALSE\n",
       "\\item FALSE\n",
       "\\item FALSE\n",
       "\\item FALSE\n",
       "\\item FALSE\n",
       "\\item FALSE\n",
       "\\item FALSE\n",
       "\\item FALSE\n",
       "\\item FALSE\n",
       "\\item FALSE\n",
       "\\item FALSE\n",
       "\\item FALSE\n",
       "\\item FALSE\n",
       "\\item FALSE\n",
       "\\item FALSE\n",
       "\\item FALSE\n",
       "\\item FALSE\n",
       "\\item FALSE\n",
       "\\item FALSE\n",
       "\\item FALSE\n",
       "\\item FALSE\n",
       "\\item FALSE\n",
       "\\item FALSE\n",
       "\\item FALSE\n",
       "\\item FALSE\n",
       "\\item FALSE\n",
       "\\item FALSE\n",
       "\\item FALSE\n",
       "\\item FALSE\n",
       "\\item FALSE\n",
       "\\item FALSE\n",
       "\\item FALSE\n",
       "\\item FALSE\n",
       "\\item FALSE\n",
       "\\item FALSE\n",
       "\\item FALSE\n",
       "\\item FALSE\n",
       "\\item FALSE\n",
       "\\item FALSE\n",
       "\\item FALSE\n",
       "\\item FALSE\n",
       "\\item FALSE\n",
       "\\item FALSE\n",
       "\\item FALSE\n",
       "\\item FALSE\n",
       "\\item FALSE\n",
       "\\item FALSE\n",
       "\\item FALSE\n",
       "\\item FALSE\n",
       "\\item FALSE\n",
       "\\item FALSE\n",
       "\\item FALSE\n",
       "\\item FALSE\n",
       "\\item FALSE\n",
       "\\item FALSE\n",
       "\\item FALSE\n",
       "\\item FALSE\n",
       "\\item FALSE\n",
       "\\item FALSE\n",
       "\\item FALSE\n",
       "\\item FALSE\n",
       "\\item FALSE\n",
       "\\item FALSE\n",
       "\\item FALSE\n",
       "\\item FALSE\n",
       "\\item FALSE\n",
       "\\item FALSE\n",
       "\\item FALSE\n",
       "\\item FALSE\n",
       "\\item FALSE\n",
       "\\item TRUE\n",
       "\\item TRUE\n",
       "\\item FALSE\n",
       "\\item FALSE\n",
       "\\item FALSE\n",
       "\\item FALSE\n",
       "\\item TRUE\n",
       "\\item TRUE\n",
       "\\item TRUE\n",
       "\\item TRUE\n",
       "\\item FALSE\n",
       "\\item FALSE\n",
       "\\item FALSE\n",
       "\\item FALSE\n",
       "\\item TRUE\n",
       "\\item TRUE\n",
       "\\item FALSE\n",
       "\\item FALSE\n",
       "\\item FALSE\n",
       "\\item FALSE\n",
       "\\item FALSE\n",
       "\\item FALSE\n",
       "\\item FALSE\n",
       "\\item FALSE\n",
       "\\item FALSE\n",
       "\\item FALSE\n",
       "\\item FALSE\n",
       "\\item FALSE\n",
       "\\item FALSE\n",
       "\\item FALSE\n",
       "\\item FALSE\n",
       "\\item FALSE\n",
       "\\item FALSE\n",
       "\\item FALSE\n",
       "\\item FALSE\n",
       "\\item FALSE\n",
       "\\item TRUE\n",
       "\\item TRUE\n",
       "\\item TRUE\n",
       "\\item TRUE\n",
       "\\item FALSE\n",
       "\\item FALSE\n",
       "\\item FALSE\n",
       "\\item FALSE\n",
       "\\item FALSE\n",
       "\\item FALSE\n",
       "\\item FALSE\n",
       "\\item FALSE\n",
       "\\item FALSE\n",
       "\\item FALSE\n",
       "\\item FALSE\n",
       "\\item FALSE\n",
       "\\item TRUE\n",
       "\\item TRUE\n",
       "\\item FALSE\n",
       "\\item FALSE\n",
       "\\item FALSE\n",
       "\\item FALSE\n",
       "\\item FALSE\n",
       "\\item FALSE\n",
       "\\item FALSE\n",
       "\\item FALSE\n",
       "\\item FALSE\n",
       "\\item FALSE\n",
       "\\item FALSE\n",
       "\\item FALSE\n",
       "\\item FALSE\n",
       "\\item FALSE\n",
       "\\item FALSE\n",
       "\\item FALSE\n",
       "\\item FALSE\n",
       "\\item FALSE\n",
       "\\item FALSE\n",
       "\\item FALSE\n",
       "\\item FALSE\n",
       "\\item FALSE\n",
       "\\item FALSE\n",
       "\\item FALSE\n",
       "\\item FALSE\n",
       "\\item FALSE\n",
       "\\item FALSE\n",
       "\\item FALSE\n",
       "\\item FALSE\n",
       "\\item FALSE\n",
       "\\item FALSE\n",
       "\\item FALSE\n",
       "\\item FALSE\n",
       "\\item FALSE\n",
       "\\item FALSE\n",
       "\\item FALSE\n",
       "\\item TRUE\n",
       "\\item TRUE\n",
       "\\item FALSE\n",
       "\\item FALSE\n",
       "\\item FALSE\n",
       "\\item FALSE\n",
       "\\item FALSE\n",
       "\\item FALSE\n",
       "\\item TRUE\n",
       "\\item TRUE\n",
       "\\item FALSE\n",
       "\\item FALSE\n",
       "\\item FALSE\n",
       "\\item FALSE\n",
       "\\item FALSE\n",
       "\\item FALSE\n",
       "\\item FALSE\n",
       "\\item FALSE\n",
       "\\item FALSE\n",
       "\\item FALSE\n",
       "\\item FALSE\n",
       "\\item FALSE\n",
       "\\item FALSE\n",
       "\\item FALSE\n",
       "\\item FALSE\n",
       "\\item FALSE\n",
       "\\item FALSE\n",
       "\\item FALSE\n",
       "\\item FALSE\n",
       "\\item FALSE\n",
       "\\item FALSE\n",
       "\\item FALSE\n",
       "\\item FALSE\n",
       "\\item FALSE\n",
       "\\item FALSE\n",
       "\\item FALSE\n",
       "\\item FALSE\n",
       "\\item FALSE\n",
       "\\item FALSE\n",
       "\\item FALSE\n",
       "\\item FALSE\n",
       "\\item FALSE\n",
       "\\item FALSE\n",
       "\\item FALSE\n",
       "\\item FALSE\n",
       "\\item FALSE\n",
       "\\item FALSE\n",
       "\\item FALSE\n",
       "\\item TRUE\n",
       "\\item TRUE\n",
       "\\item FALSE\n",
       "\\item FALSE\n",
       "\\item FALSE\n",
       "\\item FALSE\n",
       "\\end{enumerate*}\n"
      ],
      "text/markdown": [
       "1. FALSE\n",
       "2. FALSE\n",
       "3. TRUE\n",
       "4. TRUE\n",
       "5. TRUE\n",
       "6. TRUE\n",
       "7. TRUE\n",
       "8. TRUE\n",
       "9. FALSE\n",
       "10. FALSE\n",
       "11. FALSE\n",
       "12. FALSE\n",
       "13. TRUE\n",
       "14. TRUE\n",
       "15. FALSE\n",
       "16. FALSE\n",
       "17. FALSE\n",
       "18. FALSE\n",
       "19. TRUE\n",
       "20. TRUE\n",
       "21. FALSE\n",
       "22. FALSE\n",
       "23. FALSE\n",
       "24. FALSE\n",
       "25. FALSE\n",
       "26. FALSE\n",
       "27. FALSE\n",
       "28. FALSE\n",
       "29. FALSE\n",
       "30. FALSE\n",
       "31. FALSE\n",
       "32. FALSE\n",
       "33. FALSE\n",
       "34. FALSE\n",
       "35. FALSE\n",
       "36. FALSE\n",
       "37. FALSE\n",
       "38. FALSE\n",
       "39. FALSE\n",
       "40. FALSE\n",
       "41. FALSE\n",
       "42. FALSE\n",
       "43. FALSE\n",
       "44. FALSE\n",
       "45. FALSE\n",
       "46. FALSE\n",
       "47. FALSE\n",
       "48. FALSE\n",
       "49. FALSE\n",
       "50. FALSE\n",
       "51. FALSE\n",
       "52. FALSE\n",
       "53. FALSE\n",
       "54. FALSE\n",
       "55. FALSE\n",
       "56. FALSE\n",
       "57. FALSE\n",
       "58. FALSE\n",
       "59. FALSE\n",
       "60. FALSE\n",
       "61. FALSE\n",
       "62. FALSE\n",
       "63. FALSE\n",
       "64. FALSE\n",
       "65. FALSE\n",
       "66. FALSE\n",
       "67. FALSE\n",
       "68. FALSE\n",
       "69. FALSE\n",
       "70. FALSE\n",
       "71. FALSE\n",
       "72. FALSE\n",
       "73. FALSE\n",
       "74. FALSE\n",
       "75. FALSE\n",
       "76. FALSE\n",
       "77. FALSE\n",
       "78. FALSE\n",
       "79. FALSE\n",
       "80. FALSE\n",
       "81. FALSE\n",
       "82. FALSE\n",
       "83. FALSE\n",
       "84. FALSE\n",
       "85. FALSE\n",
       "86. FALSE\n",
       "87. FALSE\n",
       "88. FALSE\n",
       "89. FALSE\n",
       "90. FALSE\n",
       "91. FALSE\n",
       "92. FALSE\n",
       "93. FALSE\n",
       "94. FALSE\n",
       "95. TRUE\n",
       "96. TRUE\n",
       "97. FALSE\n",
       "98. FALSE\n",
       "99. FALSE\n",
       "100. FALSE\n",
       "101. TRUE\n",
       "102. TRUE\n",
       "103. TRUE\n",
       "104. TRUE\n",
       "105. FALSE\n",
       "106. FALSE\n",
       "107. FALSE\n",
       "108. FALSE\n",
       "109. TRUE\n",
       "110. TRUE\n",
       "111. FALSE\n",
       "112. FALSE\n",
       "113. FALSE\n",
       "114. FALSE\n",
       "115. FALSE\n",
       "116. FALSE\n",
       "117. FALSE\n",
       "118. FALSE\n",
       "119. FALSE\n",
       "120. FALSE\n",
       "121. FALSE\n",
       "122. FALSE\n",
       "123. FALSE\n",
       "124. FALSE\n",
       "125. FALSE\n",
       "126. FALSE\n",
       "127. FALSE\n",
       "128. FALSE\n",
       "129. FALSE\n",
       "130. FALSE\n",
       "131. TRUE\n",
       "132. TRUE\n",
       "133. TRUE\n",
       "134. TRUE\n",
       "135. FALSE\n",
       "136. FALSE\n",
       "137. FALSE\n",
       "138. FALSE\n",
       "139. FALSE\n",
       "140. FALSE\n",
       "141. FALSE\n",
       "142. FALSE\n",
       "143. FALSE\n",
       "144. FALSE\n",
       "145. FALSE\n",
       "146. FALSE\n",
       "147. TRUE\n",
       "148. TRUE\n",
       "149. FALSE\n",
       "150. FALSE\n",
       "151. FALSE\n",
       "152. FALSE\n",
       "153. FALSE\n",
       "154. FALSE\n",
       "155. FALSE\n",
       "156. FALSE\n",
       "157. FALSE\n",
       "158. FALSE\n",
       "159. FALSE\n",
       "160. FALSE\n",
       "161. FALSE\n",
       "162. FALSE\n",
       "163. FALSE\n",
       "164. FALSE\n",
       "165. FALSE\n",
       "166. FALSE\n",
       "167. FALSE\n",
       "168. FALSE\n",
       "169. FALSE\n",
       "170. FALSE\n",
       "171. FALSE\n",
       "172. FALSE\n",
       "173. FALSE\n",
       "174. FALSE\n",
       "175. FALSE\n",
       "176. FALSE\n",
       "177. FALSE\n",
       "178. FALSE\n",
       "179. FALSE\n",
       "180. FALSE\n",
       "181. FALSE\n",
       "182. FALSE\n",
       "183. FALSE\n",
       "184. FALSE\n",
       "185. TRUE\n",
       "186. TRUE\n",
       "187. FALSE\n",
       "188. FALSE\n",
       "189. FALSE\n",
       "190. FALSE\n",
       "191. FALSE\n",
       "192. FALSE\n",
       "193. TRUE\n",
       "194. TRUE\n",
       "195. FALSE\n",
       "196. FALSE\n",
       "197. FALSE\n",
       "198. FALSE\n",
       "199. FALSE\n",
       "200. FALSE\n",
       "201. FALSE\n",
       "202. FALSE\n",
       "203. FALSE\n",
       "204. FALSE\n",
       "205. FALSE\n",
       "206. FALSE\n",
       "207. FALSE\n",
       "208. FALSE\n",
       "209. FALSE\n",
       "210. FALSE\n",
       "211. FALSE\n",
       "212. FALSE\n",
       "213. FALSE\n",
       "214. FALSE\n",
       "215. FALSE\n",
       "216. FALSE\n",
       "217. FALSE\n",
       "218. FALSE\n",
       "219. FALSE\n",
       "220. FALSE\n",
       "221. FALSE\n",
       "222. FALSE\n",
       "223. FALSE\n",
       "224. FALSE\n",
       "225. FALSE\n",
       "226. FALSE\n",
       "227. FALSE\n",
       "228. FALSE\n",
       "229. FALSE\n",
       "230. FALSE\n",
       "231. FALSE\n",
       "232. FALSE\n",
       "233. TRUE\n",
       "234. TRUE\n",
       "235. FALSE\n",
       "236. FALSE\n",
       "237. FALSE\n",
       "238. FALSE\n",
       "\n",
       "\n"
      ],
      "text/plain": [
       "  [1] FALSE FALSE  TRUE  TRUE  TRUE  TRUE  TRUE  TRUE FALSE FALSE FALSE FALSE\n",
       " [13]  TRUE  TRUE FALSE FALSE FALSE FALSE  TRUE  TRUE FALSE FALSE FALSE FALSE\n",
       " [25] FALSE FALSE FALSE FALSE FALSE FALSE FALSE FALSE FALSE FALSE FALSE FALSE\n",
       " [37] FALSE FALSE FALSE FALSE FALSE FALSE FALSE FALSE FALSE FALSE FALSE FALSE\n",
       " [49] FALSE FALSE FALSE FALSE FALSE FALSE FALSE FALSE FALSE FALSE FALSE FALSE\n",
       " [61] FALSE FALSE FALSE FALSE FALSE FALSE FALSE FALSE FALSE FALSE FALSE FALSE\n",
       " [73] FALSE FALSE FALSE FALSE FALSE FALSE FALSE FALSE FALSE FALSE FALSE FALSE\n",
       " [85] FALSE FALSE FALSE FALSE FALSE FALSE FALSE FALSE FALSE FALSE  TRUE  TRUE\n",
       " [97] FALSE FALSE FALSE FALSE  TRUE  TRUE  TRUE  TRUE FALSE FALSE FALSE FALSE\n",
       "[109]  TRUE  TRUE FALSE FALSE FALSE FALSE FALSE FALSE FALSE FALSE FALSE FALSE\n",
       "[121] FALSE FALSE FALSE FALSE FALSE FALSE FALSE FALSE FALSE FALSE  TRUE  TRUE\n",
       "[133]  TRUE  TRUE FALSE FALSE FALSE FALSE FALSE FALSE FALSE FALSE FALSE FALSE\n",
       "[145] FALSE FALSE  TRUE  TRUE FALSE FALSE FALSE FALSE FALSE FALSE FALSE FALSE\n",
       "[157] FALSE FALSE FALSE FALSE FALSE FALSE FALSE FALSE FALSE FALSE FALSE FALSE\n",
       "[169] FALSE FALSE FALSE FALSE FALSE FALSE FALSE FALSE FALSE FALSE FALSE FALSE\n",
       "[181] FALSE FALSE FALSE FALSE  TRUE  TRUE FALSE FALSE FALSE FALSE FALSE FALSE\n",
       "[193]  TRUE  TRUE FALSE FALSE FALSE FALSE FALSE FALSE FALSE FALSE FALSE FALSE\n",
       "[205] FALSE FALSE FALSE FALSE FALSE FALSE FALSE FALSE FALSE FALSE FALSE FALSE\n",
       "[217] FALSE FALSE FALSE FALSE FALSE FALSE FALSE FALSE FALSE FALSE FALSE FALSE\n",
       "[229] FALSE FALSE FALSE FALSE  TRUE  TRUE FALSE FALSE FALSE FALSE"
      ]
     },
     "metadata": {},
     "output_type": "display_data"
    }
   ],
   "source": [
    "subway.month.gubun$역명 %in% subway.15$역명"
   ]
  },
  {
   "cell_type": "markdown",
   "metadata": {},
   "source": [
    "* 위에서 index를 추출한 로직을 사용해서 상위 15개역만 추출"
   ]
  },
  {
   "cell_type": "code",
   "execution_count": 84,
   "metadata": {},
   "outputs": [
    {
     "data": {
      "text/html": [
       "<table>\n",
       "<thead><tr><th scope=col>역명</th><th scope=col>구분</th><th scope=col>station.total</th></tr></thead>\n",
       "<tbody>\n",
       "\t<tr><td>강남(222)          </td><td>승차               </td><td>36262673           </td></tr>\n",
       "\t<tr><td>강남(222)          </td><td>하차               </td><td>36727247           </td></tr>\n",
       "\t<tr><td>강변(214)          </td><td>승차               </td><td>18308635           </td></tr>\n",
       "\t<tr><td>강변(214)          </td><td>하차               </td><td>18215038           </td></tr>\n",
       "\t<tr><td>건대입구(212)      </td><td>승차               </td><td>16693303           </td></tr>\n",
       "\t<tr><td>건대입구(212)      </td><td>하차               </td><td>18254615           </td></tr>\n",
       "\t<tr><td>고속터미널(329)    </td><td>승차               </td><td>20905177           </td></tr>\n",
       "\t<tr><td>고속터미널(329)    </td><td>하차               </td><td>21681769           </td></tr>\n",
       "\t<tr><td>구로디지털단지(232)</td><td>승차               </td><td>23104249           </td></tr>\n",
       "\t<tr><td>구로디지털단지(232)</td><td>하차               </td><td>23186177           </td></tr>\n",
       "\t<tr><td>삼성(219)          </td><td>승차               </td><td>20538267           </td></tr>\n",
       "\t<tr><td>삼성(219)          </td><td>하차               </td><td>21225460           </td></tr>\n",
       "\t<tr><td>서울대입구(228)    </td><td>승차               </td><td>19302962           </td></tr>\n",
       "\t<tr><td>서울대입구(228)    </td><td>하차               </td><td>18915519           </td></tr>\n",
       "\t<tr><td>서울역(150)        </td><td>승차               </td><td>22908864           </td></tr>\n",
       "\t<tr><td>서울역(150)        </td><td>하차               </td><td>20148568           </td></tr>\n",
       "\t<tr><td>선릉(220)          </td><td>승차               </td><td>19824389           </td></tr>\n",
       "\t<tr><td>선릉(220)          </td><td>하차               </td><td>17021559           </td></tr>\n",
       "\t<tr><td>신도림(234)        </td><td>승차               </td><td>22965725           </td></tr>\n",
       "\t<tr><td>신도림(234)        </td><td>하차               </td><td>22916374           </td></tr>\n",
       "\t<tr><td>신림(230)          </td><td>승차               </td><td>26680680           </td></tr>\n",
       "\t<tr><td>신림(230)          </td><td>하차               </td><td>26117279           </td></tr>\n",
       "\t<tr><td>신촌(240)          </td><td>승차               </td><td>18799604           </td></tr>\n",
       "\t<tr><td>신촌(240)          </td><td>하차               </td><td>19136098           </td></tr>\n",
       "\t<tr><td>을지로입구(202)    </td><td>승차               </td><td>18773969           </td></tr>\n",
       "\t<tr><td>을지로입구(202)    </td><td>하차               </td><td>18748926           </td></tr>\n",
       "\t<tr><td>잠실(216)          </td><td>승차               </td><td>31080170           </td></tr>\n",
       "\t<tr><td>잠실(216)          </td><td>하차               </td><td>28879208           </td></tr>\n",
       "\t<tr><td>홍대입구(239)      </td><td>승차               </td><td>28015621           </td></tr>\n",
       "\t<tr><td>홍대입구(239)      </td><td>하차               </td><td>29943407           </td></tr>\n",
       "</tbody>\n",
       "</table>\n"
      ],
      "text/latex": [
       "\\begin{tabular}{r|lll}\n",
       " 역명 & 구분 & station.total\\\\\n",
       "\\hline\n",
       "\t 강남(222)           & 승차                & 36262673           \\\\\n",
       "\t 강남(222)           & 하차                & 36727247           \\\\\n",
       "\t 강변(214)           & 승차                & 18308635           \\\\\n",
       "\t 강변(214)           & 하차                & 18215038           \\\\\n",
       "\t 건대입구(212)       & 승차                & 16693303           \\\\\n",
       "\t 건대입구(212)       & 하차                & 18254615           \\\\\n",
       "\t 고속터미널(329)     & 승차                & 20905177           \\\\\n",
       "\t 고속터미널(329)     & 하차                & 21681769           \\\\\n",
       "\t 구로디지털단지(232) & 승차                & 23104249           \\\\\n",
       "\t 구로디지털단지(232) & 하차                & 23186177           \\\\\n",
       "\t 삼성(219)           & 승차                & 20538267           \\\\\n",
       "\t 삼성(219)           & 하차                & 21225460           \\\\\n",
       "\t 서울대입구(228)     & 승차                & 19302962           \\\\\n",
       "\t 서울대입구(228)     & 하차                & 18915519           \\\\\n",
       "\t 서울역(150)         & 승차                & 22908864           \\\\\n",
       "\t 서울역(150)         & 하차                & 20148568           \\\\\n",
       "\t 선릉(220)           & 승차                & 19824389           \\\\\n",
       "\t 선릉(220)           & 하차                & 17021559           \\\\\n",
       "\t 신도림(234)         & 승차                & 22965725           \\\\\n",
       "\t 신도림(234)         & 하차                & 22916374           \\\\\n",
       "\t 신림(230)           & 승차                & 26680680           \\\\\n",
       "\t 신림(230)           & 하차                & 26117279           \\\\\n",
       "\t 신촌(240)           & 승차                & 18799604           \\\\\n",
       "\t 신촌(240)           & 하차                & 19136098           \\\\\n",
       "\t 을지로입구(202)     & 승차                & 18773969           \\\\\n",
       "\t 을지로입구(202)     & 하차                & 18748926           \\\\\n",
       "\t 잠실(216)           & 승차                & 31080170           \\\\\n",
       "\t 잠실(216)           & 하차                & 28879208           \\\\\n",
       "\t 홍대입구(239)       & 승차                & 28015621           \\\\\n",
       "\t 홍대입구(239)       & 하차                & 29943407           \\\\\n",
       "\\end{tabular}\n"
      ],
      "text/markdown": [
       "\n",
       "역명 | 구분 | station.total | \n",
       "|---|---|---|---|---|---|---|---|---|---|---|---|---|---|---|---|---|---|---|---|---|---|---|---|---|---|---|---|---|---|\n",
       "| 강남(222)           | 승차                | 36262673            | \n",
       "| 강남(222)           | 하차                | 36727247            | \n",
       "| 강변(214)           | 승차                | 18308635            | \n",
       "| 강변(214)           | 하차                | 18215038            | \n",
       "| 건대입구(212)       | 승차                | 16693303            | \n",
       "| 건대입구(212)       | 하차                | 18254615            | \n",
       "| 고속터미널(329)     | 승차                | 20905177            | \n",
       "| 고속터미널(329)     | 하차                | 21681769            | \n",
       "| 구로디지털단지(232) | 승차                | 23104249            | \n",
       "| 구로디지털단지(232) | 하차                | 23186177            | \n",
       "| 삼성(219)           | 승차                | 20538267            | \n",
       "| 삼성(219)           | 하차                | 21225460            | \n",
       "| 서울대입구(228)     | 승차                | 19302962            | \n",
       "| 서울대입구(228)     | 하차                | 18915519            | \n",
       "| 서울역(150)         | 승차                | 22908864            | \n",
       "| 서울역(150)         | 하차                | 20148568            | \n",
       "| 선릉(220)           | 승차                | 19824389            | \n",
       "| 선릉(220)           | 하차                | 17021559            | \n",
       "| 신도림(234)         | 승차                | 22965725            | \n",
       "| 신도림(234)         | 하차                | 22916374            | \n",
       "| 신림(230)           | 승차                | 26680680            | \n",
       "| 신림(230)           | 하차                | 26117279            | \n",
       "| 신촌(240)           | 승차                | 18799604            | \n",
       "| 신촌(240)           | 하차                | 19136098            | \n",
       "| 을지로입구(202)     | 승차                | 18773969            | \n",
       "| 을지로입구(202)     | 하차                | 18748926            | \n",
       "| 잠실(216)           | 승차                | 31080170            | \n",
       "| 잠실(216)           | 하차                | 28879208            | \n",
       "| 홍대입구(239)       | 승차                | 28015621            | \n",
       "| 홍대입구(239)       | 하차                | 29943407            | \n",
       "\n",
       "\n"
      ],
      "text/plain": [
       "   역명                구분 station.total\n",
       "1  강남(222)           승차 36262673     \n",
       "2  강남(222)           하차 36727247     \n",
       "3  강변(214)           승차 18308635     \n",
       "4  강변(214)           하차 18215038     \n",
       "5  건대입구(212)       승차 16693303     \n",
       "6  건대입구(212)       하차 18254615     \n",
       "7  고속터미널(329)     승차 20905177     \n",
       "8  고속터미널(329)     하차 21681769     \n",
       "9  구로디지털단지(232) 승차 23104249     \n",
       "10 구로디지털단지(232) 하차 23186177     \n",
       "11 삼성(219)           승차 20538267     \n",
       "12 삼성(219)           하차 21225460     \n",
       "13 서울대입구(228)     승차 19302962     \n",
       "14 서울대입구(228)     하차 18915519     \n",
       "15 서울역(150)         승차 22908864     \n",
       "16 서울역(150)         하차 20148568     \n",
       "17 선릉(220)           승차 19824389     \n",
       "18 선릉(220)           하차 17021559     \n",
       "19 신도림(234)         승차 22965725     \n",
       "20 신도림(234)         하차 22916374     \n",
       "21 신림(230)           승차 26680680     \n",
       "22 신림(230)           하차 26117279     \n",
       "23 신촌(240)           승차 18799604     \n",
       "24 신촌(240)           하차 19136098     \n",
       "25 을지로입구(202)     승차 18773969     \n",
       "26 을지로입구(202)     하차 18748926     \n",
       "27 잠실(216)           승차 31080170     \n",
       "28 잠실(216)           하차 28879208     \n",
       "29 홍대입구(239)       승차 28015621     \n",
       "30 홍대입구(239)       하차 29943407     "
      ]
     },
     "metadata": {},
     "output_type": "display_data"
    }
   ],
   "source": [
    "subway.month.gubun[subway.month.gubun$역명 %in% subway.15$역명,]"
   ]
  },
  {
   "cell_type": "code",
   "execution_count": 85,
   "metadata": {
    "collapsed": true
   },
   "outputs": [],
   "source": [
    "subway.15.gubun <- subway.month.gubun[subway.month.gubun$역명 %in% subway.15$역명,]"
   ]
  },
  {
   "cell_type": "code",
   "execution_count": 86,
   "metadata": {},
   "outputs": [
    {
     "data": {},
     "metadata": {},
     "output_type": "display_data"
    },
    {
     "data": {
      "image/png": "[encoded data removed]",
      "text/plain": [
       "plot without title"
      ]
     },
     "metadata": {},
     "output_type": "display_data"
    }
   ],
   "source": [
    "ggplot(subway.15.gubun, aes(x=역명, y=station.total, fill=구분)) + \n",
    "geom_bar(stat = 'identity') + \n",
    "theme(axis.text.x=element_text(angle=45))"
   ]
  },
  {
   "cell_type": "code",
   "execution_count": 87,
   "metadata": {},
   "outputs": [
    {
     "data": {},
     "metadata": {},
     "output_type": "display_data"
    },
    {
     "data": {
      "image/png": "[encoded data removed]",
      "text/plain": [
       "plot without title"
      ]
     },
     "metadata": {},
     "output_type": "display_data"
    }
   ],
   "source": [
    "ggplot(subway.15.gubun, aes(x=역명, y=station.total, fill=구분)) + \n",
    "geom_bar(stat = 'identity', position = 'dodge') + \n",
    "theme(axis.text.x=element_text(angle=45))"
   ]
  },
  {
   "cell_type": "code",
   "execution_count": null,
   "metadata": {
    "collapsed": true
   },
   "outputs": [],
   "source": []
  },
  {
   "cell_type": "code",
   "execution_count": null,
   "metadata": {
    "collapsed": true
   },
   "outputs": [],
   "source": []
  },
  {
   "cell_type": "markdown",
   "metadata": {},
   "source": [
    "# shiny를 위한 그래프\n",
    "* 아래 코드는 위의 것과 별개로 샤이니에 들어갈 데이터를 생성하는데 있다. \n",
    "* 샤이니에서 역별로 선택하면 1년치 승하차 그래프가 출력될수 있도록 데이터를 생성한다. \n",
    "* 참고로 샤이니 안에서 생성해도 된다."
   ]
  },
  {
   "cell_type": "code",
   "execution_count": 88,
   "metadata": {},
   "outputs": [],
   "source": [
    "library(ggplot2)\n",
    "library(dplyr)"
   ]
  },
  {
   "cell_type": "code",
   "execution_count": 89,
   "metadata": {
    "collapsed": true
   },
   "outputs": [],
   "source": [
    "subway <- read.csv(\"./Data//all_subway.csv\", header = T)"
   ]
  },
  {
   "cell_type": "code",
   "execution_count": 90,
   "metadata": {},
   "outputs": [
    {
     "data": {
      "text/html": [
       "<table>\n",
       "<thead><tr><th scope=col>X</th><th scope=col>역명</th><th scope=col>날짜</th><th scope=col>구분</th><th scope=col>X05.06</th><th scope=col>X06.07</th><th scope=col>X07.08</th><th scope=col>X08.09</th><th scope=col>X09.10</th><th scope=col>X10.11</th><th scope=col>...</th><th scope=col>X16.17</th><th scope=col>X17.18</th><th scope=col>X18.19</th><th scope=col>X19.20</th><th scope=col>X20.21</th><th scope=col>X21.22</th><th scope=col>X22.23</th><th scope=col>X23.24</th><th scope=col>X00.01</th><th scope=col>X01.02</th></tr></thead>\n",
       "<tbody>\n",
       "\t<tr><td>1          </td><td>동대문(155)</td><td>2016-01-01 </td><td>승차       </td><td>147        </td><td>168        </td><td>170        </td><td>293        </td><td>479        </td><td>543        </td><td>...        </td><td>1034       </td><td>1065       </td><td>625        </td><td>614        </td><td>475        </td><td>414        </td><td>291        </td><td>138        </td><td>  6        </td><td>0          </td></tr>\n",
       "\t<tr><td>2          </td><td>동대문(155)</td><td>2016-01-01 </td><td>하차       </td><td> 31        </td><td>164        </td><td>146        </td><td>164        </td><td>354        </td><td>487        </td><td>...        </td><td>1167       </td><td>1158       </td><td>869        </td><td>827        </td><td>660        </td><td>614        </td><td>471        </td><td>348        </td><td>122        </td><td>0          </td></tr>\n",
       "\t<tr><td>3          </td><td>동묘앞(159)</td><td>2016-01-01 </td><td>승차       </td><td> 37        </td><td> 65        </td><td> 66        </td><td>110        </td><td>161        </td><td>245        </td><td>...        </td><td>1129       </td><td> 975       </td><td>404        </td><td>198        </td><td>139        </td><td>136        </td><td> 81        </td><td> 52        </td><td>  2        </td><td>0          </td></tr>\n",
       "</tbody>\n",
       "</table>\n"
      ],
      "text/latex": [
       "\\begin{tabular}{r|lllllllllllllllllllllllll}\n",
       " X & 역명 & 날짜 & 구분 & X05.06 & X06.07 & X07.08 & X08.09 & X09.10 & X10.11 & ... & X16.17 & X17.18 & X18.19 & X19.20 & X20.21 & X21.22 & X22.23 & X23.24 & X00.01 & X01.02\\\\\n",
       "\\hline\n",
       "\t 1           & 동대문(155) & 2016-01-01  & 승차        & 147         & 168         & 170         & 293         & 479         & 543         & ...         & 1034        & 1065        & 625         & 614         & 475         & 414         & 291         & 138         &   6         & 0          \\\\\n",
       "\t 2           & 동대문(155) & 2016-01-01  & 하차        &  31         & 164         & 146         & 164         & 354         & 487         & ...         & 1167        & 1158        & 869         & 827         & 660         & 614         & 471         & 348         & 122         & 0          \\\\\n",
       "\t 3           & 동묘앞(159) & 2016-01-01  & 승차        &  37         &  65         &  66         & 110         & 161         & 245         & ...         & 1129        &  975        & 404         & 198         & 139         & 136         &  81         &  52         &   2         & 0          \\\\\n",
       "\\end{tabular}\n"
      ],
      "text/markdown": [
       "\n",
       "X | 역명 | 날짜 | 구분 | X05.06 | X06.07 | X07.08 | X08.09 | X09.10 | X10.11 | ... | X16.17 | X17.18 | X18.19 | X19.20 | X20.21 | X21.22 | X22.23 | X23.24 | X00.01 | X01.02 | \n",
       "|---|---|---|\n",
       "| 1           | 동대문(155) | 2016-01-01  | 승차        | 147         | 168         | 170         | 293         | 479         | 543         | ...         | 1034        | 1065        | 625         | 614         | 475         | 414         | 291         | 138         |   6         | 0           | \n",
       "| 2           | 동대문(155) | 2016-01-01  | 하차        |  31         | 164         | 146         | 164         | 354         | 487         | ...         | 1167        | 1158        | 869         | 827         | 660         | 614         | 471         | 348         | 122         | 0           | \n",
       "| 3           | 동묘앞(159) | 2016-01-01  | 승차        |  37         |  65         |  66         | 110         | 161         | 245         | ...         | 1129        |  975        | 404         | 198         | 139         | 136         |  81         |  52         |   2         | 0           | \n",
       "\n",
       "\n"
      ],
      "text/plain": [
       "  X 역명        날짜       구분 X05.06 X06.07 X07.08 X08.09 X09.10 X10.11 ...\n",
       "1 1 동대문(155) 2016-01-01 승차 147    168    170    293    479    543    ...\n",
       "2 2 동대문(155) 2016-01-01 하차  31    164    146    164    354    487    ...\n",
       "3 3 동묘앞(159) 2016-01-01 승차  37     65     66    110    161    245    ...\n",
       "  X16.17 X17.18 X18.19 X19.20 X20.21 X21.22 X22.23 X23.24 X00.01 X01.02\n",
       "1 1034   1065   625    614    475    414    291    138      6    0     \n",
       "2 1167   1158   869    827    660    614    471    348    122    0     \n",
       "3 1129    975   404    198    139    136     81     52      2    0     "
      ]
     },
     "metadata": {},
     "output_type": "display_data"
    }
   ],
   "source": [
    "head(subway,3)"
   ]
  },
  {
   "cell_type": "code",
   "execution_count": 91,
   "metadata": {},
   "outputs": [
    {
     "data": {
      "text/html": [
       "<ol class=list-inline>\n",
       "\t<li>'X'</li>\n",
       "\t<li>'역명'</li>\n",
       "\t<li>'날짜'</li>\n",
       "\t<li>'구분'</li>\n",
       "\t<li>'X05.06'</li>\n",
       "\t<li>'X06.07'</li>\n",
       "\t<li>'X07.08'</li>\n",
       "\t<li>'X08.09'</li>\n",
       "\t<li>'X09.10'</li>\n",
       "\t<li>'X10.11'</li>\n",
       "\t<li>'X11.12'</li>\n",
       "\t<li>'X12.13'</li>\n",
       "\t<li>'X13.14'</li>\n",
       "\t<li>'X14.15'</li>\n",
       "\t<li>'X15.16'</li>\n",
       "\t<li>'X16.17'</li>\n",
       "\t<li>'X17.18'</li>\n",
       "\t<li>'X18.19'</li>\n",
       "\t<li>'X19.20'</li>\n",
       "\t<li>'X20.21'</li>\n",
       "\t<li>'X21.22'</li>\n",
       "\t<li>'X22.23'</li>\n",
       "\t<li>'X23.24'</li>\n",
       "\t<li>'X00.01'</li>\n",
       "\t<li>'X01.02'</li>\n",
       "</ol>\n"
      ],
      "text/latex": [
       "\\begin{enumerate*}\n",
       "\\item 'X'\n",
       "\\item '역명'\n",
       "\\item '날짜'\n",
       "\\item '구분'\n",
       "\\item 'X05.06'\n",
       "\\item 'X06.07'\n",
       "\\item 'X07.08'\n",
       "\\item 'X08.09'\n",
       "\\item 'X09.10'\n",
       "\\item 'X10.11'\n",
       "\\item 'X11.12'\n",
       "\\item 'X12.13'\n",
       "\\item 'X13.14'\n",
       "\\item 'X14.15'\n",
       "\\item 'X15.16'\n",
       "\\item 'X16.17'\n",
       "\\item 'X17.18'\n",
       "\\item 'X18.19'\n",
       "\\item 'X19.20'\n",
       "\\item 'X20.21'\n",
       "\\item 'X21.22'\n",
       "\\item 'X22.23'\n",
       "\\item 'X23.24'\n",
       "\\item 'X00.01'\n",
       "\\item 'X01.02'\n",
       "\\end{enumerate*}\n"
      ],
      "text/markdown": [
       "1. 'X'\n",
       "2. '역명'\n",
       "3. '날짜'\n",
       "4. '구분'\n",
       "5. 'X05.06'\n",
       "6. 'X06.07'\n",
       "7. 'X07.08'\n",
       "8. 'X08.09'\n",
       "9. 'X09.10'\n",
       "10. 'X10.11'\n",
       "11. 'X11.12'\n",
       "12. 'X12.13'\n",
       "13. 'X13.14'\n",
       "14. 'X14.15'\n",
       "15. 'X15.16'\n",
       "16. 'X16.17'\n",
       "17. 'X17.18'\n",
       "18. 'X18.19'\n",
       "19. 'X19.20'\n",
       "20. 'X20.21'\n",
       "21. 'X21.22'\n",
       "22. 'X22.23'\n",
       "23. 'X23.24'\n",
       "24. 'X00.01'\n",
       "25. 'X01.02'\n",
       "\n",
       "\n"
      ],
      "text/plain": [
       " [1] \"X\"      \"역명\"   \"날짜\"   \"구분\"   \"X05.06\" \"X06.07\" \"X07.08\" \"X08.09\"\n",
       " [9] \"X09.10\" \"X10.11\" \"X11.12\" \"X12.13\" \"X13.14\" \"X14.15\" \"X15.16\" \"X16.17\"\n",
       "[17] \"X17.18\" \"X18.19\" \"X19.20\" \"X20.21\" \"X21.22\" \"X22.23\" \"X23.24\" \"X00.01\"\n",
       "[25] \"X01.02\""
      ]
     },
     "metadata": {},
     "output_type": "display_data"
    }
   ],
   "source": [
    "colnames(subway)"
   ]
  },
  {
   "cell_type": "markdown",
   "metadata": {},
   "source": [
    "* check.names이라는 옵션을 사용하지 않았기 때문에 위에서 공백으로 처리된 컬럼이 R에서 자동적으로 X로 부여해줬다.\n",
    "* 이 컬럼도 제거"
   ]
  },
  {
   "cell_type": "code",
   "execution_count": 92,
   "metadata": {
    "collapsed": true
   },
   "outputs": [],
   "source": [
    "new <- subway %>%\n",
    "mutate( 월 = substr(subway$날짜, 1, 7))"
   ]
  },
  {
   "cell_type": "code",
   "execution_count": 93,
   "metadata": {},
   "outputs": [
    {
     "data": {
      "text/html": [
       "<table>\n",
       "<thead><tr><th scope=col>X</th><th scope=col>역명</th><th scope=col>날짜</th><th scope=col>구분</th><th scope=col>X05.06</th><th scope=col>X06.07</th><th scope=col>X07.08</th><th scope=col>X08.09</th><th scope=col>X09.10</th><th scope=col>X10.11</th><th scope=col>...</th><th scope=col>X17.18</th><th scope=col>X18.19</th><th scope=col>X19.20</th><th scope=col>X20.21</th><th scope=col>X21.22</th><th scope=col>X22.23</th><th scope=col>X23.24</th><th scope=col>X00.01</th><th scope=col>X01.02</th><th scope=col>월</th></tr></thead>\n",
       "<tbody>\n",
       "\t<tr><td>1          </td><td>동대문(155)</td><td>2016-01-01 </td><td>승차       </td><td>147        </td><td> 168       </td><td> 170       </td><td> 293       </td><td> 479       </td><td> 543       </td><td>...        </td><td>1065       </td><td> 625       </td><td> 614       </td><td> 475       </td><td> 414       </td><td> 291       </td><td>138        </td><td>  6        </td><td>0          </td><td>2016-01    </td></tr>\n",
       "\t<tr><td>2          </td><td>동대문(155)</td><td>2016-01-01 </td><td>하차       </td><td> 31        </td><td> 164       </td><td> 146       </td><td> 164       </td><td> 354       </td><td> 487       </td><td>...        </td><td>1158       </td><td> 869       </td><td> 827       </td><td> 660       </td><td> 614       </td><td> 471       </td><td>348        </td><td>122        </td><td>0          </td><td>2016-01    </td></tr>\n",
       "\t<tr><td>3          </td><td>동묘앞(159)</td><td>2016-01-01 </td><td>승차       </td><td> 37        </td><td>  65       </td><td>  66       </td><td> 110       </td><td> 161       </td><td> 245       </td><td>...        </td><td> 975       </td><td> 404       </td><td> 198       </td><td> 139       </td><td> 136       </td><td>  81       </td><td> 52        </td><td>  2        </td><td>0          </td><td>2016-01    </td></tr>\n",
       "\t<tr><td>4          </td><td>동묘앞(159)</td><td>2016-01-01 </td><td>하차       </td><td> 19        </td><td>  75       </td><td>  88       </td><td> 147       </td><td> 199       </td><td> 359       </td><td>...        </td><td> 353       </td><td> 231       </td><td> 165       </td><td> 149       </td><td> 146       </td><td> 176       </td><td>144        </td><td>106        </td><td>0          </td><td>2016-01    </td></tr>\n",
       "\t<tr><td>5          </td><td>서울역(150)</td><td>2016-01-01 </td><td>승차       </td><td>405        </td><td> 339       </td><td> 584       </td><td>1144       </td><td>1723       </td><td>2087       </td><td>...        </td><td>3200       </td><td>3076       </td><td>2519       </td><td>2281       </td><td>2398       </td><td>2056       </td><td>996        </td><td> 58        </td><td>0          </td><td>2016-01    </td></tr>\n",
       "\t<tr><td>6          </td><td>서울역(150)</td><td>2016-01-01 </td><td>하차       </td><td>341        </td><td>1637       </td><td>1753       </td><td>1856       </td><td>2438       </td><td>2425       </td><td>...        </td><td>2656       </td><td>2134       </td><td>1859       </td><td>1394       </td><td>1344       </td><td>1056       </td><td>612        </td><td>222        </td><td>0          </td><td>2016-01    </td></tr>\n",
       "</tbody>\n",
       "</table>\n"
      ],
      "text/latex": [
       "\\begin{tabular}{r|llllllllllllllllllllllllll}\n",
       " X & 역명 & 날짜 & 구분 & X05.06 & X06.07 & X07.08 & X08.09 & X09.10 & X10.11 & ... & X17.18 & X18.19 & X19.20 & X20.21 & X21.22 & X22.23 & X23.24 & X00.01 & X01.02 & 월\\\\\n",
       "\\hline\n",
       "\t 1           & 동대문(155) & 2016-01-01  & 승차        & 147         &  168        &  170        &  293        &  479        &  543        & ...         & 1065        &  625        &  614        &  475        &  414        &  291        & 138         &   6         & 0           & 2016-01    \\\\\n",
       "\t 2           & 동대문(155) & 2016-01-01  & 하차        &  31         &  164        &  146        &  164        &  354        &  487        & ...         & 1158        &  869        &  827        &  660        &  614        &  471        & 348         & 122         & 0           & 2016-01    \\\\\n",
       "\t 3           & 동묘앞(159) & 2016-01-01  & 승차        &  37         &   65        &   66        &  110        &  161        &  245        & ...         &  975        &  404        &  198        &  139        &  136        &   81        &  52         &   2         & 0           & 2016-01    \\\\\n",
       "\t 4           & 동묘앞(159) & 2016-01-01  & 하차        &  19         &   75        &   88        &  147        &  199        &  359        & ...         &  353        &  231        &  165        &  149        &  146        &  176        & 144         & 106         & 0           & 2016-01    \\\\\n",
       "\t 5           & 서울역(150) & 2016-01-01  & 승차        & 405         &  339        &  584        & 1144        & 1723        & 2087        & ...         & 3200        & 3076        & 2519        & 2281        & 2398        & 2056        & 996         &  58         & 0           & 2016-01    \\\\\n",
       "\t 6           & 서울역(150) & 2016-01-01  & 하차        & 341         & 1637        & 1753        & 1856        & 2438        & 2425        & ...         & 2656        & 2134        & 1859        & 1394        & 1344        & 1056        & 612         & 222         & 0           & 2016-01    \\\\\n",
       "\\end{tabular}\n"
      ],
      "text/markdown": [
       "\n",
       "X | 역명 | 날짜 | 구분 | X05.06 | X06.07 | X07.08 | X08.09 | X09.10 | X10.11 | ... | X17.18 | X18.19 | X19.20 | X20.21 | X21.22 | X22.23 | X23.24 | X00.01 | X01.02 | 월 | \n",
       "|---|---|---|---|---|---|\n",
       "| 1           | 동대문(155) | 2016-01-01  | 승차        | 147         |  168        |  170        |  293        |  479        |  543        | ...         | 1065        |  625        |  614        |  475        |  414        |  291        | 138         |   6         | 0           | 2016-01     | \n",
       "| 2           | 동대문(155) | 2016-01-01  | 하차        |  31         |  164        |  146        |  164        |  354        |  487        | ...         | 1158        |  869        |  827        |  660        |  614        |  471        | 348         | 122         | 0           | 2016-01     | \n",
       "| 3           | 동묘앞(159) | 2016-01-01  | 승차        |  37         |   65        |   66        |  110        |  161        |  245        | ...         |  975        |  404        |  198        |  139        |  136        |   81        |  52         |   2         | 0           | 2016-01     | \n",
       "| 4           | 동묘앞(159) | 2016-01-01  | 하차        |  19         |   75        |   88        |  147        |  199        |  359        | ...         |  353        |  231        |  165        |  149        |  146        |  176        | 144         | 106         | 0           | 2016-01     | \n",
       "| 5           | 서울역(150) | 2016-01-01  | 승차        | 405         |  339        |  584        | 1144        | 1723        | 2087        | ...         | 3200        | 3076        | 2519        | 2281        | 2398        | 2056        | 996         |  58         | 0           | 2016-01     | \n",
       "| 6           | 서울역(150) | 2016-01-01  | 하차        | 341         | 1637        | 1753        | 1856        | 2438        | 2425        | ...         | 2656        | 2134        | 1859        | 1394        | 1344        | 1056        | 612         | 222         | 0           | 2016-01     | \n",
       "\n",
       "\n"
      ],
      "text/plain": [
       "  X 역명        날짜       구분 X05.06 X06.07 X07.08 X08.09 X09.10 X10.11 ...\n",
       "1 1 동대문(155) 2016-01-01 승차 147     168    170    293    479    543   ...\n",
       "2 2 동대문(155) 2016-01-01 하차  31     164    146    164    354    487   ...\n",
       "3 3 동묘앞(159) 2016-01-01 승차  37      65     66    110    161    245   ...\n",
       "4 4 동묘앞(159) 2016-01-01 하차  19      75     88    147    199    359   ...\n",
       "5 5 서울역(150) 2016-01-01 승차 405     339    584   1144   1723   2087   ...\n",
       "6 6 서울역(150) 2016-01-01 하차 341    1637   1753   1856   2438   2425   ...\n",
       "  X17.18 X18.19 X19.20 X20.21 X21.22 X22.23 X23.24 X00.01 X01.02 월     \n",
       "1 1065    625    614    475    414    291   138      6    0      2016-01\n",
       "2 1158    869    827    660    614    471   348    122    0      2016-01\n",
       "3  975    404    198    139    136     81    52      2    0      2016-01\n",
       "4  353    231    165    149    146    176   144    106    0      2016-01\n",
       "5 3200   3076   2519   2281   2398   2056   996     58    0      2016-01\n",
       "6 2656   2134   1859   1394   1344   1056   612    222    0      2016-01"
      ]
     },
     "metadata": {},
     "output_type": "display_data"
    }
   ],
   "source": [
    "head(new)"
   ]
  },
  {
   "cell_type": "code",
   "execution_count": 94,
   "metadata": {
    "collapsed": true
   },
   "outputs": [],
   "source": [
    "new <- new[, -c(1)]"
   ]
  },
  {
   "cell_type": "code",
   "execution_count": 96,
   "metadata": {},
   "outputs": [
    {
     "data": {
      "text/html": [
       "<table>\n",
       "<thead><tr><th scope=col>역명</th><th scope=col>날짜</th><th scope=col>구분</th><th scope=col>X05.06</th><th scope=col>X06.07</th><th scope=col>X07.08</th><th scope=col>X08.09</th><th scope=col>X09.10</th><th scope=col>X10.11</th><th scope=col>X11.12</th><th scope=col>...</th><th scope=col>X17.18</th><th scope=col>X18.19</th><th scope=col>X19.20</th><th scope=col>X20.21</th><th scope=col>X21.22</th><th scope=col>X22.23</th><th scope=col>X23.24</th><th scope=col>X00.01</th><th scope=col>X01.02</th><th scope=col>월</th></tr></thead>\n",
       "<tbody>\n",
       "\t<tr><td>동대문(155)</td><td>2016-01-01 </td><td>승차       </td><td>147        </td><td>168        </td><td>170        </td><td>293        </td><td>479        </td><td>543        </td><td>625        </td><td>...        </td><td>1065       </td><td>625        </td><td>614        </td><td>475        </td><td>414        </td><td>291        </td><td>138        </td><td>  6        </td><td>0          </td><td>2016-01    </td></tr>\n",
       "\t<tr><td>동대문(155)</td><td>2016-01-01 </td><td>하차       </td><td> 31        </td><td>164        </td><td>146        </td><td>164        </td><td>354        </td><td>487        </td><td>901        </td><td>...        </td><td>1158       </td><td>869        </td><td>827        </td><td>660        </td><td>614        </td><td>471        </td><td>348        </td><td>122        </td><td>0          </td><td>2016-01    </td></tr>\n",
       "\t<tr><td>동묘앞(159)</td><td>2016-01-01 </td><td>승차       </td><td> 37        </td><td> 65        </td><td> 66        </td><td>110        </td><td>161        </td><td>245        </td><td>344        </td><td>...        </td><td> 975       </td><td>404        </td><td>198        </td><td>139        </td><td>136        </td><td> 81        </td><td> 52        </td><td>  2        </td><td>0          </td><td>2016-01    </td></tr>\n",
       "</tbody>\n",
       "</table>\n"
      ],
      "text/latex": [
       "\\begin{tabular}{r|lllllllllllllllllllllllll}\n",
       " 역명 & 날짜 & 구분 & X05.06 & X06.07 & X07.08 & X08.09 & X09.10 & X10.11 & X11.12 & ... & X17.18 & X18.19 & X19.20 & X20.21 & X21.22 & X22.23 & X23.24 & X00.01 & X01.02 & 월\\\\\n",
       "\\hline\n",
       "\t 동대문(155) & 2016-01-01  & 승차        & 147         & 168         & 170         & 293         & 479         & 543         & 625         & ...         & 1065        & 625         & 614         & 475         & 414         & 291         & 138         &   6         & 0           & 2016-01    \\\\\n",
       "\t 동대문(155) & 2016-01-01  & 하차        &  31         & 164         & 146         & 164         & 354         & 487         & 901         & ...         & 1158        & 869         & 827         & 660         & 614         & 471         & 348         & 122         & 0           & 2016-01    \\\\\n",
       "\t 동묘앞(159) & 2016-01-01  & 승차        &  37         &  65         &  66         & 110         & 161         & 245         & 344         & ...         &  975        & 404         & 198         & 139         & 136         &  81         &  52         &   2         & 0           & 2016-01    \\\\\n",
       "\\end{tabular}\n"
      ],
      "text/markdown": [
       "\n",
       "역명 | 날짜 | 구분 | X05.06 | X06.07 | X07.08 | X08.09 | X09.10 | X10.11 | X11.12 | ... | X17.18 | X18.19 | X19.20 | X20.21 | X21.22 | X22.23 | X23.24 | X00.01 | X01.02 | 월 | \n",
       "|---|---|---|\n",
       "| 동대문(155) | 2016-01-01  | 승차        | 147         | 168         | 170         | 293         | 479         | 543         | 625         | ...         | 1065        | 625         | 614         | 475         | 414         | 291         | 138         |   6         | 0           | 2016-01     | \n",
       "| 동대문(155) | 2016-01-01  | 하차        |  31         | 164         | 146         | 164         | 354         | 487         | 901         | ...         | 1158        | 869         | 827         | 660         | 614         | 471         | 348         | 122         | 0           | 2016-01     | \n",
       "| 동묘앞(159) | 2016-01-01  | 승차        |  37         |  65         |  66         | 110         | 161         | 245         | 344         | ...         |  975        | 404         | 198         | 139         | 136         |  81         |  52         |   2         | 0           | 2016-01     | \n",
       "\n",
       "\n"
      ],
      "text/plain": [
       "  역명        날짜       구분 X05.06 X06.07 X07.08 X08.09 X09.10 X10.11 X11.12\n",
       "1 동대문(155) 2016-01-01 승차 147    168    170    293    479    543    625   \n",
       "2 동대문(155) 2016-01-01 하차  31    164    146    164    354    487    901   \n",
       "3 동묘앞(159) 2016-01-01 승차  37     65     66    110    161    245    344   \n",
       "  ... X17.18 X18.19 X19.20 X20.21 X21.22 X22.23 X23.24 X00.01 X01.02 월     \n",
       "1 ... 1065   625    614    475    414    291    138      6    0      2016-01\n",
       "2 ... 1158   869    827    660    614    471    348    122    0      2016-01\n",
       "3 ...  975   404    198    139    136     81     52      2    0      2016-01"
      ]
     },
     "metadata": {},
     "output_type": "display_data"
    },
    {
     "data": {
      "text/html": [
       "<ol class=list-inline>\n",
       "\t<li>'역명'</li>\n",
       "\t<li>'날짜'</li>\n",
       "\t<li>'구분'</li>\n",
       "\t<li>'X05.06'</li>\n",
       "\t<li>'X06.07'</li>\n",
       "\t<li>'X07.08'</li>\n",
       "\t<li>'X08.09'</li>\n",
       "\t<li>'X09.10'</li>\n",
       "\t<li>'X10.11'</li>\n",
       "\t<li>'X11.12'</li>\n",
       "\t<li>'X12.13'</li>\n",
       "\t<li>'X13.14'</li>\n",
       "\t<li>'X14.15'</li>\n",
       "\t<li>'X15.16'</li>\n",
       "\t<li>'X16.17'</li>\n",
       "\t<li>'X17.18'</li>\n",
       "\t<li>'X18.19'</li>\n",
       "\t<li>'X19.20'</li>\n",
       "\t<li>'X20.21'</li>\n",
       "\t<li>'X21.22'</li>\n",
       "\t<li>'X22.23'</li>\n",
       "\t<li>'X23.24'</li>\n",
       "\t<li>'X00.01'</li>\n",
       "\t<li>'X01.02'</li>\n",
       "\t<li>'월'</li>\n",
       "</ol>\n"
      ],
      "text/latex": [
       "\\begin{enumerate*}\n",
       "\\item '역명'\n",
       "\\item '날짜'\n",
       "\\item '구분'\n",
       "\\item 'X05.06'\n",
       "\\item 'X06.07'\n",
       "\\item 'X07.08'\n",
       "\\item 'X08.09'\n",
       "\\item 'X09.10'\n",
       "\\item 'X10.11'\n",
       "\\item 'X11.12'\n",
       "\\item 'X12.13'\n",
       "\\item 'X13.14'\n",
       "\\item 'X14.15'\n",
       "\\item 'X15.16'\n",
       "\\item 'X16.17'\n",
       "\\item 'X17.18'\n",
       "\\item 'X18.19'\n",
       "\\item 'X19.20'\n",
       "\\item 'X20.21'\n",
       "\\item 'X21.22'\n",
       "\\item 'X22.23'\n",
       "\\item 'X23.24'\n",
       "\\item 'X00.01'\n",
       "\\item 'X01.02'\n",
       "\\item '월'\n",
       "\\end{enumerate*}\n"
      ],
      "text/markdown": [
       "1. '역명'\n",
       "2. '날짜'\n",
       "3. '구분'\n",
       "4. 'X05.06'\n",
       "5. 'X06.07'\n",
       "6. 'X07.08'\n",
       "7. 'X08.09'\n",
       "8. 'X09.10'\n",
       "9. 'X10.11'\n",
       "10. 'X11.12'\n",
       "11. 'X12.13'\n",
       "12. 'X13.14'\n",
       "13. 'X14.15'\n",
       "14. 'X15.16'\n",
       "15. 'X16.17'\n",
       "16. 'X17.18'\n",
       "17. 'X18.19'\n",
       "18. 'X19.20'\n",
       "19. 'X20.21'\n",
       "20. 'X21.22'\n",
       "21. 'X22.23'\n",
       "22. 'X23.24'\n",
       "23. 'X00.01'\n",
       "24. 'X01.02'\n",
       "25. '월'\n",
       "\n",
       "\n"
      ],
      "text/plain": [
       " [1] \"역명\"   \"날짜\"   \"구분\"   \"X05.06\" \"X06.07\" \"X07.08\" \"X08.09\" \"X09.10\"\n",
       " [9] \"X10.11\" \"X11.12\" \"X12.13\" \"X13.14\" \"X14.15\" \"X15.16\" \"X16.17\" \"X17.18\"\n",
       "[17] \"X18.19\" \"X19.20\" \"X20.21\" \"X21.22\" \"X22.23\" \"X23.24\" \"X00.01\" \"X01.02\"\n",
       "[25] \"월\"    "
      ]
     },
     "metadata": {},
     "output_type": "display_data"
    }
   ],
   "source": [
    "head(new,3)\n",
    "colnames(new)"
   ]
  },
  {
   "cell_type": "markdown",
   "metadata": {},
   "source": [
    "* 컬럼 순서를 보기 좋게 다시 정렬"
   ]
  },
  {
   "cell_type": "code",
   "execution_count": 97,
   "metadata": {
    "collapsed": true
   },
   "outputs": [],
   "source": [
    "new.1 <- new[, c(1,2,ncol(new),3, 4:(ncol(new)-1))]"
   ]
  },
  {
   "cell_type": "code",
   "execution_count": 98,
   "metadata": {},
   "outputs": [
    {
     "data": {
      "text/html": [
       "<ol class=list-inline>\n",
       "\t<li>'역명'</li>\n",
       "\t<li>'날짜'</li>\n",
       "\t<li>'월'</li>\n",
       "\t<li>'구분'</li>\n",
       "\t<li>'X05.06'</li>\n",
       "\t<li>'X06.07'</li>\n",
       "\t<li>'X07.08'</li>\n",
       "\t<li>'X08.09'</li>\n",
       "\t<li>'X09.10'</li>\n",
       "\t<li>'X10.11'</li>\n",
       "\t<li>'X11.12'</li>\n",
       "\t<li>'X12.13'</li>\n",
       "\t<li>'X13.14'</li>\n",
       "\t<li>'X14.15'</li>\n",
       "\t<li>'X15.16'</li>\n",
       "\t<li>'X16.17'</li>\n",
       "\t<li>'X17.18'</li>\n",
       "\t<li>'X18.19'</li>\n",
       "\t<li>'X19.20'</li>\n",
       "\t<li>'X20.21'</li>\n",
       "\t<li>'X21.22'</li>\n",
       "\t<li>'X22.23'</li>\n",
       "\t<li>'X23.24'</li>\n",
       "\t<li>'X00.01'</li>\n",
       "\t<li>'X01.02'</li>\n",
       "</ol>\n"
      ],
      "text/latex": [
       "\\begin{enumerate*}\n",
       "\\item '역명'\n",
       "\\item '날짜'\n",
       "\\item '월'\n",
       "\\item '구분'\n",
       "\\item 'X05.06'\n",
       "\\item 'X06.07'\n",
       "\\item 'X07.08'\n",
       "\\item 'X08.09'\n",
       "\\item 'X09.10'\n",
       "\\item 'X10.11'\n",
       "\\item 'X11.12'\n",
       "\\item 'X12.13'\n",
       "\\item 'X13.14'\n",
       "\\item 'X14.15'\n",
       "\\item 'X15.16'\n",
       "\\item 'X16.17'\n",
       "\\item 'X17.18'\n",
       "\\item 'X18.19'\n",
       "\\item 'X19.20'\n",
       "\\item 'X20.21'\n",
       "\\item 'X21.22'\n",
       "\\item 'X22.23'\n",
       "\\item 'X23.24'\n",
       "\\item 'X00.01'\n",
       "\\item 'X01.02'\n",
       "\\end{enumerate*}\n"
      ],
      "text/markdown": [
       "1. '역명'\n",
       "2. '날짜'\n",
       "3. '월'\n",
       "4. '구분'\n",
       "5. 'X05.06'\n",
       "6. 'X06.07'\n",
       "7. 'X07.08'\n",
       "8. 'X08.09'\n",
       "9. 'X09.10'\n",
       "10. 'X10.11'\n",
       "11. 'X11.12'\n",
       "12. 'X12.13'\n",
       "13. 'X13.14'\n",
       "14. 'X14.15'\n",
       "15. 'X15.16'\n",
       "16. 'X16.17'\n",
       "17. 'X17.18'\n",
       "18. 'X18.19'\n",
       "19. 'X19.20'\n",
       "20. 'X20.21'\n",
       "21. 'X21.22'\n",
       "22. 'X22.23'\n",
       "23. 'X23.24'\n",
       "24. 'X00.01'\n",
       "25. 'X01.02'\n",
       "\n",
       "\n"
      ],
      "text/plain": [
       " [1] \"역명\"   \"날짜\"   \"월\"     \"구분\"   \"X05.06\" \"X06.07\" \"X07.08\" \"X08.09\"\n",
       " [9] \"X09.10\" \"X10.11\" \"X11.12\" \"X12.13\" \"X13.14\" \"X14.15\" \"X15.16\" \"X16.17\"\n",
       "[17] \"X17.18\" \"X18.19\" \"X19.20\" \"X20.21\" \"X21.22\" \"X22.23\" \"X23.24\" \"X00.01\"\n",
       "[25] \"X01.02\""
      ]
     },
     "metadata": {},
     "output_type": "display_data"
    }
   ],
   "source": [
    "colnames(new.1)"
   ]
  },
  {
   "cell_type": "code",
   "execution_count": 99,
   "metadata": {},
   "outputs": [
    {
     "data": {
      "text/html": [
       "<table>\n",
       "<thead><tr><th scope=col>역명</th><th scope=col>날짜</th><th scope=col>월</th><th scope=col>구분</th><th scope=col>X05.06</th><th scope=col>X06.07</th><th scope=col>X07.08</th><th scope=col>X08.09</th><th scope=col>X09.10</th><th scope=col>X10.11</th><th scope=col>...</th><th scope=col>X16.17</th><th scope=col>X17.18</th><th scope=col>X18.19</th><th scope=col>X19.20</th><th scope=col>X20.21</th><th scope=col>X21.22</th><th scope=col>X22.23</th><th scope=col>X23.24</th><th scope=col>X00.01</th><th scope=col>X01.02</th></tr></thead>\n",
       "<tbody>\n",
       "\t<tr><td>동대문(155)</td><td>2016-01-01 </td><td>2016-01    </td><td>승차       </td><td>147        </td><td>168        </td><td>170        </td><td>293        </td><td>479        </td><td>543        </td><td>...        </td><td>1034       </td><td>1065       </td><td>625        </td><td>614        </td><td>475        </td><td>414        </td><td>291        </td><td>138        </td><td>  6        </td><td>0          </td></tr>\n",
       "\t<tr><td>동대문(155)</td><td>2016-01-01 </td><td>2016-01    </td><td>하차       </td><td> 31        </td><td>164        </td><td>146        </td><td>164        </td><td>354        </td><td>487        </td><td>...        </td><td>1167       </td><td>1158       </td><td>869        </td><td>827        </td><td>660        </td><td>614        </td><td>471        </td><td>348        </td><td>122        </td><td>0          </td></tr>\n",
       "\t<tr><td>동묘앞(159)</td><td>2016-01-01 </td><td>2016-01    </td><td>승차       </td><td> 37        </td><td> 65        </td><td> 66        </td><td>110        </td><td>161        </td><td>245        </td><td>...        </td><td>1129       </td><td> 975       </td><td>404        </td><td>198        </td><td>139        </td><td>136        </td><td> 81        </td><td> 52        </td><td>  2        </td><td>0          </td></tr>\n",
       "</tbody>\n",
       "</table>\n"
      ],
      "text/latex": [
       "\\begin{tabular}{r|lllllllllllllllllllllllll}\n",
       " 역명 & 날짜 & 월 & 구분 & X05.06 & X06.07 & X07.08 & X08.09 & X09.10 & X10.11 & ... & X16.17 & X17.18 & X18.19 & X19.20 & X20.21 & X21.22 & X22.23 & X23.24 & X00.01 & X01.02\\\\\n",
       "\\hline\n",
       "\t 동대문(155) & 2016-01-01  & 2016-01     & 승차        & 147         & 168         & 170         & 293         & 479         & 543         & ...         & 1034        & 1065        & 625         & 614         & 475         & 414         & 291         & 138         &   6         & 0          \\\\\n",
       "\t 동대문(155) & 2016-01-01  & 2016-01     & 하차        &  31         & 164         & 146         & 164         & 354         & 487         & ...         & 1167        & 1158        & 869         & 827         & 660         & 614         & 471         & 348         & 122         & 0          \\\\\n",
       "\t 동묘앞(159) & 2016-01-01  & 2016-01     & 승차        &  37         &  65         &  66         & 110         & 161         & 245         & ...         & 1129        &  975        & 404         & 198         & 139         & 136         &  81         &  52         &   2         & 0          \\\\\n",
       "\\end{tabular}\n"
      ],
      "text/markdown": [
       "\n",
       "역명 | 날짜 | 월 | 구분 | X05.06 | X06.07 | X07.08 | X08.09 | X09.10 | X10.11 | ... | X16.17 | X17.18 | X18.19 | X19.20 | X20.21 | X21.22 | X22.23 | X23.24 | X00.01 | X01.02 | \n",
       "|---|---|---|\n",
       "| 동대문(155) | 2016-01-01  | 2016-01     | 승차        | 147         | 168         | 170         | 293         | 479         | 543         | ...         | 1034        | 1065        | 625         | 614         | 475         | 414         | 291         | 138         |   6         | 0           | \n",
       "| 동대문(155) | 2016-01-01  | 2016-01     | 하차        |  31         | 164         | 146         | 164         | 354         | 487         | ...         | 1167        | 1158        | 869         | 827         | 660         | 614         | 471         | 348         | 122         | 0           | \n",
       "| 동묘앞(159) | 2016-01-01  | 2016-01     | 승차        |  37         |  65         |  66         | 110         | 161         | 245         | ...         | 1129        |  975        | 404         | 198         | 139         | 136         |  81         |  52         |   2         | 0           | \n",
       "\n",
       "\n"
      ],
      "text/plain": [
       "  역명        날짜       월      구분 X05.06 X06.07 X07.08 X08.09 X09.10 X10.11\n",
       "1 동대문(155) 2016-01-01 2016-01 승차 147    168    170    293    479    543   \n",
       "2 동대문(155) 2016-01-01 2016-01 하차  31    164    146    164    354    487   \n",
       "3 동묘앞(159) 2016-01-01 2016-01 승차  37     65     66    110    161    245   \n",
       "  ... X16.17 X17.18 X18.19 X19.20 X20.21 X21.22 X22.23 X23.24 X00.01 X01.02\n",
       "1 ... 1034   1065   625    614    475    414    291    138      6    0     \n",
       "2 ... 1167   1158   869    827    660    614    471    348    122    0     \n",
       "3 ... 1129    975   404    198    139    136     81     52      2    0     "
      ]
     },
     "metadata": {},
     "output_type": "display_data"
    }
   ],
   "source": [
    "head(new.1, 3)"
   ]
  },
  {
   "cell_type": "code",
   "execution_count": 100,
   "metadata": {},
   "outputs": [
    {
     "data": {
      "text/html": [
       "<ol class=list-inline>\n",
       "\t<li>'역명'</li>\n",
       "\t<li>'날짜'</li>\n",
       "\t<li>'월'</li>\n",
       "\t<li>'구분'</li>\n",
       "\t<li>'X05.06'</li>\n",
       "\t<li>'X06.07'</li>\n",
       "\t<li>'X07.08'</li>\n",
       "\t<li>'X08.09'</li>\n",
       "\t<li>'X09.10'</li>\n",
       "\t<li>'X10.11'</li>\n",
       "\t<li>'X11.12'</li>\n",
       "\t<li>'X12.13'</li>\n",
       "\t<li>'X13.14'</li>\n",
       "\t<li>'X14.15'</li>\n",
       "\t<li>'X15.16'</li>\n",
       "\t<li>'X16.17'</li>\n",
       "\t<li>'X17.18'</li>\n",
       "\t<li>'X18.19'</li>\n",
       "\t<li>'X19.20'</li>\n",
       "\t<li>'X20.21'</li>\n",
       "\t<li>'X21.22'</li>\n",
       "\t<li>'X22.23'</li>\n",
       "\t<li>'X23.24'</li>\n",
       "\t<li>'X00.01'</li>\n",
       "\t<li>'X01.02'</li>\n",
       "</ol>\n"
      ],
      "text/latex": [
       "\\begin{enumerate*}\n",
       "\\item '역명'\n",
       "\\item '날짜'\n",
       "\\item '월'\n",
       "\\item '구분'\n",
       "\\item 'X05.06'\n",
       "\\item 'X06.07'\n",
       "\\item 'X07.08'\n",
       "\\item 'X08.09'\n",
       "\\item 'X09.10'\n",
       "\\item 'X10.11'\n",
       "\\item 'X11.12'\n",
       "\\item 'X12.13'\n",
       "\\item 'X13.14'\n",
       "\\item 'X14.15'\n",
       "\\item 'X15.16'\n",
       "\\item 'X16.17'\n",
       "\\item 'X17.18'\n",
       "\\item 'X18.19'\n",
       "\\item 'X19.20'\n",
       "\\item 'X20.21'\n",
       "\\item 'X21.22'\n",
       "\\item 'X22.23'\n",
       "\\item 'X23.24'\n",
       "\\item 'X00.01'\n",
       "\\item 'X01.02'\n",
       "\\end{enumerate*}\n"
      ],
      "text/markdown": [
       "1. '역명'\n",
       "2. '날짜'\n",
       "3. '월'\n",
       "4. '구분'\n",
       "5. 'X05.06'\n",
       "6. 'X06.07'\n",
       "7. 'X07.08'\n",
       "8. 'X08.09'\n",
       "9. 'X09.10'\n",
       "10. 'X10.11'\n",
       "11. 'X11.12'\n",
       "12. 'X12.13'\n",
       "13. 'X13.14'\n",
       "14. 'X14.15'\n",
       "15. 'X15.16'\n",
       "16. 'X16.17'\n",
       "17. 'X17.18'\n",
       "18. 'X18.19'\n",
       "19. 'X19.20'\n",
       "20. 'X20.21'\n",
       "21. 'X21.22'\n",
       "22. 'X22.23'\n",
       "23. 'X23.24'\n",
       "24. 'X00.01'\n",
       "25. 'X01.02'\n",
       "\n",
       "\n"
      ],
      "text/plain": [
       " [1] \"역명\"   \"날짜\"   \"월\"     \"구분\"   \"X05.06\" \"X06.07\" \"X07.08\" \"X08.09\"\n",
       " [9] \"X09.10\" \"X10.11\" \"X11.12\" \"X12.13\" \"X13.14\" \"X14.15\" \"X15.16\" \"X16.17\"\n",
       "[17] \"X17.18\" \"X18.19\" \"X19.20\" \"X20.21\" \"X21.22\" \"X22.23\" \"X23.24\" \"X00.01\"\n",
       "[25] \"X01.02\""
      ]
     },
     "metadata": {},
     "output_type": "display_data"
    },
    {
     "data": {
      "text/html": [
       "25"
      ],
      "text/latex": [
       "25"
      ],
      "text/markdown": [
       "25"
      ],
      "text/plain": [
       "[1] 25"
      ]
     },
     "metadata": {},
     "output_type": "display_data"
    }
   ],
   "source": [
    "colnames(new.1)\n",
    "ncol(new.1)"
   ]
  },
  {
   "cell_type": "markdown",
   "metadata": {},
   "source": [
    "* 합계를 생성한다."
   ]
  },
  {
   "cell_type": "code",
   "execution_count": 101,
   "metadata": {
    "collapsed": true
   },
   "outputs": [],
   "source": [
    "new.1$sum <- apply(new.1[ , c(5:ncol(new.1))], 1, sum)"
   ]
  },
  {
   "cell_type": "code",
   "execution_count": 102,
   "metadata": {},
   "outputs": [
    {
     "data": {
      "text/html": [
       "<table>\n",
       "<thead><tr><th scope=col>역명</th><th scope=col>날짜</th><th scope=col>월</th><th scope=col>구분</th><th scope=col>X05.06</th><th scope=col>X06.07</th><th scope=col>X07.08</th><th scope=col>X08.09</th><th scope=col>X09.10</th><th scope=col>X10.11</th><th scope=col>...</th><th scope=col>X17.18</th><th scope=col>X18.19</th><th scope=col>X19.20</th><th scope=col>X20.21</th><th scope=col>X21.22</th><th scope=col>X22.23</th><th scope=col>X23.24</th><th scope=col>X00.01</th><th scope=col>X01.02</th><th scope=col>sum</th></tr></thead>\n",
       "<tbody>\n",
       "\t<tr><td>동대문(155)</td><td>2016-01-01 </td><td>2016-01    </td><td>승차       </td><td>147        </td><td>168        </td><td>170        </td><td>293        </td><td>479        </td><td>543        </td><td>...        </td><td>1065       </td><td>625        </td><td>614        </td><td>475        </td><td>414        </td><td>291        </td><td>138        </td><td>  6        </td><td>0          </td><td>10523      </td></tr>\n",
       "\t<tr><td>동대문(155)</td><td>2016-01-01 </td><td>2016-01    </td><td>하차       </td><td> 31        </td><td>164        </td><td>146        </td><td>164        </td><td>354        </td><td>487        </td><td>...        </td><td>1158       </td><td>869        </td><td>827        </td><td>660        </td><td>614        </td><td>471        </td><td>348        </td><td>122        </td><td>0          </td><td>13513      </td></tr>\n",
       "\t<tr><td>동묘앞(159)</td><td>2016-01-01 </td><td>2016-01    </td><td>승차       </td><td> 37        </td><td> 65        </td><td> 66        </td><td>110        </td><td>161        </td><td>245        </td><td>...        </td><td> 975       </td><td>404        </td><td>198        </td><td>139        </td><td>136        </td><td> 81        </td><td> 52        </td><td>  2        </td><td>0          </td><td> 7209      </td></tr>\n",
       "</tbody>\n",
       "</table>\n"
      ],
      "text/latex": [
       "\\begin{tabular}{r|llllllllllllllllllllllllll}\n",
       " 역명 & 날짜 & 월 & 구분 & X05.06 & X06.07 & X07.08 & X08.09 & X09.10 & X10.11 & ... & X17.18 & X18.19 & X19.20 & X20.21 & X21.22 & X22.23 & X23.24 & X00.01 & X01.02 & sum\\\\\n",
       "\\hline\n",
       "\t 동대문(155) & 2016-01-01  & 2016-01     & 승차        & 147         & 168         & 170         & 293         & 479         & 543         & ...         & 1065        & 625         & 614         & 475         & 414         & 291         & 138         &   6         & 0           & 10523      \\\\\n",
       "\t 동대문(155) & 2016-01-01  & 2016-01     & 하차        &  31         & 164         & 146         & 164         & 354         & 487         & ...         & 1158        & 869         & 827         & 660         & 614         & 471         & 348         & 122         & 0           & 13513      \\\\\n",
       "\t 동묘앞(159) & 2016-01-01  & 2016-01     & 승차        &  37         &  65         &  66         & 110         & 161         & 245         & ...         &  975        & 404         & 198         & 139         & 136         &  81         &  52         &   2         & 0           &  7209      \\\\\n",
       "\\end{tabular}\n"
      ],
      "text/markdown": [
       "\n",
       "역명 | 날짜 | 월 | 구분 | X05.06 | X06.07 | X07.08 | X08.09 | X09.10 | X10.11 | ... | X17.18 | X18.19 | X19.20 | X20.21 | X21.22 | X22.23 | X23.24 | X00.01 | X01.02 | sum | \n",
       "|---|---|---|\n",
       "| 동대문(155) | 2016-01-01  | 2016-01     | 승차        | 147         | 168         | 170         | 293         | 479         | 543         | ...         | 1065        | 625         | 614         | 475         | 414         | 291         | 138         |   6         | 0           | 10523       | \n",
       "| 동대문(155) | 2016-01-01  | 2016-01     | 하차        |  31         | 164         | 146         | 164         | 354         | 487         | ...         | 1158        | 869         | 827         | 660         | 614         | 471         | 348         | 122         | 0           | 13513       | \n",
       "| 동묘앞(159) | 2016-01-01  | 2016-01     | 승차        |  37         |  65         |  66         | 110         | 161         | 245         | ...         |  975        | 404         | 198         | 139         | 136         |  81         |  52         |   2         | 0           |  7209       | \n",
       "\n",
       "\n"
      ],
      "text/plain": [
       "  역명        날짜       월      구분 X05.06 X06.07 X07.08 X08.09 X09.10 X10.11\n",
       "1 동대문(155) 2016-01-01 2016-01 승차 147    168    170    293    479    543   \n",
       "2 동대문(155) 2016-01-01 2016-01 하차  31    164    146    164    354    487   \n",
       "3 동묘앞(159) 2016-01-01 2016-01 승차  37     65     66    110    161    245   \n",
       "  ... X17.18 X18.19 X19.20 X20.21 X21.22 X22.23 X23.24 X00.01 X01.02 sum  \n",
       "1 ... 1065   625    614    475    414    291    138      6    0      10523\n",
       "2 ... 1158   869    827    660    614    471    348    122    0      13513\n",
       "3 ...  975   404    198    139    136     81     52      2    0       7209"
      ]
     },
     "metadata": {},
     "output_type": "display_data"
    }
   ],
   "source": [
    "head(new.1,3)"
   ]
  },
  {
   "cell_type": "code",
   "execution_count": 103,
   "metadata": {
    "collapsed": true
   },
   "outputs": [],
   "source": [
    "new.2 <- new.1 %>%\n",
    "group_by(역명, 구분, 월) %>%\n",
    "summarise( Total = sum(sum))"
   ]
  },
  {
   "cell_type": "code",
   "execution_count": 104,
   "metadata": {},
   "outputs": [
    {
     "data": {
      "text/html": [
       "<table>\n",
       "<thead><tr><th scope=col>역명</th><th scope=col>구분</th><th scope=col>월</th><th scope=col>Total</th></tr></thead>\n",
       "<tbody>\n",
       "\t<tr><td>가락시장(340)</td><td>승차         </td><td>2016-01      </td><td> 263098      </td></tr>\n",
       "\t<tr><td>가락시장(340)</td><td>승차         </td><td>2016-02      </td><td> 242391      </td></tr>\n",
       "\t<tr><td>가락시장(340)</td><td>승차         </td><td>2016-03      </td><td> 291180      </td></tr>\n",
       "\t<tr><td>가락시장(340)</td><td>승차         </td><td>2016-04      </td><td> 281119      </td></tr>\n",
       "\t<tr><td>가락시장(340)</td><td>승차         </td><td>2016-05      </td><td> 287093      </td></tr>\n",
       "\t<tr><td>가락시장(340)</td><td>승차         </td><td>2016-06      </td><td> 282307      </td></tr>\n",
       "\t<tr><td>가락시장(340)</td><td>승차         </td><td>2016-07      </td><td> 281469      </td></tr>\n",
       "\t<tr><td>가락시장(340)</td><td>승차         </td><td>2016-08      </td><td> 275291      </td></tr>\n",
       "\t<tr><td>가락시장(340)</td><td>승차         </td><td>2016-09      </td><td> 270247      </td></tr>\n",
       "\t<tr><td>가락시장(340)</td><td>승차         </td><td>2016-10      </td><td> 293916      </td></tr>\n",
       "\t<tr><td>가락시장(340)</td><td>승차         </td><td>2016-11      </td><td> 300113      </td></tr>\n",
       "\t<tr><td>가락시장(340)</td><td>승차         </td><td>2016-12      </td><td> 318493      </td></tr>\n",
       "\t<tr><td>가락시장(340)</td><td>하차         </td><td>2016-01      </td><td> 245085      </td></tr>\n",
       "\t<tr><td>가락시장(340)</td><td>하차         </td><td>2016-02      </td><td> 225362      </td></tr>\n",
       "\t<tr><td>가락시장(340)</td><td>하차         </td><td>2016-03      </td><td> 271901      </td></tr>\n",
       "\t<tr><td>가락시장(340)</td><td>하차         </td><td>2016-04      </td><td> 262652      </td></tr>\n",
       "\t<tr><td>가락시장(340)</td><td>하차         </td><td>2016-05      </td><td> 267769      </td></tr>\n",
       "\t<tr><td>가락시장(340)</td><td>하차         </td><td>2016-06      </td><td> 265037      </td></tr>\n",
       "\t<tr><td>가락시장(340)</td><td>하차         </td><td>2016-07      </td><td> 268287      </td></tr>\n",
       "\t<tr><td>가락시장(340)</td><td>하차         </td><td>2016-08      </td><td> 263223      </td></tr>\n",
       "\t<tr><td>가락시장(340)</td><td>하차         </td><td>2016-09      </td><td> 259555      </td></tr>\n",
       "\t<tr><td>가락시장(340)</td><td>하차         </td><td>2016-10      </td><td> 282504      </td></tr>\n",
       "\t<tr><td>가락시장(340)</td><td>하차         </td><td>2016-11      </td><td> 289205      </td></tr>\n",
       "\t<tr><td>가락시장(340)</td><td>하차         </td><td>2016-12      </td><td> 305473      </td></tr>\n",
       "\t<tr><td>강남(222)    </td><td>승차         </td><td>2016-01      </td><td>3257354      </td></tr>\n",
       "\t<tr><td>강남(222)    </td><td>승차         </td><td>2016-02      </td><td>2857897      </td></tr>\n",
       "\t<tr><td>강남(222)    </td><td>승차         </td><td>2016-03      </td><td>3137048      </td></tr>\n",
       "\t<tr><td>강남(222)    </td><td>승차         </td><td>2016-04      </td><td>2901249      </td></tr>\n",
       "\t<tr><td>강남(222)    </td><td>승차         </td><td>2016-05      </td><td>2937838      </td></tr>\n",
       "\t<tr><td>강남(222)    </td><td>승차         </td><td>2016-06      </td><td>2893814      </td></tr>\n",
       "\t<tr><td>...</td><td>...</td><td>...</td><td>...</td></tr>\n",
       "\t<tr><td>홍제(314)</td><td>하차     </td><td>2016-07  </td><td> 562343  </td></tr>\n",
       "\t<tr><td>홍제(314)</td><td>하차     </td><td>2016-08  </td><td> 552743  </td></tr>\n",
       "\t<tr><td>홍제(314)</td><td>하차     </td><td>2016-09  </td><td> 557013  </td></tr>\n",
       "\t<tr><td>홍제(314)</td><td>하차     </td><td>2016-10  </td><td> 600573  </td></tr>\n",
       "\t<tr><td>홍제(314)</td><td>하차     </td><td>2016-11  </td><td> 622190  </td></tr>\n",
       "\t<tr><td>홍제(314)</td><td>하차     </td><td>2016-12  </td><td> 625691  </td></tr>\n",
       "\t<tr><td>회현(425)</td><td>승차     </td><td>2016-01  </td><td> 825221  </td></tr>\n",
       "\t<tr><td>회현(425)</td><td>승차     </td><td>2016-02  </td><td> 763366  </td></tr>\n",
       "\t<tr><td>회현(425)</td><td>승차     </td><td>2016-03  </td><td> 954210  </td></tr>\n",
       "\t<tr><td>회현(425)</td><td>승차     </td><td>2016-04  </td><td> 939815  </td></tr>\n",
       "\t<tr><td>회현(425)</td><td>승차     </td><td>2016-05  </td><td> 975506  </td></tr>\n",
       "\t<tr><td>회현(425)</td><td>승차     </td><td>2016-06  </td><td> 948889  </td></tr>\n",
       "\t<tr><td>회현(425)</td><td>승차     </td><td>2016-07  </td><td> 917893  </td></tr>\n",
       "\t<tr><td>회현(425)</td><td>승차     </td><td>2016-08  </td><td> 880330  </td></tr>\n",
       "\t<tr><td>회현(425)</td><td>승차     </td><td>2016-09  </td><td> 850090  </td></tr>\n",
       "\t<tr><td>회현(425)</td><td>승차     </td><td>2016-10  </td><td> 964501  </td></tr>\n",
       "\t<tr><td>회현(425)</td><td>승차     </td><td>2016-11  </td><td> 964109  </td></tr>\n",
       "\t<tr><td>회현(425)</td><td>승차     </td><td>2016-12  </td><td> 977837  </td></tr>\n",
       "\t<tr><td>회현(425)</td><td>하차     </td><td>2016-01  </td><td> 869765  </td></tr>\n",
       "\t<tr><td>회현(425)</td><td>하차     </td><td>2016-02  </td><td> 805123  </td></tr>\n",
       "\t<tr><td>회현(425)</td><td>하차     </td><td>2016-03  </td><td>1018683  </td></tr>\n",
       "\t<tr><td>회현(425)</td><td>하차     </td><td>2016-04  </td><td>1003413  </td></tr>\n",
       "\t<tr><td>회현(425)</td><td>하차     </td><td>2016-05  </td><td>1042521  </td></tr>\n",
       "\t<tr><td>회현(425)</td><td>하차     </td><td>2016-06  </td><td>1010528  </td></tr>\n",
       "\t<tr><td>회현(425)</td><td>하차     </td><td>2016-07  </td><td> 968626  </td></tr>\n",
       "\t<tr><td>회현(425)</td><td>하차     </td><td>2016-08  </td><td> 924944  </td></tr>\n",
       "\t<tr><td>회현(425)</td><td>하차     </td><td>2016-09  </td><td> 904018  </td></tr>\n",
       "\t<tr><td>회현(425)</td><td>하차     </td><td>2016-10  </td><td>1023499  </td></tr>\n",
       "\t<tr><td>회현(425)</td><td>하차     </td><td>2016-11  </td><td>1011573  </td></tr>\n",
       "\t<tr><td>회현(425)</td><td>하차     </td><td>2016-12  </td><td>1023702  </td></tr>\n",
       "</tbody>\n",
       "</table>\n"
      ],
      "text/latex": [
       "\\begin{tabular}{r|llll}\n",
       " 역명 & 구분 & 월 & Total\\\\\n",
       "\\hline\n",
       "\t 가락시장(340) & 승차          & 2016-01       &  263098      \\\\\n",
       "\t 가락시장(340) & 승차          & 2016-02       &  242391      \\\\\n",
       "\t 가락시장(340) & 승차          & 2016-03       &  291180      \\\\\n",
       "\t 가락시장(340) & 승차          & 2016-04       &  281119      \\\\\n",
       "\t 가락시장(340) & 승차          & 2016-05       &  287093      \\\\\n",
       "\t 가락시장(340) & 승차          & 2016-06       &  282307      \\\\\n",
       "\t 가락시장(340) & 승차          & 2016-07       &  281469      \\\\\n",
       "\t 가락시장(340) & 승차          & 2016-08       &  275291      \\\\\n",
       "\t 가락시장(340) & 승차          & 2016-09       &  270247      \\\\\n",
       "\t 가락시장(340) & 승차          & 2016-10       &  293916      \\\\\n",
       "\t 가락시장(340) & 승차          & 2016-11       &  300113      \\\\\n",
       "\t 가락시장(340) & 승차          & 2016-12       &  318493      \\\\\n",
       "\t 가락시장(340) & 하차          & 2016-01       &  245085      \\\\\n",
       "\t 가락시장(340) & 하차          & 2016-02       &  225362      \\\\\n",
       "\t 가락시장(340) & 하차          & 2016-03       &  271901      \\\\\n",
       "\t 가락시장(340) & 하차          & 2016-04       &  262652      \\\\\n",
       "\t 가락시장(340) & 하차          & 2016-05       &  267769      \\\\\n",
       "\t 가락시장(340) & 하차          & 2016-06       &  265037      \\\\\n",
       "\t 가락시장(340) & 하차          & 2016-07       &  268287      \\\\\n",
       "\t 가락시장(340) & 하차          & 2016-08       &  263223      \\\\\n",
       "\t 가락시장(340) & 하차          & 2016-09       &  259555      \\\\\n",
       "\t 가락시장(340) & 하차          & 2016-10       &  282504      \\\\\n",
       "\t 가락시장(340) & 하차          & 2016-11       &  289205      \\\\\n",
       "\t 가락시장(340) & 하차          & 2016-12       &  305473      \\\\\n",
       "\t 강남(222)     & 승차          & 2016-01       & 3257354      \\\\\n",
       "\t 강남(222)     & 승차          & 2016-02       & 2857897      \\\\\n",
       "\t 강남(222)     & 승차          & 2016-03       & 3137048      \\\\\n",
       "\t 강남(222)     & 승차          & 2016-04       & 2901249      \\\\\n",
       "\t 강남(222)     & 승차          & 2016-05       & 2937838      \\\\\n",
       "\t 강남(222)     & 승차          & 2016-06       & 2893814      \\\\\n",
       "\t ... & ... & ... & ...\\\\\n",
       "\t 홍제(314) & 하차      & 2016-07   &  562343  \\\\\n",
       "\t 홍제(314) & 하차      & 2016-08   &  552743  \\\\\n",
       "\t 홍제(314) & 하차      & 2016-09   &  557013  \\\\\n",
       "\t 홍제(314) & 하차      & 2016-10   &  600573  \\\\\n",
       "\t 홍제(314) & 하차      & 2016-11   &  622190  \\\\\n",
       "\t 홍제(314) & 하차      & 2016-12   &  625691  \\\\\n",
       "\t 회현(425) & 승차      & 2016-01   &  825221  \\\\\n",
       "\t 회현(425) & 승차      & 2016-02   &  763366  \\\\\n",
       "\t 회현(425) & 승차      & 2016-03   &  954210  \\\\\n",
       "\t 회현(425) & 승차      & 2016-04   &  939815  \\\\\n",
       "\t 회현(425) & 승차      & 2016-05   &  975506  \\\\\n",
       "\t 회현(425) & 승차      & 2016-06   &  948889  \\\\\n",
       "\t 회현(425) & 승차      & 2016-07   &  917893  \\\\\n",
       "\t 회현(425) & 승차      & 2016-08   &  880330  \\\\\n",
       "\t 회현(425) & 승차      & 2016-09   &  850090  \\\\\n",
       "\t 회현(425) & 승차      & 2016-10   &  964501  \\\\\n",
       "\t 회현(425) & 승차      & 2016-11   &  964109  \\\\\n",
       "\t 회현(425) & 승차      & 2016-12   &  977837  \\\\\n",
       "\t 회현(425) & 하차      & 2016-01   &  869765  \\\\\n",
       "\t 회현(425) & 하차      & 2016-02   &  805123  \\\\\n",
       "\t 회현(425) & 하차      & 2016-03   & 1018683  \\\\\n",
       "\t 회현(425) & 하차      & 2016-04   & 1003413  \\\\\n",
       "\t 회현(425) & 하차      & 2016-05   & 1042521  \\\\\n",
       "\t 회현(425) & 하차      & 2016-06   & 1010528  \\\\\n",
       "\t 회현(425) & 하차      & 2016-07   &  968626  \\\\\n",
       "\t 회현(425) & 하차      & 2016-08   &  924944  \\\\\n",
       "\t 회현(425) & 하차      & 2016-09   &  904018  \\\\\n",
       "\t 회현(425) & 하차      & 2016-10   & 1023499  \\\\\n",
       "\t 회현(425) & 하차      & 2016-11   & 1011573  \\\\\n",
       "\t 회현(425) & 하차      & 2016-12   & 1023702  \\\\\n",
       "\\end{tabular}\n"
      ],
      "text/markdown": [
       "\n",
       "역명 | 구분 | 월 | Total | \n",
       "|---|---|---|---|---|---|---|---|---|---|---|---|---|---|---|---|---|---|---|---|---|---|---|---|---|---|---|---|---|---|---|---|---|---|---|---|---|---|---|---|---|---|---|---|---|---|---|---|---|---|---|---|---|---|---|---|---|---|---|---|---|\n",
       "| 가락시장(340) | 승차          | 2016-01       |  263098       | \n",
       "| 가락시장(340) | 승차          | 2016-02       |  242391       | \n",
       "| 가락시장(340) | 승차          | 2016-03       |  291180       | \n",
       "| 가락시장(340) | 승차          | 2016-04       |  281119       | \n",
       "| 가락시장(340) | 승차          | 2016-05       |  287093       | \n",
       "| 가락시장(340) | 승차          | 2016-06       |  282307       | \n",
       "| 가락시장(340) | 승차          | 2016-07       |  281469       | \n",
       "| 가락시장(340) | 승차          | 2016-08       |  275291       | \n",
       "| 가락시장(340) | 승차          | 2016-09       |  270247       | \n",
       "| 가락시장(340) | 승차          | 2016-10       |  293916       | \n",
       "| 가락시장(340) | 승차          | 2016-11       |  300113       | \n",
       "| 가락시장(340) | 승차          | 2016-12       |  318493       | \n",
       "| 가락시장(340) | 하차          | 2016-01       |  245085       | \n",
       "| 가락시장(340) | 하차          | 2016-02       |  225362       | \n",
       "| 가락시장(340) | 하차          | 2016-03       |  271901       | \n",
       "| 가락시장(340) | 하차          | 2016-04       |  262652       | \n",
       "| 가락시장(340) | 하차          | 2016-05       |  267769       | \n",
       "| 가락시장(340) | 하차          | 2016-06       |  265037       | \n",
       "| 가락시장(340) | 하차          | 2016-07       |  268287       | \n",
       "| 가락시장(340) | 하차          | 2016-08       |  263223       | \n",
       "| 가락시장(340) | 하차          | 2016-09       |  259555       | \n",
       "| 가락시장(340) | 하차          | 2016-10       |  282504       | \n",
       "| 가락시장(340) | 하차          | 2016-11       |  289205       | \n",
       "| 가락시장(340) | 하차          | 2016-12       |  305473       | \n",
       "| 강남(222)     | 승차          | 2016-01       | 3257354       | \n",
       "| 강남(222)     | 승차          | 2016-02       | 2857897       | \n",
       "| 강남(222)     | 승차          | 2016-03       | 3137048       | \n",
       "| 강남(222)     | 승차          | 2016-04       | 2901249       | \n",
       "| 강남(222)     | 승차          | 2016-05       | 2937838       | \n",
       "| 강남(222)     | 승차          | 2016-06       | 2893814       | \n",
       "| ... | ... | ... | ... | \n",
       "| 홍제(314) | 하차      | 2016-07   |  562343   | \n",
       "| 홍제(314) | 하차      | 2016-08   |  552743   | \n",
       "| 홍제(314) | 하차      | 2016-09   |  557013   | \n",
       "| 홍제(314) | 하차      | 2016-10   |  600573   | \n",
       "| 홍제(314) | 하차      | 2016-11   |  622190   | \n",
       "| 홍제(314) | 하차      | 2016-12   |  625691   | \n",
       "| 회현(425) | 승차      | 2016-01   |  825221   | \n",
       "| 회현(425) | 승차      | 2016-02   |  763366   | \n",
       "| 회현(425) | 승차      | 2016-03   |  954210   | \n",
       "| 회현(425) | 승차      | 2016-04   |  939815   | \n",
       "| 회현(425) | 승차      | 2016-05   |  975506   | \n",
       "| 회현(425) | 승차      | 2016-06   |  948889   | \n",
       "| 회현(425) | 승차      | 2016-07   |  917893   | \n",
       "| 회현(425) | 승차      | 2016-08   |  880330   | \n",
       "| 회현(425) | 승차      | 2016-09   |  850090   | \n",
       "| 회현(425) | 승차      | 2016-10   |  964501   | \n",
       "| 회현(425) | 승차      | 2016-11   |  964109   | \n",
       "| 회현(425) | 승차      | 2016-12   |  977837   | \n",
       "| 회현(425) | 하차      | 2016-01   |  869765   | \n",
       "| 회현(425) | 하차      | 2016-02   |  805123   | \n",
       "| 회현(425) | 하차      | 2016-03   | 1018683   | \n",
       "| 회현(425) | 하차      | 2016-04   | 1003413   | \n",
       "| 회현(425) | 하차      | 2016-05   | 1042521   | \n",
       "| 회현(425) | 하차      | 2016-06   | 1010528   | \n",
       "| 회현(425) | 하차      | 2016-07   |  968626   | \n",
       "| 회현(425) | 하차      | 2016-08   |  924944   | \n",
       "| 회현(425) | 하차      | 2016-09   |  904018   | \n",
       "| 회현(425) | 하차      | 2016-10   | 1023499   | \n",
       "| 회현(425) | 하차      | 2016-11   | 1011573   | \n",
       "| 회현(425) | 하차      | 2016-12   | 1023702   | \n",
       "\n",
       "\n"
      ],
      "text/plain": [
       "     역명          구분 월      Total  \n",
       "1    가락시장(340) 승차 2016-01  263098\n",
       "2    가락시장(340) 승차 2016-02  242391\n",
       "3    가락시장(340) 승차 2016-03  291180\n",
       "4    가락시장(340) 승차 2016-04  281119\n",
       "5    가락시장(340) 승차 2016-05  287093\n",
       "6    가락시장(340) 승차 2016-06  282307\n",
       "7    가락시장(340) 승차 2016-07  281469\n",
       "8    가락시장(340) 승차 2016-08  275291\n",
       "9    가락시장(340) 승차 2016-09  270247\n",
       "10   가락시장(340) 승차 2016-10  293916\n",
       "11   가락시장(340) 승차 2016-11  300113\n",
       "12   가락시장(340) 승차 2016-12  318493\n",
       "13   가락시장(340) 하차 2016-01  245085\n",
       "14   가락시장(340) 하차 2016-02  225362\n",
       "15   가락시장(340) 하차 2016-03  271901\n",
       "16   가락시장(340) 하차 2016-04  262652\n",
       "17   가락시장(340) 하차 2016-05  267769\n",
       "18   가락시장(340) 하차 2016-06  265037\n",
       "19   가락시장(340) 하차 2016-07  268287\n",
       "20   가락시장(340) 하차 2016-08  263223\n",
       "21   가락시장(340) 하차 2016-09  259555\n",
       "22   가락시장(340) 하차 2016-10  282504\n",
       "23   가락시장(340) 하차 2016-11  289205\n",
       "24   가락시장(340) 하차 2016-12  305473\n",
       "25   강남(222)     승차 2016-01 3257354\n",
       "26   강남(222)     승차 2016-02 2857897\n",
       "27   강남(222)     승차 2016-03 3137048\n",
       "28   강남(222)     승차 2016-04 2901249\n",
       "29   강남(222)     승차 2016-05 2937838\n",
       "30   강남(222)     승차 2016-06 2893814\n",
       "...  ...           ...  ...     ...    \n",
       "2827 홍제(314)     하차 2016-07  562343\n",
       "2828 홍제(314)     하차 2016-08  552743\n",
       "2829 홍제(314)     하차 2016-09  557013\n",
       "2830 홍제(314)     하차 2016-10  600573\n",
       "2831 홍제(314)     하차 2016-11  622190\n",
       "2832 홍제(314)     하차 2016-12  625691\n",
       "2833 회현(425)     승차 2016-01  825221\n",
       "2834 회현(425)     승차 2016-02  763366\n",
       "2835 회현(425)     승차 2016-03  954210\n",
       "2836 회현(425)     승차 2016-04  939815\n",
       "2837 회현(425)     승차 2016-05  975506\n",
       "2838 회현(425)     승차 2016-06  948889\n",
       "2839 회현(425)     승차 2016-07  917893\n",
       "2840 회현(425)     승차 2016-08  880330\n",
       "2841 회현(425)     승차 2016-09  850090\n",
       "2842 회현(425)     승차 2016-10  964501\n",
       "2843 회현(425)     승차 2016-11  964109\n",
       "2844 회현(425)     승차 2016-12  977837\n",
       "2845 회현(425)     하차 2016-01  869765\n",
       "2846 회현(425)     하차 2016-02  805123\n",
       "2847 회현(425)     하차 2016-03 1018683\n",
       "2848 회현(425)     하차 2016-04 1003413\n",
       "2849 회현(425)     하차 2016-05 1042521\n",
       "2850 회현(425)     하차 2016-06 1010528\n",
       "2851 회현(425)     하차 2016-07  968626\n",
       "2852 회현(425)     하차 2016-08  924944\n",
       "2853 회현(425)     하차 2016-09  904018\n",
       "2854 회현(425)     하차 2016-10 1023499\n",
       "2855 회현(425)     하차 2016-11 1011573\n",
       "2856 회현(425)     하차 2016-12 1023702"
      ]
     },
     "metadata": {},
     "output_type": "display_data"
    }
   ],
   "source": [
    "new.2"
   ]
  },
  {
   "cell_type": "code",
   "execution_count": 123,
   "metadata": {},
   "outputs": [
    {
     "data": {},
     "metadata": {},
     "output_type": "display_data"
    },
    {
     "data": {
      "image/png": "[encoded data removed]",
      "text/plain": [
       "plot without title"
      ]
     },
     "metadata": {},
     "output_type": "display_data"
    }
   ],
   "source": [
    "ggplot(new.2, aes(x = 역명, y=Total, fill=구분)) + \n",
    "geom_bar(stat='identity')"
   ]
  },
  {
   "cell_type": "code",
   "execution_count": 125,
   "metadata": {
    "collapsed": true
   },
   "outputs": [],
   "source": [
    "save(list='new.2', file='test.RData')"
   ]
  },
  {
   "cell_type": "code",
   "execution_count": 111,
   "metadata": {},
   "outputs": [
    {
     "data": {
      "text/html": [
       "<ol class=list-inline>\n",
       "\t<li>'역명'</li>\n",
       "\t<li>'구분'</li>\n",
       "\t<li>'월'</li>\n",
       "\t<li>'Total'</li>\n",
       "</ol>\n"
      ],
      "text/latex": [
       "\\begin{enumerate*}\n",
       "\\item '역명'\n",
       "\\item '구분'\n",
       "\\item '월'\n",
       "\\item 'Total'\n",
       "\\end{enumerate*}\n"
      ],
      "text/markdown": [
       "1. '역명'\n",
       "2. '구분'\n",
       "3. '월'\n",
       "4. 'Total'\n",
       "\n",
       "\n"
      ],
      "text/plain": [
       "[1] \"역명\"  \"구분\"  \"월\"    \"Total\""
      ]
     },
     "metadata": {},
     "output_type": "display_data"
    }
   ],
   "source": [
    "colnames(new.2)"
   ]
  },
  {
   "cell_type": "code",
   "execution_count": 113,
   "metadata": {},
   "outputs": [
    {
     "data": {
      "text/html": [
       "<table>\n",
       "<thead><tr><th scope=col>역명</th><th scope=col>구분</th><th scope=col>월</th><th scope=col>Total</th></tr></thead>\n",
       "<tbody>\n",
       "\t<tr><td>강남(222)</td><td>승차     </td><td>2016-01  </td><td>3257354  </td></tr>\n",
       "\t<tr><td>강남(222)</td><td>승차     </td><td>2016-02  </td><td>2857897  </td></tr>\n",
       "\t<tr><td>강남(222)</td><td>승차     </td><td>2016-03  </td><td>3137048  </td></tr>\n",
       "\t<tr><td>강남(222)</td><td>승차     </td><td>2016-04  </td><td>2901249  </td></tr>\n",
       "\t<tr><td>강남(222)</td><td>승차     </td><td>2016-05  </td><td>2937838  </td></tr>\n",
       "\t<tr><td>강남(222)</td><td>승차     </td><td>2016-06  </td><td>2893814  </td></tr>\n",
       "\t<tr><td>강남(222)</td><td>승차     </td><td>2016-07  </td><td>3379605  </td></tr>\n",
       "\t<tr><td>강남(222)</td><td>승차     </td><td>2016-08  </td><td>3166476  </td></tr>\n",
       "\t<tr><td>강남(222)</td><td>승차     </td><td>2016-09  </td><td>2709059  </td></tr>\n",
       "\t<tr><td>강남(222)</td><td>승차     </td><td>2016-10  </td><td>2906071  </td></tr>\n",
       "\t<tr><td>강남(222)</td><td>승차     </td><td>2016-11  </td><td>2953096  </td></tr>\n",
       "\t<tr><td>강남(222)</td><td>승차     </td><td>2016-12  </td><td>3163166  </td></tr>\n",
       "\t<tr><td>강남(222)</td><td>하차     </td><td>2016-01  </td><td>3308383  </td></tr>\n",
       "\t<tr><td>강남(222)</td><td>하차     </td><td>2016-02  </td><td>2897333  </td></tr>\n",
       "\t<tr><td>강남(222)</td><td>하차     </td><td>2016-03  </td><td>3171109  </td></tr>\n",
       "\t<tr><td>강남(222)</td><td>하차     </td><td>2016-04  </td><td>2955286  </td></tr>\n",
       "\t<tr><td>강남(222)</td><td>하차     </td><td>2016-05  </td><td>2981989  </td></tr>\n",
       "\t<tr><td>강남(222)</td><td>하차     </td><td>2016-06  </td><td>2932549  </td></tr>\n",
       "\t<tr><td>강남(222)</td><td>하차     </td><td>2016-07  </td><td>3409181  </td></tr>\n",
       "\t<tr><td>강남(222)</td><td>하차     </td><td>2016-08  </td><td>3189492  </td></tr>\n",
       "\t<tr><td>강남(222)</td><td>하차     </td><td>2016-09  </td><td>2751835  </td></tr>\n",
       "\t<tr><td>강남(222)</td><td>하차     </td><td>2016-10  </td><td>2945199  </td></tr>\n",
       "\t<tr><td>강남(222)</td><td>하차     </td><td>2016-11  </td><td>2976808  </td></tr>\n",
       "\t<tr><td>강남(222)</td><td>하차     </td><td>2016-12  </td><td>3208083  </td></tr>\n",
       "</tbody>\n",
       "</table>\n"
      ],
      "text/latex": [
       "\\begin{tabular}{r|llll}\n",
       " 역명 & 구분 & 월 & Total\\\\\n",
       "\\hline\n",
       "\t 강남(222) & 승차      & 2016-01   & 3257354  \\\\\n",
       "\t 강남(222) & 승차      & 2016-02   & 2857897  \\\\\n",
       "\t 강남(222) & 승차      & 2016-03   & 3137048  \\\\\n",
       "\t 강남(222) & 승차      & 2016-04   & 2901249  \\\\\n",
       "\t 강남(222) & 승차      & 2016-05   & 2937838  \\\\\n",
       "\t 강남(222) & 승차      & 2016-06   & 2893814  \\\\\n",
       "\t 강남(222) & 승차      & 2016-07   & 3379605  \\\\\n",
       "\t 강남(222) & 승차      & 2016-08   & 3166476  \\\\\n",
       "\t 강남(222) & 승차      & 2016-09   & 2709059  \\\\\n",
       "\t 강남(222) & 승차      & 2016-10   & 2906071  \\\\\n",
       "\t 강남(222) & 승차      & 2016-11   & 2953096  \\\\\n",
       "\t 강남(222) & 승차      & 2016-12   & 3163166  \\\\\n",
       "\t 강남(222) & 하차      & 2016-01   & 3308383  \\\\\n",
       "\t 강남(222) & 하차      & 2016-02   & 2897333  \\\\\n",
       "\t 강남(222) & 하차      & 2016-03   & 3171109  \\\\\n",
       "\t 강남(222) & 하차      & 2016-04   & 2955286  \\\\\n",
       "\t 강남(222) & 하차      & 2016-05   & 2981989  \\\\\n",
       "\t 강남(222) & 하차      & 2016-06   & 2932549  \\\\\n",
       "\t 강남(222) & 하차      & 2016-07   & 3409181  \\\\\n",
       "\t 강남(222) & 하차      & 2016-08   & 3189492  \\\\\n",
       "\t 강남(222) & 하차      & 2016-09   & 2751835  \\\\\n",
       "\t 강남(222) & 하차      & 2016-10   & 2945199  \\\\\n",
       "\t 강남(222) & 하차      & 2016-11   & 2976808  \\\\\n",
       "\t 강남(222) & 하차      & 2016-12   & 3208083  \\\\\n",
       "\\end{tabular}\n"
      ],
      "text/markdown": [
       "\n",
       "역명 | 구분 | 월 | Total | \n",
       "|---|---|---|---|---|---|---|---|---|---|---|---|---|---|---|---|---|---|---|---|---|---|---|---|\n",
       "| 강남(222) | 승차      | 2016-01   | 3257354   | \n",
       "| 강남(222) | 승차      | 2016-02   | 2857897   | \n",
       "| 강남(222) | 승차      | 2016-03   | 3137048   | \n",
       "| 강남(222) | 승차      | 2016-04   | 2901249   | \n",
       "| 강남(222) | 승차      | 2016-05   | 2937838   | \n",
       "| 강남(222) | 승차      | 2016-06   | 2893814   | \n",
       "| 강남(222) | 승차      | 2016-07   | 3379605   | \n",
       "| 강남(222) | 승차      | 2016-08   | 3166476   | \n",
       "| 강남(222) | 승차      | 2016-09   | 2709059   | \n",
       "| 강남(222) | 승차      | 2016-10   | 2906071   | \n",
       "| 강남(222) | 승차      | 2016-11   | 2953096   | \n",
       "| 강남(222) | 승차      | 2016-12   | 3163166   | \n",
       "| 강남(222) | 하차      | 2016-01   | 3308383   | \n",
       "| 강남(222) | 하차      | 2016-02   | 2897333   | \n",
       "| 강남(222) | 하차      | 2016-03   | 3171109   | \n",
       "| 강남(222) | 하차      | 2016-04   | 2955286   | \n",
       "| 강남(222) | 하차      | 2016-05   | 2981989   | \n",
       "| 강남(222) | 하차      | 2016-06   | 2932549   | \n",
       "| 강남(222) | 하차      | 2016-07   | 3409181   | \n",
       "| 강남(222) | 하차      | 2016-08   | 3189492   | \n",
       "| 강남(222) | 하차      | 2016-09   | 2751835   | \n",
       "| 강남(222) | 하차      | 2016-10   | 2945199   | \n",
       "| 강남(222) | 하차      | 2016-11   | 2976808   | \n",
       "| 강남(222) | 하차      | 2016-12   | 3208083   | \n",
       "\n",
       "\n"
      ],
      "text/plain": [
       "   역명      구분 월      Total  \n",
       "1  강남(222) 승차 2016-01 3257354\n",
       "2  강남(222) 승차 2016-02 2857897\n",
       "3  강남(222) 승차 2016-03 3137048\n",
       "4  강남(222) 승차 2016-04 2901249\n",
       "5  강남(222) 승차 2016-05 2937838\n",
       "6  강남(222) 승차 2016-06 2893814\n",
       "7  강남(222) 승차 2016-07 3379605\n",
       "8  강남(222) 승차 2016-08 3166476\n",
       "9  강남(222) 승차 2016-09 2709059\n",
       "10 강남(222) 승차 2016-10 2906071\n",
       "11 강남(222) 승차 2016-11 2953096\n",
       "12 강남(222) 승차 2016-12 3163166\n",
       "13 강남(222) 하차 2016-01 3308383\n",
       "14 강남(222) 하차 2016-02 2897333\n",
       "15 강남(222) 하차 2016-03 3171109\n",
       "16 강남(222) 하차 2016-04 2955286\n",
       "17 강남(222) 하차 2016-05 2981989\n",
       "18 강남(222) 하차 2016-06 2932549\n",
       "19 강남(222) 하차 2016-07 3409181\n",
       "20 강남(222) 하차 2016-08 3189492\n",
       "21 강남(222) 하차 2016-09 2751835\n",
       "22 강남(222) 하차 2016-10 2945199\n",
       "23 강남(222) 하차 2016-11 2976808\n",
       "24 강남(222) 하차 2016-12 3208083"
      ]
     },
     "metadata": {},
     "output_type": "display_data"
    }
   ],
   "source": [
    "new.2[new.2$역명 == '강남(222)',]"
   ]
  },
  {
   "cell_type": "code",
   "execution_count": null,
   "metadata": {
    "collapsed": true
   },
   "outputs": [],
   "source": []
  }
 ],
 "metadata": {
  "kernelspec": {
   "display_name": "R",
   "language": "R",
   "name": "ir"
  },
  "language_info": {
   "codemirror_mode": "r",
   "file_extension": ".r",
   "mimetype": "text/x-r-source",
   "name": "R",
   "pygments_lexer": "r",
   "version": "3.4.3"
  }
 },
 "nbformat": 4,
 "nbformat_minor": 2
}
