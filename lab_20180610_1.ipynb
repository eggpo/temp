{
 "cells": [
  {
   "cell_type": "code",
   "execution_count": 1,
   "metadata": {},
   "outputs": [
    {
     "name": "stderr",
     "output_type": "stream",
     "text": [
      "Warning message:\n",
      "\"package 'dplyr' was built under R version 3.4.4\"\n",
      "Attaching package: 'dplyr'\n",
      "\n",
      "The following objects are masked from 'package:stats':\n",
      "\n",
      "    filter, lag\n",
      "\n",
      "The following objects are masked from 'package:base':\n",
      "\n",
      "    intersect, setdiff, setequal, union\n",
      "\n",
      "Warning message:\n",
      "\"package 'ggplot2' was built under R version 3.4.4\"Warning message:\n",
      "\"package 'reshape2' was built under R version 3.4.4\""
     ]
    },
    {
     "name": "stdout",
     "output_type": "stream",
     "text": [
      "'data.frame':\t227496 obs. of  21 variables:\n",
      " $ Year             : int  2011 2011 2011 2011 2011 2011 2011 2011 2011 2011 ...\n",
      " $ Month            : int  1 1 1 1 1 1 1 1 1 1 ...\n",
      " $ DayofMonth       : int  1 2 3 4 5 6 7 8 9 10 ...\n",
      " $ DayOfWeek        : int  6 7 1 2 3 4 5 6 7 1 ...\n",
      " $ DepTime          : int  1400 1401 1352 1403 1405 1359 1359 1355 1443 1443 ...\n",
      " $ ArrTime          : int  1500 1501 1502 1513 1507 1503 1509 1454 1554 1553 ...\n",
      " $ UniqueCarrier    : chr  \"AA\" \"AA\" \"AA\" \"AA\" ...\n",
      " $ FlightNum        : int  428 428 428 428 428 428 428 428 428 428 ...\n",
      " $ TailNum          : chr  \"N576AA\" \"N557AA\" \"N541AA\" \"N403AA\" ...\n",
      " $ ActualElapsedTime: int  60 60 70 70 62 64 70 59 71 70 ...\n",
      " $ AirTime          : int  40 45 48 39 44 45 43 40 41 45 ...\n",
      " $ ArrDelay         : int  -10 -9 -8 3 -3 -7 -1 -16 44 43 ...\n",
      " $ DepDelay         : int  0 1 -8 3 5 -1 -1 -5 43 43 ...\n",
      " $ Origin           : chr  \"IAH\" \"IAH\" \"IAH\" \"IAH\" ...\n",
      " $ Dest             : chr  \"DFW\" \"DFW\" \"DFW\" \"DFW\" ...\n",
      " $ Distance         : int  224 224 224 224 224 224 224 224 224 224 ...\n",
      " $ TaxiIn           : int  7 6 5 9 9 6 12 7 8 6 ...\n",
      " $ TaxiOut          : int  13 9 17 22 9 13 15 12 22 19 ...\n",
      " $ Cancelled        : int  0 0 0 0 0 0 0 0 0 0 ...\n",
      " $ CancellationCode : chr  \"\" \"\" \"\" \"\" ...\n",
      " $ Diverted         : int  0 0 0 0 0 0 0 0 0 0 ...\n"
     ]
    },
    {
     "name": "stderr",
     "output_type": "stream",
     "text": [
      "Warning message:\n",
      "\"package 'bindrcpp' was built under R version 3.4.4\""
     ]
    },
    {
     "data": {
      "text/html": [
       "<table>\n",
       "<thead><tr><th scope=col>Origin</th><th scope=col>Dest</th><th scope=col>avg_delay</th><th scope=col>avg_ArrDelay</th></tr></thead>\n",
       "<tbody>\n",
       "\t<tr><td>HOU    </td><td>ABQ    </td><td>11.582 </td><td>  6.001</td></tr>\n",
       "\t<tr><td>HOU    </td><td>ATL    </td><td> 9.129 </td><td>  6.810</td></tr>\n",
       "\t<tr><td>HOU    </td><td>AUS    </td><td>12.189 </td><td>  9.274</td></tr>\n",
       "\t<tr><td>HOU    </td><td>BHM    </td><td>15.015 </td><td>  6.673</td></tr>\n",
       "\t<tr><td>HOU    </td><td>BKG    </td><td>-3.202 </td><td>-16.234</td></tr>\n",
       "\t<tr><td>HOU    </td><td>BNA    </td><td>11.395 </td><td>  5.394</td></tr>\n",
       "</tbody>\n",
       "</table>\n"
      ],
      "text/latex": [
       "\\begin{tabular}{r|llll}\n",
       " Origin & Dest & avg\\_delay & avg\\_ArrDelay\\\\\n",
       "\\hline\n",
       "\t HOU     & ABQ     & 11.582  &   6.001\\\\\n",
       "\t HOU     & ATL     &  9.129  &   6.810\\\\\n",
       "\t HOU     & AUS     & 12.189  &   9.274\\\\\n",
       "\t HOU     & BHM     & 15.015  &   6.673\\\\\n",
       "\t HOU     & BKG     & -3.202  & -16.234\\\\\n",
       "\t HOU     & BNA     & 11.395  &   5.394\\\\\n",
       "\\end{tabular}\n"
      ],
      "text/markdown": [
       "\n",
       "Origin | Dest | avg_delay | avg_ArrDelay | \n",
       "|---|---|---|---|---|---|\n",
       "| HOU     | ABQ     | 11.582  |   6.001 | \n",
       "| HOU     | ATL     |  9.129  |   6.810 | \n",
       "| HOU     | AUS     | 12.189  |   9.274 | \n",
       "| HOU     | BHM     | 15.015  |   6.673 | \n",
       "| HOU     | BKG     | -3.202  | -16.234 | \n",
       "| HOU     | BNA     | 11.395  |   5.394 | \n",
       "\n",
       "\n"
      ],
      "text/plain": [
       "  Origin Dest avg_delay avg_ArrDelay\n",
       "1 HOU    ABQ  11.582      6.001     \n",
       "2 HOU    ATL   9.129      6.810     \n",
       "3 HOU    AUS  12.189      9.274     \n",
       "4 HOU    BHM  15.015      6.673     \n",
       "5 HOU    BKG  -3.202    -16.234     \n",
       "6 HOU    BNA  11.395      5.394     "
      ]
     },
     "metadata": {},
     "output_type": "display_data"
    },
    {
     "data": {
      "text/html": [
       "<table>\n",
       "<thead><tr><th scope=col>Origin</th><th scope=col>Dest</th><th scope=col>avg_delay</th><th scope=col>avg_ArrDelay</th></tr></thead>\n",
       "<tbody>\n",
       "\t<tr><td>IAH   </td><td>TPA   </td><td> 6.611</td><td> 3.752</td></tr>\n",
       "\t<tr><td>IAH   </td><td>TUL   </td><td> 5.738</td><td> 5.482</td></tr>\n",
       "\t<tr><td>IAH   </td><td>TUS   </td><td> 7.784</td><td> 7.802</td></tr>\n",
       "\t<tr><td>IAH   </td><td>TYS   </td><td>10.171</td><td>11.366</td></tr>\n",
       "\t<tr><td>IAH   </td><td>VPS   </td><td>12.339</td><td>12.457</td></tr>\n",
       "\t<tr><td>IAH   </td><td>XNA   </td><td> 6.691</td><td> 6.896</td></tr>\n",
       "</tbody>\n",
       "</table>\n"
      ],
      "text/latex": [
       "\\begin{tabular}{r|llll}\n",
       " Origin & Dest & avg\\_delay & avg\\_ArrDelay\\\\\n",
       "\\hline\n",
       "\t IAH    & TPA    &  6.611 &  3.752\\\\\n",
       "\t IAH    & TUL    &  5.738 &  5.482\\\\\n",
       "\t IAH    & TUS    &  7.784 &  7.802\\\\\n",
       "\t IAH    & TYS    & 10.171 & 11.366\\\\\n",
       "\t IAH    & VPS    & 12.339 & 12.457\\\\\n",
       "\t IAH    & XNA    &  6.691 &  6.896\\\\\n",
       "\\end{tabular}\n"
      ],
      "text/markdown": [
       "\n",
       "Origin | Dest | avg_delay | avg_ArrDelay | \n",
       "|---|---|---|---|---|---|\n",
       "| IAH    | TPA    |  6.611 |  3.752 | \n",
       "| IAH    | TUL    |  5.738 |  5.482 | \n",
       "| IAH    | TUS    |  7.784 |  7.802 | \n",
       "| IAH    | TYS    | 10.171 | 11.366 | \n",
       "| IAH    | VPS    | 12.339 | 12.457 | \n",
       "| IAH    | XNA    |  6.691 |  6.896 | \n",
       "\n",
       "\n"
      ],
      "text/plain": [
       "  Origin Dest avg_delay avg_ArrDelay\n",
       "1 IAH    TPA   6.611     3.752      \n",
       "2 IAH    TUL   5.738     5.482      \n",
       "3 IAH    TUS   7.784     7.802      \n",
       "4 IAH    TYS  10.171    11.366      \n",
       "5 IAH    VPS  12.339    12.457      \n",
       "6 IAH    XNA   6.691     6.896      "
      ]
     },
     "metadata": {},
     "output_type": "display_data"
    },
    {
     "data": {
      "text/html": [
       "<table>\n",
       "<thead><tr><th></th><th scope=col>Origin</th><th scope=col>Delay_type</th><th scope=col>Delay_time</th></tr></thead>\n",
       "<tbody>\n",
       "\t<tr><th scope=row>293</th><td>IAH         </td><td>avg_ArrDelay</td><td> 3.752      </td></tr>\n",
       "\t<tr><th scope=row>294</th><td>IAH         </td><td>avg_ArrDelay</td><td> 5.482      </td></tr>\n",
       "\t<tr><th scope=row>295</th><td>IAH         </td><td>avg_ArrDelay</td><td> 7.802      </td></tr>\n",
       "\t<tr><th scope=row>296</th><td>IAH         </td><td>avg_ArrDelay</td><td>11.366      </td></tr>\n",
       "\t<tr><th scope=row>297</th><td>IAH         </td><td>avg_ArrDelay</td><td>12.457      </td></tr>\n",
       "\t<tr><th scope=row>298</th><td>IAH         </td><td>avg_ArrDelay</td><td> 6.896      </td></tr>\n",
       "</tbody>\n",
       "</table>\n"
      ],
      "text/latex": [
       "\\begin{tabular}{r|lll}\n",
       "  & Origin & Delay\\_type & Delay\\_time\\\\\n",
       "\\hline\n",
       "\t293 & IAH            & avg\\_ArrDelay &  3.752        \\\\\n",
       "\t294 & IAH            & avg\\_ArrDelay &  5.482        \\\\\n",
       "\t295 & IAH            & avg\\_ArrDelay &  7.802        \\\\\n",
       "\t296 & IAH            & avg\\_ArrDelay & 11.366        \\\\\n",
       "\t297 & IAH            & avg\\_ArrDelay & 12.457        \\\\\n",
       "\t298 & IAH            & avg\\_ArrDelay &  6.896        \\\\\n",
       "\\end{tabular}\n"
      ],
      "text/markdown": [
       "\n",
       "| <!--/--> | Origin | Delay_type | Delay_time | \n",
       "|---|---|---|---|---|---|\n",
       "| 293 | IAH          | avg_ArrDelay |  3.752       | \n",
       "| 294 | IAH          | avg_ArrDelay |  5.482       | \n",
       "| 295 | IAH          | avg_ArrDelay |  7.802       | \n",
       "| 296 | IAH          | avg_ArrDelay | 11.366       | \n",
       "| 297 | IAH          | avg_ArrDelay | 12.457       | \n",
       "| 298 | IAH          | avg_ArrDelay |  6.896       | \n",
       "\n",
       "\n"
      ],
      "text/plain": [
       "    Origin Delay_type   Delay_time\n",
       "293 IAH    avg_ArrDelay  3.752    \n",
       "294 IAH    avg_ArrDelay  5.482    \n",
       "295 IAH    avg_ArrDelay  7.802    \n",
       "296 IAH    avg_ArrDelay 11.366    \n",
       "297 IAH    avg_ArrDelay 12.457    \n",
       "298 IAH    avg_ArrDelay  6.896    "
      ]
     },
     "metadata": {},
     "output_type": "display_data"
    },
    {
     "data": {},
     "metadata": {},
     "output_type": "display_data"
    },
    {
     "data": {},
     "metadata": {},
     "output_type": "display_data"
    },
    {
     "data": {
      "image/png": "[encoded data removed]",
      "text/plain": [
       "plot without title"
      ]
     },
     "metadata": {},
     "output_type": "display_data"
    },
    {
     "data": {},
     "metadata": {},
     "output_type": "display_data"
    },
    {
     "data": {
      "image/png": "[encoded data removed]",
      "text/plain": [
       "plot without title"
      ]
     },
     "metadata": {},
     "output_type": "display_data"
    },
    {
     "data": {
      "text/html": [
       "<ol class=list-inline>\n",
       "\t<li>0</li>\n",
       "\t<li>1</li>\n",
       "\t<li>-8</li>\n",
       "\t<li>3</li>\n",
       "\t<li>5</li>\n",
       "\t<li>-1</li>\n",
       "\t<li>-1</li>\n",
       "\t<li>-5</li>\n",
       "\t<li>43</li>\n",
       "\t<li>43</li>\n",
       "\t<li>29</li>\n",
       "\t<li>19</li>\n",
       "\t<li>-2</li>\n",
       "\t<li>-3</li>\n",
       "\t<li>-1</li>\n",
       "\t<li>-1</li>\n",
       "\t<li>90</li>\n",
       "\t<li>8</li>\n",
       "\t<li>-4</li>\n",
       "\t<li>67</li>\n",
       "</ol>\n"
      ],
      "text/latex": [
       "\\begin{enumerate*}\n",
       "\\item 0\n",
       "\\item 1\n",
       "\\item -8\n",
       "\\item 3\n",
       "\\item 5\n",
       "\\item -1\n",
       "\\item -1\n",
       "\\item -5\n",
       "\\item 43\n",
       "\\item 43\n",
       "\\item 29\n",
       "\\item 19\n",
       "\\item -2\n",
       "\\item -3\n",
       "\\item -1\n",
       "\\item -1\n",
       "\\item 90\n",
       "\\item 8\n",
       "\\item -4\n",
       "\\item 67\n",
       "\\end{enumerate*}\n"
      ],
      "text/markdown": [
       "1. 0\n",
       "2. 1\n",
       "3. -8\n",
       "4. 3\n",
       "5. 5\n",
       "6. -1\n",
       "7. -1\n",
       "8. -5\n",
       "9. 43\n",
       "10. 43\n",
       "11. 29\n",
       "12. 19\n",
       "13. -2\n",
       "14. -3\n",
       "15. -1\n",
       "16. -1\n",
       "17. 90\n",
       "18. 8\n",
       "19. -4\n",
       "20. 67\n",
       "\n",
       "\n"
      ],
      "text/plain": [
       " [1]  0  1 -8  3  5 -1 -1 -5 43 43 29 19 -2 -3 -1 -1 90  8 -4 67"
      ]
     },
     "metadata": {},
     "output_type": "display_data"
    },
    {
     "data": {
      "text/html": [
       "<ol class=list-inline>\n",
       "\t<li>FALSE</li>\n",
       "\t<li>FALSE</li>\n",
       "\t<li>FALSE</li>\n",
       "\t<li>FALSE</li>\n",
       "\t<li>FALSE</li>\n",
       "\t<li>FALSE</li>\n",
       "\t<li>FALSE</li>\n",
       "\t<li>FALSE</li>\n",
       "\t<li>TRUE</li>\n",
       "\t<li>TRUE</li>\n",
       "\t<li>TRUE</li>\n",
       "\t<li>TRUE</li>\n",
       "\t<li>FALSE</li>\n",
       "\t<li>FALSE</li>\n",
       "\t<li>FALSE</li>\n",
       "\t<li>FALSE</li>\n",
       "\t<li>TRUE</li>\n",
       "\t<li>TRUE</li>\n",
       "\t<li>FALSE</li>\n",
       "\t<li>TRUE</li>\n",
       "</ol>\n"
      ],
      "text/latex": [
       "\\begin{enumerate*}\n",
       "\\item FALSE\n",
       "\\item FALSE\n",
       "\\item FALSE\n",
       "\\item FALSE\n",
       "\\item FALSE\n",
       "\\item FALSE\n",
       "\\item FALSE\n",
       "\\item FALSE\n",
       "\\item TRUE\n",
       "\\item TRUE\n",
       "\\item TRUE\n",
       "\\item TRUE\n",
       "\\item FALSE\n",
       "\\item FALSE\n",
       "\\item FALSE\n",
       "\\item FALSE\n",
       "\\item TRUE\n",
       "\\item TRUE\n",
       "\\item FALSE\n",
       "\\item TRUE\n",
       "\\end{enumerate*}\n"
      ],
      "text/markdown": [
       "1. FALSE\n",
       "2. FALSE\n",
       "3. FALSE\n",
       "4. FALSE\n",
       "5. FALSE\n",
       "6. FALSE\n",
       "7. FALSE\n",
       "8. FALSE\n",
       "9. TRUE\n",
       "10. TRUE\n",
       "11. TRUE\n",
       "12. TRUE\n",
       "13. FALSE\n",
       "14. FALSE\n",
       "15. FALSE\n",
       "16. FALSE\n",
       "17. TRUE\n",
       "18. TRUE\n",
       "19. FALSE\n",
       "20. TRUE\n",
       "\n",
       "\n"
      ],
      "text/plain": [
       " [1] FALSE FALSE FALSE FALSE FALSE FALSE FALSE FALSE  TRUE  TRUE  TRUE  TRUE\n",
       "[13] FALSE FALSE FALSE FALSE  TRUE  TRUE FALSE  TRUE"
      ]
     },
     "metadata": {},
     "output_type": "display_data"
    },
    {
     "data": {
      "text/html": [
       "71417"
      ],
      "text/latex": [
       "71417"
      ],
      "text/markdown": [
       "71417"
      ],
      "text/plain": [
       "[1] 71417"
      ]
     },
     "metadata": {},
     "output_type": "display_data"
    },
    {
     "data": {
      "text/html": [
       "227496"
      ],
      "text/latex": [
       "227496"
      ],
      "text/markdown": [
       "227496"
      ],
      "text/plain": [
       "[1] 227496"
      ]
     },
     "metadata": {},
     "output_type": "display_data"
    },
    {
     "data": {
      "text/html": [
       "227496"
      ],
      "text/latex": [
       "227496"
      ],
      "text/markdown": [
       "227496"
      ],
      "text/plain": [
       "[1] 227496"
      ]
     },
     "metadata": {},
     "output_type": "display_data"
    },
    {
     "data": {
      "text/html": [
       "<ol class=list-inline>\n",
       "\t<li>FALSE</li>\n",
       "\t<li>FALSE</li>\n",
       "\t<li>FALSE</li>\n",
       "\t<li>FALSE</li>\n",
       "\t<li>FALSE</li>\n",
       "\t<li>FALSE</li>\n",
       "\t<li>TRUE</li>\n",
       "\t<li>FALSE</li>\n",
       "\t<li>FALSE</li>\n",
       "\t<li>FALSE</li>\n",
       "\t<li>FALSE</li>\n",
       "\t<li>FALSE</li>\n",
       "\t<li>FALSE</li>\n",
       "\t<li>FALSE</li>\n",
       "\t<li>FALSE</li>\n",
       "\t<li>FALSE</li>\n",
       "\t<li>FALSE</li>\n",
       "\t<li>FALSE</li>\n",
       "\t<li>FALSE</li>\n",
       "\t<li>FALSE</li>\n",
       "\t<li>FALSE</li>\n",
       "\t<li>FALSE</li>\n",
       "\t<li>FALSE</li>\n",
       "\t<li>FALSE</li>\n",
       "\t<li>FALSE</li>\n",
       "\t<li>FALSE</li>\n",
       "\t<li>FALSE</li>\n",
       "\t<li>FALSE</li>\n",
       "\t<li>TRUE</li>\n",
       "\t<li>FALSE</li>\n",
       "\t<li>FALSE</li>\n",
       "\t<li>TRUE</li>\n",
       "\t<li>FALSE</li>\n",
       "\t<li>FALSE</li>\n",
       "\t<li>FALSE</li>\n",
       "\t<li>FALSE</li>\n",
       "\t<li>FALSE</li>\n",
       "\t<li>FALSE</li>\n",
       "\t<li>FALSE</li>\n",
       "\t<li>FALSE</li>\n",
       "\t<li>FALSE</li>\n",
       "\t<li>FALSE</li>\n",
       "\t<li>FALSE</li>\n",
       "\t<li>FALSE</li>\n",
       "\t<li>FALSE</li>\n",
       "\t<li>FALSE</li>\n",
       "\t<li>FALSE</li>\n",
       "\t<li>FALSE</li>\n",
       "\t<li>FALSE</li>\n",
       "\t<li>FALSE</li>\n",
       "\t<li>FALSE</li>\n",
       "\t<li>FALSE</li>\n",
       "\t<li>FALSE</li>\n",
       "\t<li>FALSE</li>\n",
       "\t<li>FALSE</li>\n",
       "\t<li>FALSE</li>\n",
       "\t<li>FALSE</li>\n",
       "\t<li>FALSE</li>\n",
       "\t<li>FALSE</li>\n",
       "\t<li>TRUE</li>\n",
       "\t<li>FALSE</li>\n",
       "\t<li>FALSE</li>\n",
       "\t<li>FALSE</li>\n",
       "\t<li>FALSE</li>\n",
       "\t<li>FALSE</li>\n",
       "\t<li>FALSE</li>\n",
       "\t<li>FALSE</li>\n",
       "\t<li>FALSE</li>\n",
       "\t<li>FALSE</li>\n",
       "\t<li>FALSE</li>\n",
       "\t<li>FALSE</li>\n",
       "\t<li>FALSE</li>\n",
       "\t<li>FALSE</li>\n",
       "\t<li>FALSE</li>\n",
       "\t<li>FALSE</li>\n",
       "\t<li>FALSE</li>\n",
       "\t<li>FALSE</li>\n",
       "\t<li>FALSE</li>\n",
       "\t<li>TRUE</li>\n",
       "\t<li>FALSE</li>\n",
       "\t<li>FALSE</li>\n",
       "\t<li>FALSE</li>\n",
       "\t<li>FALSE</li>\n",
       "\t<li>FALSE</li>\n",
       "\t<li>TRUE</li>\n",
       "\t<li>FALSE</li>\n",
       "\t<li>FALSE</li>\n",
       "\t<li>FALSE</li>\n",
       "\t<li>FALSE</li>\n",
       "\t<li>FALSE</li>\n",
       "\t<li>FALSE</li>\n",
       "\t<li>FALSE</li>\n",
       "\t<li>FALSE</li>\n",
       "\t<li>FALSE</li>\n",
       "\t<li>FALSE</li>\n",
       "\t<li>FALSE</li>\n",
       "\t<li>FALSE</li>\n",
       "\t<li>FALSE</li>\n",
       "\t<li>FALSE</li>\n",
       "\t<li>FALSE</li>\n",
       "\t<li>FALSE</li>\n",
       "\t<li>FALSE</li>\n",
       "\t<li>FALSE</li>\n",
       "\t<li>FALSE</li>\n",
       "\t<li>FALSE</li>\n",
       "\t<li>FALSE</li>\n",
       "\t<li>FALSE</li>\n",
       "\t<li>FALSE</li>\n",
       "\t<li>FALSE</li>\n",
       "\t<li>FALSE</li>\n",
       "\t<li>FALSE</li>\n",
       "\t<li>FALSE</li>\n",
       "\t<li>FALSE</li>\n",
       "\t<li>FALSE</li>\n",
       "\t<li>FALSE</li>\n",
       "\t<li>FALSE</li>\n",
       "</ol>\n"
      ],
      "text/latex": [
       "\\begin{enumerate*}\n",
       "\\item FALSE\n",
       "\\item FALSE\n",
       "\\item FALSE\n",
       "\\item FALSE\n",
       "\\item FALSE\n",
       "\\item FALSE\n",
       "\\item TRUE\n",
       "\\item FALSE\n",
       "\\item FALSE\n",
       "\\item FALSE\n",
       "\\item FALSE\n",
       "\\item FALSE\n",
       "\\item FALSE\n",
       "\\item FALSE\n",
       "\\item FALSE\n",
       "\\item FALSE\n",
       "\\item FALSE\n",
       "\\item FALSE\n",
       "\\item FALSE\n",
       "\\item FALSE\n",
       "\\item FALSE\n",
       "\\item FALSE\n",
       "\\item FALSE\n",
       "\\item FALSE\n",
       "\\item FALSE\n",
       "\\item FALSE\n",
       "\\item FALSE\n",
       "\\item FALSE\n",
       "\\item TRUE\n",
       "\\item FALSE\n",
       "\\item FALSE\n",
       "\\item TRUE\n",
       "\\item FALSE\n",
       "\\item FALSE\n",
       "\\item FALSE\n",
       "\\item FALSE\n",
       "\\item FALSE\n",
       "\\item FALSE\n",
       "\\item FALSE\n",
       "\\item FALSE\n",
       "\\item FALSE\n",
       "\\item FALSE\n",
       "\\item FALSE\n",
       "\\item FALSE\n",
       "\\item FALSE\n",
       "\\item FALSE\n",
       "\\item FALSE\n",
       "\\item FALSE\n",
       "\\item FALSE\n",
       "\\item FALSE\n",
       "\\item FALSE\n",
       "\\item FALSE\n",
       "\\item FALSE\n",
       "\\item FALSE\n",
       "\\item FALSE\n",
       "\\item FALSE\n",
       "\\item FALSE\n",
       "\\item FALSE\n",
       "\\item FALSE\n",
       "\\item TRUE\n",
       "\\item FALSE\n",
       "\\item FALSE\n",
       "\\item FALSE\n",
       "\\item FALSE\n",
       "\\item FALSE\n",
       "\\item FALSE\n",
       "\\item FALSE\n",
       "\\item FALSE\n",
       "\\item FALSE\n",
       "\\item FALSE\n",
       "\\item FALSE\n",
       "\\item FALSE\n",
       "\\item FALSE\n",
       "\\item FALSE\n",
       "\\item FALSE\n",
       "\\item FALSE\n",
       "\\item FALSE\n",
       "\\item FALSE\n",
       "\\item TRUE\n",
       "\\item FALSE\n",
       "\\item FALSE\n",
       "\\item FALSE\n",
       "\\item FALSE\n",
       "\\item FALSE\n",
       "\\item TRUE\n",
       "\\item FALSE\n",
       "\\item FALSE\n",
       "\\item FALSE\n",
       "\\item FALSE\n",
       "\\item FALSE\n",
       "\\item FALSE\n",
       "\\item FALSE\n",
       "\\item FALSE\n",
       "\\item FALSE\n",
       "\\item FALSE\n",
       "\\item FALSE\n",
       "\\item FALSE\n",
       "\\item FALSE\n",
       "\\item FALSE\n",
       "\\item FALSE\n",
       "\\item FALSE\n",
       "\\item FALSE\n",
       "\\item FALSE\n",
       "\\item FALSE\n",
       "\\item FALSE\n",
       "\\item FALSE\n",
       "\\item FALSE\n",
       "\\item FALSE\n",
       "\\item FALSE\n",
       "\\item FALSE\n",
       "\\item FALSE\n",
       "\\item FALSE\n",
       "\\item FALSE\n",
       "\\item FALSE\n",
       "\\item FALSE\n",
       "\\item FALSE\n",
       "\\end{enumerate*}\n"
      ],
      "text/markdown": [
       "1. FALSE\n",
       "2. FALSE\n",
       "3. FALSE\n",
       "4. FALSE\n",
       "5. FALSE\n",
       "6. FALSE\n",
       "7. TRUE\n",
       "8. FALSE\n",
       "9. FALSE\n",
       "10. FALSE\n",
       "11. FALSE\n",
       "12. FALSE\n",
       "13. FALSE\n",
       "14. FALSE\n",
       "15. FALSE\n",
       "16. FALSE\n",
       "17. FALSE\n",
       "18. FALSE\n",
       "19. FALSE\n",
       "20. FALSE\n",
       "21. FALSE\n",
       "22. FALSE\n",
       "23. FALSE\n",
       "24. FALSE\n",
       "25. FALSE\n",
       "26. FALSE\n",
       "27. FALSE\n",
       "28. FALSE\n",
       "29. TRUE\n",
       "30. FALSE\n",
       "31. FALSE\n",
       "32. TRUE\n",
       "33. FALSE\n",
       "34. FALSE\n",
       "35. FALSE\n",
       "36. FALSE\n",
       "37. FALSE\n",
       "38. FALSE\n",
       "39. FALSE\n",
       "40. FALSE\n",
       "41. FALSE\n",
       "42. FALSE\n",
       "43. FALSE\n",
       "44. FALSE\n",
       "45. FALSE\n",
       "46. FALSE\n",
       "47. FALSE\n",
       "48. FALSE\n",
       "49. FALSE\n",
       "50. FALSE\n",
       "51. FALSE\n",
       "52. FALSE\n",
       "53. FALSE\n",
       "54. FALSE\n",
       "55. FALSE\n",
       "56. FALSE\n",
       "57. FALSE\n",
       "58. FALSE\n",
       "59. FALSE\n",
       "60. TRUE\n",
       "61. FALSE\n",
       "62. FALSE\n",
       "63. FALSE\n",
       "64. FALSE\n",
       "65. FALSE\n",
       "66. FALSE\n",
       "67. FALSE\n",
       "68. FALSE\n",
       "69. FALSE\n",
       "70. FALSE\n",
       "71. FALSE\n",
       "72. FALSE\n",
       "73. FALSE\n",
       "74. FALSE\n",
       "75. FALSE\n",
       "76. FALSE\n",
       "77. FALSE\n",
       "78. FALSE\n",
       "79. TRUE\n",
       "80. FALSE\n",
       "81. FALSE\n",
       "82. FALSE\n",
       "83. FALSE\n",
       "84. FALSE\n",
       "85. TRUE\n",
       "86. FALSE\n",
       "87. FALSE\n",
       "88. FALSE\n",
       "89. FALSE\n",
       "90. FALSE\n",
       "91. FALSE\n",
       "92. FALSE\n",
       "93. FALSE\n",
       "94. FALSE\n",
       "95. FALSE\n",
       "96. FALSE\n",
       "97. FALSE\n",
       "98. FALSE\n",
       "99. FALSE\n",
       "100. FALSE\n",
       "101. FALSE\n",
       "102. FALSE\n",
       "103. FALSE\n",
       "104. FALSE\n",
       "105. FALSE\n",
       "106. FALSE\n",
       "107. FALSE\n",
       "108. FALSE\n",
       "109. FALSE\n",
       "110. FALSE\n",
       "111. FALSE\n",
       "112. FALSE\n",
       "113. FALSE\n",
       "114. FALSE\n",
       "115. FALSE\n",
       "116. FALSE\n",
       "\n",
       "\n"
      ],
      "text/plain": [
       "  [1] FALSE FALSE FALSE FALSE FALSE FALSE  TRUE FALSE FALSE FALSE FALSE FALSE\n",
       " [13] FALSE FALSE FALSE FALSE FALSE FALSE FALSE FALSE FALSE FALSE FALSE FALSE\n",
       " [25] FALSE FALSE FALSE FALSE  TRUE FALSE FALSE  TRUE FALSE FALSE FALSE FALSE\n",
       " [37] FALSE FALSE FALSE FALSE FALSE FALSE FALSE FALSE FALSE FALSE FALSE FALSE\n",
       " [49] FALSE FALSE FALSE FALSE FALSE FALSE FALSE FALSE FALSE FALSE FALSE  TRUE\n",
       " [61] FALSE FALSE FALSE FALSE FALSE FALSE FALSE FALSE FALSE FALSE FALSE FALSE\n",
       " [73] FALSE FALSE FALSE FALSE FALSE FALSE  TRUE FALSE FALSE FALSE FALSE FALSE\n",
       " [85]  TRUE FALSE FALSE FALSE FALSE FALSE FALSE FALSE FALSE FALSE FALSE FALSE\n",
       " [97] FALSE FALSE FALSE FALSE FALSE FALSE FALSE FALSE FALSE FALSE FALSE FALSE\n",
       "[109] FALSE FALSE FALSE FALSE FALSE FALSE FALSE FALSE"
      ]
     },
     "metadata": {},
     "output_type": "display_data"
    },
    {
     "data": {
      "image/png": "[encoded data removed]",
      "text/plain": [
       "plot without title"
      ]
     },
     "metadata": {},
     "output_type": "display_data"
    }
   ],
   "source": [
    "\n",
    "library(dplyr)\n",
    "library(ggplot2)\n",
    "library(reshape2)\n",
    "data(hflights, package='hflights')\n",
    "\n",
    "str(hflights)\n",
    "\n",
    "flights.1 <- hflights %>% \n",
    "group_by(Origin, Dest) %>%\n",
    "summarise(avg_delay = round(mean(DepDelay , na.rm = T), digit=3), \n",
    "          avg_ArrDelay = round(mean(ArrDelay, na.rm = T), digits=3))\n",
    "\n",
    "head(flights.1)\n",
    "\n",
    "flights.melt <- melt(flights.1, id=c(\"Origin\"), \n",
    "                     measure=c(\"avg_delay\",\"avg_ArrDelay\"),\n",
    "                     variable.name = \"Delay_type\",\n",
    "                     value.name = \"Delay_time\",\n",
    "                     na.rm = T)\n",
    "\n",
    "tail(flights.1, 6)\n",
    "\n",
    "tail(flights.melt)\n",
    "\n",
    "ggplot(flights.melt, aes(x=Delay_time, fill=Delay_type)) + geom_density()\n",
    "\n",
    "ggplot(flights.melt, aes(x=Delay_time, fill=Delay_type, alpha = 0.00000001)) + \n",
    "geom_density()\n",
    "\n",
    "ggplot(flights.melt, aes(x=Delay_time, fill=Delay_type, alpha = 0.00000001)) + \n",
    "geom_density(colour = \"lightgray\", size = 0.00000001) +\n",
    "facet_wrap(~Origin, nrow = 2)\n",
    "\n",
    "head(hflights$DepDelay, 20)\n",
    "head(hflights$DepDelay > 5, 20)\n",
    "sum(hflights$DepDelay > 5, na.rm = T)\n",
    "\n",
    "length(hflights$DepDelay)\n",
    "length(hflights$DepDelay > 5)\n",
    "\n",
    "flights.2 <- hflights %>% \n",
    "group_by(Dest) %>%\n",
    "summarise( num_DepDelay = sum(DepDelay > 5, na.rm = T))\n",
    "\n",
    "flights.2$num_DepDelay >= 2000\n",
    "\n"
   ]
  },
  {
   "cell_type": "code",
   "execution_count": 2,
   "metadata": {},
   "outputs": [],
   "source": [
    "flights.2 <- hflights %>% \n",
    "group_by(Dest) %>%\n",
    "summarise( num_DepDelay = sum(DepDelay > 5, na.rm = T))"
   ]
  },
  {
   "cell_type": "code",
   "execution_count": 4,
   "metadata": {},
   "outputs": [],
   "source": [
    "flights.2 <- flights.2[flights.2$num_DepDelay >= 2000,]"
   ]
  },
  {
   "cell_type": "markdown",
   "metadata": {},
   "source": [
    "위의 결과를 바탕으로 목적지 공항, 월별 결항 횟수, 회황횟수, 운항 횟수를 구하시오.\n",
    "- 운항 횟수는 결항과 회항을 제외할 것"
   ]
  },
  {
   "cell_type": "code",
   "execution_count": 5,
   "metadata": {},
   "outputs": [
    {
     "data": {
      "text/html": [
       "<table>\n",
       "<thead><tr><th scope=col>Dest</th><th scope=col>num_DepDelay</th></tr></thead>\n",
       "<tbody>\n",
       "\t<tr><td>ATL </td><td>2088</td></tr>\n",
       "\t<tr><td>DAL </td><td>3458</td></tr>\n",
       "\t<tr><td>DEN </td><td>2183</td></tr>\n",
       "\t<tr><td>LAX </td><td>2727</td></tr>\n",
       "\t<tr><td>MSY </td><td>2145</td></tr>\n",
       "\t<tr><td>ORD </td><td>2158</td></tr>\n",
       "</tbody>\n",
       "</table>\n"
      ],
      "text/latex": [
       "\\begin{tabular}{r|ll}\n",
       " Dest & num\\_DepDelay\\\\\n",
       "\\hline\n",
       "\t ATL  & 2088\\\\\n",
       "\t DAL  & 3458\\\\\n",
       "\t DEN  & 2183\\\\\n",
       "\t LAX  & 2727\\\\\n",
       "\t MSY  & 2145\\\\\n",
       "\t ORD  & 2158\\\\\n",
       "\\end{tabular}\n"
      ],
      "text/markdown": [
       "\n",
       "Dest | num_DepDelay | \n",
       "|---|---|---|---|---|---|\n",
       "| ATL  | 2088 | \n",
       "| DAL  | 3458 | \n",
       "| DEN  | 2183 | \n",
       "| LAX  | 2727 | \n",
       "| MSY  | 2145 | \n",
       "| ORD  | 2158 | \n",
       "\n",
       "\n"
      ],
      "text/plain": [
       "  Dest num_DepDelay\n",
       "1 ATL  2088        \n",
       "2 DAL  3458        \n",
       "3 DEN  2183        \n",
       "4 LAX  2727        \n",
       "5 MSY  2145        \n",
       "6 ORD  2158        "
      ]
     },
     "metadata": {},
     "output_type": "display_data"
    }
   ],
   "source": [
    "head(flights.2)"
   ]
  },
  {
   "cell_type": "code",
   "execution_count": 6,
   "metadata": {},
   "outputs": [
    {
     "data": {
      "text/html": [
       "<ol class=list-inline>\n",
       "\t<li>FALSE</li>\n",
       "\t<li>FALSE</li>\n",
       "\t<li>FALSE</li>\n",
       "\t<li>FALSE</li>\n",
       "\t<li>FALSE</li>\n",
       "\t<li>FALSE</li>\n",
       "</ol>\n"
      ],
      "text/latex": [
       "\\begin{enumerate*}\n",
       "\\item FALSE\n",
       "\\item FALSE\n",
       "\\item FALSE\n",
       "\\item FALSE\n",
       "\\item FALSE\n",
       "\\item FALSE\n",
       "\\end{enumerate*}\n"
      ],
      "text/markdown": [
       "1. FALSE\n",
       "2. FALSE\n",
       "3. FALSE\n",
       "4. FALSE\n",
       "5. FALSE\n",
       "6. FALSE\n",
       "\n",
       "\n"
      ],
      "text/plain": [
       "[1] FALSE FALSE FALSE FALSE FALSE FALSE"
      ]
     },
     "metadata": {},
     "output_type": "display_data"
    }
   ],
   "source": [
    "head(hflights$Dest == flights.2$Dest)"
   ]
  },
  {
   "cell_type": "code",
   "execution_count": 7,
   "metadata": {},
   "outputs": [
    {
     "data": {
      "text/html": [
       "<table>\n",
       "<thead><tr><th></th><th scope=col>Year</th><th scope=col>Month</th><th scope=col>DayofMonth</th><th scope=col>DayOfWeek</th><th scope=col>DepTime</th><th scope=col>ArrTime</th><th scope=col>UniqueCarrier</th><th scope=col>FlightNum</th><th scope=col>TailNum</th><th scope=col>ActualElapsedTime</th><th scope=col>...</th><th scope=col>ArrDelay</th><th scope=col>DepDelay</th><th scope=col>Origin</th><th scope=col>Dest</th><th scope=col>Distance</th><th scope=col>TaxiIn</th><th scope=col>TaxiOut</th><th scope=col>Cancelled</th><th scope=col>CancellationCode</th><th scope=col>Diverted</th></tr></thead>\n",
       "<tbody>\n",
       "\t<tr><th scope=row>74665</th><td>2011  </td><td>1     </td><td>31    </td><td>1     </td><td>1522  </td><td>1632  </td><td>CO    </td><td> 33   </td><td>N16647</td><td> 70   </td><td>...   </td><td>-2    </td><td>-3    </td><td>IAH   </td><td>MSY   </td><td> 305  </td><td> 7    </td><td>21    </td><td>0     </td><td>      </td><td>0     </td></tr>\n",
       "\t<tr><th scope=row>74683</th><td>2011  </td><td>1     </td><td>31    </td><td>1     </td><td>1803  </td><td>1927  </td><td>CO    </td><td> 59   </td><td>N57870</td><td>144   </td><td>...   </td><td>15    </td><td>28    </td><td>IAH   </td><td>DEN   </td><td> 862  </td><td>12    </td><td>16    </td><td>0     </td><td>      </td><td>0     </td></tr>\n",
       "\t<tr><th scope=row>74866</th><td>2011  </td><td>1     </td><td>31    </td><td>1     </td><td>1924  </td><td>2026  </td><td>CO    </td><td>423   </td><td>N33266</td><td> 62   </td><td>...   </td><td>-8    </td><td>-1    </td><td>IAH   </td><td>MSY   </td><td> 305  </td><td> 2    </td><td>19    </td><td>0     </td><td>      </td><td>0     </td></tr>\n",
       "\t<tr><th scope=row>74966</th><td>2011  </td><td>1     </td><td>31    </td><td>1     </td><td>1313  </td><td>1516  </td><td>CO    </td><td>601   </td><td>N26208</td><td>183   </td><td>...   </td><td>36    </td><td> 9    </td><td>IAH   </td><td>DEN   </td><td> 862  </td><td>18    </td><td>34    </td><td>0     </td><td>      </td><td>0     </td></tr>\n",
       "\t<tr><th scope=row>75033</th><td>2011  </td><td>1     </td><td>31    </td><td>1     </td><td>1423  </td><td>1652  </td><td>CO    </td><td>746   </td><td>N78524</td><td>149   </td><td>...   </td><td>-8    </td><td> 3    </td><td>IAH   </td><td>ORD   </td><td> 925  </td><td>11    </td><td>24    </td><td>0     </td><td>      </td><td>0     </td></tr>\n",
       "\t<tr><th scope=row>75054</th><td>2011  </td><td>1     </td><td>31    </td><td>1     </td><td>1550  </td><td>1736  </td><td>CO    </td><td>795   </td><td>N76502</td><td>226   </td><td>...   </td><td> 8    </td><td>10    </td><td>IAH   </td><td>LAX   </td><td>1379  </td><td>13    </td><td>15    </td><td>0     </td><td>      </td><td>0     </td></tr>\n",
       "</tbody>\n",
       "</table>\n"
      ],
      "text/latex": [
       "\\begin{tabular}{r|lllllllllllllllllllll}\n",
       "  & Year & Month & DayofMonth & DayOfWeek & DepTime & ArrTime & UniqueCarrier & FlightNum & TailNum & ActualElapsedTime & ... & ArrDelay & DepDelay & Origin & Dest & Distance & TaxiIn & TaxiOut & Cancelled & CancellationCode & Diverted\\\\\n",
       "\\hline\n",
       "\t74665 & 2011   & 1      & 31     & 1      & 1522   & 1632   & CO     &  33    & N16647 &  70    & ...    & -2     & -3     & IAH    & MSY    &  305   &  7     & 21     & 0      &        & 0     \\\\\n",
       "\t74683 & 2011   & 1      & 31     & 1      & 1803   & 1927   & CO     &  59    & N57870 & 144    & ...    & 15     & 28     & IAH    & DEN    &  862   & 12     & 16     & 0      &        & 0     \\\\\n",
       "\t74866 & 2011   & 1      & 31     & 1      & 1924   & 2026   & CO     & 423    & N33266 &  62    & ...    & -8     & -1     & IAH    & MSY    &  305   &  2     & 19     & 0      &        & 0     \\\\\n",
       "\t74966 & 2011   & 1      & 31     & 1      & 1313   & 1516   & CO     & 601    & N26208 & 183    & ...    & 36     &  9     & IAH    & DEN    &  862   & 18     & 34     & 0      &        & 0     \\\\\n",
       "\t75033 & 2011   & 1      & 31     & 1      & 1423   & 1652   & CO     & 746    & N78524 & 149    & ...    & -8     &  3     & IAH    & ORD    &  925   & 11     & 24     & 0      &        & 0     \\\\\n",
       "\t75054 & 2011   & 1      & 31     & 1      & 1550   & 1736   & CO     & 795    & N76502 & 226    & ...    &  8     & 10     & IAH    & LAX    & 1379   & 13     & 15     & 0      &        & 0     \\\\\n",
       "\\end{tabular}\n"
      ],
      "text/markdown": [
       "\n",
       "| <!--/--> | Year | Month | DayofMonth | DayOfWeek | DepTime | ArrTime | UniqueCarrier | FlightNum | TailNum | ActualElapsedTime | ... | ArrDelay | DepDelay | Origin | Dest | Distance | TaxiIn | TaxiOut | Cancelled | CancellationCode | Diverted | \n",
       "|---|---|---|---|---|---|\n",
       "| 74665 | 2011   | 1      | 31     | 1      | 1522   | 1632   | CO     |  33    | N16647 |  70    | ...    | -2     | -3     | IAH    | MSY    |  305   |  7     | 21     | 0      |        | 0      | \n",
       "| 74683 | 2011   | 1      | 31     | 1      | 1803   | 1927   | CO     |  59    | N57870 | 144    | ...    | 15     | 28     | IAH    | DEN    |  862   | 12     | 16     | 0      |        | 0      | \n",
       "| 74866 | 2011   | 1      | 31     | 1      | 1924   | 2026   | CO     | 423    | N33266 |  62    | ...    | -8     | -1     | IAH    | MSY    |  305   |  2     | 19     | 0      |        | 0      | \n",
       "| 74966 | 2011   | 1      | 31     | 1      | 1313   | 1516   | CO     | 601    | N26208 | 183    | ...    | 36     |  9     | IAH    | DEN    |  862   | 18     | 34     | 0      |        | 0      | \n",
       "| 75033 | 2011   | 1      | 31     | 1      | 1423   | 1652   | CO     | 746    | N78524 | 149    | ...    | -8     |  3     | IAH    | ORD    |  925   | 11     | 24     | 0      |        | 0      | \n",
       "| 75054 | 2011   | 1      | 31     | 1      | 1550   | 1736   | CO     | 795    | N76502 | 226    | ...    |  8     | 10     | IAH    | LAX    | 1379   | 13     | 15     | 0      |        | 0      | \n",
       "\n",
       "\n"
      ],
      "text/plain": [
       "      Year Month DayofMonth DayOfWeek DepTime ArrTime UniqueCarrier FlightNum\n",
       "74665 2011 1     31         1         1522    1632    CO             33      \n",
       "74683 2011 1     31         1         1803    1927    CO             59      \n",
       "74866 2011 1     31         1         1924    2026    CO            423      \n",
       "74966 2011 1     31         1         1313    1516    CO            601      \n",
       "75033 2011 1     31         1         1423    1652    CO            746      \n",
       "75054 2011 1     31         1         1550    1736    CO            795      \n",
       "      TailNum ActualElapsedTime ... ArrDelay DepDelay Origin Dest Distance\n",
       "74665 N16647   70               ... -2       -3       IAH    MSY   305    \n",
       "74683 N57870  144               ... 15       28       IAH    DEN   862    \n",
       "74866 N33266   62               ... -8       -1       IAH    MSY   305    \n",
       "74966 N26208  183               ... 36        9       IAH    DEN   862    \n",
       "75033 N78524  149               ... -8        3       IAH    ORD   925    \n",
       "75054 N76502  226               ...  8       10       IAH    LAX  1379    \n",
       "      TaxiIn TaxiOut Cancelled CancellationCode Diverted\n",
       "74665  7     21      0                          0       \n",
       "74683 12     16      0                          0       \n",
       "74866  2     19      0                          0       \n",
       "74966 18     34      0                          0       \n",
       "75033 11     24      0                          0       \n",
       "75054 13     15      0                          0       "
      ]
     },
     "metadata": {},
     "output_type": "display_data"
    }
   ],
   "source": [
    "head(hflights[hflights$Dest == flights.2$Dest,])"
   ]
  },
  {
   "cell_type": "code",
   "execution_count": 8,
   "metadata": {},
   "outputs": [],
   "source": [
    "flights.4 <- hflights[hflights$Dest == flights.2$Dest,]"
   ]
  },
  {
   "cell_type": "code",
   "execution_count": 9,
   "metadata": {},
   "outputs": [
    {
     "data": {
      "text/html": [
       "<ol class=list-inline>\n",
       "\t<li>7038</li>\n",
       "\t<li>21</li>\n",
       "</ol>\n"
      ],
      "text/latex": [
       "\\begin{enumerate*}\n",
       "\\item 7038\n",
       "\\item 21\n",
       "\\end{enumerate*}\n"
      ],
      "text/markdown": [
       "1. 7038\n",
       "2. 21\n",
       "\n",
       "\n"
      ],
      "text/plain": [
       "[1] 7038   21"
      ]
     },
     "metadata": {},
     "output_type": "display_data"
    }
   ],
   "source": [
    "dim(flights.4)"
   ]
  },
  {
   "cell_type": "code",
   "execution_count": 33,
   "metadata": {},
   "outputs": [],
   "source": [
    "flights.5 <- hflights[hflights$Dest == flights.2$Dest,]  %>% \n",
    "group_by(Dest, Month)  %>% \n",
    "summarise(num_Cancelled=sum(Cancelled), num_Diverted= sum(Diverted ), num_Air=n()-sum(Cancelled)-sum(Diverted) )"
   ]
  },
  {
   "cell_type": "code",
   "execution_count": 35,
   "metadata": {},
   "outputs": [],
   "source": [
    "flights.5.melt <- melt(flights.5, id=c(\"Dest\", \"Month\"))"
   ]
  },
  {
   "cell_type": "code",
   "execution_count": 38,
   "metadata": {},
   "outputs": [
    {
     "data": {
      "text/html": [
       "216"
      ],
      "text/latex": [
       "216"
      ],
      "text/markdown": [
       "216"
      ],
      "text/plain": [
       "[1] 216"
      ]
     },
     "metadata": {},
     "output_type": "display_data"
    }
   ],
   "source": [
    "dim(flights.5)[1] * 3"
   ]
  },
  {
   "cell_type": "code",
   "execution_count": 37,
   "metadata": {},
   "outputs": [
    {
     "data": {
      "text/html": [
       "<ol class=list-inline>\n",
       "\t<li>216</li>\n",
       "\t<li>4</li>\n",
       "</ol>\n"
      ],
      "text/latex": [
       "\\begin{enumerate*}\n",
       "\\item 216\n",
       "\\item 4\n",
       "\\end{enumerate*}\n"
      ],
      "text/markdown": [
       "1. 216\n",
       "2. 4\n",
       "\n",
       "\n"
      ],
      "text/plain": [
       "[1] 216   4"
      ]
     },
     "metadata": {},
     "output_type": "display_data"
    }
   ],
   "source": [
    "dim(flights.5.melt)"
   ]
  },
  {
   "cell_type": "code",
   "execution_count": 44,
   "metadata": {},
   "outputs": [],
   "source": [
    "flights.5.melt2 <- flights.5.melt  %>% \n",
    "group_by(Month, variable)  %>% \n",
    "mutate(cnt = value/sum(value))"
   ]
  },
  {
   "cell_type": "code",
   "execution_count": 46,
   "metadata": {},
   "outputs": [
    {
     "data": {
      "text/html": [
       "<table>\n",
       "<thead><tr><th scope=col>Dest</th><th scope=col>Month</th><th scope=col>variable</th><th scope=col>value</th><th scope=col>cnt</th></tr></thead>\n",
       "<tbody>\n",
       "\t<tr><td>ATL          </td><td>1            </td><td>num_Cancelled</td><td>5            </td><td>0.55555556   </td></tr>\n",
       "\t<tr><td>ATL          </td><td>2            </td><td>num_Cancelled</td><td>2            </td><td>0.05263158   </td></tr>\n",
       "\t<tr><td>ATL          </td><td>3            </td><td>num_Cancelled</td><td>5            </td><td>0.55555556   </td></tr>\n",
       "\t<tr><td>ATL          </td><td>4            </td><td>num_Cancelled</td><td>6            </td><td>0.31578947   </td></tr>\n",
       "\t<tr><td>ATL          </td><td>5            </td><td>num_Cancelled</td><td>3            </td><td>0.18750000   </td></tr>\n",
       "\t<tr><td>ATL          </td><td>6            </td><td>num_Cancelled</td><td>1            </td><td>0.14285714   </td></tr>\n",
       "</tbody>\n",
       "</table>\n"
      ],
      "text/latex": [
       "\\begin{tabular}{r|lllll}\n",
       " Dest & Month & variable & value & cnt\\\\\n",
       "\\hline\n",
       "\t ATL             & 1               & num\\_Cancelled & 5               & 0.55555556     \\\\\n",
       "\t ATL             & 2               & num\\_Cancelled & 2               & 0.05263158     \\\\\n",
       "\t ATL             & 3               & num\\_Cancelled & 5               & 0.55555556     \\\\\n",
       "\t ATL             & 4               & num\\_Cancelled & 6               & 0.31578947     \\\\\n",
       "\t ATL             & 5               & num\\_Cancelled & 3               & 0.18750000     \\\\\n",
       "\t ATL             & 6               & num\\_Cancelled & 1               & 0.14285714     \\\\\n",
       "\\end{tabular}\n"
      ],
      "text/markdown": [
       "\n",
       "Dest | Month | variable | value | cnt | \n",
       "|---|---|---|---|---|---|\n",
       "| ATL           | 1             | num_Cancelled | 5             | 0.55555556    | \n",
       "| ATL           | 2             | num_Cancelled | 2             | 0.05263158    | \n",
       "| ATL           | 3             | num_Cancelled | 5             | 0.55555556    | \n",
       "| ATL           | 4             | num_Cancelled | 6             | 0.31578947    | \n",
       "| ATL           | 5             | num_Cancelled | 3             | 0.18750000    | \n",
       "| ATL           | 6             | num_Cancelled | 1             | 0.14285714    | \n",
       "\n",
       "\n"
      ],
      "text/plain": [
       "  Dest Month variable      value cnt       \n",
       "1 ATL  1     num_Cancelled 5     0.55555556\n",
       "2 ATL  2     num_Cancelled 2     0.05263158\n",
       "3 ATL  3     num_Cancelled 5     0.55555556\n",
       "4 ATL  4     num_Cancelled 6     0.31578947\n",
       "5 ATL  5     num_Cancelled 3     0.18750000\n",
       "6 ATL  6     num_Cancelled 1     0.14285714"
      ]
     },
     "metadata": {},
     "output_type": "display_data"
    }
   ],
   "source": [
    "head(flights.5.melt2)"
   ]
  },
  {
   "cell_type": "code",
   "execution_count": 50,
   "metadata": {},
   "outputs": [],
   "source": [
    "mm <- ggplot(flights.5.melt2, aes(x=Month, y=cnt, fill=Dest)) + geom_bar(stat=\"identity\")"
   ]
  },
  {
   "cell_type": "code",
   "execution_count": 59,
   "metadata": {},
   "outputs": [
    {
     "name": "stderr",
     "output_type": "stream",
     "text": [
      "Warning message:\n",
      "\"Removed 18 rows containing missing values (position_stack).\""
     ]
    },
    {
     "data": {},
     "metadata": {},
     "output_type": "display_data"
    },
    {
     "data": {
      "image/png": "[encoded data removed]",
      "text/plain": [
       "plot without title"
      ]
     },
     "metadata": {},
     "output_type": "display_data"
    }
   ],
   "source": [
    "mm"
   ]
  },
  {
   "cell_type": "code",
   "execution_count": 58,
   "metadata": {},
   "outputs": [
    {
     "name": "stderr",
     "output_type": "stream",
     "text": [
      "Warning message:\n",
      "\"Removed 18 rows containing missing values (position_stack).\""
     ]
    },
    {
     "data": {},
     "metadata": {},
     "output_type": "display_data"
    },
    {
     "data": {
      "image/png": "[encoded data removed]",
      "text/plain": [
       "plot without title"
      ]
     },
     "metadata": {},
     "output_type": "display_data"
    }
   ],
   "source": [
    "mm + facet_wrap(~ variable, nrow = 3)"
   ]
  },
  {
   "cell_type": "markdown",
   "metadata": {},
   "source": [
    "1. 항공사별로 운항횟수를 구한 후에, 운항횟수에 대해서 내림차순으로 정렬\n",
    "2. 상위 3개 데이터만 뽑아보기"
   ]
  },
  {
   "cell_type": "code",
   "execution_count": 61,
   "metadata": {},
   "outputs": [
    {
     "name": "stdout",
     "output_type": "stream",
     "text": [
      "'data.frame':\t227496 obs. of  21 variables:\n",
      " $ Year             : int  2011 2011 2011 2011 2011 2011 2011 2011 2011 2011 ...\n",
      " $ Month            : int  1 1 1 1 1 1 1 1 1 1 ...\n",
      " $ DayofMonth       : int  1 2 3 4 5 6 7 8 9 10 ...\n",
      " $ DayOfWeek        : int  6 7 1 2 3 4 5 6 7 1 ...\n",
      " $ DepTime          : int  1400 1401 1352 1403 1405 1359 1359 1355 1443 1443 ...\n",
      " $ ArrTime          : int  1500 1501 1502 1513 1507 1503 1509 1454 1554 1553 ...\n",
      " $ UniqueCarrier    : chr  \"AA\" \"AA\" \"AA\" \"AA\" ...\n",
      " $ FlightNum        : int  428 428 428 428 428 428 428 428 428 428 ...\n",
      " $ TailNum          : chr  \"N576AA\" \"N557AA\" \"N541AA\" \"N403AA\" ...\n",
      " $ ActualElapsedTime: int  60 60 70 70 62 64 70 59 71 70 ...\n",
      " $ AirTime          : int  40 45 48 39 44 45 43 40 41 45 ...\n",
      " $ ArrDelay         : int  -10 -9 -8 3 -3 -7 -1 -16 44 43 ...\n",
      " $ DepDelay         : int  0 1 -8 3 5 -1 -1 -5 43 43 ...\n",
      " $ Origin           : chr  \"IAH\" \"IAH\" \"IAH\" \"IAH\" ...\n",
      " $ Dest             : chr  \"DFW\" \"DFW\" \"DFW\" \"DFW\" ...\n",
      " $ Distance         : int  224 224 224 224 224 224 224 224 224 224 ...\n",
      " $ TaxiIn           : int  7 6 5 9 9 6 12 7 8 6 ...\n",
      " $ TaxiOut          : int  13 9 17 22 9 13 15 12 22 19 ...\n",
      " $ Cancelled        : int  0 0 0 0 0 0 0 0 0 0 ...\n",
      " $ CancellationCode : chr  \"\" \"\" \"\" \"\" ...\n",
      " $ Diverted         : int  0 0 0 0 0 0 0 0 0 0 ...\n"
     ]
    }
   ],
   "source": [
    "str(hflights)"
   ]
  },
  {
   "cell_type": "code",
   "execution_count": 77,
   "metadata": {},
   "outputs": [],
   "source": [
    "flights.7 <-\n",
    "hflights  %>% \n",
    "group_by(UniqueCarrier)  %>% \n",
    "summarise(air_count=n() - sum(Cancelled) - sum(Diverted))  %>% \n",
    "arrange(desc(air_count))  %>% \n",
    "head(3)"
   ]
  },
  {
   "cell_type": "code",
   "execution_count": 78,
   "metadata": {},
   "outputs": [
    {
     "data": {
      "text/html": [
       "<table>\n",
       "<thead><tr><th scope=col>UniqueCarrier</th><th scope=col>air_count</th></tr></thead>\n",
       "<tbody>\n",
       "\t<tr><td>XE   </td><td>71669</td></tr>\n",
       "\t<tr><td>CO   </td><td>69373</td></tr>\n",
       "\t<tr><td>WN   </td><td>44536</td></tr>\n",
       "</tbody>\n",
       "</table>\n"
      ],
      "text/latex": [
       "\\begin{tabular}{r|ll}\n",
       " UniqueCarrier & air\\_count\\\\\n",
       "\\hline\n",
       "\t XE    & 71669\\\\\n",
       "\t CO    & 69373\\\\\n",
       "\t WN    & 44536\\\\\n",
       "\\end{tabular}\n"
      ],
      "text/markdown": [
       "\n",
       "UniqueCarrier | air_count | \n",
       "|---|---|---|\n",
       "| XE    | 71669 | \n",
       "| CO    | 69373 | \n",
       "| WN    | 44536 | \n",
       "\n",
       "\n"
      ],
      "text/plain": [
       "  UniqueCarrier air_count\n",
       "1 XE            71669    \n",
       "2 CO            69373    \n",
       "3 WN            44536    "
      ]
     },
     "metadata": {},
     "output_type": "display_data"
    }
   ],
   "source": [
    "flights.7"
   ]
  },
  {
   "cell_type": "markdown",
   "metadata": {},
   "source": [
    "2. 1번째 결과를 사용해서 상위 3개 항공사에 대한 평균 도착 지연시간, 평균 출발지연시간을 구하기\n",
    "소수점 셋째자리"
   ]
  },
  {
   "cell_type": "code",
   "execution_count": 91,
   "metadata": {},
   "outputs": [],
   "source": [
    "flights.test.2 <-\n",
    "hflights[hflights$UniqueCarrier == flights.7$UniqueCarrier,]  %>% \n",
    "group_by(UniqueCarrier)  %>% \n",
    "summarise(avg_ArrDelay = round(mean(ArrDelay, na.rm=T),3), \n",
    "          avg_DepDelay = round(mean(DepDelay, na.rm=T),3))"
   ]
  },
  {
   "cell_type": "markdown",
   "metadata": {},
   "source": [
    "3.1 2번째 결과를 이용해서 평균 도착 지연 시간이 가장 긴 항공사에 대한 데이터를 추출\n",
    "\n",
    "3.2 월별, 요일별 평균 도착지연시간과 평균 출발지연 시간을 출력"
   ]
  },
  {
   "cell_type": "code",
   "execution_count": 126,
   "metadata": {},
   "outputs": [],
   "source": [
    "carrier <- flights.test.2  %>% \n",
    "arrange(desc(avg_ArrDelay))  %>% \n",
    "head(1)[1,1]"
   ]
  },
  {
   "cell_type": "code",
   "execution_count": 115,
   "metadata": {},
   "outputs": [
    {
     "data": {
      "text/html": [
       "<ol class=list-inline>\n",
       "\t<li>3</li>\n",
       "\t<li>2</li>\n",
       "\t<li>1</li>\n",
       "</ol>\n"
      ],
      "text/latex": [
       "\\begin{enumerate*}\n",
       "\\item 3\n",
       "\\item 2\n",
       "\\item 1\n",
       "\\end{enumerate*}\n"
      ],
      "text/markdown": [
       "1. 3\n",
       "2. 2\n",
       "3. 1\n",
       "\n",
       "\n"
      ],
      "text/plain": [
       "[1] 3 2 1"
      ]
     },
     "metadata": {},
     "output_type": "display_data"
    }
   ],
   "source": [
    "order(flights.test.2$avg_ArrDelay,decreasing = T)"
   ]
  },
  {
   "cell_type": "code",
   "execution_count": 144,
   "metadata": {},
   "outputs": [
    {
     "data": {
      "text/html": [
       "'XE'"
      ],
      "text/latex": [
       "'XE'"
      ],
      "text/markdown": [
       "'XE'"
      ],
      "text/plain": [
       "[1] \"XE\""
      ]
     },
     "metadata": {},
     "output_type": "display_data"
    }
   ],
   "source": [
    "flights.test.2[order(flights.test.2$avg_ArrDelay,decreasing = T)[1],]$UniqueCarrier"
   ]
  },
  {
   "cell_type": "code",
   "execution_count": 134,
   "metadata": {},
   "outputs": [
    {
     "data": {
      "text/html": [
       "'character'"
      ],
      "text/latex": [
       "'character'"
      ],
      "text/markdown": [
       "'character'"
      ],
      "text/plain": [
       "[1] \"character\""
      ]
     },
     "metadata": {},
     "output_type": "display_data"
    }
   ],
   "source": [
    "class(carrier <- flights.test.2  %>% \n",
    "arrange(desc(avg_ArrDelay))  %>% \n",
    "head(1)[1,1])"
   ]
  },
  {
   "cell_type": "code",
   "execution_count": 145,
   "metadata": {},
   "outputs": [
    {
     "data": {
      "text/html": [
       "<table>\n",
       "<thead><tr><th></th><th scope=col>Year</th><th scope=col>Month</th><th scope=col>DayofMonth</th><th scope=col>DayOfWeek</th><th scope=col>DepTime</th><th scope=col>ArrTime</th><th scope=col>UniqueCarrier</th><th scope=col>FlightNum</th><th scope=col>TailNum</th><th scope=col>ActualElapsedTime</th><th scope=col>...</th><th scope=col>ArrDelay</th><th scope=col>DepDelay</th><th scope=col>Origin</th><th scope=col>Dest</th><th scope=col>Distance</th><th scope=col>TaxiIn</th><th scope=col>TaxiOut</th><th scope=col>Cancelled</th><th scope=col>CancellationCode</th><th scope=col>Diverted</th></tr></thead>\n",
       "<tbody>\n",
       "\t<tr><th scope=row>453313</th><td>2011  </td><td>1     </td><td>31    </td><td>1     </td><td>1623  </td><td>1913  </td><td>XE    </td><td>2008  </td><td>N11184</td><td>110   </td><td>...   </td><td>-15   </td><td>-7    </td><td>IAH   </td><td>JAX   </td><td>817   </td><td>4     </td><td>15    </td><td>0     </td><td>      </td><td>0     </td></tr>\n",
       "\t<tr><th scope=row>453314</th><td>2011  </td><td>1     </td><td>31    </td><td>1     </td><td>1325  </td><td>1644  </td><td>XE    </td><td>2010  </td><td>N13992</td><td>139   </td><td>...   </td><td>  7   </td><td>-8    </td><td>IAH   </td><td>SDF   </td><td>788   </td><td>4     </td><td>35    </td><td>0     </td><td>      </td><td>0     </td></tr>\n",
       "\t<tr><th scope=row>453318</th><td>2011  </td><td>1     </td><td>31    </td><td>1     </td><td>2110  </td><td>2203  </td><td>XE    </td><td>2024  </td><td>N13949</td><td> 53   </td><td>...   </td><td> -8   </td><td> 0    </td><td>IAH   </td><td>BTR   </td><td>253   </td><td>6     </td><td>11    </td><td>0     </td><td>      </td><td>0     </td></tr>\n",
       "\t<tr><th scope=row>453319</th><td>2011  </td><td>1     </td><td>31    </td><td>1     </td><td>1511  </td><td>1824  </td><td>XE    </td><td>2025  </td><td>N11140</td><td> NA   </td><td>...   </td><td> NA   </td><td> 1    </td><td>IAH   </td><td>ABQ   </td><td>744   </td><td>5     </td><td>23    </td><td>0     </td><td>      </td><td>1     </td></tr>\n",
       "\t<tr><th scope=row>453320</th><td>2011  </td><td>1     </td><td>31    </td><td>1     </td><td> 714  </td><td> 907  </td><td>XE    </td><td>2026  </td><td>N11191</td><td>113   </td><td>...   </td><td>-16   </td><td>-6    </td><td>IAH   </td><td>STL   </td><td>668   </td><td>6     </td><td>14    </td><td>0     </td><td>      </td><td>0     </td></tr>\n",
       "\t<tr><th scope=row>453323</th><td>2011  </td><td>1     </td><td>31    </td><td>1     </td><td>1101  </td><td>1353  </td><td>XE    </td><td>2029  </td><td>N14952</td><td>112   </td><td>...   </td><td> 12   </td><td>21    </td><td>IAH   </td><td>ATL   </td><td>689   </td><td>8     </td><td>13    </td><td>0     </td><td>      </td><td>0     </td></tr>\n",
       "</tbody>\n",
       "</table>\n"
      ],
      "text/latex": [
       "\\begin{tabular}{r|lllllllllllllllllllll}\n",
       "  & Year & Month & DayofMonth & DayOfWeek & DepTime & ArrTime & UniqueCarrier & FlightNum & TailNum & ActualElapsedTime & ... & ArrDelay & DepDelay & Origin & Dest & Distance & TaxiIn & TaxiOut & Cancelled & CancellationCode & Diverted\\\\\n",
       "\\hline\n",
       "\t453313 & 2011   & 1      & 31     & 1      & 1623   & 1913   & XE     & 2008   & N11184 & 110    & ...    & -15    & -7     & IAH    & JAX    & 817    & 4      & 15     & 0      &        & 0     \\\\\n",
       "\t453314 & 2011   & 1      & 31     & 1      & 1325   & 1644   & XE     & 2010   & N13992 & 139    & ...    &   7    & -8     & IAH    & SDF    & 788    & 4      & 35     & 0      &        & 0     \\\\\n",
       "\t453318 & 2011   & 1      & 31     & 1      & 2110   & 2203   & XE     & 2024   & N13949 &  53    & ...    &  -8    &  0     & IAH    & BTR    & 253    & 6      & 11     & 0      &        & 0     \\\\\n",
       "\t453319 & 2011   & 1      & 31     & 1      & 1511   & 1824   & XE     & 2025   & N11140 &  NA    & ...    &  NA    &  1     & IAH    & ABQ    & 744    & 5      & 23     & 0      &        & 1     \\\\\n",
       "\t453320 & 2011   & 1      & 31     & 1      &  714   &  907   & XE     & 2026   & N11191 & 113    & ...    & -16    & -6     & IAH    & STL    & 668    & 6      & 14     & 0      &        & 0     \\\\\n",
       "\t453323 & 2011   & 1      & 31     & 1      & 1101   & 1353   & XE     & 2029   & N14952 & 112    & ...    &  12    & 21     & IAH    & ATL    & 689    & 8      & 13     & 0      &        & 0     \\\\\n",
       "\\end{tabular}\n"
      ],
      "text/markdown": [
       "\n",
       "| <!--/--> | Year | Month | DayofMonth | DayOfWeek | DepTime | ArrTime | UniqueCarrier | FlightNum | TailNum | ActualElapsedTime | ... | ArrDelay | DepDelay | Origin | Dest | Distance | TaxiIn | TaxiOut | Cancelled | CancellationCode | Diverted | \n",
       "|---|---|---|---|---|---|\n",
       "| 453313 | 2011   | 1      | 31     | 1      | 1623   | 1913   | XE     | 2008   | N11184 | 110    | ...    | -15    | -7     | IAH    | JAX    | 817    | 4      | 15     | 0      |        | 0      | \n",
       "| 453314 | 2011   | 1      | 31     | 1      | 1325   | 1644   | XE     | 2010   | N13992 | 139    | ...    |   7    | -8     | IAH    | SDF    | 788    | 4      | 35     | 0      |        | 0      | \n",
       "| 453318 | 2011   | 1      | 31     | 1      | 2110   | 2203   | XE     | 2024   | N13949 |  53    | ...    |  -8    |  0     | IAH    | BTR    | 253    | 6      | 11     | 0      |        | 0      | \n",
       "| 453319 | 2011   | 1      | 31     | 1      | 1511   | 1824   | XE     | 2025   | N11140 |  NA    | ...    |  NA    |  1     | IAH    | ABQ    | 744    | 5      | 23     | 0      |        | 1      | \n",
       "| 453320 | 2011   | 1      | 31     | 1      |  714   |  907   | XE     | 2026   | N11191 | 113    | ...    | -16    | -6     | IAH    | STL    | 668    | 6      | 14     | 0      |        | 0      | \n",
       "| 453323 | 2011   | 1      | 31     | 1      | 1101   | 1353   | XE     | 2029   | N14952 | 112    | ...    |  12    | 21     | IAH    | ATL    | 689    | 8      | 13     | 0      |        | 0      | \n",
       "\n",
       "\n"
      ],
      "text/plain": [
       "       Year Month DayofMonth DayOfWeek DepTime ArrTime UniqueCarrier FlightNum\n",
       "453313 2011 1     31         1         1623    1913    XE            2008     \n",
       "453314 2011 1     31         1         1325    1644    XE            2010     \n",
       "453318 2011 1     31         1         2110    2203    XE            2024     \n",
       "453319 2011 1     31         1         1511    1824    XE            2025     \n",
       "453320 2011 1     31         1          714     907    XE            2026     \n",
       "453323 2011 1     31         1         1101    1353    XE            2029     \n",
       "       TailNum ActualElapsedTime ... ArrDelay DepDelay Origin Dest Distance\n",
       "453313 N11184  110               ... -15      -7       IAH    JAX  817     \n",
       "453314 N13992  139               ...   7      -8       IAH    SDF  788     \n",
       "453318 N13949   53               ...  -8       0       IAH    BTR  253     \n",
       "453319 N11140   NA               ...  NA       1       IAH    ABQ  744     \n",
       "453320 N11191  113               ... -16      -6       IAH    STL  668     \n",
       "453323 N14952  112               ...  12      21       IAH    ATL  689     \n",
       "       TaxiIn TaxiOut Cancelled CancellationCode Diverted\n",
       "453313 4      15      0                          0       \n",
       "453314 4      35      0                          0       \n",
       "453318 6      11      0                          0       \n",
       "453319 5      23      0                          1       \n",
       "453320 6      14      0                          0       \n",
       "453323 8      13      0                          0       "
      ]
     },
     "metadata": {},
     "output_type": "display_data"
    }
   ],
   "source": [
    "hflights[hflights$UniqueCarrier == flights.test.2[order(flights.test.2$avg_ArrDelay,decreasing = T)[1],]$UniqueCarrier,]  %>% \n",
    "head()"
   ]
  },
  {
   "cell_type": "code",
   "execution_count": 127,
   "metadata": {},
   "outputs": [
    {
     "data": {
      "text/html": [
       "<table>\n",
       "<thead><tr><th></th><th scope=col>Year</th><th scope=col>Month</th><th scope=col>DayofMonth</th><th scope=col>DayOfWeek</th><th scope=col>DepTime</th><th scope=col>ArrTime</th><th scope=col>UniqueCarrier</th><th scope=col>FlightNum</th><th scope=col>TailNum</th><th scope=col>ActualElapsedTime</th><th scope=col>...</th><th scope=col>ArrDelay</th><th scope=col>DepDelay</th><th scope=col>Origin</th><th scope=col>Dest</th><th scope=col>Distance</th><th scope=col>TaxiIn</th><th scope=col>TaxiOut</th><th scope=col>Cancelled</th><th scope=col>CancellationCode</th><th scope=col>Diverted</th></tr></thead>\n",
       "<tbody>\n",
       "\t<tr><th scope=row>453313</th><td>2011  </td><td>1     </td><td>31    </td><td>1     </td><td>1623  </td><td>1913  </td><td>XE    </td><td>2008  </td><td>N11184</td><td>110   </td><td>...   </td><td>-15   </td><td>-7    </td><td>IAH   </td><td>JAX   </td><td>817   </td><td>4     </td><td>15    </td><td>0     </td><td>      </td><td>0     </td></tr>\n",
       "\t<tr><th scope=row>453314</th><td>2011  </td><td>1     </td><td>31    </td><td>1     </td><td>1325  </td><td>1644  </td><td>XE    </td><td>2010  </td><td>N13992</td><td>139   </td><td>...   </td><td>  7   </td><td>-8    </td><td>IAH   </td><td>SDF   </td><td>788   </td><td>4     </td><td>35    </td><td>0     </td><td>      </td><td>0     </td></tr>\n",
       "\t<tr><th scope=row>453318</th><td>2011  </td><td>1     </td><td>31    </td><td>1     </td><td>2110  </td><td>2203  </td><td>XE    </td><td>2024  </td><td>N13949</td><td> 53   </td><td>...   </td><td> -8   </td><td> 0    </td><td>IAH   </td><td>BTR   </td><td>253   </td><td>6     </td><td>11    </td><td>0     </td><td>      </td><td>0     </td></tr>\n",
       "\t<tr><th scope=row>453319</th><td>2011  </td><td>1     </td><td>31    </td><td>1     </td><td>1511  </td><td>1824  </td><td>XE    </td><td>2025  </td><td>N11140</td><td> NA   </td><td>...   </td><td> NA   </td><td> 1    </td><td>IAH   </td><td>ABQ   </td><td>744   </td><td>5     </td><td>23    </td><td>0     </td><td>      </td><td>1     </td></tr>\n",
       "\t<tr><th scope=row>453320</th><td>2011  </td><td>1     </td><td>31    </td><td>1     </td><td> 714  </td><td> 907  </td><td>XE    </td><td>2026  </td><td>N11191</td><td>113   </td><td>...   </td><td>-16   </td><td>-6    </td><td>IAH   </td><td>STL   </td><td>668   </td><td>6     </td><td>14    </td><td>0     </td><td>      </td><td>0     </td></tr>\n",
       "\t<tr><th scope=row>453323</th><td>2011  </td><td>1     </td><td>31    </td><td>1     </td><td>1101  </td><td>1353  </td><td>XE    </td><td>2029  </td><td>N14952</td><td>112   </td><td>...   </td><td> 12   </td><td>21    </td><td>IAH   </td><td>ATL   </td><td>689   </td><td>8     </td><td>13    </td><td>0     </td><td>      </td><td>0     </td></tr>\n",
       "</tbody>\n",
       "</table>\n"
      ],
      "text/latex": [
       "\\begin{tabular}{r|lllllllllllllllllllll}\n",
       "  & Year & Month & DayofMonth & DayOfWeek & DepTime & ArrTime & UniqueCarrier & FlightNum & TailNum & ActualElapsedTime & ... & ArrDelay & DepDelay & Origin & Dest & Distance & TaxiIn & TaxiOut & Cancelled & CancellationCode & Diverted\\\\\n",
       "\\hline\n",
       "\t453313 & 2011   & 1      & 31     & 1      & 1623   & 1913   & XE     & 2008   & N11184 & 110    & ...    & -15    & -7     & IAH    & JAX    & 817    & 4      & 15     & 0      &        & 0     \\\\\n",
       "\t453314 & 2011   & 1      & 31     & 1      & 1325   & 1644   & XE     & 2010   & N13992 & 139    & ...    &   7    & -8     & IAH    & SDF    & 788    & 4      & 35     & 0      &        & 0     \\\\\n",
       "\t453318 & 2011   & 1      & 31     & 1      & 2110   & 2203   & XE     & 2024   & N13949 &  53    & ...    &  -8    &  0     & IAH    & BTR    & 253    & 6      & 11     & 0      &        & 0     \\\\\n",
       "\t453319 & 2011   & 1      & 31     & 1      & 1511   & 1824   & XE     & 2025   & N11140 &  NA    & ...    &  NA    &  1     & IAH    & ABQ    & 744    & 5      & 23     & 0      &        & 1     \\\\\n",
       "\t453320 & 2011   & 1      & 31     & 1      &  714   &  907   & XE     & 2026   & N11191 & 113    & ...    & -16    & -6     & IAH    & STL    & 668    & 6      & 14     & 0      &        & 0     \\\\\n",
       "\t453323 & 2011   & 1      & 31     & 1      & 1101   & 1353   & XE     & 2029   & N14952 & 112    & ...    &  12    & 21     & IAH    & ATL    & 689    & 8      & 13     & 0      &        & 0     \\\\\n",
       "\\end{tabular}\n"
      ],
      "text/markdown": [
       "\n",
       "| <!--/--> | Year | Month | DayofMonth | DayOfWeek | DepTime | ArrTime | UniqueCarrier | FlightNum | TailNum | ActualElapsedTime | ... | ArrDelay | DepDelay | Origin | Dest | Distance | TaxiIn | TaxiOut | Cancelled | CancellationCode | Diverted | \n",
       "|---|---|---|---|---|---|\n",
       "| 453313 | 2011   | 1      | 31     | 1      | 1623   | 1913   | XE     | 2008   | N11184 | 110    | ...    | -15    | -7     | IAH    | JAX    | 817    | 4      | 15     | 0      |        | 0      | \n",
       "| 453314 | 2011   | 1      | 31     | 1      | 1325   | 1644   | XE     | 2010   | N13992 | 139    | ...    |   7    | -8     | IAH    | SDF    | 788    | 4      | 35     | 0      |        | 0      | \n",
       "| 453318 | 2011   | 1      | 31     | 1      | 2110   | 2203   | XE     | 2024   | N13949 |  53    | ...    |  -8    |  0     | IAH    | BTR    | 253    | 6      | 11     | 0      |        | 0      | \n",
       "| 453319 | 2011   | 1      | 31     | 1      | 1511   | 1824   | XE     | 2025   | N11140 |  NA    | ...    |  NA    |  1     | IAH    | ABQ    | 744    | 5      | 23     | 0      |        | 1      | \n",
       "| 453320 | 2011   | 1      | 31     | 1      |  714   |  907   | XE     | 2026   | N11191 | 113    | ...    | -16    | -6     | IAH    | STL    | 668    | 6      | 14     | 0      |        | 0      | \n",
       "| 453323 | 2011   | 1      | 31     | 1      | 1101   | 1353   | XE     | 2029   | N14952 | 112    | ...    |  12    | 21     | IAH    | ATL    | 689    | 8      | 13     | 0      |        | 0      | \n",
       "\n",
       "\n"
      ],
      "text/plain": [
       "       Year Month DayofMonth DayOfWeek DepTime ArrTime UniqueCarrier FlightNum\n",
       "453313 2011 1     31         1         1623    1913    XE            2008     \n",
       "453314 2011 1     31         1         1325    1644    XE            2010     \n",
       "453318 2011 1     31         1         2110    2203    XE            2024     \n",
       "453319 2011 1     31         1         1511    1824    XE            2025     \n",
       "453320 2011 1     31         1          714     907    XE            2026     \n",
       "453323 2011 1     31         1         1101    1353    XE            2029     \n",
       "       TailNum ActualElapsedTime ... ArrDelay DepDelay Origin Dest Distance\n",
       "453313 N11184  110               ... -15      -7       IAH    JAX  817     \n",
       "453314 N13992  139               ...   7      -8       IAH    SDF  788     \n",
       "453318 N13949   53               ...  -8       0       IAH    BTR  253     \n",
       "453319 N11140   NA               ...  NA       1       IAH    ABQ  744     \n",
       "453320 N11191  113               ... -16      -6       IAH    STL  668     \n",
       "453323 N14952  112               ...  12      21       IAH    ATL  689     \n",
       "       TaxiIn TaxiOut Cancelled CancellationCode Diverted\n",
       "453313 4      15      0                          0       \n",
       "453314 4      35      0                          0       \n",
       "453318 6      11      0                          0       \n",
       "453319 5      23      0                          1       \n",
       "453320 6      14      0                          0       \n",
       "453323 8      13      0                          0       "
      ]
     },
     "metadata": {},
     "output_type": "display_data"
    }
   ],
   "source": [
    "hflights[hflights$UniqueCarrier == carrier,]  %>% \n",
    "head()"
   ]
  },
  {
   "cell_type": "code",
   "execution_count": 148,
   "metadata": {},
   "outputs": [],
   "source": [
    "flights.test.3 <-\n",
    "hflights[hflights$UniqueCarrier == flights.test.2[order(flights.test.2$avg_ArrDelay,decreasing = T)[1],]$UniqueCarrier,]  %>% \n",
    "group_by(Month, DayOfWeek)  %>% \n",
    "summarise(avg_ArrDelay = round(mean(ArrDelay, na.rm=T),3),\n",
    "         avg_DepDely = round(mean(DepDelay, na.rm=T),3))"
   ]
  },
  {
   "cell_type": "code",
   "execution_count": 150,
   "metadata": {},
   "outputs": [
    {
     "data": {
      "text/html": [
       "<table>\n",
       "<thead><tr><th scope=col>Month</th><th scope=col>DayOfWeek</th><th scope=col>variable</th><th scope=col>value</th></tr></thead>\n",
       "<tbody>\n",
       "\t<tr><td>1           </td><td>1           </td><td>avg_ArrDelay</td><td> 7.299      </td></tr>\n",
       "\t<tr><td>1           </td><td>2           </td><td>avg_ArrDelay</td><td> 3.067      </td></tr>\n",
       "\t<tr><td>1           </td><td>3           </td><td>avg_ArrDelay</td><td>-2.655      </td></tr>\n",
       "\t<tr><td>1           </td><td>4           </td><td>avg_ArrDelay</td><td> 5.711      </td></tr>\n",
       "\t<tr><td>1           </td><td>5           </td><td>avg_ArrDelay</td><td> 0.005      </td></tr>\n",
       "\t<tr><td>1           </td><td>6           </td><td>avg_ArrDelay</td><td> 2.191      </td></tr>\n",
       "\t<tr><td>1           </td><td>7           </td><td>avg_ArrDelay</td><td> 6.739      </td></tr>\n",
       "\t<tr><td>2           </td><td>1           </td><td>avg_ArrDelay</td><td> 4.968      </td></tr>\n",
       "\t<tr><td>2           </td><td>2           </td><td>avg_ArrDelay</td><td> 4.352      </td></tr>\n",
       "\t<tr><td>2           </td><td>3           </td><td>avg_ArrDelay</td><td> 6.612      </td></tr>\n",
       "\t<tr><td>2           </td><td>4           </td><td>avg_ArrDelay</td><td> 2.538      </td></tr>\n",
       "\t<tr><td>2           </td><td>5           </td><td>avg_ArrDelay</td><td> 7.708      </td></tr>\n",
       "\t<tr><td>2           </td><td>6           </td><td>avg_ArrDelay</td><td> 7.805      </td></tr>\n",
       "\t<tr><td>2           </td><td>7           </td><td>avg_ArrDelay</td><td> 3.500      </td></tr>\n",
       "\t<tr><td>3           </td><td>1           </td><td>avg_ArrDelay</td><td>18.661      </td></tr>\n",
       "\t<tr><td>3           </td><td>2           </td><td>avg_ArrDelay</td><td> 0.988      </td></tr>\n",
       "\t<tr><td>3           </td><td>3           </td><td>avg_ArrDelay</td><td> 2.456      </td></tr>\n",
       "\t<tr><td>3           </td><td>4           </td><td>avg_ArrDelay</td><td>14.192      </td></tr>\n",
       "\t<tr><td>3           </td><td>5           </td><td>avg_ArrDelay</td><td> 3.765      </td></tr>\n",
       "\t<tr><td>3           </td><td>6           </td><td>avg_ArrDelay</td><td> 8.429      </td></tr>\n",
       "\t<tr><td>3           </td><td>7           </td><td>avg_ArrDelay</td><td> 6.940      </td></tr>\n",
       "\t<tr><td>4           </td><td>1           </td><td>avg_ArrDelay</td><td>26.040      </td></tr>\n",
       "\t<tr><td>4           </td><td>2           </td><td>avg_ArrDelay</td><td> 5.427      </td></tr>\n",
       "\t<tr><td>4           </td><td>3           </td><td>avg_ArrDelay</td><td> 6.863      </td></tr>\n",
       "\t<tr><td>4           </td><td>4           </td><td>avg_ArrDelay</td><td>11.673      </td></tr>\n",
       "\t<tr><td>4           </td><td>5           </td><td>avg_ArrDelay</td><td>12.638      </td></tr>\n",
       "\t<tr><td>4           </td><td>6           </td><td>avg_ArrDelay</td><td> 6.364      </td></tr>\n",
       "\t<tr><td>4           </td><td>7           </td><td>avg_ArrDelay</td><td> 9.801      </td></tr>\n",
       "\t<tr><td>5           </td><td>1           </td><td>avg_ArrDelay</td><td> 8.964      </td></tr>\n",
       "\t<tr><td>5           </td><td>2           </td><td>avg_ArrDelay</td><td> 3.973      </td></tr>\n",
       "\t<tr><td>...</td><td>...</td><td>...</td><td>...</td></tr>\n",
       "\t<tr><td> 8         </td><td>6          </td><td>avg_DepDely</td><td> 5.132     </td></tr>\n",
       "\t<tr><td> 8         </td><td>7          </td><td>avg_DepDely</td><td> 8.257     </td></tr>\n",
       "\t<tr><td> 9         </td><td>1          </td><td>avg_DepDely</td><td> 4.169     </td></tr>\n",
       "\t<tr><td> 9         </td><td>2          </td><td>avg_DepDely</td><td> 2.014     </td></tr>\n",
       "\t<tr><td> 9         </td><td>3          </td><td>avg_DepDely</td><td> 1.544     </td></tr>\n",
       "\t<tr><td> 9         </td><td>4          </td><td>avg_DepDely</td><td>10.190     </td></tr>\n",
       "\t<tr><td> 9         </td><td>5          </td><td>avg_DepDely</td><td> 7.958     </td></tr>\n",
       "\t<tr><td> 9         </td><td>6          </td><td>avg_DepDely</td><td> 2.016     </td></tr>\n",
       "\t<tr><td> 9         </td><td>7          </td><td>avg_DepDely</td><td> 6.476     </td></tr>\n",
       "\t<tr><td>10         </td><td>1          </td><td>avg_DepDely</td><td>10.277     </td></tr>\n",
       "\t<tr><td>10         </td><td>2          </td><td>avg_DepDely</td><td>-1.489     </td></tr>\n",
       "\t<tr><td>10         </td><td>3          </td><td>avg_DepDely</td><td>-0.207     </td></tr>\n",
       "\t<tr><td>10         </td><td>4          </td><td>avg_DepDely</td><td> 2.110     </td></tr>\n",
       "\t<tr><td>10         </td><td>5          </td><td>avg_DepDely</td><td> 5.586     </td></tr>\n",
       "\t<tr><td>10         </td><td>6          </td><td>avg_DepDely</td><td> 0.968     </td></tr>\n",
       "\t<tr><td>10         </td><td>7          </td><td>avg_DepDely</td><td>21.633     </td></tr>\n",
       "\t<tr><td>11         </td><td>1          </td><td>avg_DepDely</td><td> 4.733     </td></tr>\n",
       "\t<tr><td>11         </td><td>2          </td><td>avg_DepDely</td><td>20.156     </td></tr>\n",
       "\t<tr><td>11         </td><td>3          </td><td>avg_DepDely</td><td> 1.342     </td></tr>\n",
       "\t<tr><td>11         </td><td>4          </td><td>avg_DepDely</td><td> 2.908     </td></tr>\n",
       "\t<tr><td>11         </td><td>5          </td><td>avg_DepDely</td><td>-0.408     </td></tr>\n",
       "\t<tr><td>11         </td><td>6          </td><td>avg_DepDely</td><td> 4.609     </td></tr>\n",
       "\t<tr><td>11         </td><td>7          </td><td>avg_DepDely</td><td> 5.396     </td></tr>\n",
       "\t<tr><td>12         </td><td>1          </td><td>avg_DepDely</td><td> 9.219     </td></tr>\n",
       "\t<tr><td>12         </td><td>2          </td><td>avg_DepDely</td><td> 5.951     </td></tr>\n",
       "\t<tr><td>12         </td><td>3          </td><td>avg_DepDely</td><td> 5.111     </td></tr>\n",
       "\t<tr><td>12         </td><td>4          </td><td>avg_DepDely</td><td>23.306     </td></tr>\n",
       "\t<tr><td>12         </td><td>5          </td><td>avg_DepDely</td><td>10.451     </td></tr>\n",
       "\t<tr><td>12         </td><td>6          </td><td>avg_DepDely</td><td>31.474     </td></tr>\n",
       "\t<tr><td>12         </td><td>7          </td><td>avg_DepDely</td><td>10.602     </td></tr>\n",
       "</tbody>\n",
       "</table>\n"
      ],
      "text/latex": [
       "\\begin{tabular}{r|llll}\n",
       " Month & DayOfWeek & variable & value\\\\\n",
       "\\hline\n",
       "\t 1              & 1              & avg\\_ArrDelay &  7.299        \\\\\n",
       "\t 1              & 2              & avg\\_ArrDelay &  3.067        \\\\\n",
       "\t 1              & 3              & avg\\_ArrDelay & -2.655        \\\\\n",
       "\t 1              & 4              & avg\\_ArrDelay &  5.711        \\\\\n",
       "\t 1              & 5              & avg\\_ArrDelay &  0.005        \\\\\n",
       "\t 1              & 6              & avg\\_ArrDelay &  2.191        \\\\\n",
       "\t 1              & 7              & avg\\_ArrDelay &  6.739        \\\\\n",
       "\t 2              & 1              & avg\\_ArrDelay &  4.968        \\\\\n",
       "\t 2              & 2              & avg\\_ArrDelay &  4.352        \\\\\n",
       "\t 2              & 3              & avg\\_ArrDelay &  6.612        \\\\\n",
       "\t 2              & 4              & avg\\_ArrDelay &  2.538        \\\\\n",
       "\t 2              & 5              & avg\\_ArrDelay &  7.708        \\\\\n",
       "\t 2              & 6              & avg\\_ArrDelay &  7.805        \\\\\n",
       "\t 2              & 7              & avg\\_ArrDelay &  3.500        \\\\\n",
       "\t 3              & 1              & avg\\_ArrDelay & 18.661        \\\\\n",
       "\t 3              & 2              & avg\\_ArrDelay &  0.988        \\\\\n",
       "\t 3              & 3              & avg\\_ArrDelay &  2.456        \\\\\n",
       "\t 3              & 4              & avg\\_ArrDelay & 14.192        \\\\\n",
       "\t 3              & 5              & avg\\_ArrDelay &  3.765        \\\\\n",
       "\t 3              & 6              & avg\\_ArrDelay &  8.429        \\\\\n",
       "\t 3              & 7              & avg\\_ArrDelay &  6.940        \\\\\n",
       "\t 4              & 1              & avg\\_ArrDelay & 26.040        \\\\\n",
       "\t 4              & 2              & avg\\_ArrDelay &  5.427        \\\\\n",
       "\t 4              & 3              & avg\\_ArrDelay &  6.863        \\\\\n",
       "\t 4              & 4              & avg\\_ArrDelay & 11.673        \\\\\n",
       "\t 4              & 5              & avg\\_ArrDelay & 12.638        \\\\\n",
       "\t 4              & 6              & avg\\_ArrDelay &  6.364        \\\\\n",
       "\t 4              & 7              & avg\\_ArrDelay &  9.801        \\\\\n",
       "\t 5              & 1              & avg\\_ArrDelay &  8.964        \\\\\n",
       "\t 5              & 2              & avg\\_ArrDelay &  3.973        \\\\\n",
       "\t ... & ... & ... & ...\\\\\n",
       "\t  8            & 6             & avg\\_DepDely &  5.132       \\\\\n",
       "\t  8            & 7             & avg\\_DepDely &  8.257       \\\\\n",
       "\t  9            & 1             & avg\\_DepDely &  4.169       \\\\\n",
       "\t  9            & 2             & avg\\_DepDely &  2.014       \\\\\n",
       "\t  9            & 3             & avg\\_DepDely &  1.544       \\\\\n",
       "\t  9            & 4             & avg\\_DepDely & 10.190       \\\\\n",
       "\t  9            & 5             & avg\\_DepDely &  7.958       \\\\\n",
       "\t  9            & 6             & avg\\_DepDely &  2.016       \\\\\n",
       "\t  9            & 7             & avg\\_DepDely &  6.476       \\\\\n",
       "\t 10            & 1             & avg\\_DepDely & 10.277       \\\\\n",
       "\t 10            & 2             & avg\\_DepDely & -1.489       \\\\\n",
       "\t 10            & 3             & avg\\_DepDely & -0.207       \\\\\n",
       "\t 10            & 4             & avg\\_DepDely &  2.110       \\\\\n",
       "\t 10            & 5             & avg\\_DepDely &  5.586       \\\\\n",
       "\t 10            & 6             & avg\\_DepDely &  0.968       \\\\\n",
       "\t 10            & 7             & avg\\_DepDely & 21.633       \\\\\n",
       "\t 11            & 1             & avg\\_DepDely &  4.733       \\\\\n",
       "\t 11            & 2             & avg\\_DepDely & 20.156       \\\\\n",
       "\t 11            & 3             & avg\\_DepDely &  1.342       \\\\\n",
       "\t 11            & 4             & avg\\_DepDely &  2.908       \\\\\n",
       "\t 11            & 5             & avg\\_DepDely & -0.408       \\\\\n",
       "\t 11            & 6             & avg\\_DepDely &  4.609       \\\\\n",
       "\t 11            & 7             & avg\\_DepDely &  5.396       \\\\\n",
       "\t 12            & 1             & avg\\_DepDely &  9.219       \\\\\n",
       "\t 12            & 2             & avg\\_DepDely &  5.951       \\\\\n",
       "\t 12            & 3             & avg\\_DepDely &  5.111       \\\\\n",
       "\t 12            & 4             & avg\\_DepDely & 23.306       \\\\\n",
       "\t 12            & 5             & avg\\_DepDely & 10.451       \\\\\n",
       "\t 12            & 6             & avg\\_DepDely & 31.474       \\\\\n",
       "\t 12            & 7             & avg\\_DepDely & 10.602       \\\\\n",
       "\\end{tabular}\n"
      ],
      "text/markdown": [
       "\n",
       "Month | DayOfWeek | variable | value | \n",
       "|---|---|---|---|---|---|---|---|---|---|---|---|---|---|---|---|---|---|---|---|---|---|---|---|---|---|---|---|---|---|---|---|---|---|---|---|---|---|---|---|---|---|---|---|---|---|---|---|---|---|---|---|---|---|---|---|---|---|---|---|---|\n",
       "| 1            | 1            | avg_ArrDelay |  7.299       | \n",
       "| 1            | 2            | avg_ArrDelay |  3.067       | \n",
       "| 1            | 3            | avg_ArrDelay | -2.655       | \n",
       "| 1            | 4            | avg_ArrDelay |  5.711       | \n",
       "| 1            | 5            | avg_ArrDelay |  0.005       | \n",
       "| 1            | 6            | avg_ArrDelay |  2.191       | \n",
       "| 1            | 7            | avg_ArrDelay |  6.739       | \n",
       "| 2            | 1            | avg_ArrDelay |  4.968       | \n",
       "| 2            | 2            | avg_ArrDelay |  4.352       | \n",
       "| 2            | 3            | avg_ArrDelay |  6.612       | \n",
       "| 2            | 4            | avg_ArrDelay |  2.538       | \n",
       "| 2            | 5            | avg_ArrDelay |  7.708       | \n",
       "| 2            | 6            | avg_ArrDelay |  7.805       | \n",
       "| 2            | 7            | avg_ArrDelay |  3.500       | \n",
       "| 3            | 1            | avg_ArrDelay | 18.661       | \n",
       "| 3            | 2            | avg_ArrDelay |  0.988       | \n",
       "| 3            | 3            | avg_ArrDelay |  2.456       | \n",
       "| 3            | 4            | avg_ArrDelay | 14.192       | \n",
       "| 3            | 5            | avg_ArrDelay |  3.765       | \n",
       "| 3            | 6            | avg_ArrDelay |  8.429       | \n",
       "| 3            | 7            | avg_ArrDelay |  6.940       | \n",
       "| 4            | 1            | avg_ArrDelay | 26.040       | \n",
       "| 4            | 2            | avg_ArrDelay |  5.427       | \n",
       "| 4            | 3            | avg_ArrDelay |  6.863       | \n",
       "| 4            | 4            | avg_ArrDelay | 11.673       | \n",
       "| 4            | 5            | avg_ArrDelay | 12.638       | \n",
       "| 4            | 6            | avg_ArrDelay |  6.364       | \n",
       "| 4            | 7            | avg_ArrDelay |  9.801       | \n",
       "| 5            | 1            | avg_ArrDelay |  8.964       | \n",
       "| 5            | 2            | avg_ArrDelay |  3.973       | \n",
       "| ... | ... | ... | ... | \n",
       "|  8          | 6           | avg_DepDely |  5.132      | \n",
       "|  8          | 7           | avg_DepDely |  8.257      | \n",
       "|  9          | 1           | avg_DepDely |  4.169      | \n",
       "|  9          | 2           | avg_DepDely |  2.014      | \n",
       "|  9          | 3           | avg_DepDely |  1.544      | \n",
       "|  9          | 4           | avg_DepDely | 10.190      | \n",
       "|  9          | 5           | avg_DepDely |  7.958      | \n",
       "|  9          | 6           | avg_DepDely |  2.016      | \n",
       "|  9          | 7           | avg_DepDely |  6.476      | \n",
       "| 10          | 1           | avg_DepDely | 10.277      | \n",
       "| 10          | 2           | avg_DepDely | -1.489      | \n",
       "| 10          | 3           | avg_DepDely | -0.207      | \n",
       "| 10          | 4           | avg_DepDely |  2.110      | \n",
       "| 10          | 5           | avg_DepDely |  5.586      | \n",
       "| 10          | 6           | avg_DepDely |  0.968      | \n",
       "| 10          | 7           | avg_DepDely | 21.633      | \n",
       "| 11          | 1           | avg_DepDely |  4.733      | \n",
       "| 11          | 2           | avg_DepDely | 20.156      | \n",
       "| 11          | 3           | avg_DepDely |  1.342      | \n",
       "| 11          | 4           | avg_DepDely |  2.908      | \n",
       "| 11          | 5           | avg_DepDely | -0.408      | \n",
       "| 11          | 6           | avg_DepDely |  4.609      | \n",
       "| 11          | 7           | avg_DepDely |  5.396      | \n",
       "| 12          | 1           | avg_DepDely |  9.219      | \n",
       "| 12          | 2           | avg_DepDely |  5.951      | \n",
       "| 12          | 3           | avg_DepDely |  5.111      | \n",
       "| 12          | 4           | avg_DepDely | 23.306      | \n",
       "| 12          | 5           | avg_DepDely | 10.451      | \n",
       "| 12          | 6           | avg_DepDely | 31.474      | \n",
       "| 12          | 7           | avg_DepDely | 10.602      | \n",
       "\n",
       "\n"
      ],
      "text/plain": [
       "    Month DayOfWeek variable     value \n",
       "1   1     1         avg_ArrDelay  7.299\n",
       "2   1     2         avg_ArrDelay  3.067\n",
       "3   1     3         avg_ArrDelay -2.655\n",
       "4   1     4         avg_ArrDelay  5.711\n",
       "5   1     5         avg_ArrDelay  0.005\n",
       "6   1     6         avg_ArrDelay  2.191\n",
       "7   1     7         avg_ArrDelay  6.739\n",
       "8   2     1         avg_ArrDelay  4.968\n",
       "9   2     2         avg_ArrDelay  4.352\n",
       "10  2     3         avg_ArrDelay  6.612\n",
       "11  2     4         avg_ArrDelay  2.538\n",
       "12  2     5         avg_ArrDelay  7.708\n",
       "13  2     6         avg_ArrDelay  7.805\n",
       "14  2     7         avg_ArrDelay  3.500\n",
       "15  3     1         avg_ArrDelay 18.661\n",
       "16  3     2         avg_ArrDelay  0.988\n",
       "17  3     3         avg_ArrDelay  2.456\n",
       "18  3     4         avg_ArrDelay 14.192\n",
       "19  3     5         avg_ArrDelay  3.765\n",
       "20  3     6         avg_ArrDelay  8.429\n",
       "21  3     7         avg_ArrDelay  6.940\n",
       "22  4     1         avg_ArrDelay 26.040\n",
       "23  4     2         avg_ArrDelay  5.427\n",
       "24  4     3         avg_ArrDelay  6.863\n",
       "25  4     4         avg_ArrDelay 11.673\n",
       "26  4     5         avg_ArrDelay 12.638\n",
       "27  4     6         avg_ArrDelay  6.364\n",
       "28  4     7         avg_ArrDelay  9.801\n",
       "29  5     1         avg_ArrDelay  8.964\n",
       "30  5     2         avg_ArrDelay  3.973\n",
       "... ...   ...       ...          ...   \n",
       "139  8    6         avg_DepDely   5.132\n",
       "140  8    7         avg_DepDely   8.257\n",
       "141  9    1         avg_DepDely   4.169\n",
       "142  9    2         avg_DepDely   2.014\n",
       "143  9    3         avg_DepDely   1.544\n",
       "144  9    4         avg_DepDely  10.190\n",
       "145  9    5         avg_DepDely   7.958\n",
       "146  9    6         avg_DepDely   2.016\n",
       "147  9    7         avg_DepDely   6.476\n",
       "148 10    1         avg_DepDely  10.277\n",
       "149 10    2         avg_DepDely  -1.489\n",
       "150 10    3         avg_DepDely  -0.207\n",
       "151 10    4         avg_DepDely   2.110\n",
       "152 10    5         avg_DepDely   5.586\n",
       "153 10    6         avg_DepDely   0.968\n",
       "154 10    7         avg_DepDely  21.633\n",
       "155 11    1         avg_DepDely   4.733\n",
       "156 11    2         avg_DepDely  20.156\n",
       "157 11    3         avg_DepDely   1.342\n",
       "158 11    4         avg_DepDely   2.908\n",
       "159 11    5         avg_DepDely  -0.408\n",
       "160 11    6         avg_DepDely   4.609\n",
       "161 11    7         avg_DepDely   5.396\n",
       "162 12    1         avg_DepDely   9.219\n",
       "163 12    2         avg_DepDely   5.951\n",
       "164 12    3         avg_DepDely   5.111\n",
       "165 12    4         avg_DepDely  23.306\n",
       "166 12    5         avg_DepDely  10.451\n",
       "167 12    6         avg_DepDely  31.474\n",
       "168 12    7         avg_DepDely  10.602"
      ]
     },
     "metadata": {},
     "output_type": "display_data"
    }
   ],
   "source": [
    "melt(flights.test.3, id=c(\"Month\", \"DayOfWeek\"))"
   ]
  },
  {
   "cell_type": "code",
   "execution_count": 157,
   "metadata": {},
   "outputs": [],
   "source": [
    "melt.tmp <- melt(flights.test.3, id=1:2, na.rm=T)\n"
   ]
  },
  {
   "cell_type": "code",
   "execution_count": 155,
   "metadata": {},
   "outputs": [
    {
     "data": {
      "text/html": [
       "<table>\n",
       "<thead><tr><th scope=col>Month</th><th scope=col>DayOfWeek</th><th scope=col>avg_ArrDelay</th><th scope=col>avg_DepDely</th></tr></thead>\n",
       "<tbody>\n",
       "\t<tr><td>1     </td><td>1     </td><td> 7.299</td><td> 7.822</td></tr>\n",
       "\t<tr><td>1     </td><td>2     </td><td> 3.067</td><td> 2.417</td></tr>\n",
       "\t<tr><td>1     </td><td>3     </td><td>-2.655</td><td>-0.426</td></tr>\n",
       "\t<tr><td>1     </td><td>4     </td><td> 5.711</td><td> 4.086</td></tr>\n",
       "\t<tr><td>1     </td><td>5     </td><td> 0.005</td><td> 1.050</td></tr>\n",
       "\t<tr><td>1     </td><td>6     </td><td> 2.191</td><td> 1.280</td></tr>\n",
       "\t<tr><td>1     </td><td>7     </td><td> 6.739</td><td> 7.622</td></tr>\n",
       "\t<tr><td>2     </td><td>1     </td><td> 4.968</td><td> 2.906</td></tr>\n",
       "\t<tr><td>2     </td><td>2     </td><td> 4.352</td><td> 5.769</td></tr>\n",
       "\t<tr><td>2     </td><td>3     </td><td> 6.612</td><td> 6.223</td></tr>\n",
       "\t<tr><td>2     </td><td>4     </td><td> 2.538</td><td> 4.832</td></tr>\n",
       "\t<tr><td>2     </td><td>5     </td><td> 7.708</td><td> 7.502</td></tr>\n",
       "\t<tr><td>2     </td><td>6     </td><td> 7.805</td><td> 6.334</td></tr>\n",
       "\t<tr><td>2     </td><td>7     </td><td> 3.500</td><td> 4.432</td></tr>\n",
       "\t<tr><td>3     </td><td>1     </td><td>18.661</td><td>16.721</td></tr>\n",
       "\t<tr><td>3     </td><td>2     </td><td> 0.988</td><td> 2.802</td></tr>\n",
       "\t<tr><td>3     </td><td>3     </td><td> 2.456</td><td> 2.652</td></tr>\n",
       "\t<tr><td>3     </td><td>4     </td><td>14.192</td><td>13.093</td></tr>\n",
       "\t<tr><td>3     </td><td>5     </td><td> 3.765</td><td> 4.698</td></tr>\n",
       "\t<tr><td>3     </td><td>6     </td><td> 8.429</td><td> 3.851</td></tr>\n",
       "\t<tr><td>3     </td><td>7     </td><td> 6.940</td><td> 7.291</td></tr>\n",
       "\t<tr><td>4     </td><td>1     </td><td>26.040</td><td>16.182</td></tr>\n",
       "\t<tr><td>4     </td><td>2     </td><td> 5.427</td><td> 2.389</td></tr>\n",
       "\t<tr><td>4     </td><td>3     </td><td> 6.863</td><td> 4.123</td></tr>\n",
       "\t<tr><td>4     </td><td>4     </td><td>11.673</td><td>11.245</td></tr>\n",
       "\t<tr><td>4     </td><td>5     </td><td>12.638</td><td> 9.990</td></tr>\n",
       "\t<tr><td>4     </td><td>6     </td><td> 6.364</td><td> 1.959</td></tr>\n",
       "\t<tr><td>4     </td><td>7     </td><td> 9.801</td><td> 7.910</td></tr>\n",
       "\t<tr><td>5     </td><td>1     </td><td> 8.964</td><td> 5.633</td></tr>\n",
       "\t<tr><td>5     </td><td>2     </td><td> 3.973</td><td> 1.638</td></tr>\n",
       "\t<tr><td>...</td><td>...</td><td>...</td><td>...</td></tr>\n",
       "\t<tr><td> 8    </td><td>6     </td><td> 7.052</td><td> 5.132</td></tr>\n",
       "\t<tr><td> 8    </td><td>7     </td><td> 9.009</td><td> 8.257</td></tr>\n",
       "\t<tr><td> 9    </td><td>1     </td><td> 3.890</td><td> 4.169</td></tr>\n",
       "\t<tr><td> 9    </td><td>2     </td><td> 1.249</td><td> 2.014</td></tr>\n",
       "\t<tr><td> 9    </td><td>3     </td><td> 0.913</td><td> 1.544</td></tr>\n",
       "\t<tr><td> 9    </td><td>4     </td><td>10.434</td><td>10.190</td></tr>\n",
       "\t<tr><td> 9    </td><td>5     </td><td> 6.344</td><td> 7.958</td></tr>\n",
       "\t<tr><td> 9    </td><td>6     </td><td> 7.171</td><td> 2.016</td></tr>\n",
       "\t<tr><td> 9    </td><td>7     </td><td> 8.049</td><td> 6.476</td></tr>\n",
       "\t<tr><td>10    </td><td>1     </td><td> 8.370</td><td>10.277</td></tr>\n",
       "\t<tr><td>10    </td><td>2     </td><td>-2.992</td><td>-1.489</td></tr>\n",
       "\t<tr><td>10    </td><td>3     </td><td>-0.881</td><td>-0.207</td></tr>\n",
       "\t<tr><td>10    </td><td>4     </td><td> 0.804</td><td> 2.110</td></tr>\n",
       "\t<tr><td>10    </td><td>5     </td><td> 4.462</td><td> 5.586</td></tr>\n",
       "\t<tr><td>10    </td><td>6     </td><td>-1.512</td><td> 0.968</td></tr>\n",
       "\t<tr><td>10    </td><td>7     </td><td>21.059</td><td>21.633</td></tr>\n",
       "\t<tr><td>11    </td><td>1     </td><td> 2.581</td><td> 4.733</td></tr>\n",
       "\t<tr><td>11    </td><td>2     </td><td>25.440</td><td>20.156</td></tr>\n",
       "\t<tr><td>11    </td><td>3     </td><td>-0.835</td><td> 1.342</td></tr>\n",
       "\t<tr><td>11    </td><td>4     </td><td> 0.895</td><td> 2.908</td></tr>\n",
       "\t<tr><td>11    </td><td>5     </td><td>-3.173</td><td>-0.408</td></tr>\n",
       "\t<tr><td>11    </td><td>6     </td><td> 3.867</td><td> 4.609</td></tr>\n",
       "\t<tr><td>11    </td><td>7     </td><td> 2.760</td><td> 5.396</td></tr>\n",
       "\t<tr><td>12    </td><td>1     </td><td> 6.804</td><td> 9.219</td></tr>\n",
       "\t<tr><td>12    </td><td>2     </td><td> 4.891</td><td> 5.951</td></tr>\n",
       "\t<tr><td>12    </td><td>3     </td><td> 2.099</td><td> 5.111</td></tr>\n",
       "\t<tr><td>12    </td><td>4     </td><td>19.901</td><td>23.306</td></tr>\n",
       "\t<tr><td>12    </td><td>5     </td><td> 9.524</td><td>10.451</td></tr>\n",
       "\t<tr><td>12    </td><td>6     </td><td>26.699</td><td>31.474</td></tr>\n",
       "\t<tr><td>12    </td><td>7     </td><td> 7.654</td><td>10.602</td></tr>\n",
       "</tbody>\n",
       "</table>\n"
      ],
      "text/latex": [
       "\\begin{tabular}{r|llll}\n",
       " Month & DayOfWeek & avg\\_ArrDelay & avg\\_DepDely\\\\\n",
       "\\hline\n",
       "\t 1      & 1      &  7.299 &  7.822\\\\\n",
       "\t 1      & 2      &  3.067 &  2.417\\\\\n",
       "\t 1      & 3      & -2.655 & -0.426\\\\\n",
       "\t 1      & 4      &  5.711 &  4.086\\\\\n",
       "\t 1      & 5      &  0.005 &  1.050\\\\\n",
       "\t 1      & 6      &  2.191 &  1.280\\\\\n",
       "\t 1      & 7      &  6.739 &  7.622\\\\\n",
       "\t 2      & 1      &  4.968 &  2.906\\\\\n",
       "\t 2      & 2      &  4.352 &  5.769\\\\\n",
       "\t 2      & 3      &  6.612 &  6.223\\\\\n",
       "\t 2      & 4      &  2.538 &  4.832\\\\\n",
       "\t 2      & 5      &  7.708 &  7.502\\\\\n",
       "\t 2      & 6      &  7.805 &  6.334\\\\\n",
       "\t 2      & 7      &  3.500 &  4.432\\\\\n",
       "\t 3      & 1      & 18.661 & 16.721\\\\\n",
       "\t 3      & 2      &  0.988 &  2.802\\\\\n",
       "\t 3      & 3      &  2.456 &  2.652\\\\\n",
       "\t 3      & 4      & 14.192 & 13.093\\\\\n",
       "\t 3      & 5      &  3.765 &  4.698\\\\\n",
       "\t 3      & 6      &  8.429 &  3.851\\\\\n",
       "\t 3      & 7      &  6.940 &  7.291\\\\\n",
       "\t 4      & 1      & 26.040 & 16.182\\\\\n",
       "\t 4      & 2      &  5.427 &  2.389\\\\\n",
       "\t 4      & 3      &  6.863 &  4.123\\\\\n",
       "\t 4      & 4      & 11.673 & 11.245\\\\\n",
       "\t 4      & 5      & 12.638 &  9.990\\\\\n",
       "\t 4      & 6      &  6.364 &  1.959\\\\\n",
       "\t 4      & 7      &  9.801 &  7.910\\\\\n",
       "\t 5      & 1      &  8.964 &  5.633\\\\\n",
       "\t 5      & 2      &  3.973 &  1.638\\\\\n",
       "\t ... & ... & ... & ...\\\\\n",
       "\t  8     & 6      &  7.052 &  5.132\\\\\n",
       "\t  8     & 7      &  9.009 &  8.257\\\\\n",
       "\t  9     & 1      &  3.890 &  4.169\\\\\n",
       "\t  9     & 2      &  1.249 &  2.014\\\\\n",
       "\t  9     & 3      &  0.913 &  1.544\\\\\n",
       "\t  9     & 4      & 10.434 & 10.190\\\\\n",
       "\t  9     & 5      &  6.344 &  7.958\\\\\n",
       "\t  9     & 6      &  7.171 &  2.016\\\\\n",
       "\t  9     & 7      &  8.049 &  6.476\\\\\n",
       "\t 10     & 1      &  8.370 & 10.277\\\\\n",
       "\t 10     & 2      & -2.992 & -1.489\\\\\n",
       "\t 10     & 3      & -0.881 & -0.207\\\\\n",
       "\t 10     & 4      &  0.804 &  2.110\\\\\n",
       "\t 10     & 5      &  4.462 &  5.586\\\\\n",
       "\t 10     & 6      & -1.512 &  0.968\\\\\n",
       "\t 10     & 7      & 21.059 & 21.633\\\\\n",
       "\t 11     & 1      &  2.581 &  4.733\\\\\n",
       "\t 11     & 2      & 25.440 & 20.156\\\\\n",
       "\t 11     & 3      & -0.835 &  1.342\\\\\n",
       "\t 11     & 4      &  0.895 &  2.908\\\\\n",
       "\t 11     & 5      & -3.173 & -0.408\\\\\n",
       "\t 11     & 6      &  3.867 &  4.609\\\\\n",
       "\t 11     & 7      &  2.760 &  5.396\\\\\n",
       "\t 12     & 1      &  6.804 &  9.219\\\\\n",
       "\t 12     & 2      &  4.891 &  5.951\\\\\n",
       "\t 12     & 3      &  2.099 &  5.111\\\\\n",
       "\t 12     & 4      & 19.901 & 23.306\\\\\n",
       "\t 12     & 5      &  9.524 & 10.451\\\\\n",
       "\t 12     & 6      & 26.699 & 31.474\\\\\n",
       "\t 12     & 7      &  7.654 & 10.602\\\\\n",
       "\\end{tabular}\n"
      ],
      "text/markdown": [
       "\n",
       "Month | DayOfWeek | avg_ArrDelay | avg_DepDely | \n",
       "|---|---|---|---|---|---|---|---|---|---|---|---|---|---|---|---|---|---|---|---|---|---|---|---|---|---|---|---|---|---|---|---|---|---|---|---|---|---|---|---|---|---|---|---|---|---|---|---|---|---|---|---|---|---|---|---|---|---|---|---|---|\n",
       "| 1      | 1      |  7.299 |  7.822 | \n",
       "| 1      | 2      |  3.067 |  2.417 | \n",
       "| 1      | 3      | -2.655 | -0.426 | \n",
       "| 1      | 4      |  5.711 |  4.086 | \n",
       "| 1      | 5      |  0.005 |  1.050 | \n",
       "| 1      | 6      |  2.191 |  1.280 | \n",
       "| 1      | 7      |  6.739 |  7.622 | \n",
       "| 2      | 1      |  4.968 |  2.906 | \n",
       "| 2      | 2      |  4.352 |  5.769 | \n",
       "| 2      | 3      |  6.612 |  6.223 | \n",
       "| 2      | 4      |  2.538 |  4.832 | \n",
       "| 2      | 5      |  7.708 |  7.502 | \n",
       "| 2      | 6      |  7.805 |  6.334 | \n",
       "| 2      | 7      |  3.500 |  4.432 | \n",
       "| 3      | 1      | 18.661 | 16.721 | \n",
       "| 3      | 2      |  0.988 |  2.802 | \n",
       "| 3      | 3      |  2.456 |  2.652 | \n",
       "| 3      | 4      | 14.192 | 13.093 | \n",
       "| 3      | 5      |  3.765 |  4.698 | \n",
       "| 3      | 6      |  8.429 |  3.851 | \n",
       "| 3      | 7      |  6.940 |  7.291 | \n",
       "| 4      | 1      | 26.040 | 16.182 | \n",
       "| 4      | 2      |  5.427 |  2.389 | \n",
       "| 4      | 3      |  6.863 |  4.123 | \n",
       "| 4      | 4      | 11.673 | 11.245 | \n",
       "| 4      | 5      | 12.638 |  9.990 | \n",
       "| 4      | 6      |  6.364 |  1.959 | \n",
       "| 4      | 7      |  9.801 |  7.910 | \n",
       "| 5      | 1      |  8.964 |  5.633 | \n",
       "| 5      | 2      |  3.973 |  1.638 | \n",
       "| ... | ... | ... | ... | \n",
       "|  8     | 6      |  7.052 |  5.132 | \n",
       "|  8     | 7      |  9.009 |  8.257 | \n",
       "|  9     | 1      |  3.890 |  4.169 | \n",
       "|  9     | 2      |  1.249 |  2.014 | \n",
       "|  9     | 3      |  0.913 |  1.544 | \n",
       "|  9     | 4      | 10.434 | 10.190 | \n",
       "|  9     | 5      |  6.344 |  7.958 | \n",
       "|  9     | 6      |  7.171 |  2.016 | \n",
       "|  9     | 7      |  8.049 |  6.476 | \n",
       "| 10     | 1      |  8.370 | 10.277 | \n",
       "| 10     | 2      | -2.992 | -1.489 | \n",
       "| 10     | 3      | -0.881 | -0.207 | \n",
       "| 10     | 4      |  0.804 |  2.110 | \n",
       "| 10     | 5      |  4.462 |  5.586 | \n",
       "| 10     | 6      | -1.512 |  0.968 | \n",
       "| 10     | 7      | 21.059 | 21.633 | \n",
       "| 11     | 1      |  2.581 |  4.733 | \n",
       "| 11     | 2      | 25.440 | 20.156 | \n",
       "| 11     | 3      | -0.835 |  1.342 | \n",
       "| 11     | 4      |  0.895 |  2.908 | \n",
       "| 11     | 5      | -3.173 | -0.408 | \n",
       "| 11     | 6      |  3.867 |  4.609 | \n",
       "| 11     | 7      |  2.760 |  5.396 | \n",
       "| 12     | 1      |  6.804 |  9.219 | \n",
       "| 12     | 2      |  4.891 |  5.951 | \n",
       "| 12     | 3      |  2.099 |  5.111 | \n",
       "| 12     | 4      | 19.901 | 23.306 | \n",
       "| 12     | 5      |  9.524 | 10.451 | \n",
       "| 12     | 6      | 26.699 | 31.474 | \n",
       "| 12     | 7      |  7.654 | 10.602 | \n",
       "\n",
       "\n"
      ],
      "text/plain": [
       "    Month DayOfWeek avg_ArrDelay avg_DepDely\n",
       "1   1     1          7.299        7.822     \n",
       "2   1     2          3.067        2.417     \n",
       "3   1     3         -2.655       -0.426     \n",
       "4   1     4          5.711        4.086     \n",
       "5   1     5          0.005        1.050     \n",
       "6   1     6          2.191        1.280     \n",
       "7   1     7          6.739        7.622     \n",
       "8   2     1          4.968        2.906     \n",
       "9   2     2          4.352        5.769     \n",
       "10  2     3          6.612        6.223     \n",
       "11  2     4          2.538        4.832     \n",
       "12  2     5          7.708        7.502     \n",
       "13  2     6          7.805        6.334     \n",
       "14  2     7          3.500        4.432     \n",
       "15  3     1         18.661       16.721     \n",
       "16  3     2          0.988        2.802     \n",
       "17  3     3          2.456        2.652     \n",
       "18  3     4         14.192       13.093     \n",
       "19  3     5          3.765        4.698     \n",
       "20  3     6          8.429        3.851     \n",
       "21  3     7          6.940        7.291     \n",
       "22  4     1         26.040       16.182     \n",
       "23  4     2          5.427        2.389     \n",
       "24  4     3          6.863        4.123     \n",
       "25  4     4         11.673       11.245     \n",
       "26  4     5         12.638        9.990     \n",
       "27  4     6          6.364        1.959     \n",
       "28  4     7          9.801        7.910     \n",
       "29  5     1          8.964        5.633     \n",
       "30  5     2          3.973        1.638     \n",
       "... ...   ...       ...          ...        \n",
       "55   8    6          7.052        5.132     \n",
       "56   8    7          9.009        8.257     \n",
       "57   9    1          3.890        4.169     \n",
       "58   9    2          1.249        2.014     \n",
       "59   9    3          0.913        1.544     \n",
       "60   9    4         10.434       10.190     \n",
       "61   9    5          6.344        7.958     \n",
       "62   9    6          7.171        2.016     \n",
       "63   9    7          8.049        6.476     \n",
       "64  10    1          8.370       10.277     \n",
       "65  10    2         -2.992       -1.489     \n",
       "66  10    3         -0.881       -0.207     \n",
       "67  10    4          0.804        2.110     \n",
       "68  10    5          4.462        5.586     \n",
       "69  10    6         -1.512        0.968     \n",
       "70  10    7         21.059       21.633     \n",
       "71  11    1          2.581        4.733     \n",
       "72  11    2         25.440       20.156     \n",
       "73  11    3         -0.835        1.342     \n",
       "74  11    4          0.895        2.908     \n",
       "75  11    5         -3.173       -0.408     \n",
       "76  11    6          3.867        4.609     \n",
       "77  11    7          2.760        5.396     \n",
       "78  12    1          6.804        9.219     \n",
       "79  12    2          4.891        5.951     \n",
       "80  12    3          2.099        5.111     \n",
       "81  12    4         19.901       23.306     \n",
       "82  12    5          9.524       10.451     \n",
       "83  12    6         26.699       31.474     \n",
       "84  12    7          7.654       10.602     "
      ]
     },
     "metadata": {},
     "output_type": "display_data"
    }
   ],
   "source": [
    "dcast(melt.tmp, Month+DayOfWeek ~ variable)"
   ]
  },
  {
   "cell_type": "code",
   "execution_count": 168,
   "metadata": {},
   "outputs": [
    {
     "data": {},
     "metadata": {},
     "output_type": "display_data"
    },
    {
     "data": {
      "image/png": "[encoded data removed]",
      "text/plain": [
       "plot without title"
      ]
     },
     "metadata": {},
     "output_type": "display_data"
    }
   ],
   "source": [
    "ggplot(melt.tmp, aes(x=DayOfWeek, y=value, group=variable, shape=variable, color=variable)) + geom_line() + geom_point()+ \n",
    "facet_wrap(~Month, nrow=2)"
   ]
  },
  {
   "cell_type": "code",
   "execution_count": 164,
   "metadata": {},
   "outputs": [
    {
     "data": {
      "text/html": [
       "<ol class=list-inline>\n",
       "\t<li>'.GlobalEnv'</li>\n",
       "\t<li>'package:bindrcpp'</li>\n",
       "\t<li>'package:reshape2'</li>\n",
       "\t<li>'package:ggplot2'</li>\n",
       "\t<li>'package:dplyr'</li>\n",
       "\t<li>'jupyter:irkernel'</li>\n",
       "\t<li>'package:RevoUtils'</li>\n",
       "\t<li>'package:stats'</li>\n",
       "\t<li>'package:graphics'</li>\n",
       "\t<li>'package:grDevices'</li>\n",
       "\t<li>'package:utils'</li>\n",
       "\t<li>'package:datasets'</li>\n",
       "\t<li>'package:methods'</li>\n",
       "\t<li>'Autoloads'</li>\n",
       "\t<li>'package:base'</li>\n",
       "</ol>\n"
      ],
      "text/latex": [
       "\\begin{enumerate*}\n",
       "\\item '.GlobalEnv'\n",
       "\\item 'package:bindrcpp'\n",
       "\\item 'package:reshape2'\n",
       "\\item 'package:ggplot2'\n",
       "\\item 'package:dplyr'\n",
       "\\item 'jupyter:irkernel'\n",
       "\\item 'package:RevoUtils'\n",
       "\\item 'package:stats'\n",
       "\\item 'package:graphics'\n",
       "\\item 'package:grDevices'\n",
       "\\item 'package:utils'\n",
       "\\item 'package:datasets'\n",
       "\\item 'package:methods'\n",
       "\\item 'Autoloads'\n",
       "\\item 'package:base'\n",
       "\\end{enumerate*}\n"
      ],
      "text/markdown": [
       "1. '.GlobalEnv'\n",
       "2. 'package:bindrcpp'\n",
       "3. 'package:reshape2'\n",
       "4. 'package:ggplot2'\n",
       "5. 'package:dplyr'\n",
       "6. 'jupyter:irkernel'\n",
       "7. 'package:RevoUtils'\n",
       "8. 'package:stats'\n",
       "9. 'package:graphics'\n",
       "10. 'package:grDevices'\n",
       "11. 'package:utils'\n",
       "12. 'package:datasets'\n",
       "13. 'package:methods'\n",
       "14. 'Autoloads'\n",
       "15. 'package:base'\n",
       "\n",
       "\n"
      ],
      "text/plain": [
       " [1] \".GlobalEnv\"        \"package:bindrcpp\"  \"package:reshape2\" \n",
       " [4] \"package:ggplot2\"   \"package:dplyr\"     \"jupyter:irkernel\" \n",
       " [7] \"package:RevoUtils\" \"package:stats\"     \"package:graphics\" \n",
       "[10] \"package:grDevices\" \"package:utils\"     \"package:datasets\" \n",
       "[13] \"package:methods\"   \"Autoloads\"         \"package:base\"     "
      ]
     },
     "metadata": {},
     "output_type": "display_data"
    }
   ],
   "source": [
    "search()"
   ]
  },
  {
   "cell_type": "code",
   "execution_count": 169,
   "metadata": {},
   "outputs": [
    {
     "data": {
      "text/html": [
       "'C:/Users/Playdata/lab/temp'"
      ],
      "text/latex": [
       "'C:/Users/Playdata/lab/temp'"
      ],
      "text/markdown": [
       "'C:/Users/Playdata/lab/temp'"
      ],
      "text/plain": [
       "[1] \"C:/Users/Playdata/lab/temp\""
      ]
     },
     "metadata": {},
     "output_type": "display_data"
    }
   ],
   "source": [
    "getwd()"
   ]
  },
  {
   "cell_type": "code",
   "execution_count": null,
   "metadata": {},
   "outputs": [],
   "source": []
  }
 ],
 "metadata": {
  "kernelspec": {
   "display_name": "R",
   "language": "R",
   "name": "ir"
  },
  "language_info": {
   "codemirror_mode": "r",
   "file_extension": ".r",
   "mimetype": "text/x-r-source",
   "name": "R",
   "pygments_lexer": "r",
   "version": "3.4.3"
  }
 },
 "nbformat": 4,
 "nbformat_minor": 2
}
